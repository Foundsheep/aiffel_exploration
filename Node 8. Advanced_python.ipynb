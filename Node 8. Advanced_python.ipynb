{
 "cells": [
  {
   "cell_type": "markdown",
   "id": "adult-balance",
   "metadata": {},
   "source": [
    "## 8-3. 파이썬을 더 잘 사용해보자! (1) for문 잘 사용하기\n"
   ]
  },
  {
   "cell_type": "markdown",
   "id": "acknowledged-jason",
   "metadata": {},
   "source": [
    "#### for문 잘 써보기 - enumerate()와 이중 for문\n"
   ]
  },
  {
   "cell_type": "code",
   "execution_count": 20,
   "id": "fifty-product",
   "metadata": {},
   "outputs": [
    {
     "name": "stdout",
     "output_type": "stream",
     "text": [
      "순번 :  0  , 값 :  a\n",
      "순번 :  1  , 값 :  b\n",
      "순번 :  2  , 값 :  c\n",
      "순번 :  3  , 값 :  d\n"
     ]
    }
   ],
   "source": [
    "# enumerate() 사용하기. index와 값을 같이 반환해줌\n",
    "\n",
    "my_list = ['a','b','c','d']\n",
    "\n",
    "for i, value in enumerate(my_list):\n",
    "    print(\"순번 : \", i, \" , 값 : \", value)"
   ]
  },
  {
   "cell_type": "markdown",
   "id": "behavioral-storm",
   "metadata": {},
   "source": [
    "#### 리스트 컴프리헨션(list Comprehension)\n"
   ]
  },
  {
   "cell_type": "code",
   "execution_count": 21,
   "id": "former-cache",
   "metadata": {},
   "outputs": [
    {
     "name": "stdout",
     "output_type": "stream",
     "text": [
      "[(0, 'a'), (0, 'b'), (0, 'c'), (0, 'd'), (1, 'a'), (1, 'b'), (1, 'c'), (1, 'd')]\n"
     ]
    }
   ],
   "source": [
    "my_list = ['a','b','c','d']\n",
    "\n",
    "result_list = [(i, j) for i in range(2) for j in my_list] # 뒤에 있는 for loop이 안쪽꺼\n",
    "\n",
    "print(result_list)"
   ]
  },
  {
   "cell_type": "code",
   "execution_count": 22,
   "id": "loved-closer",
   "metadata": {},
   "outputs": [
    {
     "name": "stdout",
     "output_type": "stream",
     "text": [
      "0 a\n",
      "0 b\n",
      "0 c\n",
      "0 d\n",
      "1 a\n",
      "1 b\n",
      "1 c\n",
      "1 d\n"
     ]
    },
    {
     "data": {
      "text/plain": [
       "[None, None, None, None, None, None, None, None]"
      ]
     },
     "execution_count": 22,
     "metadata": {},
     "output_type": "execute_result"
    }
   ],
   "source": [
    "# DJ's practice\n",
    "\n",
    "[print(i, j) for i in range(2) for j in my_list]"
   ]
  },
  {
   "cell_type": "code",
   "execution_count": 23,
   "id": "minor-times",
   "metadata": {},
   "outputs": [
    {
     "data": {
      "text/plain": [
       "['0a', '0b', '0c', '0d', '1a', '1b', '1c', '1d']"
      ]
     },
     "execution_count": 23,
     "metadata": {},
     "output_type": "execute_result"
    }
   ],
   "source": [
    "# DJ's practice\n",
    "\n",
    "[i+j for i in map(str,range(2)) for j in my_list]"
   ]
  },
  {
   "cell_type": "markdown",
   "id": "thrown-taylor",
   "metadata": {},
   "source": [
    "#### 제너레이터(Generator)"
   ]
  },
  {
   "cell_type": "markdown",
   "id": "excellent-russian",
   "metadata": {},
   "source": [
    "- 단순히 for문을 사용해서 데이터를 공급해 보도록 하는 첫 번째 코드와, Generator의 개념을 이용하여 데이터를 공급하는 두 번째 코드를 비교해 봅시다."
   ]
  },
  {
   "cell_type": "code",
   "execution_count": 24,
   "id": "dimensional-treasury",
   "metadata": {},
   "outputs": [
    {
     "name": "stdout",
     "output_type": "stream",
     "text": [
      ">>  8 data loaded..\n",
      "0 a\n",
      "0 b\n",
      "0 c\n",
      "0 d\n",
      "1 a\n",
      "1 b\n",
      "1 c\n",
      "1 d\n"
     ]
    }
   ],
   "source": [
    "my_list = ['a','b','c','d']\n",
    "\n",
    "# 인자로 받은 리스트를 가공해서 만든 데이터셋 리스트를 리턴하는 함수\n",
    "def get_dataset_list(my_list):\n",
    "    result_list = []\n",
    "    for i in range(2):\n",
    "        for j in my_list:\n",
    "            result_list.append((i, j))\n",
    "    print('>>  {} data loaded..'.format(len(result_list)))\n",
    "    return result_list\n",
    "\n",
    "for X, y in get_dataset_list(my_list):\n",
    "    print(X, y)\n",
    "    \n",
    "# 첫 번째 코드의 문제가 뭘까요? 이중 for 문이 다 돌아가는 걸 기다린 후, 반환된 result_list 값에 대해 또 for 문을 돌려야 한다는 것입니다."
   ]
  },
  {
   "cell_type": "code",
   "execution_count": 25,
   "id": "periodic-christopher",
   "metadata": {},
   "outputs": [
    {
     "name": "stdout",
     "output_type": "stream",
     "text": [
      "0 a\n",
      ">>  1 data loaded..\n",
      "0 b\n",
      ">>  1 data loaded..\n",
      "0 c\n",
      ">>  1 data loaded..\n",
      "0 d\n",
      ">>  1 data loaded..\n",
      "1 a\n",
      ">>  1 data loaded..\n",
      "1 b\n",
      ">>  1 data loaded..\n",
      "1 c\n",
      ">>  1 data loaded..\n",
      "1 d\n",
      ">>  1 data loaded..\n"
     ]
    }
   ],
   "source": [
    "my_list = ['a','b','c','d']\n",
    "\n",
    "# 인자로 받은 리스트로부터 데이터를 하나씩 가져오는 제너레이터를 리턴하는 함수\n",
    "def get_dataset_generator(my_list):\n",
    "    result_list2 = []\n",
    "    for i in range(2):\n",
    "        for j in my_list:\n",
    "            yield (i, j)   # 이 줄이 이전의 append 코드를 대체했습니다\n",
    "            print('>>  1 data loaded..')\n",
    "\n",
    "dataset_generator = get_dataset_generator(my_list)\n",
    "for X, y in dataset_generator:\n",
    "    print(X, y)\n",
    "    \n",
    "# 이처럼 제너레이터가 없다면 우리는 길이 1억짜리 리스트를 리턴 받아 메모리에 전부 올려놓고 처리를 시작해야 합니다. 그러나 제너레이터를 활용할 때는 1억 개의 데이터를 전부 메모리에 올려놓을 필요가 없이 현재 처리해야 할 데이터를 1개씩 로드해서 사용할 수 있게 됩니다"
   ]
  },
  {
   "cell_type": "code",
   "execution_count": 26,
   "id": "surrounded-stopping",
   "metadata": {},
   "outputs": [
    {
     "name": "stdout",
     "output_type": "stream",
     "text": [
      "0 d\n",
      ">>  1 data loaded..\n",
      "0 d\n",
      ">>  1 data loaded..\n",
      "0 d\n",
      ">>  1 data loaded..\n",
      "0 d\n",
      ">>  1 data loaded..\n",
      "1 d\n",
      ">>  1 data loaded..\n",
      "1 d\n",
      ">>  1 data loaded..\n",
      "1 d\n",
      ">>  1 data loaded..\n",
      "1 d\n",
      ">>  1 data loaded..\n"
     ]
    }
   ],
   "source": [
    "my_list = ['a','b','c','d']\n",
    "\n",
    "# 인자로 받은 리스트로부터 데이터를 하나씩 가져오는 제너레이터를 리턴하는 함수\n",
    "def get_dataset_generator(my_list):\n",
    "    result_list2 = []\n",
    "    for i in range(2):\n",
    "        for j in my_list:\n",
    "            yield i, y   # 이 줄이 이전의 append 코드를 대체했습니다\n",
    "            print('>>  1 data loaded..')\n",
    "\n",
    "dataset_generator = get_dataset_generator(my_list)\n",
    "for X, y in dataset_generator:\n",
    "    print(X, y)"
   ]
  },
  {
   "cell_type": "code",
   "execution_count": 27,
   "id": "assigned-prefix",
   "metadata": {},
   "outputs": [
    {
     "name": "stdout",
     "output_type": "stream",
     "text": [
      "(0, 'd')\n",
      ">>  1 data loaded..\n",
      "(0, 'd')\n",
      ">>  1 data loaded..\n",
      "(0, 'd')\n",
      ">>  1 data loaded..\n",
      "(0, 'd')\n",
      ">>  1 data loaded..\n",
      "(1, 'd')\n",
      ">>  1 data loaded..\n",
      "(1, 'd')\n",
      ">>  1 data loaded..\n",
      "(1, 'd')\n",
      ">>  1 data loaded..\n",
      "(1, 'd')\n",
      ">>  1 data loaded..\n"
     ]
    }
   ],
   "source": [
    "for i in get_dataset_generator(my_list):\n",
    "    print(i)"
   ]
  },
  {
   "cell_type": "markdown",
   "id": "fancy-surgery",
   "metadata": {},
   "source": [
    "## 8-4. 파이썬을 더 잘 사용해보자! (2) Try - Except 예외 처리하기\n"
   ]
  },
  {
   "cell_type": "code",
   "execution_count": 28,
   "id": "mineral-maximum",
   "metadata": {},
   "outputs": [
    {
     "ename": "ZeroDivisionError",
     "evalue": "division by zero",
     "output_type": "error",
     "traceback": [
      "\u001b[0;31m---------------------------------------------------------------------------\u001b[0m",
      "\u001b[0;31mZeroDivisionError\u001b[0m                         Traceback (most recent call last)",
      "\u001b[0;32m<ipython-input-28-fe01563e1bc6>\u001b[0m in \u001b[0;36m<module>\u001b[0;34m\u001b[0m\n\u001b[0;32m----> 1\u001b[0;31m \u001b[0mprint\u001b[0m\u001b[0;34m(\u001b[0m\u001b[0;36m10\u001b[0m\u001b[0;34m/\u001b[0m\u001b[0;36m0\u001b[0m\u001b[0;34m)\u001b[0m\u001b[0;34m\u001b[0m\u001b[0;34m\u001b[0m\u001b[0m\n\u001b[0m",
      "\u001b[0;31mZeroDivisionError\u001b[0m: division by zero"
     ]
    }
   ],
   "source": [
    "print(10/0)"
   ]
  },
  {
   "cell_type": "code",
   "execution_count": 29,
   "id": "recorded-rugby",
   "metadata": {},
   "outputs": [
    {
     "name": "stdout",
     "output_type": "stream",
     "text": [
      "zerodivisionerror\n"
     ]
    }
   ],
   "source": [
    "# 저 에러 안 뜨게 해보기\n",
    "\n",
    "a = 10\n",
    "b = 0\n",
    "try:\n",
    "    print(a/b)\n",
    "except ZeroDivisionError:\n",
    "    print(\"zerodivisionerror\")\n",
    "except:\n",
    "    print(\"에러 발생 1\")\n"
   ]
  },
  {
   "cell_type": "code",
   "execution_count": 30,
   "id": "different-psychiatry",
   "metadata": {},
   "outputs": [
    {
     "name": "stdout",
     "output_type": "stream",
     "text": [
      "에러가 발생했습니다.\n",
      "값 수정 :  10.0\n"
     ]
    }
   ],
   "source": [
    "a = 10\n",
    "b = 0 \n",
    "\n",
    "try:\n",
    "    #실행 코드\n",
    "    print(a/b)\n",
    "\t\t\n",
    "except:\n",
    "    print('에러가 발생했습니다.')\n",
    "    #에러가 발생했을 때 처리하는 코드\n",
    "    b = b+1\n",
    "    print(\"값 수정 : \", a/b)"
   ]
  },
  {
   "cell_type": "markdown",
   "id": "aggregate-healthcare",
   "metadata": {},
   "source": [
    "### 8-5. 파이썬을 더 잘 사용해보자! (3) Multiprocessing\n"
   ]
  },
  {
   "cell_type": "markdown",
   "id": "acceptable-intensity",
   "metadata": {},
   "source": [
    "#### 실행 시간 측정\n"
   ]
  },
  {
   "cell_type": "code",
   "execution_count": 31,
   "id": "charged-vietnam",
   "metadata": {},
   "outputs": [
    {
     "name": "stdout",
     "output_type": "stream",
     "text": [
      "time : 0.00010538101196289062\n"
     ]
    }
   ],
   "source": [
    "import time\n",
    "start = time.time()  # 시작 시간 저장\n",
    "\n",
    "a = 1\n",
    "for i in range(100):\n",
    "\ta += 1\n",
    " \n",
    "# 작업 코드\n",
    "print(\"time :\", time.time() - start) # 결과는 '초' 단위 입니다."
   ]
  },
  {
   "cell_type": "code",
   "execution_count": 32,
   "id": "bright-october",
   "metadata": {},
   "outputs": [
    {
     "data": {
      "text/plain": [
       "1640846661.0767028"
      ]
     },
     "execution_count": 32,
     "metadata": {},
     "output_type": "execute_result"
    }
   ],
   "source": [
    "import time\n",
    "time.time()"
   ]
  },
  {
   "cell_type": "markdown",
   "id": "orange-theta",
   "metadata": {},
   "source": [
    "#### Multiprocessing(멀티프로세싱)\n"
   ]
  },
  {
   "cell_type": "code",
   "execution_count": 33,
   "id": "intelligent-helicopter",
   "metadata": {},
   "outputs": [
    {
     "name": "stdout",
     "output_type": "stream",
     "text": [
      "finish:p1\n",
      "\n",
      "finish:p2\n",
      "\n",
      "finish:p3\n",
      "\n",
      "finish:p4\n",
      "\n",
      "time : 9.033391237258911\n"
     ]
    }
   ],
   "source": [
    "import time\n",
    "\n",
    "num_list = ['p1','p2', 'p3', 'p4']\n",
    "start = time.time()\n",
    "\n",
    "def count(name):\n",
    "    for i in range(0, 100000000):\n",
    "        a = 1 + 2\n",
    "        \n",
    "    print(\"finish:\"+name+\"\\n\")\n",
    "\n",
    "for num in num_list:\n",
    "    count(num)\n",
    "\n",
    "print(\"time :\", time.time() - start)\n",
    "\n",
    "# 변수를 1억개 돌려보는 코드. 시간이 얼마나 걸리는지\u001c"
   ]
  },
  {
   "cell_type": "markdown",
   "id": "neutral-constitutional",
   "metadata": {},
   "source": [
    "- parallel processing을 할 경우"
   ]
  },
  {
   "cell_type": "code",
   "execution_count": 34,
   "id": "respected-content",
   "metadata": {},
   "outputs": [
    {
     "name": "stdout",
     "output_type": "stream",
     "text": [
      "finish:p2\n",
      "finish:p4\n",
      "\n",
      "\n",
      "finish:p3\n",
      "\n",
      "finish:p1\n",
      "\n",
      "time : 2.5549123287200928\n"
     ]
    }
   ],
   "source": [
    "import multiprocessing\n",
    "import time\n",
    "\n",
    "num_list = ['p1','p2', 'p3', 'p4']\n",
    "start = time.time()\n",
    "\n",
    "def count(name):\n",
    "    for i in range(0, 100000000):\n",
    "        a = 1+2\n",
    "    print(\"finish:\"+name+\"\\n\")\n",
    "    \n",
    "\n",
    "if __name__ == '__main__':\n",
    "    pool = multiprocessing.Pool(processes = 4)\n",
    "    pool.map(count, num_list)\n",
    "    pool.close()\n",
    "    pool.join()\n",
    "\n",
    "print(\"time :\", time.time() - start)"
   ]
  },
  {
   "cell_type": "markdown",
   "id": "amateur-comment",
   "metadata": {},
   "source": [
    "- 병렬처리 하는 함수를 만들어 보기"
   ]
  },
  {
   "cell_type": "code",
   "execution_count": 35,
   "id": "intermediate-wheat",
   "metadata": {},
   "outputs": [
    {
     "name": "stdout",
     "output_type": "stream",
     "text": [
      "finish:p3\n",
      "\n",
      "finish:p2\n",
      "\n",
      "finish:p4\n",
      "\n",
      "finish:p1\n",
      "\n"
     ]
    }
   ],
   "source": [
    "import multiprocessing\n",
    "\n",
    "def count(name):\n",
    "    for i in range(0, 100000000):\n",
    "        a = 1 + 2\n",
    "    print(\"finish:\"+name+\"\\n\")\n",
    "\n",
    "num_list = ['p1','p2', 'p3', 'p4']\n",
    "\n",
    "if __name__ == '__main__': # 코드 시작점을 여기로 하라는 뜻\n",
    "    # 병렬 처리 시, 4개의 프로세스를 사용하도록 합니다. CPU 코어의 개수만큼 입력해 주면 최대의 효과를 볼 수 있습니다.\n",
    "    pool = multiprocessing.Pool(processes = 4)\n",
    "    \n",
    "    # 병렬화를 시키는 함수로, count 함수에 num_list의 원소들을 하나씩 넣어 놓습니다. 여기서 num_list의 원소는 4개이므로 4개의 count 함수에 각각 하나씩 원소가 들어가게 됩니다.즉, count('p1'), count('p2'), count('p3'), count('p4')가 만들어집니다.\n",
    "    pool.map(count, num_list)\n",
    "    \n",
    "    # 일반적으로 병렬화 부분이 끝나면 나옵니다. 더 이상 pool을 통해서 새로운 작업을 추가하지 않을 때 사용합니다.\n",
    "    pool.close()\n",
    "\n",
    "    # 프로세스가 종료될 때까지 대기하도록 지시하는 구문으로써 병렬처리 작업이 끝날 때까지 기다리도록 합니다\n",
    "    pool.join()"
   ]
  },
  {
   "cell_type": "markdown",
   "id": "entertaining-confusion",
   "metadata": {},
   "source": [
    "## 8-6. 같은 코드 두 번 짜지 말자! (1) 함수 사용하기\n"
   ]
  },
  {
   "cell_type": "code",
   "execution_count": 36,
   "id": "continued-orientation",
   "metadata": {},
   "outputs": [
    {
     "name": "stdout",
     "output_type": "stream",
     "text": [
      "최댓값은  40\n",
      "최댓값은  50\n"
     ]
    }
   ],
   "source": [
    "list_data = [10, 20, 30, 40]\n",
    "list_data2 = [20, 30, 40, 50]\n",
    "\n",
    "length = len(list_data)\n",
    "max_result = list_data[0]\n",
    "for i in range(length):\n",
    "    if max_result < list_data[i]:\n",
    "        max_result = list_data[i]\n",
    "        \n",
    "print(\"최댓값은 \", max_result)\n",
    "\n",
    "length = len(list_data2)\n",
    "max_result = list_data2[0]\n",
    "for i in range(length):\n",
    "    if max_result < list_data2[i]:\n",
    "        max_result = list_data2[i]\n",
    "        \n",
    "print(\"최댓값은 \", max_result)"
   ]
  },
  {
   "cell_type": "code",
   "execution_count": 37,
   "id": "liquid-rebel",
   "metadata": {},
   "outputs": [
    {
     "data": {
      "text/plain": [
       "343524757"
      ]
     },
     "execution_count": 37,
     "metadata": {},
     "output_type": "execute_result"
    }
   ],
   "source": [
    "# 함수로 만들어서 사용하기\n",
    "\n",
    "def max_function(li):\n",
    "    length = len(li)\n",
    "    max_result = li[0]\n",
    "    for i in range(length):\n",
    "        if max_result < li[i]:\n",
    "            max_result = li[i]\n",
    "    return max_result\n",
    "\n",
    "test_li = [1,2,3,6,4,8,686,454,546,47,68,686,97,37,37,575757,2425,4646,2474747,343524757]\n",
    "\n",
    "max_function(test_li)"
   ]
  },
  {
   "cell_type": "markdown",
   "id": "north-azerbaijan",
   "metadata": {},
   "source": [
    "## 8-7. 같은 코드 두 번 짜지 말자! (2) 함수 사용 팁\n"
   ]
  },
  {
   "cell_type": "markdown",
   "id": "mental-timer",
   "metadata": {},
   "source": [
    "#### 함수에 함수 사용\n"
   ]
  },
  {
   "cell_type": "code",
   "execution_count": 38,
   "id": "useful-chemistry",
   "metadata": {},
   "outputs": [
    {
     "name": "stdout",
     "output_type": "stream",
     "text": [
      "안녕!\n",
      "안녕!\n"
     ]
    }
   ],
   "source": [
    "def say_something(txt):\n",
    "    return txt\n",
    "\n",
    "def send(function, count):\n",
    "    for i in range(count):  \n",
    "        print(function)\n",
    "    \n",
    "send(say_something(\"안녕!\"), 2)"
   ]
  },
  {
   "cell_type": "markdown",
   "id": "interesting-holocaust",
   "metadata": {},
   "source": [
    "#### 함수 안의 함수 & 2개 이상의 return"
   ]
  },
  {
   "cell_type": "code",
   "execution_count": 39,
   "id": "toxic-scene",
   "metadata": {},
   "outputs": [
    {
     "name": "stdout",
     "output_type": "stream",
     "text": [
      "최솟값, 최댓값은 :  [20, 40]\n",
      "최솟값은 :  20\n",
      "최댓값은 :  40\n"
     ]
    }
   ],
   "source": [
    "list_data = [30, 20, 30, 40]\n",
    "\n",
    "def minmax_function(x_list):\n",
    "        \n",
    "    def inner_min_function(x):\n",
    "        length = len(x)\n",
    "        min_result = x[0]\n",
    "        for i in range(length):\n",
    "            if min_result > x[i]:\n",
    "                min_result = x[i]\n",
    "        return min_result\n",
    "    \n",
    "    def inner_max_function(x):\n",
    "        length = len(x)\n",
    "        max_result = x[0]\n",
    "        for i in range(length):\n",
    "            if max_result < x[i]:\n",
    "                max_result = x[i]\n",
    "        return max_result\n",
    "        \n",
    "    x_min = inner_min_function(x_list)\n",
    "    x_max = inner_max_function(x_list)\n",
    "    \n",
    "    minmax_list = [x_min, x_max]\n",
    "\n",
    "    return minmax_list\n",
    "\n",
    "print(\"최솟값, 최댓값은 : \", minmax_function(list_data))\n",
    "print(\"최솟값은 : \", minmax_function(list_data)[0])\n",
    "print(\"최댓값은 : \", minmax_function(list_data)[1])"
   ]
  },
  {
   "cell_type": "code",
   "execution_count": 40,
   "id": "recognized-matthew",
   "metadata": {},
   "outputs": [],
   "source": [
    "def hello():\n",
    "    return 1\n",
    "    return 2"
   ]
  },
  {
   "cell_type": "code",
   "execution_count": 41,
   "id": "diverse-detail",
   "metadata": {},
   "outputs": [
    {
     "data": {
      "text/plain": [
       "1"
      ]
     },
     "execution_count": 41,
     "metadata": {},
     "output_type": "execute_result"
    }
   ],
   "source": [
    "hello()"
   ]
  },
  {
   "cell_type": "markdown",
   "id": "studied-passport",
   "metadata": {},
   "source": [
    "#### 여러 변수로 반환하기\n"
   ]
  },
  {
   "cell_type": "code",
   "execution_count": 42,
   "id": "bizarre-lindsay",
   "metadata": {},
   "outputs": [
    {
     "name": "stdout",
     "output_type": "stream",
     "text": [
      "최솟값은 :  20\n",
      "최댓값은 :  40\n"
     ]
    }
   ],
   "source": [
    "list_data = [30, 20, 30, 40]\n",
    "\n",
    "def minmax_function(x_list):\n",
    "        \n",
    "    def inner_min_function(x):\n",
    "        length = len(x)\n",
    "        min_result = x[0]\n",
    "        for i in range(length):\n",
    "            if min_result > x[i]:\n",
    "                min_result = x[i]\n",
    "        return min_result\n",
    "    \n",
    "    def inner_max_function(x):\n",
    "        length = len(x)\n",
    "        max_result = x[0]\n",
    "        for i in range(length):\n",
    "            if max_result < x[i]:\n",
    "                max_result = x[i]\n",
    "        return max_result\n",
    "        \n",
    "    x_min = inner_min_function(x_list)\n",
    "    x_max = inner_max_function(x_list)\n",
    "    \n",
    "    return x_min, x_max\n",
    "\n",
    "min_value, max_value = minmax_function(list_data)\n",
    "\n",
    "print(\"최솟값은 : \", min_value)\n",
    "print(\"최댓값은 : \", max_value)"
   ]
  },
  {
   "cell_type": "markdown",
   "id": "plain-optimum",
   "metadata": {},
   "source": [
    "## 8-8. 같은 코드 두 번 짜지 말자! (3) 람다 표현식\n"
   ]
  },
  {
   "cell_type": "code",
   "execution_count": 43,
   "id": "linear-bridal",
   "metadata": {},
   "outputs": [],
   "source": [
    "def add(x, y):\n",
    "    return x + y"
   ]
  },
  {
   "cell_type": "code",
   "execution_count": 44,
   "id": "graduate-sacramento",
   "metadata": {},
   "outputs": [],
   "source": [
    "# 윗 함수를 한 줄로\n",
    "\n",
    "def add(x, y): return x + y"
   ]
  },
  {
   "cell_type": "code",
   "execution_count": 45,
   "id": "chief-notification",
   "metadata": {},
   "outputs": [
    {
     "name": "stdout",
     "output_type": "stream",
     "text": [
      "30\n"
     ]
    }
   ],
   "source": [
    "# 람다 사용하기\n",
    "print( (lambda x,y: x + y)(10, 20) )"
   ]
  },
  {
   "cell_type": "code",
   "execution_count": 46,
   "id": "brave-links",
   "metadata": {},
   "outputs": [
    {
     "data": {
      "text/plain": [
       "2240"
      ]
     },
     "execution_count": 46,
     "metadata": {},
     "output_type": "execute_result"
    }
   ],
   "source": [
    "(lambda x, y: x+y)(20, 2220)"
   ]
  },
  {
   "cell_type": "markdown",
   "id": "decimal-typing",
   "metadata": {},
   "source": [
    "### 람다를 사용하는 이유는 argument로 함수를 넣을 때 쉽게 하기 위해서\n",
    "- 아래는 예시"
   ]
  },
  {
   "cell_type": "code",
   "execution_count": 47,
   "id": "every-smell",
   "metadata": {},
   "outputs": [
    {
     "name": "stdout",
     "output_type": "stream",
     "text": [
      "[2, 4, 6]\n"
     ]
    }
   ],
   "source": [
    "def list_mul(x):\n",
    "     return x * 2\n",
    "\n",
    "result = list(map(list_mul, [1, 2, 3]))\n",
    "print(result)\n",
    "\n",
    "# 각 함수를 실행할 때마다 어떤 결과가 나오는지 궁금하다면 아래 주석을 풀고 실행해보세요! \n",
    "# map_res = map(list_mul, [1, 2, 3])\n",
    "# print(map_res)\n",
    "# list_map_res = list(map_res)\n",
    "# print(list_map_res)"
   ]
  },
  {
   "cell_type": "code",
   "execution_count": 48,
   "id": "rough-partition",
   "metadata": {},
   "outputs": [
    {
     "name": "stdout",
     "output_type": "stream",
     "text": [
      "<map object at 0x7f43c043e310>\n",
      "[2, 4, 6]\n"
     ]
    }
   ],
   "source": [
    "map_res = map(list_mul, [1, 2, 3])\n",
    "print(map_res)\n",
    "list_map_res = list(map_res)\n",
    "print(list_map_res)"
   ]
  },
  {
   "cell_type": "code",
   "execution_count": 49,
   "id": "normal-hammer",
   "metadata": {},
   "outputs": [
    {
     "data": {
      "text/plain": [
       "[2, 4, 6]"
      ]
     },
     "execution_count": 49,
     "metadata": {},
     "output_type": "execute_result"
    }
   ],
   "source": [
    "list(map(lambda x : x * 2, [1,2,3]))"
   ]
  },
  {
   "cell_type": "markdown",
   "id": "ignored-mileage",
   "metadata": {},
   "source": [
    "## 8-9. 같은 코드 두 번 짜지 말자! (4) 클래스, 모듈, 패키지\n"
   ]
  },
  {
   "cell_type": "code",
   "execution_count": 50,
   "id": "offensive-proposal",
   "metadata": {},
   "outputs": [],
   "source": [
    "# mycalculator.py\n",
    "\n",
    "test = \"you can use this module.\"\n",
    "\n",
    "def add(a, b):\n",
    "    return a + b\n",
    " \n",
    "def mul(a, b):\n",
    "    return a * b\n",
    "\n",
    "def sub(a, b):\n",
    "    return a - b\n",
    "\n",
    "def div(a, b):\n",
    "    return a / b\n",
    "\n",
    "\n",
    "class all_calc():\n",
    "\n",
    "    def __init__(self, a, b):\n",
    "        self.a = a\n",
    "        self.b = b\n",
    "\n",
    "    def add(self):\n",
    "        return self.a + self.b\n",
    " \n",
    "    def mul(self):\n",
    "        return self.a * self.b\n",
    "\n",
    "    def sub(self):\n",
    "        return self.a - self.b\n",
    "\n",
    "    def div(self):\n",
    "        return self.a / self.b"
   ]
  },
  {
   "cell_type": "code",
   "execution_count": 51,
   "id": "rotary-presence",
   "metadata": {},
   "outputs": [],
   "source": [
    "# mycalculator.py 로 저장해서 사용해보기\n",
    "\n",
    "code = '# mycalculator.py\\ntest = \"you can use this module.\"\\n\\ndef add(a, b):\\n    return a + b\\n \\ndef mul(a, b):\\n    return a * b\\n\\ndef sub(a, b):\\n    return a - b\\n\\ndef div(a, b):\\n    return a / b\\n\\n\\nclass all_calc():\\n\\n    def __init__(self, a, b):\\n        self.a = a\\n        self.b = b\\n\\n    def add(self):\\n        return self.a + self.b\\n \\n    def mul(self):\\n        return self.a * self.b\\n\\n    def sub(self):\\n        return self.a - self.b\\n\\n    def div(self):\\n        return self.a / self.b'\n",
    "\n",
    "f = open(\"mycalculator.py\", \"w\")\n",
    "f.write(code)\n",
    "f.close()"
   ]
  },
  {
   "cell_type": "code",
   "execution_count": 52,
   "id": "published-annex",
   "metadata": {},
   "outputs": [],
   "source": [
    "# import 모듈이름\n",
    "import mycalculator"
   ]
  },
  {
   "cell_type": "code",
   "execution_count": 53,
   "id": "dying-population",
   "metadata": {},
   "outputs": [
    {
     "data": {
      "text/plain": [
       "6"
      ]
     },
     "execution_count": 53,
     "metadata": {},
     "output_type": "execute_result"
    }
   ],
   "source": [
    "# 모듈이름.함수이름()\n",
    "mycalculator.add(4, 2)"
   ]
  },
  {
   "cell_type": "code",
   "execution_count": 54,
   "id": "extraordinary-basis",
   "metadata": {},
   "outputs": [
    {
     "data": {
      "text/plain": [
       "2"
      ]
     },
     "execution_count": 54,
     "metadata": {},
     "output_type": "execute_result"
    }
   ],
   "source": [
    "mycalculator.sub(4,2)"
   ]
  },
  {
   "cell_type": "code",
   "execution_count": 55,
   "id": "comic-horse",
   "metadata": {},
   "outputs": [
    {
     "name": "stdout",
     "output_type": "stream",
     "text": [
      "6\n"
     ]
    }
   ],
   "source": [
    "# 모듈이름 짧게 하기\n",
    "import mycalculator as mc\n",
    "\n",
    "# 모듈이름.함수이름()\n",
    "print(mc.add(4, 2))"
   ]
  },
  {
   "cell_type": "code",
   "execution_count": 56,
   "id": "brutal-specification",
   "metadata": {},
   "outputs": [
    {
     "ename": "TypeError",
     "evalue": "div() missing 1 required positional argument: 'b'",
     "output_type": "error",
     "traceback": [
      "\u001b[0;31m---------------------------------------------------------------------------\u001b[0m",
      "\u001b[0;31mTypeError\u001b[0m                                 Traceback (most recent call last)",
      "\u001b[0;32m<ipython-input-56-67d64202d08b>\u001b[0m in \u001b[0;36m<module>\u001b[0;34m\u001b[0m\n\u001b[0;32m----> 1\u001b[0;31m \u001b[0mmc\u001b[0m\u001b[0;34m.\u001b[0m\u001b[0mdiv\u001b[0m\u001b[0;34m(\u001b[0m\u001b[0;36m63\u001b[0m\u001b[0;34m)\u001b[0m\u001b[0;34m\u001b[0m\u001b[0;34m\u001b[0m\u001b[0m\n\u001b[0m",
      "\u001b[0;31mTypeError\u001b[0m: div() missing 1 required positional argument: 'b'"
     ]
    }
   ],
   "source": [
    "mc.div(63)"
   ]
  },
  {
   "cell_type": "markdown",
   "id": "gorgeous-equation",
   "metadata": {},
   "source": [
    "## 8-10. 프로그래밍 패러다임과 함수형 프로그래밍\n"
   ]
  },
  {
   "cell_type": "markdown",
   "id": "constitutional-blues",
   "metadata": {},
   "source": [
    "#### 함수형 프로그래밍의 특징\n",
    "- 1. 순수성\n",
    "\n",
    "\n"
   ]
  },
  {
   "cell_type": "code",
   "execution_count": 57,
   "id": "indirect-picnic",
   "metadata": {},
   "outputs": [
    {
     "name": "stdout",
     "output_type": "stream",
     "text": [
      "30\n"
     ]
    }
   ],
   "source": [
    "# 순수성이 없는 코드\n",
    "A = 5\n",
    "\n",
    "def impure_mul(b):\n",
    "    return b * A\n",
    "\n",
    "print(impure_mul(6))"
   ]
  },
  {
   "cell_type": "code",
   "execution_count": 58,
   "id": "smoking-traffic",
   "metadata": {},
   "outputs": [
    {
     "name": "stdout",
     "output_type": "stream",
     "text": [
      "24\n"
     ]
    }
   ],
   "source": [
    "# 순수성이 있는 코드\n",
    "def pure_mul(a, b):\n",
    "    return a * b\n",
    "\n",
    "print(pure_mul(4, 6))\n",
    "# 함수 안에 함수 밖에서 바로 가져오는 함수나 아니면 밖에 있는 변수를 변경시키는 코드가 없습니다."
   ]
  },
  {
   "cell_type": "markdown",
   "id": "cheap-pilot",
   "metadata": {},
   "source": [
    "- 2. 모듈성 : 하나의 큰 함수로 정의하기 보다 각각의 작은 함수들로 쪼개서 작업을 진행해서 약간 모듈들을 여러개 만드는 느낌이다\n",
    "- 장점 : 가독성이 좋고, 이해하기 쉬움"
   ]
  },
  {
   "cell_type": "markdown",
   "id": "after-pricing",
   "metadata": {},
   "source": [
    "- 3. 디버깅과 테스트 용이성"
   ]
  },
  {
   "cell_type": "markdown",
   "id": "generous-place",
   "metadata": {},
   "source": [
    "# 클래스 연습 - DJ"
   ]
  },
  {
   "cell_type": "code",
   "execution_count": 59,
   "id": "activated-double",
   "metadata": {},
   "outputs": [
    {
     "name": "stdout",
     "output_type": "stream",
     "text": [
      "Hello my name is John\n"
     ]
    }
   ],
   "source": [
    "class Person:\n",
    "    def __init__(self, name, age):\n",
    "        self.name = name\n",
    "        self.age = age\n",
    "\n",
    "    def myfunc(self):\n",
    "        print(\"Hello my name is \" + self.name)\n",
    "\n",
    "p1 = Person(\"John\", 36)\n",
    "p1.myfunc()"
   ]
  },
  {
   "cell_type": "code",
   "execution_count": 60,
   "id": "enabling-dress",
   "metadata": {},
   "outputs": [],
   "source": [
    "class Character:\n",
    "    \n",
    "    def __init__(self, name, physical, mental, spiritual):\n",
    "        self.name = name\n",
    "        self.physical = physical\n",
    "        self.mental = mental\n",
    "        self.spiritual = spiritual\n",
    "    \n",
    "    def total_energy(self):\n",
    "        return self.physical + self.mental + self.spiritual"
   ]
  },
  {
   "cell_type": "code",
   "execution_count": 61,
   "id": "compound-series",
   "metadata": {},
   "outputs": [],
   "source": [
    "dj = Character('DJ', 80, 90, 100)"
   ]
  },
  {
   "cell_type": "code",
   "execution_count": 62,
   "id": "legitimate-increase",
   "metadata": {},
   "outputs": [
    {
     "data": {
      "text/plain": [
       "90"
      ]
     },
     "execution_count": 62,
     "metadata": {},
     "output_type": "execute_result"
    }
   ],
   "source": [
    "dj.mental"
   ]
  },
  {
   "cell_type": "code",
   "execution_count": 63,
   "id": "collected-brooklyn",
   "metadata": {},
   "outputs": [
    {
     "data": {
      "text/plain": [
       "270"
      ]
     },
     "execution_count": 63,
     "metadata": {},
     "output_type": "execute_result"
    }
   ],
   "source": [
    "dj.total_energy()"
   ]
  },
  {
   "cell_type": "code",
   "execution_count": 64,
   "id": "neutral-advance",
   "metadata": {},
   "outputs": [
    {
     "data": {
      "text/plain": [
       "[1, 2, 3, 4, 5]"
      ]
     },
     "execution_count": 64,
     "metadata": {},
     "output_type": "execute_result"
    }
   ],
   "source": [
    "li1 = [1,2,3,4,5]\n",
    "li1"
   ]
  },
  {
   "cell_type": "code",
   "execution_count": 65,
   "id": "confused-crash",
   "metadata": {},
   "outputs": [
    {
     "ename": "SyntaxError",
     "evalue": "invalid syntax (<ipython-input-65-50a70a690f54>, line 3)",
     "output_type": "error",
     "traceback": [
      "\u001b[0;36m  File \u001b[0;32m\"<ipython-input-65-50a70a690f54>\"\u001b[0;36m, line \u001b[0;32m3\u001b[0m\n\u001b[0;31m    li2 =\u001b[0m\n\u001b[0m          ^\u001b[0m\n\u001b[0;31mSyntaxError\u001b[0m\u001b[0;31m:\u001b[0m invalid syntax\n"
     ]
    }
   ],
   "source": [
    "import copy\n",
    "\n",
    "li2 = \n",
    "\n",
    "print(li)\n",
    "print(li2)"
   ]
  },
  {
   "cell_type": "code",
   "execution_count": 66,
   "id": "linear-heating",
   "metadata": {},
   "outputs": [
    {
     "data": {
      "text/plain": [
       "(1, 2, 3, 4)"
      ]
     },
     "execution_count": 66,
     "metadata": {},
     "output_type": "execute_result"
    }
   ],
   "source": [
    "t1 = (1,2,3,4)\n",
    "t1"
   ]
  },
  {
   "cell_type": "code",
   "execution_count": 70,
   "id": "subjective-johns",
   "metadata": {},
   "outputs": [
    {
     "name": "stdout",
     "output_type": "stream",
     "text": [
      "----------------------immutable objects ---------------------\n",
      "(1, 2, 3, 4) ,  original id : 139928966087696\n",
      "(1, 2, 3, 4) , copy.copy id : 139928966087696\n",
      "---------------------- 1-d mutable objects ---------------------\n",
      "[1, 2, 3, 4] ,      original id : 139928965262304\n",
      "[1, 2, 3, 4] ,     copy.copy id : 139928966116688\n",
      "[1, 2, 3, 4] , copy.deepcopy id : 139928965276848\n",
      "---------------------- 2-d mutable objects ---------------------\n",
      "[[100, 200, 300], 1, 2, 3, 4] ,      original id : 139928965262624\n",
      "[[100, 200, 300], 1, 2, 3, 4] ,     copy.copy id : 139928965219664\n",
      "[[100, 200, 300], 1, 2, 3, 4] , copy.deepcopy id : 139928966093712\n"
     ]
    }
   ],
   "source": [
    "import copy\n",
    "\n",
    "print(\"----------------------immutable objects ---------------------\")\n",
    "t1 = (1,2,3,4)\n",
    "t2 = copy.copy(t1)\n",
    "\n",
    "print(t1, \",  original id :\", id(t1))\n",
    "print(t2, \", copy.copy id :\", id(t2))\n",
    "\n",
    "print(\"---------------------- 1-d mutable objects ---------------------\")\n",
    "l1 = [1,2,3,4]\n",
    "l2 = copy.copy(l1)\n",
    "l3 = copy.deepcopy(l1)\n",
    "\n",
    "print(l1, \",      original id :\", id(l1))\n",
    "print(l2, \",     copy.copy id :\", id(l2))\n",
    "print(l3, \", copy.deepcopy id :\", id(l3))\n",
    "\n",
    "print(\"---------------------- 2-d mutable objects ---------------------\")\n",
    "ll1 = [[100,200,300],1,2,3,4]\n",
    "ll2 = copy.copy(ll1)\n",
    "ll3 = copy.deepcopy(ll1)\n",
    "\n",
    "print(ll1, \",      original id :\", id(ll1))\n",
    "print(ll2, \",     copy.copy id :\", id(ll2))\n",
    "print(ll3, \", copy.deepcopy id :\", id(ll3))"
   ]
  },
  {
   "cell_type": "code",
   "execution_count": 74,
   "id": "exciting-ladder",
   "metadata": {},
   "outputs": [
    {
     "name": "stdout",
     "output_type": "stream",
     "text": [
      "[[0, 200, 300], 1, 2, 3, 4] ll1 id : 139928965262624\n",
      "[[0, 200, 300], 1, 2, 3, 4] ll2 id : 139928965219664\n",
      "[[5454, 200, 300], 1, 2, 3, 4] ll2 id : 139928966093712\n"
     ]
    }
   ],
   "source": [
    "ll2[0][0] = 0\n",
    "ll3[0][0] = 5454\n",
    "print(ll1, 'll1 id :', id(ll1))\n",
    "print(ll2, 'll2 id :', id(ll2))\n",
    "print(ll3, 'll2 id :', id(ll3))\n"
   ]
  },
  {
   "cell_type": "code",
   "execution_count": 76,
   "id": "empty-edgar",
   "metadata": {},
   "outputs": [
    {
     "name": "stdout",
     "output_type": "stream",
     "text": [
      "a: [100, 2, 3, 4, 5]\n",
      "b: [100, 2, 3, 4, 5]\n"
     ]
    }
   ],
   "source": [
    "a = [1,2,3,4,5]\n",
    "b = a\n",
    "\n",
    "a[0] = 100\n",
    "\n",
    "print('a:', a)\n",
    "print('b:', b)"
   ]
  },
  {
   "cell_type": "code",
   "execution_count": 77,
   "id": "prostate-complex",
   "metadata": {},
   "outputs": [
    {
     "name": "stdout",
     "output_type": "stream",
     "text": [
      "139928966461072\n",
      "139928966461072\n"
     ]
    }
   ],
   "source": [
    "print(id(a))\n",
    "print(id(b))"
   ]
  },
  {
   "cell_type": "code",
   "execution_count": 78,
   "id": "herbal-lebanon",
   "metadata": {},
   "outputs": [
    {
     "name": "stdout",
     "output_type": "stream",
     "text": [
      "139928966461072\n",
      "139928966809472\n"
     ]
    }
   ],
   "source": [
    "import copy\n",
    "\n",
    "c = copy.copy(a)\n",
    "print(id(a))\n",
    "print(id(c))"
   ]
  },
  {
   "cell_type": "code",
   "execution_count": 79,
   "id": "internal-contamination",
   "metadata": {},
   "outputs": [
    {
     "name": "stdout",
     "output_type": "stream",
     "text": [
      "aa: (1, 2, 3, 4, 5) id: 139928965233072\n",
      "bb: (1, 2, 3, 4, 5) id: 139928965233072\n"
     ]
    }
   ],
   "source": [
    "# if mutable, copy.copy returns a different object so as to avoid changes in the original object, the risk\n",
    "# if immutable, copy.copy returns the same object, because there is no chance the original value could be changed.\n",
    "\n",
    "aa = (1,2,3,4,5)\n",
    "bb = aa\n",
    "\n",
    "print(\"aa:\", aa, \"id:\", id(aa))\n",
    "print(\"bb:\", bb, \"id:\", id(bb))"
   ]
  },
  {
   "cell_type": "code",
   "execution_count": 81,
   "id": "blocked-bishop",
   "metadata": {},
   "outputs": [
    {
     "name": "stdout",
     "output_type": "stream",
     "text": [
      "aa id: 139928965233072\n",
      "cc id: 139928965233072\n",
      "they must be the same\n"
     ]
    }
   ],
   "source": [
    "cc = copy.copy(aa)\n",
    "\n",
    "print(\"aa id:\", id(aa))\n",
    "print(\"cc id:\", id(cc))\n",
    "print('they must be the same')"
   ]
  },
  {
   "cell_type": "code",
   "execution_count": 85,
   "id": "bacterial-nitrogen",
   "metadata": {},
   "outputs": [
    {
     "name": "stdout",
     "output_type": "stream",
     "text": [
      "aa id: 139928965233072\n",
      "dd id: 139928965233072\n",
      "they must be the different\n",
      "but I got it wrong\n"
     ]
    }
   ],
   "source": [
    "# but if I want to make a new object, use copy.deepcopy?\n",
    "# no immutable object don't make a new object, even if using copy.deepcopy\n",
    "\n",
    "dd = copy.deepcopy(aa)\n",
    "\n",
    "print(\"aa id:\", id(aa))\n",
    "print(\"dd id:\", id(dd))\n",
    "print('they must be the different')\n",
    "print('but I got it wrong')"
   ]
  },
  {
   "cell_type": "code",
   "execution_count": 84,
   "id": "declared-terminology",
   "metadata": {},
   "outputs": [
    {
     "name": "stdout",
     "output_type": "stream",
     "text": [
      " mutable a id: 139928966461072\n",
      "deepcopy d id: 139928965262864\n",
      "they must be different\n"
     ]
    }
   ],
   "source": [
    "d = copy.deepcopy(a)\n",
    "\n",
    "print(' mutable a id:', id(a))\n",
    "print('deepcopy d id:', id(d))\n",
    "print('they must be different')"
   ]
  },
  {
   "cell_type": "markdown",
   "id": "waiting-southwest",
   "metadata": {},
   "source": [
    "## generator"
   ]
  },
  {
   "cell_type": "code",
   "execution_count": 95,
   "id": "written-diary",
   "metadata": {},
   "outputs": [],
   "source": [
    "line_list = ['  line 1\\n', 'line 2  \\n', 'line 3  \\n', 'line 4  \\n']\n",
    "\n",
    "# Generator expression -- returns iterator\n",
    "stripped_iter = (line.strip() for line in line_list)\n",
    "\n",
    "# List comprehension -- returns list\n",
    "stripped_list = [line.strip() for line in line_list]"
   ]
  },
  {
   "cell_type": "code",
   "execution_count": 96,
   "id": "fresh-print",
   "metadata": {},
   "outputs": [
    {
     "data": {
      "text/plain": [
       "<generator object <genexpr> at 0x7f43c04427d0>"
      ]
     },
     "execution_count": 96,
     "metadata": {},
     "output_type": "execute_result"
    }
   ],
   "source": [
    "stripped_iter"
   ]
  },
  {
   "cell_type": "code",
   "execution_count": 97,
   "id": "incorrect-southwest",
   "metadata": {},
   "outputs": [
    {
     "data": {
      "text/plain": [
       "['line 1', 'line 2', 'line 3', 'line 4']"
      ]
     },
     "execution_count": 97,
     "metadata": {},
     "output_type": "execute_result"
    }
   ],
   "source": [
    "stripped_list"
   ]
  },
  {
   "cell_type": "code",
   "execution_count": 99,
   "id": "automatic-handle",
   "metadata": {},
   "outputs": [],
   "source": [
    "test_list = [1,2,3,4,5,6,7,8,9,10]\n",
    "generator_object = (element for element in test_list)\n",
    "generator_object_2 = (element for element in test_list if element % 2 == 0)"
   ]
  },
  {
   "cell_type": "code",
   "execution_count": 100,
   "id": "pointed-consortium",
   "metadata": {},
   "outputs": [
    {
     "name": "stdout",
     "output_type": "stream",
     "text": [
      "1\n",
      "2\n",
      "3\n",
      "4\n",
      "5\n",
      "6\n",
      "7\n",
      "8\n",
      "9\n",
      "10\n"
     ]
    }
   ],
   "source": [
    "for i in generator_object:\n",
    "    print(i)"
   ]
  },
  {
   "cell_type": "code",
   "execution_count": 101,
   "id": "ranking-wilderness",
   "metadata": {},
   "outputs": [
    {
     "name": "stdout",
     "output_type": "stream",
     "text": [
      "2\n",
      "4\n",
      "6\n",
      "8\n",
      "10\n"
     ]
    }
   ],
   "source": [
    "for i in generator_object_2:\n",
    "    print(i)"
   ]
  },
  {
   "cell_type": "code",
   "execution_count": 103,
   "id": "facial-listening",
   "metadata": {},
   "outputs": [],
   "source": [
    "def say_hi():\n",
    "    for i in range(5):\n",
    "        yield \"hi\""
   ]
  },
  {
   "cell_type": "code",
   "execution_count": 106,
   "id": "recorded-record",
   "metadata": {},
   "outputs": [
    {
     "name": "stdout",
     "output_type": "stream",
     "text": [
      "<generator object say_hi at 0x7f43c04423d0>\n",
      "<generator object say_hi at 0x7f43c04423d0>\n",
      "<generator object say_hi at 0x7f43c04423d0>\n",
      "<generator object say_hi at 0x7f43c04423d0>\n",
      "<generator object say_hi at 0x7f43c04423d0>\n"
     ]
    }
   ],
   "source": [
    "g = say_hi()\n",
    "\n",
    "for i in g:\n",
    "    "
   ]
  },
  {
   "cell_type": "code",
   "execution_count": 108,
   "id": "incredible-sally",
   "metadata": {},
   "outputs": [
    {
     "ename": "StopIteration",
     "evalue": "",
     "output_type": "error",
     "traceback": [
      "\u001b[0;31m---------------------------------------------------------------------------\u001b[0m",
      "\u001b[0;31mStopIteration\u001b[0m                             Traceback (most recent call last)",
      "\u001b[0;32m<ipython-input-108-e734f8aca5ac>\u001b[0m in \u001b[0;36m<module>\u001b[0;34m\u001b[0m\n\u001b[0;32m----> 1\u001b[0;31m \u001b[0mnext\u001b[0m\u001b[0;34m(\u001b[0m\u001b[0mg\u001b[0m\u001b[0;34m)\u001b[0m\u001b[0;34m\u001b[0m\u001b[0;34m\u001b[0m\u001b[0m\n\u001b[0m",
      "\u001b[0;31mStopIteration\u001b[0m: "
     ]
    }
   ],
   "source": [
    "next(g)"
   ]
  },
  {
   "cell_type": "code",
   "execution_count": null,
   "id": "chicken-necklace",
   "metadata": {},
   "outputs": [],
   "source": []
  }
 ],
 "metadata": {
  "kernelspec": {
   "display_name": "Python 3",
   "language": "python",
   "name": "python3"
  },
  "language_info": {
   "codemirror_mode": {
    "name": "ipython",
    "version": 3
   },
   "file_extension": ".py",
   "mimetype": "text/x-python",
   "name": "python",
   "nbconvert_exporter": "python",
   "pygments_lexer": "ipython3",
   "version": "3.7.9"
  }
 },
 "nbformat": 4,
 "nbformat_minor": 5
}
