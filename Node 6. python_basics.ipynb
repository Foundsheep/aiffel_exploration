{
 "cells": [
  {
   "cell_type": "code",
   "execution_count": 3,
   "id": "wicked-processor",
   "metadata": {},
   "outputs": [],
   "source": [
    "def say_hi_couple(name1, name2):\n",
    "    print(name1,\",\",name2,\"안녕!\")"
   ]
  },
  {
   "cell_type": "code",
   "execution_count": 4,
   "id": "aboriginal-warehouse",
   "metadata": {},
   "outputs": [
    {
     "name": "stdout",
     "output_type": "stream",
     "text": [
      "이든 , 이삭 안녕!\n"
     ]
    }
   ],
   "source": [
    "say_hi_couple('이든', '이삭')"
   ]
  },
  {
   "cell_type": "markdown",
   "id": "focused-congress",
   "metadata": {},
   "source": [
    "### 6-8. 함수와 변수 (7) 함수의 결과로 값을 반환하기"
   ]
  },
  {
   "cell_type": "code",
   "execution_count": 5,
   "id": "documentary-journey",
   "metadata": {},
   "outputs": [],
   "source": [
    "def add(number1, number2):\n",
    "    print(number1 + number2)"
   ]
  },
  {
   "cell_type": "code",
   "execution_count": 6,
   "id": "changed-concentration",
   "metadata": {},
   "outputs": [
    {
     "name": "stdout",
     "output_type": "stream",
     "text": [
      "3\n"
     ]
    }
   ],
   "source": [
    "add(1,2)"
   ]
  },
  {
   "cell_type": "code",
   "execution_count": 7,
   "id": "premium-above",
   "metadata": {},
   "outputs": [
    {
     "name": "stdout",
     "output_type": "stream",
     "text": [
      "3\n"
     ]
    },
    {
     "data": {
      "text/plain": [
       "NoneType"
      ]
     },
     "execution_count": 7,
     "metadata": {},
     "output_type": "execute_result"
    }
   ],
   "source": [
    "type(add(1,2))"
   ]
  },
  {
   "cell_type": "code",
   "execution_count": 8,
   "id": "driven-telescope",
   "metadata": {},
   "outputs": [],
   "source": [
    "def add_return(number1, number2):\n",
    "    print(number1 + number2)\n",
    "    return number1 + number2"
   ]
  },
  {
   "cell_type": "code",
   "execution_count": 9,
   "id": "least-characterization",
   "metadata": {},
   "outputs": [
    {
     "name": "stdout",
     "output_type": "stream",
     "text": [
      "3\n"
     ]
    },
    {
     "data": {
      "text/plain": [
       "3"
      ]
     },
     "execution_count": 9,
     "metadata": {},
     "output_type": "execute_result"
    }
   ],
   "source": [
    "add_return(1,2)"
   ]
  },
  {
   "cell_type": "code",
   "execution_count": 11,
   "id": "multiple-suicide",
   "metadata": {},
   "outputs": [
    {
     "name": "stdout",
     "output_type": "stream",
     "text": [
      "3\n"
     ]
    },
    {
     "data": {
      "text/plain": [
       "int"
      ]
     },
     "execution_count": 11,
     "metadata": {},
     "output_type": "execute_result"
    }
   ],
   "source": [
    "type(add_return(1,2))"
   ]
  },
  {
   "cell_type": "code",
   "execution_count": 14,
   "id": "commercial-stupid",
   "metadata": {},
   "outputs": [
    {
     "data": {
      "text/plain": [
       "1"
      ]
     },
     "execution_count": 14,
     "metadata": {},
     "output_type": "execute_result"
    }
   ],
   "source": [
    "5 % 2"
   ]
  },
  {
   "cell_type": "code",
   "execution_count": 13,
   "id": "precise-lexington",
   "metadata": {},
   "outputs": [
    {
     "data": {
      "text/plain": [
       "2"
      ]
     },
     "execution_count": 13,
     "metadata": {},
     "output_type": "execute_result"
    }
   ],
   "source": [
    "5 // 2"
   ]
  },
  {
   "cell_type": "code",
   "execution_count": 15,
   "id": "wrapped-fever",
   "metadata": {},
   "outputs": [
    {
     "name": "stdout",
     "output_type": "stream",
     "text": [
      "2\n"
     ]
    }
   ],
   "source": [
    "def print_if_positive_and_even(number):\n",
    "    if (number > 0) & (number % 2 == 0):\n",
    "        print(number)\n",
    "\n",
    "#- 숫자가 양수이고(and) 짝수일 때 해당 숫자를 출력합니다.\n",
    "#-- 양수 : number > 0\n",
    "#-- 짝수 : number % 2 == 0 즉, 숫자를 2로 나눈 나머지가 0인 경우\n",
    "\n",
    "print_if_positive_and_even(1)\n",
    "print_if_positive_and_even(-1)\n",
    "print_if_positive_and_even(2)\n",
    "print_if_positive_and_even(-2)"
   ]
  },
  {
   "cell_type": "code",
   "execution_count": 17,
   "id": "composite-danger",
   "metadata": {},
   "outputs": [],
   "source": [
    "def fibonacci(n):\n",
    "    if n <=2:\n",
    "        return 1\n",
    "    else:\n",
    "        return fibonacci(n-2) + fibonacci(n-1)\n"
   ]
  },
  {
   "cell_type": "code",
   "execution_count": 19,
   "id": "angry-police",
   "metadata": {},
   "outputs": [
    {
     "name": "stdout",
     "output_type": "stream",
     "text": [
      "1\n",
      "1\n",
      "2\n",
      "3\n",
      "5\n",
      "8\n",
      "13\n",
      "21\n",
      "34\n",
      "55\n",
      "89\n",
      "144\n",
      "233\n",
      "377\n",
      "610\n",
      "987\n",
      "1597\n",
      "2584\n",
      "4181\n",
      "6765\n",
      "done\n"
     ]
    }
   ],
   "source": [
    "n = 1\n",
    "while n<=20:\n",
    "    print(fibonacci(n))\n",
    "    n += 1\n",
    "print(\"done\")"
   ]
  },
  {
   "cell_type": "code",
   "execution_count": 20,
   "id": "fundamental-monitor",
   "metadata": {},
   "outputs": [
    {
     "name": "stdout",
     "output_type": "stream",
     "text": [
      "1.0\n",
      "<class 'float'>\n",
      "1\n",
      "<class 'int'>\n"
     ]
    }
   ],
   "source": [
    "print(float(1))\n",
    "print(type(float(1)))\n",
    "print(int(1.0))\n",
    "print(type(int(1.0)))"
   ]
  },
  {
   "cell_type": "code",
   "execution_count": 21,
   "id": "geographic-joining",
   "metadata": {},
   "outputs": [
    {
     "name": "stdout",
     "output_type": "stream",
     "text": [
      "False\n",
      "True\n"
     ]
    }
   ],
   "source": [
    "print(not True)\n",
    "print(not not True)"
   ]
  },
  {
   "cell_type": "code",
   "execution_count": 24,
   "id": "single-silver",
   "metadata": {},
   "outputs": [
    {
     "name": "stdout",
     "output_type": "stream",
     "text": [
      "Quote(') and double quote(\")\n"
     ]
    }
   ],
   "source": [
    "print('Quote(\\') and double quote(\\\")')"
   ]
  },
  {
   "cell_type": "code",
   "execution_count": 25,
   "id": "stainless-roommate",
   "metadata": {},
   "outputs": [
    {
     "name": "stdout",
     "output_type": "stream",
     "text": [
      "line 1\n",
      "line 2\n",
      "\n"
     ]
    }
   ],
   "source": [
    "print(\"\"\"line 1\n",
    "line 2\n",
    "\"\"\")"
   ]
  },
  {
   "cell_type": "code",
   "execution_count": 27,
   "id": "aging-wyoming",
   "metadata": {},
   "outputs": [
    {
     "name": "stdout",
     "output_type": "stream",
     "text": [
      "hlo\n"
     ]
    }
   ],
   "source": [
    "message = 'hello'\n",
    "print(message[::2])"
   ]
  },
  {
   "cell_type": "code",
   "execution_count": 28,
   "id": "normal-priority",
   "metadata": {},
   "outputs": [
    {
     "data": {
      "text/plain": [
       "'h'"
      ]
     },
     "execution_count": 28,
     "metadata": {},
     "output_type": "execute_result"
    }
   ],
   "source": [
    "message[0]"
   ]
  },
  {
   "cell_type": "code",
   "execution_count": 31,
   "id": "nutritional-launch",
   "metadata": {},
   "outputs": [
    {
     "name": "stdout",
     "output_type": "stream",
     "text": [
      "hl\n"
     ]
    }
   ],
   "source": [
    "print(message[:-1:2])"
   ]
  },
  {
   "cell_type": "code",
   "execution_count": 35,
   "id": "useful-interval",
   "metadata": {},
   "outputs": [
    {
     "name": "stdout",
     "output_type": "stream",
     "text": [
      "olleh\n"
     ]
    }
   ],
   "source": [
    "print(message[-1::-1])"
   ]
  },
  {
   "cell_type": "code",
   "execution_count": 36,
   "id": "frequent-button",
   "metadata": {},
   "outputs": [
    {
     "name": "stdout",
     "output_type": "stream",
     "text": [
      "olh\n"
     ]
    }
   ],
   "source": [
    "print(message[-1::-2])"
   ]
  },
  {
   "cell_type": "code",
   "execution_count": 38,
   "id": "perceived-portal",
   "metadata": {},
   "outputs": [
    {
     "name": "stdout",
     "output_type": "stream",
     "text": [
      "olleh\n"
     ]
    }
   ],
   "source": [
    "print(message[::-1])"
   ]
  },
  {
   "cell_type": "code",
   "execution_count": 42,
   "id": "destroyed-collector",
   "metadata": {},
   "outputs": [
    {
     "data": {
      "text/plain": [
       "(0, 'hi', True)"
      ]
     },
     "execution_count": 42,
     "metadata": {},
     "output_type": "execute_result"
    }
   ],
   "source": [
    "mix_tuple = (0,\"hi\",True)\n",
    "mix_tuple"
   ]
  },
  {
   "cell_type": "code",
   "execution_count": 43,
   "id": "external-protection",
   "metadata": {},
   "outputs": [
    {
     "data": {
      "text/plain": [
       "(0, 1, 1, 2, 3)"
      ]
     },
     "execution_count": 43,
     "metadata": {},
     "output_type": "execute_result"
    }
   ],
   "source": [
    "tuple((0, 1, 1, 2, 3))"
   ]
  },
  {
   "cell_type": "code",
   "execution_count": 45,
   "id": "arabic-packing",
   "metadata": {},
   "outputs": [
    {
     "data": {
      "text/plain": [
       "((1, 2), (3, 4))"
      ]
     },
     "execution_count": 45,
     "metadata": {},
     "output_type": "execute_result"
    }
   ],
   "source": [
    "nested_tuple = ((1,2), (3,4))\n",
    "nested_tuple"
   ]
  },
  {
   "cell_type": "code",
   "execution_count": 47,
   "id": "conscious-exposure",
   "metadata": {},
   "outputs": [
    {
     "data": {
      "text/plain": [
       "2"
      ]
     },
     "execution_count": 47,
     "metadata": {},
     "output_type": "execute_result"
    }
   ],
   "source": [
    "nested_tuple[0][1]"
   ]
  },
  {
   "cell_type": "code",
   "execution_count": 48,
   "id": "martial-motivation",
   "metadata": {},
   "outputs": [
    {
     "data": {
      "text/plain": [
       "(5, 6, 7, 8)"
      ]
     },
     "execution_count": 48,
     "metadata": {},
     "output_type": "execute_result"
    }
   ],
   "source": [
    "test_tuple = (5,6,7,8)\n",
    "test_tuple"
   ]
  },
  {
   "cell_type": "code",
   "execution_count": 49,
   "id": "massive-lodging",
   "metadata": {},
   "outputs": [
    {
     "data": {
      "text/plain": [
       "((1, 2), (3, 4), 5, 6, 7, 8)"
      ]
     },
     "execution_count": 49,
     "metadata": {},
     "output_type": "execute_result"
    }
   ],
   "source": [
    "nested_tuple + test_tuple"
   ]
  },
  {
   "cell_type": "code",
   "execution_count": 51,
   "id": "elder-mapping",
   "metadata": {},
   "outputs": [
    {
     "data": {
      "text/plain": [
       "{'first_name': '단테', 'last_name': '그리'}"
      ]
     },
     "execution_count": 51,
     "metadata": {},
     "output_type": "execute_result"
    }
   ],
   "source": [
    "conductor = {\"first_name\":\"단테\", \"last_name\":\"그리\"}\n",
    "conductor"
   ]
  },
  {
   "cell_type": "code",
   "execution_count": 52,
   "id": "homeless-south",
   "metadata": {},
   "outputs": [
    {
     "data": {
      "text/plain": [
       "{'first_name': '단테', 'last_name': '그리', 'gender': 'male'}"
      ]
     },
     "execution_count": 52,
     "metadata": {},
     "output_type": "execute_result"
    }
   ],
   "source": [
    "conductor['gender'] = 'male'\n",
    "conductor"
   ]
  },
  {
   "cell_type": "code",
   "execution_count": 55,
   "id": "norwegian-season",
   "metadata": {},
   "outputs": [
    {
     "data": {
      "text/plain": [
       "{'first_name': '단테', 'last_name': '그리'}"
      ]
     },
     "execution_count": 55,
     "metadata": {},
     "output_type": "execute_result"
    }
   ],
   "source": [
    "conductor.pop('gender')\n",
    "conductor"
   ]
  },
  {
   "cell_type": "code",
   "execution_count": 56,
   "id": "consistent-boxing",
   "metadata": {},
   "outputs": [
    {
     "data": {
      "text/plain": [
       "{'first_name': '단테', 'last_name': '그리', 'age': 20}"
      ]
     },
     "execution_count": 56,
     "metadata": {},
     "output_type": "execute_result"
    }
   ],
   "source": [
    "conductor['age'] = 20\n",
    "conductor"
   ]
  },
  {
   "cell_type": "code",
   "execution_count": 58,
   "id": "wired-thumbnail",
   "metadata": {},
   "outputs": [
    {
     "name": "stdout",
     "output_type": "stream",
     "text": [
      "first_name 단테\n",
      "last_name 그리\n",
      "age 20\n"
     ]
    }
   ],
   "source": [
    "for i in conductor:\n",
    "    print(i, conductor[i])"
   ]
  },
  {
   "cell_type": "code",
   "execution_count": 59,
   "id": "confused-engagement",
   "metadata": {},
   "outputs": [
    {
     "name": "stdout",
     "output_type": "stream",
     "text": [
      "first_name 단테\n",
      "last_name 그리\n",
      "age 20\n"
     ]
    }
   ],
   "source": [
    "for k,v in conductor.items():\n",
    "    print(k,v)"
   ]
  },
  {
   "cell_type": "code",
   "execution_count": 61,
   "id": "floral-organic",
   "metadata": {},
   "outputs": [
    {
     "data": {
      "text/plain": [
       "dict_items"
      ]
     },
     "execution_count": 61,
     "metadata": {},
     "output_type": "execute_result"
    }
   ],
   "source": [
    "type(conductor.items())"
   ]
  },
  {
   "cell_type": "markdown",
   "id": "solid-drawing",
   "metadata": {},
   "source": [
    "### fibonacci 심화(더 빠르게)"
   ]
  },
  {
   "cell_type": "code",
   "execution_count": 69,
   "id": "appropriate-shadow",
   "metadata": {},
   "outputs": [],
   "source": [
    "memory = {1:1, 2:1}\n",
    "\n",
    "def fibonacci(n):\n",
    "    if n in memory:\n",
    "        number = memory[n]\n",
    "    else:\n",
    "        number = fibonacci(n-1) + fibonacci(n-2)\n",
    "        memory[n] = number\n",
    "    return number"
   ]
  },
  {
   "cell_type": "code",
   "execution_count": 70,
   "id": "cleared-cover",
   "metadata": {},
   "outputs": [
    {
     "data": {
      "text/plain": [
       "354224848179261915075"
      ]
     },
     "execution_count": 70,
     "metadata": {},
     "output_type": "execute_result"
    }
   ],
   "source": [
    "fibonacci(100)"
   ]
  },
  {
   "cell_type": "code",
   "execution_count": 71,
   "id": "competent-edgar",
   "metadata": {},
   "outputs": [
    {
     "name": "stdout",
     "output_type": "stream",
     "text": [
      "{1: 1, 2: 1, 3: 2, 4: 3, 5: 5, 6: 8, 7: 13, 8: 21, 9: 34, 10: 55, 11: 89, 12: 144, 13: 233, 14: 377, 15: 610, 16: 987, 17: 1597, 18: 2584, 19: 4181, 20: 6765, 21: 10946, 22: 17711, 23: 28657, 24: 46368, 25: 75025, 26: 121393, 27: 196418, 28: 317811, 29: 514229, 30: 832040, 31: 1346269, 32: 2178309, 33: 3524578, 34: 5702887, 35: 9227465, 36: 14930352, 37: 24157817, 38: 39088169, 39: 63245986, 40: 102334155, 41: 165580141, 42: 267914296, 43: 433494437, 44: 701408733, 45: 1134903170, 46: 1836311903, 47: 2971215073, 48: 4807526976, 49: 7778742049, 50: 12586269025, 51: 20365011074, 52: 32951280099, 53: 53316291173, 54: 86267571272, 55: 139583862445, 56: 225851433717, 57: 365435296162, 58: 591286729879, 59: 956722026041, 60: 1548008755920, 61: 2504730781961, 62: 4052739537881, 63: 6557470319842, 64: 10610209857723, 65: 17167680177565, 66: 27777890035288, 67: 44945570212853, 68: 72723460248141, 69: 117669030460994, 70: 190392490709135, 71: 308061521170129, 72: 498454011879264, 73: 806515533049393, 74: 1304969544928657, 75: 2111485077978050, 76: 3416454622906707, 77: 5527939700884757, 78: 8944394323791464, 79: 14472334024676221, 80: 23416728348467685, 81: 37889062373143906, 82: 61305790721611591, 83: 99194853094755497, 84: 160500643816367088, 85: 259695496911122585, 86: 420196140727489673, 87: 679891637638612258, 88: 1100087778366101931, 89: 1779979416004714189, 90: 2880067194370816120, 91: 4660046610375530309, 92: 7540113804746346429, 93: 12200160415121876738, 94: 19740274219868223167, 95: 31940434634990099905, 96: 51680708854858323072, 97: 83621143489848422977, 98: 135301852344706746049, 99: 218922995834555169026, 100: 354224848179261915075}\n"
     ]
    }
   ],
   "source": [
    "print(memory)"
   ]
  },
  {
   "cell_type": "code",
   "execution_count": 68,
   "id": "formed-column",
   "metadata": {},
   "outputs": [
    {
     "name": "stdout",
     "output_type": "stream",
     "text": [
      "354224848179261915075\n",
      "{1: 1, 2: 1, 3: 2, 4: 3, 5: 5, 6: 8, 7: 13, 8: 21, 9: 34, 10: 55, 11: 89, 12: 144, 13: 233, 14: 377, 15: 610, 16: 987, 17: 1597, 18: 2584, 19: 4181, 20: 6765, 21: 10946, 22: 17711, 23: 28657, 24: 46368, 25: 75025, 26: 121393, 27: 196418, 28: 317811, 29: 514229, 30: 832040, 31: 1346269, 32: 2178309, 33: 3524578, 34: 5702887, 35: 9227465, 36: 14930352, 37: 24157817, 38: 39088169, 39: 63245986, 40: 102334155, 41: 165580141, 42: 267914296, 43: 433494437, 44: 701408733, 45: 1134903170, 46: 1836311903, 47: 2971215073, 48: 4807526976, 49: 7778742049, 50: 12586269025, 51: 20365011074, 52: 32951280099, 53: 53316291173, 54: 86267571272, 55: 139583862445, 56: 225851433717, 57: 365435296162, 58: 591286729879, 59: 956722026041, 60: 1548008755920, 61: 2504730781961, 62: 4052739537881, 63: 6557470319842, 64: 10610209857723, 65: 17167680177565, 66: 27777890035288, 67: 44945570212853, 68: 72723460248141, 69: 117669030460994, 70: 190392490709135, 71: 308061521170129, 72: 498454011879264, 73: 806515533049393, 74: 1304969544928657, 75: 2111485077978050, 76: 3416454622906707, 77: 5527939700884757, 78: 8944394323791464, 79: 14472334024676221, 80: 23416728348467685, 81: 37889062373143906, 82: 61305790721611591, 83: 99194853094755497, 84: 160500643816367088, 85: 259695496911122585, 86: 420196140727489673, 87: 679891637638612258, 88: 1100087778366101931, 89: 1779979416004714189, 90: 2880067194370816120, 91: 4660046610375530309, 92: 7540113804746346429, 93: 12200160415121876738, 94: 19740274219868223167, 95: 31940434634990099905, 96: 51680708854858323072, 97: 83621143489848422977, 98: 135301852344706746049, 99: 218922995834555169026, 100: 354224848179261915075}\n"
     ]
    }
   ],
   "source": [
    "memory = {1: 1, 2: 1}\n",
    "\n",
    "def fibonacci(n):\n",
    "    if n in memory:\n",
    "        number = memory[n]\n",
    "    else:\n",
    "        number = fibonacci(n-1) + fibonacci(n-2)\n",
    "        memory[n] = number\n",
    "    return number\n",
    "\n",
    "print(fibonacci(100))\n",
    "\n",
    "print(memory)"
   ]
  },
  {
   "cell_type": "markdown",
   "id": "dutch-momentum",
   "metadata": {},
   "source": [
    "# 별찍기"
   ]
  },
  {
   "cell_type": "code",
   "execution_count": 73,
   "id": "stable-mercury",
   "metadata": {},
   "outputs": [
    {
     "name": "stdout",
     "output_type": "stream",
     "text": [
      "*\n",
      "*\n",
      "*\n",
      "*\n",
      "*\n"
     ]
    }
   ],
   "source": [
    "# (5,0) 별 찍기\n",
    "for i in range(5):\n",
    "    print(\"*\")"
   ]
  },
  {
   "cell_type": "code",
   "execution_count": 75,
   "id": "prepared-police",
   "metadata": {},
   "outputs": [
    {
     "name": "stdout",
     "output_type": "stream",
     "text": [
      "*******\n",
      "*******\n",
      "*******\n"
     ]
    }
   ],
   "source": [
    "for i in range(3):\n",
    "    print(\"*\"*7)"
   ]
  },
  {
   "cell_type": "code",
   "execution_count": 77,
   "id": "professional-niagara",
   "metadata": {},
   "outputs": [
    {
     "name": "stdout",
     "output_type": "stream",
     "text": [
      "*******\n",
      "*******\n",
      "*******\n",
      "------------------------\n",
      "*****\n",
      "*****\n",
      "*****\n",
      "*****\n",
      "*****\n",
      "구구단 출력\n",
      "2 * 2 : 4\n",
      "2 * 3 : 6\n",
      "2 * 4 : 8\n",
      "2 * 5 : 10\n",
      "2 * 6 : 12\n",
      "2 * 7 : 14\n",
      "2 * 8 : 16\n",
      "2 * 9 : 18\n",
      "3 * 2 : 6\n",
      "3 * 3 : 9\n",
      "3 * 4 : 12\n",
      "3 * 5 : 15\n",
      "3 * 6 : 18\n",
      "3 * 7 : 21\n",
      "3 * 8 : 24\n",
      "3 * 9 : 27\n",
      "4 * 2 : 8\n",
      "4 * 3 : 12\n",
      "4 * 4 : 16\n",
      "4 * 5 : 20\n",
      "4 * 6 : 24\n",
      "4 * 7 : 28\n",
      "4 * 8 : 32\n",
      "4 * 9 : 36\n",
      "5 * 2 : 10\n",
      "5 * 3 : 15\n",
      "5 * 4 : 20\n",
      "5 * 5 : 25\n",
      "5 * 6 : 30\n",
      "5 * 7 : 35\n",
      "5 * 8 : 40\n",
      "5 * 9 : 45\n",
      "6 * 2 : 12\n",
      "6 * 3 : 18\n",
      "6 * 4 : 24\n",
      "6 * 5 : 30\n",
      "6 * 6 : 36\n",
      "6 * 7 : 42\n",
      "6 * 8 : 48\n",
      "6 * 9 : 54\n",
      "7 * 2 : 14\n",
      "7 * 3 : 21\n",
      "7 * 4 : 28\n",
      "7 * 5 : 35\n",
      "7 * 6 : 42\n",
      "7 * 7 : 49\n",
      "7 * 8 : 56\n",
      "7 * 9 : 63\n",
      "8 * 2 : 16\n",
      "8 * 3 : 24\n",
      "8 * 4 : 32\n",
      "8 * 5 : 40\n",
      "8 * 6 : 48\n",
      "8 * 7 : 56\n",
      "8 * 8 : 64\n",
      "8 * 9 : 72\n",
      "9 * 2 : 18\n",
      "9 * 3 : 27\n",
      "9 * 4 : 36\n",
      "9 * 5 : 45\n",
      "9 * 6 : 54\n",
      "9 * 7 : 63\n",
      "9 * 8 : 72\n",
      "9 * 9 : 81\n"
     ]
    }
   ],
   "source": [
    "# 별찍기\n",
    "for i in range(3):\n",
    "    print(\"*\"*7)\n",
    "\n",
    "print(\"------------------------\")\n",
    "# (5,5)\n",
    "for i in range(5):\n",
    "    print(\"*\"*5)\n",
    "\n",
    "print(\"구구단 출력\")\n",
    "# 단수 앞에, 반복되는 거 뒤에\n",
    "# 프린트하기\n",
    "# 단수는 2단부터\n",
    "for front_num in range(2,10):\n",
    "    for rear_num in range(2, 10):\n",
    "        print(front_num, \"*\", rear_num, \":\", front_num * rear_num)\n"
   ]
  },
  {
   "cell_type": "code",
   "execution_count": 105,
   "id": "greek-jurisdiction",
   "metadata": {},
   "outputs": [
    {
     "name": "stdout",
     "output_type": "stream",
     "text": [
      "2 * 2 :  4 | 3 * 2 :  6 | 4 * 2 :  8 | 5 * 2 : 10 | 6 * 2 : 12 | 7 * 2 : 14 | 8 * 2 : 16 | 9 * 2 : 18 END\n",
      "2 * 3 :  6 | 3 * 3 :  9 | 4 * 3 : 12 | 5 * 3 : 15 | 6 * 3 : 18 | 7 * 3 : 21 | 8 * 3 : 24 | 9 * 3 : 27 END\n",
      "2 * 4 :  8 | 3 * 4 : 12 | 4 * 4 : 16 | 5 * 4 : 20 | 6 * 4 : 24 | 7 * 4 : 28 | 8 * 4 : 32 | 9 * 4 : 36 END\n",
      "2 * 5 : 10 | 3 * 5 : 15 | 4 * 5 : 20 | 5 * 5 : 25 | 6 * 5 : 30 | 7 * 5 : 35 | 8 * 5 : 40 | 9 * 5 : 45 END\n",
      "2 * 6 : 12 | 3 * 6 : 18 | 4 * 6 : 24 | 5 * 6 : 30 | 6 * 6 : 36 | 7 * 6 : 42 | 8 * 6 : 48 | 9 * 6 : 54 END\n",
      "2 * 7 : 14 | 3 * 7 : 21 | 4 * 7 : 28 | 5 * 7 : 35 | 6 * 7 : 42 | 7 * 7 : 49 | 8 * 7 : 56 | 9 * 7 : 63 END\n",
      "2 * 8 : 16 | 3 * 8 : 24 | 4 * 8 : 32 | 5 * 8 : 40 | 6 * 8 : 48 | 7 * 8 : 56 | 8 * 8 : 64 | 9 * 8 : 72 END\n",
      "2 * 9 : 18 | 3 * 9 : 27 | 4 * 9 : 36 | 5 * 9 : 45 | 6 * 9 : 54 | 7 * 9 : 63 | 8 * 9 : 72 | 9 * 9 : 81 END\n"
     ]
    }
   ],
   "source": [
    "# 세로로 단수 1개 쌓고, 가로로 펼쳐 나가기\n",
    "for v_num in range(2, 10):\n",
    "    for h_num in range(2, 10):\n",
    "        if h_num !=9:\n",
    "            if h_num * v_num < 10:\n",
    "                print(h_num, \"*\", v_num, \":\", \"\", h_num * v_num, \"|\", end=' ')\n",
    "            else:\n",
    "                print(h_num, \"*\", v_num, \":\", h_num * v_num, \"|\", end=' ')\n",
    "        else:\n",
    "            print(h_num, \"*\", v_num, \":\", h_num * v_num, \"END\")"
   ]
  },
  {
   "cell_type": "code",
   "execution_count": 84,
   "id": "involved-jacob",
   "metadata": {},
   "outputs": [
    {
     "name": "stdout",
     "output_type": "stream",
     "text": [
      "2 * 2 : 4 | 2 * 3 : 6 | 2 * 4 : 8 | 2 * 5 : 10 | 2 * 6 : 12 | 2 * 7 : 14 | 2 * 8 : 16 | 2 * 9 : 18 END\n",
      "3 * 2 : 6 | 3 * 3 : 9 | 3 * 4 : 12 | 3 * 5 : 15 | 3 * 6 : 18 | 3 * 7 : 21 | 3 * 8 : 24 | 3 * 9 : 27 END\n",
      "4 * 2 : 8 | 4 * 3 : 12 | 4 * 4 : 16 | 4 * 5 : 20 | 4 * 6 : 24 | 4 * 7 : 28 | 4 * 8 : 32 | 4 * 9 : 36 END\n",
      "5 * 2 : 10 | 5 * 3 : 15 | 5 * 4 : 20 | 5 * 5 : 25 | 5 * 6 : 30 | 5 * 7 : 35 | 5 * 8 : 40 | 5 * 9 : 45 END\n",
      "6 * 2 : 12 | 6 * 3 : 18 | 6 * 4 : 24 | 6 * 5 : 30 | 6 * 6 : 36 | 6 * 7 : 42 | 6 * 8 : 48 | 6 * 9 : 54 END\n",
      "7 * 2 : 14 | 7 * 3 : 21 | 7 * 4 : 28 | 7 * 5 : 35 | 7 * 6 : 42 | 7 * 7 : 49 | 7 * 8 : 56 | 7 * 9 : 63 END\n",
      "8 * 2 : 16 | 8 * 3 : 24 | 8 * 4 : 32 | 8 * 5 : 40 | 8 * 6 : 48 | 8 * 7 : 56 | 8 * 8 : 64 | 8 * 9 : 72 END\n",
      "9 * 2 : 18 | 9 * 3 : 27 | 9 * 4 : 36 | 9 * 5 : 45 | 9 * 6 : 54 | 9 * 7 : 63 | 9 * 8 : 72 | 9 * 9 : 81 END\n"
     ]
    }
   ],
   "source": [
    "# 가로로 단수 넣기\n",
    "for front_num in range(2,10):\n",
    "    for rear_num in range(2, 10):\n",
    "        if rear_num < 9:\n",
    "            print(front_num, \"*\", rear_num, \":\", front_num * rear_num, \"|\", end=' ')\n",
    "        else:\n",
    "            print(front_num, \"*\", rear_num, \":\", front_num * rear_num, \"END\")"
   ]
  },
  {
   "cell_type": "code",
   "execution_count": 85,
   "id": "parallel-purse",
   "metadata": {},
   "outputs": [
    {
     "name": "stdout",
     "output_type": "stream",
     "text": [
      "2 * 2 :  4 | 2 * 3 :  6 | 2 * 4 :  8 | 2 * 5 : 10 | 2 * 6 : 12 | 2 * 7 : 14 | 2 * 8 : 16 | 2 * 9 : 18 END\n",
      "3 * 2 :  6 | 3 * 3 :  9 | 3 * 4 : 12 | 3 * 5 : 15 | 3 * 6 : 18 | 3 * 7 : 21 | 3 * 8 : 24 | 3 * 9 : 27 END\n",
      "4 * 2 :  8 | 4 * 3 : 12 | 4 * 4 : 16 | 4 * 5 : 20 | 4 * 6 : 24 | 4 * 7 : 28 | 4 * 8 : 32 | 4 * 9 : 36 END\n",
      "5 * 2 : 10 | 5 * 3 : 15 | 5 * 4 : 20 | 5 * 5 : 25 | 5 * 6 : 30 | 5 * 7 : 35 | 5 * 8 : 40 | 5 * 9 : 45 END\n",
      "6 * 2 : 12 | 6 * 3 : 18 | 6 * 4 : 24 | 6 * 5 : 30 | 6 * 6 : 36 | 6 * 7 : 42 | 6 * 8 : 48 | 6 * 9 : 54 END\n",
      "7 * 2 : 14 | 7 * 3 : 21 | 7 * 4 : 28 | 7 * 5 : 35 | 7 * 6 : 42 | 7 * 7 : 49 | 7 * 8 : 56 | 7 * 9 : 63 END\n",
      "8 * 2 : 16 | 8 * 3 : 24 | 8 * 4 : 32 | 8 * 5 : 40 | 8 * 6 : 48 | 8 * 7 : 56 | 8 * 8 : 64 | 8 * 9 : 72 END\n",
      "9 * 2 : 18 | 9 * 3 : 27 | 9 * 4 : 36 | 9 * 5 : 45 | 9 * 6 : 54 | 9 * 7 : 63 | 9 * 8 : 72 | 9 * 9 : 81 END\n"
     ]
    }
   ],
   "source": [
    "# 가로로 단수 넣기\n",
    "for front_num in range(2,10):\n",
    "    for rear_num in range(2, 10):\n",
    "        if rear_num < 9:\n",
    "            if front_num * rear_num < 10:\n",
    "                print(front_num, \"*\", rear_num, \":\", \"\", front_num * rear_num, \"|\", end=' ')\n",
    "            else:\n",
    "                print(front_num, \"*\", rear_num, \":\", front_num * rear_num, \"|\", end=' ')\n",
    "        else:\n",
    "            print(front_num, \"*\", rear_num, \":\", front_num * rear_num, \"END\")"
   ]
  },
  {
   "cell_type": "code",
   "execution_count": 87,
   "id": "specific-network",
   "metadata": {},
   "outputs": [
    {
     "name": "stdout",
     "output_type": "stream",
     "text": [
      "*\n",
      "**\n",
      "***\n",
      "****\n",
      "*****\n",
      "******\n",
      "*******\n"
     ]
    }
   ],
   "source": [
    "# 3단계 별 찍기\n",
    "for i in range(1,8):\n",
    "    print(\"*\"*i)"
   ]
  },
  {
   "cell_type": "code",
   "execution_count": 106,
   "id": "convenient-bernard",
   "metadata": {},
   "outputs": [
    {
     "name": "stdout",
     "output_type": "stream",
     "text": [
      "5\n",
      "*\n",
      "**\n",
      "***\n",
      "****\n",
      "*****\n"
     ]
    }
   ],
   "source": [
    "# 3-1) 별 찍기\n",
    "num = int(input())\n",
    "\n",
    "for i in range(1, num+1):\n",
    "    print(\"*\" * i)"
   ]
  },
  {
   "cell_type": "code",
   "execution_count": 112,
   "id": "changed-terrorist",
   "metadata": {},
   "outputs": [
    {
     "name": "stdout",
     "output_type": "stream",
     "text": [
      "5\n",
      "    *\n",
      "   **\n",
      "  ***\n",
      " ****\n",
      "*****\n"
     ]
    }
   ],
   "source": [
    "# 3-2) 별 찍기\n",
    "num = int(input())\n",
    "\n",
    "for i in range(1, num+1):\n",
    "    print(\" \" * (num-i) + \"*\"*i)"
   ]
  },
  {
   "cell_type": "code",
   "execution_count": 117,
   "id": "accepted-religious",
   "metadata": {},
   "outputs": [
    {
     "name": "stdout",
     "output_type": "stream",
     "text": [
      "5\n",
      "*****\n",
      " ****\n",
      "  ***\n",
      "   **\n",
      "    *\n"
     ]
    }
   ],
   "source": [
    "# 3-3) 별 찍기\n",
    "num = int(input())\n",
    "\n",
    "for i in range(1, num+1):\n",
    "    print(\" \" * (i-1) + \"*\"*(num-i+1))"
   ]
  },
  {
   "cell_type": "code",
   "execution_count": 118,
   "id": "superior-being",
   "metadata": {},
   "outputs": [
    {
     "name": "stdout",
     "output_type": "stream",
     "text": [
      "5\n",
      "***** \n",
      "****  \n",
      "***   \n",
      "**    \n",
      "*     \n"
     ]
    }
   ],
   "source": [
    "# 3-4) 별 찍기\n",
    "\n",
    "num = int(input())\n",
    "\n",
    "for i in range(1, num+1):\n",
    "    print(\"*\"*(num-i+1) + \" \"*i)"
   ]
  },
  {
   "cell_type": "code",
   "execution_count": 128,
   "id": "alleged-continent",
   "metadata": {},
   "outputs": [
    {
     "name": "stdout",
     "output_type": "stream",
     "text": [
      "3\n",
      "  *  \n",
      " *** \n",
      "*****\n"
     ]
    }
   ],
   "source": [
    "# 4단계, 입력된 수만큼의 별 산 만들기\n",
    "\n",
    "num = int(input())\n",
    "\n",
    "for i in range(num):\n",
    "    print(\" \"*(num-i-1) + \"*\"*((i+1)*2 -1) + \" \"*(num-i-1))"
   ]
  },
  {
   "cell_type": "code",
   "execution_count": 129,
   "id": "lesbian-prague",
   "metadata": {},
   "outputs": [
    {
     "name": "stdout",
     "output_type": "stream",
     "text": [
      "5\n",
      "    *    \n",
      "   ***   \n",
      "  *****  \n",
      " ******* \n",
      "*********\n"
     ]
    }
   ],
   "source": [
    "# 4단계, 입력된 수만큼의 별 산 만들기\n",
    "\n",
    "num = int(input())\n",
    "\n",
    "for i in range(num):\n",
    "    print(\" \"*(num-i-1) + \"*\"*((i+1)*2 -1) + \" \"*(num-i-1))"
   ]
  },
  {
   "cell_type": "code",
   "execution_count": 133,
   "id": "sealed-rescue",
   "metadata": {},
   "outputs": [
    {
     "name": "stdout",
     "output_type": "stream",
     "text": [
      "3\n",
      "  *  \n",
      " *** \n",
      "*****\n"
     ]
    }
   ],
   "source": [
    "# 4단계, 입력된 수만큼의 별 산 만들기\n",
    "\n",
    "num = int(input())\n",
    "\n",
    "for i in range(num):\n",
    "    print(\" \"*(num-i-1) + \"*\"*((i+1)*2 -1) + \" \"*(num-i-1))"
   ]
  },
  {
   "cell_type": "code",
   "execution_count": 144,
   "id": "orange-equation",
   "metadata": {},
   "outputs": [
    {
     "name": "stdout",
     "output_type": "stream",
     "text": [
      "*\n",
      "**\n",
      "***\n",
      "****\n",
      "*****\n"
     ]
    }
   ],
   "source": [
    "for i in range(5):\n",
    "    for j in range(5):\n",
    "        if i >= j:\n",
    "            print(\"*\", end=\"\")\n",
    "    print()"
   ]
  },
  {
   "cell_type": "code",
   "execution_count": 145,
   "id": "pacific-reliance",
   "metadata": {},
   "outputs": [
    {
     "name": "stdout",
     "output_type": "stream",
     "text": [
      "*****\n",
      "****\n",
      "***\n",
      "**\n",
      "*\n"
     ]
    }
   ],
   "source": [
    "for i in range(5):\n",
    "    for j in range(5):\n",
    "        if i <= j:\n",
    "            print(\"*\", end=\"\")\n",
    "    print()"
   ]
  },
  {
   "cell_type": "code",
   "execution_count": 148,
   "id": "little-rebate",
   "metadata": {},
   "outputs": [
    {
     "name": "stdout",
     "output_type": "stream",
     "text": [
      "*****\n",
      " ****\n",
      "  ***\n",
      "   **\n",
      "    *\n"
     ]
    }
   ],
   "source": [
    "for i in range(5):\n",
    "    for j in range(5):\n",
    "        if i > j:\n",
    "            print(\" \", end=\"\")\n",
    "        else:\n",
    "            print(\"*\", end=\"\")\n",
    "    print()"
   ]
  },
  {
   "cell_type": "code",
   "execution_count": 155,
   "id": "indirect-disposal",
   "metadata": {},
   "outputs": [],
   "source": [
    "def say_hi(name):\n",
    "    print(\"Hi\", name)\n",
    "    "
   ]
  },
  {
   "cell_type": "code",
   "execution_count": 157,
   "id": "narrative-weapon",
   "metadata": {},
   "outputs": [
    {
     "ename": "TypeError",
     "evalue": "say_hi() missing 1 required positional argument: 'name'",
     "output_type": "error",
     "traceback": [
      "\u001b[0;31m---------------------------------------------------------------------------\u001b[0m",
      "\u001b[0;31mTypeError\u001b[0m                                 Traceback (most recent call last)",
      "\u001b[0;32m<ipython-input-157-6acd93c5568f>\u001b[0m in \u001b[0;36m<module>\u001b[0;34m\u001b[0m\n\u001b[0;32m----> 1\u001b[0;31m \u001b[0msay_hi\u001b[0m\u001b[0;34m(\u001b[0m\u001b[0;34m)\u001b[0m\u001b[0;34m\u001b[0m\u001b[0;34m\u001b[0m\u001b[0m\n\u001b[0m",
      "\u001b[0;31mTypeError\u001b[0m: say_hi() missing 1 required positional argument: 'name'"
     ]
    }
   ],
   "source": [
    "say_hi()"
   ]
  },
  {
   "cell_type": "code",
   "execution_count": 160,
   "id": "brown-hostel",
   "metadata": {},
   "outputs": [
    {
     "name": "stdout",
     "output_type": "stream",
     "text": [
      "Hi 내사랑\n"
     ]
    }
   ],
   "source": [
    "def say_hi_to(name=\"내사랑\"):\n",
    "    print(\"Hi\", name)\n",
    "\n",
    "say_hi_to()"
   ]
  },
  {
   "cell_type": "code",
   "execution_count": null,
   "id": "patient-stanley",
   "metadata": {},
   "outputs": [],
   "source": []
  }
 ],
 "metadata": {
  "kernelspec": {
   "display_name": "Python 3",
   "language": "python",
   "name": "python3"
  },
  "language_info": {
   "codemirror_mode": {
    "name": "ipython",
    "version": 3
   },
   "file_extension": ".py",
   "mimetype": "text/x-python",
   "name": "python",
   "nbconvert_exporter": "python",
   "pygments_lexer": "ipython3",
   "version": "3.7.9"
  }
 },
 "nbformat": 4,
 "nbformat_minor": 5
}
