{
 "cells": [
  {
   "cell_type": "markdown",
   "id": "danish-paragraph",
   "metadata": {},
   "source": [
    "## 4-7. 프로젝트: 멋진 작사가 만들기\n"
   ]
  },
  {
   "cell_type": "markdown",
   "id": "useful-heather",
   "metadata": {},
   "source": [
    "### Step 1. 데이터 다운로드\n",
    "\n",
    "이미 실습(1) 데이터 다듬기에서 Cloud shell에 심볼릭 링크로 ~/aiffel/lyricist/data를 생성하셨다면, ~/aiffel/lyricist/data/lyrics에 데이터가 있습니다."
   ]
  },
  {
   "cell_type": "markdown",
   "id": "independent-uniform",
   "metadata": {},
   "source": [
    "### Step 2. 데이터 읽어오기\n",
    "\n",
    "`glob` 모듈을 사용하면 파일을 읽어오는 작업을 하기가 아주 용이해요. `glob` 를 활용하여 모든 `txt` 파일을 읽어온 후, `raw_corpus` 리스트에 문장 단위로 저장하도록 할게요!"
   ]
  },
  {
   "cell_type": "code",
   "execution_count": 50,
   "id": "opening-organizer",
   "metadata": {},
   "outputs": [
    {
     "name": "stdout",
     "output_type": "stream",
     "text": [
      "데이터 크기: 187088\n",
      "Examples:\n",
      " ['\\ufeffbaby It was all a dream', 'I used to read Word Up magazine', 'Salt n Pepa and Heavy D up in the limousine']\n"
     ]
    }
   ],
   "source": [
    "import glob\n",
    "import os\n",
    "\n",
    "txt_file_path = os.getenv('HOME')+'/aiffel/lyricist/data/lyrics/*'\n",
    "\n",
    "txt_list = glob.glob(txt_file_path)\n",
    "\n",
    "raw_corpus = []\n",
    "\n",
    "# 여러개의 txt 파일을 모두 읽어서 raw_corpus 에 담습니다.\n",
    "for txt_file in txt_list:\n",
    "    with open(txt_file, \"r\") as f:\n",
    "        raw = f.read().splitlines()\n",
    "        raw_corpus.extend(raw)\n",
    "\n",
    "print(\"데이터 크기:\", len(raw_corpus))\n",
    "print(\"Examples:\\n\", raw_corpus[:3])"
   ]
  },
  {
   "cell_type": "markdown",
   "id": "injured-encounter",
   "metadata": {},
   "source": [
    "### Step 3. 데이터 정제\n",
    "\n",
    "앞서 배운 테크닉들을 활용해 문장 생성에 적합한 모양새로 데이터를 정제하세요!\n",
    "\n",
    "`preprocess_sentence()` 함수를 만든 것을 기억하시죠? 이를 활용해 데이터를 정제하도록 하겠습니다.\n",
    "\n",
    "추가로 지나치게 긴 문장은 다른 데이터들이 과도한 Padding을 갖게 하므로 제거합니다. 너무 긴 문장은 노래 가사 작사하기에 어울리지 않을 수도 있겠죠.\n",
    "그래서 이번에는 문장을 토큰화 했을 때 토큰의 개수가 15개를 넘어가는 문장을 학습 데이터에서 제외하기 를 권합니다."
   ]
  },
  {
   "cell_type": "code",
   "execution_count": 52,
   "id": "turned-african",
   "metadata": {},
   "outputs": [
    {
     "name": "stdout",
     "output_type": "stream",
     "text": [
      "raw_corpus: 187088\n",
      "vacant    : 11102\n",
      "colon     : 237\n",
      "corpus    : 175749\n"
     ]
    }
   ],
   "source": [
    "# 여기에 정제된 문장을 모을겁니다\n",
    "corpus = []\n",
    "\n",
    "vacant = 0\n",
    "colon = 0\n",
    "for sentence in raw_corpus:\n",
    "    # 우리가 원하지 않는 문장은 건너뜁니다\n",
    "    if len(sentence) == 0:\n",
    "        vacant += 1 # 정제된 갯수 파악\n",
    "        continue\n",
    "    if sentence[-1] == \":\":\n",
    "        colon += 1 # 정제된 갯수 파악\n",
    "        continue    \n",
    "    else:\n",
    "        corpus.append(sentence)\n",
    "        \n",
    "# 확인\n",
    "print(\"raw_corpus:\", len(raw_corpus))\n",
    "print(\"vacant    :\", vacant)\n",
    "print(\"colon     :\", colon)\n",
    "print(\"corpus    :\", len(corpus))"
   ]
  },
  {
   "cell_type": "code",
   "execution_count": 54,
   "id": "eligible-escape",
   "metadata": {},
   "outputs": [],
   "source": [
    "# 패키지 불러오기\n",
    "import re\n",
    "\n",
    "# 함수 조금 변경\n",
    "def preprocess_sentence(sentences):\n",
    "    \n",
    "    corpus = []\n",
    "    # 문장 전체를 불러 오고\n",
    "    for sentence in sentences:\n",
    "        sentence = sentence.lower().strip()\n",
    "        sentence = re.sub(r\"([?.!,¿])\", r\" \\1 \", sentence)\n",
    "        sentence = re.sub(r'[\" \"]+', \" \", sentence)\n",
    "        sentence = re.sub(r\"[^a-zA-Z?.!,¿]+\", \" \", sentence)\n",
    "        sentence = sentence.strip() # 모든 정제를 마친 후\n",
    "        if len(sentence.split()) > 13:\n",
    "            continue # 단어 13개 이상이면 건너 뛰기\n",
    "        else:\n",
    "            sentence = '<start> ' + sentence + ' <end>' # 6\n",
    "            corpus.append(sentence)\n",
    "    return corpus"
   ]
  },
  {
   "cell_type": "code",
   "execution_count": 55,
   "id": "every-retirement",
   "metadata": {},
   "outputs": [
    {
     "name": "stdout",
     "output_type": "stream",
     "text": [
      "156013\n"
     ]
    }
   ],
   "source": [
    "# 단어 정제된 문장 리스트 받기\n",
    "second_corpus = preprocess_sentence(corpus)\n",
    "print(len(second_corpus))"
   ]
  },
  {
   "cell_type": "markdown",
   "id": "offshore-disco",
   "metadata": {},
   "source": [
    "## Step 4. 평가 데이터셋 분리\n",
    "\n",
    "#### 훈련 데이터와 평가 데이터를 분리하세요!\n",
    "\n",
    "tokenize() 함수로 데이터를 Tensor로 변환한 후, sklearn 모듈의 train_test_split() 함수를 사용해 훈련 데이터와 평가 데이터를 분리하도록 하겠습니다. 단어장의 크기는 12,000 이상 으로 설정하세요! 총 데이터의 20% 를 평가 데이터셋으로 사용해 주세요!\n",
    "\n"
   ]
  },
  {
   "cell_type": "code",
   "execution_count": 57,
   "id": "vocal-orchestra",
   "metadata": {},
   "outputs": [],
   "source": [
    "# 패키지 불러오기\n",
    "import tensorflow as tf\n",
    "\n",
    "# tokenize 함수 정의\n",
    "def tokenize(corpus):\n",
    "    tokenizer = tf.keras.preprocessing.text.Tokenizer(\n",
    "        num_words=14000, \n",
    "        filters=' ',\n",
    "        oov_token=\"<unk>\"\n",
    "    )\n",
    "    tokenizer.fit_on_texts(corpus)\n",
    "    tensor = tokenizer.texts_to_sequences(corpus)   \n",
    "    tensor = tf.keras.preprocessing.sequence.pad_sequences(tensor, padding='post')  \n",
    "    \n",
    "    print(tensor, tokenizer)\n",
    "    return tensor, tokenizer"
   ]
  },
  {
   "cell_type": "code",
   "execution_count": 58,
   "id": "instrumental-garlic",
   "metadata": {},
   "outputs": [
    {
     "name": "stdout",
     "output_type": "stream",
     "text": [
      "[[   2   52   11 ...    0    0    0]\n",
      " [   2    4  285 ...    0    0    0]\n",
      " [   2 2876  480 ...    0    0    0]\n",
      " ...\n",
      " [   2    8    4 ...    0    0    0]\n",
      " [   2   44   17 ...    0    0    0]\n",
      " [   2    6  172 ...    0    0    0]] <keras_preprocessing.text.Tokenizer object at 0x7f24f454bb50>\n"
     ]
    }
   ],
   "source": [
    "# tokenize 및 텐서화\n",
    "tensor, tokenizer = tokenize(second_corpus)"
   ]
  },
  {
   "cell_type": "code",
   "execution_count": 66,
   "id": "iraqi-possibility",
   "metadata": {},
   "outputs": [
    {
     "data": {
      "text/plain": [
       "(156013, 15)"
      ]
     },
     "execution_count": 66,
     "metadata": {},
     "output_type": "execute_result"
    }
   ],
   "source": [
    "tensor.shape"
   ]
  },
  {
   "cell_type": "code",
   "execution_count": 67,
   "id": "statistical-interpretation",
   "metadata": {},
   "outputs": [],
   "source": [
    "# 소스 문장, 타겟 문장 나누기\n",
    "src_input = tensor[:, :-1]\n",
    "tgt_input = tensor[:, 1:]"
   ]
  },
  {
   "cell_type": "code",
   "execution_count": 68,
   "id": "commercial-motorcycle",
   "metadata": {},
   "outputs": [
    {
     "data": {
      "text/plain": [
       "array([[    2,    52,    11,    53,    25,     9,   361,     3,     0,\n",
       "            0,     0,     0,     0,     0],\n",
       "       [    2,     4,   285,    10,   591,   483,    29,  2039,     3,\n",
       "            0,     0,     0,     0,     0],\n",
       "       [    2,  2876,   480, 12440,     8,  1099,   141,    29,    14,\n",
       "            6,  4255,     3,     0,     0]], dtype=int32)"
      ]
     },
     "execution_count": 68,
     "metadata": {},
     "output_type": "execute_result"
    }
   ],
   "source": [
    "src_input[:3]"
   ]
  },
  {
   "cell_type": "code",
   "execution_count": 69,
   "id": "polyphonic-agenda",
   "metadata": {},
   "outputs": [
    {
     "data": {
      "text/plain": [
       "array([[   52,    11,    53,    25,     9,   361,     3,     0,     0,\n",
       "            0,     0,     0,     0,     0],\n",
       "       [    4,   285,    10,   591,   483,    29,  2039,     3,     0,\n",
       "            0,     0,     0,     0,     0],\n",
       "       [ 2876,   480, 12440,     8,  1099,   141,    29,    14,     6,\n",
       "         4255,     3,     0,     0,     0]], dtype=int32)"
      ]
     },
     "execution_count": 69,
     "metadata": {},
     "output_type": "execute_result"
    }
   ],
   "source": [
    "tgt_input[:3]"
   ]
  },
  {
   "cell_type": "code",
   "execution_count": 70,
   "id": "expensive-edward",
   "metadata": {},
   "outputs": [
    {
     "name": "stdout",
     "output_type": "stream",
     "text": [
      "124810\n"
     ]
    }
   ],
   "source": [
    "# 패키지 불러오기\n",
    "from sklearn.model_selection import train_test_split\n",
    "\n",
    "enc_train, enc_val, dec_train, dec_val = train_test_split(src_input,\n",
    "                                                         tgt_input,\n",
    "                                                         test_size=0.2,\n",
    "                                                         random_state=42)\n",
    "\n",
    "print(len(enc_train))\n"
   ]
  },
  {
   "cell_type": "code",
   "execution_count": 71,
   "id": "posted-overhead",
   "metadata": {},
   "outputs": [
    {
     "name": "stdout",
     "output_type": "stream",
     "text": [
      "Source Train: (124810, 14)\n",
      "Target Train: (124810, 14)\n"
     ]
    }
   ],
   "source": [
    "# 데이터 갯수 확인\n",
    "print(\"Source Train:\", enc_train.shape)\n",
    "print(\"Target Train:\", dec_train.shape)"
   ]
  },
  {
   "cell_type": "markdown",
   "id": "infrared-marking",
   "metadata": {},
   "source": [
    "## Step 5. 인공지능 만들기\n"
   ]
  },
  {
   "cell_type": "markdown",
   "id": "accepted-suggestion",
   "metadata": {},
   "source": [
    "모델의 Embedding Size와 Hidden Size를 조절하며 10 Epoch 안에 val_loss 값을 2.2 수준으로 줄일 수 있는 모델을 설계하세요! (Loss는 아래 제시된 Loss 함수를 그대로 사용!)\n",
    "\n",
    "그리고 멋진 모델이 생성한 가사 한 줄을 제출하시길 바랍니다!"
   ]
  },
  {
   "cell_type": "code",
   "execution_count": 72,
   "id": "classified-ancient",
   "metadata": {},
   "outputs": [
    {
     "data": {
      "text/plain": [
       "<BatchDataset shapes: ((256, 14), (256, 14)), types: (tf.int32, tf.int32)>"
      ]
     },
     "execution_count": 72,
     "metadata": {},
     "output_type": "execute_result"
    }
   ],
   "source": [
    "# 데이터셋 준비\n",
    "BUFFER_SIZE = len(src_input)\n",
    "BATCH_SIZE = 256\n",
    "steps_per_epoch = len(src_input) // BATCH_SIZE\n",
    "\n",
    "VOCAB_SIZE = tokenizer.num_words + 1   \n",
    "\n",
    "dataset = tf.data.Dataset.from_tensor_slices((src_input, tgt_input))\n",
    "dataset = dataset.shuffle(BUFFER_SIZE)\n",
    "dataset = dataset.batch(BATCH_SIZE, drop_remainder=True)\n",
    "dataset"
   ]
  },
  {
   "cell_type": "code",
   "execution_count": 73,
   "id": "seasonal-memorial",
   "metadata": {},
   "outputs": [],
   "source": [
    "# 모델 설정\n",
    "class TextGenerator(tf.keras.Model):\n",
    "    def __init__(self, vocab_size, embedding_size, hidden_size):\n",
    "        super().__init__()\n",
    "        \n",
    "        self.embedding = tf.keras.layers.Embedding(vocab_size, embedding_size)\n",
    "        self.rnn_1 = tf.keras.layers.LSTM(hidden_size, return_sequences=True)\n",
    "        self.rnn_2 = tf.keras.layers.LSTM(hidden_size, return_sequences=True)\n",
    "        self.linear = tf.keras.layers.Dense(vocab_size)\n",
    "        \n",
    "    def call(self, x):\n",
    "        out = self.embedding(x)\n",
    "        out = self.rnn_1(out)\n",
    "        out = self.rnn_2(out)\n",
    "        out = self.linear(out)\n",
    "        \n",
    "        return out\n",
    "    \n"
   ]
  },
  {
   "cell_type": "markdown",
   "id": "peripheral-dollar",
   "metadata": {},
   "source": [
    "### 모델 설정(1)\n",
    "- embedding_size = 256\n",
    "- hidden_size = 1024"
   ]
  },
  {
   "cell_type": "code",
   "execution_count": 74,
   "id": "surface-commons",
   "metadata": {},
   "outputs": [],
   "source": [
    "embedding_size = 256\n",
    "hidden_size = 1024\n",
    "model = TextGenerator(tokenizer.num_words + 1, embedding_size , hidden_size)"
   ]
  },
  {
   "cell_type": "code",
   "execution_count": 75,
   "id": "greatest-wichita",
   "metadata": {},
   "outputs": [
    {
     "ename": "ValueError",
     "evalue": "This model has not yet been built. Build the model first by calling `build()` or calling `fit()` with some data, or specify an `input_shape` argument in the first layer(s) for automatic build.",
     "output_type": "error",
     "traceback": [
      "\u001b[0;31m---------------------------------------------------------------------------\u001b[0m",
      "\u001b[0;31mValueError\u001b[0m                                Traceback (most recent call last)",
      "\u001b[0;32m<ipython-input-75-8ad9ce1337b0>\u001b[0m in \u001b[0;36m<module>\u001b[0;34m\u001b[0m\n\u001b[1;32m      1\u001b[0m \u001b[0;31m# 모델 확인\u001b[0m\u001b[0;34m\u001b[0m\u001b[0;34m\u001b[0m\u001b[0;34m\u001b[0m\u001b[0m\n\u001b[0;32m----> 2\u001b[0;31m \u001b[0mmodel\u001b[0m\u001b[0;34m.\u001b[0m\u001b[0msummary\u001b[0m\u001b[0;34m(\u001b[0m\u001b[0;34m)\u001b[0m\u001b[0;34m\u001b[0m\u001b[0;34m\u001b[0m\u001b[0m\n\u001b[0m",
      "\u001b[0;32m/opt/conda/lib/python3.7/site-packages/tensorflow/python/keras/engine/training.py\u001b[0m in \u001b[0;36msummary\u001b[0;34m(self, line_length, positions, print_fn)\u001b[0m\n\u001b[1;32m   2374\u001b[0m     \"\"\"\n\u001b[1;32m   2375\u001b[0m     \u001b[0;32mif\u001b[0m \u001b[0;32mnot\u001b[0m \u001b[0mself\u001b[0m\u001b[0;34m.\u001b[0m\u001b[0mbuilt\u001b[0m\u001b[0;34m:\u001b[0m\u001b[0;34m\u001b[0m\u001b[0;34m\u001b[0m\u001b[0m\n\u001b[0;32m-> 2376\u001b[0;31m       raise ValueError('This model has not yet been built. '\n\u001b[0m\u001b[1;32m   2377\u001b[0m                        \u001b[0;34m'Build the model first by calling `build()` or calling '\u001b[0m\u001b[0;34m\u001b[0m\u001b[0;34m\u001b[0m\u001b[0m\n\u001b[1;32m   2378\u001b[0m                        \u001b[0;34m'`fit()` with some data, or specify '\u001b[0m\u001b[0;34m\u001b[0m\u001b[0;34m\u001b[0m\u001b[0m\n",
      "\u001b[0;31mValueError\u001b[0m: This model has not yet been built. Build the model first by calling `build()` or calling `fit()` with some data, or specify an `input_shape` argument in the first layer(s) for automatic build."
     ]
    }
   ],
   "source": [
    "# 모델 확인\n",
    "model.summary()"
   ]
  },
  {
   "cell_type": "code",
   "execution_count": 76,
   "id": "emotional-hammer",
   "metadata": {},
   "outputs": [
    {
     "data": {
      "text/plain": [
       "<tf.Tensor: shape=(256, 14, 14001), dtype=float32, numpy=\n",
       "array([[[ 1.06408756e-04,  1.23805512e-04, -1.66697529e-04, ...,\n",
       "         -1.05661493e-05,  2.16173707e-04,  7.13661357e-05],\n",
       "        [-3.66049208e-05,  2.64188857e-04, -3.10873846e-04, ...,\n",
       "          9.98007545e-06,  2.82292604e-04,  1.79583891e-04],\n",
       "        [-3.06450762e-04,  2.85471295e-04, -5.21949027e-04, ...,\n",
       "          1.80076109e-04,  4.47729341e-04,  3.70835915e-04],\n",
       "        ...,\n",
       "        [-4.03541955e-04,  8.98141152e-05, -1.62466709e-03, ...,\n",
       "         -3.85716907e-04,  1.21071690e-03,  5.44760085e-04],\n",
       "        [-7.83631840e-05,  3.13122116e-04, -2.08676327e-03, ...,\n",
       "         -7.26928760e-04,  1.27460295e-03,  4.47473838e-04],\n",
       "        [ 2.31234240e-04,  5.48413373e-04, -2.53360393e-03, ...,\n",
       "         -1.02637359e-03,  1.32481242e-03,  3.39265011e-04]],\n",
       "\n",
       "       [[ 1.06408756e-04,  1.23805512e-04, -1.66697529e-04, ...,\n",
       "         -1.05661493e-05,  2.16173707e-04,  7.13661357e-05],\n",
       "        [ 3.16377147e-04,  1.83287902e-05, -1.80219489e-04, ...,\n",
       "          1.07009597e-04,  2.29571844e-04,  8.56307306e-05],\n",
       "        [ 6.99856377e-04,  1.16423644e-05, -1.94553213e-04, ...,\n",
       "          3.82156868e-04,  2.91314296e-04,  1.01885169e-04],\n",
       "        ...,\n",
       "        [ 8.66942748e-04,  8.39945860e-04, -2.37516407e-03, ...,\n",
       "         -6.25737885e-04,  6.93375594e-04, -4.03011043e-04],\n",
       "        [ 1.02700840e-03,  9.88591462e-04, -2.78929202e-03, ...,\n",
       "         -9.46489105e-04,  8.42175330e-04, -4.13721165e-04],\n",
       "        [ 1.17850373e-03,  1.15006359e-03, -3.18987435e-03, ...,\n",
       "         -1.20927836e-03,  9.75900097e-04, -4.31692781e-04]],\n",
       "\n",
       "       [[ 1.06408756e-04,  1.23805512e-04, -1.66697529e-04, ...,\n",
       "         -1.05661493e-05,  2.16173707e-04,  7.13661357e-05],\n",
       "        [ 2.50933983e-04, -6.23878514e-05, -1.39530588e-04, ...,\n",
       "         -1.39453550e-06,  1.73099470e-04,  1.06577616e-04],\n",
       "        [ 4.99322545e-04, -9.71751797e-05, -3.96522548e-04, ...,\n",
       "         -1.75776186e-05,  5.86628958e-05, -2.71919766e-04],\n",
       "        ...,\n",
       "        [ 5.84084599e-04,  3.19680112e-04, -2.17182282e-03, ...,\n",
       "         -6.58267876e-04,  1.13863184e-03,  1.06434609e-05],\n",
       "        [ 7.73045002e-04,  5.11021179e-04, -2.60361074e-03, ...,\n",
       "         -8.94461758e-04,  1.18962640e-03, -9.20864659e-06],\n",
       "        [ 9.59234894e-04,  7.11679924e-04, -3.02213314e-03, ...,\n",
       "         -1.09959545e-03,  1.23369053e-03, -5.08742960e-05]],\n",
       "\n",
       "       ...,\n",
       "\n",
       "       [[ 1.06408756e-04,  1.23805512e-04, -1.66697529e-04, ...,\n",
       "         -1.05661493e-05,  2.16173707e-04,  7.13661357e-05],\n",
       "        [ 3.67757166e-04,  2.42179536e-04, -5.18298591e-04, ...,\n",
       "         -2.24078118e-04,  3.71286616e-04,  2.11132894e-04],\n",
       "        [ 2.85287475e-04,  2.17297333e-04, -6.39606849e-04, ...,\n",
       "         -3.95020004e-04,  3.95470590e-04,  2.28526464e-04],\n",
       "        ...,\n",
       "        [ 5.47432937e-05,  1.76199592e-05, -4.11707151e-04, ...,\n",
       "          8.04396113e-04, -2.11764142e-04,  6.12350239e-04],\n",
       "        [ 3.73710718e-05,  6.22790903e-05, -4.59359377e-04, ...,\n",
       "          6.02462853e-04, -1.10788380e-04,  6.36679877e-04],\n",
       "        [ 1.30684610e-04,  1.62568016e-04, -6.51759328e-04, ...,\n",
       "          2.55717285e-04,  3.04940986e-05,  6.27211935e-04]],\n",
       "\n",
       "       [[ 1.06408756e-04,  1.23805512e-04, -1.66697529e-04, ...,\n",
       "         -1.05661493e-05,  2.16173707e-04,  7.13661357e-05],\n",
       "        [ 9.00220184e-05,  1.50053558e-04, -3.21208383e-04, ...,\n",
       "         -1.81387615e-04,  5.37994260e-04,  1.54796478e-04],\n",
       "        [-5.58266911e-05,  2.25894357e-04, -2.72408564e-04, ...,\n",
       "         -8.27132535e-05,  8.27980111e-04,  1.21880643e-04],\n",
       "        ...,\n",
       "        [ 6.32369600e-04, -8.54277867e-04, -1.29964040e-03, ...,\n",
       "          1.99344810e-04,  5.99111314e-04, -4.66538550e-05],\n",
       "        [ 8.05448683e-04, -6.89138134e-04, -1.61306211e-03, ...,\n",
       "         -3.09893221e-05,  7.46465928e-04,  9.97047118e-06],\n",
       "        [ 9.93791851e-04, -4.50465915e-04, -1.96347805e-03, ...,\n",
       "         -2.98877741e-04,  8.84017500e-04,  3.46287779e-05]],\n",
       "\n",
       "       [[ 1.06408756e-04,  1.23805512e-04, -1.66697529e-04, ...,\n",
       "         -1.05661493e-05,  2.16173707e-04,  7.13661357e-05],\n",
       "        [ 8.76219201e-05, -8.57676132e-05, -2.93805730e-04, ...,\n",
       "         -9.20444654e-05,  3.27837653e-04,  1.72563246e-04],\n",
       "        [ 2.02139490e-04, -3.86013242e-04, -4.44339385e-04, ...,\n",
       "         -6.28372391e-06,  3.97871918e-04,  3.88789747e-04],\n",
       "        ...,\n",
       "        [ 2.61138892e-04, -3.40969185e-04, -1.18270284e-03, ...,\n",
       "         -1.39562862e-05,  1.04898610e-03,  4.28662286e-04],\n",
       "        [ 5.20925212e-04, -3.69502013e-05, -1.63619197e-03, ...,\n",
       "         -3.98877222e-04,  1.16551365e-03,  3.22366162e-04],\n",
       "        [ 7.57551927e-04,  2.69401469e-04, -2.09501060e-03, ...,\n",
       "         -7.35000998e-04,  1.26195676e-03,  2.18121291e-04]]],\n",
       "      dtype=float32)>"
      ]
     },
     "execution_count": 76,
     "metadata": {},
     "output_type": "execute_result"
    }
   ],
   "source": [
    "# model.summary() 작동을 위해 한 배치 학습\n",
    "for src_sample, tgt_sample in dataset.take(1): break\n",
    "model(src_sample)"
   ]
  },
  {
   "cell_type": "code",
   "execution_count": 79,
   "id": "improving-hearing",
   "metadata": {},
   "outputs": [
    {
     "name": "stdout",
     "output_type": "stream",
     "text": [
      "Model: \"text_generator\"\n",
      "_________________________________________________________________\n",
      "Layer (type)                 Output Shape              Param #   \n",
      "=================================================================\n",
      "embedding (Embedding)        multiple                  3584256   \n",
      "_________________________________________________________________\n",
      "lstm (LSTM)                  multiple                  5246976   \n",
      "_________________________________________________________________\n",
      "lstm_1 (LSTM)                multiple                  8392704   \n",
      "_________________________________________________________________\n",
      "dense (Dense)                multiple                  14351025  \n",
      "=================================================================\n",
      "Total params: 31,574,961\n",
      "Trainable params: 31,574,961\n",
      "Non-trainable params: 0\n",
      "_________________________________________________________________\n"
     ]
    }
   ],
   "source": [
    "# 모델 확인\n",
    "model.summary()"
   ]
  },
  {
   "cell_type": "code",
   "execution_count": 81,
   "id": "loose-implement",
   "metadata": {},
   "outputs": [
    {
     "name": "stdout",
     "output_type": "stream",
     "text": [
      "Epoch 1/10\n",
      "609/609 [==============================] - 224s 364ms/step - loss: 2.7786\n",
      "Epoch 2/10\n",
      "609/609 [==============================] - 222s 365ms/step - loss: 2.5930\n",
      "Epoch 3/10\n",
      "609/609 [==============================] - 222s 365ms/step - loss: 2.4262\n",
      "Epoch 4/10\n",
      "609/609 [==============================] - 222s 365ms/step - loss: 2.2628\n",
      "Epoch 5/10\n",
      "609/609 [==============================] - 224s 367ms/step - loss: 2.1216\n",
      "Epoch 6/10\n",
      "609/609 [==============================] - 223s 366ms/step - loss: 2.0006\n",
      "Epoch 7/10\n",
      "609/609 [==============================] - 223s 366ms/step - loss: 1.8892\n",
      "Epoch 8/10\n",
      "609/609 [==============================] - 223s 366ms/step - loss: 1.7948\n",
      "Epoch 9/10\n",
      "609/609 [==============================] - 223s 366ms/step - loss: 1.7092\n",
      "Epoch 10/10\n",
      "609/609 [==============================] - 222s 365ms/step - loss: 1.6246\n"
     ]
    },
    {
     "data": {
      "text/plain": [
       "<tensorflow.python.keras.callbacks.History at 0x7f24ee172390>"
      ]
     },
     "execution_count": 81,
     "metadata": {},
     "output_type": "execute_result"
    }
   ],
   "source": [
    "# 모델 컴파일 및 학습\n",
    "optimizer = tf.keras.optimizers.Adam()\n",
    "loss = tf.keras.losses.SparseCategoricalCrossentropy(\n",
    "    from_logits=True,\n",
    "    reduction='none'\n",
    ")\n",
    "\n",
    "model.compile(loss=loss, optimizer=optimizer)\n",
    "model.fit(dataset, epochs=10)"
   ]
  },
  {
   "cell_type": "code",
   "execution_count": 82,
   "id": "delayed-marking",
   "metadata": {},
   "outputs": [],
   "source": [
    "# 예측 문장 출력하는 함수 정의\n",
    "def generate_text(model, tokenizer, init_sentence=\"<start>\", max_len=20):\n",
    "    # 테스트를 위해서 입력받은 init_sentence도 텐서로 변환합니다\n",
    "    test_input = tokenizer.texts_to_sequences([init_sentence])\n",
    "    test_tensor = tf.convert_to_tensor(test_input, dtype=tf.int64)\n",
    "    end_token = tokenizer.word_index[\"<end>\"]\n",
    "\n",
    "    # 단어 하나씩 예측해 문장을 만듭니다\n",
    "    #    1. 입력받은 문장의 텐서를 입력합니다\n",
    "    #    2. 예측된 값 중 가장 높은 확률인 word index를 뽑아냅니다\n",
    "    #    3. 2에서 예측된 word index를 문장 뒤에 붙입니다\n",
    "    #    4. 모델이 <end>를 예측했거나, max_len에 도달했다면 문장 생성을 마칩니다\n",
    "    while True:\n",
    "        # 1\n",
    "        predict = model(test_tensor) \n",
    "        # 2\n",
    "        predict_word = tf.argmax(tf.nn.softmax(predict, axis=-1), axis=-1)[:, -1] \n",
    "        # 3 \n",
    "        test_tensor = tf.concat([test_tensor, tf.expand_dims(predict_word, axis=0)], axis=-1)\n",
    "        # 4\n",
    "        if predict_word.numpy()[0] == end_token: \n",
    "            break\n",
    "        if test_tensor.shape[1] >= max_len: \n",
    "            break\n",
    "\n",
    "    generated = \"\"\n",
    "    # tokenizer를 이용해 word index를 단어로 하나씩 변환합니다 \n",
    "    for word_index in test_tensor[0].numpy():\n",
    "        generated += tokenizer.index_word[word_index] + \" \"\n",
    "\n",
    "    return generated"
   ]
  },
  {
   "cell_type": "code",
   "execution_count": 83,
   "id": "incoming-garbage",
   "metadata": {},
   "outputs": [
    {
     "data": {
      "text/plain": [
       "'<start> i love you , i love you <end> '"
      ]
     },
     "execution_count": 83,
     "metadata": {},
     "output_type": "execute_result"
    }
   ],
   "source": [
    "# 문장 생성!\n",
    "generate_text(model, tokenizer, init_sentence=\"<start> i love\", max_len=20)"
   ]
  },
  {
   "cell_type": "code",
   "execution_count": 84,
   "id": "distributed-niger",
   "metadata": {},
   "outputs": [
    {
     "data": {
      "text/plain": [
       "'<start> after all the things that i been through <end> '"
      ]
     },
     "execution_count": 84,
     "metadata": {},
     "output_type": "execute_result"
    }
   ],
   "source": [
    "# 문장 생성!\n",
    "generate_text(model, tokenizer, init_sentence=\"<start> after\", max_len=40)"
   ]
  },
  {
   "cell_type": "code",
   "execution_count": 85,
   "id": "critical-shelf",
   "metadata": {},
   "outputs": [
    {
     "data": {
      "text/plain": [
       "'<start> how many times i gotta tell that ass to come over ? <end> '"
      ]
     },
     "execution_count": 85,
     "metadata": {},
     "output_type": "execute_result"
    }
   ],
   "source": [
    "# 문장 생성!\n",
    "generate_text(model, tokenizer, init_sentence=\"<start> how\", max_len=40)"
   ]
  },
  {
   "cell_type": "code",
   "execution_count": null,
   "id": "human-amazon",
   "metadata": {},
   "outputs": [],
   "source": []
  }
 ],
 "metadata": {
  "kernelspec": {
   "display_name": "Python 3",
   "language": "python",
   "name": "python3"
  },
  "language_info": {
   "codemirror_mode": {
    "name": "ipython",
    "version": 3
   },
   "file_extension": ".py",
   "mimetype": "text/x-python",
   "name": "python",
   "nbconvert_exporter": "python",
   "pygments_lexer": "ipython3",
   "version": "3.7.9"
  }
 },
 "nbformat": 4,
 "nbformat_minor": 5
}
