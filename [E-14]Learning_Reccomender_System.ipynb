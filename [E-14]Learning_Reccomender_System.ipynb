{
 "cells": [
  {
   "cell_type": "markdown",
   "id": "municipal-maine",
   "metadata": {},
   "source": [
    "## 실습 목표\n",
    "\n",
    "- 추천 시스템의 개념과 목적을 이해한다.\n",
    "- Implicit 라이브러리를 활용하여 Matrix Factorization(이하 MF) 기반의 추천 모델을 만들어 본다.\n",
    "- 음악 감상 기록을 활용하여 비슷한 아티스트를 찾고 아티스트를 추천해 본다.\n",
    "- 추천 시스템에서 자주 사용되는 데이터 구조인 CSR Matrix을 익힌다\n",
    "- 유저의 행위 데이터 중 Explicit data와 Implicit data의 차이점을 익힌다.\n",
    "- 새로운 데이터셋으로 직접 추천 모델을 만들어 본다."
   ]
  },
  {
   "cell_type": "markdown",
   "id": "southwest-python",
   "metadata": {},
   "source": [
    "## 추천 시스템이란 게 뭔가요?"
   ]
  },
  {
   "cell_type": "markdown",
   "id": "comparable-lemon",
   "metadata": {},
   "source": [
    "### Q1. 협업 필터링(Collaborative Filtering) 방식과 콘텐츠 기반 필터링(Contents-based Filtering) 방식의 차이점이 무엇인가요?\n",
    "\n",
    "협업 필터링은 다수의 `사용자의 아이템 구매 이력 정보`만으로 사용자간 유사성 및 아이템 간 유사성을 파악하지만,\n",
    "\n",
    "콘텐츠 기반 필터링은 `아이템의 고유의 정보`를 바탕으로 아이템 간 유사성을 파악합니다.\n",
    "\n",
    "다시 말해, 협업 필터링에서는 **아이템과 사용자 간의 행동 또는 관계에만 주목**할 뿐 아이템 자체의 고유한 속성에 주목하지 않습니다.\n",
    "\n",
    "콘텐츠 기반 필터링에서는 **아이템 자체의 속성에만 주목**하고 사용자와 아이템 간의 관련성 에는 주목하지 않습니다"
   ]
  },
  {
   "cell_type": "markdown",
   "id": "equipped-peace",
   "metadata": {},
   "source": [
    "### Q2. 다수의 사용자의 판단을 기반으로 정확한 추천을 가능하게 하는 추천시스템의 핵심 근간은 협업 필터링입니다만, 협업 필터링을 바로 사용할 수 없게 만드는 세가지 제약 조건은 무엇일까요?\n",
    "\n",
    "1. 시스템이 충분한 정보를 모으지 못한 사용자나 아이템에 대한 추론을 할 수 없는 상태인 콜드 스타트(Cold Start) 상황\n",
    "\n",
    "2. 계산량이 너무 많아 추천의 효율이 떨어지는 상황\n",
    "\n",
    "3. 롱테일의 꼬리 부분, 즉 사용자의 관심이 저조한 항목의 정보가 부족하여 추천에서 배제되는 상황"
   ]
  },
  {
   "cell_type": "markdown",
   "id": "offensive-headquarters",
   "metadata": {},
   "source": [
    "## 데이터 탐색하기와 전처리"
   ]
  },
  {
   "cell_type": "markdown",
   "id": "continued-arena",
   "metadata": {},
   "source": [
    "### 데이터 준비\n",
    "\n",
    "- `tsv`는 Tab-Separated Values의 약자로서, Comma-Separated Values의 약자인 `csv` 파일과 거의 동일하나 구분자만 comma가 아니라 `tab('\\t')` 문자를 활용"
   ]
  },
  {
   "cell_type": "code",
   "execution_count": 1,
   "id": "neither-egyptian",
   "metadata": {},
   "outputs": [
    {
     "data": {
      "text/html": [
       "<div>\n",
       "<style scoped>\n",
       "    .dataframe tbody tr th:only-of-type {\n",
       "        vertical-align: middle;\n",
       "    }\n",
       "\n",
       "    .dataframe tbody tr th {\n",
       "        vertical-align: top;\n",
       "    }\n",
       "\n",
       "    .dataframe thead th {\n",
       "        text-align: right;\n",
       "    }\n",
       "</style>\n",
       "<table border=\"1\" class=\"dataframe\">\n",
       "  <thead>\n",
       "    <tr style=\"text-align: right;\">\n",
       "      <th></th>\n",
       "      <th>user_id</th>\n",
       "      <th>artist_MBID</th>\n",
       "      <th>artist</th>\n",
       "      <th>play</th>\n",
       "    </tr>\n",
       "  </thead>\n",
       "  <tbody>\n",
       "    <tr>\n",
       "      <th>0</th>\n",
       "      <td>00000c289a1829a808ac09c00daf10bc3c4e223b</td>\n",
       "      <td>3bd73256-3905-4f3a-97e2-8b341527f805</td>\n",
       "      <td>betty blowtorch</td>\n",
       "      <td>2137</td>\n",
       "    </tr>\n",
       "    <tr>\n",
       "      <th>1</th>\n",
       "      <td>00000c289a1829a808ac09c00daf10bc3c4e223b</td>\n",
       "      <td>f2fb0ff0-5679-42ec-a55c-15109ce6e320</td>\n",
       "      <td>die Ärzte</td>\n",
       "      <td>1099</td>\n",
       "    </tr>\n",
       "    <tr>\n",
       "      <th>2</th>\n",
       "      <td>00000c289a1829a808ac09c00daf10bc3c4e223b</td>\n",
       "      <td>b3ae82c2-e60b-4551-a76d-6620f1b456aa</td>\n",
       "      <td>melissa etheridge</td>\n",
       "      <td>897</td>\n",
       "    </tr>\n",
       "    <tr>\n",
       "      <th>3</th>\n",
       "      <td>00000c289a1829a808ac09c00daf10bc3c4e223b</td>\n",
       "      <td>3d6bbeb7-f90e-4d10-b440-e153c0d10b53</td>\n",
       "      <td>elvenking</td>\n",
       "      <td>717</td>\n",
       "    </tr>\n",
       "    <tr>\n",
       "      <th>4</th>\n",
       "      <td>00000c289a1829a808ac09c00daf10bc3c4e223b</td>\n",
       "      <td>bbd2ffd7-17f4-4506-8572-c1ea58c3f9a8</td>\n",
       "      <td>juliette &amp; the licks</td>\n",
       "      <td>706</td>\n",
       "    </tr>\n",
       "    <tr>\n",
       "      <th>5</th>\n",
       "      <td>00000c289a1829a808ac09c00daf10bc3c4e223b</td>\n",
       "      <td>8bfac288-ccc5-448d-9573-c33ea2aa5c30</td>\n",
       "      <td>red hot chili peppers</td>\n",
       "      <td>691</td>\n",
       "    </tr>\n",
       "    <tr>\n",
       "      <th>6</th>\n",
       "      <td>00000c289a1829a808ac09c00daf10bc3c4e223b</td>\n",
       "      <td>6531c8b1-76ea-4141-b270-eb1ac5b41375</td>\n",
       "      <td>magica</td>\n",
       "      <td>545</td>\n",
       "    </tr>\n",
       "    <tr>\n",
       "      <th>7</th>\n",
       "      <td>00000c289a1829a808ac09c00daf10bc3c4e223b</td>\n",
       "      <td>21f3573f-10cf-44b3-aeaa-26cccd8448b5</td>\n",
       "      <td>the black dahlia murder</td>\n",
       "      <td>507</td>\n",
       "    </tr>\n",
       "    <tr>\n",
       "      <th>8</th>\n",
       "      <td>00000c289a1829a808ac09c00daf10bc3c4e223b</td>\n",
       "      <td>c5db90c4-580d-4f33-b364-fbaa5a3a58b5</td>\n",
       "      <td>the murmurs</td>\n",
       "      <td>424</td>\n",
       "    </tr>\n",
       "    <tr>\n",
       "      <th>9</th>\n",
       "      <td>00000c289a1829a808ac09c00daf10bc3c4e223b</td>\n",
       "      <td>0639533a-0402-40ba-b6e0-18b067198b73</td>\n",
       "      <td>lunachicks</td>\n",
       "      <td>403</td>\n",
       "    </tr>\n",
       "  </tbody>\n",
       "</table>\n",
       "</div>"
      ],
      "text/plain": [
       "                                    user_id  \\\n",
       "0  00000c289a1829a808ac09c00daf10bc3c4e223b   \n",
       "1  00000c289a1829a808ac09c00daf10bc3c4e223b   \n",
       "2  00000c289a1829a808ac09c00daf10bc3c4e223b   \n",
       "3  00000c289a1829a808ac09c00daf10bc3c4e223b   \n",
       "4  00000c289a1829a808ac09c00daf10bc3c4e223b   \n",
       "5  00000c289a1829a808ac09c00daf10bc3c4e223b   \n",
       "6  00000c289a1829a808ac09c00daf10bc3c4e223b   \n",
       "7  00000c289a1829a808ac09c00daf10bc3c4e223b   \n",
       "8  00000c289a1829a808ac09c00daf10bc3c4e223b   \n",
       "9  00000c289a1829a808ac09c00daf10bc3c4e223b   \n",
       "\n",
       "                            artist_MBID                   artist  play  \n",
       "0  3bd73256-3905-4f3a-97e2-8b341527f805          betty blowtorch  2137  \n",
       "1  f2fb0ff0-5679-42ec-a55c-15109ce6e320                die Ärzte  1099  \n",
       "2  b3ae82c2-e60b-4551-a76d-6620f1b456aa        melissa etheridge   897  \n",
       "3  3d6bbeb7-f90e-4d10-b440-e153c0d10b53                elvenking   717  \n",
       "4  bbd2ffd7-17f4-4506-8572-c1ea58c3f9a8     juliette & the licks   706  \n",
       "5  8bfac288-ccc5-448d-9573-c33ea2aa5c30    red hot chili peppers   691  \n",
       "6  6531c8b1-76ea-4141-b270-eb1ac5b41375                   magica   545  \n",
       "7  21f3573f-10cf-44b3-aeaa-26cccd8448b5  the black dahlia murder   507  \n",
       "8  c5db90c4-580d-4f33-b364-fbaa5a3a58b5              the murmurs   424  \n",
       "9  0639533a-0402-40ba-b6e0-18b067198b73               lunachicks   403  "
      ]
     },
     "execution_count": 1,
     "metadata": {},
     "output_type": "execute_result"
    }
   ],
   "source": [
    "import pandas as pd\n",
    "import os\n",
    "\n",
    "fname = os.getenv('HOME') + '/aiffel/recommendata_iu/data/lastfm-dataset-360K/usersha1-artmbid-artname-plays.tsv'\n",
    "col_names = ['user_id', 'artist_MBID', 'artist', 'play']   # 임의로 지정한 컬럼명\n",
    "data = pd.read_csv(fname, sep='\\t', names= col_names)      # sep='\\t'로 주어야 tsv를 열 수 있습니다.  \n",
    "data.head(10)"
   ]
  },
  {
   "cell_type": "code",
   "execution_count": 2,
   "id": "inappropriate-margin",
   "metadata": {},
   "outputs": [
    {
     "data": {
      "text/html": [
       "<div>\n",
       "<style scoped>\n",
       "    .dataframe tbody tr th:only-of-type {\n",
       "        vertical-align: middle;\n",
       "    }\n",
       "\n",
       "    .dataframe tbody tr th {\n",
       "        vertical-align: top;\n",
       "    }\n",
       "\n",
       "    .dataframe thead th {\n",
       "        text-align: right;\n",
       "    }\n",
       "</style>\n",
       "<table border=\"1\" class=\"dataframe\">\n",
       "  <thead>\n",
       "    <tr style=\"text-align: right;\">\n",
       "      <th></th>\n",
       "      <th>user_id</th>\n",
       "      <th>artist</th>\n",
       "      <th>play</th>\n",
       "    </tr>\n",
       "  </thead>\n",
       "  <tbody>\n",
       "    <tr>\n",
       "      <th>0</th>\n",
       "      <td>00000c289a1829a808ac09c00daf10bc3c4e223b</td>\n",
       "      <td>betty blowtorch</td>\n",
       "      <td>2137</td>\n",
       "    </tr>\n",
       "    <tr>\n",
       "      <th>1</th>\n",
       "      <td>00000c289a1829a808ac09c00daf10bc3c4e223b</td>\n",
       "      <td>die Ärzte</td>\n",
       "      <td>1099</td>\n",
       "    </tr>\n",
       "    <tr>\n",
       "      <th>2</th>\n",
       "      <td>00000c289a1829a808ac09c00daf10bc3c4e223b</td>\n",
       "      <td>melissa etheridge</td>\n",
       "      <td>897</td>\n",
       "    </tr>\n",
       "    <tr>\n",
       "      <th>3</th>\n",
       "      <td>00000c289a1829a808ac09c00daf10bc3c4e223b</td>\n",
       "      <td>elvenking</td>\n",
       "      <td>717</td>\n",
       "    </tr>\n",
       "    <tr>\n",
       "      <th>4</th>\n",
       "      <td>00000c289a1829a808ac09c00daf10bc3c4e223b</td>\n",
       "      <td>juliette &amp; the licks</td>\n",
       "      <td>706</td>\n",
       "    </tr>\n",
       "    <tr>\n",
       "      <th>5</th>\n",
       "      <td>00000c289a1829a808ac09c00daf10bc3c4e223b</td>\n",
       "      <td>red hot chili peppers</td>\n",
       "      <td>691</td>\n",
       "    </tr>\n",
       "    <tr>\n",
       "      <th>6</th>\n",
       "      <td>00000c289a1829a808ac09c00daf10bc3c4e223b</td>\n",
       "      <td>magica</td>\n",
       "      <td>545</td>\n",
       "    </tr>\n",
       "    <tr>\n",
       "      <th>7</th>\n",
       "      <td>00000c289a1829a808ac09c00daf10bc3c4e223b</td>\n",
       "      <td>the black dahlia murder</td>\n",
       "      <td>507</td>\n",
       "    </tr>\n",
       "    <tr>\n",
       "      <th>8</th>\n",
       "      <td>00000c289a1829a808ac09c00daf10bc3c4e223b</td>\n",
       "      <td>the murmurs</td>\n",
       "      <td>424</td>\n",
       "    </tr>\n",
       "    <tr>\n",
       "      <th>9</th>\n",
       "      <td>00000c289a1829a808ac09c00daf10bc3c4e223b</td>\n",
       "      <td>lunachicks</td>\n",
       "      <td>403</td>\n",
       "    </tr>\n",
       "  </tbody>\n",
       "</table>\n",
       "</div>"
      ],
      "text/plain": [
       "                                    user_id                   artist  play\n",
       "0  00000c289a1829a808ac09c00daf10bc3c4e223b          betty blowtorch  2137\n",
       "1  00000c289a1829a808ac09c00daf10bc3c4e223b                die Ärzte  1099\n",
       "2  00000c289a1829a808ac09c00daf10bc3c4e223b        melissa etheridge   897\n",
       "3  00000c289a1829a808ac09c00daf10bc3c4e223b                elvenking   717\n",
       "4  00000c289a1829a808ac09c00daf10bc3c4e223b     juliette & the licks   706\n",
       "5  00000c289a1829a808ac09c00daf10bc3c4e223b    red hot chili peppers   691\n",
       "6  00000c289a1829a808ac09c00daf10bc3c4e223b                   magica   545\n",
       "7  00000c289a1829a808ac09c00daf10bc3c4e223b  the black dahlia murder   507\n",
       "8  00000c289a1829a808ac09c00daf10bc3c4e223b              the murmurs   424\n",
       "9  00000c289a1829a808ac09c00daf10bc3c4e223b               lunachicks   403"
      ]
     },
     "execution_count": 2,
     "metadata": {},
     "output_type": "execute_result"
    }
   ],
   "source": [
    "# 사용하는 컬럼만 남겨줍니다.\n",
    "using_cols = ['user_id', 'artist', 'play']\n",
    "data = data[using_cols]\n",
    "data.head(10)"
   ]
  },
  {
   "cell_type": "code",
   "execution_count": 3,
   "id": "roman-empire",
   "metadata": {},
   "outputs": [
    {
     "data": {
      "text/html": [
       "<div>\n",
       "<style scoped>\n",
       "    .dataframe tbody tr th:only-of-type {\n",
       "        vertical-align: middle;\n",
       "    }\n",
       "\n",
       "    .dataframe tbody tr th {\n",
       "        vertical-align: top;\n",
       "    }\n",
       "\n",
       "    .dataframe thead th {\n",
       "        text-align: right;\n",
       "    }\n",
       "</style>\n",
       "<table border=\"1\" class=\"dataframe\">\n",
       "  <thead>\n",
       "    <tr style=\"text-align: right;\">\n",
       "      <th></th>\n",
       "      <th>user_id</th>\n",
       "      <th>artist</th>\n",
       "      <th>play</th>\n",
       "    </tr>\n",
       "  </thead>\n",
       "  <tbody>\n",
       "    <tr>\n",
       "      <th>0</th>\n",
       "      <td>00000c289a1829a808ac09c00daf10bc3c4e223b</td>\n",
       "      <td>betty blowtorch</td>\n",
       "      <td>2137</td>\n",
       "    </tr>\n",
       "    <tr>\n",
       "      <th>1</th>\n",
       "      <td>00000c289a1829a808ac09c00daf10bc3c4e223b</td>\n",
       "      <td>die ärzte</td>\n",
       "      <td>1099</td>\n",
       "    </tr>\n",
       "    <tr>\n",
       "      <th>2</th>\n",
       "      <td>00000c289a1829a808ac09c00daf10bc3c4e223b</td>\n",
       "      <td>melissa etheridge</td>\n",
       "      <td>897</td>\n",
       "    </tr>\n",
       "    <tr>\n",
       "      <th>3</th>\n",
       "      <td>00000c289a1829a808ac09c00daf10bc3c4e223b</td>\n",
       "      <td>elvenking</td>\n",
       "      <td>717</td>\n",
       "    </tr>\n",
       "    <tr>\n",
       "      <th>4</th>\n",
       "      <td>00000c289a1829a808ac09c00daf10bc3c4e223b</td>\n",
       "      <td>juliette &amp; the licks</td>\n",
       "      <td>706</td>\n",
       "    </tr>\n",
       "    <tr>\n",
       "      <th>5</th>\n",
       "      <td>00000c289a1829a808ac09c00daf10bc3c4e223b</td>\n",
       "      <td>red hot chili peppers</td>\n",
       "      <td>691</td>\n",
       "    </tr>\n",
       "    <tr>\n",
       "      <th>6</th>\n",
       "      <td>00000c289a1829a808ac09c00daf10bc3c4e223b</td>\n",
       "      <td>magica</td>\n",
       "      <td>545</td>\n",
       "    </tr>\n",
       "    <tr>\n",
       "      <th>7</th>\n",
       "      <td>00000c289a1829a808ac09c00daf10bc3c4e223b</td>\n",
       "      <td>the black dahlia murder</td>\n",
       "      <td>507</td>\n",
       "    </tr>\n",
       "    <tr>\n",
       "      <th>8</th>\n",
       "      <td>00000c289a1829a808ac09c00daf10bc3c4e223b</td>\n",
       "      <td>the murmurs</td>\n",
       "      <td>424</td>\n",
       "    </tr>\n",
       "    <tr>\n",
       "      <th>9</th>\n",
       "      <td>00000c289a1829a808ac09c00daf10bc3c4e223b</td>\n",
       "      <td>lunachicks</td>\n",
       "      <td>403</td>\n",
       "    </tr>\n",
       "  </tbody>\n",
       "</table>\n",
       "</div>"
      ],
      "text/plain": [
       "                                    user_id                   artist  play\n",
       "0  00000c289a1829a808ac09c00daf10bc3c4e223b          betty blowtorch  2137\n",
       "1  00000c289a1829a808ac09c00daf10bc3c4e223b                die ärzte  1099\n",
       "2  00000c289a1829a808ac09c00daf10bc3c4e223b        melissa etheridge   897\n",
       "3  00000c289a1829a808ac09c00daf10bc3c4e223b                elvenking   717\n",
       "4  00000c289a1829a808ac09c00daf10bc3c4e223b     juliette & the licks   706\n",
       "5  00000c289a1829a808ac09c00daf10bc3c4e223b    red hot chili peppers   691\n",
       "6  00000c289a1829a808ac09c00daf10bc3c4e223b                   magica   545\n",
       "7  00000c289a1829a808ac09c00daf10bc3c4e223b  the black dahlia murder   507\n",
       "8  00000c289a1829a808ac09c00daf10bc3c4e223b              the murmurs   424\n",
       "9  00000c289a1829a808ac09c00daf10bc3c4e223b               lunachicks   403"
      ]
     },
     "execution_count": 3,
     "metadata": {},
     "output_type": "execute_result"
    }
   ],
   "source": [
    "# 검색을 쉽게 하기 위해 아티스트 문자열을 소문자로 바꿔줍시다.\n",
    "data['artist'] = data['artist'].str.lower()\n",
    "data.head(10)"
   ]
  },
  {
   "cell_type": "code",
   "execution_count": 4,
   "id": "prescription-barbados",
   "metadata": {},
   "outputs": [
    {
     "data": {
      "text/plain": [
       "<pandas.core.strings.accessor.StringMethods at 0x7f8688a1fdd0>"
      ]
     },
     "execution_count": 4,
     "metadata": {},
     "output_type": "execute_result"
    }
   ],
   "source": [
    "data['artist'].str"
   ]
  },
  {
   "cell_type": "markdown",
   "id": "fifty-treasury",
   "metadata": {},
   "source": [
    "> 첫번째 유저가 어떤 노래를 듣는지 확인"
   ]
  },
  {
   "cell_type": "code",
   "execution_count": 5,
   "id": "operating-blowing",
   "metadata": {
    "scrolled": true
   },
   "outputs": [
    {
     "data": {
      "text/html": [
       "<div>\n",
       "<style scoped>\n",
       "    .dataframe tbody tr th:only-of-type {\n",
       "        vertical-align: middle;\n",
       "    }\n",
       "\n",
       "    .dataframe tbody tr th {\n",
       "        vertical-align: top;\n",
       "    }\n",
       "\n",
       "    .dataframe thead th {\n",
       "        text-align: right;\n",
       "    }\n",
       "</style>\n",
       "<table border=\"1\" class=\"dataframe\">\n",
       "  <thead>\n",
       "    <tr style=\"text-align: right;\">\n",
       "      <th></th>\n",
       "      <th>user_id</th>\n",
       "      <th>artist</th>\n",
       "      <th>play</th>\n",
       "    </tr>\n",
       "  </thead>\n",
       "  <tbody>\n",
       "    <tr>\n",
       "      <th>0</th>\n",
       "      <td>00000c289a1829a808ac09c00daf10bc3c4e223b</td>\n",
       "      <td>betty blowtorch</td>\n",
       "      <td>2137</td>\n",
       "    </tr>\n",
       "    <tr>\n",
       "      <th>1</th>\n",
       "      <td>00000c289a1829a808ac09c00daf10bc3c4e223b</td>\n",
       "      <td>die ärzte</td>\n",
       "      <td>1099</td>\n",
       "    </tr>\n",
       "    <tr>\n",
       "      <th>2</th>\n",
       "      <td>00000c289a1829a808ac09c00daf10bc3c4e223b</td>\n",
       "      <td>melissa etheridge</td>\n",
       "      <td>897</td>\n",
       "    </tr>\n",
       "    <tr>\n",
       "      <th>3</th>\n",
       "      <td>00000c289a1829a808ac09c00daf10bc3c4e223b</td>\n",
       "      <td>elvenking</td>\n",
       "      <td>717</td>\n",
       "    </tr>\n",
       "    <tr>\n",
       "      <th>4</th>\n",
       "      <td>00000c289a1829a808ac09c00daf10bc3c4e223b</td>\n",
       "      <td>juliette &amp; the licks</td>\n",
       "      <td>706</td>\n",
       "    </tr>\n",
       "    <tr>\n",
       "      <th>5</th>\n",
       "      <td>00000c289a1829a808ac09c00daf10bc3c4e223b</td>\n",
       "      <td>red hot chili peppers</td>\n",
       "      <td>691</td>\n",
       "    </tr>\n",
       "    <tr>\n",
       "      <th>6</th>\n",
       "      <td>00000c289a1829a808ac09c00daf10bc3c4e223b</td>\n",
       "      <td>magica</td>\n",
       "      <td>545</td>\n",
       "    </tr>\n",
       "    <tr>\n",
       "      <th>7</th>\n",
       "      <td>00000c289a1829a808ac09c00daf10bc3c4e223b</td>\n",
       "      <td>the black dahlia murder</td>\n",
       "      <td>507</td>\n",
       "    </tr>\n",
       "    <tr>\n",
       "      <th>8</th>\n",
       "      <td>00000c289a1829a808ac09c00daf10bc3c4e223b</td>\n",
       "      <td>the murmurs</td>\n",
       "      <td>424</td>\n",
       "    </tr>\n",
       "    <tr>\n",
       "      <th>9</th>\n",
       "      <td>00000c289a1829a808ac09c00daf10bc3c4e223b</td>\n",
       "      <td>lunachicks</td>\n",
       "      <td>403</td>\n",
       "    </tr>\n",
       "    <tr>\n",
       "      <th>10</th>\n",
       "      <td>00000c289a1829a808ac09c00daf10bc3c4e223b</td>\n",
       "      <td>walls of jericho</td>\n",
       "      <td>393</td>\n",
       "    </tr>\n",
       "    <tr>\n",
       "      <th>11</th>\n",
       "      <td>00000c289a1829a808ac09c00daf10bc3c4e223b</td>\n",
       "      <td>letzte instanz</td>\n",
       "      <td>387</td>\n",
       "    </tr>\n",
       "    <tr>\n",
       "      <th>12</th>\n",
       "      <td>00000c289a1829a808ac09c00daf10bc3c4e223b</td>\n",
       "      <td>goldfrapp</td>\n",
       "      <td>361</td>\n",
       "    </tr>\n",
       "    <tr>\n",
       "      <th>13</th>\n",
       "      <td>00000c289a1829a808ac09c00daf10bc3c4e223b</td>\n",
       "      <td>horrorpops</td>\n",
       "      <td>358</td>\n",
       "    </tr>\n",
       "    <tr>\n",
       "      <th>14</th>\n",
       "      <td>00000c289a1829a808ac09c00daf10bc3c4e223b</td>\n",
       "      <td>the butchies</td>\n",
       "      <td>329</td>\n",
       "    </tr>\n",
       "    <tr>\n",
       "      <th>15</th>\n",
       "      <td>00000c289a1829a808ac09c00daf10bc3c4e223b</td>\n",
       "      <td>jack off jill</td>\n",
       "      <td>316</td>\n",
       "    </tr>\n",
       "    <tr>\n",
       "      <th>16</th>\n",
       "      <td>00000c289a1829a808ac09c00daf10bc3c4e223b</td>\n",
       "      <td>babes in toyland</td>\n",
       "      <td>310</td>\n",
       "    </tr>\n",
       "    <tr>\n",
       "      <th>17</th>\n",
       "      <td>00000c289a1829a808ac09c00daf10bc3c4e223b</td>\n",
       "      <td>dropkick murphys</td>\n",
       "      <td>302</td>\n",
       "    </tr>\n",
       "    <tr>\n",
       "      <th>18</th>\n",
       "      <td>00000c289a1829a808ac09c00daf10bc3c4e223b</td>\n",
       "      <td>all:my:faults</td>\n",
       "      <td>288</td>\n",
       "    </tr>\n",
       "    <tr>\n",
       "      <th>19</th>\n",
       "      <td>00000c289a1829a808ac09c00daf10bc3c4e223b</td>\n",
       "      <td>le tigre</td>\n",
       "      <td>281</td>\n",
       "    </tr>\n",
       "    <tr>\n",
       "      <th>20</th>\n",
       "      <td>00000c289a1829a808ac09c00daf10bc3c4e223b</td>\n",
       "      <td>schandmaul</td>\n",
       "      <td>244</td>\n",
       "    </tr>\n",
       "    <tr>\n",
       "      <th>21</th>\n",
       "      <td>00000c289a1829a808ac09c00daf10bc3c4e223b</td>\n",
       "      <td>edguy</td>\n",
       "      <td>232</td>\n",
       "    </tr>\n",
       "    <tr>\n",
       "      <th>22</th>\n",
       "      <td>00000c289a1829a808ac09c00daf10bc3c4e223b</td>\n",
       "      <td>maximum the hormone</td>\n",
       "      <td>231</td>\n",
       "    </tr>\n",
       "    <tr>\n",
       "      <th>23</th>\n",
       "      <td>00000c289a1829a808ac09c00daf10bc3c4e223b</td>\n",
       "      <td>all ends</td>\n",
       "      <td>229</td>\n",
       "    </tr>\n",
       "    <tr>\n",
       "      <th>24</th>\n",
       "      <td>00000c289a1829a808ac09c00daf10bc3c4e223b</td>\n",
       "      <td>jack johnson</td>\n",
       "      <td>227</td>\n",
       "    </tr>\n",
       "    <tr>\n",
       "      <th>25</th>\n",
       "      <td>00000c289a1829a808ac09c00daf10bc3c4e223b</td>\n",
       "      <td>eluveitie</td>\n",
       "      <td>222</td>\n",
       "    </tr>\n",
       "    <tr>\n",
       "      <th>26</th>\n",
       "      <td>00000c289a1829a808ac09c00daf10bc3c4e223b</td>\n",
       "      <td>rasputina</td>\n",
       "      <td>220</td>\n",
       "    </tr>\n",
       "    <tr>\n",
       "      <th>27</th>\n",
       "      <td>00000c289a1829a808ac09c00daf10bc3c4e223b</td>\n",
       "      <td>london after midnight</td>\n",
       "      <td>210</td>\n",
       "    </tr>\n",
       "    <tr>\n",
       "      <th>28</th>\n",
       "      <td>00000c289a1829a808ac09c00daf10bc3c4e223b</td>\n",
       "      <td>the killers</td>\n",
       "      <td>208</td>\n",
       "    </tr>\n",
       "    <tr>\n",
       "      <th>29</th>\n",
       "      <td>00000c289a1829a808ac09c00daf10bc3c4e223b</td>\n",
       "      <td>mutyumu</td>\n",
       "      <td>205</td>\n",
       "    </tr>\n",
       "    <tr>\n",
       "      <th>30</th>\n",
       "      <td>00000c289a1829a808ac09c00daf10bc3c4e223b</td>\n",
       "      <td>judas priest</td>\n",
       "      <td>198</td>\n",
       "    </tr>\n",
       "    <tr>\n",
       "      <th>31</th>\n",
       "      <td>00000c289a1829a808ac09c00daf10bc3c4e223b</td>\n",
       "      <td>rob zombie</td>\n",
       "      <td>198</td>\n",
       "    </tr>\n",
       "    <tr>\n",
       "      <th>32</th>\n",
       "      <td>00000c289a1829a808ac09c00daf10bc3c4e223b</td>\n",
       "      <td>the bosshoss</td>\n",
       "      <td>189</td>\n",
       "    </tr>\n",
       "    <tr>\n",
       "      <th>33</th>\n",
       "      <td>00000c289a1829a808ac09c00daf10bc3c4e223b</td>\n",
       "      <td>blue öyster cult</td>\n",
       "      <td>185</td>\n",
       "    </tr>\n",
       "    <tr>\n",
       "      <th>34</th>\n",
       "      <td>00000c289a1829a808ac09c00daf10bc3c4e223b</td>\n",
       "      <td>sandra nasic</td>\n",
       "      <td>183</td>\n",
       "    </tr>\n",
       "    <tr>\n",
       "      <th>35</th>\n",
       "      <td>00000c289a1829a808ac09c00daf10bc3c4e223b</td>\n",
       "      <td>john mayer</td>\n",
       "      <td>182</td>\n",
       "    </tr>\n",
       "    <tr>\n",
       "      <th>36</th>\n",
       "      <td>00000c289a1829a808ac09c00daf10bc3c4e223b</td>\n",
       "      <td>sleater-kinney</td>\n",
       "      <td>175</td>\n",
       "    </tr>\n",
       "    <tr>\n",
       "      <th>37</th>\n",
       "      <td>00000c289a1829a808ac09c00daf10bc3c4e223b</td>\n",
       "      <td>the who</td>\n",
       "      <td>168</td>\n",
       "    </tr>\n",
       "    <tr>\n",
       "      <th>38</th>\n",
       "      <td>00000c289a1829a808ac09c00daf10bc3c4e223b</td>\n",
       "      <td>disciple</td>\n",
       "      <td>154</td>\n",
       "    </tr>\n",
       "    <tr>\n",
       "      <th>39</th>\n",
       "      <td>00000c289a1829a808ac09c00daf10bc3c4e223b</td>\n",
       "      <td>tanzwut</td>\n",
       "      <td>153</td>\n",
       "    </tr>\n",
       "    <tr>\n",
       "      <th>40</th>\n",
       "      <td>00000c289a1829a808ac09c00daf10bc3c4e223b</td>\n",
       "      <td>guano apes</td>\n",
       "      <td>151</td>\n",
       "    </tr>\n",
       "    <tr>\n",
       "      <th>41</th>\n",
       "      <td>00000c289a1829a808ac09c00daf10bc3c4e223b</td>\n",
       "      <td>the rolling stones</td>\n",
       "      <td>150</td>\n",
       "    </tr>\n",
       "    <tr>\n",
       "      <th>42</th>\n",
       "      <td>00000c289a1829a808ac09c00daf10bc3c4e223b</td>\n",
       "      <td>little big town</td>\n",
       "      <td>145</td>\n",
       "    </tr>\n",
       "    <tr>\n",
       "      <th>43</th>\n",
       "      <td>00000c289a1829a808ac09c00daf10bc3c4e223b</td>\n",
       "      <td>team dresch</td>\n",
       "      <td>137</td>\n",
       "    </tr>\n",
       "    <tr>\n",
       "      <th>44</th>\n",
       "      <td>00000c289a1829a808ac09c00daf10bc3c4e223b</td>\n",
       "      <td>betty</td>\n",
       "      <td>135</td>\n",
       "    </tr>\n",
       "    <tr>\n",
       "      <th>45</th>\n",
       "      <td>00000c289a1829a808ac09c00daf10bc3c4e223b</td>\n",
       "      <td>l7</td>\n",
       "      <td>135</td>\n",
       "    </tr>\n",
       "    <tr>\n",
       "      <th>46</th>\n",
       "      <td>00000c289a1829a808ac09c00daf10bc3c4e223b</td>\n",
       "      <td>bif naked</td>\n",
       "      <td>134</td>\n",
       "    </tr>\n",
       "    <tr>\n",
       "      <th>47</th>\n",
       "      <td>00000c289a1829a808ac09c00daf10bc3c4e223b</td>\n",
       "      <td>girlschool</td>\n",
       "      <td>134</td>\n",
       "    </tr>\n",
       "    <tr>\n",
       "      <th>48</th>\n",
       "      <td>00000c289a1829a808ac09c00daf10bc3c4e223b</td>\n",
       "      <td>the wallflowers</td>\n",
       "      <td>131</td>\n",
       "    </tr>\n",
       "  </tbody>\n",
       "</table>\n",
       "</div>"
      ],
      "text/plain": [
       "                                     user_id                   artist  play\n",
       "0   00000c289a1829a808ac09c00daf10bc3c4e223b          betty blowtorch  2137\n",
       "1   00000c289a1829a808ac09c00daf10bc3c4e223b                die ärzte  1099\n",
       "2   00000c289a1829a808ac09c00daf10bc3c4e223b        melissa etheridge   897\n",
       "3   00000c289a1829a808ac09c00daf10bc3c4e223b                elvenking   717\n",
       "4   00000c289a1829a808ac09c00daf10bc3c4e223b     juliette & the licks   706\n",
       "5   00000c289a1829a808ac09c00daf10bc3c4e223b    red hot chili peppers   691\n",
       "6   00000c289a1829a808ac09c00daf10bc3c4e223b                   magica   545\n",
       "7   00000c289a1829a808ac09c00daf10bc3c4e223b  the black dahlia murder   507\n",
       "8   00000c289a1829a808ac09c00daf10bc3c4e223b              the murmurs   424\n",
       "9   00000c289a1829a808ac09c00daf10bc3c4e223b               lunachicks   403\n",
       "10  00000c289a1829a808ac09c00daf10bc3c4e223b         walls of jericho   393\n",
       "11  00000c289a1829a808ac09c00daf10bc3c4e223b           letzte instanz   387\n",
       "12  00000c289a1829a808ac09c00daf10bc3c4e223b                goldfrapp   361\n",
       "13  00000c289a1829a808ac09c00daf10bc3c4e223b               horrorpops   358\n",
       "14  00000c289a1829a808ac09c00daf10bc3c4e223b             the butchies   329\n",
       "15  00000c289a1829a808ac09c00daf10bc3c4e223b            jack off jill   316\n",
       "16  00000c289a1829a808ac09c00daf10bc3c4e223b         babes in toyland   310\n",
       "17  00000c289a1829a808ac09c00daf10bc3c4e223b         dropkick murphys   302\n",
       "18  00000c289a1829a808ac09c00daf10bc3c4e223b            all:my:faults   288\n",
       "19  00000c289a1829a808ac09c00daf10bc3c4e223b                 le tigre   281\n",
       "20  00000c289a1829a808ac09c00daf10bc3c4e223b               schandmaul   244\n",
       "21  00000c289a1829a808ac09c00daf10bc3c4e223b                    edguy   232\n",
       "22  00000c289a1829a808ac09c00daf10bc3c4e223b      maximum the hormone   231\n",
       "23  00000c289a1829a808ac09c00daf10bc3c4e223b                 all ends   229\n",
       "24  00000c289a1829a808ac09c00daf10bc3c4e223b             jack johnson   227\n",
       "25  00000c289a1829a808ac09c00daf10bc3c4e223b                eluveitie   222\n",
       "26  00000c289a1829a808ac09c00daf10bc3c4e223b                rasputina   220\n",
       "27  00000c289a1829a808ac09c00daf10bc3c4e223b    london after midnight   210\n",
       "28  00000c289a1829a808ac09c00daf10bc3c4e223b              the killers   208\n",
       "29  00000c289a1829a808ac09c00daf10bc3c4e223b                  mutyumu   205\n",
       "30  00000c289a1829a808ac09c00daf10bc3c4e223b             judas priest   198\n",
       "31  00000c289a1829a808ac09c00daf10bc3c4e223b               rob zombie   198\n",
       "32  00000c289a1829a808ac09c00daf10bc3c4e223b             the bosshoss   189\n",
       "33  00000c289a1829a808ac09c00daf10bc3c4e223b         blue öyster cult   185\n",
       "34  00000c289a1829a808ac09c00daf10bc3c4e223b             sandra nasic   183\n",
       "35  00000c289a1829a808ac09c00daf10bc3c4e223b               john mayer   182\n",
       "36  00000c289a1829a808ac09c00daf10bc3c4e223b           sleater-kinney   175\n",
       "37  00000c289a1829a808ac09c00daf10bc3c4e223b                  the who   168\n",
       "38  00000c289a1829a808ac09c00daf10bc3c4e223b                 disciple   154\n",
       "39  00000c289a1829a808ac09c00daf10bc3c4e223b                  tanzwut   153\n",
       "40  00000c289a1829a808ac09c00daf10bc3c4e223b               guano apes   151\n",
       "41  00000c289a1829a808ac09c00daf10bc3c4e223b       the rolling stones   150\n",
       "42  00000c289a1829a808ac09c00daf10bc3c4e223b          little big town   145\n",
       "43  00000c289a1829a808ac09c00daf10bc3c4e223b              team dresch   137\n",
       "44  00000c289a1829a808ac09c00daf10bc3c4e223b                    betty   135\n",
       "45  00000c289a1829a808ac09c00daf10bc3c4e223b                       l7   135\n",
       "46  00000c289a1829a808ac09c00daf10bc3c4e223b                bif naked   134\n",
       "47  00000c289a1829a808ac09c00daf10bc3c4e223b               girlschool   134\n",
       "48  00000c289a1829a808ac09c00daf10bc3c4e223b          the wallflowers   131"
      ]
     },
     "execution_count": 5,
     "metadata": {},
     "output_type": "execute_result"
    }
   ],
   "source": [
    "condition = (data['user_id']== data.loc[0, 'user_id'])\n",
    "data.loc[condition]"
   ]
  },
  {
   "cell_type": "markdown",
   "id": "photographic-privacy",
   "metadata": {},
   "source": [
    "-------\n",
    "-------\n",
    "-------\n",
    "-------"
   ]
  },
  {
   "cell_type": "code",
   "execution_count": 6,
   "id": "applied-actress",
   "metadata": {},
   "outputs": [
    {
     "data": {
      "text/plain": [
       "'00000c289a1829a808ac09c00daf10bc3c4e223b'"
      ]
     },
     "execution_count": 6,
     "metadata": {},
     "output_type": "execute_result"
    }
   ],
   "source": [
    "data.loc[0, 'user_id']"
   ]
  },
  {
   "cell_type": "code",
   "execution_count": 7,
   "id": "sacred-spyware",
   "metadata": {
    "scrolled": true
   },
   "outputs": [
    {
     "data": {
      "text/plain": [
       "0            True\n",
       "1            True\n",
       "2            True\n",
       "3            True\n",
       "4            True\n",
       "            ...  \n",
       "17535650    False\n",
       "17535651    False\n",
       "17535652    False\n",
       "17535653    False\n",
       "17535654    False\n",
       "Name: user_id, Length: 17535655, dtype: bool"
      ]
     },
     "execution_count": 7,
     "metadata": {},
     "output_type": "execute_result"
    }
   ],
   "source": [
    "data['user_id'] == data.loc[0, 'user_id']"
   ]
  },
  {
   "cell_type": "markdown",
   "id": "innocent-influence",
   "metadata": {},
   "source": [
    "-------\n",
    "-------\n",
    "-------\n",
    "-------"
   ]
  },
  {
   "cell_type": "markdown",
   "id": "instrumental-medium",
   "metadata": {},
   "source": [
    "### 데이터 탐색\n",
    "\n",
    "추천 모델을 만들기 전에 데이터의 기본적인 정보를 보고 갑시다. 아래 항목들을 확인해 보고 싶습니다.\n",
    "\n",
    "- 유저 수, 아티스트 수, 인기 많은 아티스트\n",
    "- 유저들이 몇 명의 아티스트를 듣고 있는지에 대한 통계\n",
    "- 유저 play 횟수 중앙값에 대한 통계"
   ]
  },
  {
   "cell_type": "code",
   "execution_count": 8,
   "id": "following-chance",
   "metadata": {},
   "outputs": [
    {
     "data": {
      "text/plain": [
       "358868"
      ]
     },
     "execution_count": 8,
     "metadata": {},
     "output_type": "execute_result"
    }
   ],
   "source": [
    "# 유저 수\n",
    "data['user_id'].nunique()"
   ]
  },
  {
   "cell_type": "code",
   "execution_count": 9,
   "id": "monetary-bargain",
   "metadata": {},
   "outputs": [
    {
     "data": {
      "text/plain": [
       "291346"
      ]
     },
     "execution_count": 9,
     "metadata": {},
     "output_type": "execute_result"
    }
   ],
   "source": [
    "# 아티스트 수\n",
    "data['artist'].nunique()"
   ]
  },
  {
   "cell_type": "code",
   "execution_count": 10,
   "id": "therapeutic-nancy",
   "metadata": {},
   "outputs": [
    {
     "data": {
      "text/plain": [
       "artist\n",
       "radiohead                77254\n",
       "the beatles              76245\n",
       "coldplay                 66658\n",
       "red hot chili peppers    48924\n",
       "muse                     46954\n",
       "metallica                45233\n",
       "pink floyd               44443\n",
       "the killers              41229\n",
       "linkin park              39773\n",
       "nirvana                  39479\n",
       "system of a down         37267\n",
       "queen                    34174\n",
       "u2                       33206\n",
       "daft punk                33001\n",
       "the cure                 32624\n",
       "led zeppelin             32295\n",
       "placebo                  32072\n",
       "depeche mode             31916\n",
       "david bowie              31862\n",
       "bob dylan                31799\n",
       "death cab for cutie      31482\n",
       "arctic monkeys           30348\n",
       "foo fighters             30144\n",
       "air                      29795\n",
       "the rolling stones       29754\n",
       "nine inch nails          28946\n",
       "sigur rós                28901\n",
       "green day                28732\n",
       "massive attack           28691\n",
       "moby                     28232\n",
       "Name: user_id, dtype: int64"
      ]
     },
     "execution_count": 10,
     "metadata": {},
     "output_type": "execute_result"
    }
   ],
   "source": [
    "# 인기 많은 아티스트\n",
    "artist_count = data.groupby('artist')['user_id'].count()\n",
    "artist_count.sort_values(ascending=False).head(30)"
   ]
  },
  {
   "cell_type": "markdown",
   "id": "binary-glory",
   "metadata": {},
   "source": [
    "----\n",
    "----\n",
    "----\n",
    "----"
   ]
  },
  {
   "cell_type": "code",
   "execution_count": 11,
   "id": "stuffed-peeing",
   "metadata": {},
   "outputs": [
    {
     "data": {
      "text/plain": [
       "<pandas.core.groupby.generic.SeriesGroupBy object at 0x7f86ee37e050>"
      ]
     },
     "execution_count": 11,
     "metadata": {},
     "output_type": "execute_result"
    }
   ],
   "source": [
    "data.groupby('artist')['user_id']"
   ]
  },
  {
   "cell_type": "code",
   "execution_count": 12,
   "id": "offshore-anchor",
   "metadata": {},
   "outputs": [
    {
     "data": {
      "text/plain": [
       "artist\n",
       " 04)]                                         1\n",
       " 2                                            4\n",
       " 58725ab=>                                    1\n",
       " 80li̇ yillarin türkçe sözlü aşk şarkilari    1\n",
       " amy winehouse                                1\n",
       "                                             ..\n",
       "￼antonio mairena                              1\n",
       "￼beastie boys                                 1\n",
       "��|                                           1\n",
       "��疲暎�                                         1\n",
       "�������                                       1\n",
       "Name: user_id, Length: 291346, dtype: int64"
      ]
     },
     "execution_count": 12,
     "metadata": {},
     "output_type": "execute_result"
    }
   ],
   "source": [
    "data.groupby('artist')['user_id'].count()"
   ]
  },
  {
   "cell_type": "code",
   "execution_count": 13,
   "id": "meaning-going",
   "metadata": {},
   "outputs": [
    {
     "data": {
      "text/plain": [
       "artist\n",
       "radiohead                77254\n",
       "the beatles              76245\n",
       "coldplay                 66658\n",
       "red hot chili peppers    48924\n",
       "muse                     46954\n",
       "dtype: int64"
      ]
     },
     "execution_count": 13,
     "metadata": {},
     "output_type": "execute_result"
    }
   ],
   "source": [
    "data.groupby('artist').size().sort_values(ascending=False).head(5)"
   ]
  },
  {
   "cell_type": "markdown",
   "id": "pointed-going",
   "metadata": {},
   "source": [
    "----\n",
    "----\n",
    "----\n",
    "----"
   ]
  },
  {
   "cell_type": "code",
   "execution_count": 14,
   "id": "chronic-belarus",
   "metadata": {},
   "outputs": [
    {
     "data": {
      "text/plain": [
       "count    358868.000000\n",
       "mean         48.863234\n",
       "std           8.524272\n",
       "min           1.000000\n",
       "25%          46.000000\n",
       "50%          49.000000\n",
       "75%          51.000000\n",
       "max         166.000000\n",
       "Name: artist, dtype: float64"
      ]
     },
     "execution_count": 14,
     "metadata": {},
     "output_type": "execute_result"
    }
   ],
   "source": [
    "# 유저별 몇 명의 아티스트를 듣고 있는지에 대한 통계\n",
    "user_count = data.groupby('user_id')['artist'].count()\n",
    "user_count.describe()"
   ]
  },
  {
   "cell_type": "code",
   "execution_count": 15,
   "id": "continental-trinidad",
   "metadata": {},
   "outputs": [
    {
     "data": {
      "text/plain": [
       "count    358868.000000\n",
       "mean        142.187676\n",
       "std         213.089902\n",
       "min           1.000000\n",
       "25%          32.000000\n",
       "50%          83.000000\n",
       "75%         180.000000\n",
       "max       50142.000000\n",
       "Name: play, dtype: float64"
      ]
     },
     "execution_count": 15,
     "metadata": {},
     "output_type": "execute_result"
    }
   ],
   "source": [
    "# 유저별 play횟수 중앙값에 대한 통계\n",
    "user_median = data.groupby('user_id')['play'].median()\n",
    "user_median.describe()"
   ]
  },
  {
   "cell_type": "code",
   "execution_count": 16,
   "id": "based-cambridge",
   "metadata": {},
   "outputs": [
    {
     "data": {
      "text/plain": [
       "count    358868.000000\n",
       "mean      10515.156066\n",
       "std       14761.252419\n",
       "min           1.000000\n",
       "25%        2402.000000\n",
       "50%        6140.000000\n",
       "75%       13131.000000\n",
       "max      787884.000000\n",
       "Name: play, dtype: float64"
      ]
     },
     "execution_count": 16,
     "metadata": {},
     "output_type": "execute_result"
    }
   ],
   "source": [
    "data.groupby('user_id')['play'].sum().describe()"
   ]
  },
  {
   "cell_type": "markdown",
   "id": "remarkable-carol",
   "metadata": {},
   "source": [
    "### 모델 검증을 위한 사용자 초기 정보 세팅"
   ]
  },
  {
   "cell_type": "code",
   "execution_count": 17,
   "id": "bizarre-multiple",
   "metadata": {
    "scrolled": true
   },
   "outputs": [
    {
     "data": {
      "text/html": [
       "<div>\n",
       "<style scoped>\n",
       "    .dataframe tbody tr th:only-of-type {\n",
       "        vertical-align: middle;\n",
       "    }\n",
       "\n",
       "    .dataframe tbody tr th {\n",
       "        vertical-align: top;\n",
       "    }\n",
       "\n",
       "    .dataframe thead th {\n",
       "        text-align: right;\n",
       "    }\n",
       "</style>\n",
       "<table border=\"1\" class=\"dataframe\">\n",
       "  <thead>\n",
       "    <tr style=\"text-align: right;\">\n",
       "      <th></th>\n",
       "      <th>user_id</th>\n",
       "      <th>artist</th>\n",
       "      <th>play</th>\n",
       "    </tr>\n",
       "  </thead>\n",
       "  <tbody>\n",
       "    <tr>\n",
       "      <th>17535650</th>\n",
       "      <td>sep 20, 2008</td>\n",
       "      <td>turbostaat</td>\n",
       "      <td>12</td>\n",
       "    </tr>\n",
       "    <tr>\n",
       "      <th>17535651</th>\n",
       "      <td>sep 20, 2008</td>\n",
       "      <td>cuba missouri</td>\n",
       "      <td>11</td>\n",
       "    </tr>\n",
       "    <tr>\n",
       "      <th>17535652</th>\n",
       "      <td>sep 20, 2008</td>\n",
       "      <td>little man tate</td>\n",
       "      <td>11</td>\n",
       "    </tr>\n",
       "    <tr>\n",
       "      <th>17535653</th>\n",
       "      <td>sep 20, 2008</td>\n",
       "      <td>sigur rós</td>\n",
       "      <td>10</td>\n",
       "    </tr>\n",
       "    <tr>\n",
       "      <th>17535654</th>\n",
       "      <td>sep 20, 2008</td>\n",
       "      <td>the smiths</td>\n",
       "      <td>10</td>\n",
       "    </tr>\n",
       "    <tr>\n",
       "      <th>0</th>\n",
       "      <td>zimin</td>\n",
       "      <td>black eyed peas</td>\n",
       "      <td>30</td>\n",
       "    </tr>\n",
       "    <tr>\n",
       "      <th>1</th>\n",
       "      <td>zimin</td>\n",
       "      <td>maroon5</td>\n",
       "      <td>30</td>\n",
       "    </tr>\n",
       "    <tr>\n",
       "      <th>2</th>\n",
       "      <td>zimin</td>\n",
       "      <td>jason mraz</td>\n",
       "      <td>30</td>\n",
       "    </tr>\n",
       "    <tr>\n",
       "      <th>3</th>\n",
       "      <td>zimin</td>\n",
       "      <td>coldplay</td>\n",
       "      <td>30</td>\n",
       "    </tr>\n",
       "    <tr>\n",
       "      <th>4</th>\n",
       "      <td>zimin</td>\n",
       "      <td>beyoncé</td>\n",
       "      <td>30</td>\n",
       "    </tr>\n",
       "  </tbody>\n",
       "</table>\n",
       "</div>"
      ],
      "text/plain": [
       "               user_id           artist  play\n",
       "17535650  sep 20, 2008       turbostaat    12\n",
       "17535651  sep 20, 2008    cuba missouri    11\n",
       "17535652  sep 20, 2008  little man tate    11\n",
       "17535653  sep 20, 2008        sigur rós    10\n",
       "17535654  sep 20, 2008       the smiths    10\n",
       "0                zimin  black eyed peas    30\n",
       "1                zimin          maroon5    30\n",
       "2                zimin       jason mraz    30\n",
       "3                zimin         coldplay    30\n",
       "4                zimin          beyoncé    30"
      ]
     },
     "execution_count": 17,
     "metadata": {},
     "output_type": "execute_result"
    }
   ],
   "source": [
    "# 본인이 좋아하시는 아티스트 데이터로 바꿔서 추가하셔도 됩니다! 단, 이름은 꼭 데이터셋에 있는 것과 동일하게 맞춰주세요. \n",
    "my_favorite = ['black eyed peas' , 'maroon5' ,'jason mraz' ,'coldplay' ,'beyoncé']\n",
    "\n",
    "# 'zimin'이라는 user_id가 위 아티스트의 노래를 30회씩 들었다고 가정하겠습니다.\n",
    "my_playlist = pd.DataFrame({'user_id': ['zimin']*5, 'artist': my_favorite, 'play':[30]*5})\n",
    "\n",
    "if not data.isin({'user_id':['zimin']})['user_id'].any():  # user_id에 'zimin'이라는 데이터가 없다면\n",
    "    data = data.append(my_playlist)                           # 위에 임의로 만든 my_favorite 데이터를 추가해 줍니다. \n",
    "\n",
    "data.tail(10)       # 잘 추가되었는지 확인해 봅시다."
   ]
  },
  {
   "cell_type": "markdown",
   "id": "alpha-omaha",
   "metadata": {},
   "source": [
    "------\n",
    "------\n",
    "------\n",
    "------"
   ]
  },
  {
   "cell_type": "code",
   "execution_count": 18,
   "id": "polyphonic-hartford",
   "metadata": {},
   "outputs": [
    {
     "data": {
      "text/html": [
       "<div>\n",
       "<style scoped>\n",
       "    .dataframe tbody tr th:only-of-type {\n",
       "        vertical-align: middle;\n",
       "    }\n",
       "\n",
       "    .dataframe tbody tr th {\n",
       "        vertical-align: top;\n",
       "    }\n",
       "\n",
       "    .dataframe thead th {\n",
       "        text-align: right;\n",
       "    }\n",
       "</style>\n",
       "<table border=\"1\" class=\"dataframe\">\n",
       "  <thead>\n",
       "    <tr style=\"text-align: right;\">\n",
       "      <th></th>\n",
       "      <th>user_id</th>\n",
       "      <th>artist</th>\n",
       "      <th>play</th>\n",
       "    </tr>\n",
       "  </thead>\n",
       "  <tbody>\n",
       "    <tr>\n",
       "      <th>17535654</th>\n",
       "      <td>False</td>\n",
       "      <td>False</td>\n",
       "      <td>False</td>\n",
       "    </tr>\n",
       "    <tr>\n",
       "      <th>0</th>\n",
       "      <td>True</td>\n",
       "      <td>False</td>\n",
       "      <td>False</td>\n",
       "    </tr>\n",
       "    <tr>\n",
       "      <th>1</th>\n",
       "      <td>True</td>\n",
       "      <td>False</td>\n",
       "      <td>False</td>\n",
       "    </tr>\n",
       "    <tr>\n",
       "      <th>2</th>\n",
       "      <td>True</td>\n",
       "      <td>False</td>\n",
       "      <td>False</td>\n",
       "    </tr>\n",
       "    <tr>\n",
       "      <th>3</th>\n",
       "      <td>True</td>\n",
       "      <td>False</td>\n",
       "      <td>False</td>\n",
       "    </tr>\n",
       "    <tr>\n",
       "      <th>4</th>\n",
       "      <td>True</td>\n",
       "      <td>False</td>\n",
       "      <td>False</td>\n",
       "    </tr>\n",
       "  </tbody>\n",
       "</table>\n",
       "</div>"
      ],
      "text/plain": [
       "          user_id  artist   play\n",
       "17535654    False   False  False\n",
       "0            True   False  False\n",
       "1            True   False  False\n",
       "2            True   False  False\n",
       "3            True   False  False\n",
       "4            True   False  False"
      ]
     },
     "execution_count": 18,
     "metadata": {},
     "output_type": "execute_result"
    }
   ],
   "source": [
    "data.isin(['zimin']).tail(6)"
   ]
  },
  {
   "cell_type": "code",
   "execution_count": 19,
   "id": "handy-optics",
   "metadata": {},
   "outputs": [
    {
     "data": {
      "text/plain": [
       "True"
      ]
     },
     "execution_count": 19,
     "metadata": {},
     "output_type": "execute_result"
    }
   ],
   "source": [
    "t = data.isin(['zimin'])\n",
    "t['user_id'].any()"
   ]
  },
  {
   "cell_type": "code",
   "execution_count": 20,
   "id": "rocky-multimedia",
   "metadata": {},
   "outputs": [
    {
     "data": {
      "text/plain": [
       "False"
      ]
     },
     "execution_count": 20,
     "metadata": {},
     "output_type": "execute_result"
    }
   ],
   "source": [
    "t['artist'].any()"
   ]
  },
  {
   "cell_type": "code",
   "execution_count": 21,
   "id": "numerous-buying",
   "metadata": {},
   "outputs": [
    {
     "data": {
      "text/plain": [
       "False"
      ]
     },
     "execution_count": 21,
     "metadata": {},
     "output_type": "execute_result"
    }
   ],
   "source": [
    "t['artist'].all()"
   ]
  },
  {
   "cell_type": "markdown",
   "id": "unusual-digest",
   "metadata": {},
   "source": [
    "------\n",
    "------\n",
    "------\n",
    "------"
   ]
  },
  {
   "cell_type": "markdown",
   "id": "tested-patrick",
   "metadata": {},
   "source": [
    "### 모델에 활용하기 위한 전처리 (실습)\n",
    "\n",
    "우리가 다루는 데이터에서는 user와 artist 각각에 번호를 붙이고 싶습니다. 보통 이런 작업을 indexing이라고 합니다. 추천 시스템, 자연어 처리에서 자주 하는 작업들이라 직접 해보시면 좋겠습니다."
   ]
  },
  {
   "cell_type": "code",
   "execution_count": 22,
   "id": "pressed-preservation",
   "metadata": {},
   "outputs": [],
   "source": [
    "user_unique = data['user_id'].unique()\n",
    "artist_unique = data['artist'].unique()"
   ]
  },
  {
   "cell_type": "code",
   "execution_count": 23,
   "id": "successful-knowing",
   "metadata": {},
   "outputs": [
    {
     "data": {
      "text/plain": [
       "array(['00000c289a1829a808ac09c00daf10bc3c4e223b',\n",
       "       '00001411dc427966b17297bf4d69e7e193135d89',\n",
       "       '00004d2ac9316e22dc007ab2243d6fcb239e707d',\n",
       "       '000063d3fe1cf2ba248b9e3c3f0334845a27a6bf',\n",
       "       '00007a47085b9aab8af55f52ec8846ac479ac4fe'], dtype=object)"
      ]
     },
     "execution_count": 23,
     "metadata": {},
     "output_type": "execute_result"
    }
   ],
   "source": [
    "user_unique[:5]"
   ]
  },
  {
   "cell_type": "code",
   "execution_count": 24,
   "id": "aerial-jordan",
   "metadata": {},
   "outputs": [
    {
     "data": {
      "text/plain": [
       "358869"
      ]
     },
     "execution_count": 24,
     "metadata": {},
     "output_type": "execute_result"
    }
   ],
   "source": [
    "data['user_id'].nunique()"
   ]
  },
  {
   "cell_type": "code",
   "execution_count": 25,
   "id": "unable-crisis",
   "metadata": {},
   "outputs": [],
   "source": [
    "user_to_idx = {v: k for k, v in enumerate(user_unique)}\n",
    "artist_to_idx = {v: k for k, v in enumerate(artist_unique)}"
   ]
  },
  {
   "cell_type": "markdown",
   "id": "trained-treat",
   "metadata": {},
   "source": [
    "```python\n",
    "# 고유한 유저, 아티스트를 찾아내는 코드\n",
    "user_unique = data['user_id'].unique()\n",
    "artist_unique = data['artist'].unique()\n",
    "\n",
    "# 유저, 아티스트 indexing 하는 코드 idx는 index의 약자입니다.\n",
    "user_to_idx = {v:k for k,v in enumerate(user_unique)}\n",
    "artist_to_idx = {v:k for k,v in enumerate(artist_unique)}\n",
    "```"
   ]
  },
  {
   "cell_type": "code",
   "execution_count": 26,
   "id": "royal-seeking",
   "metadata": {},
   "outputs": [
    {
     "name": "stdout",
     "output_type": "stream",
     "text": [
      "358868\n",
      "376\n"
     ]
    }
   ],
   "source": [
    "# 인덱싱이 잘 되었는지 확인해 봅니다. \n",
    "print(user_to_idx['zimin'])    # 358869명의 유저 중 마지막으로 추가된 유저이니 358868이 나와야 합니다. \n",
    "print(artist_to_idx['black eyed peas'])"
   ]
  },
  {
   "cell_type": "code",
   "execution_count": 27,
   "id": "enormous-private",
   "metadata": {},
   "outputs": [
    {
     "data": {
      "text/plain": [
       "array(['ffff9ef87a7d9494ada2f9ade4b9ff637c0759ac', 'sep 20, 2008',\n",
       "       'zimin'], dtype=object)"
      ]
     },
     "execution_count": 27,
     "metadata": {},
     "output_type": "execute_result"
    }
   ],
   "source": [
    "user_unique[-3:]"
   ]
  },
  {
   "cell_type": "code",
   "execution_count": 28,
   "id": "increasing-desktop",
   "metadata": {},
   "outputs": [
    {
     "data": {
      "text/plain": [
       "358868"
      ]
     },
     "execution_count": 28,
     "metadata": {},
     "output_type": "execute_result"
    }
   ],
   "source": [
    "user_to_idx.get('zimin')"
   ]
  },
  {
   "cell_type": "code",
   "execution_count": 29,
   "id": "damaged-touch",
   "metadata": {},
   "outputs": [
    {
     "name": "stdout",
     "output_type": "stream",
     "text": [
      "user_id column indexing OK!!\n",
      "artist column indexing OK!!\n"
     ]
    },
    {
     "data": {
      "text/html": [
       "<div>\n",
       "<style scoped>\n",
       "    .dataframe tbody tr th:only-of-type {\n",
       "        vertical-align: middle;\n",
       "    }\n",
       "\n",
       "    .dataframe tbody tr th {\n",
       "        vertical-align: top;\n",
       "    }\n",
       "\n",
       "    .dataframe thead th {\n",
       "        text-align: right;\n",
       "    }\n",
       "</style>\n",
       "<table border=\"1\" class=\"dataframe\">\n",
       "  <thead>\n",
       "    <tr style=\"text-align: right;\">\n",
       "      <th></th>\n",
       "      <th>user_id</th>\n",
       "      <th>artist</th>\n",
       "      <th>play</th>\n",
       "    </tr>\n",
       "  </thead>\n",
       "  <tbody>\n",
       "    <tr>\n",
       "      <th>0</th>\n",
       "      <td>0</td>\n",
       "      <td>0</td>\n",
       "      <td>2137</td>\n",
       "    </tr>\n",
       "    <tr>\n",
       "      <th>1</th>\n",
       "      <td>0</td>\n",
       "      <td>1</td>\n",
       "      <td>1099</td>\n",
       "    </tr>\n",
       "    <tr>\n",
       "      <th>2</th>\n",
       "      <td>0</td>\n",
       "      <td>2</td>\n",
       "      <td>897</td>\n",
       "    </tr>\n",
       "    <tr>\n",
       "      <th>3</th>\n",
       "      <td>0</td>\n",
       "      <td>3</td>\n",
       "      <td>717</td>\n",
       "    </tr>\n",
       "    <tr>\n",
       "      <th>4</th>\n",
       "      <td>0</td>\n",
       "      <td>4</td>\n",
       "      <td>706</td>\n",
       "    </tr>\n",
       "    <tr>\n",
       "      <th>...</th>\n",
       "      <td>...</td>\n",
       "      <td>...</td>\n",
       "      <td>...</td>\n",
       "    </tr>\n",
       "    <tr>\n",
       "      <th>0</th>\n",
       "      <td>358868</td>\n",
       "      <td>376</td>\n",
       "      <td>30</td>\n",
       "    </tr>\n",
       "    <tr>\n",
       "      <th>1</th>\n",
       "      <td>358868</td>\n",
       "      <td>270115</td>\n",
       "      <td>30</td>\n",
       "    </tr>\n",
       "    <tr>\n",
       "      <th>2</th>\n",
       "      <td>358868</td>\n",
       "      <td>3746</td>\n",
       "      <td>30</td>\n",
       "    </tr>\n",
       "    <tr>\n",
       "      <th>3</th>\n",
       "      <td>358868</td>\n",
       "      <td>62</td>\n",
       "      <td>30</td>\n",
       "    </tr>\n",
       "    <tr>\n",
       "      <th>4</th>\n",
       "      <td>358868</td>\n",
       "      <td>396</td>\n",
       "      <td>30</td>\n",
       "    </tr>\n",
       "  </tbody>\n",
       "</table>\n",
       "<p>17535660 rows × 3 columns</p>\n",
       "</div>"
      ],
      "text/plain": [
       "    user_id  artist  play\n",
       "0         0       0  2137\n",
       "1         0       1  1099\n",
       "2         0       2   897\n",
       "3         0       3   717\n",
       "4         0       4   706\n",
       "..      ...     ...   ...\n",
       "0    358868     376    30\n",
       "1    358868  270115    30\n",
       "2    358868    3746    30\n",
       "3    358868      62    30\n",
       "4    358868     396    30\n",
       "\n",
       "[17535660 rows x 3 columns]"
      ]
     },
     "execution_count": 29,
     "metadata": {},
     "output_type": "execute_result"
    }
   ],
   "source": [
    "# indexing을 통해 데이터 컬럼 내 값을 바꾸는 코드\n",
    "# dictionary 자료형의 get 함수는 https://wikidocs.net/16 을 참고하세요.\n",
    "\n",
    "# user_to_idx.get을 통해 user_id 컬럼의 모든 값을 인덱싱한 Series를 구해 봅시다. \n",
    "# 혹시 정상적으로 인덱싱되지 않은 row가 있다면 인덱스가 NaN이 될 테니 dropna()로 제거합니다. \n",
    "temp_user_data = data['user_id'].map(user_to_idx.get).dropna()\n",
    "if len(temp_user_data) == len(data):   # 모든 row가 정상적으로 인덱싱되었다면\n",
    "    print('user_id column indexing OK!!')\n",
    "    data['user_id'] = temp_user_data   # data['user_id']을 인덱싱된 Series로 교체해 줍니다. \n",
    "else:\n",
    "    print('user_id column indexing Fail!!')\n",
    "\n",
    "# artist_to_idx을 통해 artist 컬럼도 동일한 방식으로 인덱싱해 줍니다. \n",
    "temp_artist_data = data['artist'].map(artist_to_idx.get).dropna()\n",
    "if len(temp_artist_data) == len(data):\n",
    "    print('artist column indexing OK!!')\n",
    "    data['artist'] = temp_artist_data\n",
    "else:\n",
    "    print('artist column indexing Fail!!')\n",
    "\n",
    "data"
   ]
  },
  {
   "cell_type": "markdown",
   "id": "changing-express",
   "metadata": {},
   "source": [
    "## 사용자의 명시적/암묵적 평가"
   ]
  },
  {
   "cell_type": "markdown",
   "id": "brief-bathroom",
   "metadata": {},
   "source": [
    "어떤 유저가 어떤 곡을 1회만 들었다고 하면 그것은 좋은 것일까 나쁜 것일까? 이런 implicit한 데이터는 해석하는 것에 도메인 지식이 많이 필요하다."
   ]
  },
  {
   "cell_type": "code",
   "execution_count": 30,
   "id": "another-synthesis",
   "metadata": {},
   "outputs": [
    {
     "name": "stdout",
     "output_type": "stream",
     "text": [
      "147740,17535660\n",
      "Ratio of only_one over all data is 0.84%\n"
     ]
    }
   ],
   "source": [
    "# 1회만 play한 데이터의 비율을 보는 코드\n",
    "only_one = data[data['play']<2]\n",
    "one, all_data = len(only_one), len(data)\n",
    "print(f'{one},{all_data}')\n",
    "print(f'Ratio of only_one over all data is {one/all_data:.2%}')  # f-format에 대한 설명은 https://bit.ly/2DTLqYU"
   ]
  },
  {
   "cell_type": "code",
   "execution_count": 31,
   "id": "bacterial-blanket",
   "metadata": {},
   "outputs": [
    {
     "data": {
      "text/html": [
       "<div>\n",
       "<style scoped>\n",
       "    .dataframe tbody tr th:only-of-type {\n",
       "        vertical-align: middle;\n",
       "    }\n",
       "\n",
       "    .dataframe tbody tr th {\n",
       "        vertical-align: top;\n",
       "    }\n",
       "\n",
       "    .dataframe thead th {\n",
       "        text-align: right;\n",
       "    }\n",
       "</style>\n",
       "<table border=\"1\" class=\"dataframe\">\n",
       "  <thead>\n",
       "    <tr style=\"text-align: right;\">\n",
       "      <th></th>\n",
       "      <th>user_id</th>\n",
       "      <th>artist</th>\n",
       "      <th>play</th>\n",
       "    </tr>\n",
       "  </thead>\n",
       "  <tbody>\n",
       "    <tr>\n",
       "      <th>1854</th>\n",
       "      <td>38</td>\n",
       "      <td>1431</td>\n",
       "      <td>1</td>\n",
       "    </tr>\n",
       "    <tr>\n",
       "      <th>1855</th>\n",
       "      <td>38</td>\n",
       "      <td>1432</td>\n",
       "      <td>1</td>\n",
       "    </tr>\n",
       "    <tr>\n",
       "      <th>1856</th>\n",
       "      <td>38</td>\n",
       "      <td>1433</td>\n",
       "      <td>1</td>\n",
       "    </tr>\n",
       "    <tr>\n",
       "      <th>1857</th>\n",
       "      <td>38</td>\n",
       "      <td>1434</td>\n",
       "      <td>1</td>\n",
       "    </tr>\n",
       "    <tr>\n",
       "      <th>1858</th>\n",
       "      <td>38</td>\n",
       "      <td>1435</td>\n",
       "      <td>1</td>\n",
       "    </tr>\n",
       "  </tbody>\n",
       "</table>\n",
       "</div>"
      ],
      "text/plain": [
       "      user_id  artist  play\n",
       "1854       38    1431     1\n",
       "1855       38    1432     1\n",
       "1856       38    1433     1\n",
       "1857       38    1434     1\n",
       "1858       38    1435     1"
      ]
     },
     "execution_count": 31,
     "metadata": {},
     "output_type": "execute_result"
    }
   ],
   "source": [
    "only_one.head()"
   ]
  },
  {
   "cell_type": "markdown",
   "id": "federal-adult",
   "metadata": {},
   "source": [
    "우리가 앞으로 만들어갈 모델에서는 암묵적 데이터의 해석을 위해 다음과 같은 규칙을 적용할 것입니다.\n",
    "\n",
    "- 한 번이라도 들었으면 선호한다고 판단한다.\n",
    "- 많이 재생한 아티스트에 대해 가중치를 주어서 더 확실히 좋아한다고 판단한다.\n"
   ]
  },
  {
   "cell_type": "markdown",
   "id": "numeric-astrology",
   "metadata": {},
   "source": [
    "## Matrix Factorization(MF)"
   ]
  },
  {
   "attachments": {
    "image.png": {
     "image/png": "[encoded data removed]"
    }
   },
   "cell_type": "markdown",
   "id": "occasional-bible",
   "metadata": {},
   "source": [
    "아래 그림의 왼쪽에서 보는 것처럼, 우리는 m명의 사용자들이 n명의 아티스트에 대해 평가한 데이터를 포함한 (m,n) 사이즈의 평가 행렬(Rating Matrix)을 만들 것입니다. 행렬 중 일부는 데이터가 채워져 있지만, 나머지 부분은 데이터가 비어 있습니다. 우리가 앞에서 살펴보았던 추천 시스템의 협업 필터링(Collaborative Filtering)이란 결국은 이런 평가 행렬을 전제로 하는 것입니다. 만약 우리가 이 평가 행렬의 비어 있는 부분을 포함한 완벽한 정보를 얻을 수만 있다면 (모든 사용자의 모든 아이템에 대한 선호도를 다 파악한 셈이니) 그야말로 완벽한 추천이 가능해질 것입니다.\n",
    "\n",
    "우리는 추천 시스템의 다양한 모델 중 Matrix Factorization(MF, 행렬 분해) 모델을 사용하겠습니다. MF 모델은 2006년 Netflix에서 백만 달러의 상금을 걸고 개최한 자사 추천 시스템의 성능을 10% 이상 향상시키는 챌린지를 계기로 알려지게 되었습니다. 기본 아이디어는 아래 그림과 같습니다. (m,n) 사이즈의 행렬 R을 (m,k) 사이즈의 행렬 P와 (k,n) 사이즈의 행렬 Q로 분해한다면 R이란 그저 P와 Q의 행렬곱으로 표현 가능할 수 있다는 간단한 아이디어입니다. 대체로 k는 m이나 n보다 훨씬 작은 값이기 때문에 계산량 측면으로도 훨씬 유리해집니다. 하지만 아이디어의 단순함에도 불구하고 MF 모델은 성능이 준수하고 Scalability가 좋아서 많이 사용되는 모델입니다.\n",
    "\n",
    "![image.png](attachment:image.png)"
   ]
  },
  {
   "cell_type": "markdown",
   "id": "frank-tobago",
   "metadata": {},
   "source": [
    "아래 그림을 다시 한번 봅시다. 위에 소개한 MF 모델의 개요도와 크게 다를 것은 없습니다. 단지, MF 모델을 사용자에게 영화를 추천하는 모델에 대입해서 그려 보았다는 정도의 차이가 있습니다. 위 그림 방식으로 말하자면 m=4, n=5, k=2인 MF 모델이 되겠군요.\n",
    "\n",
    "위에서 MF 모델은 큰 평가 행렬 R을 두 개의 Feature Matrix P와 Q로 분해한다고 하였습니다.\n",
    "무엇의 Feature일까요? (m, k) 사이즈의 Feature Matrix P는 k 차원의 벡터를 사용자 수만큼 모아놓은 행렬입니다. 그렇다면 아래 그림에서 첫 번째 벡터 $P_0=(1, 0.1)$은 바로 빨간 모자를 쓴 첫 번째 사용자의 특성(Feature) 벡터가 됩니다.\n",
    "같은 방식으로 Q 행렬의 첫 번째 벡터 $Q_0=(0.9, -0.2)$는 해리포터 영화의 특성 벡터가 되겠지요. MF 모델은 이 두 벡터를 내적해서 얻어지는 $0.88$이 바로 $R_{0,0}$ 으로 정의되는 사용자의 영화 선호도로 보는 모델입니다."
   ]
  },
  {
   "cell_type": "markdown",
   "id": "serial-payment",
   "metadata": {},
   "source": [
    "모델의 목표는 모든 유저와 아이템에 대해 k-dimension의 벡터를 잘 만드는 것입니다.\n",
    "벡터를 잘 만드는 기준은 유저 i의 벡터($U_i$)와 아이템 j의 벡터($I_j$)를 내적했을 때 유저 i가 아이템 j에 대해 평가한 수치($M_{ij}$)와 비슷한지 입니다.\n",
    "\n",
    "$U_i \\cdot I_j = M_{ij}$\n"
   ]
  },
  {
   "cell_type": "markdown",
   "id": "protecting-tourism",
   "metadata": {},
   "source": [
    "MF에도 다양한 변형이 있습니다. 이번에 사용할 모델은 Collaborative Filtering for Implicit Feedback Datasets 논문에서 제안한 모델을 사용할 것입니다.\n",
    "\n",
    "이 모델의 경우 이전 스텝에서 제가 'black eyed peas'를 play했다는 데이터를 추가했기 때문에 저의 벡터와 black eyed peas의 벡터를 곱했을 때 1에 가까워야 모델이 잘 학습하는 것을 목표로 합니다.\n",
    "\n",
    "오해할 수 있는데, 제가 black eyed peas를 5번 들었어도 모델이 근사하고자 하는 것이 아티스트를 선호하는지 안 하는지를 맞추는 것이기 때문에 두 벡터를 곱했을 때 5에 가까워지는 대신 1에 가까워져야 합니다.\n",
    "\n",
    "이를 통해서 제가 들어보지 못한 queen에 대해서도 저의 벡터와 queen의 벡터를 곱하여 수치를 예상할 수 있습니다.\n",
    "\n",
    "만약 목표가 유저의 재생 횟수를 맞춰야 하는 것(혹은 별점을 맞추는 것)이라면 그에 맞는 다른 모델을 사용해야 합니다.\n",
    "\n",
    "구조가 거의 똑같고 모델의 목표가 재생횟수를 맞춰지는 쪽으로 학습(유저와 아이템의 벡터를 만들기)하면 됩니다! 궁금하다면 참고 자료를 확인해 주세요."
   ]
  },
  {
   "cell_type": "markdown",
   "id": "stopped-making",
   "metadata": {},
   "source": [
    "## CSR(Compressed Sparse Row) Matrix"
   ]
  },
  {
   "cell_type": "markdown",
   "id": "dominican-enforcement",
   "metadata": {},
   "source": [
    "유저 X 아이템 평가 행렬을 다시 생각해 봅시다. 유저는 36만 명이고 아티스트는 29만 명입니다. 이를 행렬로 표현하고 행렬의 각 원소에 정수 한 개 (1byte)가 들어간다면 36만 * 29만 * 1byte $\\approx$ 97GB가 필요합니다."
   ]
  },
  {
   "cell_type": "markdown",
   "id": "modified-salvation",
   "metadata": {},
   "source": [
    "### Q7. 평가행렬 용량이 이렇게 커진 이유는 무엇일까요? 혹시 메모리 공간을 낭비하게 되는 요소는 없을까요?\n",
    "\n",
    "유저 수 X 아티스트 수만큼의 정보 안에는 유저가 들어보지 않은 아티스트에 대한 정보까지 모두 행렬에 포함되어 계산되기 때문입니다. 아무리 많은 아티스트를 들어 본 유저도 수백 명을 넘어갈 만큼의 아티스트를 들어보지 못했는데, 총 아티스트는 29만 명이 넘기 때문에 평가행렬 내의 대부분의 공간은 0으로 채워집니다. 이런 행렬을 Sparse Matrix라고 합니다. 이런 메모리 낭비를 최소화하기 위해서는 유저가 들어본 아티스트에 대해서만 정보만을 저장하면서 전체 행렬 형태를 유추할 수 있는 데이터 구조가 필요합니다."
   ]
  },
  {
   "cell_type": "markdown",
   "id": "official-place",
   "metadata": {},
   "source": [
    "CSR Matrix는 Sparse한 matrix에서 0이 아닌 유효한 데이터로 채워지는 데이터의 값과 좌표 정보만으로 구성하여 메모리 사용량을 최소화하면서도 Sparse한 matrix와 동일한 행렬을 표현할 수 있도록 하는 데이터 구조입니다."
   ]
  },
  {
   "attachments": {
    "image.png": {
     "image/png": "[encoded data removed]"
    }
   },
   "cell_type": "markdown",
   "id": "challenging-channels",
   "metadata": {},
   "source": [
    "\n",
    "![image.png](attachment:image.png)\n",
    "위의 구조로 현재 데이터를 CSR matrix로 만들기\n",
    "> Duplicate entries are summed together:\n",
    "```python\n",
    ">>> row = np.array([0, 1, 2, 0])\n",
    ">>> col = np.array([0, 1, 1, 0])\n",
    ">>> data = np.array([1, 2, 4, 8])\n",
    ">>> csr_matrix((data, (row, col)), shape=(3, 3)).toarray()\n",
    "array([[9, 0, 0],\n",
    "       [0, 2, 0],\n",
    "       [0, 4, 0]])\n",
    "```"
   ]
  },
  {
   "cell_type": "code",
   "execution_count": 32,
   "id": "adaptive-membrane",
   "metadata": {},
   "outputs": [
    {
     "data": {
      "text/plain": [
       "<358869x291347 sparse matrix of type '<class 'numpy.longlong'>'\n",
       "\twith 17535578 stored elements in Compressed Sparse Row format>"
      ]
     },
     "execution_count": 32,
     "metadata": {},
     "output_type": "execute_result"
    }
   ],
   "source": [
    "# 실습 위에 설명보고 이해해서 만들어보기\n",
    "from scipy.sparse import csr_matrix\n",
    "\n",
    "num_user = data['user_id'].nunique()\n",
    "num_artist = data['artist'].nunique()\n",
    "\n",
    "csr_data = csr_matrix((data.play, (data.user_id, data.artist)), shape= (num_user, num_artist))\n",
    "csr_data"
   ]
  },
  {
   "cell_type": "code",
   "execution_count": 39,
   "id": "magnetic-empire",
   "metadata": {},
   "outputs": [
    {
     "name": "stdout",
     "output_type": "stream",
     "text": [
      "358869\n",
      "291347\n"
     ]
    }
   ],
   "source": [
    "print(num_user)\n",
    "print(num_artist)"
   ]
  },
  {
   "cell_type": "markdown",
   "id": "gorgeous-olympus",
   "metadata": {},
   "source": [
    "## MF 모델 학습하기"
   ]
  },
  {
   "cell_type": "markdown",
   "id": "heard-inclusion",
   "metadata": {},
   "source": [
    "- `implicit` 패키지는 이전 스텝에서 설명한 암묵적(implicit) dataset을 사용하는 다양한 모델을 굉장히 빠르게 학습할 수 있는 패키지입니다.\n",
    "- 이 패키지에 구현된 `als(AlternatingLeastSquares)` 모델을 사용하겠습니다. `Matrix Factorization`에서 쪼개진 두 Feature Matrix를 한꺼번에 훈련하는 것은 잘 수렴하지 않기 때문에, 한쪽을 고정시키고 다른 쪽을 학습하는 방식을 번갈아 수행하는 AlternatingLeastSquares 방식이 효과적인 것으로 알려져 있습니다"
   ]
  },
  {
   "cell_type": "code",
   "execution_count": 33,
   "id": "rental-indianapolis",
   "metadata": {},
   "outputs": [
    {
     "name": "stdout",
     "output_type": "stream",
     "text": [
      "Requirement already satisfied: implicit in /opt/conda/lib/python3.7/site-packages (0.5.2)\n",
      "Requirement already satisfied: scipy>=0.16 in /opt/conda/lib/python3.7/site-packages (from implicit) (1.4.1)\n",
      "Requirement already satisfied: tqdm>=4.27 in /opt/conda/lib/python3.7/site-packages (from implicit) (4.56.0)\n",
      "Requirement already satisfied: numpy in /opt/conda/lib/python3.7/site-packages (from implicit) (1.19.5)\n",
      "\u001b[33mWARNING: You are using pip version 20.3.3; however, version 22.0.3 is available.\n",
      "You should consider upgrading via the '/opt/conda/bin/python3.7 -m pip install --upgrade pip' command.\u001b[0m\n"
     ]
    }
   ],
   "source": [
    "!pip install implicit"
   ]
  },
  {
   "cell_type": "code",
   "execution_count": 34,
   "id": "editorial-master",
   "metadata": {},
   "outputs": [],
   "source": [
    "from implicit.als import AlternatingLeastSquares\n",
    "import os\n",
    "import numpy as np\n",
    "\n",
    "# implicit 라이브러리에서 권장하고 있는 부분입니다. 학습 내용과는 무관합니다.\n",
    "os.environ['OPENBLAS_NUM_THREADS']='1'\n",
    "os.environ['KMP_DUPLICATE_LIB_OK']='True'\n",
    "os.environ['MKL_NUM_THREADS']='1'"
   ]
  },
  {
   "cell_type": "markdown",
   "id": "downtown-greenhouse",
   "metadata": {},
   "source": [
    "AlternatingLeastSquares 클래스의 `__init__` 파라미터를 살펴보겠습니다.\n",
    "\n",
    "- factors : 유저와 아이템의 벡터를 몇 차원으로 할 것인지\n",
    "- regularization : 과적합을 방지하기 위해 정규화 값을 얼마나 사용할 것인지\n",
    "- use_gpu : GPU를 사용할 것인지\n",
    "- iterations : epochs와 같은 의미입니다. 데이터를 몇 번 반복해서 학습할 것인지  \n",
    "\n",
    "1과 4를 늘릴수록 학습 데이터를 잘 학습하게 되지만 과적합의 우려가 있으니 좋은 값을 찾아야 합니다."
   ]
  },
  {
   "cell_type": "code",
   "execution_count": 35,
   "id": "polish-logan",
   "metadata": {},
   "outputs": [],
   "source": [
    "# Implicit AlternatingLeastSquares 모델의 선언\n",
    "als_model = AlternatingLeastSquares(factors=100, regularization=0.01, use_gpu=False, iterations=15, dtype=np.float32)"
   ]
  },
  {
   "cell_type": "markdown",
   "id": "welcome-buddy",
   "metadata": {},
   "source": [
    "---------\n",
    "---------\n",
    "---------\n",
    "---------\n",
    "##### Transpose 버전을 input으로 넣었을 때 LMS 실습에 오류가 있었다."
   ]
  },
  {
   "cell_type": "code",
   "execution_count": 36,
   "id": "confirmed-separation",
   "metadata": {},
   "outputs": [
    {
     "data": {
      "text/plain": [
       "<291347x358869 sparse matrix of type '<class 'numpy.longlong'>'\n",
       "\twith 17535578 stored elements in Compressed Sparse Column format>"
      ]
     },
     "execution_count": 36,
     "metadata": {},
     "output_type": "execute_result"
    }
   ],
   "source": [
    "# als 모델은 input으로 (item X user 꼴의 matrix를 받기 때문에 Transpose해줍니다.)\n",
    "csr_data_transpose = csr_data.T\n",
    "csr_data_transpose"
   ]
  },
  {
   "cell_type": "code",
   "execution_count": 37,
   "id": "regulated-colon",
   "metadata": {},
   "outputs": [
    {
     "data": {
      "application/vnd.jupyter.widget-view+json": {
       "model_id": "2fe92c5f7eb04e9b871c6952b5ec0033",
       "version_major": 2,
       "version_minor": 0
      },
      "text/plain": [
       "  0%|          | 0/15 [00:00<?, ?it/s]"
      ]
     },
     "metadata": {},
     "output_type": "display_data"
    }
   ],
   "source": [
    "# 모델 훈련\n",
    "als_model.fit(csr_data_transpose)"
   ]
  },
  {
   "cell_type": "code",
   "execution_count": 42,
   "id": "prospective-marketing",
   "metadata": {},
   "outputs": [
    {
     "data": {
      "text/plain": [
       "(291347, 100)"
      ]
     },
     "execution_count": 42,
     "metadata": {},
     "output_type": "execute_result"
    }
   ],
   "source": [
    "als_model.user_factors.shape"
   ]
  },
  {
   "cell_type": "code",
   "execution_count": 43,
   "id": "waiting-jesus",
   "metadata": {},
   "outputs": [
    {
     "data": {
      "text/plain": [
       "(358869, 100)"
      ]
     },
     "execution_count": 43,
     "metadata": {},
     "output_type": "execute_result"
    }
   ],
   "source": [
    "als_model.item_factors.shape"
   ]
  },
  {
   "cell_type": "code",
   "execution_count": 48,
   "id": "invalid-positive",
   "metadata": {},
   "outputs": [
    {
     "name": "stdout",
     "output_type": "stream",
     "text": [
      "358869\n"
     ]
    }
   ],
   "source": [
    "print(len(user_to_idx))"
   ]
  },
  {
   "cell_type": "code",
   "execution_count": 51,
   "id": "sized-suspect",
   "metadata": {
    "scrolled": true
   },
   "outputs": [
    {
     "ename": "IndexError",
     "evalue": "index 358868 is out of bounds for axis 0 with size 291347",
     "output_type": "error",
     "traceback": [
      "\u001b[0;31m---------------------------------------------------------------------------\u001b[0m",
      "\u001b[0;31mIndexError\u001b[0m                                Traceback (most recent call last)",
      "\u001b[0;32m<ipython-input-51-1e3d6d9bcbe9>\u001b[0m in \u001b[0;36m<module>\u001b[0;34m\u001b[0m\n\u001b[1;32m      1\u001b[0m \u001b[0mzimin\u001b[0m\u001b[0;34m,\u001b[0m \u001b[0mblack_eyed_peas\u001b[0m \u001b[0;34m=\u001b[0m \u001b[0muser_to_idx\u001b[0m\u001b[0;34m[\u001b[0m\u001b[0;34m'zimin'\u001b[0m\u001b[0;34m]\u001b[0m\u001b[0;34m,\u001b[0m \u001b[0martist_to_idx\u001b[0m\u001b[0;34m[\u001b[0m\u001b[0;34m'black eyed peas'\u001b[0m\u001b[0;34m]\u001b[0m\u001b[0;34m\u001b[0m\u001b[0;34m\u001b[0m\u001b[0m\n\u001b[0;32m----> 2\u001b[0;31m \u001b[0mzimin_vector\u001b[0m\u001b[0;34m,\u001b[0m \u001b[0mblack_eyed_peas_vector\u001b[0m \u001b[0;34m=\u001b[0m \u001b[0mals_model\u001b[0m\u001b[0;34m.\u001b[0m\u001b[0muser_factors\u001b[0m\u001b[0;34m[\u001b[0m\u001b[0mzimin\u001b[0m\u001b[0;34m]\u001b[0m\u001b[0;34m,\u001b[0m \u001b[0mals_model\u001b[0m\u001b[0;34m.\u001b[0m\u001b[0mitem_factors\u001b[0m\u001b[0;34m[\u001b[0m\u001b[0mblack_eyed_peas\u001b[0m\u001b[0;34m]\u001b[0m\u001b[0;34m\u001b[0m\u001b[0;34m\u001b[0m\u001b[0m\n\u001b[0m\u001b[1;32m      3\u001b[0m \u001b[0;34m\u001b[0m\u001b[0m\n\u001b[1;32m      4\u001b[0m \u001b[0mprint\u001b[0m\u001b[0;34m(\u001b[0m\u001b[0;34m'슝=3'\u001b[0m\u001b[0;34m)\u001b[0m\u001b[0;34m\u001b[0m\u001b[0;34m\u001b[0m\u001b[0m\n",
      "\u001b[0;31mIndexError\u001b[0m: index 358868 is out of bounds for axis 0 with size 291347"
     ]
    }
   ],
   "source": [
    "zimin, black_eyed_peas = user_to_idx['zimin'], artist_to_idx['black eyed peas']\n",
    "zimin_vector, black_eyed_peas_vector = als_model.user_factors[zimin], als_model.item_factors[black_eyed_peas]\n",
    "\n",
    "print('슝=3')"
   ]
  },
  {
   "cell_type": "code",
   "execution_count": 52,
   "id": "conceptual-salad",
   "metadata": {},
   "outputs": [
    {
     "data": {
      "text/plain": [
       "(100,)"
      ]
     },
     "execution_count": 52,
     "metadata": {},
     "output_type": "execute_result"
    }
   ],
   "source": [
    "zimin_vector.shape"
   ]
  },
  {
   "cell_type": "code",
   "execution_count": 53,
   "id": "numerous-resource",
   "metadata": {},
   "outputs": [
    {
     "data": {
      "text/plain": [
       "(100,)"
      ]
     },
     "execution_count": 53,
     "metadata": {},
     "output_type": "execute_result"
    }
   ],
   "source": [
    "black_eyed_peas_vector.shape"
   ]
  },
  {
   "cell_type": "code",
   "execution_count": 54,
   "id": "municipal-romantic",
   "metadata": {},
   "outputs": [
    {
     "data": {
      "text/plain": [
       "0.54655933"
      ]
     },
     "execution_count": 54,
     "metadata": {},
     "output_type": "execute_result"
    }
   ],
   "source": [
    "# zimin과 black_eyed_peas를 내적하는 코드\n",
    "np.dot(zimin_vector, black_eyed_peas_vector)"
   ]
  },
  {
   "cell_type": "code",
   "execution_count": 55,
   "id": "tracked-heating",
   "metadata": {},
   "outputs": [
    {
     "data": {
      "text/plain": [
       "-0.20071661"
      ]
     },
     "execution_count": 55,
     "metadata": {},
     "output_type": "execute_result"
    }
   ],
   "source": [
    "queen = artist_to_idx['queen']\n",
    "queen_vector = als_model.item_factors[queen]\n",
    "np.dot(zimin_vector, queen_vector)"
   ]
  },
  {
   "cell_type": "code",
   "execution_count": 66,
   "id": "industrial-anthony",
   "metadata": {},
   "outputs": [
    {
     "data": {
      "text/plain": [
       "(291347, 100)"
      ]
     },
     "execution_count": 66,
     "metadata": {},
     "output_type": "execute_result"
    }
   ],
   "source": [
    "als_model.user_factors.shape"
   ]
  },
  {
   "cell_type": "code",
   "execution_count": 67,
   "id": "worse-swimming",
   "metadata": {},
   "outputs": [
    {
     "data": {
      "text/plain": [
       "(358869, 100)"
      ]
     },
     "execution_count": 67,
     "metadata": {},
     "output_type": "execute_result"
    }
   ],
   "source": [
    "als_model.item_factors.shape"
   ]
  },
  {
   "cell_type": "markdown",
   "id": "pursuant-november",
   "metadata": {},
   "source": [
    "------\n",
    "------\n",
    "------\n",
    "------"
   ]
  },
  {
   "cell_type": "code",
   "execution_count": 45,
   "id": "meaning-messaging",
   "metadata": {},
   "outputs": [
    {
     "data": {
      "text/plain": [
       "(291347, 100)"
      ]
     },
     "execution_count": 45,
     "metadata": {},
     "output_type": "execute_result"
    }
   ],
   "source": [
    "als_model.user_factors.shape"
   ]
  },
  {
   "cell_type": "code",
   "execution_count": 46,
   "id": "otherwise-currency",
   "metadata": {},
   "outputs": [
    {
     "data": {
      "text/plain": [
       "358868"
      ]
     },
     "execution_count": 46,
     "metadata": {},
     "output_type": "execute_result"
    }
   ],
   "source": [
    "zimin"
   ]
  },
  {
   "cell_type": "code",
   "execution_count": 48,
   "id": "several-tribute",
   "metadata": {},
   "outputs": [
    {
     "data": {
      "text/plain": [
       "(358869, 100)"
      ]
     },
     "execution_count": 48,
     "metadata": {},
     "output_type": "execute_result"
    }
   ],
   "source": [
    "als_model.item_factors.shape"
   ]
  },
  {
   "cell_type": "markdown",
   "id": "joined-vertex",
   "metadata": {},
   "source": [
    "------\n",
    "------\n",
    "------\n",
    "------"
   ]
  },
  {
   "cell_type": "markdown",
   "id": "inclusive-chicago",
   "metadata": {},
   "source": [
    "## 비슷한 아티스트 찾기 + 유저에게 추천하기"
   ]
  },
  {
   "cell_type": "markdown",
   "id": "environmental-blink",
   "metadata": {},
   "source": [
    "### 비슷한 아티스트 찾기\n",
    "\n",
    "`AlternatingLeastSquares` 클래스에 구현되어 있는 `similar_items` 메서드를 통하여 비슷한 아티스트를 찾습니다. 처음으로는 제가 좋아하는 coldplay로 찾아보겠습니다."
   ]
  },
  {
   "cell_type": "code",
   "execution_count": 45,
   "id": "lasting-darkness",
   "metadata": {},
   "outputs": [
    {
     "data": {
      "text/plain": [
       "(array([    62, 216653, 138722, 298428, 158339, 173400,  59985, 109828,\n",
       "        115172, 156374,  22900, 356233,  68002,  34900, 204219],\n",
       "       dtype=int32),\n",
       " array([0.9999998 , 0.8573975 , 0.8516895 , 0.8486975 , 0.84697765,\n",
       "        0.84565943, 0.84027106, 0.83843595, 0.83776116, 0.83481383,\n",
       "        0.83435154, 0.83339775, 0.8332975 , 0.8328477 , 0.8324996 ],\n",
       "       dtype=float32))"
      ]
     },
     "execution_count": 45,
     "metadata": {},
     "output_type": "execute_result"
    }
   ],
   "source": [
    "favorite_artist = 'coldplay'\n",
    "artist_id = artist_to_idx[favorite_artist]\n",
    "similar_artist = als_model.similar_items(artist_id, N=15)\n",
    "similar_artist"
   ]
  },
  {
   "cell_type": "code",
   "execution_count": 58,
   "id": "mature-destruction",
   "metadata": {},
   "outputs": [
    {
     "data": {
      "text/plain": [
       "(15,)"
      ]
     },
     "execution_count": 58,
     "metadata": {},
     "output_type": "execute_result"
    }
   ],
   "source": [
    "similar_artist[0].shape"
   ]
  },
  {
   "cell_type": "code",
   "execution_count": 46,
   "id": "hispanic-church",
   "metadata": {},
   "outputs": [
    {
     "ename": "KeyError",
     "evalue": "0.9999998",
     "output_type": "error",
     "traceback": [
      "\u001b[0;31m---------------------------------------------------------------------------\u001b[0m",
      "\u001b[0;31mKeyError\u001b[0m                                  Traceback (most recent call last)",
      "\u001b[0;32m<ipython-input-46-79bfc343d16b>\u001b[0m in \u001b[0;36m<module>\u001b[0;34m\u001b[0m\n\u001b[1;32m      1\u001b[0m \u001b[0midx_to_user\u001b[0m \u001b[0;34m=\u001b[0m \u001b[0;34m{\u001b[0m\u001b[0mv\u001b[0m\u001b[0;34m:\u001b[0m\u001b[0mk\u001b[0m \u001b[0;32mfor\u001b[0m \u001b[0mk\u001b[0m\u001b[0;34m,\u001b[0m \u001b[0mv\u001b[0m \u001b[0;32min\u001b[0m \u001b[0muser_to_idx\u001b[0m\u001b[0;34m.\u001b[0m\u001b[0mitems\u001b[0m\u001b[0;34m(\u001b[0m\u001b[0;34m)\u001b[0m\u001b[0;34m}\u001b[0m\u001b[0;34m\u001b[0m\u001b[0;34m\u001b[0m\u001b[0m\n\u001b[0;32m----> 2\u001b[0;31m \u001b[0;34m[\u001b[0m\u001b[0midx_to_user\u001b[0m\u001b[0;34m[\u001b[0m\u001b[0mi\u001b[0m\u001b[0;34m[\u001b[0m\u001b[0;36m0\u001b[0m\u001b[0;34m]\u001b[0m\u001b[0;34m]\u001b[0m \u001b[0;32mfor\u001b[0m \u001b[0mi\u001b[0m \u001b[0;32min\u001b[0m \u001b[0msimilar_artist\u001b[0m\u001b[0;34m]\u001b[0m\u001b[0;34m\u001b[0m\u001b[0;34m\u001b[0m\u001b[0m\n\u001b[0m",
      "\u001b[0;32m<ipython-input-46-79bfc343d16b>\u001b[0m in \u001b[0;36m<listcomp>\u001b[0;34m(.0)\u001b[0m\n\u001b[1;32m      1\u001b[0m \u001b[0midx_to_user\u001b[0m \u001b[0;34m=\u001b[0m \u001b[0;34m{\u001b[0m\u001b[0mv\u001b[0m\u001b[0;34m:\u001b[0m\u001b[0mk\u001b[0m \u001b[0;32mfor\u001b[0m \u001b[0mk\u001b[0m\u001b[0;34m,\u001b[0m \u001b[0mv\u001b[0m \u001b[0;32min\u001b[0m \u001b[0muser_to_idx\u001b[0m\u001b[0;34m.\u001b[0m\u001b[0mitems\u001b[0m\u001b[0;34m(\u001b[0m\u001b[0;34m)\u001b[0m\u001b[0;34m}\u001b[0m\u001b[0;34m\u001b[0m\u001b[0;34m\u001b[0m\u001b[0m\n\u001b[0;32m----> 2\u001b[0;31m \u001b[0;34m[\u001b[0m\u001b[0midx_to_user\u001b[0m\u001b[0;34m[\u001b[0m\u001b[0mi\u001b[0m\u001b[0;34m[\u001b[0m\u001b[0;36m0\u001b[0m\u001b[0;34m]\u001b[0m\u001b[0;34m]\u001b[0m \u001b[0;32mfor\u001b[0m \u001b[0mi\u001b[0m \u001b[0;32min\u001b[0m \u001b[0msimilar_artist\u001b[0m\u001b[0;34m]\u001b[0m\u001b[0;34m\u001b[0m\u001b[0;34m\u001b[0m\u001b[0m\n\u001b[0m",
      "\u001b[0;31mKeyError\u001b[0m: 0.9999998"
     ]
    }
   ],
   "source": [
    "idx_to_user = {v:k for k, v in user_to_idx.items()}\n",
    "[idx_to_user[i[0]] for i in similar_artist]"
   ]
  },
  {
   "cell_type": "code",
   "execution_count": 79,
   "id": "possible-chosen",
   "metadata": {},
   "outputs": [
    {
     "ename": "KeyError",
     "evalue": "292194",
     "output_type": "error",
     "traceback": [
      "\u001b[0;31m---------------------------------------------------------------------------\u001b[0m",
      "\u001b[0;31mKeyError\u001b[0m                                  Traceback (most recent call last)",
      "\u001b[0;32m<ipython-input-79-a35c65f0ecb9>\u001b[0m in \u001b[0;36m<module>\u001b[0;34m\u001b[0m\n\u001b[1;32m      1\u001b[0m \u001b[0;31m#artist_to_idx 를 뒤집어, index로부터 artist 이름을 얻는 dict를 생성합니다.\u001b[0m\u001b[0;34m\u001b[0m\u001b[0;34m\u001b[0m\u001b[0;34m\u001b[0m\u001b[0m\n\u001b[1;32m      2\u001b[0m \u001b[0midx_to_artist\u001b[0m \u001b[0;34m=\u001b[0m \u001b[0;34m{\u001b[0m\u001b[0mv\u001b[0m\u001b[0;34m:\u001b[0m\u001b[0mk\u001b[0m \u001b[0;32mfor\u001b[0m \u001b[0mk\u001b[0m\u001b[0;34m,\u001b[0m\u001b[0mv\u001b[0m \u001b[0;32min\u001b[0m \u001b[0martist_to_idx\u001b[0m\u001b[0;34m.\u001b[0m\u001b[0mitems\u001b[0m\u001b[0;34m(\u001b[0m\u001b[0;34m)\u001b[0m\u001b[0;34m}\u001b[0m\u001b[0;34m\u001b[0m\u001b[0;34m\u001b[0m\u001b[0m\n\u001b[0;32m----> 3\u001b[0;31m \u001b[0;34m[\u001b[0m\u001b[0midx_to_artist\u001b[0m\u001b[0;34m[\u001b[0m\u001b[0mi\u001b[0m\u001b[0;34m]\u001b[0m \u001b[0;32mfor\u001b[0m \u001b[0mi\u001b[0m \u001b[0;32min\u001b[0m \u001b[0msimilar_artist\u001b[0m\u001b[0;34m[\u001b[0m\u001b[0;36m0\u001b[0m\u001b[0;34m]\u001b[0m\u001b[0;34m]\u001b[0m\u001b[0;34m\u001b[0m\u001b[0;34m\u001b[0m\u001b[0m\n\u001b[0m",
      "\u001b[0;32m<ipython-input-79-a35c65f0ecb9>\u001b[0m in \u001b[0;36m<listcomp>\u001b[0;34m(.0)\u001b[0m\n\u001b[1;32m      1\u001b[0m \u001b[0;31m#artist_to_idx 를 뒤집어, index로부터 artist 이름을 얻는 dict를 생성합니다.\u001b[0m\u001b[0;34m\u001b[0m\u001b[0;34m\u001b[0m\u001b[0;34m\u001b[0m\u001b[0m\n\u001b[1;32m      2\u001b[0m \u001b[0midx_to_artist\u001b[0m \u001b[0;34m=\u001b[0m \u001b[0;34m{\u001b[0m\u001b[0mv\u001b[0m\u001b[0;34m:\u001b[0m\u001b[0mk\u001b[0m \u001b[0;32mfor\u001b[0m \u001b[0mk\u001b[0m\u001b[0;34m,\u001b[0m\u001b[0mv\u001b[0m \u001b[0;32min\u001b[0m \u001b[0martist_to_idx\u001b[0m\u001b[0;34m.\u001b[0m\u001b[0mitems\u001b[0m\u001b[0;34m(\u001b[0m\u001b[0;34m)\u001b[0m\u001b[0;34m}\u001b[0m\u001b[0;34m\u001b[0m\u001b[0;34m\u001b[0m\u001b[0m\n\u001b[0;32m----> 3\u001b[0;31m \u001b[0;34m[\u001b[0m\u001b[0midx_to_artist\u001b[0m\u001b[0;34m[\u001b[0m\u001b[0mi\u001b[0m\u001b[0;34m]\u001b[0m \u001b[0;32mfor\u001b[0m \u001b[0mi\u001b[0m \u001b[0;32min\u001b[0m \u001b[0msimilar_artist\u001b[0m\u001b[0;34m[\u001b[0m\u001b[0;36m0\u001b[0m\u001b[0;34m]\u001b[0m\u001b[0;34m]\u001b[0m\u001b[0;34m\u001b[0m\u001b[0;34m\u001b[0m\u001b[0m\n\u001b[0m",
      "\u001b[0;31mKeyError\u001b[0m: 292194"
     ]
    }
   ],
   "source": [
    "#artist_to_idx 를 뒤집어, index로부터 artist 이름을 얻는 dict를 생성합니다. \n",
    "idx_to_artist = {v:k for k,v in artist_to_idx.items()}\n",
    "[idx_to_artist[i] for i in similar_artist[0]]"
   ]
  },
  {
   "cell_type": "code",
   "execution_count": 78,
   "id": "reserved-motion",
   "metadata": {},
   "outputs": [
    {
     "data": {
      "text/plain": [
       "{0: 'betty blowtorch',\n",
       " 1: 'die ärzte',\n",
       " 2: 'melissa etheridge',\n",
       " 3: 'elvenking',\n",
       " 4: 'juliette & the licks',\n",
       " 5: 'red hot chili peppers',\n",
       " 6: 'magica',\n",
       " 7: 'the black dahlia murder',\n",
       " 8: 'the murmurs',\n",
       " 9: 'lunachicks',\n",
       " 10: 'walls of jericho',\n",
       " 11: 'letzte instanz',\n",
       " 12: 'goldfrapp',\n",
       " 13: 'horrorpops',\n",
       " 14: 'the butchies',\n",
       " 15: 'jack off jill',\n",
       " 16: 'babes in toyland',\n",
       " 17: 'dropkick murphys',\n",
       " 18: 'all:my:faults',\n",
       " 19: 'le tigre',\n",
       " 20: 'schandmaul',\n",
       " 21: 'edguy',\n",
       " 22: 'maximum the hormone',\n",
       " 23: 'all ends',\n",
       " 24: 'jack johnson',\n",
       " 25: 'eluveitie',\n",
       " 26: 'rasputina',\n",
       " 27: 'london after midnight',\n",
       " 28: 'the killers',\n",
       " 29: 'mutyumu',\n",
       " 30: 'judas priest',\n",
       " 31: 'rob zombie',\n",
       " 32: 'the bosshoss',\n",
       " 33: 'blue öyster cult',\n",
       " 34: 'sandra nasic',\n",
       " 35: 'john mayer',\n",
       " 36: 'sleater-kinney',\n",
       " 37: 'the who',\n",
       " 38: 'disciple',\n",
       " 39: 'tanzwut',\n",
       " 40: 'guano apes',\n",
       " 41: 'the rolling stones',\n",
       " 42: 'little big town',\n",
       " 43: 'team dresch',\n",
       " 44: 'betty',\n",
       " 45: 'l7',\n",
       " 46: 'bif naked',\n",
       " 47: 'girlschool',\n",
       " 48: 'the wallflowers',\n",
       " 49: 'the most serene republic',\n",
       " 50: 'stars',\n",
       " 51: 'broken social scene',\n",
       " 52: 'have heart',\n",
       " 53: 'luminous orange',\n",
       " 54: 'boris',\n",
       " 55: 'arctic monkeys',\n",
       " 56: 'bright eyes',\n",
       " 57: 'coaltar of the deepers',\n",
       " 58: 'polar bear club',\n",
       " 59: 'the libertines',\n",
       " 60: 'death from above 1979',\n",
       " 61: 'owl city',\n",
       " 62: 'coldplay',\n",
       " 63: 'okkervil river',\n",
       " 64: 'jim sturgess',\n",
       " 65: 'deerhoof',\n",
       " 66: 'fear before the march of flames',\n",
       " 67: 'breathe carolina',\n",
       " 68: 'mstrkrft',\n",
       " 69: 'arcade fire',\n",
       " 70: 'the strokes',\n",
       " 71: 'cancer bats',\n",
       " 72: 'the honorary title',\n",
       " 73: 'michio kurihara',\n",
       " 74: 'mgmt',\n",
       " 75: 'queen',\n",
       " 76: 'the secret handshake',\n",
       " 77: 'animal collective',\n",
       " 78: 'heavy heavy low low',\n",
       " 79: 'hot hot heat',\n",
       " 80: 'hadouken!',\n",
       " 81: 'the wombats',\n",
       " 82: 'ai aso',\n",
       " 83: 'boris with michio kurihara',\n",
       " 84: 'uffie',\n",
       " 85: 'the last shadow puppets',\n",
       " 86: 'boys noize',\n",
       " 87: 'built to spill',\n",
       " 88: 'nujabes',\n",
       " 89: 'the rocket summer',\n",
       " 90: 'little dragon',\n",
       " 91: 'boris with merzbow',\n",
       " 92: 'the album leaf',\n",
       " 93: 'the microphones',\n",
       " 94: 'simian mobile disco',\n",
       " 95: 'm.i.a.',\n",
       " 96: 'death cab for cutie',\n",
       " 97: 'patrick wolf',\n",
       " 98: 'the fiery furnaces',\n",
       " 99: 'digitalism',\n",
       " 100: 'current 93',\n",
       " 101: 'coil',\n",
       " 102: 'andrew liles',\n",
       " 103: 'six organs of admittance',\n",
       " 104: '16 horsepower',\n",
       " 105: 'angels of light',\n",
       " 106: 'the legendary pink dots',\n",
       " 107: 'charalambides',\n",
       " 108: 'festival',\n",
       " 109: 'fern knight',\n",
       " 110: 'nick cave & the bad seeds',\n",
       " 111: 'fovea hex',\n",
       " 112: 'amanda rogers',\n",
       " 113: 'lux interna',\n",
       " 114: 'nalle',\n",
       " 115: 'antony and the johnsons',\n",
       " 116: 'marissa nadler',\n",
       " 117: 'a silver mt. zion',\n",
       " 118: 'einstürzende neubauten',\n",
       " 119: 'marc almond',\n",
       " 120: 'mariee sioux',\n",
       " 121: 'björk',\n",
       " 122: 'bill fay',\n",
       " 123: 'nurse with wound',\n",
       " 124: 'baby dee',\n",
       " 125: 'ghq',\n",
       " 126: 'daniel higgs',\n",
       " 127: 'flairck',\n",
       " 128: 'jack rose',\n",
       " 129: 'castanets',\n",
       " 130: 'john jacob niles',\n",
       " 131: 'the revolutionary army of the infant jesus',\n",
       " 132: 'carter tutti',\n",
       " 133: 'the one ensemble',\n",
       " 134: 'orion rigel dommisse',\n",
       " 135: 'jocelyn pook',\n",
       " 136: 'matmos',\n",
       " 137: 'ulver',\n",
       " 138: 'ane brun',\n",
       " 139: 'soisong',\n",
       " 140: 'a hawk and a hacksaw',\n",
       " 141: 'frank london',\n",
       " 142: 'michael gira',\n",
       " 143: 'larkin grimm',\n",
       " 144: 'pelt',\n",
       " 145: 'jean parlette',\n",
       " 146: 'opeth',\n",
       " 147: 'cannibal corpse',\n",
       " 148: 'elis',\n",
       " 149: 'amoral',\n",
       " 150: 'amon amarth',\n",
       " 151: 'riverside',\n",
       " 152: 'dark tranquillity',\n",
       " 153: 'atrocity',\n",
       " 154: 'kromlek',\n",
       " 155: 'kamelot',\n",
       " 156: 'novembers doom',\n",
       " 157: 'poe',\n",
       " 158: 'rock universal',\n",
       " 159: 'dido',\n",
       " 160: 'stone temple pilots',\n",
       " 161: 'audioslave',\n",
       " 162: 'katatonia',\n",
       " 163: 'ark',\n",
       " 164: 'circus maximus',\n",
       " 165: 'dimmu borgir',\n",
       " 166: 'death',\n",
       " 167: 'månegarm',\n",
       " 168: 'cynic',\n",
       " 169: 'korpiklaani',\n",
       " 170: 'my dying bride',\n",
       " 171: 'brujeria',\n",
       " 172: 'agalloch',\n",
       " 173: 'alice in chains',\n",
       " 174: 'johann sebastian bach',\n",
       " 175: 'kalmah',\n",
       " 176: 'farmakon',\n",
       " 177: 'children of bodom',\n",
       " 178: 'dragonforce',\n",
       " 179: 'dredg',\n",
       " 180: 'green carnation',\n",
       " 181: 'pain of salvation',\n",
       " 182: 'rhapsody of fire',\n",
       " 183: 'the mars volta',\n",
       " 184: 'tool',\n",
       " 185: 'arch enemy',\n",
       " 186: 'at the gates',\n",
       " 187: 'compay segundo',\n",
       " 188: 'ensiferum',\n",
       " 189: 'naglfar',\n",
       " 190: 'nevermore',\n",
       " 191: 'old mans child',\n",
       " 192: 'shade empire',\n",
       " 193: 'system of a down',\n",
       " 194: 'tristania',\n",
       " 195: 'devendra banhart',\n",
       " 196: 'boards of canada',\n",
       " 197: 'cocorosie',\n",
       " 198: 'aphex twin',\n",
       " 199: 'atmosphere',\n",
       " 200: 'joanna newsom',\n",
       " 201: 'air',\n",
       " 202: 'portishead',\n",
       " 203: 'massive attack',\n",
       " 204: 'plaid',\n",
       " 205: 'fog',\n",
       " 206: 'prefuse 73',\n",
       " 207: 'm83',\n",
       " 208: 'the flashbulb',\n",
       " 209: 'pavement',\n",
       " 210: 'amon tobin',\n",
       " 211: 'sage francis',\n",
       " 212: 'four tet',\n",
       " 213: 'brother ali',\n",
       " 214: 'max richter',\n",
       " 215: 'why?',\n",
       " 216: 'autechre',\n",
       " 217: 'radiohead',\n",
       " 218: 'susumu yokota',\n",
       " 219: 'electrelane',\n",
       " 220: 'neutral milk hotel',\n",
       " 221: 'bent',\n",
       " 222: 'vetiver',\n",
       " 223: 'k-the-i???',\n",
       " 224: 'illogic',\n",
       " 225: 'annie',\n",
       " 226: 'broadcast',\n",
       " 227: 'beastie boys',\n",
       " 228: 'aesop rock',\n",
       " 229: 'mf doom',\n",
       " 230: 'the books',\n",
       " 231: 'bibio',\n",
       " 232: \"rachel's\",\n",
       " 233: 'architecture in helsinki',\n",
       " 234: 'bola',\n",
       " 235: 'isan',\n",
       " 236: 'apes & androids',\n",
       " 237: 'múm',\n",
       " 238: 'elliott smith',\n",
       " 239: 'caribou',\n",
       " 240: 'the hold steady',\n",
       " 241: 'mogwai',\n",
       " 242: 'justice',\n",
       " 243: 'sigur rós',\n",
       " 244: 'clutch',\n",
       " 245: 'white denim',\n",
       " 246: 'the go! team',\n",
       " 247: 'the beatles',\n",
       " 248: \"2 many dj's\",\n",
       " 249: 'tv on the radio',\n",
       " 250: 'kyuss',\n",
       " 251: 'dj shadow',\n",
       " 252: 'a tribe called quest',\n",
       " 253: 'the cinematic orchestra',\n",
       " 254: 'beck',\n",
       " 255: 'bon iver',\n",
       " 256: 'röyksopp',\n",
       " 257: 'rex the dog',\n",
       " 258: 'bonobo',\n",
       " 259: 'deadmau5',\n",
       " 260: 'the decemberists',\n",
       " 261: 'earth',\n",
       " 262: 'snow patrol',\n",
       " 263: 'battles',\n",
       " 264: 'metronomy',\n",
       " 265: 'dj format',\n",
       " 266: 'the prodigy',\n",
       " 267: 'lemon jelly',\n",
       " 268: 'pink floyd',\n",
       " 269: 'rjd2',\n",
       " 270: 'the flaming lips',\n",
       " 271: 'alasdair fraser & paul machlis',\n",
       " 272: 'passion pit',\n",
       " 273: 'holy fuck',\n",
       " 274: 'michael jackson',\n",
       " 275: 'late of the pier',\n",
       " 276: 'flight of the conchords',\n",
       " 277: 'muse',\n",
       " 278: 'fleetwood mac',\n",
       " 279: 'led zeppelin',\n",
       " 280: 'stam1na',\n",
       " 281: 'dream theater',\n",
       " 282: 'ac/dc',\n",
       " 283: 'metallica',\n",
       " 284: 'iron maiden',\n",
       " 285: 'bob marley & the wailers',\n",
       " 286: 'megadeth',\n",
       " 287: 'trivium',\n",
       " 288: 'raappana',\n",
       " 289: 'nightwish',\n",
       " 290: 'kotiteollisuus',\n",
       " 291: 'sublime',\n",
       " 292: 'viikate',\n",
       " 293: 'volbeat',\n",
       " 294: \"guns n' roses\",\n",
       " 295: 'bon jovi',\n",
       " 296: 'dio',\n",
       " 297: 'soldiers of jah army',\n",
       " 298: 'scorpions',\n",
       " 299: 'teräsbetoni',\n",
       " 300: 'nopsajalka',\n",
       " 301: 'paramore',\n",
       " 302: 'the darkness',\n",
       " 303: 'soul captain band',\n",
       " 304: 'asa',\n",
       " 305: 'tarot',\n",
       " 306: 'klamydia',\n",
       " 307: 'gentleman',\n",
       " 308: 'mötley crüe',\n",
       " 309: 'manowar',\n",
       " 310: 'killswitch engage',\n",
       " 311: 'slayer',\n",
       " 312: 'in flames',\n",
       " 313: 'skid row',\n",
       " 314: 'stone',\n",
       " 315: 'bullet for my valentine',\n",
       " 316: 'mokoma',\n",
       " 317: 'pantera',\n",
       " 318: 'brother firetribe',\n",
       " 319: 'hurriganes',\n",
       " 320: 'norther',\n",
       " 321: 'stratovarius',\n",
       " 322: 'kiuas',\n",
       " 323: 'ozzy osbourne',\n",
       " 324: 'pin',\n",
       " 325: 'feel',\n",
       " 326: 'elton john',\n",
       " 327: 'orgy',\n",
       " 328: 'brandy',\n",
       " 329: 'pet shop boys',\n",
       " 330: 'sade',\n",
       " 331: 'belinda carlisle',\n",
       " 332: 'eurythmics',\n",
       " 333: 'mike oldfield',\n",
       " 334: 'hall & oates',\n",
       " 335: 'chris rea',\n",
       " 336: 'laura branigan',\n",
       " 337: 'the waterboys',\n",
       " 338: 'maciej silski',\n",
       " 339: 'leona lewis',\n",
       " 340: 'george michael',\n",
       " 341: 'black',\n",
       " 342: 'frozen silence',\n",
       " 343: 'sweet coffee',\n",
       " 344: 'blackfield',\n",
       " 345: 'cyndi lauper',\n",
       " 346: 'pseudo echo',\n",
       " 347: 'desireless',\n",
       " 348: 'limp bizkit',\n",
       " 349: 'modern talking',\n",
       " 350: 'rihanna',\n",
       " 351: 'a-ha',\n",
       " 352: 'linkin park',\n",
       " 353: 'hans zimmer',\n",
       " 354: 'nelly furtado',\n",
       " 355: 'madonna',\n",
       " 356: 'blink-182',\n",
       " 357: 'dave gahan',\n",
       " 358: 'kelly clarkson',\n",
       " 359: 'lucie silvas',\n",
       " 360: 'natalie imbruglia',\n",
       " 361: 'michelle branch',\n",
       " 362: 'delta goodrem',\n",
       " 363: 'new order',\n",
       " 364: 'seal',\n",
       " 365: 'atomic kitten',\n",
       " 366: 'backstreet boys',\n",
       " 367: 'mary j. blige',\n",
       " 368: 'negative',\n",
       " 369: 'justin timberlake',\n",
       " 370: 'savage garden',\n",
       " 371: 'nerina pallot',\n",
       " 372: 'erasure',\n",
       " 373: 'culture club',\n",
       " 374: 'mr. oizo',\n",
       " 375: 'robbie williams',\n",
       " 376: 'black eyed peas',\n",
       " 377: 'antonio orozco',\n",
       " 378: 'decai',\n",
       " 379: 'kiko & shara',\n",
       " 380: 'marc anthony',\n",
       " 381: 'manuel carrasco',\n",
       " 382: 'mika',\n",
       " 383: 'juanes',\n",
       " 384: 'la oreja de van gogh',\n",
       " 385: 'melendi',\n",
       " 386: 'amaral',\n",
       " 387: 'andy & lucas',\n",
       " 388: 'chambao',\n",
       " 389: 'chayanne',\n",
       " 390: 'christian castro',\n",
       " 391: 'christina aguilera',\n",
       " 392: 'craig david',\n",
       " 393: 'luis fonsi',\n",
       " 394: 'sergio contreras',\n",
       " 395: 'ana torroja',\n",
       " 396: 'beyoncé',\n",
       " 397: 'bustamante',\n",
       " 398: 'camila',\n",
       " 399: 'colbie caillat',\n",
       " 400: 'coti',\n",
       " 401: 'david bisbal',\n",
       " 402: 'edurne',\n",
       " 403: 'fito & fitipaldis',\n",
       " 404: 'hanna',\n",
       " 405: 'malu',\n",
       " 406: 'paulina rubio',\n",
       " 407: 'rosana',\n",
       " 408: 't.a.t.u.',\n",
       " 409: 'amy winehouse',\n",
       " 410: 'efecto mariposa',\n",
       " 411: 'el arrebato',\n",
       " 412: 'enrique iglesias',\n",
       " 413: 'fondo flamenco',\n",
       " 414: 'jennifer lopez',\n",
       " 415: 'mecano',\n",
       " 416: 'phil collins',\n",
       " 417: 'sean kingston',\n",
       " 418: 'u2',\n",
       " 419: 'dub fx',\n",
       " 420: 'box car racer',\n",
       " 421: 'zebrahead',\n",
       " 422: 'paul oakenfold',\n",
       " 423: 'pendulum',\n",
       " 424: 'ronald jenkees',\n",
       " 425: 'sum 41',\n",
       " 426: 'angels & airwaves',\n",
       " 427: 'haggard',\n",
       " 428: 'alien ant farm',\n",
       " 429: 'the offspring',\n",
       " 430: 'океан ельзи',\n",
       " 431: 'ronan hardiman',\n",
       " 432: 'the crystal method',\n",
       " 433: '川田まみ',\n",
       " 434: 'eminem',\n",
       " 435: 'the qemists',\n",
       " 436: 'silverstein',\n",
       " 437: 'rise against',\n",
       " 438: 'бумбокс',\n",
       " 439: 'scum of the earth',\n",
       " 440: 'blu mar ten',\n",
       " 441: 'bomfunk mcs',\n",
       " 442: 'vanessa-mae',\n",
       " 443: 'тартак',\n",
       " 444: 'drop dead, gorgeous',\n",
       " 445: 'flying steps',\n",
       " 446: 'drumattic twins',\n",
       " 447: 'andrew w.k.',\n",
       " 448: 'hoobastank',\n",
       " 449: 'dover',\n",
       " 450: 'bodyjar',\n",
       " 451: 'southside rockers',\n",
       " 452: 'prodigy',\n",
       " 453: 'future prophecies',\n",
       " 454: 'jonathan coulton',\n",
       " 455: 'blessthefall',\n",
       " 456: 'nubreed & luke chable',\n",
       " 457: 'franz ferdinand',\n",
       " 458: 'johannes linstead',\n",
       " 459: 'infected mushroom',\n",
       " 460: 'darude',\n",
       " 461: 'akira yamaoka',\n",
       " 462: 'aqua',\n",
       " 463: 'clawfinger',\n",
       " 464: 'dusty kid',\n",
       " 465: 'senses fail',\n",
       " 466: 'commix',\n",
       " 467: 'id software',\n",
       " 468: 'panic at the disco',\n",
       " 469: 'enigma',\n",
       " 470: 'fatboy slim',\n",
       " 471: 'krs-one',\n",
       " 472: 'drowning pool',\n",
       " 473: 'placebo',\n",
       " 474: 'david & the citizens',\n",
       " 475: 'kent',\n",
       " 476: 'säkert!',\n",
       " 477: 'detektivbyrån',\n",
       " 478: 'lars winnerbäck',\n",
       " 479: 'raymond & maria',\n",
       " 480: 'tegan and sara',\n",
       " 481: 'the knife',\n",
       " 482: 'tiger lou',\n",
       " 483: 'håkan hellström',\n",
       " 484: 'david fridlund',\n",
       " 485: 'the ark',\n",
       " 486: 'alice in videoland',\n",
       " 487: 'timo räisänen',\n",
       " 488: 'the cardigans',\n",
       " 489: 'bloc party',\n",
       " 490: 'oasis',\n",
       " 491: 'sahara hotnights',\n",
       " 492: 'vapnet',\n",
       " 493: 'laleh',\n",
       " 494: 'markus krunegård',\n",
       " 495: 'the kooks',\n",
       " 496: 'deportees',\n",
       " 497: 'r.e.m.',\n",
       " 498: 'slagsmålsklubben',\n",
       " 499: 'hot chip',\n",
       " 500: 'millencolin',\n",
       " 501: 'the sounds',\n",
       " 502: 'mew',\n",
       " 503: 'green day',\n",
       " 504: 'kings of convenience',\n",
       " 505: 'firefox ak',\n",
       " 506: 'mando diao',\n",
       " 507: 'the tough alliance',\n",
       " 508: 'shout out louds',\n",
       " 509: 'keane',\n",
       " 510: 'wir sind helden',\n",
       " 511: 'thompson twins',\n",
       " 512: 'hanson',\n",
       " 513: 'no doubt',\n",
       " 514: 'orchestral manoeuvres in the dark',\n",
       " 515: 'the human league',\n",
       " 516: 'altered images',\n",
       " 517: 'martina mcbride',\n",
       " 518: 'yazoo',\n",
       " 519: 'regina spektor',\n",
       " 520: 'the format',\n",
       " 521: 'carolyn dawn johnson',\n",
       " 522: 'mazzy star',\n",
       " 523: 'dashboard confessional',\n",
       " 524: 'jonathan larson',\n",
       " 525: 'wicked',\n",
       " 526: 'the verve pipe',\n",
       " 527: 'missing persons',\n",
       " 528: 'the passions',\n",
       " 529: 'ima robot',\n",
       " 530: 'judith holofernes',\n",
       " 531: 'depeche mode',\n",
       " 532: 'fake',\n",
       " 533: 'der plan',\n",
       " 534: 'gwen stefani',\n",
       " 535: 'dierks bentley',\n",
       " 536: 'heaven 17',\n",
       " 537: 'the sundays',\n",
       " 538: 'dixie chicks',\n",
       " 539: 'shania twain',\n",
       " 540: 'stacey q',\n",
       " 541: 'camera obscura',\n",
       " 542: 'deana carter',\n",
       " 543: 'matt & kim',\n",
       " 544: 'steel train',\n",
       " 545: 'dan fogelberg',\n",
       " 546: 'taking back sunday',\n",
       " 547: 'andrew bird',\n",
       " 548: 'jewel',\n",
       " 549: 'haircut 100',\n",
       " 550: 'britney spears',\n",
       " 551: 'kristy lee',\n",
       " 552: 'the police',\n",
       " 553: 'the postal service',\n",
       " 554: 'fefe dobson',\n",
       " 555: 'julie roberts',\n",
       " 556: 'j dilla',\n",
       " 557: 'nas',\n",
       " 558: 'common',\n",
       " 559: 'black milk',\n",
       " 560: 'pete rock',\n",
       " 561: 'jay-z',\n",
       " 562: 'dr. dre',\n",
       " 563: 'evidence',\n",
       " 564: 'kanye west',\n",
       " 565: 'dead prez',\n",
       " 566: 'percee p',\n",
       " 567: 'jeff mills',\n",
       " 568: 'method man',\n",
       " 569: 'panacea',\n",
       " 570: '2pac',\n",
       " 571: 'fort minor',\n",
       " 572: 'madvillain',\n",
       " 573: 'ratatat',\n",
       " 574: 'talib kweli',\n",
       " 575: 'do or die',\n",
       " 576: 'madlib',\n",
       " 577: '50 cent',\n",
       " 578: 'abstract rude & tribe unique',\n",
       " 579: 'the alchemist',\n",
       " 580: 'bill evans',\n",
       " 581: 'gza/genius',\n",
       " 582: 'lil wayne',\n",
       " 583: 'styles p',\n",
       " 584: 'emc',\n",
       " 585: 'ghostface',\n",
       " 586: 'k-os',\n",
       " 587: 'burial',\n",
       " 588: 'dj vadim',\n",
       " 589: 'el-p',\n",
       " 590: 'big shug',\n",
       " 591: 'black spade',\n",
       " 592: 'john coltrane',\n",
       " 593: 'the residents',\n",
       " 594: 'roni size & reprazent',\n",
       " 595: 'flying lotus - (www.influencias-urbanas.blogspot.com)',\n",
       " 596: 'the cool kids',\n",
       " 597: 'the game',\n",
       " 598: 'redman',\n",
       " 599: 'rza',\n",
       " 600: 'joan baez',\n",
       " 601: 'e-rotic',\n",
       " 602: 'goo goo dolls',\n",
       " 603: 'apulanta',\n",
       " 604: 'chorale',\n",
       " 605: 'bryan adams',\n",
       " 606: 'gnarls barkley',\n",
       " 607: 'groove coverage',\n",
       " 608: 'september',\n",
       " 609: '3 doors down',\n",
       " 610: 'basic element',\n",
       " 611: 'chris brown',\n",
       " 612: 'eels',\n",
       " 613: 'solid base',\n",
       " 614: 'irwin goodman',\n",
       " 615: 'moby',\n",
       " 616: 'don huonot',\n",
       " 617: 'stella',\n",
       " 618: 'the pussycat dolls',\n",
       " 619: 'cascada',\n",
       " 620: 'john legend',\n",
       " 621: 'alicia keys',\n",
       " 622: 'kapasiteettiyksikkö',\n",
       " 623: 'sonata arctica',\n",
       " 624: 'frank sinatra',\n",
       " 625: 'jonas brothers',\n",
       " 626: 'deep insight',\n",
       " 627: 'maroon 5',\n",
       " 628: 'the calling',\n",
       " 629: 'ambassadöör',\n",
       " 630: 'cheek',\n",
       " 631: 'darin',\n",
       " 632: 'antti tuisku',\n",
       " 633: 'usher',\n",
       " 634: 'finlanders',\n",
       " 635: 'sadetanssi',\n",
       " 636: 'snoop dogg',\n",
       " 637: 'akon',\n",
       " 638: 'mamba',\n",
       " 639: 'da buzz',\n",
       " 640: 'jessy',\n",
       " 641: 'syd barrett',\n",
       " 642: 'spiritualized',\n",
       " 643: 'the boo radleys',\n",
       " 644: 'the brian jonestown massacre',\n",
       " 645: 'black rebel motorcycle club',\n",
       " 646: 'the duke spirit',\n",
       " 647: 'the stone roses',\n",
       " 648: 'jefferson airplane',\n",
       " 649: 'the black angels',\n",
       " 650: 'graham bond organisation',\n",
       " 651: 'love',\n",
       " 652: 'the warlocks',\n",
       " 653: 'a place to bury strangers',\n",
       " 654: 'not from there',\n",
       " 655: 'richard in your mind',\n",
       " 656: 'king khan & the shrines',\n",
       " 657: 'the stairs',\n",
       " 658: 'the vera violets',\n",
       " 659: \"edgar 'jones' jones\",\n",
       " 660: 'film school',\n",
       " 661: 'captain beefheart & his magic band',\n",
       " 662: 'the charlatans',\n",
       " 663: 'kaleidoscope',\n",
       " 664: 'the raconteurs',\n",
       " 665: 'dungen',\n",
       " 666: 'the velvet underground',\n",
       " 667: 'spindrift',\n",
       " 668: 'the incredible string band',\n",
       " 669: 'flavor crystals',\n",
       " 670: 'nico',\n",
       " 671: 'the dandy warhols',\n",
       " 672: 'asobi seksu',\n",
       " 673: 'stereolab',\n",
       " 674: 'fairport convention',\n",
       " 675: 'nick drake',\n",
       " 676: 'soft machine',\n",
       " 677: 'the greenhornes',\n",
       " 678: 'the national',\n",
       " 679: 'black mountain',\n",
       " 680: 'television',\n",
       " 681: 'the telescopes',\n",
       " 682: 'lostprophets',\n",
       " 683: 'all time low',\n",
       " 684: 'lucky boys confusion',\n",
       " 685: 'amber pacific',\n",
       " 686: 'four year strong',\n",
       " 687: 'fall out boy',\n",
       " 688: 'the weakerthans',\n",
       " 689: 'showoff',\n",
       " 690: '+44',\n",
       " 691: 'damien rice',\n",
       " 692: 'my chemical romance',\n",
       " 693: 'ben kweller',\n",
       " 694: 'foo fighters',\n",
       " 695: 'anberlin',\n",
       " 696: 'moving mountains',\n",
       " 697: 'the wedding',\n",
       " 698: 'frightened rabbit',\n",
       " 699: 'cartel',\n",
       " 700: 'saosin',\n",
       " 701: 'set your goals',\n",
       " 702: 'holiday parade',\n",
       " 703: 'cauterize',\n",
       " 704: 'nizlopi',\n",
       " 705: 'hit the lights',\n",
       " 706: 'get cape. wear cape. fly',\n",
       " 707: 'better luck next time',\n",
       " 708: 'girl talk',\n",
       " 709: 'story of the year',\n",
       " 710: 'joshua radin',\n",
       " 711: 'the frantic',\n",
       " 712: 'the ataris',\n",
       " 713: 'sufjan stevens',\n",
       " 714: 'sherwood',\n",
       " 715: 'norah jones',\n",
       " 716: 'madredeus',\n",
       " 717: 'așa',\n",
       " 718: 'carla bruni',\n",
       " 719: 'penguin cafe orchestra',\n",
       " 720: 'ravid goldschmidt',\n",
       " 721: 'humanos',\n",
       " 722: 'xutos & pontapés',\n",
       " 723: 'paul simon',\n",
       " 724: 'lily allen',\n",
       " 725: 'kid loco',\n",
       " 726: 'pedro abrunhosa',\n",
       " 727: 'stevie wonder',\n",
       " 728: 'thievery corporation',\n",
       " 729: 'the streets',\n",
       " 730: 'ratos de porão',\n",
       " 731: 'lady sovereign',\n",
       " 732: 'faith no more',\n",
       " 733: 'manu chao',\n",
       " 734: 'tenacious d',\n",
       " 735: 'fantômas',\n",
       " 736: 'type o negative',\n",
       " 737: 'pearl jam',\n",
       " 738: 'cali lewis',\n",
       " 739: 'the commitments',\n",
       " 740: 'soundgarden',\n",
       " 741: 'buckethead',\n",
       " 742: 'the cult',\n",
       " 743: 'rush',\n",
       " 744: 'king crimson',\n",
       " 745: 'camel',\n",
       " 746: 'amplifier',\n",
       " 747: 'uriah heep',\n",
       " 748: 'the answer',\n",
       " 749: 'yes',\n",
       " 750: 'disturbed',\n",
       " 751: 'jethro tull',\n",
       " 752: 'porcupine tree',\n",
       " 753: 'liquid tension experiment',\n",
       " 754: 'ted nugent',\n",
       " 755: 'wolfmother',\n",
       " 756: 'emerson, lake & palmer',\n",
       " 757: 'aerosmith',\n",
       " 758: 'iommi',\n",
       " 759: 'frankie goes to hollywood',\n",
       " 760: 'ufo',\n",
       " 761: 'days of the new',\n",
       " 762: 'caravan',\n",
       " 763: 'the verve',\n",
       " 764: 'rammstein',\n",
       " 765: 'wishbone ash',\n",
       " 766: 'the moody blues',\n",
       " 767: 'jordan rudess',\n",
       " 768: 'chevelle',\n",
       " 769: 'cream',\n",
       " 770: 'patti smith',\n",
       " 771: 'nickelback',\n",
       " 772: 'zz top',\n",
       " 773: 'nine inch nails',\n",
       " 774: 'my bloody valentine',\n",
       " 775: 'pj harvey',\n",
       " 776: 'the cure',\n",
       " 777: 'nick cave and the bad seeds',\n",
       " 778: 'the jesus and mary chain',\n",
       " 779: 'the sisters of mercy',\n",
       " 780: 'david bowie',\n",
       " 781: 'a perfect circle',\n",
       " 782: 'the white stripes',\n",
       " 783: 'the dresden dolls',\n",
       " 784: 'nouvelle vague',\n",
       " 785: 'leonard cohen',\n",
       " 786: 'rowland s. howard',\n",
       " 787: 'creedence clearwater revival',\n",
       " 788: 'goon moon',\n",
       " 789: 'grinderman',\n",
       " 790: 'gary numan',\n",
       " 791: 'slowdive',\n",
       " 792: 'the boys next door',\n",
       " 793: 'beirut',\n",
       " 794: 'joy division',\n",
       " 795: 'clint mansell',\n",
       " 796: 'inkubus sukkubus',\n",
       " 797: 'the smiths',\n",
       " 798: 'cat power',\n",
       " 799: 'nick cave & warren ellis',\n",
       " 800: 'anita lane',\n",
       " 801: 'bauhaus',\n",
       " 802: 'amiina',\n",
       " 803: 'bajaga',\n",
       " 804: 'interpol',\n",
       " 805: 'the 69 eyes',\n",
       " 806: 'christian death',\n",
       " 807: 'the stooges',\n",
       " 808: 'iggy pop',\n",
       " 809: 'grave digger',\n",
       " 810: 'running wild',\n",
       " 811: 'primal fear',\n",
       " 812: 'paragon',\n",
       " 813: 'iced earth',\n",
       " 814: 'lamb of god',\n",
       " 815: 'u.d.o.',\n",
       " 816: 'annihilator',\n",
       " 817: 'exodus',\n",
       " 818: 'exciter',\n",
       " 819: 'strapping young lad',\n",
       " 820: 'kreator',\n",
       " 821: 'rebellion',\n",
       " 822: 'sabaton',\n",
       " 823: 'helloween',\n",
       " 824: 'iron savior',\n",
       " 825: 'accept',\n",
       " 826: '3 inches of blood',\n",
       " 827: 'jag panzer',\n",
       " 828: 'mastodon',\n",
       " 829: 'steel attack',\n",
       " 830: 'daath',\n",
       " 831: 'metal church',\n",
       " 832: 'gojira',\n",
       " 833: 'devildriver',\n",
       " 834: 'decapitated',\n",
       " 835: 'hammerfall',\n",
       " 836: 'the ocean',\n",
       " 837: 'hatebreed',\n",
       " 838: 'mortification',\n",
       " 839: 'halford',\n",
       " 840: 'meshuggah',\n",
       " 841: 'finntroll',\n",
       " 842: 'gamma ray',\n",
       " 843: 'stormwarrior',\n",
       " 844: 'fight',\n",
       " 845: 'vicious rumors',\n",
       " 846: 'dream evil',\n",
       " 847: 'necrophagist',\n",
       " 848: 'rage',\n",
       " 849: 'morgana lefay',\n",
       " 850: 'chiodos',\n",
       " 851: 'black tequila',\n",
       " 852: '30 seconds to mars',\n",
       " 853: 'as i lay dying',\n",
       " 854: 'a static lullaby',\n",
       " 855: 'billy talent',\n",
       " 856: 'bosse',\n",
       " 857: 'deus',\n",
       " 858: 'feeder',\n",
       " 859: 'funeral for a friend',\n",
       " 860: 'a day to remember',\n",
       " 861: 'beatsteaks',\n",
       " 862: 'coheed and cambria',\n",
       " 863: 'dúné',\n",
       " 864: 'enter shikari',\n",
       " 865: 'finch',\n",
       " 866: 'from first to last',\n",
       " 867: 'lostalone',\n",
       " 868: 'mindless self indulgence',\n",
       " 869: 'olli schulz & der hund marie',\n",
       " 870: 'slut',\n",
       " 871: 'the dreaming',\n",
       " 872: 'alesana',\n",
       " 873: 'ash',\n",
       " 874: 'brand new',\n",
       " 875: 'canoe',\n",
       " 876: 'kill hannah',\n",
       " 877: 'madsen',\n",
       " 878: 'maxïmo park',\n",
       " 879: 'neaera',\n",
       " 880: 'scary kids scaring kids',\n",
       " 881: 'secret and whisper',\n",
       " 882: 'the fall of troy',\n",
       " 883: 'the vines',\n",
       " 884: 'virginia jetzt!',\n",
       " 885: 'as we fight',\n",
       " 886: 'grammatics',\n",
       " 887: 'tele',\n",
       " 888: 'underoath',\n",
       " 889: 'parragon books',\n",
       " 890: 'michael armstrong',\n",
       " 891: 'alkaline trio',\n",
       " 892: 'afi',\n",
       " 893: 'tiger army',\n",
       " 894: 'elvis costello',\n",
       " 895: 'elvis presley',\n",
       " 896: 'the mighty mighty bosstones',\n",
       " 897: 'adema',\n",
       " 898: 'foghat',\n",
       " 899: 'kylie minogue',\n",
       " 900: 'foxboro hot tubs',\n",
       " 901: 'pink',\n",
       " 902: 'tim mcgraw',\n",
       " 903: 'dead to me',\n",
       " 904: 'mxpx',\n",
       " 905: 'bad religion',\n",
       " 906: 'jimmy eat world',\n",
       " 907: 'the gaslight anthem',\n",
       " 908: 'danny elfman',\n",
       " 909: 'dead kennedys',\n",
       " 910: 'nirvana',\n",
       " 911: 'the tantra monsters',\n",
       " 912: 'poison',\n",
       " 913: 'me first and the gimme gimmes',\n",
       " 914: 'mgm studio orchestra',\n",
       " 915: 'new found glory',\n",
       " 916: 'agnostic front',\n",
       " 917: 'all',\n",
       " 918: 'marilyn manson',\n",
       " 919: 'rancid',\n",
       " 920: 'less than jake',\n",
       " 921: 'my life with the thrill kill kult',\n",
       " 922: 'the aquabats',\n",
       " 923: 'the distillers',\n",
       " 924: 'skarface',\n",
       " 925: 'mad caddies',\n",
       " 926: 'nofx',\n",
       " 927: 'cypress hill',\n",
       " 928: 'koяn',\n",
       " 929: 'the planet smashers',\n",
       " 930: 'reel big fish',\n",
       " 931: 'ska-p',\n",
       " 932: 'moskovskaya',\n",
       " 933: 'onyx',\n",
       " 934: 'belvedere',\n",
       " 935: 'distemper',\n",
       " 936: 'aventura',\n",
       " 937: \"5'nizza\",\n",
       " 938: 'captain everything!',\n",
       " 939: 'bob marley',\n",
       " 940: 'slipknot',\n",
       " 941: 'alizée',\n",
       " 942: 'electrosoul system',\n",
       " 943: 'richard cheese',\n",
       " 944: 'avril lavigne',\n",
       " 945: 'otklonenie',\n",
       " 946: 'cidade negra',\n",
       " 947: 'talco',\n",
       " 948: 'f.p.g.',\n",
       " 949: 'the specials',\n",
       " 950: 'daddy yankee',\n",
       " 951: 'skaface',\n",
       " 952: 'tina charles',\n",
       " 953: 'yeah yeah yeahs',\n",
       " 954: 'the dead weather',\n",
       " 955: 'no age',\n",
       " 956: 'tiny masters of today',\n",
       " 957: 'japandroids',\n",
       " 958: 'the used',\n",
       " 959: 'veto',\n",
       " 960: 'friendly fires',\n",
       " 961: 'hateen',\n",
       " 962: 'onerepublic',\n",
       " 963: 'dead fish',\n",
       " 964: 'sixpence none the richer',\n",
       " 965: 'peter bjorn and john',\n",
       " 966: 'thursday',\n",
       " 967: 'weezer',\n",
       " 968: 'japanther',\n",
       " 969: 'kings of leon',\n",
       " 970: \"rock'n'zombie\",\n",
       " 971: 'feist',\n",
       " 972: 'klaxons',\n",
       " 973: 'cansei de ser sexy',\n",
       " 974: 'does it offend you, yeah?',\n",
       " 975: 'twilight',\n",
       " 976: 'grease',\n",
       " 977: 'kaiser chiefs',\n",
       " 978: 'pelle miljoona',\n",
       " 979: 'ripsipiirakka',\n",
       " 980: 'orson',\n",
       " 981: 'frankie valli',\n",
       " 982: 'motion city soundtrack',\n",
       " 983: 'kuningas pähkinä & setä tamu',\n",
       " 984: 'genesis',\n",
       " 985: 'jukka poika',\n",
       " 986: 'technotronic',\n",
       " 987: 'robert pattinson',\n",
       " 988: 'stig dogg',\n",
       " 989: 'aviation',\n",
       " 990: 'high school musical 2',\n",
       " 991: 'kapteeni ä-ni',\n",
       " 992: 'ramones',\n",
       " 993: 'fools garden',\n",
       " 994: 'bone thugs-n-harmony',\n",
       " 995: 'rufus wainwright',\n",
       " 996: 'iron & wine',\n",
       " 997: 'blue foundation',\n",
       " 998: 'lemon ice',\n",
       " 999: 'the black ghosts',\n",
       " ...}"
      ]
     },
     "execution_count": 78,
     "metadata": {},
     "output_type": "execute_result"
    }
   ],
   "source": [
    "idx_to_artist"
   ]
  },
  {
   "cell_type": "code",
   "execution_count": 73,
   "id": "comprehensive-latino",
   "metadata": {
    "scrolled": true
   },
   "outputs": [
    {
     "data": {
      "text/plain": [
       "(array([    62, 104894,  70607, 292194, 138722,  15795, 298428, 322380,\n",
       "        158339, 115172, 346766, 216653, 128407, 204219,  59985],\n",
       "       dtype=int32),\n",
       " array([0.99999994, 0.8440707 , 0.8400548 , 0.83986723, 0.83916914,\n",
       "        0.8328315 , 0.8320236 , 0.8307075 , 0.82893205, 0.8285601 ,\n",
       "        0.82757   , 0.82754475, 0.82746255, 0.82427883, 0.82294995],\n",
       "       dtype=float32))"
      ]
     },
     "execution_count": 73,
     "metadata": {},
     "output_type": "execute_result"
    }
   ],
   "source": [
    "similar_artist"
   ]
  },
  {
   "cell_type": "code",
   "execution_count": 80,
   "id": "vietnamese-commerce",
   "metadata": {},
   "outputs": [
    {
     "data": {
      "text/plain": [
       "array([    62, 104894,  70607, 292194, 138722,  15795, 298428, 322380,\n",
       "       158339, 115172, 346766, 216653, 128407, 204219,  59985],\n",
       "      dtype=int32)"
      ]
     },
     "execution_count": 80,
     "metadata": {},
     "output_type": "execute_result"
    }
   ],
   "source": [
    "similar_artist[0]"
   ]
  },
  {
   "cell_type": "markdown",
   "id": "medium-container",
   "metadata": {},
   "source": [
    "------------\n",
    "------------\n",
    "------------\n",
    "------------\n",
    "##### input을 item-user 순서가 아니라 user_item 순서로 넣어서 진행했다."
   ]
  },
  {
   "cell_type": "code",
   "execution_count": 50,
   "id": "backed-humanitarian",
   "metadata": {},
   "outputs": [
    {
     "data": {
      "application/vnd.jupyter.widget-view+json": {
       "model_id": "f355fedc11b147939c05807b208b2fbf",
       "version_major": 2,
       "version_minor": 0
      },
      "text/plain": [
       "  0%|          | 0/15 [00:00<?, ?it/s]"
      ]
     },
     "metadata": {},
     "output_type": "display_data"
    }
   ],
   "source": [
    "# Implicit AlternatingLeastSquares 모델의 선언\n",
    "als_model_2 = AlternatingLeastSquares(factors=100, regularization=0.01, use_gpu=False, iterations=15, dtype=np.float32)\n",
    "\n",
    "als_model_2.fit(csr_data)"
   ]
  },
  {
   "cell_type": "code",
   "execution_count": 52,
   "id": "certain-number",
   "metadata": {},
   "outputs": [
    {
     "name": "stdout",
     "output_type": "stream",
     "text": [
      "슝=3\n"
     ]
    }
   ],
   "source": [
    "zimin, black_eyed_peas = user_to_idx['zimin'], artist_to_idx['black eyed peas']\n",
    "zimin_vector, black_eyed_peas_vector = als_model_2.user_factors[zimin], als_model_2.item_factors[black_eyed_peas]\n",
    "\n",
    "print('슝=3')"
   ]
  },
  {
   "cell_type": "code",
   "execution_count": 53,
   "id": "unable-essence",
   "metadata": {},
   "outputs": [
    {
     "data": {
      "text/plain": [
       "array([-0.10340158,  0.6059187 , -0.35276857, -0.09484383,  0.09437814,\n",
       "       -0.01435451, -0.12576237,  1.1014781 ,  0.11844186,  1.047028  ,\n",
       "       -0.24294432,  0.23739228, -0.42963272,  1.4071763 ,  0.673873  ,\n",
       "        0.64713204, -1.9122412 ,  0.49764916, -1.264001  ,  0.76327807,\n",
       "        0.34801924, -0.9097822 , -0.7037951 , -0.9810212 ,  0.06017055,\n",
       "        0.94446003, -0.28217793,  0.9220494 ,  0.4524752 , -0.41942954,\n",
       "       -0.02092216, -1.0547411 ,  0.05821073,  0.43536508, -1.0307751 ,\n",
       "       -0.2900299 ,  0.17660329, -0.28976107,  0.38008186,  0.13055144,\n",
       "        1.6455609 , -0.16933414,  0.08364923,  0.2452773 , -1.0096179 ,\n",
       "        0.00269064,  0.29878503,  0.9053697 , -0.8758528 ,  0.7349908 ,\n",
       "        0.63470393, -0.7609901 ,  0.9353689 , -0.28551498, -0.48351026,\n",
       "       -0.970738  ,  0.3445297 , -0.51406   ,  0.05678171,  0.5124933 ,\n",
       "       -0.32928327,  1.5778545 , -0.8576188 , -0.12792727, -0.17877945,\n",
       "       -0.4923002 , -1.2130809 ,  0.1372932 , -0.1467362 ,  0.25521928,\n",
       "        0.55598354,  0.5031815 ,  0.17046726, -0.34612605,  0.629152  ,\n",
       "        0.00710342, -0.26833048,  0.34520876, -1.1146206 ,  0.47160277,\n",
       "       -0.02843005, -0.30975938, -0.4735709 ,  0.276437  , -0.04312916,\n",
       "        0.62485117, -0.2659725 ,  1.2893062 , -1.1286169 , -0.52254075,\n",
       "        0.6755597 ,  1.2551402 ,  0.41906464,  1.0528345 , -0.3541003 ,\n",
       "       -0.6380586 , -0.9938061 ,  0.07011192,  0.49361795,  0.28957272],\n",
       "      dtype=float32)"
      ]
     },
     "execution_count": 53,
     "metadata": {},
     "output_type": "execute_result"
    }
   ],
   "source": [
    "zimin_vector"
   ]
  },
  {
   "cell_type": "code",
   "execution_count": 54,
   "id": "tamil-russia",
   "metadata": {},
   "outputs": [
    {
     "data": {
      "text/plain": [
       "0.5252475"
      ]
     },
     "execution_count": 54,
     "metadata": {},
     "output_type": "execute_result"
    }
   ],
   "source": [
    "# zimin과 black_eyed_peas를 내적하는 코드\n",
    "np.dot(zimin_vector, black_eyed_peas_vector)"
   ]
  },
  {
   "cell_type": "code",
   "execution_count": 55,
   "id": "superior-technical",
   "metadata": {},
   "outputs": [
    {
     "data": {
      "text/plain": [
       "0.31278628"
      ]
     },
     "execution_count": 55,
     "metadata": {},
     "output_type": "execute_result"
    }
   ],
   "source": [
    "queen = artist_to_idx['queen']\n",
    "queen_vector = als_model_2.item_factors[queen]\n",
    "np.dot(zimin_vector, queen_vector)"
   ]
  },
  {
   "cell_type": "code",
   "execution_count": 56,
   "id": "romantic-trailer",
   "metadata": {},
   "outputs": [
    {
     "data": {
      "text/plain": [
       "(array([  62,  277,    5,   28,  217,  247,  418,  473,  490,  910,  694,\n",
       "        1018,  268,  782,   75], dtype=int32),\n",
       " array([0.9999999 , 0.98754627, 0.97558266, 0.9741579 , 0.9726487 ,\n",
       "        0.969132  , 0.96727926, 0.9661832 , 0.96357816, 0.9459143 ,\n",
       "        0.9459063 , 0.9453443 , 0.94481647, 0.9416489 , 0.93558836],\n",
       "       dtype=float32))"
      ]
     },
     "execution_count": 56,
     "metadata": {},
     "output_type": "execute_result"
    }
   ],
   "source": [
    "favorite_artist = 'coldplay'\n",
    "artist_id = artist_to_idx[favorite_artist]\n",
    "similar_artist = als_model_2.similar_items(artist_id, N=15)\n",
    "similar_artist"
   ]
  },
  {
   "cell_type": "code",
   "execution_count": 59,
   "id": "nasty-scheme",
   "metadata": {},
   "outputs": [
    {
     "data": {
      "text/plain": [
       "['coldplay',\n",
       " 'muse',\n",
       " 'red hot chili peppers',\n",
       " 'the killers',\n",
       " 'radiohead',\n",
       " 'the beatles',\n",
       " 'u2',\n",
       " 'placebo',\n",
       " 'oasis',\n",
       " 'nirvana',\n",
       " 'foo fighters',\n",
       " 'the smashing pumpkins',\n",
       " 'pink floyd',\n",
       " 'the white stripes',\n",
       " 'queen']"
      ]
     },
     "execution_count": 59,
     "metadata": {},
     "output_type": "execute_result"
    }
   ],
   "source": [
    "#artist_to_idx 를 뒤집어, index로부터 artist 이름을 얻는 dict를 생성합니다. \n",
    "idx_to_artist = {v:k for k,v in artist_to_idx.items()}\n",
    "[idx_to_artist[i] for i in similar_artist[0]]"
   ]
  },
  {
   "cell_type": "code",
   "execution_count": 60,
   "id": "beginning-arthur",
   "metadata": {},
   "outputs": [
    {
     "name": "stdout",
     "output_type": "stream",
     "text": [
      "슝=3\n"
     ]
    }
   ],
   "source": [
    "def get_similar_artist(artist_name: str):\n",
    "    artist_id = artist_to_idx[artist_name]\n",
    "    similar_artist = als_model_2.similar_items(artist_id)\n",
    "    similar_artist = [idx_to_artist[i] for i in similar_artist[0]]\n",
    "    return similar_artist\n",
    "\n",
    "print(\"슝=3\")"
   ]
  },
  {
   "cell_type": "code",
   "execution_count": 61,
   "id": "taken-network",
   "metadata": {},
   "outputs": [
    {
     "data": {
      "text/plain": [
       "['2pac',\n",
       " 'dr. dre',\n",
       " 'notorious b.i.g.',\n",
       " 'the game',\n",
       " 'snoop dogg',\n",
       " 'nas',\n",
       " 'jay-z',\n",
       " 'ludacris',\n",
       " '50 cent',\n",
       " 'ice cube']"
      ]
     },
     "execution_count": 61,
     "metadata": {},
     "output_type": "execute_result"
    }
   ],
   "source": [
    "get_similar_artist('2pac')"
   ]
  },
  {
   "cell_type": "code",
   "execution_count": 62,
   "id": "automotive-windows",
   "metadata": {},
   "outputs": [
    {
     "data": {
      "text/plain": [
       "['lady gaga',\n",
       " 'britney spears',\n",
       " 'rihanna',\n",
       " 'katy perry',\n",
       " 'beyoncé',\n",
       " 'the pussycat dolls',\n",
       " 'christina aguilera',\n",
       " 'justin timberlake',\n",
       " 'leona lewis',\n",
       " 'mariah carey']"
      ]
     },
     "execution_count": 62,
     "metadata": {},
     "output_type": "execute_result"
    }
   ],
   "source": [
    "get_similar_artist('lady gaga')"
   ]
  },
  {
   "cell_type": "markdown",
   "id": "incorrect-liabilities",
   "metadata": {},
   "source": [
    "### 유저에게 아티스트 추천하기\n",
    "\n",
    "`AlternatingLeastSquares` 클래스에 구현되어 있는 `recommend` 메서드를 통하여 제가 좋아할 만한 아티스트를 추천받습니다. `filter_already_liked_items` 는 유저가 이미 평가한 아이템은 제외하는 Argument입니다."
   ]
  },
  {
   "cell_type": "code",
   "execution_count": 74,
   "id": "guilty-buying",
   "metadata": {
    "scrolled": true
   },
   "outputs": [
    {
     "ename": "ValueError",
     "evalue": "user_items must contain 1 row for every user in userids",
     "output_type": "error",
     "traceback": [
      "\u001b[0;31m---------------------------------------------------------------------------\u001b[0m",
      "\u001b[0;31mValueError\u001b[0m                                Traceback (most recent call last)",
      "\u001b[0;32m<ipython-input-74-6a899dddb8f6>\u001b[0m in \u001b[0;36m<module>\u001b[0;34m\u001b[0m\n\u001b[1;32m      1\u001b[0m \u001b[0muser\u001b[0m \u001b[0;34m=\u001b[0m \u001b[0muser_to_idx\u001b[0m\u001b[0;34m[\u001b[0m\u001b[0;34m'zimin'\u001b[0m\u001b[0;34m]\u001b[0m\u001b[0;34m\u001b[0m\u001b[0;34m\u001b[0m\u001b[0m\n\u001b[1;32m      2\u001b[0m \u001b[0;31m# recommend에서는 user*item CSR Matrix를 받습니다.\u001b[0m\u001b[0;34m\u001b[0m\u001b[0;34m\u001b[0m\u001b[0;34m\u001b[0m\u001b[0m\n\u001b[0;32m----> 3\u001b[0;31m \u001b[0martist_recommended\u001b[0m \u001b[0;34m=\u001b[0m \u001b[0mals_model_2\u001b[0m\u001b[0;34m.\u001b[0m\u001b[0mrecommend\u001b[0m\u001b[0;34m(\u001b[0m\u001b[0muser\u001b[0m\u001b[0;34m,\u001b[0m \u001b[0mcsr_data\u001b[0m\u001b[0;34m,\u001b[0m \u001b[0mN\u001b[0m\u001b[0;34m=\u001b[0m\u001b[0;36m20\u001b[0m\u001b[0;34m,\u001b[0m \u001b[0mfilter_already_liked_items\u001b[0m\u001b[0;34m=\u001b[0m\u001b[0;32mTrue\u001b[0m\u001b[0;34m)\u001b[0m\u001b[0;34m\u001b[0m\u001b[0;34m\u001b[0m\u001b[0m\n\u001b[0m\u001b[1;32m      4\u001b[0m \u001b[0martist_recommended\u001b[0m\u001b[0;34m\u001b[0m\u001b[0;34m\u001b[0m\u001b[0m\n",
      "\u001b[0;32m/opt/conda/lib/python3.7/site-packages/implicit/cpu/matrix_factorization_base.py\u001b[0m in \u001b[0;36mrecommend\u001b[0;34m(self, userid, user_items, N, filter_already_liked_items, filter_items, recalculate_user, items)\u001b[0m\n\u001b[1;32m     43\u001b[0m             \u001b[0muser_count\u001b[0m \u001b[0;34m=\u001b[0m \u001b[0;36m1\u001b[0m \u001b[0;32mif\u001b[0m \u001b[0mnp\u001b[0m\u001b[0;34m.\u001b[0m\u001b[0misscalar\u001b[0m\u001b[0;34m(\u001b[0m\u001b[0muserid\u001b[0m\u001b[0;34m)\u001b[0m \u001b[0;32melse\u001b[0m \u001b[0mlen\u001b[0m\u001b[0;34m(\u001b[0m\u001b[0muserid\u001b[0m\u001b[0;34m)\u001b[0m\u001b[0;34m\u001b[0m\u001b[0;34m\u001b[0m\u001b[0m\n\u001b[1;32m     44\u001b[0m             \u001b[0;32mif\u001b[0m \u001b[0muser_items\u001b[0m\u001b[0;34m.\u001b[0m\u001b[0mshape\u001b[0m\u001b[0;34m[\u001b[0m\u001b[0;36m0\u001b[0m\u001b[0;34m]\u001b[0m \u001b[0;34m!=\u001b[0m \u001b[0muser_count\u001b[0m\u001b[0;34m:\u001b[0m\u001b[0;34m\u001b[0m\u001b[0;34m\u001b[0m\u001b[0m\n\u001b[0;32m---> 45\u001b[0;31m                 \u001b[0;32mraise\u001b[0m \u001b[0mValueError\u001b[0m\u001b[0;34m(\u001b[0m\u001b[0;34m\"user_items must contain 1 row for every user in userids\"\u001b[0m\u001b[0;34m)\u001b[0m\u001b[0;34m\u001b[0m\u001b[0;34m\u001b[0m\u001b[0m\n\u001b[0m\u001b[1;32m     46\u001b[0m \u001b[0;34m\u001b[0m\u001b[0m\n\u001b[1;32m     47\u001b[0m         \u001b[0muser\u001b[0m \u001b[0;34m=\u001b[0m \u001b[0mself\u001b[0m\u001b[0;34m.\u001b[0m\u001b[0m_user_factor\u001b[0m\u001b[0;34m(\u001b[0m\u001b[0muserid\u001b[0m\u001b[0;34m,\u001b[0m \u001b[0muser_items\u001b[0m\u001b[0;34m,\u001b[0m \u001b[0mrecalculate_user\u001b[0m\u001b[0;34m)\u001b[0m\u001b[0;34m\u001b[0m\u001b[0;34m\u001b[0m\u001b[0m\n",
      "\u001b[0;31mValueError\u001b[0m: user_items must contain 1 row for every user in userids"
     ]
    }
   ],
   "source": [
    "user = user_to_idx['zimin']\n",
    "# recommend에서는 user*item CSR Matrix를 받습니다.\n",
    "artist_recommended = als_model_2.recommend(user, csr_data, N=20, filter_already_liked_items=True)\n",
    "artist_recommended"
   ]
  },
  {
   "cell_type": "code",
   "execution_count": 76,
   "id": "interim-lyric",
   "metadata": {},
   "outputs": [],
   "source": [
    "# and one for recommendations (user-item)\n",
    "sparse_item_user = csr_matrix((data['play'].astype(float), (data['artist'], data['user_id'])))\n",
    "sparse_user_item = csr_matrix((data['play'].astype(float), (data['user_id'], data['artist'])))"
   ]
  },
  {
   "cell_type": "code",
   "execution_count": 79,
   "id": "religious-tooth",
   "metadata": {},
   "outputs": [
    {
     "data": {
      "text/plain": [
       "(291347, 358869)"
      ]
     },
     "execution_count": 79,
     "metadata": {},
     "output_type": "execute_result"
    }
   ],
   "source": [
    "sparse_item_user.shape"
   ]
  },
  {
   "cell_type": "code",
   "execution_count": 80,
   "id": "boring-bullet",
   "metadata": {},
   "outputs": [
    {
     "data": {
      "text/plain": [
       "(358869, 291347)"
      ]
     },
     "execution_count": 80,
     "metadata": {},
     "output_type": "execute_result"
    }
   ],
   "source": [
    "sparse_user_item.shape"
   ]
  },
  {
   "cell_type": "code",
   "execution_count": 82,
   "id": "brazilian-deployment",
   "metadata": {},
   "outputs": [
    {
     "data": {
      "text/plain": [
       "(1, 291347)"
      ]
     },
     "execution_count": 82,
     "metadata": {},
     "output_type": "execute_result"
    }
   ],
   "source": [
    "csr_data[0].shape"
   ]
  },
  {
   "cell_type": "code",
   "execution_count": 83,
   "id": "scenic-applicant",
   "metadata": {},
   "outputs": [
    {
     "ename": "ValueError",
     "evalue": "user_items must contain 1 row for every user in userids",
     "output_type": "error",
     "traceback": [
      "\u001b[0;31m---------------------------------------------------------------------------\u001b[0m",
      "\u001b[0;31mValueError\u001b[0m                                Traceback (most recent call last)",
      "\u001b[0;32m<ipython-input-83-d5f0e2bace89>\u001b[0m in \u001b[0;36m<module>\u001b[0;34m\u001b[0m\n\u001b[1;32m      1\u001b[0m \u001b[0muser\u001b[0m \u001b[0;34m=\u001b[0m \u001b[0muser_to_idx\u001b[0m\u001b[0;34m[\u001b[0m\u001b[0;34m'zimin'\u001b[0m\u001b[0;34m]\u001b[0m\u001b[0;34m\u001b[0m\u001b[0;34m\u001b[0m\u001b[0m\n\u001b[1;32m      2\u001b[0m \u001b[0;31m# recommend에서는 user*item CSR Matrix를 받습니다.\u001b[0m\u001b[0;34m\u001b[0m\u001b[0;34m\u001b[0m\u001b[0;34m\u001b[0m\u001b[0m\n\u001b[0;32m----> 3\u001b[0;31m \u001b[0martist_recommended\u001b[0m \u001b[0;34m=\u001b[0m \u001b[0mals_model_2\u001b[0m\u001b[0;34m.\u001b[0m\u001b[0mrecommend\u001b[0m\u001b[0;34m(\u001b[0m\u001b[0mals_model_2\u001b[0m\u001b[0;34m.\u001b[0m\u001b[0muser_factors\u001b[0m\u001b[0;34m[\u001b[0m\u001b[0muser\u001b[0m\u001b[0;34m]\u001b[0m\u001b[0;34m,\u001b[0m \u001b[0mcsr_data\u001b[0m\u001b[0;34m[\u001b[0m\u001b[0;34m:\u001b[0m\u001b[0;36m0\u001b[0m\u001b[0;34m]\u001b[0m\u001b[0;34m,\u001b[0m \u001b[0mN\u001b[0m\u001b[0;34m=\u001b[0m\u001b[0;36m20\u001b[0m\u001b[0;34m,\u001b[0m \u001b[0mfilter_already_liked_items\u001b[0m\u001b[0;34m=\u001b[0m\u001b[0;32mTrue\u001b[0m\u001b[0;34m)\u001b[0m\u001b[0;34m\u001b[0m\u001b[0;34m\u001b[0m\u001b[0m\n\u001b[0m\u001b[1;32m      4\u001b[0m \u001b[0martist_recommended\u001b[0m\u001b[0;34m\u001b[0m\u001b[0;34m\u001b[0m\u001b[0m\n",
      "\u001b[0;32m/opt/conda/lib/python3.7/site-packages/implicit/cpu/matrix_factorization_base.py\u001b[0m in \u001b[0;36mrecommend\u001b[0;34m(self, userid, user_items, N, filter_already_liked_items, filter_items, recalculate_user, items)\u001b[0m\n\u001b[1;32m     43\u001b[0m             \u001b[0muser_count\u001b[0m \u001b[0;34m=\u001b[0m \u001b[0;36m1\u001b[0m \u001b[0;32mif\u001b[0m \u001b[0mnp\u001b[0m\u001b[0;34m.\u001b[0m\u001b[0misscalar\u001b[0m\u001b[0;34m(\u001b[0m\u001b[0muserid\u001b[0m\u001b[0;34m)\u001b[0m \u001b[0;32melse\u001b[0m \u001b[0mlen\u001b[0m\u001b[0;34m(\u001b[0m\u001b[0muserid\u001b[0m\u001b[0;34m)\u001b[0m\u001b[0;34m\u001b[0m\u001b[0;34m\u001b[0m\u001b[0m\n\u001b[1;32m     44\u001b[0m             \u001b[0;32mif\u001b[0m \u001b[0muser_items\u001b[0m\u001b[0;34m.\u001b[0m\u001b[0mshape\u001b[0m\u001b[0;34m[\u001b[0m\u001b[0;36m0\u001b[0m\u001b[0;34m]\u001b[0m \u001b[0;34m!=\u001b[0m \u001b[0muser_count\u001b[0m\u001b[0;34m:\u001b[0m\u001b[0;34m\u001b[0m\u001b[0;34m\u001b[0m\u001b[0m\n\u001b[0;32m---> 45\u001b[0;31m                 \u001b[0;32mraise\u001b[0m \u001b[0mValueError\u001b[0m\u001b[0;34m(\u001b[0m\u001b[0;34m\"user_items must contain 1 row for every user in userids\"\u001b[0m\u001b[0;34m)\u001b[0m\u001b[0;34m\u001b[0m\u001b[0;34m\u001b[0m\u001b[0m\n\u001b[0m\u001b[1;32m     46\u001b[0m \u001b[0;34m\u001b[0m\u001b[0m\n\u001b[1;32m     47\u001b[0m         \u001b[0muser\u001b[0m \u001b[0;34m=\u001b[0m \u001b[0mself\u001b[0m\u001b[0;34m.\u001b[0m\u001b[0m_user_factor\u001b[0m\u001b[0;34m(\u001b[0m\u001b[0muserid\u001b[0m\u001b[0;34m,\u001b[0m \u001b[0muser_items\u001b[0m\u001b[0;34m,\u001b[0m \u001b[0mrecalculate_user\u001b[0m\u001b[0;34m)\u001b[0m\u001b[0;34m\u001b[0m\u001b[0;34m\u001b[0m\u001b[0m\n",
      "\u001b[0;31mValueError\u001b[0m: user_items must contain 1 row for every user in userids"
     ]
    }
   ],
   "source": [
    "user = user_to_idx['zimin']\n",
    "# recommend에서는 user*item CSR Matrix를 받습니다.\n",
    "artist_recommended = als_model_2.recommend(als_model_2.user_factors[user], csr_data[:0], N=20, filter_already_liked_items=True)\n",
    "artist_recommended"
   ]
  },
  {
   "cell_type": "code",
   "execution_count": 123,
   "id": "sunset-southeast",
   "metadata": {},
   "outputs": [
    {
     "data": {
      "text/plain": [
       "358868"
      ]
     },
     "execution_count": 123,
     "metadata": {},
     "output_type": "execute_result"
    }
   ],
   "source": [
    "user"
   ]
  },
  {
   "cell_type": "code",
   "execution_count": 138,
   "id": "alert-shannon",
   "metadata": {},
   "outputs": [
    {
     "data": {
      "text/plain": [
       "100"
      ]
     },
     "execution_count": 138,
     "metadata": {},
     "output_type": "execute_result"
    }
   ],
   "source": [
    "len(als_model_2.user_factors[user])"
   ]
  },
  {
   "cell_type": "code",
   "execution_count": 139,
   "id": "tracked-queens",
   "metadata": {},
   "outputs": [
    {
     "data": {
      "text/plain": [
       "358869"
      ]
     },
     "execution_count": 139,
     "metadata": {},
     "output_type": "execute_result"
    }
   ],
   "source": [
    "csr_data.shape[0]"
   ]
  },
  {
   "cell_type": "code",
   "execution_count": 142,
   "id": "civilian-tragedy",
   "metadata": {},
   "outputs": [
    {
     "data": {
      "text/plain": [
       "291347"
      ]
     },
     "execution_count": 142,
     "metadata": {},
     "output_type": "execute_result"
    }
   ],
   "source": [
    "csr_data_transpose.shape[0]"
   ]
  },
  {
   "cell_type": "code",
   "execution_count": 144,
   "id": "hybrid-worthy",
   "metadata": {},
   "outputs": [
    {
     "data": {
      "text/plain": [
       "(358869, 291347)"
      ]
     },
     "execution_count": 144,
     "metadata": {},
     "output_type": "execute_result"
    }
   ],
   "source": [
    "sparse_user_item.shape"
   ]
  },
  {
   "cell_type": "code",
   "execution_count": null,
   "id": "revised-block",
   "metadata": {},
   "outputs": [],
   "source": []
  }
 ],
 "metadata": {
  "kernelspec": {
   "display_name": "Python 3",
   "language": "python",
   "name": "python3"
  },
  "language_info": {
   "codemirror_mode": {
    "name": "ipython",
    "version": 3
   },
   "file_extension": ".py",
   "mimetype": "text/x-python",
   "name": "python",
   "nbconvert_exporter": "python",
   "pygments_lexer": "ipython3",
   "version": "3.7.9"
  }
 },
 "nbformat": 4,
 "nbformat_minor": 5
}
