{
 "cells": [
  {
   "cell_type": "markdown",
   "id": "sophisticated-basketball",
   "metadata": {},
   "source": [
    "# 학습목표\n",
    "\n",
    "- 정칙화(Regularization)의 개념을 이해하고 정규화(Normalization)와 구분합니다.\n",
    "- L1 regularization과 L2 regularization의 차이를 설명합니다.\n",
    "- 실습을 통하여 Lp norm, Dropout, Batch Normalization에 대해 학습합니다."
   ]
  },
  {
   "cell_type": "markdown",
   "id": "czech-southwest",
   "metadata": {},
   "source": [
    "## Regularization과 Normalization"
   ]
  },
  {
   "cell_type": "code",
   "execution_count": 1,
   "id": "written-saturday",
   "metadata": {},
   "outputs": [
    {
     "data": {
      "text/html": [
       "<div>\n",
       "<style scoped>\n",
       "    .dataframe tbody tr th:only-of-type {\n",
       "        vertical-align: middle;\n",
       "    }\n",
       "\n",
       "    .dataframe tbody tr th {\n",
       "        vertical-align: top;\n",
       "    }\n",
       "\n",
       "    .dataframe thead th {\n",
       "        text-align: right;\n",
       "    }\n",
       "</style>\n",
       "<table border=\"1\" class=\"dataframe\">\n",
       "  <thead>\n",
       "    <tr style=\"text-align: right;\">\n",
       "      <th></th>\n",
       "      <th>sepal length (cm)</th>\n",
       "      <th>sepal width (cm)</th>\n",
       "      <th>petal length (cm)</th>\n",
       "      <th>petal width (cm)</th>\n",
       "      <th>species</th>\n",
       "    </tr>\n",
       "  </thead>\n",
       "  <tbody>\n",
       "    <tr>\n",
       "      <th>0</th>\n",
       "      <td>5.1</td>\n",
       "      <td>3.5</td>\n",
       "      <td>1.4</td>\n",
       "      <td>0.2</td>\n",
       "      <td>setosa</td>\n",
       "    </tr>\n",
       "    <tr>\n",
       "      <th>1</th>\n",
       "      <td>4.9</td>\n",
       "      <td>3.0</td>\n",
       "      <td>1.4</td>\n",
       "      <td>0.2</td>\n",
       "      <td>setosa</td>\n",
       "    </tr>\n",
       "    <tr>\n",
       "      <th>2</th>\n",
       "      <td>4.7</td>\n",
       "      <td>3.2</td>\n",
       "      <td>1.3</td>\n",
       "      <td>0.2</td>\n",
       "      <td>setosa</td>\n",
       "    </tr>\n",
       "    <tr>\n",
       "      <th>3</th>\n",
       "      <td>4.6</td>\n",
       "      <td>3.1</td>\n",
       "      <td>1.5</td>\n",
       "      <td>0.2</td>\n",
       "      <td>setosa</td>\n",
       "    </tr>\n",
       "    <tr>\n",
       "      <th>4</th>\n",
       "      <td>5.0</td>\n",
       "      <td>3.6</td>\n",
       "      <td>1.4</td>\n",
       "      <td>0.2</td>\n",
       "      <td>setosa</td>\n",
       "    </tr>\n",
       "  </tbody>\n",
       "</table>\n",
       "</div>"
      ],
      "text/plain": [
       "   sepal length (cm)  sepal width (cm)  petal length (cm)  petal width (cm)  \\\n",
       "0                5.1               3.5                1.4               0.2   \n",
       "1                4.9               3.0                1.4               0.2   \n",
       "2                4.7               3.2                1.3               0.2   \n",
       "3                4.6               3.1                1.5               0.2   \n",
       "4                5.0               3.6                1.4               0.2   \n",
       "\n",
       "  species  \n",
       "0  setosa  \n",
       "1  setosa  \n",
       "2  setosa  \n",
       "3  setosa  \n",
       "4  setosa  "
      ]
     },
     "execution_count": 1,
     "metadata": {},
     "output_type": "execute_result"
    }
   ],
   "source": [
    "from sklearn.datasets import load_iris\n",
    "import pandas as pd \n",
    "import matplotlib.pyplot as plt\n",
    "\n",
    "iris = load_iris()\n",
    "iris_df = pd.DataFrame(data=iris.data, columns=iris.feature_names)\n",
    "target_df = pd.DataFrame(data=iris.target, columns=['species'])\n",
    "\n",
    "# 0, 1, 2로 되어있는 target 데이터를 \n",
    "# 알아보기 쉽게 'setosa', 'versicolor', 'virginica'로 바꿉니다 \n",
    "def converter(species):\n",
    "    if species == 0:\n",
    "        return 'setosa'\n",
    "    elif species == 1:\n",
    "        return 'versicolor'\n",
    "    else:\n",
    "        return 'virginica'\n",
    "\n",
    "target_df['species'] = target_df['species'].apply(converter)\n",
    "\n",
    "iris_df = pd.concat([iris_df, target_df], axis=1)\n",
    "iris_df.head()"
   ]
  },
  {
   "cell_type": "code",
   "execution_count": 2,
   "id": "dominant-essex",
   "metadata": {},
   "outputs": [
    {
     "name": "stdout",
     "output_type": "stream",
     "text": [
      "[6.0, 5.1, 5.9, 5.6, 5.8, 6.6, 4.5, 6.3, 5.8, 6.1, 5.1, 5.3, 5.5, 5.0, 5.1, 5.3, 5.5, 6.7, 6.9, 5.0, 5.7, 4.9, 6.7, 4.9, 5.7, 6.0, 4.8, 4.9, 5.6, 5.8, 6.1, 6.4, 5.6, 5.1, 5.6, 6.1, 5.6, 5.5, 4.8, 5.4, 5.6, 5.1, 5.1, 5.9, 5.7, 5.2, 5.0, 5.2, 5.4, 5.1]\n",
      "[6.3, 5.8, 7.1, 6.3, 6.5, 7.6, 4.9, 7.3, 6.7, 7.2, 6.5, 6.4, 6.8, 5.7, 5.8, 6.4, 6.5, 7.7, 7.7, 6.0, 6.9, 5.6, 7.7, 6.3, 6.7, 7.2, 6.2, 6.1, 6.4, 7.2, 7.4, 7.9, 6.4, 6.3, 6.1, 7.7, 6.3, 6.4, 6.0, 6.9, 6.7, 6.9, 5.8, 6.8, 6.7, 6.7, 6.3, 6.5, 6.2, 5.9]\n"
     ]
    }
   ],
   "source": [
    "X = [iris_df['petal length (cm)'][a] for a in iris_df.index if iris_df['species'][a]=='virginica']\n",
    "Y = [iris_df['sepal length (cm)'][a] for a in iris_df.index if iris_df['species'][a]=='virginica']\n",
    "\n",
    "print(X)\n",
    "print(Y)"
   ]
  },
  {
   "cell_type": "markdown",
   "id": "retired-harrison",
   "metadata": {},
   "source": [
    "> #### 직관적인 이해를 위해 scatterplot 으로 그려보기"
   ]
  },
  {
   "cell_type": "code",
   "execution_count": 3,
   "id": "increasing-invite",
   "metadata": {},
   "outputs": [
    {
     "data": {
      "image/png": "[encoded data removed]",
      "text/plain": [
       "<Figure size 360x360 with 1 Axes>"
      ]
     },
     "metadata": {
      "needs_background": "light"
     },
     "output_type": "display_data"
    }
   ],
   "source": [
    "plt.figure(figsize=(5,5))\n",
    "plt.scatter(X,Y)\n",
    "plt.title('petal-sepal scatter before normalization') \n",
    "plt.xlabel('petal length (cm)')\n",
    "plt.ylabel('sepal length (cm)')\n",
    "plt.grid()\n",
    "plt.show()"
   ]
  },
  {
   "cell_type": "code",
   "execution_count": 4,
   "id": "oriented-initial",
   "metadata": {},
   "outputs": [
    {
     "data": {
      "image/png": "[encoded data removed]",
      "text/plain": [
       "<Figure size 360x360 with 1 Axes>"
      ]
     },
     "metadata": {
      "needs_background": "light"
     },
     "output_type": "display_data"
    }
   ],
   "source": [
    "from sklearn.preprocessing import minmax_scale\n",
    "\n",
    "X_scale = minmax_scale(X)\n",
    "Y_scale = minmax_scale(Y)\n",
    "\n",
    "plt.figure(figsize=(5,5))\n",
    "plt.scatter(X_scale,Y_scale)\n",
    "plt.title('petal-sepal scatter after normalization') \n",
    "plt.xlabel('petal length (cm)')\n",
    "plt.ylabel('sepal length (cm)')\n",
    "plt.grid()\n",
    "plt.show()"
   ]
  },
  {
   "cell_type": "markdown",
   "id": "historical-industry",
   "metadata": {},
   "source": [
    "--------------------\n",
    "--------------------\n",
    "--------------------\n",
    "--------------------"
   ]
  },
  {
   "cell_type": "code",
   "execution_count": 7,
   "id": "sublime-dietary",
   "metadata": {},
   "outputs": [
    {
     "data": {
      "text/plain": [
       "<AxesSubplot:>"
      ]
     },
     "execution_count": 7,
     "metadata": {},
     "output_type": "execute_result"
    },
    {
     "data": {
      "image/png": "[encoded data removed]",
      "text/plain": [
       "<Figure size 432x288 with 1 Axes>"
      ]
     },
     "metadata": {
      "needs_background": "light"
     },
     "output_type": "display_data"
    }
   ],
   "source": [
    "import seaborn as sns\n",
    "\n",
    "plt.figure()\n",
    "sns.scatterplot(x=X, y=Y)\n",
    "sns.scatterplot(x=X_scale, y=Y_scale)"
   ]
  },
  {
   "cell_type": "markdown",
   "id": "useful-switzerland",
   "metadata": {},
   "source": [
    "--------------------\n",
    "--------------------\n",
    "--------------------\n",
    "--------------------"
   ]
  },
  {
   "cell_type": "markdown",
   "id": "protecting-caribbean",
   "metadata": {},
   "source": [
    "> #### regularization에 대해 알아보기"
   ]
  },
  {
   "cell_type": "code",
   "execution_count": 8,
   "id": "deadly-cooler",
   "metadata": {},
   "outputs": [
    {
     "name": "stdout",
     "output_type": "stream",
     "text": [
      "기울기 : 1.00, 절편 : 1.06\n"
     ]
    }
   ],
   "source": [
    "from sklearn.linear_model import LinearRegression\n",
    "import numpy as np \n",
    "\n",
    "X = np.array(X)\n",
    "Y = np.array(Y)\n",
    "\n",
    "# Iris Dataset을 Linear Regression으로 학습합니다. \n",
    "linear= LinearRegression()\n",
    "linear.fit(X.reshape(-1,1), Y)\n",
    "\n",
    "# Linear Regression의 기울기와 절편을 확인합니다. \n",
    "a, b=linear.coef_, linear.intercept_\n",
    "print(\"기울기 : %0.2f, 절편 : %0.2f\" %(a,b))"
   ]
  },
  {
   "cell_type": "code",
   "execution_count": 10,
   "id": "gentle-powder",
   "metadata": {},
   "outputs": [
    {
     "name": "stdout",
     "output_type": "stream",
     "text": [
      "[0.99573864]\n",
      "1.059659090909089\n"
     ]
    }
   ],
   "source": [
    "print(a)\n",
    "print(b)"
   ]
  },
  {
   "cell_type": "markdown",
   "id": "precious-jacksonville",
   "metadata": {},
   "source": [
    "> 위의 기울기, 절편을 통해 fit된 직선을 만들어보기"
   ]
  },
  {
   "cell_type": "code",
   "execution_count": 11,
   "id": "quality-george",
   "metadata": {},
   "outputs": [
    {
     "data": {
      "image/png": "[encoded data removed]",
      "text/plain": [
       "<Figure size 360x360 with 1 Axes>"
      ]
     },
     "metadata": {
      "needs_background": "light"
     },
     "output_type": "display_data"
    }
   ],
   "source": [
    "plt.figure(figsize=(5,5))\n",
    "plt.scatter(X,Y)\n",
    "plt.plot(X,linear.predict(X.reshape(-1,1)),'-b')\n",
    "plt.title('petal-sepal scatter with linear regression') \n",
    "plt.xlabel('petal length (cm)')\n",
    "plt.ylabel('sepal length (cm)')\n",
    "plt.grid()\n",
    "plt.show()"
   ]
  },
  {
   "cell_type": "markdown",
   "id": "green-lloyd",
   "metadata": {},
   "source": [
    "### L1, L2 Regularization 사용"
   ]
  },
  {
   "cell_type": "markdown",
   "id": "appropriate-stand",
   "metadata": {},
   "source": [
    "> L1을 사용하는 Lasso 먼저 확인"
   ]
  },
  {
   "cell_type": "code",
   "execution_count": 13,
   "id": "empty-buyer",
   "metadata": {},
   "outputs": [
    {
     "name": "stdout",
     "output_type": "stream",
     "text": [
      "기울기 : 0.00, 절편 : 6.59\n"
     ]
    },
    {
     "data": {
      "image/png": "[encoded data removed]",
      "text/plain": [
       "<Figure size 360x360 with 1 Axes>"
      ]
     },
     "metadata": {
      "needs_background": "light"
     },
     "output_type": "display_data"
    }
   ],
   "source": [
    "#L1 regularization은 Lasso로 import 합니다.\n",
    "from sklearn.linear_model import Lasso\n",
    "\n",
    "L1 = Lasso()\n",
    "L1.fit(X.reshape(-1,1), Y)\n",
    "a, b=L1.coef_, L1.intercept_\n",
    "print(\"기울기 : %0.2f, 절편 : %0.2f\" %(a,b))\n",
    "\n",
    "plt.figure(figsize=(5,5))\n",
    "plt.scatter(X,Y)\n",
    "plt.plot(X,L1.predict(X.reshape(-1,1)),'-b')\n",
    "plt.title('petal-sepal scatter with L1 regularization(Lasso)') \n",
    "plt.xlabel('petal length (cm)')\n",
    "plt.ylabel('sepal length (cm)')\n",
    "plt.grid()\n",
    "plt.show()"
   ]
  },
  {
   "cell_type": "code",
   "execution_count": 14,
   "id": "vanilla-tumor",
   "metadata": {},
   "outputs": [
    {
     "name": "stdout",
     "output_type": "stream",
     "text": [
      "[0.]\n",
      "6.587999999999998\n"
     ]
    }
   ],
   "source": [
    "print(a)\n",
    "print(b)"
   ]
  },
  {
   "cell_type": "markdown",
   "id": "separate-charles",
   "metadata": {},
   "source": [
    "> - 기울기가 0이다.\n",
    "> - 방정식을 제대로 풀지 못하고 있다."
   ]
  },
  {
   "cell_type": "markdown",
   "id": "outstanding-colon",
   "metadata": {},
   "source": [
    "> L2를 쓰는 Ridge로 확인"
   ]
  },
  {
   "cell_type": "code",
   "execution_count": 15,
   "id": "literary-methodology",
   "metadata": {},
   "outputs": [
    {
     "name": "stdout",
     "output_type": "stream",
     "text": [
      "기울기 : 0.93, 절편 : 1.41\n"
     ]
    },
    {
     "data": {
      "image/png": "[encoded data removed]",
      "text/plain": [
       "<Figure size 360x360 with 1 Axes>"
      ]
     },
     "metadata": {
      "needs_background": "light"
     },
     "output_type": "display_data"
    }
   ],
   "source": [
    "#L2 regularization은 Ridge로 import 합니다. \n",
    "from sklearn.linear_model import Ridge\n",
    "\n",
    "L2 = Ridge()\n",
    "L2.fit(X.reshape(-1,1), Y)\n",
    "a, b = L2.coef_, L2.intercept_\n",
    "print(\"기울기 : %0.2f, 절편 : %0.2f\" %(a,b))\n",
    "\n",
    "plt.figure(figsize=(5,5))\n",
    "plt.scatter(X,Y)\n",
    "plt.plot(X,L2.predict(X.reshape(-1,1)),'-b')\n",
    "plt.title('petal-sepal scatter with L2 regularization(Ridge)') \n",
    "plt.xlabel('petal length (cm)')\n",
    "plt.ylabel('sepal length (cm)')\n",
    "plt.grid()\n",
    "plt.show()"
   ]
  },
  {
   "cell_type": "markdown",
   "id": "practical-reflection",
   "metadata": {},
   "source": [
    "> #### note:\n",
    "> - `Lasso`, `Ridge`가 다르게 나오는데 `Ridge`가 `Linear Regression`과 비슷하게 나오는 이유는\n",
    "> - Linear Regression이 `L2 norm`과 관련 있기 때문이다."
   ]
  },
  {
   "cell_type": "markdown",
   "id": "coral-insulin",
   "metadata": {},
   "source": [
    "## L1 Regularization"
   ]
  },
  {
   "cell_type": "markdown",
   "id": "normal-spring",
   "metadata": {},
   "source": [
    "- L1 norm 에 대한 이해를 통해 `Lasso`를 언제 쓰는지 알아보자"
   ]
  },
  {
   "cell_type": "markdown",
   "id": "juvenile-ultimate",
   "metadata": {},
   "source": [
    "#### 이전 스텝에서 왜 L1 Regularization 만 답이 나오지 않았을까?"
   ]
  },
  {
   "cell_type": "markdown",
   "id": "buried-round",
   "metadata": {},
   "source": [
    "`p=1`인 경우 $\\beta_0$ 에 대해 미분하는 과정에서 $\\lambda$가 사라지므로 Regularization의 효과를 볼 수 없습니다. $X$가 **1차원 값인 선형회귀분석 같은 경우에는 L1 Regularization이 의미가 없다**는 것을 말합니다. 그러므로, L1 Regularization을 사용할 때는 **X가 2차원 이상인 여러 컬럼 값이 있는 데이터일 때** 실제 효과를 볼 수 있습니다."
   ]
  },
  {
   "cell_type": "markdown",
   "id": "hawaiian-while",
   "metadata": {},
   "source": [
    "### 컬럼 수가 많은 데이터에서의 L1 regularization 비교"
   ]
  },
  {
   "cell_type": "markdown",
   "id": "postal-difficulty",
   "metadata": {},
   "source": [
    "- 총 13개의 컬럼을 갖는 wind data로 비교해보자"
   ]
  },
  {
   "cell_type": "code",
   "execution_count": 17,
   "id": "incorrect-highland",
   "metadata": {},
   "outputs": [],
   "source": [
    "from sklearn.datasets import load_wine\n",
    "\n",
    "wine = load_wine()\n",
    "wine_df = pd.DataFrame(data=wine.data, columns=wine.feature_names)\n",
    "target_df = pd.DataFrame(data=wine.target, columns=['Y'])"
   ]
  },
  {
   "cell_type": "code",
   "execution_count": 21,
   "id": "manual-electric",
   "metadata": {},
   "outputs": [
    {
     "data": {
      "text/html": [
       "<div>\n",
       "<style scoped>\n",
       "    .dataframe tbody tr th:only-of-type {\n",
       "        vertical-align: middle;\n",
       "    }\n",
       "\n",
       "    .dataframe tbody tr th {\n",
       "        vertical-align: top;\n",
       "    }\n",
       "\n",
       "    .dataframe thead th {\n",
       "        text-align: right;\n",
       "    }\n",
       "</style>\n",
       "<table border=\"1\" class=\"dataframe\">\n",
       "  <thead>\n",
       "    <tr style=\"text-align: right;\">\n",
       "      <th></th>\n",
       "      <th>alcohol</th>\n",
       "      <th>malic_acid</th>\n",
       "      <th>ash</th>\n",
       "      <th>alcalinity_of_ash</th>\n",
       "      <th>magnesium</th>\n",
       "      <th>total_phenols</th>\n",
       "      <th>flavanoids</th>\n",
       "      <th>nonflavanoid_phenols</th>\n",
       "      <th>proanthocyanins</th>\n",
       "      <th>color_intensity</th>\n",
       "      <th>hue</th>\n",
       "      <th>od280/od315_of_diluted_wines</th>\n",
       "      <th>proline</th>\n",
       "    </tr>\n",
       "  </thead>\n",
       "  <tbody>\n",
       "    <tr>\n",
       "      <th>0</th>\n",
       "      <td>14.23</td>\n",
       "      <td>1.71</td>\n",
       "      <td>2.43</td>\n",
       "      <td>15.6</td>\n",
       "      <td>127.0</td>\n",
       "      <td>2.80</td>\n",
       "      <td>3.06</td>\n",
       "      <td>0.28</td>\n",
       "      <td>2.29</td>\n",
       "      <td>5.64</td>\n",
       "      <td>1.04</td>\n",
       "      <td>3.92</td>\n",
       "      <td>1065.0</td>\n",
       "    </tr>\n",
       "    <tr>\n",
       "      <th>1</th>\n",
       "      <td>13.20</td>\n",
       "      <td>1.78</td>\n",
       "      <td>2.14</td>\n",
       "      <td>11.2</td>\n",
       "      <td>100.0</td>\n",
       "      <td>2.65</td>\n",
       "      <td>2.76</td>\n",
       "      <td>0.26</td>\n",
       "      <td>1.28</td>\n",
       "      <td>4.38</td>\n",
       "      <td>1.05</td>\n",
       "      <td>3.40</td>\n",
       "      <td>1050.0</td>\n",
       "    </tr>\n",
       "    <tr>\n",
       "      <th>2</th>\n",
       "      <td>13.16</td>\n",
       "      <td>2.36</td>\n",
       "      <td>2.67</td>\n",
       "      <td>18.6</td>\n",
       "      <td>101.0</td>\n",
       "      <td>2.80</td>\n",
       "      <td>3.24</td>\n",
       "      <td>0.30</td>\n",
       "      <td>2.81</td>\n",
       "      <td>5.68</td>\n",
       "      <td>1.03</td>\n",
       "      <td>3.17</td>\n",
       "      <td>1185.0</td>\n",
       "    </tr>\n",
       "    <tr>\n",
       "      <th>3</th>\n",
       "      <td>14.37</td>\n",
       "      <td>1.95</td>\n",
       "      <td>2.50</td>\n",
       "      <td>16.8</td>\n",
       "      <td>113.0</td>\n",
       "      <td>3.85</td>\n",
       "      <td>3.49</td>\n",
       "      <td>0.24</td>\n",
       "      <td>2.18</td>\n",
       "      <td>7.80</td>\n",
       "      <td>0.86</td>\n",
       "      <td>3.45</td>\n",
       "      <td>1480.0</td>\n",
       "    </tr>\n",
       "    <tr>\n",
       "      <th>4</th>\n",
       "      <td>13.24</td>\n",
       "      <td>2.59</td>\n",
       "      <td>2.87</td>\n",
       "      <td>21.0</td>\n",
       "      <td>118.0</td>\n",
       "      <td>2.80</td>\n",
       "      <td>2.69</td>\n",
       "      <td>0.39</td>\n",
       "      <td>1.82</td>\n",
       "      <td>4.32</td>\n",
       "      <td>1.04</td>\n",
       "      <td>2.93</td>\n",
       "      <td>735.0</td>\n",
       "    </tr>\n",
       "  </tbody>\n",
       "</table>\n",
       "</div>"
      ],
      "text/plain": [
       "   alcohol  malic_acid   ash  alcalinity_of_ash  magnesium  total_phenols  \\\n",
       "0    14.23        1.71  2.43               15.6      127.0           2.80   \n",
       "1    13.20        1.78  2.14               11.2      100.0           2.65   \n",
       "2    13.16        2.36  2.67               18.6      101.0           2.80   \n",
       "3    14.37        1.95  2.50               16.8      113.0           3.85   \n",
       "4    13.24        2.59  2.87               21.0      118.0           2.80   \n",
       "\n",
       "   flavanoids  nonflavanoid_phenols  proanthocyanins  color_intensity   hue  \\\n",
       "0        3.06                  0.28             2.29             5.64  1.04   \n",
       "1        2.76                  0.26             1.28             4.38  1.05   \n",
       "2        3.24                  0.30             2.81             5.68  1.03   \n",
       "3        3.49                  0.24             2.18             7.80  0.86   \n",
       "4        2.69                  0.39             1.82             4.32  1.04   \n",
       "\n",
       "   od280/od315_of_diluted_wines  proline  \n",
       "0                          3.92   1065.0  \n",
       "1                          3.40   1050.0  \n",
       "2                          3.17   1185.0  \n",
       "3                          3.45   1480.0  \n",
       "4                          2.93    735.0  "
      ]
     },
     "execution_count": 21,
     "metadata": {},
     "output_type": "execute_result"
    }
   ],
   "source": [
    "wine_df.head()"
   ]
  },
  {
   "cell_type": "code",
   "execution_count": 22,
   "id": "immediate-elephant",
   "metadata": {},
   "outputs": [
    {
     "data": {
      "text/html": [
       "<div>\n",
       "<style scoped>\n",
       "    .dataframe tbody tr th:only-of-type {\n",
       "        vertical-align: middle;\n",
       "    }\n",
       "\n",
       "    .dataframe tbody tr th {\n",
       "        vertical-align: top;\n",
       "    }\n",
       "\n",
       "    .dataframe thead th {\n",
       "        text-align: right;\n",
       "    }\n",
       "</style>\n",
       "<table border=\"1\" class=\"dataframe\">\n",
       "  <thead>\n",
       "    <tr style=\"text-align: right;\">\n",
       "      <th></th>\n",
       "      <th>Y</th>\n",
       "    </tr>\n",
       "  </thead>\n",
       "  <tbody>\n",
       "    <tr>\n",
       "      <th>0</th>\n",
       "      <td>0</td>\n",
       "    </tr>\n",
       "    <tr>\n",
       "      <th>1</th>\n",
       "      <td>0</td>\n",
       "    </tr>\n",
       "    <tr>\n",
       "      <th>2</th>\n",
       "      <td>0</td>\n",
       "    </tr>\n",
       "    <tr>\n",
       "      <th>3</th>\n",
       "      <td>0</td>\n",
       "    </tr>\n",
       "    <tr>\n",
       "      <th>4</th>\n",
       "      <td>0</td>\n",
       "    </tr>\n",
       "  </tbody>\n",
       "</table>\n",
       "</div>"
      ],
      "text/plain": [
       "   Y\n",
       "0  0\n",
       "1  0\n",
       "2  0\n",
       "3  0\n",
       "4  0"
      ]
     },
     "execution_count": 22,
     "metadata": {},
     "output_type": "execute_result"
    }
   ],
   "source": [
    "target_df.head()"
   ]
  },
  {
   "cell_type": "markdown",
   "id": "coupled-sword",
   "metadata": {},
   "source": [
    "> - 먼저 linear regression으로 문제를 풀어보고\n",
    "> - 해당 문제에서의 mean absolute error, mean sqaured error, root mean sqaured error를 구해보자"
   ]
  },
  {
   "cell_type": "code",
   "execution_count": 23,
   "id": "academic-elder",
   "metadata": {},
   "outputs": [
    {
     "name": "stdout",
     "output_type": "stream",
     "text": [
      "result of linear regression\n",
      "Mean Absolute Error: 0.25128973939722626\n",
      "Mean Squared Error: 0.1062458740952556\n",
      "Mean Root Squared Error: 0.32595379134971814\n",
      "\n",
      "\n",
      " coefficient linear regression\n",
      "[[-8.09017190e-02  4.34817880e-02 -1.18857931e-01  3.65705449e-02\n",
      "  -4.68014203e-04  1.41423581e-01 -4.54107854e-01 -5.13172664e-01\n",
      "   9.69318443e-02  5.34311136e-02 -1.27626604e-01 -2.91381844e-01\n",
      "  -5.72238959e-04]]\n"
     ]
    }
   ],
   "source": [
    "from sklearn.model_selection import train_test_split\n",
    "from sklearn.linear_model import LinearRegression\n",
    "from sklearn.metrics import mean_absolute_error, mean_squared_error\n",
    "\n",
    "# 데이터를 준비하고\n",
    "X_train, X_test, y_train, y_test = train_test_split(wine_df, target_df, test_size=0.3, random_state=101)\n",
    "\n",
    "# 모델을 훈련시킵니다.\n",
    "model = LinearRegression()\n",
    "model.fit(X_train, y_train)\n",
    "\n",
    "# 테스트를 해볼까요?\n",
    "model.predict(X_test)\n",
    "pred = model.predict(X_test)\n",
    "\n",
    "# 테스트 결과는 이렇습니다!\n",
    "print(\"result of linear regression\")\n",
    "print('Mean Absolute Error:', mean_absolute_error(y_test, pred))\n",
    "print('Mean Squared Error:', mean_squared_error(y_test, pred))\n",
    "print('Mean Root Squared Error:', np.sqrt(mean_squared_error(y_test, pred)))\n",
    "\n",
    "print(\"\\n\\n coefficient linear regression\")\n",
    "print(model.coef_)"
   ]
  },
  {
   "cell_type": "markdown",
   "id": "portuguese-league",
   "metadata": {},
   "source": [
    "> - L1 regularization으로 문제를 풀어보자"
   ]
  },
  {
   "cell_type": "code",
   "execution_count": 24,
   "id": "overall-review",
   "metadata": {},
   "outputs": [
    {
     "name": "stdout",
     "output_type": "stream",
     "text": [
      "result of Lasso\n",
      "Mean Absolute Error: 0.24233731936122138\n",
      "Mean Squared Error: 0.0955956894578189\n",
      "Mean Root Squared Error: 0.3091855259513597\n",
      "\n",
      "\n",
      " coefficient of Lasso\n",
      "[-0.          0.01373795 -0.          0.03065716  0.00154719 -0.\n",
      " -0.34143614 -0.          0.          0.06755943 -0.         -0.14558153\n",
      " -0.00089635]\n"
     ]
    }
   ],
   "source": [
    "from sklearn.linear_model import Lasso\n",
    "from sklearn.metrics import mean_absolute_error, mean_squared_error\n",
    "\n",
    "# 모델을 준비하고 훈련시킵니다.\n",
    "L1 = Lasso(alpha=0.05)\n",
    "L1.fit(X_train, y_train)\n",
    "\n",
    "# 테스트를 해봅시다.\n",
    "pred = L1.predict(X_test)\n",
    "\n",
    "# 모델 성능은 얼마나 좋을까요?\n",
    "print(\"result of Lasso\")\n",
    "print('Mean Absolute Error:', mean_absolute_error(y_test, pred))\n",
    "print('Mean Squared Error:', mean_squared_error(y_test, pred))\n",
    "print('Mean Root Squared Error:', np.sqrt(mean_squared_error(y_test, pred)))\n",
    "\n",
    "print(\"\\n\\n coefficient of Lasso\")\n",
    "print(L1.coef_)"
   ]
  },
  {
   "cell_type": "markdown",
   "id": "coupled-maple",
   "metadata": {},
   "source": [
    "### 결과 분석"
   ]
  },
  {
   "cell_type": "markdown",
   "id": "fourth-tragedy",
   "metadata": {},
   "source": [
    "#### 아이펠 설명\n",
    "\n",
    "coefficient 부분을 보시면 Linear Regression과 L1 Regularization의 차이가 좀 더 두드러짐을 알 수 있습니다. Linear Regression에서는 모든 컬럼의 가중치를 탐색하여 구하는 반면, L1 Regularization에서는 총 13개 중 7개를 제외한 나머지의 값들이 모두 0임을 확인할 수 있습니다. Error 부분에서는 큰 차이가 없었지만, 우리가 어떤 컬럼이 결과에 영향을 더 크게 미치는지 확실히 확인할 수 있습니다. 이러한 경우 다른 문제에서도 error의 차이가 크게 나지 않는다면, 차원 축소와 비슷한 개념으로 변수의 값을 7개만 남겨도 충분히 결과를 예측할 수 있습니다. 다만 Linear Regression과 L1, L2 Regularization의 차이 중 하나는 $\\alpha$라는 하이퍼파라미터(수식에서는 $\\lambda$)가 하나 더 들어간다는 것이고, 그 값에 따라 error에 영향을 미친다는 점입니다."
   ]
  },
  {
   "cell_type": "markdown",
   "id": "angry-filename",
   "metadata": {},
   "source": [
    "## L2 Regularization"
   ]
  },
  {
   "cell_type": "markdown",
   "id": "authorized-current",
   "metadata": {},
   "source": [
    "### L2 Regularization(Ridge) 의 정의\n"
   ]
  },
  {
   "cell_type": "markdown",
   "id": "imposed-orbit",
   "metadata": {},
   "source": [
    "### L1 / L2 Regularization의 차이점"
   ]
  },
  {
   "cell_type": "markdown",
   "id": "middle-enterprise",
   "metadata": {},
   "source": [
    "> iteration 숫자를 제약 조건으로 주고 실험 예정"
   ]
  },
  {
   "cell_type": "code",
   "execution_count": 26,
   "id": "committed-sunday",
   "metadata": {},
   "outputs": [
    {
     "name": "stdout",
     "output_type": "stream",
     "text": [
      "=3\n"
     ]
    }
   ],
   "source": [
    "from sklearn.datasets import load_wine\n",
    "import pandas as pd\n",
    "import numpy as np\n",
    "from sklearn.model_selection import train_test_split\n",
    "from sklearn.metrics import mean_absolute_error, mean_squared_error\n",
    "\n",
    "wine = load_wine()\n",
    "wine_df = pd.DataFrame(data=wine.data, columns=wine.feature_names)\n",
    "target_df = pd.DataFrame(data=wine.target, columns=['Y'])\n",
    "X_train, X_test, y_train, y_test = train_test_split(wine_df, target_df, test_size= 0.3, random_state=101)\n",
    "print('=3')"
   ]
  },
  {
   "cell_type": "code",
   "execution_count": 27,
   "id": "stuffed-arena",
   "metadata": {},
   "outputs": [
    {
     "name": "stdout",
     "output_type": "stream",
     "text": [
      "result of Lasso\n",
      "Mean Absolute Error: 0.24845768841769436\n",
      "Mean Squared Error: 0.10262989110341268\n",
      "Mean Root Squared Error: 0.32035900346862844\n",
      "\n",
      "\n",
      " coefficient of Lasso\n",
      "[-0.          0.         -0.          0.03295564  0.00109495  0.\n",
      " -0.4027847   0.          0.          0.06023131 -0.         -0.12001119\n",
      " -0.00078971]\n"
     ]
    },
    {
     "name": "stderr",
     "output_type": "stream",
     "text": [
      "/opt/conda/lib/python3.7/site-packages/sklearn/linear_model/_coordinate_descent.py:529: ConvergenceWarning: Objective did not converge. You might want to increase the number of iterations. Duality gap: 3.924145836492522, tolerance: 0.007479838709677421\n",
      "  positive)\n"
     ]
    }
   ],
   "source": [
    "from sklearn.linear_model import Lasso\n",
    "\n",
    "L1 = Lasso(alpha=0.05, max_iter=5)\n",
    "L1.fit(X_train, y_train)\n",
    "pred = L1.predict(X_test)\n",
    "\n",
    "print(\"result of Lasso\")\n",
    "print('Mean Absolute Error:', mean_absolute_error(y_test, pred))\n",
    "print('Mean Squared Error:', mean_squared_error(y_test, pred))\n",
    "print('Mean Root Squared Error:', np.sqrt(mean_squared_error(y_test, pred)))\n",
    "\n",
    "print(\"\\n\\n coefficient of Lasso\")\n",
    "print(L1.coef_)"
   ]
  },
  {
   "cell_type": "code",
   "execution_count": 28,
   "id": "printable-facing",
   "metadata": {},
   "outputs": [
    {
     "name": "stdout",
     "output_type": "stream",
     "text": [
      "result of Ridge\n",
      "Mean Absolute Error: 0.2511466959936429\n",
      "Mean Squared Error: 0.10568076460795563\n",
      "Mean Root Squared Error: 0.3250857803841251\n",
      "\n",
      "\n",
      " coefficient of Ridge\n",
      "[[-8.12456257e-02  4.35541496e-02 -1.21661565e-01  3.65979773e-02\n",
      "  -3.94014013e-04  1.39168707e-01 -4.50691113e-01 -4.87216747e-01\n",
      "   9.54111059e-02  5.37077039e-02 -1.28602933e-01 -2.89832790e-01\n",
      "  -5.73136185e-04]]\n"
     ]
    }
   ],
   "source": [
    "from sklearn.linear_model import Ridge\n",
    "\n",
    "L2 = Ridge(alpha=0.05,max_iter=5)\n",
    "L2.fit(X_train, y_train)\n",
    "pred = L2.predict(X_test)\n",
    "\n",
    "print(\"result of Ridge\")\n",
    "print('Mean Absolute Error:', mean_absolute_error(y_test, pred))\n",
    "print('Mean Squared Error:', mean_squared_error(y_test, pred))\n",
    "print('Mean Root Squared Error:', np.sqrt(mean_squared_error(y_test, pred)))\n",
    "\n",
    "print(\"\\n\\n coefficient of Ridge\")\n",
    "print(L2.coef_)"
   ]
  },
  {
   "cell_type": "markdown",
   "id": "every-failure",
   "metadata": {},
   "source": [
    "#### 아이펠 설명\n",
    "\n",
    "iteration 값을 5로만 설정해 보아도, L2 Regularization의 문제는 Linear Regression과 같은 값이 나오지만, L1 Regularization에서는 앞 step과 같은 값을 확인할 수는 없었습니다. 심지어 수렴하지 않았다는 경고까지 나오는군요! 이는 아직 다른 조건들을 만족하는 답을 찾지 못하였다는 뜻입니다.\n",
    "\n",
    "정리하면, `L1 Regularization`은 **가중치가 적은** 벡터에 해당하는 계수를 `0`으로 보내면서 차원 축소와 비슷한 역할을 하는 것이 특징이며, `L2 Regularization`은 0이 아닌 0에 가깝게 보내지만 **제곱 텀**이 있기 때문에 L1 Regularization보다는 **수렴 속도가 빠르다**는 장점이 있습니다. 예를 들어, $A=[1,1,1,1,1]$ , $B=[5,0,0,0,0]$ 의 경우 L1-norm은 같지만, L2-norm은 같지 않습니다. 즉, **제곱 텀에서 결과에 큰 영향을 미치는 값은 더 크게, 결과에 영향이 적은 값들은 더 작게 보내면서 수렴 속도가 빨라지는 것**입니다.\n",
    "\n"
   ]
  },
  {
   "cell_type": "markdown",
   "id": "overhead-antenna",
   "metadata": {},
   "source": [
    "## Extra : Lp norm"
   ]
  },
  {
   "cell_type": "markdown",
   "id": "massive-supplement",
   "metadata": {},
   "source": [
    "### vector norm"
   ]
  },
  {
   "cell_type": "markdown",
   "id": "valuable-anderson",
   "metadata": {},
   "source": [
    "- p를 바꿔가면서 실험해보기"
   ]
  },
  {
   "cell_type": "code",
   "execution_count": 29,
   "id": "palestinian-force",
   "metadata": {},
   "outputs": [
    {
     "name": "stdout",
     "output_type": "stream",
     "text": [
      "result of numpy package norm function : 10.00008 \n",
      "result of making norm : 10.00008 \n"
     ]
    }
   ],
   "source": [
    "x=np.array([1,10,1,1,1])\n",
    "p=5\n",
    "norm_x=np.linalg.norm(x, ord=p)\n",
    "making_norm = (sum(x**p))**(1/p)\n",
    "print(\"result of numpy package norm function : %0.5f \"%norm_x) \n",
    "print(\"result of making norm : %0.5f \"%making_norm)"
   ]
  },
  {
   "cell_type": "markdown",
   "id": "deadly-fisher",
   "metadata": {},
   "source": [
    "> - p=inf 일 경우에는 가장 벡터 요소 중 큰 숫자를 출력"
   ]
  },
  {
   "cell_type": "code",
   "execution_count": 38,
   "id": "generous-legislation",
   "metadata": {},
   "outputs": [
    {
     "name": "stdout",
     "output_type": "stream",
     "text": [
      "result of infinite norm : 10.00000 \n"
     ]
    }
   ],
   "source": [
    "norm_x=np.linalg.norm(x, ord=np.inf)\n",
    "print(\"result of infinite norm : %0.5f \"%norm_x)"
   ]
  },
  {
   "cell_type": "markdown",
   "id": "prescribed-portal",
   "metadata": {},
   "source": [
    "--------------\n",
    "--------------\n",
    "--------------\n",
    "--------------"
   ]
  },
  {
   "cell_type": "code",
   "execution_count": 30,
   "id": "pediatric-colon",
   "metadata": {},
   "outputs": [
    {
     "name": "stdout",
     "output_type": "stream",
     "text": [
      "result of numpy package norm function : 14.00000 \n",
      "result of making norm : 14.00000 \n"
     ]
    }
   ],
   "source": [
    "p=1\n",
    "norm_x=np.linalg.norm(x, ord=p)\n",
    "making_norm = (sum(x**p))**(1/p)\n",
    "print(\"result of numpy package norm function : %0.5f \"%norm_x) \n",
    "print(\"result of making norm : %0.5f \"%making_norm)"
   ]
  },
  {
   "cell_type": "code",
   "execution_count": 31,
   "id": "collective-arbor",
   "metadata": {},
   "outputs": [
    {
     "name": "stdout",
     "output_type": "stream",
     "text": [
      "result of numpy package norm function : 10.19804 \n",
      "result of making norm : 10.19804 \n"
     ]
    }
   ],
   "source": [
    "p=2\n",
    "norm_x=np.linalg.norm(x, ord=p)\n",
    "making_norm = (sum(x**p))**(1/p)\n",
    "print(\"result of numpy package norm function : %0.5f \"%norm_x) \n",
    "print(\"result of making norm : %0.5f \"%making_norm)"
   ]
  },
  {
   "cell_type": "code",
   "execution_count": 32,
   "id": "dying-celebration",
   "metadata": {},
   "outputs": [
    {
     "name": "stdout",
     "output_type": "stream",
     "text": [
      "result of numpy package norm function : 10.01332 \n",
      "result of making norm : 10.01332 \n"
     ]
    }
   ],
   "source": [
    "p=3\n",
    "norm_x=np.linalg.norm(x, ord=p)\n",
    "making_norm = (sum(x**p))**(1/p)\n",
    "print(\"result of numpy package norm function : %0.5f \"%norm_x) \n",
    "print(\"result of making norm : %0.5f \"%making_norm)"
   ]
  },
  {
   "cell_type": "code",
   "execution_count": 37,
   "id": "organized-syndication",
   "metadata": {},
   "outputs": [
    {
     "name": "stdout",
     "output_type": "stream",
     "text": [
      "result of numpy package norm function : 2.00000 \n",
      "result of making norm : 2.00000 \n",
      "=======================================\n",
      "result of numpy package norm function : 1.41421 \n",
      "result of making norm : 1.41421 \n",
      "=======================================\n",
      "result of numpy package norm function : 1.25992 \n",
      "result of making norm : 1.25992 \n",
      "=======================================\n",
      "result of numpy package norm function : 1.18921 \n",
      "result of making norm : 1.18921 \n",
      "=======================================\n",
      "result of numpy package norm function : 1.14870 \n",
      "result of making norm : 1.14870 \n",
      "=======================================\n"
     ]
    },
    {
     "data": {
      "image/png": "[encoded data removed]",
      "text/plain": [
       "<Figure size 432x288 with 1 Axes>"
      ]
     },
     "metadata": {
      "needs_background": "light"
     },
     "output_type": "display_data"
    }
   ],
   "source": [
    "test_x = np.array([1,1])\n",
    "p_list = []\n",
    "norm_list = []\n",
    "for i in range(1, 5+1):\n",
    "    p = i\n",
    "    norm_x = np.linalg.norm(test_x, ord=p)\n",
    "    making_norm = (sum(test_x**p))**(1/p)\n",
    "    p_list.append(i)\n",
    "    norm_list.append(making_norm)\n",
    "    print(\"result of numpy package norm function : %0.5f \"%norm_x) \n",
    "    print(\"result of making norm : %0.5f \"%making_norm)\n",
    "    print('=======================================')\n",
    "plt.figure()\n",
    "plt.scatter(p_list, norm_list)\n",
    "plt.show()"
   ]
  },
  {
   "cell_type": "markdown",
   "id": "lined-central",
   "metadata": {},
   "source": [
    "--------------\n",
    "--------------\n",
    "--------------\n",
    "--------------"
   ]
  },
  {
   "cell_type": "markdown",
   "id": "stuck-threat",
   "metadata": {},
   "source": [
    "### matrix norm\n",
    "\n",
    "- vector norm과 조금 다르다.\n",
    "- 주로 p=1, 혹은 inf일 때만 알면 된다.\n",
    "> - p=1인 경우에는 컬럼의 합이 가장 큰 값이 출력되고, p=∞인 경우에는 로우의 합이 가장 큰 값이 출력\n",
    "> - 인터넷에서 수식 찾아서 보면 이해간다."
   ]
  },
  {
   "cell_type": "code",
   "execution_count": 39,
   "id": "indoor-stationery",
   "metadata": {},
   "outputs": [
    {
     "name": "stdout",
     "output_type": "stream",
     "text": [
      "result inf norm of A : 18.0\n",
      "result one norm of A : 14.0\n"
     ]
    }
   ],
   "source": [
    "A=np.array([[1,2,3],[1,2,3],[4,6,8]])\n",
    "inf_norm_A=np.linalg.norm(A, ord=np.inf)\n",
    "print(\"result inf norm of A :\", inf_norm_A)\n",
    "one_norm_A=np.linalg.norm(A, ord=1)\n",
    "print(\"result one norm of A :\", one_norm_A)"
   ]
  },
  {
   "cell_type": "markdown",
   "id": "advisory-labor",
   "metadata": {},
   "source": [
    "## Dropout"
   ]
  },
  {
   "cell_type": "markdown",
   "id": "checked-percentage",
   "metadata": {},
   "source": [
    "### 실습 (not overfitting)"
   ]
  },
  {
   "cell_type": "markdown",
   "id": "fluid-invitation",
   "metadata": {},
   "source": [
    "- fashion mnist를 통해 확인해보기\n",
    "- epoch 5 정도면 결과가 나옴(데이터가 간단해서)"
   ]
  },
  {
   "cell_type": "code",
   "execution_count": 40,
   "id": "existing-alias",
   "metadata": {},
   "outputs": [
    {
     "name": "stdout",
     "output_type": "stream",
     "text": [
      "=3\n"
     ]
    }
   ],
   "source": [
    "import tensorflow as tf\n",
    "from tensorflow import keras\n",
    "import numpy as np\n",
    "import matplotlib.pyplot as plt\n",
    "from sklearn.model_selection import train_test_split\n",
    "\n",
    "fashion_mnist = keras.datasets.fashion_mnist\n",
    "print('=3')"
   ]
  },
  {
   "cell_type": "code",
   "execution_count": 41,
   "id": "numerical-anaheim",
   "metadata": {},
   "outputs": [],
   "source": [
    "(train_images, train_labels), (test_images, test_labels) = fashion_mnist.load_data()\n",
    "class_names = ['T-shirt/top', 'Trouser', 'Pullover', 'Dress', 'Coat',\n",
    "               'Sandal', 'Shirt', 'Sneaker', 'Bag', 'Ankle boot']\n",
    "\n",
    "train_images = train_images / 255.0\n",
    "test_images = test_images / 255.0"
   ]
  },
  {
   "cell_type": "markdown",
   "id": "italic-organizer",
   "metadata": {},
   "source": [
    "> - dropout rate : 0.9"
   ]
  },
  {
   "cell_type": "code",
   "execution_count": 42,
   "id": "functioning-outreach",
   "metadata": {},
   "outputs": [
    {
     "name": "stdout",
     "output_type": "stream",
     "text": [
      "Epoch 1/5\n",
      "1875/1875 [==============================] - 3s 2ms/step - loss: 1.6385 - accuracy: 0.3795\n",
      "Epoch 2/5\n",
      "1875/1875 [==============================] - 3s 2ms/step - loss: 1.1949 - accuracy: 0.5232\n",
      "Epoch 3/5\n",
      "1875/1875 [==============================] - 3s 2ms/step - loss: 1.1381 - accuracy: 0.5417\n",
      "Epoch 4/5\n",
      "1875/1875 [==============================] - 3s 2ms/step - loss: 1.0960 - accuracy: 0.5573\n",
      "Epoch 5/5\n",
      "1875/1875 [==============================] - 3s 2ms/step - loss: 1.0847 - accuracy: 0.5548\n"
     ]
    }
   ],
   "source": [
    "model = keras.Sequential([\n",
    "    keras.layers.Flatten(input_shape=(28, 28)),\n",
    "    keras.layers.Dense(128, activation='relu'),\n",
    "    # 여기에 dropout layer를 추가해보았습니다. 나머지 layer는 아래의 실습과 같습니다.\n",
    "    keras.layers.Dropout(0.9),\n",
    "    keras.layers.Dense(10, activation='softmax')\n",
    "])\n",
    "\n",
    "model.compile(optimizer='adam',loss='sparse_categorical_crossentropy',\n",
    "              metrics=['accuracy'])\n",
    "\n",
    "history= model.fit(train_images, train_labels, epochs=5)"
   ]
  },
  {
   "cell_type": "code",
   "execution_count": 45,
   "id": "prescribed-making",
   "metadata": {},
   "outputs": [
    {
     "name": "stdout",
     "output_type": "stream",
     "text": [
      "Epoch 1/5\n",
      "1875/1875 [==============================] - 3s 1ms/step - loss: 0.6259 - accuracy: 0.7796\n",
      "Epoch 2/5\n",
      "1875/1875 [==============================] - 3s 1ms/step - loss: 0.3840 - accuracy: 0.8609\n",
      "Epoch 3/5\n",
      "1875/1875 [==============================] - 3s 1ms/step - loss: 0.3370 - accuracy: 0.8772\n",
      "Epoch 4/5\n",
      "1875/1875 [==============================] - 3s 1ms/step - loss: 0.3091 - accuracy: 0.8860\n",
      "Epoch 5/5\n",
      "1875/1875 [==============================] - 3s 1ms/step - loss: 0.2896 - accuracy: 0.8912\n"
     ]
    }
   ],
   "source": [
    "model = keras.Sequential([\n",
    "    keras.layers.Flatten(input_shape=(28, 28)),\n",
    "    # 이번에는 dropout layer가 없습니다. \n",
    "    keras.layers.Dense(128, activation='relu'),\n",
    "    keras.layers.Dense(10, activation='softmax')\n",
    "])\n",
    "\n",
    "model.compile(optimizer='adam',loss='sparse_categorical_crossentropy',\n",
    "              metrics=['accuracy'])\n",
    "\n",
    "history = model.fit(train_images, train_labels, epochs=5)"
   ]
  },
  {
   "cell_type": "markdown",
   "id": "colonial-biotechnology",
   "metadata": {},
   "source": [
    "> - 이미지 데이터이지만 fully connect layer로도 잘 학습됨\n",
    "> - 반면 dropout이 학습에서 규제하는 모습을 보여줬다."
   ]
  },
  {
   "cell_type": "markdown",
   "id": "powerful-passing",
   "metadata": {},
   "source": [
    "------------------------------------\n",
    "------------------------------------\n",
    "------------------------------------\n",
    "------------------------------------"
   ]
  },
  {
   "cell_type": "code",
   "execution_count": 43,
   "id": "exceptional-honey",
   "metadata": {},
   "outputs": [
    {
     "name": "stdout",
     "output_type": "stream",
     "text": [
      "Epoch 1/5\n"
     ]
    },
    {
     "ename": "ValueError",
     "evalue": "in user code:\n\n    /opt/conda/lib/python3.7/site-packages/tensorflow/python/keras/engine/training.py:805 train_function  *\n        return step_function(self, iterator)\n    /opt/conda/lib/python3.7/site-packages/tensorflow/python/keras/engine/training.py:795 step_function  **\n        outputs = model.distribute_strategy.run(run_step, args=(data,))\n    /opt/conda/lib/python3.7/site-packages/tensorflow/python/distribute/distribute_lib.py:1259 run\n        return self._extended.call_for_each_replica(fn, args=args, kwargs=kwargs)\n    /opt/conda/lib/python3.7/site-packages/tensorflow/python/distribute/distribute_lib.py:2730 call_for_each_replica\n        return self._call_for_each_replica(fn, args, kwargs)\n    /opt/conda/lib/python3.7/site-packages/tensorflow/python/distribute/distribute_lib.py:3417 _call_for_each_replica\n        return fn(*args, **kwargs)\n    /opt/conda/lib/python3.7/site-packages/tensorflow/python/keras/engine/training.py:788 run_step  **\n        outputs = model.train_step(data)\n    /opt/conda/lib/python3.7/site-packages/tensorflow/python/keras/engine/training.py:756 train_step\n        y, y_pred, sample_weight, regularization_losses=self.losses)\n    /opt/conda/lib/python3.7/site-packages/tensorflow/python/keras/engine/compile_utils.py:203 __call__\n        loss_value = loss_obj(y_t, y_p, sample_weight=sw)\n    /opt/conda/lib/python3.7/site-packages/tensorflow/python/keras/losses.py:152 __call__\n        losses = call_fn(y_true, y_pred)\n    /opt/conda/lib/python3.7/site-packages/tensorflow/python/keras/losses.py:256 call  **\n        return ag_fn(y_true, y_pred, **self._fn_kwargs)\n    /opt/conda/lib/python3.7/site-packages/tensorflow/python/util/dispatch.py:201 wrapper\n        return target(*args, **kwargs)\n    /opt/conda/lib/python3.7/site-packages/tensorflow/python/keras/losses.py:1569 sparse_categorical_crossentropy\n        y_true, y_pred, from_logits=from_logits, axis=axis)\n    /opt/conda/lib/python3.7/site-packages/tensorflow/python/util/dispatch.py:201 wrapper\n        return target(*args, **kwargs)\n    /opt/conda/lib/python3.7/site-packages/tensorflow/python/keras/backend.py:4941 sparse_categorical_crossentropy\n        labels=target, logits=output)\n    /opt/conda/lib/python3.7/site-packages/tensorflow/python/util/dispatch.py:201 wrapper\n        return target(*args, **kwargs)\n    /opt/conda/lib/python3.7/site-packages/tensorflow/python/ops/nn_ops.py:4241 sparse_softmax_cross_entropy_with_logits_v2\n        labels=labels, logits=logits, name=name)\n    /opt/conda/lib/python3.7/site-packages/tensorflow/python/util/dispatch.py:201 wrapper\n        return target(*args, **kwargs)\n    /opt/conda/lib/python3.7/site-packages/tensorflow/python/ops/nn_ops.py:4156 sparse_softmax_cross_entropy_with_logits\n        logits.get_shape()))\n\n    ValueError: Shape mismatch: The shape of labels (received (32, 1)) should equal the shape of logits except for the last dimension (received (32, 28, 10)).\n",
     "output_type": "error",
     "traceback": [
      "\u001b[0;31m---------------------------------------------------------------------------\u001b[0m",
      "\u001b[0;31mValueError\u001b[0m                                Traceback (most recent call last)",
      "\u001b[0;32m<ipython-input-43-a5acee76bf0c>\u001b[0m in \u001b[0;36m<module>\u001b[0;34m\u001b[0m\n\u001b[1;32m      9\u001b[0m              metrics=['accuracy'])\n\u001b[1;32m     10\u001b[0m \u001b[0;34m\u001b[0m\u001b[0m\n\u001b[0;32m---> 11\u001b[0;31m \u001b[0mhistroy\u001b[0m \u001b[0;34m=\u001b[0m \u001b[0mmodel\u001b[0m\u001b[0;34m.\u001b[0m\u001b[0mfit\u001b[0m\u001b[0;34m(\u001b[0m\u001b[0mtrain_images\u001b[0m\u001b[0;34m,\u001b[0m \u001b[0mtrain_labels\u001b[0m\u001b[0;34m,\u001b[0m \u001b[0mepochs\u001b[0m\u001b[0;34m=\u001b[0m\u001b[0;36m5\u001b[0m\u001b[0;34m)\u001b[0m\u001b[0;34m\u001b[0m\u001b[0;34m\u001b[0m\u001b[0m\n\u001b[0m",
      "\u001b[0;32m/opt/conda/lib/python3.7/site-packages/tensorflow/python/keras/engine/training.py\u001b[0m in \u001b[0;36mfit\u001b[0;34m(self, x, y, batch_size, epochs, verbose, callbacks, validation_split, validation_data, shuffle, class_weight, sample_weight, initial_epoch, steps_per_epoch, validation_steps, validation_batch_size, validation_freq, max_queue_size, workers, use_multiprocessing)\u001b[0m\n\u001b[1;32m   1098\u001b[0m                 _r=1):\n\u001b[1;32m   1099\u001b[0m               \u001b[0mcallbacks\u001b[0m\u001b[0;34m.\u001b[0m\u001b[0mon_train_batch_begin\u001b[0m\u001b[0;34m(\u001b[0m\u001b[0mstep\u001b[0m\u001b[0;34m)\u001b[0m\u001b[0;34m\u001b[0m\u001b[0;34m\u001b[0m\u001b[0m\n\u001b[0;32m-> 1100\u001b[0;31m               \u001b[0mtmp_logs\u001b[0m \u001b[0;34m=\u001b[0m \u001b[0mself\u001b[0m\u001b[0;34m.\u001b[0m\u001b[0mtrain_function\u001b[0m\u001b[0;34m(\u001b[0m\u001b[0miterator\u001b[0m\u001b[0;34m)\u001b[0m\u001b[0;34m\u001b[0m\u001b[0;34m\u001b[0m\u001b[0m\n\u001b[0m\u001b[1;32m   1101\u001b[0m               \u001b[0;32mif\u001b[0m \u001b[0mdata_handler\u001b[0m\u001b[0;34m.\u001b[0m\u001b[0mshould_sync\u001b[0m\u001b[0;34m:\u001b[0m\u001b[0;34m\u001b[0m\u001b[0;34m\u001b[0m\u001b[0m\n\u001b[1;32m   1102\u001b[0m                 \u001b[0mcontext\u001b[0m\u001b[0;34m.\u001b[0m\u001b[0masync_wait\u001b[0m\u001b[0;34m(\u001b[0m\u001b[0;34m)\u001b[0m\u001b[0;34m\u001b[0m\u001b[0;34m\u001b[0m\u001b[0m\n",
      "\u001b[0;32m/opt/conda/lib/python3.7/site-packages/tensorflow/python/eager/def_function.py\u001b[0m in \u001b[0;36m__call__\u001b[0;34m(self, *args, **kwds)\u001b[0m\n\u001b[1;32m    826\u001b[0m     \u001b[0mtracing_count\u001b[0m \u001b[0;34m=\u001b[0m \u001b[0mself\u001b[0m\u001b[0;34m.\u001b[0m\u001b[0mexperimental_get_tracing_count\u001b[0m\u001b[0;34m(\u001b[0m\u001b[0;34m)\u001b[0m\u001b[0;34m\u001b[0m\u001b[0;34m\u001b[0m\u001b[0m\n\u001b[1;32m    827\u001b[0m     \u001b[0;32mwith\u001b[0m \u001b[0mtrace\u001b[0m\u001b[0;34m.\u001b[0m\u001b[0mTrace\u001b[0m\u001b[0;34m(\u001b[0m\u001b[0mself\u001b[0m\u001b[0;34m.\u001b[0m\u001b[0m_name\u001b[0m\u001b[0;34m)\u001b[0m \u001b[0;32mas\u001b[0m \u001b[0mtm\u001b[0m\u001b[0;34m:\u001b[0m\u001b[0;34m\u001b[0m\u001b[0;34m\u001b[0m\u001b[0m\n\u001b[0;32m--> 828\u001b[0;31m       \u001b[0mresult\u001b[0m \u001b[0;34m=\u001b[0m \u001b[0mself\u001b[0m\u001b[0;34m.\u001b[0m\u001b[0m_call\u001b[0m\u001b[0;34m(\u001b[0m\u001b[0;34m*\u001b[0m\u001b[0margs\u001b[0m\u001b[0;34m,\u001b[0m \u001b[0;34m**\u001b[0m\u001b[0mkwds\u001b[0m\u001b[0;34m)\u001b[0m\u001b[0;34m\u001b[0m\u001b[0;34m\u001b[0m\u001b[0m\n\u001b[0m\u001b[1;32m    829\u001b[0m       \u001b[0mcompiler\u001b[0m \u001b[0;34m=\u001b[0m \u001b[0;34m\"xla\"\u001b[0m \u001b[0;32mif\u001b[0m \u001b[0mself\u001b[0m\u001b[0;34m.\u001b[0m\u001b[0m_experimental_compile\u001b[0m \u001b[0;32melse\u001b[0m \u001b[0;34m\"nonXla\"\u001b[0m\u001b[0;34m\u001b[0m\u001b[0;34m\u001b[0m\u001b[0m\n\u001b[1;32m    830\u001b[0m       \u001b[0mnew_tracing_count\u001b[0m \u001b[0;34m=\u001b[0m \u001b[0mself\u001b[0m\u001b[0;34m.\u001b[0m\u001b[0mexperimental_get_tracing_count\u001b[0m\u001b[0;34m(\u001b[0m\u001b[0;34m)\u001b[0m\u001b[0;34m\u001b[0m\u001b[0;34m\u001b[0m\u001b[0m\n",
      "\u001b[0;32m/opt/conda/lib/python3.7/site-packages/tensorflow/python/eager/def_function.py\u001b[0m in \u001b[0;36m_call\u001b[0;34m(self, *args, **kwds)\u001b[0m\n\u001b[1;32m    869\u001b[0m       \u001b[0;31m# This is the first call of __call__, so we have to initialize.\u001b[0m\u001b[0;34m\u001b[0m\u001b[0;34m\u001b[0m\u001b[0;34m\u001b[0m\u001b[0m\n\u001b[1;32m    870\u001b[0m       \u001b[0minitializers\u001b[0m \u001b[0;34m=\u001b[0m \u001b[0;34m[\u001b[0m\u001b[0;34m]\u001b[0m\u001b[0;34m\u001b[0m\u001b[0;34m\u001b[0m\u001b[0m\n\u001b[0;32m--> 871\u001b[0;31m       \u001b[0mself\u001b[0m\u001b[0;34m.\u001b[0m\u001b[0m_initialize\u001b[0m\u001b[0;34m(\u001b[0m\u001b[0margs\u001b[0m\u001b[0;34m,\u001b[0m \u001b[0mkwds\u001b[0m\u001b[0;34m,\u001b[0m \u001b[0madd_initializers_to\u001b[0m\u001b[0;34m=\u001b[0m\u001b[0minitializers\u001b[0m\u001b[0;34m)\u001b[0m\u001b[0;34m\u001b[0m\u001b[0;34m\u001b[0m\u001b[0m\n\u001b[0m\u001b[1;32m    872\u001b[0m     \u001b[0;32mfinally\u001b[0m\u001b[0;34m:\u001b[0m\u001b[0;34m\u001b[0m\u001b[0;34m\u001b[0m\u001b[0m\n\u001b[1;32m    873\u001b[0m       \u001b[0;31m# At this point we know that the initialization is complete (or less\u001b[0m\u001b[0;34m\u001b[0m\u001b[0;34m\u001b[0m\u001b[0;34m\u001b[0m\u001b[0m\n",
      "\u001b[0;32m/opt/conda/lib/python3.7/site-packages/tensorflow/python/eager/def_function.py\u001b[0m in \u001b[0;36m_initialize\u001b[0;34m(self, args, kwds, add_initializers_to)\u001b[0m\n\u001b[1;32m    724\u001b[0m     self._concrete_stateful_fn = (\n\u001b[1;32m    725\u001b[0m         self._stateful_fn._get_concrete_function_internal_garbage_collected(  # pylint: disable=protected-access\n\u001b[0;32m--> 726\u001b[0;31m             *args, **kwds))\n\u001b[0m\u001b[1;32m    727\u001b[0m \u001b[0;34m\u001b[0m\u001b[0m\n\u001b[1;32m    728\u001b[0m     \u001b[0;32mdef\u001b[0m \u001b[0minvalid_creator_scope\u001b[0m\u001b[0;34m(\u001b[0m\u001b[0;34m*\u001b[0m\u001b[0munused_args\u001b[0m\u001b[0;34m,\u001b[0m \u001b[0;34m**\u001b[0m\u001b[0munused_kwds\u001b[0m\u001b[0;34m)\u001b[0m\u001b[0;34m:\u001b[0m\u001b[0;34m\u001b[0m\u001b[0;34m\u001b[0m\u001b[0m\n",
      "\u001b[0;32m/opt/conda/lib/python3.7/site-packages/tensorflow/python/eager/function.py\u001b[0m in \u001b[0;36m_get_concrete_function_internal_garbage_collected\u001b[0;34m(self, *args, **kwargs)\u001b[0m\n\u001b[1;32m   2967\u001b[0m       \u001b[0margs\u001b[0m\u001b[0;34m,\u001b[0m \u001b[0mkwargs\u001b[0m \u001b[0;34m=\u001b[0m \u001b[0;32mNone\u001b[0m\u001b[0;34m,\u001b[0m \u001b[0;32mNone\u001b[0m\u001b[0;34m\u001b[0m\u001b[0;34m\u001b[0m\u001b[0m\n\u001b[1;32m   2968\u001b[0m     \u001b[0;32mwith\u001b[0m \u001b[0mself\u001b[0m\u001b[0;34m.\u001b[0m\u001b[0m_lock\u001b[0m\u001b[0;34m:\u001b[0m\u001b[0;34m\u001b[0m\u001b[0;34m\u001b[0m\u001b[0m\n\u001b[0;32m-> 2969\u001b[0;31m       \u001b[0mgraph_function\u001b[0m\u001b[0;34m,\u001b[0m \u001b[0m_\u001b[0m \u001b[0;34m=\u001b[0m \u001b[0mself\u001b[0m\u001b[0;34m.\u001b[0m\u001b[0m_maybe_define_function\u001b[0m\u001b[0;34m(\u001b[0m\u001b[0margs\u001b[0m\u001b[0;34m,\u001b[0m \u001b[0mkwargs\u001b[0m\u001b[0;34m)\u001b[0m\u001b[0;34m\u001b[0m\u001b[0;34m\u001b[0m\u001b[0m\n\u001b[0m\u001b[1;32m   2970\u001b[0m     \u001b[0;32mreturn\u001b[0m \u001b[0mgraph_function\u001b[0m\u001b[0;34m\u001b[0m\u001b[0;34m\u001b[0m\u001b[0m\n\u001b[1;32m   2971\u001b[0m \u001b[0;34m\u001b[0m\u001b[0m\n",
      "\u001b[0;32m/opt/conda/lib/python3.7/site-packages/tensorflow/python/eager/function.py\u001b[0m in \u001b[0;36m_maybe_define_function\u001b[0;34m(self, args, kwargs)\u001b[0m\n\u001b[1;32m   3359\u001b[0m \u001b[0;34m\u001b[0m\u001b[0m\n\u001b[1;32m   3360\u001b[0m           \u001b[0mself\u001b[0m\u001b[0;34m.\u001b[0m\u001b[0m_function_cache\u001b[0m\u001b[0;34m.\u001b[0m\u001b[0mmissed\u001b[0m\u001b[0;34m.\u001b[0m\u001b[0madd\u001b[0m\u001b[0;34m(\u001b[0m\u001b[0mcall_context_key\u001b[0m\u001b[0;34m)\u001b[0m\u001b[0;34m\u001b[0m\u001b[0;34m\u001b[0m\u001b[0m\n\u001b[0;32m-> 3361\u001b[0;31m           \u001b[0mgraph_function\u001b[0m \u001b[0;34m=\u001b[0m \u001b[0mself\u001b[0m\u001b[0;34m.\u001b[0m\u001b[0m_create_graph_function\u001b[0m\u001b[0;34m(\u001b[0m\u001b[0margs\u001b[0m\u001b[0;34m,\u001b[0m \u001b[0mkwargs\u001b[0m\u001b[0;34m)\u001b[0m\u001b[0;34m\u001b[0m\u001b[0;34m\u001b[0m\u001b[0m\n\u001b[0m\u001b[1;32m   3362\u001b[0m           \u001b[0mself\u001b[0m\u001b[0;34m.\u001b[0m\u001b[0m_function_cache\u001b[0m\u001b[0;34m.\u001b[0m\u001b[0mprimary\u001b[0m\u001b[0;34m[\u001b[0m\u001b[0mcache_key\u001b[0m\u001b[0;34m]\u001b[0m \u001b[0;34m=\u001b[0m \u001b[0mgraph_function\u001b[0m\u001b[0;34m\u001b[0m\u001b[0;34m\u001b[0m\u001b[0m\n\u001b[1;32m   3363\u001b[0m \u001b[0;34m\u001b[0m\u001b[0m\n",
      "\u001b[0;32m/opt/conda/lib/python3.7/site-packages/tensorflow/python/eager/function.py\u001b[0m in \u001b[0;36m_create_graph_function\u001b[0;34m(self, args, kwargs, override_flat_arg_shapes)\u001b[0m\n\u001b[1;32m   3204\u001b[0m             \u001b[0marg_names\u001b[0m\u001b[0;34m=\u001b[0m\u001b[0marg_names\u001b[0m\u001b[0;34m,\u001b[0m\u001b[0;34m\u001b[0m\u001b[0;34m\u001b[0m\u001b[0m\n\u001b[1;32m   3205\u001b[0m             \u001b[0moverride_flat_arg_shapes\u001b[0m\u001b[0;34m=\u001b[0m\u001b[0moverride_flat_arg_shapes\u001b[0m\u001b[0;34m,\u001b[0m\u001b[0;34m\u001b[0m\u001b[0;34m\u001b[0m\u001b[0m\n\u001b[0;32m-> 3206\u001b[0;31m             capture_by_value=self._capture_by_value),\n\u001b[0m\u001b[1;32m   3207\u001b[0m         \u001b[0mself\u001b[0m\u001b[0;34m.\u001b[0m\u001b[0m_function_attributes\u001b[0m\u001b[0;34m,\u001b[0m\u001b[0;34m\u001b[0m\u001b[0;34m\u001b[0m\u001b[0m\n\u001b[1;32m   3208\u001b[0m         \u001b[0mfunction_spec\u001b[0m\u001b[0;34m=\u001b[0m\u001b[0mself\u001b[0m\u001b[0;34m.\u001b[0m\u001b[0mfunction_spec\u001b[0m\u001b[0;34m,\u001b[0m\u001b[0;34m\u001b[0m\u001b[0;34m\u001b[0m\u001b[0m\n",
      "\u001b[0;32m/opt/conda/lib/python3.7/site-packages/tensorflow/python/framework/func_graph.py\u001b[0m in \u001b[0;36mfunc_graph_from_py_func\u001b[0;34m(name, python_func, args, kwargs, signature, func_graph, autograph, autograph_options, add_control_dependencies, arg_names, op_return_value, collections, capture_by_value, override_flat_arg_shapes)\u001b[0m\n\u001b[1;32m    988\u001b[0m         \u001b[0m_\u001b[0m\u001b[0;34m,\u001b[0m \u001b[0moriginal_func\u001b[0m \u001b[0;34m=\u001b[0m \u001b[0mtf_decorator\u001b[0m\u001b[0;34m.\u001b[0m\u001b[0munwrap\u001b[0m\u001b[0;34m(\u001b[0m\u001b[0mpython_func\u001b[0m\u001b[0;34m)\u001b[0m\u001b[0;34m\u001b[0m\u001b[0;34m\u001b[0m\u001b[0m\n\u001b[1;32m    989\u001b[0m \u001b[0;34m\u001b[0m\u001b[0m\n\u001b[0;32m--> 990\u001b[0;31m       \u001b[0mfunc_outputs\u001b[0m \u001b[0;34m=\u001b[0m \u001b[0mpython_func\u001b[0m\u001b[0;34m(\u001b[0m\u001b[0;34m*\u001b[0m\u001b[0mfunc_args\u001b[0m\u001b[0;34m,\u001b[0m \u001b[0;34m**\u001b[0m\u001b[0mfunc_kwargs\u001b[0m\u001b[0;34m)\u001b[0m\u001b[0;34m\u001b[0m\u001b[0;34m\u001b[0m\u001b[0m\n\u001b[0m\u001b[1;32m    991\u001b[0m \u001b[0;34m\u001b[0m\u001b[0m\n\u001b[1;32m    992\u001b[0m       \u001b[0;31m# invariant: `func_outputs` contains only Tensors, CompositeTensors,\u001b[0m\u001b[0;34m\u001b[0m\u001b[0;34m\u001b[0m\u001b[0;34m\u001b[0m\u001b[0m\n",
      "\u001b[0;32m/opt/conda/lib/python3.7/site-packages/tensorflow/python/eager/def_function.py\u001b[0m in \u001b[0;36mwrapped_fn\u001b[0;34m(*args, **kwds)\u001b[0m\n\u001b[1;32m    632\u001b[0m             \u001b[0mxla_context\u001b[0m\u001b[0;34m.\u001b[0m\u001b[0mExit\u001b[0m\u001b[0;34m(\u001b[0m\u001b[0;34m)\u001b[0m\u001b[0;34m\u001b[0m\u001b[0;34m\u001b[0m\u001b[0m\n\u001b[1;32m    633\u001b[0m         \u001b[0;32melse\u001b[0m\u001b[0;34m:\u001b[0m\u001b[0;34m\u001b[0m\u001b[0;34m\u001b[0m\u001b[0m\n\u001b[0;32m--> 634\u001b[0;31m           \u001b[0mout\u001b[0m \u001b[0;34m=\u001b[0m \u001b[0mweak_wrapped_fn\u001b[0m\u001b[0;34m(\u001b[0m\u001b[0;34m)\u001b[0m\u001b[0;34m.\u001b[0m\u001b[0m__wrapped__\u001b[0m\u001b[0;34m(\u001b[0m\u001b[0;34m*\u001b[0m\u001b[0margs\u001b[0m\u001b[0;34m,\u001b[0m \u001b[0;34m**\u001b[0m\u001b[0mkwds\u001b[0m\u001b[0;34m)\u001b[0m\u001b[0;34m\u001b[0m\u001b[0;34m\u001b[0m\u001b[0m\n\u001b[0m\u001b[1;32m    635\u001b[0m         \u001b[0;32mreturn\u001b[0m \u001b[0mout\u001b[0m\u001b[0;34m\u001b[0m\u001b[0;34m\u001b[0m\u001b[0m\n\u001b[1;32m    636\u001b[0m \u001b[0;34m\u001b[0m\u001b[0m\n",
      "\u001b[0;32m/opt/conda/lib/python3.7/site-packages/tensorflow/python/framework/func_graph.py\u001b[0m in \u001b[0;36mwrapper\u001b[0;34m(*args, **kwargs)\u001b[0m\n\u001b[1;32m    975\u001b[0m           \u001b[0;32mexcept\u001b[0m \u001b[0mException\u001b[0m \u001b[0;32mas\u001b[0m \u001b[0me\u001b[0m\u001b[0;34m:\u001b[0m  \u001b[0;31m# pylint:disable=broad-except\u001b[0m\u001b[0;34m\u001b[0m\u001b[0;34m\u001b[0m\u001b[0m\n\u001b[1;32m    976\u001b[0m             \u001b[0;32mif\u001b[0m \u001b[0mhasattr\u001b[0m\u001b[0;34m(\u001b[0m\u001b[0me\u001b[0m\u001b[0;34m,\u001b[0m \u001b[0;34m\"ag_error_metadata\"\u001b[0m\u001b[0;34m)\u001b[0m\u001b[0;34m:\u001b[0m\u001b[0;34m\u001b[0m\u001b[0;34m\u001b[0m\u001b[0m\n\u001b[0;32m--> 977\u001b[0;31m               \u001b[0;32mraise\u001b[0m \u001b[0me\u001b[0m\u001b[0;34m.\u001b[0m\u001b[0mag_error_metadata\u001b[0m\u001b[0;34m.\u001b[0m\u001b[0mto_exception\u001b[0m\u001b[0;34m(\u001b[0m\u001b[0me\u001b[0m\u001b[0;34m)\u001b[0m\u001b[0;34m\u001b[0m\u001b[0;34m\u001b[0m\u001b[0m\n\u001b[0m\u001b[1;32m    978\u001b[0m             \u001b[0;32melse\u001b[0m\u001b[0;34m:\u001b[0m\u001b[0;34m\u001b[0m\u001b[0;34m\u001b[0m\u001b[0m\n\u001b[1;32m    979\u001b[0m               \u001b[0;32mraise\u001b[0m\u001b[0;34m\u001b[0m\u001b[0;34m\u001b[0m\u001b[0m\n",
      "\u001b[0;31mValueError\u001b[0m: in user code:\n\n    /opt/conda/lib/python3.7/site-packages/tensorflow/python/keras/engine/training.py:805 train_function  *\n        return step_function(self, iterator)\n    /opt/conda/lib/python3.7/site-packages/tensorflow/python/keras/engine/training.py:795 step_function  **\n        outputs = model.distribute_strategy.run(run_step, args=(data,))\n    /opt/conda/lib/python3.7/site-packages/tensorflow/python/distribute/distribute_lib.py:1259 run\n        return self._extended.call_for_each_replica(fn, args=args, kwargs=kwargs)\n    /opt/conda/lib/python3.7/site-packages/tensorflow/python/distribute/distribute_lib.py:2730 call_for_each_replica\n        return self._call_for_each_replica(fn, args, kwargs)\n    /opt/conda/lib/python3.7/site-packages/tensorflow/python/distribute/distribute_lib.py:3417 _call_for_each_replica\n        return fn(*args, **kwargs)\n    /opt/conda/lib/python3.7/site-packages/tensorflow/python/keras/engine/training.py:788 run_step  **\n        outputs = model.train_step(data)\n    /opt/conda/lib/python3.7/site-packages/tensorflow/python/keras/engine/training.py:756 train_step\n        y, y_pred, sample_weight, regularization_losses=self.losses)\n    /opt/conda/lib/python3.7/site-packages/tensorflow/python/keras/engine/compile_utils.py:203 __call__\n        loss_value = loss_obj(y_t, y_p, sample_weight=sw)\n    /opt/conda/lib/python3.7/site-packages/tensorflow/python/keras/losses.py:152 __call__\n        losses = call_fn(y_true, y_pred)\n    /opt/conda/lib/python3.7/site-packages/tensorflow/python/keras/losses.py:256 call  **\n        return ag_fn(y_true, y_pred, **self._fn_kwargs)\n    /opt/conda/lib/python3.7/site-packages/tensorflow/python/util/dispatch.py:201 wrapper\n        return target(*args, **kwargs)\n    /opt/conda/lib/python3.7/site-packages/tensorflow/python/keras/losses.py:1569 sparse_categorical_crossentropy\n        y_true, y_pred, from_logits=from_logits, axis=axis)\n    /opt/conda/lib/python3.7/site-packages/tensorflow/python/util/dispatch.py:201 wrapper\n        return target(*args, **kwargs)\n    /opt/conda/lib/python3.7/site-packages/tensorflow/python/keras/backend.py:4941 sparse_categorical_crossentropy\n        labels=target, logits=output)\n    /opt/conda/lib/python3.7/site-packages/tensorflow/python/util/dispatch.py:201 wrapper\n        return target(*args, **kwargs)\n    /opt/conda/lib/python3.7/site-packages/tensorflow/python/ops/nn_ops.py:4241 sparse_softmax_cross_entropy_with_logits_v2\n        labels=labels, logits=logits, name=name)\n    /opt/conda/lib/python3.7/site-packages/tensorflow/python/util/dispatch.py:201 wrapper\n        return target(*args, **kwargs)\n    /opt/conda/lib/python3.7/site-packages/tensorflow/python/ops/nn_ops.py:4156 sparse_softmax_cross_entropy_with_logits\n        logits.get_shape()))\n\n    ValueError: Shape mismatch: The shape of labels (received (32, 1)) should equal the shape of logits except for the last dimension (received (32, 28, 10)).\n"
     ]
    }
   ],
   "source": [
    "model = keras.Sequential([\n",
    "    keras.layers.Dense(128, activation='relu', input_shape=(28,28)),\n",
    "    keras.layers.Dropout(0.9),\n",
    "    keras.layers.Dense(10, activation='softmax')\n",
    "])\n",
    "\n",
    "model.compile(optimizer='adam',\n",
    "             loss='sparse_categorical_crossentropy',\n",
    "             metrics=['accuracy'])\n",
    "\n",
    "histroy = model.fit(train_images, train_labels, epochs=5)"
   ]
  },
  {
   "cell_type": "code",
   "execution_count": 44,
   "id": "stylish-floating",
   "metadata": {},
   "outputs": [
    {
     "data": {
      "text/plain": [
       "(60000, 28, 28)"
      ]
     },
     "execution_count": 44,
     "metadata": {},
     "output_type": "execute_result"
    }
   ],
   "source": [
    "train_images.shape"
   ]
  },
  {
   "cell_type": "markdown",
   "id": "sexual-chair",
   "metadata": {},
   "source": [
    "------------------------------------\n",
    "------------------------------------\n",
    "------------------------------------\n",
    "------------------------------------"
   ]
  },
  {
   "cell_type": "markdown",
   "id": "capable-dimension",
   "metadata": {},
   "source": [
    "### 실습 (overfitting)"
   ]
  },
  {
   "cell_type": "markdown",
   "id": "herbal-theorem",
   "metadata": {},
   "source": [
    "#### 아이펠 설명\n",
    "\n",
    "overfitting이 되는지 확인해 보려면 train set과 validation set의 loss function을 그려보는 것이 가장 첫 번째 시도입니다. 우리는 위의 데이터를 이제 train:valid=99:1로 split 한 뒤에 loss function의 값을 그려보고, overfitting 이 나는 fully connected layer를 만들어보도록 합시다. overfitting이 되게 하기 위해 의도적으로 train set을 99%로 늘리고 validation set을 줄였습니다."
   ]
  },
  {
   "cell_type": "code",
   "execution_count": 46,
   "id": "orange-lloyd",
   "metadata": {},
   "outputs": [
    {
     "name": "stdout",
     "output_type": "stream",
     "text": [
      "Epoch 1/200\n",
      "117/117 [==============================] - 1s 6ms/step - loss: 2.2072 - accuracy: 0.3482 - val_loss: 1.6631 - val_accuracy: 0.6100\n",
      "Epoch 2/200\n",
      "117/117 [==============================] - 0s 4ms/step - loss: 1.5392 - accuracy: 0.5859 - val_loss: 1.1912 - val_accuracy: 0.6733\n",
      "Epoch 3/200\n",
      "117/117 [==============================] - 0s 3ms/step - loss: 1.1478 - accuracy: 0.6692 - val_loss: 0.9687 - val_accuracy: 0.7217\n",
      "Epoch 4/200\n",
      "117/117 [==============================] - 0s 3ms/step - loss: 0.9428 - accuracy: 0.7067 - val_loss: 0.8296 - val_accuracy: 0.7550\n",
      "Epoch 5/200\n",
      "117/117 [==============================] - 0s 3ms/step - loss: 0.8194 - accuracy: 0.7329 - val_loss: 0.7495 - val_accuracy: 0.7733\n",
      "Epoch 6/200\n",
      "117/117 [==============================] - 0s 3ms/step - loss: 0.7539 - accuracy: 0.7433 - val_loss: 0.6995 - val_accuracy: 0.7683\n",
      "Epoch 7/200\n",
      "117/117 [==============================] - 0s 3ms/step - loss: 0.7004 - accuracy: 0.7535 - val_loss: 0.6623 - val_accuracy: 0.7783\n",
      "Epoch 8/200\n",
      "117/117 [==============================] - 0s 3ms/step - loss: 0.6655 - accuracy: 0.7638 - val_loss: 0.6350 - val_accuracy: 0.7817\n",
      "Epoch 9/200\n",
      "117/117 [==============================] - 0s 3ms/step - loss: 0.6354 - accuracy: 0.7723 - val_loss: 0.6189 - val_accuracy: 0.7883\n",
      "Epoch 10/200\n",
      "117/117 [==============================] - 0s 3ms/step - loss: 0.6199 - accuracy: 0.7794 - val_loss: 0.5948 - val_accuracy: 0.7900\n",
      "Epoch 11/200\n",
      "117/117 [==============================] - 0s 3ms/step - loss: 0.5970 - accuracy: 0.7855 - val_loss: 0.5793 - val_accuracy: 0.7900\n",
      "Epoch 12/200\n",
      "117/117 [==============================] - 0s 3ms/step - loss: 0.5826 - accuracy: 0.7909 - val_loss: 0.5660 - val_accuracy: 0.7933\n",
      "Epoch 13/200\n",
      "117/117 [==============================] - 0s 3ms/step - loss: 0.5683 - accuracy: 0.7983 - val_loss: 0.5545 - val_accuracy: 0.8033\n",
      "Epoch 14/200\n",
      "117/117 [==============================] - 0s 3ms/step - loss: 0.5563 - accuracy: 0.8038 - val_loss: 0.5410 - val_accuracy: 0.8000\n",
      "Epoch 15/200\n",
      "117/117 [==============================] - 0s 4ms/step - loss: 0.5444 - accuracy: 0.8062 - val_loss: 0.5335 - val_accuracy: 0.8050\n",
      "Epoch 16/200\n",
      "117/117 [==============================] - 0s 3ms/step - loss: 0.5312 - accuracy: 0.8152 - val_loss: 0.5253 - val_accuracy: 0.8017\n",
      "Epoch 17/200\n",
      "117/117 [==============================] - 0s 3ms/step - loss: 0.5249 - accuracy: 0.8151 - val_loss: 0.5161 - val_accuracy: 0.8133\n",
      "Epoch 18/200\n",
      "117/117 [==============================] - 0s 3ms/step - loss: 0.5166 - accuracy: 0.8200 - val_loss: 0.5108 - val_accuracy: 0.8100\n",
      "Epoch 19/200\n",
      "117/117 [==============================] - 0s 3ms/step - loss: 0.5107 - accuracy: 0.8206 - val_loss: 0.5039 - val_accuracy: 0.8133\n",
      "Epoch 20/200\n",
      "117/117 [==============================] - 0s 3ms/step - loss: 0.5042 - accuracy: 0.8226 - val_loss: 0.4959 - val_accuracy: 0.8200\n",
      "Epoch 21/200\n",
      "117/117 [==============================] - 0s 3ms/step - loss: 0.4923 - accuracy: 0.8282 - val_loss: 0.4910 - val_accuracy: 0.8233\n",
      "Epoch 22/200\n",
      "117/117 [==============================] - 0s 3ms/step - loss: 0.4867 - accuracy: 0.8290 - val_loss: 0.4837 - val_accuracy: 0.8217\n",
      "Epoch 23/200\n",
      "117/117 [==============================] - 0s 3ms/step - loss: 0.4847 - accuracy: 0.8308 - val_loss: 0.4810 - val_accuracy: 0.8217\n",
      "Epoch 24/200\n",
      "117/117 [==============================] - 0s 4ms/step - loss: 0.4839 - accuracy: 0.8302 - val_loss: 0.4795 - val_accuracy: 0.8250\n",
      "Epoch 25/200\n",
      "117/117 [==============================] - 0s 3ms/step - loss: 0.4729 - accuracy: 0.8356 - val_loss: 0.4720 - val_accuracy: 0.8283\n",
      "Epoch 26/200\n",
      "117/117 [==============================] - 0s 3ms/step - loss: 0.4646 - accuracy: 0.8354 - val_loss: 0.4697 - val_accuracy: 0.8283\n",
      "Epoch 27/200\n",
      "117/117 [==============================] - 0s 3ms/step - loss: 0.4642 - accuracy: 0.8380 - val_loss: 0.4694 - val_accuracy: 0.8267\n",
      "Epoch 28/200\n",
      "117/117 [==============================] - 0s 4ms/step - loss: 0.4564 - accuracy: 0.8390 - val_loss: 0.4621 - val_accuracy: 0.8283\n",
      "Epoch 29/200\n",
      "117/117 [==============================] - 0s 3ms/step - loss: 0.4568 - accuracy: 0.8401 - val_loss: 0.4591 - val_accuracy: 0.8317\n",
      "Epoch 30/200\n",
      "117/117 [==============================] - 0s 3ms/step - loss: 0.4553 - accuracy: 0.8409 - val_loss: 0.4555 - val_accuracy: 0.8350\n",
      "Epoch 31/200\n",
      "117/117 [==============================] - 0s 3ms/step - loss: 0.4472 - accuracy: 0.8424 - val_loss: 0.4522 - val_accuracy: 0.8400\n",
      "Epoch 32/200\n",
      "117/117 [==============================] - 0s 4ms/step - loss: 0.4494 - accuracy: 0.8408 - val_loss: 0.4517 - val_accuracy: 0.8333\n",
      "Epoch 33/200\n",
      "117/117 [==============================] - 0s 3ms/step - loss: 0.4441 - accuracy: 0.8441 - val_loss: 0.4456 - val_accuracy: 0.8333\n",
      "Epoch 34/200\n",
      "117/117 [==============================] - 0s 3ms/step - loss: 0.4364 - accuracy: 0.8464 - val_loss: 0.4423 - val_accuracy: 0.8417\n",
      "Epoch 35/200\n",
      "117/117 [==============================] - 0s 3ms/step - loss: 0.4434 - accuracy: 0.8460 - val_loss: 0.4450 - val_accuracy: 0.8317\n",
      "Epoch 36/200\n",
      "117/117 [==============================] - 0s 3ms/step - loss: 0.4388 - accuracy: 0.8462 - val_loss: 0.4428 - val_accuracy: 0.8333\n",
      "Epoch 37/200\n",
      "117/117 [==============================] - 0s 4ms/step - loss: 0.4385 - accuracy: 0.8476 - val_loss: 0.4357 - val_accuracy: 0.8383\n",
      "Epoch 38/200\n",
      "117/117 [==============================] - 0s 3ms/step - loss: 0.4325 - accuracy: 0.8489 - val_loss: 0.4342 - val_accuracy: 0.8367\n",
      "Epoch 39/200\n",
      "117/117 [==============================] - 0s 3ms/step - loss: 0.4317 - accuracy: 0.8489 - val_loss: 0.4296 - val_accuracy: 0.8400\n",
      "Epoch 40/200\n",
      "117/117 [==============================] - 0s 3ms/step - loss: 0.4201 - accuracy: 0.8523 - val_loss: 0.4284 - val_accuracy: 0.8383\n",
      "Epoch 41/200\n",
      "117/117 [==============================] - 0s 3ms/step - loss: 0.4196 - accuracy: 0.8548 - val_loss: 0.4289 - val_accuracy: 0.8283\n",
      "Epoch 42/200\n",
      "117/117 [==============================] - 0s 3ms/step - loss: 0.4236 - accuracy: 0.8516 - val_loss: 0.4286 - val_accuracy: 0.8417\n",
      "Epoch 43/200\n",
      "117/117 [==============================] - 0s 4ms/step - loss: 0.4289 - accuracy: 0.8493 - val_loss: 0.4231 - val_accuracy: 0.8383\n",
      "Epoch 44/200\n",
      "117/117 [==============================] - 0s 3ms/step - loss: 0.4200 - accuracy: 0.8524 - val_loss: 0.4217 - val_accuracy: 0.8367\n",
      "Epoch 45/200\n",
      "117/117 [==============================] - 0s 3ms/step - loss: 0.4182 - accuracy: 0.8542 - val_loss: 0.4217 - val_accuracy: 0.8383\n",
      "Epoch 46/200\n",
      "117/117 [==============================] - 0s 3ms/step - loss: 0.4158 - accuracy: 0.8550 - val_loss: 0.4180 - val_accuracy: 0.8400\n",
      "Epoch 47/200\n",
      "117/117 [==============================] - 0s 3ms/step - loss: 0.4155 - accuracy: 0.8564 - val_loss: 0.4205 - val_accuracy: 0.8367\n",
      "Epoch 48/200\n",
      "117/117 [==============================] - 0s 3ms/step - loss: 0.4137 - accuracy: 0.8561 - val_loss: 0.4133 - val_accuracy: 0.8350\n",
      "Epoch 49/200\n",
      "117/117 [==============================] - 0s 3ms/step - loss: 0.4121 - accuracy: 0.8553 - val_loss: 0.4138 - val_accuracy: 0.8300\n",
      "Epoch 50/200\n",
      "117/117 [==============================] - 0s 4ms/step - loss: 0.4113 - accuracy: 0.8572 - val_loss: 0.4134 - val_accuracy: 0.8350\n",
      "Epoch 51/200\n",
      "117/117 [==============================] - 0s 3ms/step - loss: 0.4074 - accuracy: 0.8573 - val_loss: 0.4113 - val_accuracy: 0.8283\n",
      "Epoch 52/200\n",
      "117/117 [==============================] - 0s 3ms/step - loss: 0.4100 - accuracy: 0.8590 - val_loss: 0.4074 - val_accuracy: 0.8350\n",
      "Epoch 53/200\n",
      "117/117 [==============================] - 0s 3ms/step - loss: 0.4060 - accuracy: 0.8574 - val_loss: 0.4091 - val_accuracy: 0.8383\n",
      "Epoch 54/200\n",
      "117/117 [==============================] - 0s 3ms/step - loss: 0.4058 - accuracy: 0.8592 - val_loss: 0.4064 - val_accuracy: 0.8383\n",
      "Epoch 55/200\n",
      "117/117 [==============================] - 0s 3ms/step - loss: 0.4081 - accuracy: 0.8568 - val_loss: 0.4070 - val_accuracy: 0.8333\n",
      "Epoch 56/200\n",
      "117/117 [==============================] - 0s 3ms/step - loss: 0.4037 - accuracy: 0.8576 - val_loss: 0.4067 - val_accuracy: 0.8317\n",
      "Epoch 57/200\n",
      "117/117 [==============================] - 0s 3ms/step - loss: 0.3995 - accuracy: 0.8618 - val_loss: 0.4060 - val_accuracy: 0.8350\n",
      "Epoch 58/200\n",
      "117/117 [==============================] - 0s 3ms/step - loss: 0.4004 - accuracy: 0.8589 - val_loss: 0.4008 - val_accuracy: 0.8317\n",
      "Epoch 59/200\n",
      "117/117 [==============================] - 0s 3ms/step - loss: 0.3922 - accuracy: 0.8617 - val_loss: 0.4007 - val_accuracy: 0.8367\n",
      "Epoch 60/200\n",
      "117/117 [==============================] - 0s 3ms/step - loss: 0.3992 - accuracy: 0.8596 - val_loss: 0.3992 - val_accuracy: 0.8367\n",
      "Epoch 61/200\n",
      "117/117 [==============================] - 0s 3ms/step - loss: 0.3922 - accuracy: 0.8639 - val_loss: 0.3971 - val_accuracy: 0.8333\n",
      "Epoch 62/200\n",
      "117/117 [==============================] - 0s 3ms/step - loss: 0.3961 - accuracy: 0.8577 - val_loss: 0.3963 - val_accuracy: 0.8317\n",
      "Epoch 63/200\n",
      "117/117 [==============================] - 0s 3ms/step - loss: 0.3955 - accuracy: 0.8610 - val_loss: 0.3934 - val_accuracy: 0.8317\n",
      "Epoch 64/200\n",
      "117/117 [==============================] - 0s 3ms/step - loss: 0.3853 - accuracy: 0.8678 - val_loss: 0.3984 - val_accuracy: 0.8417\n",
      "Epoch 65/200\n",
      "117/117 [==============================] - 0s 3ms/step - loss: 0.3838 - accuracy: 0.8652 - val_loss: 0.3936 - val_accuracy: 0.8417\n",
      "Epoch 66/200\n",
      "117/117 [==============================] - 0s 3ms/step - loss: 0.3819 - accuracy: 0.8672 - val_loss: 0.3958 - val_accuracy: 0.8350\n",
      "Epoch 67/200\n",
      "117/117 [==============================] - 0s 4ms/step - loss: 0.3864 - accuracy: 0.8654 - val_loss: 0.3920 - val_accuracy: 0.8367\n",
      "Epoch 68/200\n",
      "117/117 [==============================] - 0s 3ms/step - loss: 0.3831 - accuracy: 0.8644 - val_loss: 0.3897 - val_accuracy: 0.8333\n",
      "Epoch 69/200\n",
      "117/117 [==============================] - 0s 4ms/step - loss: 0.3894 - accuracy: 0.8636 - val_loss: 0.3903 - val_accuracy: 0.8350\n",
      "Epoch 70/200\n",
      "117/117 [==============================] - 0s 3ms/step - loss: 0.3833 - accuracy: 0.8656 - val_loss: 0.3834 - val_accuracy: 0.8333\n",
      "Epoch 71/200\n",
      "117/117 [==============================] - 0s 3ms/step - loss: 0.3781 - accuracy: 0.8671 - val_loss: 0.3897 - val_accuracy: 0.8333\n",
      "Epoch 72/200\n",
      "117/117 [==============================] - 0s 3ms/step - loss: 0.3771 - accuracy: 0.8661 - val_loss: 0.3853 - val_accuracy: 0.8367\n",
      "Epoch 73/200\n",
      "117/117 [==============================] - 0s 3ms/step - loss: 0.3873 - accuracy: 0.8618 - val_loss: 0.3848 - val_accuracy: 0.8367\n",
      "Epoch 74/200\n",
      "117/117 [==============================] - 0s 3ms/step - loss: 0.3747 - accuracy: 0.8685 - val_loss: 0.3824 - val_accuracy: 0.8350\n",
      "Epoch 75/200\n",
      "117/117 [==============================] - 0s 3ms/step - loss: 0.3780 - accuracy: 0.8667 - val_loss: 0.3869 - val_accuracy: 0.8417\n",
      "Epoch 76/200\n",
      "117/117 [==============================] - 0s 3ms/step - loss: 0.3734 - accuracy: 0.8692 - val_loss: 0.3902 - val_accuracy: 0.8400\n",
      "Epoch 77/200\n",
      "117/117 [==============================] - 0s 3ms/step - loss: 0.3760 - accuracy: 0.8677 - val_loss: 0.3830 - val_accuracy: 0.8383\n",
      "Epoch 78/200\n",
      "117/117 [==============================] - 0s 3ms/step - loss: 0.3763 - accuracy: 0.8693 - val_loss: 0.3818 - val_accuracy: 0.8400\n",
      "Epoch 79/200\n",
      "117/117 [==============================] - 0s 4ms/step - loss: 0.3740 - accuracy: 0.8681 - val_loss: 0.3812 - val_accuracy: 0.8433\n",
      "Epoch 80/200\n",
      "117/117 [==============================] - 0s 3ms/step - loss: 0.3756 - accuracy: 0.8666 - val_loss: 0.3793 - val_accuracy: 0.8383\n",
      "Epoch 81/200\n",
      "117/117 [==============================] - 0s 3ms/step - loss: 0.3722 - accuracy: 0.8692 - val_loss: 0.3810 - val_accuracy: 0.8367\n",
      "Epoch 82/200\n",
      "117/117 [==============================] - 0s 3ms/step - loss: 0.3678 - accuracy: 0.8704 - val_loss: 0.3752 - val_accuracy: 0.8367\n",
      "Epoch 83/200\n",
      "117/117 [==============================] - 0s 3ms/step - loss: 0.3762 - accuracy: 0.8676 - val_loss: 0.3765 - val_accuracy: 0.8367\n",
      "Epoch 84/200\n",
      "117/117 [==============================] - 0s 3ms/step - loss: 0.3695 - accuracy: 0.8688 - val_loss: 0.3795 - val_accuracy: 0.8433\n",
      "Epoch 85/200\n",
      "117/117 [==============================] - 0s 3ms/step - loss: 0.3650 - accuracy: 0.8716 - val_loss: 0.3765 - val_accuracy: 0.8400\n",
      "Epoch 86/200\n",
      "117/117 [==============================] - 0s 3ms/step - loss: 0.3656 - accuracy: 0.8712 - val_loss: 0.3762 - val_accuracy: 0.8417\n",
      "Epoch 87/200\n",
      "117/117 [==============================] - 0s 3ms/step - loss: 0.3643 - accuracy: 0.8705 - val_loss: 0.3768 - val_accuracy: 0.8467\n",
      "Epoch 88/200\n",
      "117/117 [==============================] - 0s 3ms/step - loss: 0.3642 - accuracy: 0.8721 - val_loss: 0.3737 - val_accuracy: 0.8450\n",
      "Epoch 89/200\n",
      "117/117 [==============================] - 0s 3ms/step - loss: 0.3597 - accuracy: 0.8733 - val_loss: 0.3719 - val_accuracy: 0.8483\n",
      "Epoch 90/200\n",
      "117/117 [==============================] - 0s 3ms/step - loss: 0.3625 - accuracy: 0.8723 - val_loss: 0.3748 - val_accuracy: 0.8417\n",
      "Epoch 91/200\n",
      "117/117 [==============================] - 0s 3ms/step - loss: 0.3596 - accuracy: 0.8747 - val_loss: 0.3747 - val_accuracy: 0.8483\n",
      "Epoch 92/200\n",
      "117/117 [==============================] - 0s 3ms/step - loss: 0.3624 - accuracy: 0.8711 - val_loss: 0.3749 - val_accuracy: 0.8467\n",
      "Epoch 93/200\n",
      "117/117 [==============================] - 0s 3ms/step - loss: 0.3579 - accuracy: 0.8735 - val_loss: 0.3750 - val_accuracy: 0.8450\n",
      "Epoch 94/200\n",
      "117/117 [==============================] - 0s 3ms/step - loss: 0.3537 - accuracy: 0.8757 - val_loss: 0.3690 - val_accuracy: 0.8483\n",
      "Epoch 95/200\n",
      "117/117 [==============================] - 0s 3ms/step - loss: 0.3563 - accuracy: 0.8738 - val_loss: 0.3710 - val_accuracy: 0.8533\n",
      "Epoch 96/200\n",
      "117/117 [==============================] - 0s 3ms/step - loss: 0.3578 - accuracy: 0.8729 - val_loss: 0.3671 - val_accuracy: 0.8467\n",
      "Epoch 97/200\n",
      "117/117 [==============================] - 0s 3ms/step - loss: 0.3606 - accuracy: 0.8732 - val_loss: 0.3727 - val_accuracy: 0.8483\n",
      "Epoch 98/200\n",
      "117/117 [==============================] - 0s 3ms/step - loss: 0.3468 - accuracy: 0.8773 - val_loss: 0.3668 - val_accuracy: 0.8533\n",
      "Epoch 99/200\n",
      "117/117 [==============================] - 0s 3ms/step - loss: 0.3606 - accuracy: 0.8725 - val_loss: 0.3695 - val_accuracy: 0.8567\n",
      "Epoch 100/200\n",
      "117/117 [==============================] - 0s 3ms/step - loss: 0.3545 - accuracy: 0.8760 - val_loss: 0.3661 - val_accuracy: 0.8467\n",
      "Epoch 101/200\n",
      "117/117 [==============================] - 0s 3ms/step - loss: 0.3449 - accuracy: 0.8782 - val_loss: 0.3640 - val_accuracy: 0.8517\n",
      "Epoch 102/200\n",
      "117/117 [==============================] - 0s 3ms/step - loss: 0.3470 - accuracy: 0.8777 - val_loss: 0.3640 - val_accuracy: 0.8450\n",
      "Epoch 103/200\n",
      "117/117 [==============================] - 0s 3ms/step - loss: 0.3536 - accuracy: 0.8748 - val_loss: 0.3620 - val_accuracy: 0.8533\n",
      "Epoch 104/200\n",
      "117/117 [==============================] - 0s 3ms/step - loss: 0.3516 - accuracy: 0.8762 - val_loss: 0.3627 - val_accuracy: 0.8567\n",
      "Epoch 105/200\n",
      "117/117 [==============================] - 0s 3ms/step - loss: 0.3477 - accuracy: 0.8770 - val_loss: 0.3561 - val_accuracy: 0.8433\n",
      "Epoch 106/200\n",
      "117/117 [==============================] - 0s 3ms/step - loss: 0.3430 - accuracy: 0.8771 - val_loss: 0.3602 - val_accuracy: 0.8483\n",
      "Epoch 107/200\n",
      "117/117 [==============================] - 0s 3ms/step - loss: 0.3432 - accuracy: 0.8781 - val_loss: 0.3638 - val_accuracy: 0.8550\n",
      "Epoch 108/200\n",
      "117/117 [==============================] - 0s 3ms/step - loss: 0.3463 - accuracy: 0.8786 - val_loss: 0.3588 - val_accuracy: 0.8483\n",
      "Epoch 109/200\n",
      "117/117 [==============================] - 0s 3ms/step - loss: 0.3462 - accuracy: 0.8767 - val_loss: 0.3557 - val_accuracy: 0.8467\n",
      "Epoch 110/200\n",
      "117/117 [==============================] - 0s 3ms/step - loss: 0.3428 - accuracy: 0.8785 - val_loss: 0.3567 - val_accuracy: 0.8467\n",
      "Epoch 111/200\n",
      "117/117 [==============================] - 0s 3ms/step - loss: 0.3417 - accuracy: 0.8785 - val_loss: 0.3593 - val_accuracy: 0.8483\n",
      "Epoch 112/200\n",
      "117/117 [==============================] - 0s 3ms/step - loss: 0.3416 - accuracy: 0.8796 - val_loss: 0.3585 - val_accuracy: 0.8500\n",
      "Epoch 113/200\n",
      "117/117 [==============================] - 0s 3ms/step - loss: 0.3402 - accuracy: 0.8793 - val_loss: 0.3574 - val_accuracy: 0.8533\n",
      "Epoch 114/200\n",
      "117/117 [==============================] - 0s 3ms/step - loss: 0.3325 - accuracy: 0.8822 - val_loss: 0.3534 - val_accuracy: 0.8583\n",
      "Epoch 115/200\n",
      "117/117 [==============================] - 0s 3ms/step - loss: 0.3422 - accuracy: 0.8781 - val_loss: 0.3535 - val_accuracy: 0.8500\n",
      "Epoch 116/200\n",
      "117/117 [==============================] - 0s 3ms/step - loss: 0.3433 - accuracy: 0.8790 - val_loss: 0.3542 - val_accuracy: 0.8533\n",
      "Epoch 117/200\n",
      "117/117 [==============================] - 0s 3ms/step - loss: 0.3402 - accuracy: 0.8802 - val_loss: 0.3536 - val_accuracy: 0.8517\n",
      "Epoch 118/200\n",
      "117/117 [==============================] - 0s 3ms/step - loss: 0.3388 - accuracy: 0.8797 - val_loss: 0.3519 - val_accuracy: 0.8517\n",
      "Epoch 119/200\n",
      "117/117 [==============================] - 0s 3ms/step - loss: 0.3327 - accuracy: 0.8826 - val_loss: 0.3510 - val_accuracy: 0.8500\n",
      "Epoch 120/200\n",
      "117/117 [==============================] - 0s 3ms/step - loss: 0.3334 - accuracy: 0.8815 - val_loss: 0.3604 - val_accuracy: 0.8567\n",
      "Epoch 121/200\n",
      "117/117 [==============================] - 0s 3ms/step - loss: 0.3387 - accuracy: 0.8780 - val_loss: 0.3521 - val_accuracy: 0.8550\n",
      "Epoch 122/200\n",
      "117/117 [==============================] - 0s 3ms/step - loss: 0.3344 - accuracy: 0.8831 - val_loss: 0.3545 - val_accuracy: 0.8550\n",
      "Epoch 123/200\n",
      "117/117 [==============================] - 0s 3ms/step - loss: 0.3311 - accuracy: 0.8838 - val_loss: 0.3542 - val_accuracy: 0.8467\n",
      "Epoch 124/200\n",
      "117/117 [==============================] - 0s 3ms/step - loss: 0.3372 - accuracy: 0.8814 - val_loss: 0.3523 - val_accuracy: 0.8567\n",
      "Epoch 125/200\n",
      "117/117 [==============================] - 0s 3ms/step - loss: 0.3321 - accuracy: 0.8813 - val_loss: 0.3498 - val_accuracy: 0.8533\n",
      "Epoch 126/200\n",
      "117/117 [==============================] - 0s 4ms/step - loss: 0.3339 - accuracy: 0.8822 - val_loss: 0.3493 - val_accuracy: 0.8517\n",
      "Epoch 127/200\n",
      "117/117 [==============================] - 0s 3ms/step - loss: 0.3315 - accuracy: 0.8841 - val_loss: 0.3517 - val_accuracy: 0.8550\n",
      "Epoch 128/200\n",
      "117/117 [==============================] - 0s 3ms/step - loss: 0.3290 - accuracy: 0.8825 - val_loss: 0.3493 - val_accuracy: 0.8567\n",
      "Epoch 129/200\n",
      "117/117 [==============================] - 0s 4ms/step - loss: 0.3318 - accuracy: 0.8823 - val_loss: 0.3477 - val_accuracy: 0.8517\n",
      "Epoch 130/200\n",
      "117/117 [==============================] - 0s 3ms/step - loss: 0.3250 - accuracy: 0.8837 - val_loss: 0.3487 - val_accuracy: 0.8483\n",
      "Epoch 131/200\n",
      "117/117 [==============================] - 0s 3ms/step - loss: 0.3238 - accuracy: 0.8844 - val_loss: 0.3448 - val_accuracy: 0.8567\n",
      "Epoch 132/200\n",
      "117/117 [==============================] - 0s 3ms/step - loss: 0.3242 - accuracy: 0.8856 - val_loss: 0.3472 - val_accuracy: 0.8483\n",
      "Epoch 133/200\n",
      "117/117 [==============================] - 0s 3ms/step - loss: 0.3328 - accuracy: 0.8815 - val_loss: 0.3513 - val_accuracy: 0.8533\n",
      "Epoch 134/200\n",
      "117/117 [==============================] - 0s 3ms/step - loss: 0.3257 - accuracy: 0.8833 - val_loss: 0.3475 - val_accuracy: 0.8483\n",
      "Epoch 135/200\n",
      "117/117 [==============================] - 0s 3ms/step - loss: 0.3263 - accuracy: 0.8842 - val_loss: 0.3441 - val_accuracy: 0.8633\n",
      "Epoch 136/200\n",
      "117/117 [==============================] - 0s 3ms/step - loss: 0.3186 - accuracy: 0.8879 - val_loss: 0.3451 - val_accuracy: 0.8567\n",
      "Epoch 137/200\n",
      "117/117 [==============================] - 0s 3ms/step - loss: 0.3247 - accuracy: 0.8854 - val_loss: 0.3481 - val_accuracy: 0.8500\n",
      "Epoch 138/200\n",
      "117/117 [==============================] - 0s 3ms/step - loss: 0.3207 - accuracy: 0.8859 - val_loss: 0.3443 - val_accuracy: 0.8517\n",
      "Epoch 139/200\n",
      "117/117 [==============================] - 0s 3ms/step - loss: 0.3258 - accuracy: 0.8848 - val_loss: 0.3446 - val_accuracy: 0.8600\n",
      "Epoch 140/200\n",
      "117/117 [==============================] - 0s 3ms/step - loss: 0.3227 - accuracy: 0.8846 - val_loss: 0.3471 - val_accuracy: 0.8517\n",
      "Epoch 141/200\n",
      "117/117 [==============================] - 0s 3ms/step - loss: 0.3211 - accuracy: 0.8863 - val_loss: 0.3438 - val_accuracy: 0.8567\n",
      "Epoch 142/200\n",
      "117/117 [==============================] - 0s 3ms/step - loss: 0.3256 - accuracy: 0.8840 - val_loss: 0.3470 - val_accuracy: 0.8600\n",
      "Epoch 143/200\n",
      "117/117 [==============================] - 0s 3ms/step - loss: 0.3208 - accuracy: 0.8864 - val_loss: 0.3506 - val_accuracy: 0.8500\n",
      "Epoch 144/200\n",
      "117/117 [==============================] - 0s 3ms/step - loss: 0.3221 - accuracy: 0.8871 - val_loss: 0.3418 - val_accuracy: 0.8533\n",
      "Epoch 145/200\n",
      "117/117 [==============================] - 0s 3ms/step - loss: 0.3238 - accuracy: 0.8840 - val_loss: 0.3414 - val_accuracy: 0.8567\n",
      "Epoch 146/200\n",
      "117/117 [==============================] - 0s 3ms/step - loss: 0.3177 - accuracy: 0.8854 - val_loss: 0.3458 - val_accuracy: 0.8583\n",
      "Epoch 147/200\n",
      "117/117 [==============================] - 0s 3ms/step - loss: 0.3201 - accuracy: 0.8853 - val_loss: 0.3441 - val_accuracy: 0.8633\n",
      "Epoch 148/200\n",
      "117/117 [==============================] - 0s 3ms/step - loss: 0.3234 - accuracy: 0.8855 - val_loss: 0.3443 - val_accuracy: 0.8533\n",
      "Epoch 149/200\n",
      "117/117 [==============================] - 0s 3ms/step - loss: 0.3100 - accuracy: 0.8882 - val_loss: 0.3456 - val_accuracy: 0.8633\n",
      "Epoch 150/200\n",
      "117/117 [==============================] - 0s 3ms/step - loss: 0.3127 - accuracy: 0.8895 - val_loss: 0.3480 - val_accuracy: 0.8633\n",
      "Epoch 151/200\n",
      "117/117 [==============================] - 0s 3ms/step - loss: 0.3166 - accuracy: 0.8866 - val_loss: 0.3407 - val_accuracy: 0.8600\n",
      "Epoch 152/200\n",
      "117/117 [==============================] - 0s 3ms/step - loss: 0.3110 - accuracy: 0.8894 - val_loss: 0.3430 - val_accuracy: 0.8600\n",
      "Epoch 153/200\n",
      "117/117 [==============================] - 0s 3ms/step - loss: 0.3159 - accuracy: 0.8872 - val_loss: 0.3432 - val_accuracy: 0.8633\n",
      "Epoch 154/200\n",
      "117/117 [==============================] - 0s 3ms/step - loss: 0.3167 - accuracy: 0.8858 - val_loss: 0.3370 - val_accuracy: 0.8633\n",
      "Epoch 155/200\n",
      "117/117 [==============================] - 0s 4ms/step - loss: 0.3128 - accuracy: 0.8893 - val_loss: 0.3431 - val_accuracy: 0.8550\n",
      "Epoch 156/200\n",
      "117/117 [==============================] - 0s 4ms/step - loss: 0.3102 - accuracy: 0.8888 - val_loss: 0.3368 - val_accuracy: 0.8617\n",
      "Epoch 157/200\n",
      "117/117 [==============================] - 0s 4ms/step - loss: 0.3176 - accuracy: 0.8862 - val_loss: 0.3412 - val_accuracy: 0.8583\n",
      "Epoch 158/200\n",
      "117/117 [==============================] - 0s 3ms/step - loss: 0.3105 - accuracy: 0.8895 - val_loss: 0.3354 - val_accuracy: 0.8600\n",
      "Epoch 159/200\n",
      "117/117 [==============================] - 0s 3ms/step - loss: 0.3164 - accuracy: 0.8864 - val_loss: 0.3374 - val_accuracy: 0.8600\n",
      "Epoch 160/200\n",
      "117/117 [==============================] - 0s 3ms/step - loss: 0.3077 - accuracy: 0.8899 - val_loss: 0.3443 - val_accuracy: 0.8567\n",
      "Epoch 161/200\n",
      "117/117 [==============================] - 0s 4ms/step - loss: 0.3084 - accuracy: 0.8910 - val_loss: 0.3416 - val_accuracy: 0.8650\n",
      "Epoch 162/200\n",
      "117/117 [==============================] - 0s 4ms/step - loss: 0.3116 - accuracy: 0.8897 - val_loss: 0.3426 - val_accuracy: 0.8633\n",
      "Epoch 163/200\n",
      "117/117 [==============================] - 0s 3ms/step - loss: 0.3092 - accuracy: 0.8880 - val_loss: 0.3393 - val_accuracy: 0.8633\n",
      "Epoch 164/200\n",
      "117/117 [==============================] - 0s 3ms/step - loss: 0.3088 - accuracy: 0.8891 - val_loss: 0.3411 - val_accuracy: 0.8633\n",
      "Epoch 165/200\n",
      "117/117 [==============================] - 0s 3ms/step - loss: 0.3114 - accuracy: 0.8889 - val_loss: 0.3374 - val_accuracy: 0.8667\n",
      "Epoch 166/200\n",
      "117/117 [==============================] - 0s 3ms/step - loss: 0.3109 - accuracy: 0.8877 - val_loss: 0.3400 - val_accuracy: 0.8583\n",
      "Epoch 167/200\n",
      "117/117 [==============================] - 0s 3ms/step - loss: 0.3098 - accuracy: 0.8896 - val_loss: 0.3359 - val_accuracy: 0.8617\n",
      "Epoch 168/200\n",
      "117/117 [==============================] - 0s 3ms/step - loss: 0.3098 - accuracy: 0.8905 - val_loss: 0.3353 - val_accuracy: 0.8617\n",
      "Epoch 169/200\n",
      "117/117 [==============================] - 0s 3ms/step - loss: 0.3079 - accuracy: 0.8891 - val_loss: 0.3332 - val_accuracy: 0.8633\n",
      "Epoch 170/200\n",
      "117/117 [==============================] - 0s 3ms/step - loss: 0.3078 - accuracy: 0.8905 - val_loss: 0.3407 - val_accuracy: 0.8600\n",
      "Epoch 171/200\n",
      "117/117 [==============================] - 0s 3ms/step - loss: 0.3064 - accuracy: 0.8911 - val_loss: 0.3383 - val_accuracy: 0.8667\n",
      "Epoch 172/200\n",
      "117/117 [==============================] - 0s 3ms/step - loss: 0.3009 - accuracy: 0.8926 - val_loss: 0.3348 - val_accuracy: 0.8650\n",
      "Epoch 173/200\n",
      "117/117 [==============================] - 0s 3ms/step - loss: 0.3029 - accuracy: 0.8916 - val_loss: 0.3296 - val_accuracy: 0.8583\n",
      "Epoch 174/200\n",
      "117/117 [==============================] - 0s 4ms/step - loss: 0.3029 - accuracy: 0.8919 - val_loss: 0.3407 - val_accuracy: 0.8667\n",
      "Epoch 175/200\n",
      "117/117 [==============================] - 0s 3ms/step - loss: 0.3066 - accuracy: 0.8908 - val_loss: 0.3363 - val_accuracy: 0.8633\n",
      "Epoch 176/200\n",
      "117/117 [==============================] - 0s 3ms/step - loss: 0.3043 - accuracy: 0.8914 - val_loss: 0.3338 - val_accuracy: 0.8683\n",
      "Epoch 177/200\n",
      "117/117 [==============================] - 0s 3ms/step - loss: 0.3030 - accuracy: 0.8920 - val_loss: 0.3375 - val_accuracy: 0.8633\n",
      "Epoch 178/200\n",
      "117/117 [==============================] - 0s 4ms/step - loss: 0.3001 - accuracy: 0.8942 - val_loss: 0.3340 - val_accuracy: 0.8617\n",
      "Epoch 179/200\n",
      "117/117 [==============================] - 0s 3ms/step - loss: 0.2959 - accuracy: 0.8942 - val_loss: 0.3331 - val_accuracy: 0.8650\n",
      "Epoch 180/200\n",
      "117/117 [==============================] - 0s 4ms/step - loss: 0.3039 - accuracy: 0.8913 - val_loss: 0.3339 - val_accuracy: 0.8550\n",
      "Epoch 181/200\n",
      "117/117 [==============================] - 0s 3ms/step - loss: 0.2974 - accuracy: 0.8933 - val_loss: 0.3336 - val_accuracy: 0.8667\n",
      "Epoch 182/200\n",
      "117/117 [==============================] - 0s 4ms/step - loss: 0.3014 - accuracy: 0.8916 - val_loss: 0.3316 - val_accuracy: 0.8550\n",
      "Epoch 183/200\n",
      "117/117 [==============================] - 0s 4ms/step - loss: 0.2982 - accuracy: 0.8932 - val_loss: 0.3311 - val_accuracy: 0.8583\n",
      "Epoch 184/200\n",
      "117/117 [==============================] - 0s 3ms/step - loss: 0.2979 - accuracy: 0.8935 - val_loss: 0.3300 - val_accuracy: 0.8600\n",
      "Epoch 185/200\n",
      "117/117 [==============================] - 0s 3ms/step - loss: 0.3023 - accuracy: 0.8934 - val_loss: 0.3287 - val_accuracy: 0.8633\n",
      "Epoch 186/200\n",
      "117/117 [==============================] - 0s 3ms/step - loss: 0.2966 - accuracy: 0.8947 - val_loss: 0.3285 - val_accuracy: 0.8633\n",
      "Epoch 187/200\n",
      "117/117 [==============================] - 0s 3ms/step - loss: 0.3047 - accuracy: 0.8907 - val_loss: 0.3273 - val_accuracy: 0.8667\n",
      "Epoch 188/200\n",
      "117/117 [==============================] - 0s 3ms/step - loss: 0.2942 - accuracy: 0.8934 - val_loss: 0.3363 - val_accuracy: 0.8633\n",
      "Epoch 189/200\n",
      "117/117 [==============================] - 0s 3ms/step - loss: 0.2986 - accuracy: 0.8947 - val_loss: 0.3266 - val_accuracy: 0.8650\n",
      "Epoch 190/200\n",
      "117/117 [==============================] - 0s 3ms/step - loss: 0.2982 - accuracy: 0.8952 - val_loss: 0.3297 - val_accuracy: 0.8667\n",
      "Epoch 191/200\n",
      "117/117 [==============================] - 0s 3ms/step - loss: 0.2972 - accuracy: 0.8952 - val_loss: 0.3316 - val_accuracy: 0.8650\n",
      "Epoch 192/200\n",
      "117/117 [==============================] - 0s 3ms/step - loss: 0.2978 - accuracy: 0.8940 - val_loss: 0.3297 - val_accuracy: 0.8650\n",
      "Epoch 193/200\n",
      "117/117 [==============================] - 0s 3ms/step - loss: 0.2993 - accuracy: 0.8941 - val_loss: 0.3310 - val_accuracy: 0.8650\n",
      "Epoch 194/200\n",
      "117/117 [==============================] - 0s 3ms/step - loss: 0.2942 - accuracy: 0.8973 - val_loss: 0.3285 - val_accuracy: 0.8667\n",
      "Epoch 195/200\n",
      "117/117 [==============================] - 0s 2ms/step - loss: 0.2979 - accuracy: 0.8936 - val_loss: 0.3305 - val_accuracy: 0.8633\n",
      "Epoch 196/200\n",
      "117/117 [==============================] - 0s 3ms/step - loss: 0.2967 - accuracy: 0.8938 - val_loss: 0.3244 - val_accuracy: 0.8617\n",
      "Epoch 197/200\n",
      "117/117 [==============================] - 0s 3ms/step - loss: 0.2948 - accuracy: 0.8937 - val_loss: 0.3258 - val_accuracy: 0.8583\n",
      "Epoch 198/200\n",
      "117/117 [==============================] - 0s 3ms/step - loss: 0.2882 - accuracy: 0.8964 - val_loss: 0.3272 - val_accuracy: 0.8683\n",
      "Epoch 199/200\n",
      "117/117 [==============================] - 0s 3ms/step - loss: 0.2872 - accuracy: 0.8983 - val_loss: 0.3287 - val_accuracy: 0.8567\n",
      "Epoch 200/200\n",
      "117/117 [==============================] - 0s 3ms/step - loss: 0.2995 - accuracy: 0.8916 - val_loss: 0.3269 - val_accuracy: 0.8633\n"
     ]
    }
   ],
   "source": [
    "X_train, X_valid, y_train, y_valid = train_test_split(train_images, train_labels, test_size=0.01, random_state=101)\n",
    "X_train = X_train / 255.0\n",
    "X_valid = X_valid / 255.0\n",
    "\n",
    "#Dense layer만으로 만들어 낸 classification 모델입니다.\n",
    "model = keras.Sequential([\n",
    "    keras.layers.Flatten(input_shape=(28, 28)),\n",
    "    keras.layers.Dense(256, activation='relu'),\n",
    "    keras.layers.Dense(10, activation='softmax')\n",
    "])\n",
    "\n",
    "model.compile(optimizer='adam',loss='sparse_categorical_crossentropy',\n",
    "              metrics=['accuracy'])\n",
    "\n",
    "history= model.fit(X_train, y_train, epochs=200, batch_size=512, validation_data=(X_valid, y_valid))"
   ]
  },
  {
   "cell_type": "code",
   "execution_count": 47,
   "id": "former-traffic",
   "metadata": {},
   "outputs": [
    {
     "data": {
      "image/png": "[encoded data removed]",
      "text/plain": [
       "<Figure size 432x288 with 1 Axes>"
      ]
     },
     "metadata": {
      "needs_background": "light"
     },
     "output_type": "display_data"
    }
   ],
   "source": [
    "# loss 값을 plot 해보겠습니다.\n",
    "y_vloss = history.history['val_loss']\n",
    "y_loss = history.history['loss']\n",
    "x_len = np.arange(len(y_loss))\n",
    "\n",
    "plt.plot(x_len, y_vloss, marker='.', c='red', label=\"Validation-set Loss\")\n",
    "plt.plot(x_len, y_loss, marker='.', c='blue', label=\"Train-set Loss\")\n",
    "plt.legend(loc='upper right')\n",
    "plt.grid()\n",
    "plt.title('Loss graph without dropout layer') \n",
    "plt.ylim(0,1)\n",
    "plt.xlabel('epoch')\n",
    "plt.ylabel('loss')\n",
    "plt.show()"
   ]
  },
  {
   "cell_type": "code",
   "execution_count": 48,
   "id": "exposed-means",
   "metadata": {},
   "outputs": [
    {
     "data": {
      "image/png": "[encoded data removed]",
      "text/plain": [
       "<Figure size 432x288 with 1 Axes>"
      ]
     },
     "metadata": {
      "needs_background": "light"
     },
     "output_type": "display_data"
    }
   ],
   "source": [
    "# accuracy 값을 plot 해보겠습니다.\n",
    "y_vacc = history.history['val_accuracy']\n",
    "y_acc = history.history['accuracy']\n",
    "x_len = np.arange(len(y_acc))\n",
    "\n",
    "plt.plot(x_len, y_vacc, marker='.', c='red', label=\"Validation-set accuracy\")\n",
    "plt.plot(x_len, y_acc, marker='.', c='blue', label=\"Train-set accuracy\")\n",
    "plt.legend(loc='lower right')\n",
    "plt.grid()\n",
    "plt.ylim(0.5,1) \n",
    "plt.title('Accuracy graph without dropout layer') \n",
    "plt.xlabel('epoch')\n",
    "plt.ylabel('accuracy')\n",
    "plt.show()"
   ]
  },
  {
   "cell_type": "code",
   "execution_count": 49,
   "id": "allied-damages",
   "metadata": {},
   "outputs": [
    {
     "name": "stdout",
     "output_type": "stream",
     "text": [
      "Epoch 1/200\n",
      "117/117 [==============================] - 1s 4ms/step - loss: 2.2140 - accuracy: 0.4025 - val_loss: 1.6939 - val_accuracy: 0.5817\n",
      "Epoch 2/200\n",
      "117/117 [==============================] - 0s 3ms/step - loss: 1.5796 - accuracy: 0.5388 - val_loss: 1.2251 - val_accuracy: 0.6700\n",
      "Epoch 3/200\n",
      "117/117 [==============================] - 0s 3ms/step - loss: 1.2064 - accuracy: 0.6161 - val_loss: 1.0097 - val_accuracy: 0.7250\n",
      "Epoch 4/200\n",
      "117/117 [==============================] - 0s 3ms/step - loss: 1.0263 - accuracy: 0.6594 - val_loss: 0.8788 - val_accuracy: 0.7350\n",
      "Epoch 5/200\n",
      "117/117 [==============================] - 0s 3ms/step - loss: 0.9093 - accuracy: 0.6937 - val_loss: 0.7910 - val_accuracy: 0.7600\n",
      "Epoch 6/200\n",
      "117/117 [==============================] - 0s 3ms/step - loss: 0.8295 - accuracy: 0.7114 - val_loss: 0.7373 - val_accuracy: 0.7517\n",
      "Epoch 7/200\n",
      "117/117 [==============================] - 0s 3ms/step - loss: 0.7766 - accuracy: 0.7252 - val_loss: 0.6940 - val_accuracy: 0.7733\n",
      "Epoch 8/200\n",
      "117/117 [==============================] - 0s 3ms/step - loss: 0.7425 - accuracy: 0.7367 - val_loss: 0.6666 - val_accuracy: 0.7800\n",
      "Epoch 9/200\n",
      "117/117 [==============================] - 0s 3ms/step - loss: 0.7091 - accuracy: 0.7462 - val_loss: 0.6434 - val_accuracy: 0.7917\n",
      "Epoch 10/200\n",
      "117/117 [==============================] - 0s 3ms/step - loss: 0.6945 - accuracy: 0.7485 - val_loss: 0.6264 - val_accuracy: 0.7883\n",
      "Epoch 11/200\n",
      "117/117 [==============================] - 0s 3ms/step - loss: 0.6637 - accuracy: 0.7605 - val_loss: 0.6096 - val_accuracy: 0.7967\n",
      "Epoch 12/200\n",
      "117/117 [==============================] - 0s 3ms/step - loss: 0.6517 - accuracy: 0.7653 - val_loss: 0.5933 - val_accuracy: 0.7917\n",
      "Epoch 13/200\n",
      "117/117 [==============================] - 0s 3ms/step - loss: 0.6385 - accuracy: 0.7686 - val_loss: 0.5790 - val_accuracy: 0.7950\n",
      "Epoch 14/200\n",
      "117/117 [==============================] - 0s 3ms/step - loss: 0.6200 - accuracy: 0.7785 - val_loss: 0.5703 - val_accuracy: 0.7917\n",
      "Epoch 15/200\n",
      "117/117 [==============================] - 0s 3ms/step - loss: 0.6089 - accuracy: 0.7834 - val_loss: 0.5574 - val_accuracy: 0.7933\n",
      "Epoch 16/200\n",
      "117/117 [==============================] - 0s 3ms/step - loss: 0.5993 - accuracy: 0.7864 - val_loss: 0.5481 - val_accuracy: 0.7967\n",
      "Epoch 17/200\n",
      "117/117 [==============================] - 0s 3ms/step - loss: 0.5849 - accuracy: 0.7906 - val_loss: 0.5408 - val_accuracy: 0.7950\n",
      "Epoch 18/200\n",
      "117/117 [==============================] - 0s 3ms/step - loss: 0.5759 - accuracy: 0.7959 - val_loss: 0.5321 - val_accuracy: 0.8017\n",
      "Epoch 19/200\n",
      "117/117 [==============================] - 0s 3ms/step - loss: 0.5690 - accuracy: 0.7961 - val_loss: 0.5224 - val_accuracy: 0.8050\n",
      "Epoch 20/200\n",
      "117/117 [==============================] - 0s 3ms/step - loss: 0.5622 - accuracy: 0.8013 - val_loss: 0.5143 - val_accuracy: 0.8067\n",
      "Epoch 21/200\n",
      "117/117 [==============================] - 0s 3ms/step - loss: 0.5508 - accuracy: 0.8045 - val_loss: 0.5104 - val_accuracy: 0.8167\n",
      "Epoch 22/200\n",
      "117/117 [==============================] - 0s 3ms/step - loss: 0.5422 - accuracy: 0.8068 - val_loss: 0.5031 - val_accuracy: 0.8150\n",
      "Epoch 23/200\n",
      "117/117 [==============================] - 0s 3ms/step - loss: 0.5366 - accuracy: 0.8102 - val_loss: 0.4967 - val_accuracy: 0.8150\n",
      "Epoch 24/200\n",
      "117/117 [==============================] - 0s 3ms/step - loss: 0.5301 - accuracy: 0.8110 - val_loss: 0.4927 - val_accuracy: 0.8100\n",
      "Epoch 25/200\n",
      "117/117 [==============================] - 0s 3ms/step - loss: 0.5227 - accuracy: 0.8159 - val_loss: 0.4878 - val_accuracy: 0.8167\n",
      "Epoch 26/200\n",
      "117/117 [==============================] - 0s 3ms/step - loss: 0.5162 - accuracy: 0.8187 - val_loss: 0.4829 - val_accuracy: 0.8167\n",
      "Epoch 27/200\n",
      "117/117 [==============================] - 0s 3ms/step - loss: 0.5095 - accuracy: 0.8191 - val_loss: 0.4780 - val_accuracy: 0.8250\n",
      "Epoch 28/200\n",
      "117/117 [==============================] - 0s 3ms/step - loss: 0.5113 - accuracy: 0.8179 - val_loss: 0.4735 - val_accuracy: 0.8200\n",
      "Epoch 29/200\n",
      "117/117 [==============================] - 0s 3ms/step - loss: 0.5028 - accuracy: 0.8219 - val_loss: 0.4677 - val_accuracy: 0.8183\n",
      "Epoch 30/200\n",
      "117/117 [==============================] - 0s 3ms/step - loss: 0.5006 - accuracy: 0.8248 - val_loss: 0.4655 - val_accuracy: 0.8217\n",
      "Epoch 31/200\n",
      "117/117 [==============================] - 0s 3ms/step - loss: 0.4936 - accuracy: 0.8252 - val_loss: 0.4596 - val_accuracy: 0.8217\n",
      "Epoch 32/200\n",
      "117/117 [==============================] - 0s 3ms/step - loss: 0.4918 - accuracy: 0.8268 - val_loss: 0.4574 - val_accuracy: 0.8250\n",
      "Epoch 33/200\n",
      "117/117 [==============================] - 0s 3ms/step - loss: 0.4808 - accuracy: 0.8317 - val_loss: 0.4531 - val_accuracy: 0.8267\n",
      "Epoch 34/200\n",
      "117/117 [==============================] - 0s 3ms/step - loss: 0.4866 - accuracy: 0.8283 - val_loss: 0.4496 - val_accuracy: 0.8233\n",
      "Epoch 35/200\n",
      "117/117 [==============================] - 0s 3ms/step - loss: 0.4786 - accuracy: 0.8304 - val_loss: 0.4501 - val_accuracy: 0.8283\n",
      "Epoch 36/200\n",
      "117/117 [==============================] - 0s 3ms/step - loss: 0.4755 - accuracy: 0.8325 - val_loss: 0.4441 - val_accuracy: 0.8283\n",
      "Epoch 37/200\n",
      "117/117 [==============================] - 0s 3ms/step - loss: 0.4731 - accuracy: 0.8327 - val_loss: 0.4413 - val_accuracy: 0.8300\n",
      "Epoch 38/200\n",
      "117/117 [==============================] - 0s 3ms/step - loss: 0.4714 - accuracy: 0.8356 - val_loss: 0.4381 - val_accuracy: 0.8283\n",
      "Epoch 39/200\n",
      "117/117 [==============================] - 0s 3ms/step - loss: 0.4659 - accuracy: 0.8349 - val_loss: 0.4334 - val_accuracy: 0.8317\n",
      "Epoch 40/200\n",
      "117/117 [==============================] - 0s 3ms/step - loss: 0.4670 - accuracy: 0.8378 - val_loss: 0.4339 - val_accuracy: 0.8333\n",
      "Epoch 41/200\n",
      "117/117 [==============================] - 0s 3ms/step - loss: 0.4577 - accuracy: 0.8387 - val_loss: 0.4301 - val_accuracy: 0.8300\n",
      "Epoch 42/200\n",
      "117/117 [==============================] - 0s 3ms/step - loss: 0.4552 - accuracy: 0.8396 - val_loss: 0.4282 - val_accuracy: 0.8333\n",
      "Epoch 43/200\n",
      "117/117 [==============================] - 0s 3ms/step - loss: 0.4588 - accuracy: 0.8367 - val_loss: 0.4254 - val_accuracy: 0.8350\n",
      "Epoch 44/200\n",
      "117/117 [==============================] - 0s 3ms/step - loss: 0.4480 - accuracy: 0.8429 - val_loss: 0.4240 - val_accuracy: 0.8300\n",
      "Epoch 45/200\n",
      "117/117 [==============================] - 0s 3ms/step - loss: 0.4523 - accuracy: 0.8389 - val_loss: 0.4217 - val_accuracy: 0.8350\n",
      "Epoch 46/200\n",
      "117/117 [==============================] - 0s 3ms/step - loss: 0.4448 - accuracy: 0.8437 - val_loss: 0.4186 - val_accuracy: 0.8367\n",
      "Epoch 47/200\n",
      "117/117 [==============================] - 0s 3ms/step - loss: 0.4488 - accuracy: 0.8415 - val_loss: 0.4174 - val_accuracy: 0.8383\n",
      "Epoch 48/200\n",
      "117/117 [==============================] - 0s 3ms/step - loss: 0.4415 - accuracy: 0.8460 - val_loss: 0.4160 - val_accuracy: 0.8300\n",
      "Epoch 49/200\n",
      "117/117 [==============================] - 0s 3ms/step - loss: 0.4361 - accuracy: 0.8449 - val_loss: 0.4141 - val_accuracy: 0.8400\n",
      "Epoch 50/200\n",
      "117/117 [==============================] - 0s 3ms/step - loss: 0.4399 - accuracy: 0.8451 - val_loss: 0.4127 - val_accuracy: 0.8350\n",
      "Epoch 51/200\n",
      "117/117 [==============================] - 0s 3ms/step - loss: 0.4351 - accuracy: 0.8467 - val_loss: 0.4128 - val_accuracy: 0.8350\n",
      "Epoch 52/200\n",
      "117/117 [==============================] - 0s 3ms/step - loss: 0.4369 - accuracy: 0.8448 - val_loss: 0.4102 - val_accuracy: 0.8417\n",
      "Epoch 53/200\n",
      "117/117 [==============================] - 0s 3ms/step - loss: 0.4378 - accuracy: 0.8432 - val_loss: 0.4085 - val_accuracy: 0.8383\n",
      "Epoch 54/200\n",
      "117/117 [==============================] - 0s 3ms/step - loss: 0.4305 - accuracy: 0.8496 - val_loss: 0.4084 - val_accuracy: 0.8350\n",
      "Epoch 55/200\n",
      "117/117 [==============================] - 0s 3ms/step - loss: 0.4262 - accuracy: 0.8501 - val_loss: 0.4023 - val_accuracy: 0.8433\n",
      "Epoch 56/200\n",
      "117/117 [==============================] - 0s 3ms/step - loss: 0.4301 - accuracy: 0.8477 - val_loss: 0.4035 - val_accuracy: 0.8417\n",
      "Epoch 57/200\n",
      "117/117 [==============================] - 0s 3ms/step - loss: 0.4229 - accuracy: 0.8510 - val_loss: 0.4053 - val_accuracy: 0.8433\n",
      "Epoch 58/200\n",
      "117/117 [==============================] - 0s 3ms/step - loss: 0.4241 - accuracy: 0.8503 - val_loss: 0.4026 - val_accuracy: 0.8467\n",
      "Epoch 59/200\n",
      "117/117 [==============================] - 0s 3ms/step - loss: 0.4188 - accuracy: 0.8501 - val_loss: 0.3992 - val_accuracy: 0.8433\n",
      "Epoch 60/200\n",
      "117/117 [==============================] - 0s 3ms/step - loss: 0.4233 - accuracy: 0.8514 - val_loss: 0.3975 - val_accuracy: 0.8433\n",
      "Epoch 61/200\n",
      "117/117 [==============================] - 0s 3ms/step - loss: 0.4231 - accuracy: 0.8508 - val_loss: 0.3994 - val_accuracy: 0.8450\n",
      "Epoch 62/200\n",
      "117/117 [==============================] - 0s 3ms/step - loss: 0.4159 - accuracy: 0.8549 - val_loss: 0.3918 - val_accuracy: 0.8450\n",
      "Epoch 63/200\n",
      "117/117 [==============================] - 0s 3ms/step - loss: 0.4177 - accuracy: 0.8524 - val_loss: 0.3964 - val_accuracy: 0.8467\n",
      "Epoch 64/200\n",
      "117/117 [==============================] - 0s 3ms/step - loss: 0.4217 - accuracy: 0.8508 - val_loss: 0.3930 - val_accuracy: 0.8433\n",
      "Epoch 65/200\n",
      "117/117 [==============================] - 0s 3ms/step - loss: 0.4137 - accuracy: 0.8543 - val_loss: 0.3919 - val_accuracy: 0.8417\n",
      "Epoch 66/200\n",
      "117/117 [==============================] - 0s 3ms/step - loss: 0.4074 - accuracy: 0.8568 - val_loss: 0.3935 - val_accuracy: 0.8433\n",
      "Epoch 67/200\n",
      "117/117 [==============================] - 0s 3ms/step - loss: 0.4099 - accuracy: 0.8565 - val_loss: 0.3897 - val_accuracy: 0.8450\n",
      "Epoch 68/200\n",
      "117/117 [==============================] - 0s 3ms/step - loss: 0.4089 - accuracy: 0.8552 - val_loss: 0.3864 - val_accuracy: 0.8467\n",
      "Epoch 69/200\n",
      "117/117 [==============================] - 0s 3ms/step - loss: 0.4124 - accuracy: 0.8525 - val_loss: 0.3877 - val_accuracy: 0.8500\n",
      "Epoch 70/200\n",
      "117/117 [==============================] - 0s 3ms/step - loss: 0.4055 - accuracy: 0.8568 - val_loss: 0.3824 - val_accuracy: 0.8450\n",
      "Epoch 71/200\n",
      "117/117 [==============================] - 0s 3ms/step - loss: 0.3963 - accuracy: 0.8597 - val_loss: 0.3827 - val_accuracy: 0.8467\n",
      "Epoch 72/200\n",
      "117/117 [==============================] - 0s 3ms/step - loss: 0.4058 - accuracy: 0.8553 - val_loss: 0.3817 - val_accuracy: 0.8483\n",
      "Epoch 73/200\n",
      "117/117 [==============================] - 0s 3ms/step - loss: 0.3981 - accuracy: 0.8596 - val_loss: 0.3809 - val_accuracy: 0.8483\n",
      "Epoch 74/200\n",
      "117/117 [==============================] - 0s 3ms/step - loss: 0.4038 - accuracy: 0.8592 - val_loss: 0.3779 - val_accuracy: 0.8467\n",
      "Epoch 75/200\n",
      "117/117 [==============================] - 0s 3ms/step - loss: 0.3973 - accuracy: 0.8617 - val_loss: 0.3818 - val_accuracy: 0.8450\n",
      "Epoch 76/200\n",
      "117/117 [==============================] - 0s 3ms/step - loss: 0.4002 - accuracy: 0.8591 - val_loss: 0.3774 - val_accuracy: 0.8483\n",
      "Epoch 77/200\n",
      "117/117 [==============================] - 0s 3ms/step - loss: 0.4001 - accuracy: 0.8587 - val_loss: 0.3749 - val_accuracy: 0.8467\n",
      "Epoch 78/200\n",
      "117/117 [==============================] - 0s 3ms/step - loss: 0.3994 - accuracy: 0.8593 - val_loss: 0.3804 - val_accuracy: 0.8467\n",
      "Epoch 79/200\n",
      "117/117 [==============================] - 0s 3ms/step - loss: 0.3947 - accuracy: 0.8596 - val_loss: 0.3762 - val_accuracy: 0.8450\n",
      "Epoch 80/200\n",
      "117/117 [==============================] - 0s 3ms/step - loss: 0.3942 - accuracy: 0.8593 - val_loss: 0.3766 - val_accuracy: 0.8450\n",
      "Epoch 81/200\n",
      "117/117 [==============================] - 0s 3ms/step - loss: 0.3981 - accuracy: 0.8606 - val_loss: 0.3750 - val_accuracy: 0.8450\n",
      "Epoch 82/200\n",
      "117/117 [==============================] - 0s 3ms/step - loss: 0.3977 - accuracy: 0.8583 - val_loss: 0.3719 - val_accuracy: 0.8450\n",
      "Epoch 83/200\n",
      "117/117 [==============================] - 0s 3ms/step - loss: 0.3996 - accuracy: 0.8593 - val_loss: 0.3726 - val_accuracy: 0.8450\n",
      "Epoch 84/200\n",
      "117/117 [==============================] - 0s 3ms/step - loss: 0.3856 - accuracy: 0.8627 - val_loss: 0.3729 - val_accuracy: 0.8433\n",
      "Epoch 85/200\n",
      "117/117 [==============================] - 0s 3ms/step - loss: 0.3887 - accuracy: 0.8620 - val_loss: 0.3716 - val_accuracy: 0.8517\n",
      "Epoch 86/200\n",
      "117/117 [==============================] - 0s 3ms/step - loss: 0.3856 - accuracy: 0.8658 - val_loss: 0.3696 - val_accuracy: 0.8500\n",
      "Epoch 87/200\n",
      "117/117 [==============================] - 0s 3ms/step - loss: 0.3890 - accuracy: 0.8648 - val_loss: 0.3660 - val_accuracy: 0.8467\n",
      "Epoch 88/200\n",
      "117/117 [==============================] - 0s 3ms/step - loss: 0.3905 - accuracy: 0.8616 - val_loss: 0.3682 - val_accuracy: 0.8483\n",
      "Epoch 89/200\n",
      "117/117 [==============================] - 0s 3ms/step - loss: 0.3858 - accuracy: 0.8657 - val_loss: 0.3668 - val_accuracy: 0.8500\n",
      "Epoch 90/200\n",
      "117/117 [==============================] - 0s 3ms/step - loss: 0.3865 - accuracy: 0.8643 - val_loss: 0.3662 - val_accuracy: 0.8467\n",
      "Epoch 91/200\n",
      "117/117 [==============================] - 0s 3ms/step - loss: 0.3795 - accuracy: 0.8635 - val_loss: 0.3674 - val_accuracy: 0.8483\n",
      "Epoch 92/200\n",
      "117/117 [==============================] - 0s 3ms/step - loss: 0.3842 - accuracy: 0.8652 - val_loss: 0.3624 - val_accuracy: 0.8433\n",
      "Epoch 93/200\n",
      "117/117 [==============================] - 0s 3ms/step - loss: 0.3813 - accuracy: 0.8634 - val_loss: 0.3641 - val_accuracy: 0.8450\n",
      "Epoch 94/200\n",
      "117/117 [==============================] - 0s 3ms/step - loss: 0.3796 - accuracy: 0.8659 - val_loss: 0.3654 - val_accuracy: 0.8533\n",
      "Epoch 95/200\n",
      "117/117 [==============================] - 0s 3ms/step - loss: 0.3832 - accuracy: 0.8647 - val_loss: 0.3611 - val_accuracy: 0.8467\n",
      "Epoch 96/200\n",
      "117/117 [==============================] - 0s 3ms/step - loss: 0.3784 - accuracy: 0.8664 - val_loss: 0.3640 - val_accuracy: 0.8450\n",
      "Epoch 97/200\n",
      "117/117 [==============================] - 0s 3ms/step - loss: 0.3819 - accuracy: 0.8655 - val_loss: 0.3609 - val_accuracy: 0.8467\n",
      "Epoch 98/200\n",
      "117/117 [==============================] - 0s 3ms/step - loss: 0.3802 - accuracy: 0.8657 - val_loss: 0.3625 - val_accuracy: 0.8550\n",
      "Epoch 99/200\n",
      "117/117 [==============================] - 0s 3ms/step - loss: 0.3773 - accuracy: 0.8654 - val_loss: 0.3587 - val_accuracy: 0.8517\n",
      "Epoch 100/200\n",
      "117/117 [==============================] - 0s 3ms/step - loss: 0.3744 - accuracy: 0.8688 - val_loss: 0.3594 - val_accuracy: 0.8483\n",
      "Epoch 101/200\n",
      "117/117 [==============================] - 0s 3ms/step - loss: 0.3752 - accuracy: 0.8657 - val_loss: 0.3616 - val_accuracy: 0.8517\n",
      "Epoch 102/200\n",
      "117/117 [==============================] - 0s 3ms/step - loss: 0.3761 - accuracy: 0.8679 - val_loss: 0.3586 - val_accuracy: 0.8600\n",
      "Epoch 103/200\n",
      "117/117 [==============================] - 0s 3ms/step - loss: 0.3726 - accuracy: 0.8682 - val_loss: 0.3573 - val_accuracy: 0.8567\n",
      "Epoch 104/200\n",
      "117/117 [==============================] - 0s 3ms/step - loss: 0.3787 - accuracy: 0.8670 - val_loss: 0.3607 - val_accuracy: 0.8517\n",
      "Epoch 105/200\n",
      "117/117 [==============================] - 0s 3ms/step - loss: 0.3742 - accuracy: 0.8677 - val_loss: 0.3580 - val_accuracy: 0.8533\n",
      "Epoch 106/200\n",
      "117/117 [==============================] - 0s 3ms/step - loss: 0.3717 - accuracy: 0.8696 - val_loss: 0.3541 - val_accuracy: 0.8533\n",
      "Epoch 107/200\n",
      "117/117 [==============================] - 0s 3ms/step - loss: 0.3737 - accuracy: 0.8676 - val_loss: 0.3535 - val_accuracy: 0.8483\n",
      "Epoch 108/200\n",
      "117/117 [==============================] - 0s 3ms/step - loss: 0.3744 - accuracy: 0.8673 - val_loss: 0.3529 - val_accuracy: 0.8517\n",
      "Epoch 109/200\n",
      "117/117 [==============================] - 0s 3ms/step - loss: 0.3705 - accuracy: 0.8685 - val_loss: 0.3556 - val_accuracy: 0.8467\n",
      "Epoch 110/200\n",
      "117/117 [==============================] - 0s 3ms/step - loss: 0.3714 - accuracy: 0.8699 - val_loss: 0.3516 - val_accuracy: 0.8517\n",
      "Epoch 111/200\n",
      "117/117 [==============================] - 0s 3ms/step - loss: 0.3682 - accuracy: 0.8706 - val_loss: 0.3538 - val_accuracy: 0.8517\n",
      "Epoch 112/200\n",
      "117/117 [==============================] - 0s 3ms/step - loss: 0.3670 - accuracy: 0.8722 - val_loss: 0.3486 - val_accuracy: 0.8500\n",
      "Epoch 113/200\n",
      "117/117 [==============================] - 0s 3ms/step - loss: 0.3681 - accuracy: 0.8695 - val_loss: 0.3495 - val_accuracy: 0.8517\n",
      "Epoch 114/200\n",
      "117/117 [==============================] - 0s 3ms/step - loss: 0.3673 - accuracy: 0.8713 - val_loss: 0.3512 - val_accuracy: 0.8567\n",
      "Epoch 115/200\n",
      "117/117 [==============================] - 0s 3ms/step - loss: 0.3567 - accuracy: 0.8733 - val_loss: 0.3505 - val_accuracy: 0.8533\n",
      "Epoch 116/200\n",
      "117/117 [==============================] - 0s 3ms/step - loss: 0.3641 - accuracy: 0.8727 - val_loss: 0.3500 - val_accuracy: 0.8517\n",
      "Epoch 117/200\n",
      "117/117 [==============================] - 0s 3ms/step - loss: 0.3629 - accuracy: 0.8720 - val_loss: 0.3502 - val_accuracy: 0.8517\n",
      "Epoch 118/200\n",
      "117/117 [==============================] - 0s 3ms/step - loss: 0.3628 - accuracy: 0.8721 - val_loss: 0.3463 - val_accuracy: 0.8583\n",
      "Epoch 119/200\n",
      "117/117 [==============================] - 0s 3ms/step - loss: 0.3629 - accuracy: 0.8713 - val_loss: 0.3475 - val_accuracy: 0.8600\n",
      "Epoch 120/200\n",
      "117/117 [==============================] - 0s 3ms/step - loss: 0.3580 - accuracy: 0.8722 - val_loss: 0.3451 - val_accuracy: 0.8483\n",
      "Epoch 121/200\n",
      "117/117 [==============================] - 0s 3ms/step - loss: 0.3673 - accuracy: 0.8706 - val_loss: 0.3474 - val_accuracy: 0.8583\n",
      "Epoch 122/200\n",
      "117/117 [==============================] - 0s 3ms/step - loss: 0.3613 - accuracy: 0.8699 - val_loss: 0.3473 - val_accuracy: 0.8517\n",
      "Epoch 123/200\n",
      "117/117 [==============================] - 0s 3ms/step - loss: 0.3613 - accuracy: 0.8714 - val_loss: 0.3438 - val_accuracy: 0.8533\n",
      "Epoch 124/200\n",
      "117/117 [==============================] - 0s 3ms/step - loss: 0.3599 - accuracy: 0.8707 - val_loss: 0.3458 - val_accuracy: 0.8500\n",
      "Epoch 125/200\n",
      "117/117 [==============================] - 0s 3ms/step - loss: 0.3535 - accuracy: 0.8759 - val_loss: 0.3472 - val_accuracy: 0.8567\n",
      "Epoch 126/200\n",
      "117/117 [==============================] - 0s 3ms/step - loss: 0.3619 - accuracy: 0.8714 - val_loss: 0.3466 - val_accuracy: 0.8650\n",
      "Epoch 127/200\n",
      "117/117 [==============================] - 0s 3ms/step - loss: 0.3586 - accuracy: 0.8713 - val_loss: 0.3419 - val_accuracy: 0.8567\n",
      "Epoch 128/200\n",
      "117/117 [==============================] - 0s 3ms/step - loss: 0.3541 - accuracy: 0.8771 - val_loss: 0.3402 - val_accuracy: 0.8567\n",
      "Epoch 129/200\n",
      "117/117 [==============================] - 0s 3ms/step - loss: 0.3503 - accuracy: 0.8756 - val_loss: 0.3412 - val_accuracy: 0.8517\n",
      "Epoch 130/200\n",
      "117/117 [==============================] - 0s 3ms/step - loss: 0.3531 - accuracy: 0.8732 - val_loss: 0.3436 - val_accuracy: 0.8600\n",
      "Epoch 131/200\n",
      "117/117 [==============================] - 0s 3ms/step - loss: 0.3576 - accuracy: 0.8738 - val_loss: 0.3390 - val_accuracy: 0.8600\n",
      "Epoch 132/200\n",
      "117/117 [==============================] - 0s 3ms/step - loss: 0.3538 - accuracy: 0.8751 - val_loss: 0.3395 - val_accuracy: 0.8567\n",
      "Epoch 133/200\n",
      "117/117 [==============================] - 0s 3ms/step - loss: 0.3514 - accuracy: 0.8734 - val_loss: 0.3428 - val_accuracy: 0.8583\n",
      "Epoch 134/200\n",
      "117/117 [==============================] - 0s 3ms/step - loss: 0.3530 - accuracy: 0.8742 - val_loss: 0.3426 - val_accuracy: 0.8600\n",
      "Epoch 135/200\n",
      "117/117 [==============================] - 0s 3ms/step - loss: 0.3517 - accuracy: 0.8755 - val_loss: 0.3395 - val_accuracy: 0.8550\n",
      "Epoch 136/200\n",
      "117/117 [==============================] - 0s 3ms/step - loss: 0.3476 - accuracy: 0.8752 - val_loss: 0.3386 - val_accuracy: 0.8550\n",
      "Epoch 137/200\n",
      "117/117 [==============================] - 0s 3ms/step - loss: 0.3471 - accuracy: 0.8762 - val_loss: 0.3388 - val_accuracy: 0.8550\n",
      "Epoch 138/200\n",
      "117/117 [==============================] - 0s 3ms/step - loss: 0.3567 - accuracy: 0.8755 - val_loss: 0.3365 - val_accuracy: 0.8567\n",
      "Epoch 139/200\n",
      "117/117 [==============================] - 0s 3ms/step - loss: 0.3447 - accuracy: 0.8783 - val_loss: 0.3404 - val_accuracy: 0.8533\n",
      "Epoch 140/200\n",
      "117/117 [==============================] - 0s 3ms/step - loss: 0.3502 - accuracy: 0.8764 - val_loss: 0.3413 - val_accuracy: 0.8650\n",
      "Epoch 141/200\n",
      "117/117 [==============================] - 0s 3ms/step - loss: 0.3480 - accuracy: 0.8772 - val_loss: 0.3350 - val_accuracy: 0.8617\n",
      "Epoch 142/200\n",
      "117/117 [==============================] - 0s 3ms/step - loss: 0.3447 - accuracy: 0.8778 - val_loss: 0.3375 - val_accuracy: 0.8583\n",
      "Epoch 143/200\n",
      "117/117 [==============================] - 0s 3ms/step - loss: 0.3495 - accuracy: 0.8749 - val_loss: 0.3346 - val_accuracy: 0.8567\n",
      "Epoch 144/200\n",
      "117/117 [==============================] - 0s 3ms/step - loss: 0.3549 - accuracy: 0.8753 - val_loss: 0.3369 - val_accuracy: 0.8567\n",
      "Epoch 145/200\n",
      "117/117 [==============================] - 0s 3ms/step - loss: 0.3489 - accuracy: 0.8761 - val_loss: 0.3376 - val_accuracy: 0.8617\n",
      "Epoch 146/200\n",
      "117/117 [==============================] - 0s 3ms/step - loss: 0.3416 - accuracy: 0.8788 - val_loss: 0.3361 - val_accuracy: 0.8617\n",
      "Epoch 147/200\n",
      "117/117 [==============================] - 0s 3ms/step - loss: 0.3379 - accuracy: 0.8816 - val_loss: 0.3335 - val_accuracy: 0.8550\n",
      "Epoch 148/200\n",
      "117/117 [==============================] - 0s 3ms/step - loss: 0.3477 - accuracy: 0.8770 - val_loss: 0.3373 - val_accuracy: 0.8617\n",
      "Epoch 149/200\n",
      "117/117 [==============================] - 0s 3ms/step - loss: 0.3445 - accuracy: 0.8770 - val_loss: 0.3318 - val_accuracy: 0.8617\n",
      "Epoch 150/200\n",
      "117/117 [==============================] - 0s 3ms/step - loss: 0.3397 - accuracy: 0.8781 - val_loss: 0.3343 - val_accuracy: 0.8600\n",
      "Epoch 151/200\n",
      "117/117 [==============================] - 0s 3ms/step - loss: 0.3407 - accuracy: 0.8801 - val_loss: 0.3333 - val_accuracy: 0.8567\n",
      "Epoch 152/200\n",
      "117/117 [==============================] - 0s 3ms/step - loss: 0.3410 - accuracy: 0.8791 - val_loss: 0.3303 - val_accuracy: 0.8633\n",
      "Epoch 153/200\n",
      "117/117 [==============================] - 0s 3ms/step - loss: 0.3427 - accuracy: 0.8786 - val_loss: 0.3348 - val_accuracy: 0.8667\n",
      "Epoch 154/200\n",
      "117/117 [==============================] - 0s 3ms/step - loss: 0.3393 - accuracy: 0.8805 - val_loss: 0.3333 - val_accuracy: 0.8567\n",
      "Epoch 155/200\n",
      "117/117 [==============================] - 0s 3ms/step - loss: 0.3404 - accuracy: 0.8797 - val_loss: 0.3320 - val_accuracy: 0.8633\n",
      "Epoch 156/200\n",
      "117/117 [==============================] - 0s 3ms/step - loss: 0.3365 - accuracy: 0.8806 - val_loss: 0.3341 - val_accuracy: 0.8583\n",
      "Epoch 157/200\n",
      "117/117 [==============================] - 0s 3ms/step - loss: 0.3444 - accuracy: 0.8756 - val_loss: 0.3329 - val_accuracy: 0.8633\n",
      "Epoch 158/200\n",
      "117/117 [==============================] - 0s 3ms/step - loss: 0.3390 - accuracy: 0.8794 - val_loss: 0.3333 - val_accuracy: 0.8667\n",
      "Epoch 159/200\n",
      "117/117 [==============================] - 0s 3ms/step - loss: 0.3423 - accuracy: 0.8797 - val_loss: 0.3330 - val_accuracy: 0.8667\n",
      "Epoch 160/200\n",
      "117/117 [==============================] - 0s 3ms/step - loss: 0.3321 - accuracy: 0.8811 - val_loss: 0.3337 - val_accuracy: 0.8633\n",
      "Epoch 161/200\n",
      "117/117 [==============================] - 0s 3ms/step - loss: 0.3406 - accuracy: 0.8798 - val_loss: 0.3316 - val_accuracy: 0.8633\n",
      "Epoch 162/200\n",
      "117/117 [==============================] - 0s 3ms/step - loss: 0.3369 - accuracy: 0.8816 - val_loss: 0.3305 - val_accuracy: 0.8683\n",
      "Epoch 163/200\n",
      "117/117 [==============================] - 0s 3ms/step - loss: 0.3378 - accuracy: 0.8810 - val_loss: 0.3278 - val_accuracy: 0.8717\n",
      "Epoch 164/200\n",
      "117/117 [==============================] - 0s 3ms/step - loss: 0.3330 - accuracy: 0.8807 - val_loss: 0.3273 - val_accuracy: 0.8667\n",
      "Epoch 165/200\n",
      "117/117 [==============================] - 0s 3ms/step - loss: 0.3325 - accuracy: 0.8813 - val_loss: 0.3282 - val_accuracy: 0.8667\n",
      "Epoch 166/200\n",
      "117/117 [==============================] - 0s 3ms/step - loss: 0.3344 - accuracy: 0.8814 - val_loss: 0.3283 - val_accuracy: 0.8700\n",
      "Epoch 167/200\n",
      "117/117 [==============================] - 0s 3ms/step - loss: 0.3358 - accuracy: 0.8805 - val_loss: 0.3272 - val_accuracy: 0.8667\n",
      "Epoch 168/200\n",
      "117/117 [==============================] - 0s 3ms/step - loss: 0.3307 - accuracy: 0.8823 - val_loss: 0.3286 - val_accuracy: 0.8667\n",
      "Epoch 169/200\n",
      "117/117 [==============================] - 0s 3ms/step - loss: 0.3301 - accuracy: 0.8821 - val_loss: 0.3288 - val_accuracy: 0.8683\n",
      "Epoch 170/200\n",
      "117/117 [==============================] - 0s 3ms/step - loss: 0.3291 - accuracy: 0.8829 - val_loss: 0.3268 - val_accuracy: 0.8650\n",
      "Epoch 171/200\n",
      "117/117 [==============================] - 0s 3ms/step - loss: 0.3288 - accuracy: 0.8814 - val_loss: 0.3253 - val_accuracy: 0.8683\n",
      "Epoch 172/200\n",
      "117/117 [==============================] - 0s 3ms/step - loss: 0.3345 - accuracy: 0.8813 - val_loss: 0.3281 - val_accuracy: 0.8700\n",
      "Epoch 173/200\n",
      "117/117 [==============================] - 0s 3ms/step - loss: 0.3342 - accuracy: 0.8819 - val_loss: 0.3254 - val_accuracy: 0.8650\n",
      "Epoch 174/200\n",
      "117/117 [==============================] - 0s 3ms/step - loss: 0.3334 - accuracy: 0.8812 - val_loss: 0.3265 - val_accuracy: 0.8700\n",
      "Epoch 175/200\n",
      "117/117 [==============================] - 0s 3ms/step - loss: 0.3375 - accuracy: 0.8801 - val_loss: 0.3236 - val_accuracy: 0.8650\n",
      "Epoch 176/200\n",
      "117/117 [==============================] - 0s 3ms/step - loss: 0.3271 - accuracy: 0.8845 - val_loss: 0.3251 - val_accuracy: 0.8683\n",
      "Epoch 177/200\n",
      "117/117 [==============================] - 0s 3ms/step - loss: 0.3315 - accuracy: 0.8824 - val_loss: 0.3230 - val_accuracy: 0.8667\n",
      "Epoch 178/200\n",
      "117/117 [==============================] - 0s 3ms/step - loss: 0.3286 - accuracy: 0.8815 - val_loss: 0.3251 - val_accuracy: 0.8683\n",
      "Epoch 179/200\n",
      "117/117 [==============================] - 0s 3ms/step - loss: 0.3265 - accuracy: 0.8840 - val_loss: 0.3253 - val_accuracy: 0.8633\n",
      "Epoch 180/200\n",
      "117/117 [==============================] - 0s 3ms/step - loss: 0.3277 - accuracy: 0.8853 - val_loss: 0.3243 - val_accuracy: 0.8650\n",
      "Epoch 181/200\n",
      "117/117 [==============================] - 0s 3ms/step - loss: 0.3244 - accuracy: 0.8847 - val_loss: 0.3217 - val_accuracy: 0.8700\n",
      "Epoch 182/200\n",
      "117/117 [==============================] - 0s 3ms/step - loss: 0.3268 - accuracy: 0.8853 - val_loss: 0.3294 - val_accuracy: 0.8683\n",
      "Epoch 183/200\n",
      "117/117 [==============================] - 0s 3ms/step - loss: 0.3232 - accuracy: 0.8844 - val_loss: 0.3250 - val_accuracy: 0.8700\n",
      "Epoch 184/200\n",
      "117/117 [==============================] - 0s 3ms/step - loss: 0.3238 - accuracy: 0.8837 - val_loss: 0.3218 - val_accuracy: 0.8700\n",
      "Epoch 185/200\n",
      "117/117 [==============================] - 0s 3ms/step - loss: 0.3268 - accuracy: 0.8839 - val_loss: 0.3210 - val_accuracy: 0.8733\n",
      "Epoch 186/200\n",
      "117/117 [==============================] - 0s 3ms/step - loss: 0.3229 - accuracy: 0.8865 - val_loss: 0.3181 - val_accuracy: 0.8650\n",
      "Epoch 187/200\n",
      "117/117 [==============================] - 0s 3ms/step - loss: 0.3243 - accuracy: 0.8843 - val_loss: 0.3224 - val_accuracy: 0.8667\n",
      "Epoch 188/200\n",
      "117/117 [==============================] - 0s 3ms/step - loss: 0.3257 - accuracy: 0.8840 - val_loss: 0.3211 - val_accuracy: 0.8733\n",
      "Epoch 189/200\n",
      "117/117 [==============================] - 0s 3ms/step - loss: 0.3310 - accuracy: 0.8822 - val_loss: 0.3216 - val_accuracy: 0.8700\n",
      "Epoch 190/200\n",
      "117/117 [==============================] - 0s 3ms/step - loss: 0.3217 - accuracy: 0.8860 - val_loss: 0.3207 - val_accuracy: 0.8667\n",
      "Epoch 191/200\n",
      "117/117 [==============================] - 0s 3ms/step - loss: 0.3214 - accuracy: 0.8875 - val_loss: 0.3229 - val_accuracy: 0.8717\n",
      "Epoch 192/200\n",
      "117/117 [==============================] - 0s 3ms/step - loss: 0.3206 - accuracy: 0.8873 - val_loss: 0.3230 - val_accuracy: 0.8617\n",
      "Epoch 193/200\n",
      "117/117 [==============================] - 0s 3ms/step - loss: 0.3277 - accuracy: 0.8857 - val_loss: 0.3192 - val_accuracy: 0.8683\n",
      "Epoch 194/200\n",
      "117/117 [==============================] - 0s 3ms/step - loss: 0.3176 - accuracy: 0.8856 - val_loss: 0.3193 - val_accuracy: 0.8700\n",
      "Epoch 195/200\n",
      "117/117 [==============================] - 0s 3ms/step - loss: 0.3209 - accuracy: 0.8869 - val_loss: 0.3217 - val_accuracy: 0.8667\n",
      "Epoch 196/200\n",
      "117/117 [==============================] - 0s 3ms/step - loss: 0.3133 - accuracy: 0.8894 - val_loss: 0.3193 - val_accuracy: 0.8733\n",
      "Epoch 197/200\n",
      "117/117 [==============================] - 0s 3ms/step - loss: 0.3210 - accuracy: 0.8848 - val_loss: 0.3185 - val_accuracy: 0.8783\n",
      "Epoch 198/200\n",
      "117/117 [==============================] - 0s 3ms/step - loss: 0.3272 - accuracy: 0.8835 - val_loss: 0.3180 - val_accuracy: 0.8700\n",
      "Epoch 199/200\n",
      "117/117 [==============================] - 0s 3ms/step - loss: 0.3196 - accuracy: 0.8857 - val_loss: 0.3197 - val_accuracy: 0.8667\n",
      "Epoch 200/200\n",
      "117/117 [==============================] - 0s 3ms/step - loss: 0.3185 - accuracy: 0.8875 - val_loss: 0.3204 - val_accuracy: 0.8667\n"
     ]
    }
   ],
   "source": [
    "model = keras.Sequential([\n",
    "    keras.layers.Flatten(input_shape=(28, 28)),\n",
    "    keras.layers.Dense(256, activation='relu'),\n",
    "    # 여기에 dropout layer를 추가해보았습니다. 나머지 layer는 위의 실습과 같습니다. \n",
    "    keras.layers.Dropout(0.5),\n",
    "    keras.layers.Dense(10, activation='softmax')\n",
    "])\n",
    "\n",
    "model.compile(optimizer='adam',loss='sparse_categorical_crossentropy',\n",
    "              metrics=['accuracy'])\n",
    "\n",
    "history= model.fit(X_train, y_train, epochs=200, batch_size=512, validation_data=(X_valid, y_valid))"
   ]
  },
  {
   "cell_type": "code",
   "execution_count": 50,
   "id": "starting-chinese",
   "metadata": {},
   "outputs": [
    {
     "data": {
      "image/png": "[encoded data removed]",
      "text/plain": [
       "<Figure size 432x288 with 1 Axes>"
      ]
     },
     "metadata": {
      "needs_background": "light"
     },
     "output_type": "display_data"
    }
   ],
   "source": [
    "# loss 값을 plot 해보겠습니다. \n",
    "y_vloss = history.history['val_loss']\n",
    "y_loss = history.history['loss']\n",
    "x_len = np.arange(len(y_loss))\n",
    "\n",
    "plt.plot(x_len, y_vloss, marker='.', c='red', label=\"Validation-set Loss\")\n",
    "plt.plot(x_len, y_loss, marker='.', c='blue', label=\"Train-set Loss\")\n",
    "plt.legend(loc='upper right')\n",
    "plt.grid()\n",
    "plt.ylim(0,1)\n",
    "plt.title('Loss graph with dropout layer') \n",
    "plt.xlabel('epoch')\n",
    "plt.ylabel('loss')\n",
    "plt.show()"
   ]
  },
  {
   "cell_type": "code",
   "execution_count": 51,
   "id": "revised-gasoline",
   "metadata": {},
   "outputs": [
    {
     "data": {
      "image/png": "[encoded data removed]",
      "text/plain": [
       "<Figure size 432x288 with 1 Axes>"
      ]
     },
     "metadata": {
      "needs_background": "light"
     },
     "output_type": "display_data"
    }
   ],
   "source": [
    "# accuracy 값을 plot 해보겠습니다. \n",
    "y_vacc = history.history['val_accuracy']\n",
    "y_acc = history.history['accuracy']\n",
    "x_len = np.arange(len(y_acc))\n",
    "\n",
    "plt.plot(x_len, y_vacc, marker='.', c='red', label=\"Validation-set accuracy\")\n",
    "plt.plot(x_len, y_acc, marker='.', c='blue', label=\"Train-set accuracy\")\n",
    "plt.legend(loc='lower right')\n",
    "plt.grid()\n",
    "plt.ylim(0.5,1) \n",
    "plt.title('Accuracy graph with dropout layer') \n",
    "plt.xlabel('epoch')\n",
    "plt.ylabel('accuracy')\n",
    "plt.show()"
   ]
  },
  {
   "cell_type": "markdown",
   "id": "beautiful-symphony",
   "metadata": {},
   "source": [
    "## Batch Normalization"
   ]
  },
  {
   "cell_type": "markdown",
   "id": "matched-roman",
   "metadata": {},
   "source": [
    "### 실습"
   ]
  },
  {
   "cell_type": "markdown",
   "id": "julian-decline",
   "metadata": {},
   "source": [
    "아무것도 하지 않은 fully connected layer와 Batch Normalization layer를 추가한 두 실험을 비교하고자 합니다. 중점적으로 봐야 할 내용은 **정확도 비교와 속도의 차이**입니다."
   ]
  },
  {
   "cell_type": "code",
   "execution_count": 61,
   "id": "daily-spyware",
   "metadata": {},
   "outputs": [
    {
     "name": "stdout",
     "output_type": "stream",
     "text": [
      "=3\n"
     ]
    }
   ],
   "source": [
    "import tensorflow as tf\n",
    "from tensorflow import keras\n",
    "import numpy as np\n",
    "import matplotlib.pyplot as plt\n",
    "\n",
    "fashion_mnist = keras.datasets.fashion_mnist\n",
    "print('=3')"
   ]
  },
  {
   "cell_type": "code",
   "execution_count": 62,
   "id": "theoretical-james",
   "metadata": {},
   "outputs": [],
   "source": [
    "(train_images, train_labels), (test_images, test_labels) = fashion_mnist.load_data()\n",
    "class_names = ['T-shirt/top', 'Trouser', 'Pullover', 'Dress', 'Coat',\n",
    "               'Sandal', 'Shirt', 'Sneaker', 'Bag', 'Ankle boot']\n",
    "\n",
    "train_images = train_images / 255.0\n",
    "test_images = test_images / 255.0"
   ]
  },
  {
   "cell_type": "code",
   "execution_count": 63,
   "id": "another-northeast",
   "metadata": {},
   "outputs": [
    {
     "name": "stdout",
     "output_type": "stream",
     "text": [
      "Epoch 1/20\n",
      "21/21 [==============================] - 1s 24ms/step - loss: 1.7286 - accuracy: 0.4312 - val_loss: 0.7761 - val_accuracy: 0.7326\n",
      "Epoch 2/20\n",
      "21/21 [==============================] - 0s 7ms/step - loss: 0.7125 - accuracy: 0.7537 - val_loss: 0.6095 - val_accuracy: 0.7976\n",
      "Epoch 3/20\n",
      "21/21 [==============================] - 0s 7ms/step - loss: 0.5810 - accuracy: 0.8057 - val_loss: 0.5451 - val_accuracy: 0.8167\n",
      "Epoch 4/20\n",
      "21/21 [==============================] - 0s 7ms/step - loss: 0.5270 - accuracy: 0.8230 - val_loss: 0.5105 - val_accuracy: 0.8260\n",
      "Epoch 5/20\n",
      "21/21 [==============================] - 0s 7ms/step - loss: 0.4897 - accuracy: 0.8349 - val_loss: 0.4864 - val_accuracy: 0.8369\n",
      "Epoch 6/20\n",
      "21/21 [==============================] - 0s 7ms/step - loss: 0.4682 - accuracy: 0.8403 - val_loss: 0.4719 - val_accuracy: 0.8397\n",
      "Epoch 7/20\n",
      "21/21 [==============================] - 0s 7ms/step - loss: 0.4585 - accuracy: 0.8460 - val_loss: 0.4558 - val_accuracy: 0.8442\n",
      "Epoch 8/20\n",
      "21/21 [==============================] - 0s 7ms/step - loss: 0.4333 - accuracy: 0.8545 - val_loss: 0.4466 - val_accuracy: 0.8506\n",
      "Epoch 9/20\n",
      "21/21 [==============================] - 0s 7ms/step - loss: 0.4321 - accuracy: 0.8516 - val_loss: 0.4358 - val_accuracy: 0.8525\n",
      "Epoch 10/20\n",
      "21/21 [==============================] - 0s 7ms/step - loss: 0.4155 - accuracy: 0.8592 - val_loss: 0.4298 - val_accuracy: 0.8521\n",
      "Epoch 11/20\n",
      "21/21 [==============================] - 0s 7ms/step - loss: 0.4100 - accuracy: 0.8598 - val_loss: 0.4208 - val_accuracy: 0.8557\n",
      "Epoch 12/20\n",
      "21/21 [==============================] - 0s 7ms/step - loss: 0.3977 - accuracy: 0.8621 - val_loss: 0.4167 - val_accuracy: 0.8574\n",
      "Epoch 13/20\n",
      "21/21 [==============================] - 0s 7ms/step - loss: 0.3954 - accuracy: 0.8631 - val_loss: 0.4113 - val_accuracy: 0.8588\n",
      "Epoch 14/20\n",
      "21/21 [==============================] - 0s 7ms/step - loss: 0.3877 - accuracy: 0.8675 - val_loss: 0.4042 - val_accuracy: 0.8596\n",
      "Epoch 15/20\n",
      "21/21 [==============================] - 0s 7ms/step - loss: 0.3735 - accuracy: 0.8712 - val_loss: 0.4001 - val_accuracy: 0.8610\n",
      "Epoch 16/20\n",
      "21/21 [==============================] - 0s 7ms/step - loss: 0.3727 - accuracy: 0.8719 - val_loss: 0.3956 - val_accuracy: 0.8634\n",
      "Epoch 17/20\n",
      "21/21 [==============================] - 0s 7ms/step - loss: 0.3652 - accuracy: 0.8731 - val_loss: 0.3928 - val_accuracy: 0.8634\n",
      "Epoch 18/20\n",
      "21/21 [==============================] - 0s 7ms/step - loss: 0.3661 - accuracy: 0.8715 - val_loss: 0.3929 - val_accuracy: 0.8609\n",
      "Epoch 19/20\n",
      "21/21 [==============================] - 0s 7ms/step - loss: 0.3536 - accuracy: 0.8780 - val_loss: 0.3864 - val_accuracy: 0.8654\n",
      "Epoch 20/20\n",
      "21/21 [==============================] - 0s 7ms/step - loss: 0.3493 - accuracy: 0.8772 - val_loss: 0.3836 - val_accuracy: 0.8659\n"
     ]
    }
   ],
   "source": [
    "from sklearn.model_selection import train_test_split\n",
    "\n",
    "X_train, X_valid, y_train, y_valid = train_test_split(train_images, train_labels, test_size=0.3, random_state=101)\n",
    "\n",
    "model = keras.Sequential([\n",
    "    keras.layers.Flatten(input_shape=(28, 28)),\n",
    "    keras.layers.Dense(128, activation='relu'),\n",
    "    keras.layers.Dense(10, activation='softmax')\n",
    "])\n",
    "\n",
    "model.compile(optimizer='adam',loss='sparse_categorical_crossentropy',\n",
    "              metrics=['accuracy'])\n",
    "\n",
    "history= model.fit(X_train, y_train, epochs=20, batch_size=2048, validation_data=(X_valid, y_valid))"
   ]
  },
  {
   "cell_type": "code",
   "execution_count": 64,
   "id": "dated-blade",
   "metadata": {},
   "outputs": [
    {
     "data": {
      "image/png": "[encoded data removed]",
      "text/plain": [
       "<Figure size 432x288 with 1 Axes>"
      ]
     },
     "metadata": {
      "needs_background": "light"
     },
     "output_type": "display_data"
    }
   ],
   "source": [
    "# loss 값을 plot 해보겠습니다. \n",
    "y_vloss = history.history['val_loss']\n",
    "y_loss = history.history['loss']\n",
    "x_len = np.arange(len(y_loss))\n",
    "\n",
    "plt.plot(x_len, y_vloss, marker='.', c='red', label=\"Validation-set Loss\")\n",
    "plt.plot(x_len, y_loss, marker='.', c='blue', label=\"Train-set Loss\")\n",
    "plt.legend(loc='upper right')\n",
    "plt.grid()\n",
    "plt.ylim(0,1)\n",
    "plt.title('Loss graph without batch normalization') \n",
    "plt.xlabel('epoch')\n",
    "plt.ylabel('loss')\n",
    "plt.show()"
   ]
  },
  {
   "cell_type": "code",
   "execution_count": 65,
   "id": "smoking-prospect",
   "metadata": {},
   "outputs": [
    {
     "data": {
      "image/png": "[encoded data removed]",
      "text/plain": [
       "<Figure size 432x288 with 1 Axes>"
      ]
     },
     "metadata": {
      "needs_background": "light"
     },
     "output_type": "display_data"
    }
   ],
   "source": [
    "# accuracy 값을 plot 해보겠습니다. \n",
    "y_vacc = history.history['val_accuracy']\n",
    "y_acc = history.history['accuracy']\n",
    "x_len = np.arange(len(y_acc))\n",
    "\n",
    "plt.plot(x_len, y_vacc, marker='.', c='red', label=\"Validation-set accuracy\")\n",
    "plt.plot(x_len, y_acc, marker='.', c='blue', label=\"Train-set accuracy\")\n",
    "plt.legend(loc='lower right')\n",
    "plt.grid()\n",
    "plt.ylim(0.5,1)\n",
    "plt.title('Accuracy graph without batch normalization') \n",
    "plt.xlabel('epoch')\n",
    "plt.ylabel('accuracy')\n",
    "plt.show()"
   ]
  },
  {
   "cell_type": "markdown",
   "id": "present-jumping",
   "metadata": {},
   "source": [
    "#### BatchNoramlization layer를 추가한 실습"
   ]
  },
  {
   "cell_type": "code",
   "execution_count": 66,
   "id": "classified-energy",
   "metadata": {},
   "outputs": [
    {
     "name": "stdout",
     "output_type": "stream",
     "text": [
      "Epoch 1/20\n",
      "21/21 [==============================] - 1s 17ms/step - loss: 1.3686 - accuracy: 0.5438 - val_loss: 1.0523 - val_accuracy: 0.6618\n",
      "Epoch 2/20\n",
      "21/21 [==============================] - 0s 8ms/step - loss: 0.5358 - accuracy: 0.8156 - val_loss: 0.8783 - val_accuracy: 0.7222\n",
      "Epoch 3/20\n",
      "21/21 [==============================] - 0s 8ms/step - loss: 0.4577 - accuracy: 0.8430 - val_loss: 0.7684 - val_accuracy: 0.7744\n",
      "Epoch 4/20\n",
      "21/21 [==============================] - 0s 8ms/step - loss: 0.4112 - accuracy: 0.8590 - val_loss: 0.6781 - val_accuracy: 0.8162\n",
      "Epoch 5/20\n",
      "21/21 [==============================] - 0s 7ms/step - loss: 0.3843 - accuracy: 0.8680 - val_loss: 0.6145 - val_accuracy: 0.8416\n",
      "Epoch 6/20\n",
      "21/21 [==============================] - 0s 8ms/step - loss: 0.3605 - accuracy: 0.8766 - val_loss: 0.5815 - val_accuracy: 0.8513\n",
      "Epoch 7/20\n",
      "21/21 [==============================] - 0s 8ms/step - loss: 0.3440 - accuracy: 0.8820 - val_loss: 0.5418 - val_accuracy: 0.8596\n",
      "Epoch 8/20\n",
      "21/21 [==============================] - 0s 8ms/step - loss: 0.3306 - accuracy: 0.8843 - val_loss: 0.5015 - val_accuracy: 0.8659\n",
      "Epoch 9/20\n",
      "21/21 [==============================] - 0s 8ms/step - loss: 0.3185 - accuracy: 0.8900 - val_loss: 0.4837 - val_accuracy: 0.8641\n",
      "Epoch 10/20\n",
      "21/21 [==============================] - 0s 8ms/step - loss: 0.3017 - accuracy: 0.8958 - val_loss: 0.4732 - val_accuracy: 0.8633\n",
      "Epoch 11/20\n",
      "21/21 [==============================] - 0s 7ms/step - loss: 0.2919 - accuracy: 0.8988 - val_loss: 0.4403 - val_accuracy: 0.8692\n",
      "Epoch 12/20\n",
      "21/21 [==============================] - 0s 8ms/step - loss: 0.2848 - accuracy: 0.8992 - val_loss: 0.4115 - val_accuracy: 0.8726\n",
      "Epoch 13/20\n",
      "21/21 [==============================] - 0s 8ms/step - loss: 0.2705 - accuracy: 0.9047 - val_loss: 0.4152 - val_accuracy: 0.8616\n",
      "Epoch 14/20\n",
      "21/21 [==============================] - 0s 8ms/step - loss: 0.2634 - accuracy: 0.9081 - val_loss: 0.3884 - val_accuracy: 0.8721\n",
      "Epoch 15/20\n",
      "21/21 [==============================] - 0s 8ms/step - loss: 0.2575 - accuracy: 0.9108 - val_loss: 0.3748 - val_accuracy: 0.8779\n",
      "Epoch 16/20\n",
      "21/21 [==============================] - 0s 8ms/step - loss: 0.2480 - accuracy: 0.9138 - val_loss: 0.3694 - val_accuracy: 0.8751\n",
      "Epoch 17/20\n",
      "21/21 [==============================] - 0s 8ms/step - loss: 0.2407 - accuracy: 0.9144 - val_loss: 0.3637 - val_accuracy: 0.8761\n",
      "Epoch 18/20\n",
      "21/21 [==============================] - 0s 7ms/step - loss: 0.2305 - accuracy: 0.9190 - val_loss: 0.3621 - val_accuracy: 0.8740\n",
      "Epoch 19/20\n",
      "21/21 [==============================] - 0s 8ms/step - loss: 0.2286 - accuracy: 0.9204 - val_loss: 0.3461 - val_accuracy: 0.8798\n",
      "Epoch 20/20\n",
      "21/21 [==============================] - 0s 8ms/step - loss: 0.2192 - accuracy: 0.9250 - val_loss: 0.3579 - val_accuracy: 0.8737\n"
     ]
    }
   ],
   "source": [
    "model = keras.Sequential([\n",
    "    keras.layers.Flatten(input_shape=(28, 28)),\n",
    "    keras.layers.Dense(128, activation='relu'),\n",
    "    #여기에 batchnormalization layer를 추가해보았습니다. 나머지 layer는 위의 실습과 같습니다.\n",
    "    keras.layers.BatchNormalization(),\n",
    "    keras.layers.Dense(10, activation='softmax')\n",
    "])\n",
    "\n",
    "model.compile(optimizer='adam',loss='sparse_categorical_crossentropy',\n",
    "              metrics=['accuracy'])\n",
    "\n",
    "history= model.fit(X_train, y_train, epochs=20, batch_size=2048, validation_data=(X_valid, y_valid))"
   ]
  },
  {
   "cell_type": "code",
   "execution_count": 67,
   "id": "blocked-authority",
   "metadata": {},
   "outputs": [
    {
     "data": {
      "image/png": "[encoded data removed]",
      "text/plain": [
       "<Figure size 432x288 with 1 Axes>"
      ]
     },
     "metadata": {
      "needs_background": "light"
     },
     "output_type": "display_data"
    }
   ],
   "source": [
    "# loss 값을 plot 해보겠습니다. \n",
    "y_vloss = history.history['val_loss']\n",
    "y_loss = history.history['loss']\n",
    "x_len = np.arange(len(y_loss))\n",
    "\n",
    "plt.plot(x_len, y_vloss, marker='.', c='red', label=\"Validation-set Loss\")\n",
    "plt.plot(x_len, y_loss, marker='.', c='blue', label=\"Train-set Loss\")\n",
    "plt.legend(loc='upper right')\n",
    "plt.grid()\n",
    "plt.ylim(0,1)\n",
    "plt.title('Loss graph with batch normalization') \n",
    "plt.xlabel('epoch')\n",
    "plt.ylabel('loss')\n",
    "plt.show()"
   ]
  },
  {
   "cell_type": "code",
   "execution_count": 68,
   "id": "ideal-conclusion",
   "metadata": {},
   "outputs": [
    {
     "data": {
      "image/png": "[encoded data removed]",
      "text/plain": [
       "<Figure size 432x288 with 1 Axes>"
      ]
     },
     "metadata": {
      "needs_background": "light"
     },
     "output_type": "display_data"
    }
   ],
   "source": [
    "# accuracy 값을 plot 해보겠습니다. \n",
    "y_vacc = history.history['val_accuracy']\n",
    "y_acc = history.history['accuracy']\n",
    "x_len = np.arange(len(y_acc))\n",
    "\n",
    "plt.plot(x_len, y_vacc, marker='.', c='red', label=\"Validation-set accuracy\")\n",
    "plt.plot(x_len, y_acc, marker='.', c='blue', label=\"Train-set accuracy\")\n",
    "plt.legend(loc='lower right')\n",
    "plt.grid()\n",
    "plt.ylim(0.5,1) \n",
    "plt.title('Accurcy graph with batch normalization') \n",
    "plt.xlabel('epoch')\n",
    "plt.ylabel('accuracy')\n",
    "plt.show()"
   ]
  }
 ],
 "metadata": {
  "kernelspec": {
   "display_name": "Python 3",
   "language": "python",
   "name": "python3"
  },
  "language_info": {
   "codemirror_mode": {
    "name": "ipython",
    "version": 3
   },
   "file_extension": ".py",
   "mimetype": "text/x-python",
   "name": "python",
   "nbconvert_exporter": "python",
   "pygments_lexer": "ipython3",
   "version": "3.7.9"
  }
 },
 "nbformat": 4,
 "nbformat_minor": 5
}
