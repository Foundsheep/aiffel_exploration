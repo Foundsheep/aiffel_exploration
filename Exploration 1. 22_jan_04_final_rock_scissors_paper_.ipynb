{
 "cells": [
  {
   "cell_type": "markdown",
   "id": "indie-biography",
   "metadata": {},
   "source": [
    "## 1-2. 데이터를 준비하자!\n"
   ]
  },
  {
   "cell_type": "markdown",
   "id": "liable-surfing",
   "metadata": {},
   "source": [
    "### MNIST 숫자 손글씨 Dataset 불러들이기\n"
   ]
  },
  {
   "cell_type": "code",
   "execution_count": 1,
   "id": "rational-guest",
   "metadata": {},
   "outputs": [
    {
     "name": "stdout",
     "output_type": "stream",
     "text": [
      "2.4.1\n",
      "Downloading data from https://storage.googleapis.com/tensorflow/tf-keras-datasets/mnist.npz\n",
      "11493376/11490434 [==============================] - 0s 0us/step\n",
      "60000\n"
     ]
    }
   ],
   "source": [
    "import tensorflow as tf\n",
    "from tensorflow import keras\n",
    "\n",
    "import numpy as np\n",
    "import matplotlib.pyplot as plt\n",
    "import os\n",
    "\n",
    "\n",
    "print(tf.__version__)   # Tensorflow의 버전을 출력\n",
    "\n",
    "mnist = keras.datasets.mnist\n",
    "\n",
    "# MNIST 데이터를 로드. 다운로드하지 않았다면 다운로드까지 자동으로 진행됩니다. \n",
    "(x_train, y_train), (x_test, y_test) = mnist.load_data()   \n",
    "\n",
    "print(len(x_train))  # x_train 배열의 크기를 출력"
   ]
  },
  {
   "cell_type": "code",
   "execution_count": 2,
   "id": "downtown-auditor",
   "metadata": {},
   "outputs": [
    {
     "data": {
      "image/png": "[encoded data removed]",
      "text/plain": [
       "<Figure size 432x288 with 1 Axes>"
      ]
     },
     "metadata": {
      "needs_background": "light"
     },
     "output_type": "display_data"
    }
   ],
   "source": [
    "# 손글씨 하나 출력해보기\n",
    "\n",
    "plt.imshow(x_train[1],cmap=plt.cm.binary)\n",
    "plt.show()"
   ]
  },
  {
   "cell_type": "code",
   "execution_count": 3,
   "id": "entitled-middle",
   "metadata": {},
   "outputs": [
    {
     "data": {
      "image/png": "[encoded data removed]",
      "text/plain": [
       "<Figure size 432x288 with 1 Axes>"
      ]
     },
     "metadata": {
      "needs_background": "light"
     },
     "output_type": "display_data"
    }
   ],
   "source": [
    "# DJ's practice\n",
    "# 찾아보니까 X로 받는 array의 shape도 정해져 있구나...\n",
    "# 또 cmap을 바꾸면 이미지 스타일(?)이 바뀐다.\n",
    "plt.imshow(x_train[0], cmap=plt.cm.binary)\n",
    "plt.show()"
   ]
  },
  {
   "cell_type": "code",
   "execution_count": 4,
   "id": "timely-waterproof",
   "metadata": {},
   "outputs": [
    {
     "name": "stdout",
     "output_type": "stream",
     "text": [
      "0\n"
     ]
    }
   ],
   "source": [
    "# y_train[1] 실제 값 확인하기\n",
    "\n",
    "print(y_train[1])"
   ]
  },
  {
   "cell_type": "code",
   "execution_count": 5,
   "id": "applicable-policy",
   "metadata": {},
   "outputs": [
    {
     "data": {
      "image/png": "[encoded data removed]",
      "text/plain": [
       "<Figure size 432x288 with 1 Axes>"
      ]
     },
     "metadata": {
      "needs_background": "light"
     },
     "output_type": "display_data"
    },
    {
     "name": "stdout",
     "output_type": "stream",
     "text": [
      "50001 번째 이미지의 숫자는 바로  3 입니다.\n"
     ]
    }
   ],
   "source": [
    "# index에 0에서 59999 사이 숫자를 지정해 보세요.\n",
    "index=50000     \n",
    "plt.imshow(x_train[index],cmap=plt.cm.binary)\n",
    "plt.show()\n",
    "print( (index+1), '번째 이미지의 숫자는 바로 ',  y_train[index], '입니다.')"
   ]
  },
  {
   "cell_type": "markdown",
   "id": "polar-taste",
   "metadata": {},
   "source": [
    "### 데이터 전처리 하기\n"
   ]
  },
  {
   "cell_type": "code",
   "execution_count": 6,
   "id": "removable-disclosure",
   "metadata": {},
   "outputs": [
    {
     "name": "stdout",
     "output_type": "stream",
     "text": [
      "최소값: 0  최대값: 255\n"
     ]
    }
   ],
   "source": [
    "print('최소값:',np.min(x_train), ' 최대값:',np.max(x_train))\n",
    "# 3차원의 array에서 min, max를 뭘 기준으로 찾는 거지? 궁금해서 찾아보니까 np.max(), np.min()은 axis가 없으면 입력된 데이터를 flattened 해서 쓴단다."
   ]
  },
  {
   "cell_type": "code",
   "execution_count": 7,
   "id": "built-faith",
   "metadata": {},
   "outputs": [
    {
     "data": {
      "text/plain": [
       "array([[  0,   0,   0,   0,   0,   0,   0,   0,   0,   0,   0,   0,   3,\n",
       "         18,  18,  18, 126, 136, 175,  26, 166, 255, 247, 127,   0,   0,\n",
       "          0,   0],\n",
       "       [  0,   0,   0,   0,   0,   0,   0,   0,  30,  36,  94, 154, 170,\n",
       "        253, 253, 253, 253, 253, 225, 172, 253, 242, 195,  64,   0,   0,\n",
       "          0,   0]], dtype=uint8)"
      ]
     },
     "execution_count": 7,
     "metadata": {},
     "output_type": "execute_result"
    }
   ],
   "source": [
    "# 궁금해서 0이 끝나고 양의 정수가 나오는 지점을 찾아봤음. 아마 여기서부터 이미지에 글씨가 쓰이기 시작한 듯\n",
    "x_train[0][5:7]"
   ]
  },
  {
   "cell_type": "code",
   "execution_count": 8,
   "id": "purple-syndicate",
   "metadata": {},
   "outputs": [
    {
     "name": "stdout",
     "output_type": "stream",
     "text": [
      "최소값: 0.0  최대값: 1.0\n"
     ]
    }
   ],
   "source": [
    "# 데이터 값이 0 ~ 255인 걸 0 ~ 1로 바꿔주기( / 255를 통해)\n",
    "\n",
    "x_train_norm, x_test_norm = x_train / 255.0, x_test / 255.0\n",
    "print('최소값:',np.min(x_train_norm), ' 최대값:',np.max(x_train_norm))"
   ]
  },
  {
   "cell_type": "code",
   "execution_count": 9,
   "id": "positive-mayor",
   "metadata": {},
   "outputs": [
    {
     "data": {
      "text/plain": [
       "array([[0.        , 0.        , 0.        , 0.        , 0.        ,\n",
       "        0.        , 0.        , 0.        , 0.        , 0.        ,\n",
       "        0.        , 0.        , 0.01176471, 0.07058824, 0.07058824,\n",
       "        0.07058824, 0.49411765, 0.53333333, 0.68627451, 0.10196078,\n",
       "        0.65098039, 1.        , 0.96862745, 0.49803922, 0.        ,\n",
       "        0.        , 0.        , 0.        ],\n",
       "       [0.        , 0.        , 0.        , 0.        , 0.        ,\n",
       "        0.        , 0.        , 0.        , 0.11764706, 0.14117647,\n",
       "        0.36862745, 0.60392157, 0.66666667, 0.99215686, 0.99215686,\n",
       "        0.99215686, 0.99215686, 0.99215686, 0.88235294, 0.6745098 ,\n",
       "        0.99215686, 0.94901961, 0.76470588, 0.25098039, 0.        ,\n",
       "        0.        , 0.        , 0.        ]])"
      ]
     },
     "execution_count": 9,
     "metadata": {},
     "output_type": "execute_result"
    }
   ],
   "source": [
    "x_train_norm[0][5:7]"
   ]
  },
  {
   "cell_type": "markdown",
   "id": "corresponding-provider",
   "metadata": {},
   "source": [
    "## 1-3. 딥러닝 네트워크 설계하기\n"
   ]
  },
  {
   "cell_type": "markdown",
   "id": "assured-warrant",
   "metadata": {},
   "source": [
    "### tf.keras의 Sequential API를 이용하여 LeNet이라는 딥러닝 네트워크를 설계한 예\n",
    "- 아래의 코드 8줄로도 손글씨 분류를 해낼 수 있다..."
   ]
  },
  {
   "cell_type": "code",
   "execution_count": 10,
   "id": "russian-chase",
   "metadata": {},
   "outputs": [
    {
     "name": "stdout",
     "output_type": "stream",
     "text": [
      "Model에 추가된 Layer 개수:  7\n"
     ]
    }
   ],
   "source": [
    "model=keras.models.Sequential()\n",
    "model.add(keras.layers.Conv2D(16, (3,3), activation='relu', input_shape=(28,28,1)))\n",
    "model.add(keras.layers.MaxPool2D(2,2))\n",
    "model.add(keras.layers.Conv2D(32, (3,3), activation='relu'))\n",
    "model.add(keras.layers.MaxPooling2D((2,2)))\n",
    "model.add(keras.layers.Flatten())\n",
    "model.add(keras.layers.Dense(32, activation='relu'))\n",
    "model.add(keras.layers.Dense(10, activation='softmax'))\n",
    "\n",
    "print('Model에 추가된 Layer 개수: ', len(model.layers))"
   ]
  },
  {
   "cell_type": "code",
   "execution_count": 11,
   "id": "assured-macintosh",
   "metadata": {},
   "outputs": [
    {
     "name": "stdout",
     "output_type": "stream",
     "text": [
      "Model: \"sequential\"\n",
      "_________________________________________________________________\n",
      "Layer (type)                 Output Shape              Param #   \n",
      "=================================================================\n",
      "conv2d (Conv2D)              (None, 26, 26, 16)        160       \n",
      "_________________________________________________________________\n",
      "max_pooling2d (MaxPooling2D) (None, 13, 13, 16)        0         \n",
      "_________________________________________________________________\n",
      "conv2d_1 (Conv2D)            (None, 11, 11, 32)        4640      \n",
      "_________________________________________________________________\n",
      "max_pooling2d_1 (MaxPooling2 (None, 5, 5, 32)          0         \n",
      "_________________________________________________________________\n",
      "flatten (Flatten)            (None, 800)               0         \n",
      "_________________________________________________________________\n",
      "dense (Dense)                (None, 32)                25632     \n",
      "_________________________________________________________________\n",
      "dense_1 (Dense)              (None, 10)                330       \n",
      "=================================================================\n",
      "Total params: 30,762\n",
      "Trainable params: 30,762\n",
      "Non-trainable params: 0\n",
      "_________________________________________________________________\n"
     ]
    }
   ],
   "source": [
    "# .summary() 메소드로 모델 확인해보기\n",
    "model.summary()"
   ]
  },
  {
   "cell_type": "markdown",
   "id": "iraqi-dover",
   "metadata": {},
   "source": [
    "## 1-4. 딥러닝 네트워크 학습시키기\n"
   ]
  },
  {
   "cell_type": "code",
   "execution_count": 12,
   "id": "level-taxation",
   "metadata": {},
   "outputs": [
    {
     "name": "stdout",
     "output_type": "stream",
     "text": [
      "Before Reshape - x_train_norm shape: (60000, 28, 28)\n",
      "Before Reshape - x_test_norm shape: (10000, 28, 28)\n",
      "After Reshape - x_train_reshaped shape: (60000, 28, 28, 1)\n",
      "After Reshape - x_test_reshaped shape: (10000, 28, 28, 1)\n"
     ]
    }
   ],
   "source": [
    "# input데이터의 shape은 (28,28,1)로 설정했는데, 이건 (세로, 가로, 채널수)임.\n",
    "# 근데 우리의 데이터에 채널수는 없으므로 데이터 shape이 (60000, 28, 28, 1)이 되게끔 바꿔주기\n",
    "# 채널수가 1인 이유는 흑백이니까(컬러면 RGB여서 3)\n",
    "\n",
    "print(\"Before Reshape - x_train_norm shape: {}\".format(x_train_norm.shape))\n",
    "print(\"Before Reshape - x_test_norm shape: {}\".format(x_test_norm.shape))\n",
    "\n",
    "x_train_reshaped=x_train_norm.reshape( -1, 28, 28, 1)  # 데이터갯수에 -1을 쓰면 reshape시 자동계산됩니다.\n",
    "x_test_reshaped=x_test_norm.reshape( -1, 28, 28, 1)\n",
    "\n",
    "print(\"After Reshape - x_train_reshaped shape: {}\".format(x_train_reshaped.shape))\n",
    "print(\"After Reshape - x_test_reshaped shape: {}\".format(x_test_reshaped.shape))"
   ]
  },
  {
   "cell_type": "code",
   "execution_count": 13,
   "id": "adapted-profession",
   "metadata": {},
   "outputs": [
    {
     "name": "stdout",
     "output_type": "stream",
     "text": [
      "Epoch 1/10\n",
      "1875/1875 [==============================] - 9s 3ms/step - loss: 0.4446 - accuracy: 0.8662\n",
      "Epoch 2/10\n",
      "1875/1875 [==============================] - 5s 3ms/step - loss: 0.0620 - accuracy: 0.9810\n",
      "Epoch 3/10\n",
      "1875/1875 [==============================] - 5s 3ms/step - loss: 0.0439 - accuracy: 0.9859\n",
      "Epoch 4/10\n",
      "1875/1875 [==============================] - 5s 3ms/step - loss: 0.0316 - accuracy: 0.9900\n",
      "Epoch 5/10\n",
      "1875/1875 [==============================] - 5s 3ms/step - loss: 0.0248 - accuracy: 0.9918\n",
      "Epoch 6/10\n",
      "1875/1875 [==============================] - 5s 3ms/step - loss: 0.0188 - accuracy: 0.9939\n",
      "Epoch 7/10\n",
      "1875/1875 [==============================] - 5s 3ms/step - loss: 0.0156 - accuracy: 0.9949\n",
      "Epoch 8/10\n",
      "1875/1875 [==============================] - 5s 3ms/step - loss: 0.0139 - accuracy: 0.9958\n",
      "Epoch 9/10\n",
      "1875/1875 [==============================] - 5s 3ms/step - loss: 0.0107 - accuracy: 0.9966\n",
      "Epoch 10/10\n",
      "1875/1875 [==============================] - 5s 3ms/step - loss: 0.0090 - accuracy: 0.9968\n"
     ]
    },
    {
     "data": {
      "text/plain": [
       "<tensorflow.python.keras.callbacks.History at 0x7f82110e99d0>"
      ]
     },
     "execution_count": 13,
     "metadata": {},
     "output_type": "execute_result"
    }
   ],
   "source": [
    "# x_train 데이터로 딥러닝 학습시켜 보기\n",
    "# 여기서 epoch 의미는 전체 60,000개의 데이터를 10번 반복해서 학습시키라는 뜻\n",
    "\n",
    "model.compile(optimizer='adam',\n",
    "             loss='sparse_categorical_crossentropy',\n",
    "             metrics=['accuracy'])\n",
    "\n",
    "model.fit(x_train_reshaped, y_train, epochs=10)"
   ]
  },
  {
   "cell_type": "markdown",
   "id": "outdoor-richmond",
   "metadata": {},
   "source": [
    "## 1-5. 얼마나 잘 만들었는지 확인하기\n"
   ]
  },
  {
   "cell_type": "markdown",
   "id": "revised-lexington",
   "metadata": {},
   "source": [
    "### 테스트 데이터로 성능을 확인해 보자\n"
   ]
  },
  {
   "cell_type": "code",
   "execution_count": 14,
   "id": "isolated-aviation",
   "metadata": {},
   "outputs": [
    {
     "name": "stdout",
     "output_type": "stream",
     "text": [
      "313/313 - 2s - loss: 0.0364 - accuracy: 0.9900\n",
      "test_loss: 0.03642014414072037 \n",
      "test_accuracy: 0.9900000095367432\n"
     ]
    }
   ],
   "source": [
    "test_loss, test_accuracy = model.evaluate(x_test_reshaped,y_test, verbose=2)\n",
    "print(\"test_loss: {} \".format(test_loss))\n",
    "print(\"test_accuracy: {}\".format(test_accuracy))"
   ]
  },
  {
   "cell_type": "markdown",
   "id": "active-steel",
   "metadata": {},
   "source": [
    "### 어떤 데이터를 잘못 추론했을까? 눈으로 확인해 보자\n"
   ]
  },
  {
   "cell_type": "markdown",
   "id": "miniature-taste",
   "metadata": {},
   "source": [
    "#### `model.evaluate()` 대신 `model.predict()`를 사용하면 model이 입력값을 보고 실제로 추론한 확률분포를 출력할 수 있습니다."
   ]
  },
  {
   "cell_type": "code",
   "execution_count": 15,
   "id": "ranking-library",
   "metadata": {},
   "outputs": [
    {
     "name": "stdout",
     "output_type": "stream",
     "text": [
      "model.predict() 결과 :  [1.6310803e-15 6.9094335e-12 3.2114450e-12 2.1904830e-12 1.9362244e-15\n",
      " 3.1147502e-14 1.6898808e-23 1.0000000e+00 1.6479629e-12 1.5074761e-11]\n",
      "model이 추론한 가장 가능성이 높은 결과 :  7\n",
      "실제 데이터의 라벨 :  7\n"
     ]
    }
   ],
   "source": [
    "predicted_result = model.predict(x_test_reshaped)  # model이 추론한 확률값. \n",
    "predicted_labels = np.argmax(predicted_result, axis=1)\n",
    "\n",
    "idx=0  #1번째 x_test를 살펴보자. \n",
    "print('model.predict() 결과 : ', predicted_result[idx])\n",
    "print('model이 추론한 가장 가능성이 높은 결과 : ', predicted_labels[idx])\n",
    "print('실제 데이터의 라벨 : ', y_test[idx])"
   ]
  },
  {
   "cell_type": "code",
   "execution_count": 16,
   "id": "burning-laundry",
   "metadata": {},
   "outputs": [
    {
     "data": {
      "text/plain": [
       "array([[1.6310803e-15, 6.9094335e-12, 3.2114450e-12, ..., 1.0000000e+00,\n",
       "        1.6479629e-12, 1.5074761e-11],\n",
       "       [1.1884024e-10, 6.8259870e-10, 1.0000000e+00, ..., 1.2798889e-14,\n",
       "        1.2682369e-10, 5.2769665e-18],\n",
       "       [4.8523474e-10, 9.9999607e-01, 1.5384878e-10, ..., 4.7656411e-07,\n",
       "        1.6259483e-08, 2.1631757e-12],\n",
       "       ...,\n",
       "       [3.7171948e-15, 6.5791339e-12, 1.4769391e-17, ..., 2.9738818e-12,\n",
       "        2.8242477e-08, 7.9793783e-11],\n",
       "       [4.2292307e-09, 5.0832141e-13, 4.9532369e-18, ..., 6.3260920e-16,\n",
       "        1.1371179e-07, 1.1619819e-13],\n",
       "       [6.3770421e-12, 1.2565989e-11, 1.3452171e-13, ..., 6.4137246e-15,\n",
       "        2.3031911e-10, 4.4924303e-18]], dtype=float32)"
      ]
     },
     "execution_count": 16,
     "metadata": {},
     "output_type": "execute_result"
    }
   ],
   "source": [
    "# predicted_result.shape을 보니까 (10000, 10)이란다.\n",
    "# 아마도 10000개의 test데이터에 대한 숫자 클래스 10개의 확률값인 것 같다.\n",
    "\n",
    "predicted_result"
   ]
  },
  {
   "cell_type": "code",
   "execution_count": 17,
   "id": "foreign-courage",
   "metadata": {},
   "outputs": [
    {
     "name": "stdout",
     "output_type": "stream",
     "text": [
      "[1.6310803e-15 6.9094335e-12 3.2114450e-12 2.1904830e-12 1.9362244e-15\n",
      " 3.1147502e-14 1.6898808e-23 1.0000000e+00 1.6479629e-12 1.5074761e-11]\n"
     ]
    },
    {
     "data": {
      "image/png": "[encoded data removed]",
      "text/plain": [
       "<Figure size 720x504 with 1 Axes>"
      ]
     },
     "metadata": {
      "needs_background": "light"
     },
     "output_type": "display_data"
    }
   ],
   "source": [
    "# predicted_result의 분포를 보고자 노력해봄...\n",
    "# 값이 이렇게 작을 줄 몰랐음...\n",
    "\n",
    "print(predicted_result[0])\n",
    "\n",
    "fig, ax = plt.subplots(figsize=(10,7))\n",
    "ax.scatter(predicted_result[0], predicted_result[0], marker='o')\n",
    "ax.set_xlim(-0.00000000001, 0.00000000001)\n",
    "ax.set_ylim(-0.00000000001,0.00000000001)\n",
    "plt.show()\n"
   ]
  },
  {
   "cell_type": "code",
   "execution_count": 18,
   "id": "bibliographic-translation",
   "metadata": {},
   "outputs": [
    {
     "data": {
      "image/png": "[encoded data removed]",
      "text/plain": [
       "<Figure size 432x288 with 1 Axes>"
      ]
     },
     "metadata": {
      "needs_background": "light"
     },
     "output_type": "display_data"
    }
   ],
   "source": [
    "# 정말 추론한 0번째 값이 7이 맞는지 이미지로 확인\n",
    "\n",
    "plt.imshow(x_test[idx],cmap=plt.cm.binary)\n",
    "plt.show()"
   ]
  },
  {
   "cell_type": "markdown",
   "id": "micro-berlin",
   "metadata": {},
   "source": [
    "### 추론값과 실제값이 다른 경우 확인"
   ]
  },
  {
   "cell_type": "code",
   "execution_count": 19,
   "id": "municipal-customer",
   "metadata": {},
   "outputs": [
    {
     "name": "stdout",
     "output_type": "stream",
     "text": [
      "예측확률분포: [4.1900109e-04 8.6910222e-03 1.3620760e-01 1.1088791e-03 2.9961009e-06\n",
      " 4.3251145e-09 2.5091296e-10 7.8132415e-01 7.2151959e-02 9.4389681e-05]\n",
      "라벨: 2, 예측결과: 7\n"
     ]
    },
    {
     "data": {
      "image/png": "[encoded data removed]",
      "text/plain": [
       "<Figure size 432x288 with 1 Axes>"
      ]
     },
     "metadata": {
      "needs_background": "light"
     },
     "output_type": "display_data"
    },
    {
     "name": "stdout",
     "output_type": "stream",
     "text": [
      "예측확률분포: [1.9463738e-14 2.2249131e-05 3.5744305e-10 3.6118007e-01 5.2662433e-08\n",
      " 6.3879240e-01 1.0063609e-09 4.3255603e-12 5.1852603e-06 9.9293729e-08]\n",
      "라벨: 3, 예측결과: 5\n"
     ]
    },
    {
     "data": {
      "image/png": "[encoded data removed]",
      "text/plain": [
       "<Figure size 432x288 with 1 Axes>"
      ]
     },
     "metadata": {
      "needs_background": "light"
     },
     "output_type": "display_data"
    },
    {
     "name": "stdout",
     "output_type": "stream",
     "text": [
      "예측확률분포: [4.0135603e-07 6.6286554e-09 1.4336820e-08 3.3833576e-06 4.6352129e-06\n",
      " 5.5405679e-05 1.5357940e-05 7.4821527e-09 6.0769694e-04 9.9931312e-01]\n",
      "라벨: 8, 예측결과: 9\n"
     ]
    },
    {
     "data": {
      "image/png": "[encoded data removed]",
      "text/plain": [
       "<Figure size 432x288 with 1 Axes>"
      ]
     },
     "metadata": {
      "needs_background": "light"
     },
     "output_type": "display_data"
    },
    {
     "name": "stdout",
     "output_type": "stream",
     "text": [
      "예측확률분포: [2.81836151e-07 1.47495475e-02 9.89684334e-10 6.55051569e-10\n",
      " 4.90142703e-01 3.44586510e-07 7.14832984e-11 3.73397006e-06\n",
      " 2.16199066e-02 4.73483413e-01]\n",
      "라벨: 9, 예측결과: 4\n"
     ]
    },
    {
     "data": {
      "image/png": "[encoded data removed]",
      "text/plain": [
       "<Figure size 432x288 with 1 Axes>"
      ]
     },
     "metadata": {
      "needs_background": "light"
     },
     "output_type": "display_data"
    },
    {
     "name": "stdout",
     "output_type": "stream",
     "text": [
      "예측확률분포: [5.37092523e-11 1.36212215e-08 1.66353126e-10 3.01233395e-05\n",
      " 2.00027084e-09 2.27928343e-10 1.18981757e-22 6.58612847e-01\n",
      " 3.41355532e-01 1.50368828e-06]\n",
      "라벨: 8, 예측결과: 7\n"
     ]
    },
    {
     "data": {
      "image/png": "[encoded data removed]",
      "text/plain": [
       "<Figure size 432x288 with 1 Axes>"
      ]
     },
     "metadata": {
      "needs_background": "light"
     },
     "output_type": "display_data"
    }
   ],
   "source": [
    "import random\n",
    "wrong_predict_list=[]\n",
    "for i, _ in enumerate(predicted_labels):\n",
    "    # i번째 test_labels과 y_test이 다른 경우만 모아 봅시다. \n",
    "    if predicted_labels[i] != y_test[i]:\n",
    "        wrong_predict_list.append(i)\n",
    "\n",
    "# wrong_predict_list 에서 랜덤하게 5개만 뽑아봅시다.\n",
    "samples = random.choices(population=wrong_predict_list, k=5)\n",
    "\n",
    "for n in samples:\n",
    "    print(\"예측확률분포: \" + str(predicted_result[n]))\n",
    "    print(\"라벨: \" + str(y_test[n]) + \", 예측결과: \" + str(predicted_labels[n]))\n",
    "    plt.imshow(x_test[n], cmap=plt.cm.binary)\n",
    "    plt.show()"
   ]
  },
  {
   "cell_type": "markdown",
   "id": "tamil-attention",
   "metadata": {},
   "source": [
    "## 1-6. 더 좋은 네트워크 만들어 보기\n"
   ]
  },
  {
   "cell_type": "markdown",
   "id": "reflected-precipitation",
   "metadata": {},
   "source": [
    "#### 일단 딥러닝 구조는 안 바꾸고 하이퍼파라미터 바꿔보기\n",
    "- Conv2D 레이어의 이미지 특징 수\n",
    "- Dense 레이어의 뉴런 수\n",
    "- epoch의 학습 반복 수 등..."
   ]
  },
  {
   "cell_type": "code",
   "execution_count": 20,
   "id": "authentic-shock",
   "metadata": {},
   "outputs": [
    {
     "name": "stdout",
     "output_type": "stream",
     "text": [
      "Model: \"sequential_1\"\n",
      "_________________________________________________________________\n",
      "Layer (type)                 Output Shape              Param #   \n",
      "=================================================================\n",
      "conv2d_2 (Conv2D)            (None, 26, 26, 16)        160       \n",
      "_________________________________________________________________\n",
      "max_pooling2d_2 (MaxPooling2 (None, 13, 13, 16)        0         \n",
      "_________________________________________________________________\n",
      "conv2d_3 (Conv2D)            (None, 11, 11, 32)        4640      \n",
      "_________________________________________________________________\n",
      "max_pooling2d_3 (MaxPooling2 (None, 5, 5, 32)          0         \n",
      "_________________________________________________________________\n",
      "flatten_1 (Flatten)          (None, 800)               0         \n",
      "_________________________________________________________________\n",
      "dense_2 (Dense)              (None, 32)                25632     \n",
      "_________________________________________________________________\n",
      "dense_3 (Dense)              (None, 10)                330       \n",
      "=================================================================\n",
      "Total params: 30,762\n",
      "Trainable params: 30,762\n",
      "Non-trainable params: 0\n",
      "_________________________________________________________________\n",
      "Epoch 1/10\n",
      "1875/1875 [==============================] - 5s 3ms/step - loss: 0.4348 - accuracy: 0.8675\n",
      "Epoch 2/10\n",
      "1875/1875 [==============================] - 5s 3ms/step - loss: 0.0751 - accuracy: 0.9771\n",
      "Epoch 3/10\n",
      "1875/1875 [==============================] - 5s 3ms/step - loss: 0.0507 - accuracy: 0.9846\n",
      "Epoch 4/10\n",
      "1875/1875 [==============================] - 5s 3ms/step - loss: 0.0395 - accuracy: 0.9876\n",
      "Epoch 5/10\n",
      "1875/1875 [==============================] - 5s 3ms/step - loss: 0.0301 - accuracy: 0.9902\n",
      "Epoch 6/10\n",
      "1875/1875 [==============================] - 5s 3ms/step - loss: 0.0244 - accuracy: 0.9927\n",
      "Epoch 7/10\n",
      "1875/1875 [==============================] - 5s 3ms/step - loss: 0.0210 - accuracy: 0.9932\n",
      "Epoch 8/10\n",
      "1875/1875 [==============================] - 5s 3ms/step - loss: 0.0155 - accuracy: 0.9951\n",
      "Epoch 9/10\n",
      "1875/1875 [==============================] - 5s 3ms/step - loss: 0.0143 - accuracy: 0.9954\n",
      "Epoch 10/10\n",
      "1875/1875 [==============================] - 5s 3ms/step - loss: 0.0121 - accuracy: 0.9962\n",
      "313/313 - 1s - loss: 0.0306 - accuracy: 0.9914\n",
      "test_loss: 0.030614975839853287 \n",
      "test_accuracy: 0.9914000034332275\n"
     ]
    }
   ],
   "source": [
    "# 바꿔 볼 수 있는 하이퍼파라미터들\n",
    "# 기존\n",
    "\n",
    "n_channel_1=16\n",
    "n_channel_2=32\n",
    "n_dense=32\n",
    "n_train_epoch=10\n",
    "\n",
    "model=keras.models.Sequential()\n",
    "model.add(keras.layers.Conv2D(n_channel_1, (3,3), activation='relu', input_shape=(28,28,1)))\n",
    "model.add(keras.layers.MaxPool2D(2,2))\n",
    "model.add(keras.layers.Conv2D(n_channel_2, (3,3), activation='relu'))\n",
    "model.add(keras.layers.MaxPooling2D((2,2)))\n",
    "model.add(keras.layers.Flatten())\n",
    "model.add(keras.layers.Dense(n_dense, activation='relu'))\n",
    "model.add(keras.layers.Dense(10, activation='softmax'))\n",
    "\n",
    "model.summary()\n",
    "model.compile(optimizer='adam',\n",
    "             loss='sparse_categorical_crossentropy',\n",
    "             metrics=['accuracy'])\n",
    "\n",
    "# 모델 훈련\n",
    "model.fit(x_train_reshaped, y_train, epochs=n_train_epoch)\n",
    "\n",
    "# 모델 시험\n",
    "test_loss, test_accuracy = model.evaluate(x_test_reshaped, y_test, verbose=2)\n",
    "print(\"test_loss: {} \".format(test_loss))\n",
    "print(\"test_accuracy: {}\".format(test_accuracy))"
   ]
  },
  {
   "cell_type": "code",
   "execution_count": 21,
   "id": "institutional-indiana",
   "metadata": {
    "scrolled": true
   },
   "outputs": [
    {
     "name": "stdout",
     "output_type": "stream",
     "text": [
      "Model: \"sequential_2\"\n",
      "_________________________________________________________________\n",
      "Layer (type)                 Output Shape              Param #   \n",
      "=================================================================\n",
      "conv2d_4 (Conv2D)            (None, 26, 26, 16)        160       \n",
      "_________________________________________________________________\n",
      "max_pooling2d_4 (MaxPooling2 (None, 13, 13, 16)        0         \n",
      "_________________________________________________________________\n",
      "conv2d_5 (Conv2D)            (None, 11, 11, 32)        4640      \n",
      "_________________________________________________________________\n",
      "max_pooling2d_5 (MaxPooling2 (None, 5, 5, 32)          0         \n",
      "_________________________________________________________________\n",
      "flatten_2 (Flatten)          (None, 800)               0         \n",
      "_________________________________________________________________\n",
      "dense_4 (Dense)              (None, 64)                51264     \n",
      "_________________________________________________________________\n",
      "dense_5 (Dense)              (None, 10)                650       \n",
      "=================================================================\n",
      "Total params: 56,714\n",
      "Trainable params: 56,714\n",
      "Non-trainable params: 0\n",
      "_________________________________________________________________\n",
      "Epoch 1/10\n",
      "1875/1875 [==============================] - 5s 3ms/step - loss: 0.3767 - accuracy: 0.8806\n",
      "Epoch 2/10\n",
      "1875/1875 [==============================] - 5s 3ms/step - loss: 0.0555 - accuracy: 0.9827\n",
      "Epoch 3/10\n",
      "1875/1875 [==============================] - 5s 3ms/step - loss: 0.0391 - accuracy: 0.9874\n",
      "Epoch 4/10\n",
      "1875/1875 [==============================] - 5s 3ms/step - loss: 0.0325 - accuracy: 0.9897\n",
      "Epoch 5/10\n",
      "1875/1875 [==============================] - 5s 3ms/step - loss: 0.0235 - accuracy: 0.9926\n",
      "Epoch 6/10\n",
      "1875/1875 [==============================] - 5s 3ms/step - loss: 0.0181 - accuracy: 0.9944\n",
      "Epoch 7/10\n",
      "1875/1875 [==============================] - 5s 3ms/step - loss: 0.0142 - accuracy: 0.9956\n",
      "Epoch 8/10\n",
      "1875/1875 [==============================] - 5s 3ms/step - loss: 0.0111 - accuracy: 0.9966\n",
      "Epoch 9/10\n",
      "1875/1875 [==============================] - 5s 3ms/step - loss: 0.0097 - accuracy: 0.9968\n",
      "Epoch 10/10\n",
      "1875/1875 [==============================] - 5s 3ms/step - loss: 0.0070 - accuracy: 0.9976\n",
      "313/313 - 1s - loss: 0.0382 - accuracy: 0.9894\n",
      "test_loss: 0.038218505680561066 \n",
      "test_accuracy: 0.9894000291824341\n"
     ]
    }
   ],
   "source": [
    "# 바꿔 볼 수 있는 하이퍼파라미터들\n",
    "# n_dense = 64로 2배 바꿔 봄\n",
    "\n",
    "n_channel_1=16\n",
    "n_channel_2=32\n",
    "n_dense=64\n",
    "n_train_epoch=10\n",
    "\n",
    "model=keras.models.Sequential()\n",
    "model.add(keras.layers.Conv2D(n_channel_1, (3,3), activation='relu', input_shape=(28,28,1)))\n",
    "model.add(keras.layers.MaxPool2D(2,2))\n",
    "model.add(keras.layers.Conv2D(n_channel_2, (3,3), activation='relu'))\n",
    "model.add(keras.layers.MaxPooling2D((2,2)))\n",
    "model.add(keras.layers.Flatten())\n",
    "model.add(keras.layers.Dense(n_dense, activation='relu'))\n",
    "model.add(keras.layers.Dense(10, activation='softmax'))\n",
    "\n",
    "model.summary()\n",
    "model.compile(optimizer='adam',\n",
    "             loss='sparse_categorical_crossentropy',\n",
    "             metrics=['accuracy'])\n",
    "\n",
    "# 모델 훈련\n",
    "model.fit(x_train_reshaped, y_train, epochs=n_train_epoch)\n",
    "\n",
    "# 모델 시험\n",
    "test_loss, test_accuracy = model.evaluate(x_test_reshaped, y_test, verbose=2)\n",
    "print(\"test_loss: {} \".format(test_loss))\n",
    "print(\"test_accuracy: {}\".format(test_accuracy))"
   ]
  },
  {
   "cell_type": "code",
   "execution_count": 22,
   "id": "atlantic-maine",
   "metadata": {},
   "outputs": [
    {
     "name": "stdout",
     "output_type": "stream",
     "text": [
      "Model: \"sequential_3\"\n",
      "_________________________________________________________________\n",
      "Layer (type)                 Output Shape              Param #   \n",
      "=================================================================\n",
      "conv2d_6 (Conv2D)            (None, 26, 26, 32)        320       \n",
      "_________________________________________________________________\n",
      "max_pooling2d_6 (MaxPooling2 (None, 13, 13, 32)        0         \n",
      "_________________________________________________________________\n",
      "conv2d_7 (Conv2D)            (None, 11, 11, 32)        9248      \n",
      "_________________________________________________________________\n",
      "max_pooling2d_7 (MaxPooling2 (None, 5, 5, 32)          0         \n",
      "_________________________________________________________________\n",
      "flatten_3 (Flatten)          (None, 800)               0         \n",
      "_________________________________________________________________\n",
      "dense_6 (Dense)              (None, 32)                25632     \n",
      "_________________________________________________________________\n",
      "dense_7 (Dense)              (None, 10)                330       \n",
      "=================================================================\n",
      "Total params: 35,530\n",
      "Trainable params: 35,530\n",
      "Non-trainable params: 0\n",
      "_________________________________________________________________\n",
      "Epoch 1/10\n",
      "1875/1875 [==============================] - 8s 3ms/step - loss: 0.4514 - accuracy: 0.8602\n",
      "Epoch 2/10\n",
      "1875/1875 [==============================] - 5s 3ms/step - loss: 0.0675 - accuracy: 0.9796\n",
      "Epoch 3/10\n",
      "1875/1875 [==============================] - 5s 3ms/step - loss: 0.0430 - accuracy: 0.9859\n",
      "Epoch 4/10\n",
      "1875/1875 [==============================] - 5s 3ms/step - loss: 0.0312 - accuracy: 0.9903\n",
      "Epoch 5/10\n",
      "1875/1875 [==============================] - 5s 3ms/step - loss: 0.0267 - accuracy: 0.9915\n",
      "Epoch 6/10\n",
      "1875/1875 [==============================] - 5s 3ms/step - loss: 0.0204 - accuracy: 0.9926\n",
      "Epoch 7/10\n",
      "1875/1875 [==============================] - 5s 2ms/step - loss: 0.0149 - accuracy: 0.9954\n",
      "Epoch 8/10\n",
      "1875/1875 [==============================] - 5s 3ms/step - loss: 0.0127 - accuracy: 0.9954\n",
      "Epoch 9/10\n",
      "1875/1875 [==============================] - 5s 2ms/step - loss: 0.0119 - accuracy: 0.9961\n",
      "Epoch 10/10\n",
      "1875/1875 [==============================] - 5s 3ms/step - loss: 0.0086 - accuracy: 0.9971\n",
      "313/313 - 2s - loss: 0.0387 - accuracy: 0.9908\n",
      "test_loss: 0.03866277262568474 \n",
      "test_accuracy: 0.9908000230789185\n"
     ]
    }
   ],
   "source": [
    "# 바꿔 볼 수 있는 하이퍼파라미터들\n",
    "# n_channel_1 = 32로 2배 바꿔 봄\n",
    "\n",
    "n_channel_1=32\n",
    "n_channel_2=32\n",
    "n_dense=32\n",
    "n_train_epoch=10\n",
    "\n",
    "model=keras.models.Sequential()\n",
    "model.add(keras.layers.Conv2D(n_channel_1, (3,3), activation='relu', input_shape=(28,28,1)))\n",
    "model.add(keras.layers.MaxPool2D(2,2))\n",
    "model.add(keras.layers.Conv2D(n_channel_2, (3,3), activation='relu'))\n",
    "model.add(keras.layers.MaxPooling2D((2,2)))\n",
    "model.add(keras.layers.Flatten())\n",
    "model.add(keras.layers.Dense(n_dense, activation='relu'))\n",
    "model.add(keras.layers.Dense(10, activation='softmax'))\n",
    "\n",
    "model.summary()\n",
    "model.compile(optimizer='adam',\n",
    "             loss='sparse_categorical_crossentropy',\n",
    "             metrics=['accuracy'])\n",
    "\n",
    "# 모델 훈련\n",
    "model.fit(x_train_reshaped, y_train, epochs=n_train_epoch)\n",
    "\n",
    "# 모델 시험\n",
    "test_loss, test_accuracy = model.evaluate(x_test_reshaped, y_test, verbose=2)\n",
    "print(\"test_loss: {} \".format(test_loss))\n",
    "print(\"test_accuracy: {}\".format(test_accuracy))"
   ]
  },
  {
   "cell_type": "code",
   "execution_count": 23,
   "id": "rubber-queens",
   "metadata": {},
   "outputs": [
    {
     "name": "stdout",
     "output_type": "stream",
     "text": [
      "Model: \"sequential_4\"\n",
      "_________________________________________________________________\n",
      "Layer (type)                 Output Shape              Param #   \n",
      "=================================================================\n",
      "conv2d_8 (Conv2D)            (None, 26, 26, 16)        160       \n",
      "_________________________________________________________________\n",
      "max_pooling2d_8 (MaxPooling2 (None, 13, 13, 16)        0         \n",
      "_________________________________________________________________\n",
      "conv2d_9 (Conv2D)            (None, 11, 11, 64)        9280      \n",
      "_________________________________________________________________\n",
      "max_pooling2d_9 (MaxPooling2 (None, 5, 5, 64)          0         \n",
      "_________________________________________________________________\n",
      "flatten_4 (Flatten)          (None, 1600)              0         \n",
      "_________________________________________________________________\n",
      "dense_8 (Dense)              (None, 32)                51232     \n",
      "_________________________________________________________________\n",
      "dense_9 (Dense)              (None, 10)                330       \n",
      "=================================================================\n",
      "Total params: 61,002\n",
      "Trainable params: 61,002\n",
      "Non-trainable params: 0\n",
      "_________________________________________________________________\n",
      "Epoch 1/10\n",
      "1875/1875 [==============================] - 8s 3ms/step - loss: 0.4173 - accuracy: 0.8739\n",
      "Epoch 2/10\n",
      "1875/1875 [==============================] - 5s 3ms/step - loss: 0.0600 - accuracy: 0.9819\n",
      "Epoch 3/10\n",
      "1875/1875 [==============================] - 5s 3ms/step - loss: 0.0405 - accuracy: 0.9869\n",
      "Epoch 4/10\n",
      "1875/1875 [==============================] - 5s 3ms/step - loss: 0.0299 - accuracy: 0.9904\n",
      "Epoch 5/10\n",
      "1875/1875 [==============================] - 5s 3ms/step - loss: 0.0229 - accuracy: 0.9925\n",
      "Epoch 6/10\n",
      "1875/1875 [==============================] - 5s 3ms/step - loss: 0.0160 - accuracy: 0.9951\n",
      "Epoch 7/10\n",
      "1875/1875 [==============================] - 5s 3ms/step - loss: 0.0129 - accuracy: 0.9962\n",
      "Epoch 8/10\n",
      "1875/1875 [==============================] - 5s 3ms/step - loss: 0.0117 - accuracy: 0.9964\n",
      "Epoch 9/10\n",
      "1875/1875 [==============================] - 5s 3ms/step - loss: 0.0089 - accuracy: 0.9970\n",
      "Epoch 10/10\n",
      "1875/1875 [==============================] - 5s 3ms/step - loss: 0.0074 - accuracy: 0.9974\n",
      "313/313 - 2s - loss: 0.0342 - accuracy: 0.9907\n",
      "test_loss: 0.03417707979679108 \n",
      "test_accuracy: 0.9907000064849854\n"
     ]
    }
   ],
   "source": [
    "# 바꿔 볼 수 있는 하이퍼파라미터들\n",
    "# n_channel_2 = 64로 2배로 바꿔봄\n",
    "\n",
    "n_channel_1=16\n",
    "n_channel_2=64\n",
    "n_dense=32\n",
    "n_train_epoch=10\n",
    "\n",
    "model=keras.models.Sequential()\n",
    "model.add(keras.layers.Conv2D(n_channel_1, (3,3), activation='relu', input_shape=(28,28,1)))\n",
    "model.add(keras.layers.MaxPool2D(2,2))\n",
    "model.add(keras.layers.Conv2D(n_channel_2, (3,3), activation='relu'))\n",
    "model.add(keras.layers.MaxPooling2D((2,2)))\n",
    "model.add(keras.layers.Flatten())\n",
    "model.add(keras.layers.Dense(n_dense, activation='relu'))\n",
    "model.add(keras.layers.Dense(10, activation='softmax'))\n",
    "\n",
    "model.summary()\n",
    "model.compile(optimizer='adam',\n",
    "             loss='sparse_categorical_crossentropy',\n",
    "             metrics=['accuracy'])\n",
    "\n",
    "# 모델 훈련\n",
    "model.fit(x_train_reshaped, y_train, epochs=n_train_epoch)\n",
    "\n",
    "# 모델 시험\n",
    "test_loss, test_accuracy = model.evaluate(x_test_reshaped, y_test, verbose=2)\n",
    "print(\"test_loss: {} \".format(test_loss))\n",
    "print(\"test_accuracy: {}\".format(test_accuracy))"
   ]
  },
  {
   "cell_type": "code",
   "execution_count": 24,
   "id": "intensive-biography",
   "metadata": {},
   "outputs": [
    {
     "name": "stdout",
     "output_type": "stream",
     "text": [
      "Model: \"sequential_5\"\n",
      "_________________________________________________________________\n",
      "Layer (type)                 Output Shape              Param #   \n",
      "=================================================================\n",
      "conv2d_10 (Conv2D)           (None, 26, 26, 16)        160       \n",
      "_________________________________________________________________\n",
      "max_pooling2d_10 (MaxPooling (None, 13, 13, 16)        0         \n",
      "_________________________________________________________________\n",
      "conv2d_11 (Conv2D)           (None, 11, 11, 32)        4640      \n",
      "_________________________________________________________________\n",
      "max_pooling2d_11 (MaxPooling (None, 5, 5, 32)          0         \n",
      "_________________________________________________________________\n",
      "flatten_5 (Flatten)          (None, 800)               0         \n",
      "_________________________________________________________________\n",
      "dense_10 (Dense)             (None, 32)                25632     \n",
      "_________________________________________________________________\n",
      "dense_11 (Dense)             (None, 10)                330       \n",
      "=================================================================\n",
      "Total params: 30,762\n",
      "Trainable params: 30,762\n",
      "Non-trainable params: 0\n",
      "_________________________________________________________________\n",
      "Epoch 1/20\n",
      "1875/1875 [==============================] - 5s 2ms/step - loss: 0.4648 - accuracy: 0.8647\n",
      "Epoch 2/20\n",
      "1875/1875 [==============================] - 4s 2ms/step - loss: 0.0669 - accuracy: 0.9785\n",
      "Epoch 3/20\n",
      "1875/1875 [==============================] - 4s 2ms/step - loss: 0.0501 - accuracy: 0.9844\n",
      "Epoch 4/20\n",
      "1875/1875 [==============================] - 4s 2ms/step - loss: 0.0391 - accuracy: 0.9878\n",
      "Epoch 5/20\n",
      "1875/1875 [==============================] - 4s 2ms/step - loss: 0.0320 - accuracy: 0.9902\n",
      "Epoch 6/20\n",
      "1875/1875 [==============================] - 4s 2ms/step - loss: 0.0254 - accuracy: 0.9922\n",
      "Epoch 7/20\n",
      "1875/1875 [==============================] - 4s 2ms/step - loss: 0.0183 - accuracy: 0.9936\n",
      "Epoch 8/20\n",
      "1875/1875 [==============================] - 4s 2ms/step - loss: 0.0159 - accuracy: 0.9951\n",
      "Epoch 9/20\n",
      "1875/1875 [==============================] - 4s 2ms/step - loss: 0.0125 - accuracy: 0.9960\n",
      "Epoch 10/20\n",
      "1875/1875 [==============================] - 4s 2ms/step - loss: 0.0108 - accuracy: 0.9964\n",
      "Epoch 11/20\n",
      "1875/1875 [==============================] - 4s 2ms/step - loss: 0.0084 - accuracy: 0.9972\n",
      "Epoch 12/20\n",
      "1875/1875 [==============================] - 4s 2ms/step - loss: 0.0087 - accuracy: 0.9974\n",
      "Epoch 13/20\n",
      "1875/1875 [==============================] - 4s 2ms/step - loss: 0.0079 - accuracy: 0.9977\n",
      "Epoch 14/20\n",
      "1875/1875 [==============================] - 4s 2ms/step - loss: 0.0061 - accuracy: 0.9978\n",
      "Epoch 15/20\n",
      "1875/1875 [==============================] - 4s 2ms/step - loss: 0.0063 - accuracy: 0.9978\n",
      "Epoch 16/20\n",
      "1875/1875 [==============================] - 4s 2ms/step - loss: 0.0041 - accuracy: 0.9987\n",
      "Epoch 17/20\n",
      "1875/1875 [==============================] - 4s 2ms/step - loss: 0.0055 - accuracy: 0.9983\n",
      "Epoch 18/20\n",
      "1875/1875 [==============================] - 4s 2ms/step - loss: 0.0045 - accuracy: 0.9984\n",
      "Epoch 19/20\n",
      "1875/1875 [==============================] - 4s 2ms/step - loss: 0.0033 - accuracy: 0.9988\n",
      "Epoch 20/20\n",
      "1875/1875 [==============================] - 4s 2ms/step - loss: 0.0039 - accuracy: 0.9988\n",
      "313/313 - 1s - loss: 0.0451 - accuracy: 0.9894\n",
      "test_loss: 0.04508870840072632 \n",
      "test_accuracy: 0.9894000291824341\n",
      "time it took: -88.67334961891174\n"
     ]
    }
   ],
   "source": [
    "# 바꿔 볼 수 있는 하이퍼파라미터들\n",
    "# n_train_epoch = 20으로 2배로 바꿔봄\n",
    "# time도 넣어봄\n",
    "\n",
    "n_channel_1=16\n",
    "n_channel_2=32\n",
    "n_dense=32\n",
    "n_train_epoch=20\n",
    "\n",
    "model=keras.models.Sequential()\n",
    "model.add(keras.layers.Conv2D(n_channel_1, (3,3), activation='relu', input_shape=(28,28,1)))\n",
    "model.add(keras.layers.MaxPool2D(2,2))\n",
    "model.add(keras.layers.Conv2D(n_channel_2, (3,3), activation='relu'))\n",
    "model.add(keras.layers.MaxPooling2D((2,2)))\n",
    "model.add(keras.layers.Flatten())\n",
    "model.add(keras.layers.Dense(n_dense, activation='relu'))\n",
    "model.add(keras.layers.Dense(10, activation='softmax'))\n",
    "\n",
    "model.summary()\n",
    "model.compile(optimizer='adam',\n",
    "             loss='sparse_categorical_crossentropy',\n",
    "             metrics=['accuracy'])\n",
    "\n",
    "# 시간 재기(시작)\n",
    "import time\n",
    "start = time.time()\n",
    "\n",
    "# 모델 훈련\n",
    "model.fit(x_train_reshaped, y_train, epochs=n_train_epoch)\n",
    "\n",
    "# 시간 재기(끝)\n",
    "end = time.time()\n",
    "\n",
    "# 모델 시험\n",
    "test_loss, test_accuracy = model.evaluate(x_test_reshaped, y_test, verbose=2)\n",
    "print(\"test_loss: {} \".format(test_loss))\n",
    "print(\"test_accuracy: {}\".format(test_accuracy))\n",
    "print(f\"time it took: {start-end}\")"
   ]
  },
  {
   "cell_type": "code",
   "execution_count": 25,
   "id": "ecological-brake",
   "metadata": {},
   "outputs": [
    {
     "name": "stdout",
     "output_type": "stream",
     "text": [
      "Model: \"sequential_6\"\n",
      "_________________________________________________________________\n",
      "Layer (type)                 Output Shape              Param #   \n",
      "=================================================================\n",
      "conv2d_12 (Conv2D)           (None, 26, 26, 16)        160       \n",
      "_________________________________________________________________\n",
      "max_pooling2d_12 (MaxPooling (None, 13, 13, 16)        0         \n",
      "_________________________________________________________________\n",
      "conv2d_13 (Conv2D)           (None, 11, 11, 64)        9280      \n",
      "_________________________________________________________________\n",
      "max_pooling2d_13 (MaxPooling (None, 5, 5, 64)          0         \n",
      "_________________________________________________________________\n",
      "flatten_6 (Flatten)          (None, 1600)              0         \n",
      "_________________________________________________________________\n",
      "dense_12 (Dense)             (None, 32)                51232     \n",
      "_________________________________________________________________\n",
      "dense_13 (Dense)             (None, 10)                330       \n",
      "=================================================================\n",
      "Total params: 61,002\n",
      "Trainable params: 61,002\n",
      "Non-trainable params: 0\n",
      "_________________________________________________________________\n",
      "Epoch 1/10\n",
      "1875/1875 [==============================] - 5s 3ms/step - loss: 0.4242 - accuracy: 0.8703\n",
      "Epoch 2/10\n",
      "1875/1875 [==============================] - 5s 3ms/step - loss: 0.0579 - accuracy: 0.9817\n",
      "Epoch 3/10\n",
      "1875/1875 [==============================] - 5s 3ms/step - loss: 0.0395 - accuracy: 0.9877\n",
      "Epoch 4/10\n",
      "1875/1875 [==============================] - 5s 3ms/step - loss: 0.0294 - accuracy: 0.9907\n",
      "Epoch 5/10\n",
      "1875/1875 [==============================] - 5s 3ms/step - loss: 0.0233 - accuracy: 0.9922\n",
      "Epoch 6/10\n",
      "1875/1875 [==============================] - 5s 3ms/step - loss: 0.0179 - accuracy: 0.9945\n",
      "Epoch 7/10\n",
      "1875/1875 [==============================] - 5s 3ms/step - loss: 0.0142 - accuracy: 0.9954\n",
      "Epoch 8/10\n",
      "1875/1875 [==============================] - 5s 3ms/step - loss: 0.0118 - accuracy: 0.9962\n",
      "Epoch 9/10\n",
      "1875/1875 [==============================] - 5s 3ms/step - loss: 0.0079 - accuracy: 0.9977\n",
      "Epoch 10/10\n",
      "1875/1875 [==============================] - 5s 3ms/step - loss: 0.0073 - accuracy: 0.9977\n",
      "313/313 - 1s - loss: 0.0364 - accuracy: 0.9904\n",
      "test_loss: 0.03644247353076935 \n",
      "test_accuracy: 0.9904000163078308\n",
      "time it took: 50.025020599365234\n"
     ]
    }
   ],
   "source": [
    "# 바꿔 볼 수 있는 하이퍼파라미터들\n",
    "# 속도도 빠르고 accuracy도 좋았던 n_channel_2 바꾼 모델로 다시 해봄(계속 좋게 나오는지)\n",
    "# n_channel_2 = 64로 2배로 바꿔봄\n",
    "# time도 넣어봄\n",
    "\n",
    "n_channel_1=16\n",
    "n_channel_2=64\n",
    "n_dense=32\n",
    "n_train_epoch=10\n",
    "\n",
    "model=keras.models.Sequential()\n",
    "model.add(keras.layers.Conv2D(n_channel_1, (3,3), activation='relu', input_shape=(28,28,1)))\n",
    "model.add(keras.layers.MaxPool2D(2,2))\n",
    "model.add(keras.layers.Conv2D(n_channel_2, (3,3), activation='relu'))\n",
    "model.add(keras.layers.MaxPooling2D((2,2)))\n",
    "model.add(keras.layers.Flatten())\n",
    "model.add(keras.layers.Dense(n_dense, activation='relu'))\n",
    "model.add(keras.layers.Dense(10, activation='softmax'))\n",
    "\n",
    "model.summary()\n",
    "model.compile(optimizer='adam',\n",
    "             loss='sparse_categorical_crossentropy',\n",
    "             metrics=['accuracy'])\n",
    "\n",
    "# 시간 재기(시작)\n",
    "import time\n",
    "start = time.time()\n",
    "\n",
    "# 모델 훈련\n",
    "model.fit(x_train_reshaped, y_train, epochs=n_train_epoch)\n",
    "\n",
    "# 시간 재기(끝)\n",
    "end = time.time()\n",
    "\n",
    "# 모델 시험\n",
    "test_loss, test_accuracy = model.evaluate(x_test_reshaped, y_test, verbose=2)\n",
    "print(\"test_loss: {} \".format(test_loss))\n",
    "print(\"test_accuracy: {}\".format(test_accuracy))\n",
    "print(f\"time it took: {end-start}\")"
   ]
  },
  {
   "cell_type": "markdown",
   "id": "abandoned-vegetation",
   "metadata": {},
   "source": [
    "## 결론\n",
    "- n_channel_2를 2배 했을 때 속도 및 accuracy도 제일 좋은 듯\n",
    "- 보니까 training 되는 param 수가 제일 많아지면 성능이 좋아지는 것 같은데, n_channel_2 늘릴 때 제일 많이 늘어남"
   ]
  },
  {
   "cell_type": "markdown",
   "id": "active-rebel",
   "metadata": {},
   "source": [
    "# 1-7. 미니 프로젝트 : 가위바위보 분류기를 만들자\n"
   ]
  },
  {
   "cell_type": "markdown",
   "id": "domestic-frederick",
   "metadata": {},
   "source": [
    "### 데이터 불러오기 + Resize 하기\n",
    "\n",
    "- 모델의 인풋 array 사이즈가 (28,28)이었으니, 원래 (224,224)이던 가위바위보 샘플 이미지도 사이즈를 바꿔주기"
   ]
  },
  {
   "cell_type": "code",
   "execution_count": 26,
   "id": "temporal-career",
   "metadata": {},
   "outputs": [
    {
     "name": "stdout",
     "output_type": "stream",
     "text": [
      "PIL 라이브러리 import 완료!\n"
     ]
    }
   ],
   "source": [
    "from PIL import Image\n",
    "import glob\n",
    "\n",
    "print(\"PIL 라이브러리 import 완료!\")"
   ]
  },
  {
   "cell_type": "code",
   "execution_count": 27,
   "id": "significant-pharmacology",
   "metadata": {},
   "outputs": [
    {
     "name": "stdout",
     "output_type": "stream",
     "text": [
      "100  images to be resized.\n",
      "100  images resized.\n",
      "가위 이미지 resize 완료!\n"
     ]
    }
   ],
   "source": [
    "def resize_images(img_path):\n",
    "\timages=glob.glob(img_path + \"/*.jpg\")  \n",
    "    \n",
    "\tprint(len(images), \" images to be resized.\")\n",
    "\n",
    "    # 파일마다 모두 28x28 사이즈로 바꾸어 저장합니다.\n",
    "\ttarget_size=(28,28)\n",
    "\tfor img in images:\n",
    "\t\told_img=Image.open(img)\n",
    "\t\tnew_img=old_img.resize(target_size,Image.ANTIALIAS)\n",
    "\t\tnew_img.save(img, \"JPEG\")\n",
    "    \n",
    "\tprint(len(images), \" images resized.\")\n",
    "\t\n",
    "# 가위 이미지가 저장된 디렉토리 아래의 모든 jpg 파일을 읽어들여서\n",
    "image_dir_path = os.getenv(\"HOME\") + \"/aiffel/rock_scissor_paper/scissor\"\n",
    "resize_images(image_dir_path)\n",
    "\n",
    "print(\"가위 이미지 resize 완료!\")"
   ]
  },
  {
   "cell_type": "code",
   "execution_count": 28,
   "id": "sitting-drove",
   "metadata": {},
   "outputs": [
    {
     "name": "stdout",
     "output_type": "stream",
     "text": [
      "100  images to be resized.\n",
      "100  images resized.\n",
      "바위 이미지 resize 완료!\n"
     ]
    }
   ],
   "source": [
    "# 바위 이미지도 바꿔보기\n",
    "# 바위 이미지가 저장된 디렉토리 아래의 모든 jpg 파일을 읽어들여서\n",
    "# [[YOUR CODE]]\n",
    "\n",
    "image_dir_path = os.getenv(\"HOME\") + \"/aiffel/rock_scissor_paper/rock\"\n",
    "resize_images(image_dir_path)\n",
    "\n",
    "print(\"바위 이미지 resize 완료!\")\n",
    "\n",
    "# 파일마다 모두 28x28 사이즈로 바꾸어 저장합니다.\n",
    "# [[YOUR CODE]]"
   ]
  },
  {
   "cell_type": "code",
   "execution_count": 29,
   "id": "interested-secretary",
   "metadata": {},
   "outputs": [
    {
     "name": "stdout",
     "output_type": "stream",
     "text": [
      "100  images to be resized.\n",
      "100  images resized.\n",
      "보 이미지 resize 완료!\n"
     ]
    }
   ],
   "source": [
    "# 보 이미지가 저장된 디렉토리 아래의 모든 jpg 파일을 읽어들여서\n",
    "# [[YOUR CODE]]\n",
    "\n",
    "image_dir_path = os.getenv(\"HOME\") + \"/aiffel/rock_scissor_paper/paper\"\n",
    "resize_images(image_dir_path)\n",
    "\n",
    "print(\"보 이미지 resize 완료!\")\n",
    "\n",
    "# 파일마다 모두 28x28 사이즈로 바꾸어 저장합니다.\n",
    "# [[YOUR CODE]]"
   ]
  },
  {
   "cell_type": "code",
   "execution_count": 30,
   "id": "minute-rachel",
   "metadata": {},
   "outputs": [
    {
     "data": {
      "image/png": "[encoded data removed]",
      "text/plain": [
       "<PIL.JpegImagePlugin.JpegImageFile image mode=RGB size=224x224 at 0x7F821029CA10>"
      ]
     },
     "execution_count": 30,
     "metadata": {},
     "output_type": "execute_result"
    }
   ],
   "source": [
    "# DJ's practice\n",
    "# 1) 임의의 사진 불러오기\n",
    "# 2) 리사이징 해보기\n",
    "\n",
    "test_path = os.getenv(\"HOME\") + \"/aiffel/rock_scissor_paper_existing\"\n",
    "images = glob.glob(test_path + \"/*.jpg\")\n",
    "\n",
    "# image로 불러오기\n",
    "old_img = Image.open(images[0])\n",
    "\n",
    "# 사이즈 확인\n",
    "# np.array(old_img) >>> (28,28,3) 벌써 resize 되어 있던 데이터\n",
    "\n",
    "# 이미지 리사이징 해보기\n",
    "new_img = old_img.resize((224, 224), Image.ANTIALIAS)\n",
    "new_img.save('/aiffel/aiffel/rock_scissor_paper_existing/test_paper_resized', \"JPEG\")\n",
    "\n",
    "# 이미지 리사이즈한 거 불러보기\n",
    "Image.open(os.getenv(\"HOME\") + \"/aiffel/rock_scissor_paper_existing/test_paper_resized\")"
   ]
  },
  {
   "cell_type": "markdown",
   "id": "friendly-shooting",
   "metadata": {},
   "source": [
    "### load_data() 함수 정의해서 사용\n",
    "- AIFFEL에서 제공됨"
   ]
  },
  {
   "cell_type": "code",
   "execution_count": 73,
   "id": "toxic-viking",
   "metadata": {},
   "outputs": [
    {
     "name": "stdout",
     "output_type": "stream",
     "text": [
      "학습데이터(x_train)의 이미지 개수는 300 입니다.\n",
      "x_train shape: (300, 28, 28, 3)\n",
      "y_train shape: (300,)\n"
     ]
    }
   ],
   "source": [
    "import numpy as np\n",
    "\n",
    "def load_data(img_path, number_of_data=300):  # 가위바위보 이미지 개수 총합에 주의하세요.\n",
    "    # 가위 : 0, 바위 : 1, 보 : 2\n",
    "    img_size=28\n",
    "    color=3\n",
    "    #이미지 데이터와 라벨(가위 : 0, 바위 : 1, 보 : 2) 데이터를 담을 행렬(matrix) 영역을 생성합니다.\n",
    "    imgs=np.zeros(number_of_data*img_size*img_size*color,dtype=np.int32).reshape(number_of_data,img_size,img_size,color)\n",
    "    labels=np.zeros(number_of_data,dtype=np.int32)\n",
    "\n",
    "    idx=0\n",
    "    for file in glob.iglob(img_path+'/scissor/*.jpg'):\n",
    "        img = np.array(Image.open(file),dtype=np.int32)\n",
    "        imgs[idx,:,:,:]=img    # 데이터 영역에 이미지 행렬을 복사\n",
    "        labels[idx]=0   # 가위 : 0\n",
    "        idx=idx+1\n",
    "\n",
    "    for file in glob.iglob(img_path+'/rock/*.jpg'):\n",
    "        img = np.array(Image.open(file),dtype=np.int32)\n",
    "        imgs[idx,:,:,:]=img    # 데이터 영역에 이미지 행렬을 복사\n",
    "        labels[idx]=1   # 바위 : 1\n",
    "        idx=idx+1  \n",
    "    \n",
    "    for file in glob.iglob(img_path+'/paper/*.jpg'):\n",
    "        img = np.array(Image.open(file),dtype=np.int32)\n",
    "        imgs[idx,:,:,:]=img    # 데이터 영역에 이미지 행렬을 복사\n",
    "        labels[idx]=2   # 보 : 2\n",
    "        idx=idx+1\n",
    "        \n",
    "    print(\"학습데이터(x_train)의 이미지 개수는\", idx,\"입니다.\")\n",
    "    return imgs, labels\n",
    "\n",
    "image_dir_path = os.getenv(\"HOME\") + \"/aiffel/rock_scissor_paper\"\n",
    "(x_train, y_train)=load_data(image_dir_path)\n",
    "x_train_norm = x_train/255.0   # 입력은 0~1 사이의 값으로 정규화\n",
    "\n",
    "print(\"x_train shape: {}\".format(x_train.shape))\n",
    "print(\"y_train shape: {}\".format(y_train.shape))"
   ]
  },
  {
   "cell_type": "code",
   "execution_count": null,
   "id": "rational-welsh",
   "metadata": {},
   "outputs": [],
   "source": []
  },
  {
   "cell_type": "code",
   "execution_count": 74,
   "id": "established-constant",
   "metadata": {},
   "outputs": [
    {
     "name": "stdout",
     "output_type": "stream",
     "text": [
      "라벨:  0\n"
     ]
    },
    {
     "data": {
      "image/png": "[encoded data removed]",
      "text/plain": [
       "<Figure size 432x288 with 1 Axes>"
      ]
     },
     "metadata": {
      "needs_background": "light"
     },
     "output_type": "display_data"
    }
   ],
   "source": [
    "plt.imshow(x_train[0])\n",
    "print('라벨: ', y_train[0])"
   ]
  },
  {
   "cell_type": "markdown",
   "id": "spanish-cooper",
   "metadata": {},
   "source": [
    "### 딥러닝 네트워크 설계하기\n"
   ]
  },
  {
   "cell_type": "code",
   "execution_count": 75,
   "id": "aerial-northwest",
   "metadata": {},
   "outputs": [
    {
     "name": "stdout",
     "output_type": "stream",
     "text": [
      "Model: \"sequential_10\"\n",
      "_________________________________________________________________\n",
      "Layer (type)                 Output Shape              Param #   \n",
      "=================================================================\n",
      "conv2d_20 (Conv2D)           (None, 26, 26, 16)        448       \n",
      "_________________________________________________________________\n",
      "max_pooling2d_20 (MaxPooling (None, 13, 13, 16)        0         \n",
      "_________________________________________________________________\n",
      "conv2d_21 (Conv2D)           (None, 11, 11, 64)        9280      \n",
      "_________________________________________________________________\n",
      "max_pooling2d_21 (MaxPooling (None, 5, 5, 64)          0         \n",
      "_________________________________________________________________\n",
      "flatten_10 (Flatten)         (None, 1600)              0         \n",
      "_________________________________________________________________\n",
      "dense_20 (Dense)             (None, 32)                51232     \n",
      "_________________________________________________________________\n",
      "dense_21 (Dense)             (None, 3)                 99        \n",
      "=================================================================\n",
      "Total params: 61,059\n",
      "Trainable params: 61,059\n",
      "Non-trainable params: 0\n",
      "_________________________________________________________________\n"
     ]
    }
   ],
   "source": [
    "import tensorflow as tf\n",
    "from tensorflow import keras\n",
    "import numpy as np\n",
    "\n",
    "# model을 직접 만들어 보세요.\n",
    "# Hint! model의 입력/출력부에 특히 유의해 주세요. 가위바위보 데이터셋은 MNIST 데이터셋과 어떤 점이 달라졌나요?\n",
    "# 1) 일단 input_shape이 달라진 것 같다.\n",
    "# 2) 출력 시 클래스 수가 3개로 달라졌다.\n",
    "# [[YOUR CODE]]\n",
    "\n",
    "model = keras.models.Sequential()\n",
    "model.add(keras.layers.Conv2D(16, (3,3), activation='relu', input_shape=(28,28,3)))\n",
    "model.add(keras.layers.MaxPool2D(2,2))\n",
    "model.add(keras.layers.Conv2D(64, (3,3), activation='relu')) # 아까 하이퍼파라미터에서 여기 2배 해서 성능 좋았기에 64로 함\n",
    "model.add(keras.layers.MaxPooling2D(2,2))\n",
    "model.add(keras.layers.Flatten())\n",
    "model.add(keras.layers.Dense(32, activation='relu'))\n",
    "model.add(keras.layers.Dense(3, activation='softmax'))\n",
    "\n",
    "\n",
    "model.summary()"
   ]
  },
  {
   "cell_type": "markdown",
   "id": "adopted-messaging",
   "metadata": {},
   "source": [
    "### 딥러닝 네트워크 학습시키기\n"
   ]
  },
  {
   "cell_type": "code",
   "execution_count": 76,
   "id": "impossible-gentleman",
   "metadata": {},
   "outputs": [
    {
     "name": "stdout",
     "output_type": "stream",
     "text": [
      "Epoch 1/10\n",
      "10/10 [==============================] - 0s 3ms/step - loss: 1.0985 - accuracy: 0.3877\n",
      "Epoch 2/10\n",
      "10/10 [==============================] - 0s 3ms/step - loss: 1.0412 - accuracy: 0.5099\n",
      "Epoch 3/10\n",
      "10/10 [==============================] - 0s 3ms/step - loss: 0.9886 - accuracy: 0.6601\n",
      "Epoch 4/10\n",
      "10/10 [==============================] - 0s 3ms/step - loss: 0.8773 - accuracy: 0.7955\n",
      "Epoch 5/10\n",
      "10/10 [==============================] - 0s 3ms/step - loss: 0.7422 - accuracy: 0.8459\n",
      "Epoch 6/10\n",
      "10/10 [==============================] - 0s 3ms/step - loss: 0.5917 - accuracy: 0.9001\n",
      "Epoch 7/10\n",
      "10/10 [==============================] - 0s 3ms/step - loss: 0.4314 - accuracy: 0.9321\n",
      "Epoch 8/10\n",
      "10/10 [==============================] - 0s 3ms/step - loss: 0.3376 - accuracy: 0.9058\n",
      "Epoch 9/10\n",
      "10/10 [==============================] - 0s 3ms/step - loss: 0.1914 - accuracy: 1.0000\n",
      "Epoch 10/10\n",
      "10/10 [==============================] - 0s 3ms/step - loss: 0.1352 - accuracy: 0.9973\n",
      "fit done\n"
     ]
    }
   ],
   "source": [
    "# model을 학습시키는 코드를 직접 작성해 보세요.\n",
    "# Hint! model.compile()과 model.fit()을 사용해 봅시다.\n",
    "# [[YOUR CODE]]\n",
    "\n",
    "\n",
    "model.compile(optimizer='adam',\n",
    "             loss='sparse_categorical_crossentropy',\n",
    "             metrics=['accuracy'])\n",
    "\n",
    "model.fit(x_train_norm, y_train, epochs=10)\n",
    "print(\"fit done\")"
   ]
  },
  {
   "cell_type": "markdown",
   "id": "multiple-september",
   "metadata": {},
   "source": [
    "### 얼마나 잘 만들었는지 확인하기(테스트)\n"
   ]
  },
  {
   "cell_type": "code",
   "execution_count": 77,
   "id": "juvenile-logan",
   "metadata": {},
   "outputs": [
    {
     "name": "stdout",
     "output_type": "stream",
     "text": [
      "100  images to be resized.\n",
      "100  images resized.\n",
      "가위 test resized!\n",
      "100  images to be resized.\n",
      "100  images resized.\n",
      "바위 test resized!\n",
      "100  images to be resized.\n",
      "100  images resized.\n",
      "보 test resized!\n",
      "테스트 데이터(x_test)의 이미지 개수는 300 입니다.\n",
      "x_test_norm 개수는: (300, 28, 28, 3)\n",
      "y_test 개수는: (300,)\n"
     ]
    }
   ],
   "source": [
    "# x_test, y_test를 만드는 방법은 x_train, y_train을 만드는 방법과 아주 유사합니다.\n",
    "# [[YOUR CODE]]\n",
    "\n",
    "# 이미지 사이즈 확인\n",
    "test_img_1 = Image.open(os.getenv(\"HOME\") + \"/aiffel/rock_scissor_paper/test/paper_test/0.jpg\")\n",
    "np.array(test_img_1).shape\n",
    "# >>> (224, 224, 3)\n",
    "\n",
    "# load_data() 함수 지금 위치에 맞게 변경\n",
    "def test_load_data(img_path, number_of_data=300):  # 가위바위보 이미지 개수 총합에 주의하세요.\n",
    "    # 가위 : 0, 바위 : 1, 보 : 2\n",
    "    img_size=28\n",
    "    color=3\n",
    "    #이미지 데이터와 라벨(가위 : 0, 바위 : 1, 보 : 2) 데이터를 담을 행렬(matrix) 영역을 생성합니다.\n",
    "    imgs=np.zeros(number_of_data*img_size*img_size*color,dtype=np.int32).reshape(number_of_data,img_size,img_size,color)\n",
    "    labels=np.zeros(number_of_data,dtype=np.int32)\n",
    "\n",
    "    idx=0\n",
    "    for file in glob.iglob(img_path+'/scissor_test/*.jpg'):\n",
    "        img = np.array(Image.open(file),dtype=np.int32)\n",
    "        imgs[idx,:,:,:]=img    # 데이터 영역에 이미지 행렬을 복사\n",
    "        labels[idx]=0   # 가위 : 0\n",
    "        idx=idx+1\n",
    "\n",
    "    for file in glob.iglob(img_path+'/rock_test/*.jpg'):\n",
    "        img = np.array(Image.open(file),dtype=np.int32)\n",
    "        imgs[idx,:,:,:]=img    # 데이터 영역에 이미지 행렬을 복사\n",
    "        labels[idx]=1   # 바위 : 1\n",
    "        idx=idx+1  \n",
    "    \n",
    "    for file in glob.iglob(img_path+'/paper_test/*.jpg'):\n",
    "        img = np.array(Image.open(file),dtype=np.int32)\n",
    "        imgs[idx,:,:,:]=img    # 데이터 영역에 이미지 행렬을 복사\n",
    "        labels[idx]=2   # 보 : 2\n",
    "        idx=idx+1\n",
    "        \n",
    "    print(\"테스트 데이터(x_test)의 이미지 개수는\", idx,\"입니다.\")\n",
    "    return imgs, labels\n",
    "\n",
    "\n",
    "# 이미지 리사이즈\n",
    "# 가위 이미지가 저장된 디렉토리 아래의 모든 jpg 파일을 읽어들여서 리사이즈\n",
    "image_dir_path = os.getenv(\"HOME\") + \"/aiffel/rock_scissor_paper/test/scissor_test\"\n",
    "resize_images(image_dir_path)\n",
    "print(\"가위 test resized!\")\n",
    "\n",
    "# 바위 이미지가 저장된 디렉토리 아래의 모든 jpg 파일을 읽어들여서 리사이즈\n",
    "image_dir_path = os.getenv(\"HOME\") + \"/aiffel/rock_scissor_paper/test/rock_test\"\n",
    "resize_images(image_dir_path)\n",
    "print(\"바위 test resized!\")\n",
    "\n",
    "# 보 이미지가 저장된 디렉토리 아래의 모든 jpg 파일을 읽어들여서 리사이즈\n",
    "image_dir_path = os.getenv(\"HOME\") + \"/aiffel/rock_scissor_paper/test/paper_test\"\n",
    "resize_images(image_dir_path)\n",
    "print(\"보 test resized!\")\n",
    "\n",
    "# load_data()로 불러오기\n",
    "test_set_path = os.getenv(\"HOME\") + \"/aiffel/rock_scissor_paper/test\"\n",
    "(x_test, y_test) = test_load_data(test_set_path)\n",
    "x_test_norm = x_test / 255.0\n",
    "\n",
    "print(\"x_test_norm 개수는:\", x_test_norm.shape)\n",
    "print(\"y_test 개수는:\", y_test.shape)"
   ]
  },
  {
   "cell_type": "code",
   "execution_count": 78,
   "id": "significant-local",
   "metadata": {},
   "outputs": [],
   "source": [
    "x_test_norm = x_test_norm.reshape(-1,28,28,3)"
   ]
  },
  {
   "cell_type": "markdown",
   "id": "juvenile-musical",
   "metadata": {},
   "source": [
    "### 모델 평가해보기"
   ]
  },
  {
   "cell_type": "code",
   "execution_count": 79,
   "id": "welsh-investor",
   "metadata": {},
   "outputs": [
    {
     "name": "stdout",
     "output_type": "stream",
     "text": [
      "10/10 - 0s - loss: 2.7371 - accuracy: 0.3333\n",
      "test_loss: 2.7370946407318115 \n",
      "test_accuracy: 0.3333333432674408\n"
     ]
    }
   ],
   "source": [
    "# model을 학습시키는 코드를 직접 작성해 보세요.\n",
    "# Hint! model.evaluate()을 사용해 봅시다.\n",
    "# [[YOUR CODE]]\n",
    "\n",
    "\n",
    "test_loss, test_accuracy = model.evaluate(x_test_norm, y_test, verbose=2)\n",
    "print(\"test_loss: {} \".format(test_loss))\n",
    "print(\"test_accuracy: {}\".format(test_accuracy))"
   ]
  },
  {
   "cell_type": "markdown",
   "id": "knowing-seating",
   "metadata": {},
   "source": [
    "### Accuracy 높이기 - 1) 모델 내에서 바꿔보기"
   ]
  },
  {
   "cell_type": "code",
   "execution_count": 80,
   "id": "proof-roots",
   "metadata": {},
   "outputs": [
    {
     "name": "stdout",
     "output_type": "stream",
     "text": [
      "Model: \"sequential_11\"\n",
      "_________________________________________________________________\n",
      "Layer (type)                 Output Shape              Param #   \n",
      "=================================================================\n",
      "conv2d_22 (Conv2D)           (None, 26, 26, 32)        896       \n",
      "_________________________________________________________________\n",
      "max_pooling2d_22 (MaxPooling (None, 13, 13, 32)        0         \n",
      "_________________________________________________________________\n",
      "conv2d_23 (Conv2D)           (None, 11, 11, 64)        18496     \n",
      "_________________________________________________________________\n",
      "max_pooling2d_23 (MaxPooling (None, 5, 5, 64)          0         \n",
      "_________________________________________________________________\n",
      "flatten_11 (Flatten)         (None, 1600)              0         \n",
      "_________________________________________________________________\n",
      "dense_22 (Dense)             (None, 32)                51232     \n",
      "_________________________________________________________________\n",
      "dense_23 (Dense)             (None, 3)                 99        \n",
      "=================================================================\n",
      "Total params: 70,723\n",
      "Trainable params: 70,723\n",
      "Non-trainable params: 0\n",
      "_________________________________________________________________\n",
      "Epoch 1/10\n",
      "10/10 [==============================] - 10s 547ms/step - loss: 1.0854 - accuracy: 0.4000\n",
      "Epoch 2/10\n",
      "10/10 [==============================] - 0s 4ms/step - loss: 1.0599 - accuracy: 0.3576\n",
      "Epoch 3/10\n",
      "10/10 [==============================] - 0s 4ms/step - loss: 0.9673 - accuracy: 0.8603\n",
      "Epoch 4/10\n",
      "10/10 [==============================] - 0s 4ms/step - loss: 0.8444 - accuracy: 0.8435\n",
      "Epoch 5/10\n",
      "10/10 [==============================] - 0s 4ms/step - loss: 0.6953 - accuracy: 0.8363\n",
      "Epoch 6/10\n",
      "10/10 [==============================] - 0s 4ms/step - loss: 0.5959 - accuracy: 0.7362\n",
      "Epoch 7/10\n",
      "10/10 [==============================] - 0s 4ms/step - loss: 0.3962 - accuracy: 0.9590\n",
      "Epoch 8/10\n",
      "10/10 [==============================] - 0s 4ms/step - loss: 0.2431 - accuracy: 0.9966\n",
      "Epoch 9/10\n",
      "10/10 [==============================] - 0s 3ms/step - loss: 0.1467 - accuracy: 1.0000\n",
      "Epoch 10/10\n",
      "10/10 [==============================] - 0s 3ms/step - loss: 0.0811 - accuracy: 0.9966\n",
      "10/10 - 0s - loss: 2.7746 - accuracy: 0.3333\n",
      "test_loss: 2.774622917175293 \n",
      "test_accuracy: 0.3333333432674408\n"
     ]
    }
   ],
   "source": [
    "# 1) 첫번째 Conv2D 이미지 특징 수 늘려보기(16 -> 32)\n",
    "\n",
    "model = keras.models.Sequential()\n",
    "model.add(keras.layers.Conv2D(32, (3,3), activation='relu', input_shape=(28,28,3)))\n",
    "model.add(keras.layers.MaxPool2D(2,2))\n",
    "model.add(keras.layers.Conv2D(64, (3,3), activation='relu')) # 아까 하이퍼파라미터에서 여기 2배 해서 성능 좋았기에 64로 함\n",
    "model.add(keras.layers.MaxPooling2D(2,2))\n",
    "model.add(keras.layers.Flatten())\n",
    "model.add(keras.layers.Dense(32, activation='relu'))\n",
    "model.add(keras.layers.Dense(3, activation='softmax'))\n",
    "\n",
    "model.summary()\n",
    "\n",
    "model.compile(optimizer='adam',\n",
    "             loss='sparse_categorical_crossentropy',\n",
    "             metrics=['accuracy'])\n",
    "\n",
    "model.fit(x_train_norm, y_train, epochs=10)\n",
    "\n",
    "test_loss, test_accuracy = model.evaluate(x_test_norm, y_test, verbose=2)\n",
    "print(\"test_loss: {} \".format(test_loss))\n",
    "print(\"test_accuracy: {}\".format(test_accuracy))"
   ]
  },
  {
   "cell_type": "markdown",
   "id": "earlier-configuration",
   "metadata": {},
   "source": [
    "### Accuracy 높이기 2) 학습 데이터 늘려보기"
   ]
  },
  {
   "cell_type": "code",
   "execution_count": 87,
   "id": "entitled-arctic",
   "metadata": {},
   "outputs": [
    {
     "name": "stdout",
     "output_type": "stream",
     "text": [
      "paper01-000.png  paper02-090.png  paper04-060.png  paper06-030.png\r\n",
      "paper01-001.png  paper02-091.png  paper04-061.png  paper06-031.png\r\n",
      "paper01-002.png  paper02-092.png  paper04-062.png  paper06-032.png\r\n",
      "paper01-003.png  paper02-093.png  paper04-063.png  paper06-033.png\r\n",
      "paper01-004.png  paper02-094.png  paper04-064.png  paper06-034.png\r\n",
      "paper01-005.png  paper02-095.png  paper04-065.png  paper06-035.png\r\n",
      "paper01-006.png  paper02-096.png  paper04-066.png  paper06-036.png\r\n",
      "paper01-007.png  paper02-097.png  paper04-067.png  paper06-037.png\r\n",
      "paper01-008.png  paper02-098.png  paper04-068.png  paper06-038.png\r\n",
      "paper01-009.png  paper02-099.png  paper04-069.png  paper06-039.png\r\n",
      "paper01-010.png  paper02-100.png  paper04-070.png  paper06-040.png\r\n",
      "paper01-011.png  paper02-101.png  paper04-071.png  paper06-041.png\r\n",
      "paper01-012.png  paper02-102.png  paper04-072.png  paper06-042.png\r\n",
      "paper01-013.png  paper02-103.png  paper04-073.png  paper06-043.png\r\n",
      "paper01-014.png  paper02-104.png  paper04-074.png  paper06-044.png\r\n",
      "paper01-015.png  paper02-105.png  paper04-075.png  paper06-045.png\r\n",
      "paper01-016.png  paper02-106.png  paper04-076.png  paper06-046.png\r\n",
      "paper01-017.png  paper02-107.png  paper04-077.png  paper06-047.png\r\n",
      "paper01-018.png  paper02-108.png  paper04-078.png  paper06-048.png\r\n",
      "paper01-019.png  paper02-109.png  paper04-079.png  paper06-049.png\r\n",
      "paper01-020.png  paper02-110.png  paper04-080.png  paper06-050.png\r\n",
      "paper01-021.png  paper02-111.png  paper04-081.png  paper06-051.png\r\n",
      "paper01-022.png  paper02-112.png  paper04-082.png  paper06-052.png\r\n",
      "paper01-023.png  paper02-113.png  paper04-083.png  paper06-053.png\r\n",
      "paper01-024.png  paper02-114.png  paper04-084.png  paper06-054.png\r\n",
      "paper01-025.png  paper02-115.png  paper04-085.png  paper06-055.png\r\n",
      "paper01-026.png  paper02-116.png  paper04-086.png  paper06-056.png\r\n",
      "paper01-027.png  paper02-117.png  paper04-087.png  paper06-057.png\r\n",
      "paper01-028.png  paper02-118.png  paper04-088.png  paper06-058.png\r\n",
      "paper01-029.png  paper02-119.png  paper04-089.png  paper06-059.png\r\n",
      "paper01-030.png  paper03-000.png  paper04-090.png  paper06-060.png\r\n",
      "paper01-031.png  paper03-001.png  paper04-091.png  paper06-061.png\r\n",
      "paper01-032.png  paper03-002.png  paper04-092.png  paper06-062.png\r\n",
      "paper01-033.png  paper03-003.png  paper04-093.png  paper06-063.png\r\n",
      "paper01-034.png  paper03-004.png  paper04-094.png  paper06-064.png\r\n",
      "paper01-035.png  paper03-005.png  paper04-095.png  paper06-065.png\r\n",
      "paper01-036.png  paper03-006.png  paper04-096.png  paper06-066.png\r\n",
      "paper01-037.png  paper03-007.png  paper04-097.png  paper06-067.png\r\n",
      "paper01-038.png  paper03-008.png  paper04-098.png  paper06-068.png\r\n",
      "paper01-039.png  paper03-009.png  paper04-099.png  paper06-069.png\r\n",
      "paper01-040.png  paper03-010.png  paper04-100.png  paper06-070.png\r\n",
      "paper01-041.png  paper03-011.png  paper04-101.png  paper06-071.png\r\n",
      "paper01-042.png  paper03-012.png  paper04-102.png  paper06-072.png\r\n",
      "paper01-043.png  paper03-013.png  paper04-103.png  paper06-073.png\r\n",
      "paper01-044.png  paper03-014.png  paper04-104.png  paper06-074.png\r\n",
      "paper01-045.png  paper03-015.png  paper04-105.png  paper06-075.png\r\n",
      "paper01-046.png  paper03-016.png  paper04-106.png  paper06-076.png\r\n",
      "paper01-047.png  paper03-017.png  paper04-107.png  paper06-077.png\r\n",
      "paper01-048.png  paper03-018.png  paper04-108.png  paper06-078.png\r\n",
      "paper01-049.png  paper03-019.png  paper04-109.png  paper06-079.png\r\n",
      "paper01-050.png  paper03-020.png  paper04-110.png  paper06-080.png\r\n",
      "paper01-051.png  paper03-021.png  paper04-111.png  paper06-081.png\r\n",
      "paper01-052.png  paper03-022.png  paper04-112.png  paper06-082.png\r\n",
      "paper01-053.png  paper03-023.png  paper04-113.png  paper06-083.png\r\n",
      "paper01-054.png  paper03-024.png  paper04-114.png  paper06-084.png\r\n",
      "paper01-055.png  paper03-025.png  paper04-115.png  paper06-085.png\r\n",
      "paper01-056.png  paper03-026.png  paper04-116.png  paper06-086.png\r\n",
      "paper01-057.png  paper03-027.png  paper04-117.png  paper06-087.png\r\n",
      "paper01-058.png  paper03-028.png  paper04-118.png  paper06-088.png\r\n",
      "paper01-059.png  paper03-029.png  paper04-119.png  paper06-089.png\r\n",
      "paper01-060.png  paper03-030.png  paper05-000.png  paper06-090.png\r\n",
      "paper01-061.png  paper03-031.png  paper05-001.png  paper06-091.png\r\n",
      "paper01-062.png  paper03-032.png  paper05-002.png  paper06-092.png\r\n",
      "paper01-063.png  paper03-033.png  paper05-003.png  paper06-093.png\r\n",
      "paper01-064.png  paper03-034.png  paper05-004.png  paper06-094.png\r\n",
      "paper01-065.png  paper03-035.png  paper05-005.png  paper06-095.png\r\n",
      "paper01-066.png  paper03-036.png  paper05-006.png  paper06-096.png\r\n",
      "paper01-067.png  paper03-037.png  paper05-007.png  paper06-097.png\r\n",
      "paper01-068.png  paper03-038.png  paper05-008.png  paper06-098.png\r\n",
      "paper01-069.png  paper03-039.png  paper05-009.png  paper06-099.png\r\n",
      "paper01-070.png  paper03-040.png  paper05-010.png  paper06-100.png\r\n",
      "paper01-071.png  paper03-041.png  paper05-011.png  paper06-101.png\r\n",
      "paper01-072.png  paper03-042.png  paper05-012.png  paper06-102.png\r\n",
      "paper01-073.png  paper03-043.png  paper05-013.png  paper06-103.png\r\n",
      "paper01-074.png  paper03-044.png  paper05-014.png  paper06-104.png\r\n",
      "paper01-075.png  paper03-045.png  paper05-015.png  paper06-105.png\r\n",
      "paper01-076.png  paper03-046.png  paper05-016.png  paper06-106.png\r\n",
      "paper01-077.png  paper03-047.png  paper05-017.png  paper06-107.png\r\n",
      "paper01-078.png  paper03-048.png  paper05-018.png  paper06-108.png\r\n",
      "paper01-079.png  paper03-049.png  paper05-019.png  paper06-109.png\r\n",
      "paper01-080.png  paper03-050.png  paper05-020.png  paper06-110.png\r\n",
      "paper01-081.png  paper03-051.png  paper05-021.png  paper06-111.png\r\n",
      "paper01-082.png  paper03-052.png  paper05-022.png  paper06-112.png\r\n",
      "paper01-083.png  paper03-053.png  paper05-023.png  paper06-113.png\r\n",
      "paper01-084.png  paper03-054.png  paper05-024.png  paper06-114.png\r\n",
      "paper01-085.png  paper03-055.png  paper05-025.png  paper06-115.png\r\n",
      "paper01-086.png  paper03-056.png  paper05-026.png  paper06-116.png\r\n",
      "paper01-087.png  paper03-057.png  paper05-027.png  paper06-117.png\r\n",
      "paper01-088.png  paper03-058.png  paper05-028.png  paper06-118.png\r\n",
      "paper01-089.png  paper03-059.png  paper05-029.png  paper06-119.png\r\n",
      "paper01-090.png  paper03-060.png  paper05-030.png  paper07-000.png\r\n",
      "paper01-091.png  paper03-061.png  paper05-031.png  paper07-001.png\r\n",
      "paper01-092.png  paper03-062.png  paper05-032.png  paper07-002.png\r\n",
      "paper01-093.png  paper03-063.png  paper05-033.png  paper07-003.png\r\n",
      "paper01-094.png  paper03-064.png  paper05-034.png  paper07-004.png\r\n",
      "paper01-095.png  paper03-065.png  paper05-035.png  paper07-005.png\r\n",
      "paper01-096.png  paper03-066.png  paper05-036.png  paper07-006.png\r\n",
      "paper01-097.png  paper03-067.png  paper05-037.png  paper07-007.png\r\n",
      "paper01-098.png  paper03-068.png  paper05-038.png  paper07-008.png\r\n",
      "paper01-099.png  paper03-069.png  paper05-039.png  paper07-009.png\r\n",
      "paper01-100.png  paper03-070.png  paper05-040.png  paper07-010.png\r\n",
      "paper01-101.png  paper03-071.png  paper05-041.png  paper07-011.png\r\n",
      "paper01-102.png  paper03-072.png  paper05-042.png  paper07-012.png\r\n",
      "paper01-103.png  paper03-073.png  paper05-043.png  paper07-013.png\r\n",
      "paper01-104.png  paper03-074.png  paper05-044.png  paper07-014.png\r\n",
      "paper01-105.png  paper03-075.png  paper05-045.png  paper07-015.png\r\n",
      "paper01-106.png  paper03-076.png  paper05-046.png  paper07-016.png\r\n",
      "paper01-107.png  paper03-077.png  paper05-047.png  paper07-017.png\r\n",
      "paper01-108.png  paper03-078.png  paper05-048.png  paper07-018.png\r\n",
      "paper01-109.png  paper03-079.png  paper05-049.png  paper07-019.png\r\n",
      "paper01-110.png  paper03-080.png  paper05-050.png  paper07-020.png\r\n",
      "paper01-111.png  paper03-081.png  paper05-051.png  paper07-021.png\r\n",
      "paper01-112.png  paper03-082.png  paper05-052.png  paper07-022.png\r\n",
      "paper01-113.png  paper03-083.png  paper05-053.png  paper07-023.png\r\n",
      "paper01-114.png  paper03-084.png  paper05-054.png  paper07-024.png\r\n",
      "paper01-115.png  paper03-085.png  paper05-055.png  paper07-025.png\r\n",
      "paper01-116.png  paper03-086.png  paper05-056.png  paper07-026.png\r\n",
      "paper01-117.png  paper03-087.png  paper05-057.png  paper07-027.png\r\n",
      "paper01-118.png  paper03-088.png  paper05-058.png  paper07-028.png\r\n",
      "paper01-119.png  paper03-089.png  paper05-059.png  paper07-029.png\r\n",
      "paper02-000.png  paper03-090.png  paper05-060.png  paper07-030.png\r\n",
      "paper02-001.png  paper03-091.png  paper05-061.png  paper07-031.png\r\n",
      "paper02-002.png  paper03-092.png  paper05-062.png  paper07-032.png\r\n",
      "paper02-003.png  paper03-093.png  paper05-063.png  paper07-033.png\r\n",
      "paper02-004.png  paper03-094.png  paper05-064.png  paper07-034.png\r\n",
      "paper02-005.png  paper03-095.png  paper05-065.png  paper07-035.png\r\n",
      "paper02-006.png  paper03-096.png  paper05-066.png  paper07-036.png\r\n",
      "paper02-007.png  paper03-097.png  paper05-067.png  paper07-037.png\r\n",
      "paper02-008.png  paper03-098.png  paper05-068.png  paper07-038.png\r\n",
      "paper02-009.png  paper03-099.png  paper05-069.png  paper07-039.png\r\n",
      "paper02-010.png  paper03-100.png  paper05-070.png  paper07-040.png\r\n",
      "paper02-011.png  paper03-101.png  paper05-071.png  paper07-041.png\r\n",
      "paper02-012.png  paper03-102.png  paper05-072.png  paper07-042.png\r\n",
      "paper02-013.png  paper03-103.png  paper05-073.png  paper07-043.png\r\n",
      "paper02-014.png  paper03-104.png  paper05-074.png  paper07-044.png\r\n",
      "paper02-015.png  paper03-105.png  paper05-075.png  paper07-045.png\r\n",
      "paper02-016.png  paper03-106.png  paper05-076.png  paper07-046.png\r\n",
      "paper02-017.png  paper03-107.png  paper05-077.png  paper07-047.png\r\n",
      "paper02-018.png  paper03-108.png  paper05-078.png  paper07-048.png\r\n",
      "paper02-019.png  paper03-109.png  paper05-079.png  paper07-049.png\r\n",
      "paper02-020.png  paper03-110.png  paper05-080.png  paper07-050.png\r\n",
      "paper02-021.png  paper03-111.png  paper05-081.png  paper07-051.png\r\n",
      "paper02-022.png  paper03-112.png  paper05-082.png  paper07-052.png\r\n",
      "paper02-023.png  paper03-113.png  paper05-083.png  paper07-053.png\r\n",
      "paper02-024.png  paper03-114.png  paper05-084.png  paper07-054.png\r\n",
      "paper02-025.png  paper03-115.png  paper05-085.png  paper07-055.png\r\n",
      "paper02-026.png  paper03-116.png  paper05-086.png  paper07-056.png\r\n",
      "paper02-027.png  paper03-117.png  paper05-087.png  paper07-057.png\r\n",
      "paper02-028.png  paper03-118.png  paper05-088.png  paper07-058.png\r\n",
      "paper02-029.png  paper03-119.png  paper05-089.png  paper07-059.png\r\n",
      "paper02-030.png  paper04-000.png  paper05-090.png  paper07-060.png\r\n",
      "paper02-031.png  paper04-001.png  paper05-091.png  paper07-061.png\r\n",
      "paper02-032.png  paper04-002.png  paper05-092.png  paper07-062.png\r\n",
      "paper02-033.png  paper04-003.png  paper05-093.png  paper07-063.png\r\n",
      "paper02-034.png  paper04-004.png  paper05-094.png  paper07-064.png\r\n",
      "paper02-035.png  paper04-005.png  paper05-095.png  paper07-065.png\r\n",
      "paper02-036.png  paper04-006.png  paper05-096.png  paper07-066.png\r\n",
      "paper02-037.png  paper04-007.png  paper05-097.png  paper07-067.png\r\n",
      "paper02-038.png  paper04-008.png  paper05-098.png  paper07-068.png\r\n",
      "paper02-039.png  paper04-009.png  paper05-099.png  paper07-069.png\r\n",
      "paper02-040.png  paper04-010.png  paper05-100.png  paper07-070.png\r\n",
      "paper02-041.png  paper04-011.png  paper05-101.png  paper07-071.png\r\n",
      "paper02-042.png  paper04-012.png  paper05-102.png  paper07-072.png\r\n",
      "paper02-043.png  paper04-013.png  paper05-103.png  paper07-073.png\r\n",
      "paper02-044.png  paper04-014.png  paper05-104.png  paper07-074.png\r\n",
      "paper02-045.png  paper04-015.png  paper05-105.png  paper07-075.png\r\n",
      "paper02-046.png  paper04-016.png  paper05-106.png  paper07-076.png\r\n",
      "paper02-047.png  paper04-017.png  paper05-107.png  paper07-077.png\r\n",
      "paper02-048.png  paper04-018.png  paper05-108.png  paper07-078.png\r\n",
      "paper02-049.png  paper04-019.png  paper05-109.png  paper07-079.png\r\n",
      "paper02-050.png  paper04-020.png  paper05-110.png  paper07-080.png\r\n",
      "paper02-051.png  paper04-021.png  paper05-111.png  paper07-081.png\r\n",
      "paper02-052.png  paper04-022.png  paper05-112.png  paper07-082.png\r\n",
      "paper02-053.png  paper04-023.png  paper05-113.png  paper07-083.png\r\n",
      "paper02-054.png  paper04-024.png  paper05-114.png  paper07-084.png\r\n",
      "paper02-055.png  paper04-025.png  paper05-115.png  paper07-085.png\r\n",
      "paper02-056.png  paper04-026.png  paper05-116.png  paper07-086.png\r\n",
      "paper02-057.png  paper04-027.png  paper05-117.png  paper07-087.png\r\n",
      "paper02-058.png  paper04-028.png  paper05-118.png  paper07-088.png\r\n",
      "paper02-059.png  paper04-029.png  paper05-119.png  paper07-089.png\r\n",
      "paper02-060.png  paper04-030.png  paper06-000.png  paper07-090.png\r\n",
      "paper02-061.png  paper04-031.png  paper06-001.png  paper07-091.png\r\n",
      "paper02-062.png  paper04-032.png  paper06-002.png  paper07-092.png\r\n",
      "paper02-063.png  paper04-033.png  paper06-003.png  paper07-093.png\r\n",
      "paper02-064.png  paper04-034.png  paper06-004.png  paper07-094.png\r\n",
      "paper02-065.png  paper04-035.png  paper06-005.png  paper07-095.png\r\n",
      "paper02-066.png  paper04-036.png  paper06-006.png  paper07-096.png\r\n",
      "paper02-067.png  paper04-037.png  paper06-007.png  paper07-097.png\r\n",
      "paper02-068.png  paper04-038.png  paper06-008.png  paper07-098.png\r\n",
      "paper02-069.png  paper04-039.png  paper06-009.png  paper07-099.png\r\n",
      "paper02-070.png  paper04-040.png  paper06-010.png  paper07-100.png\r\n",
      "paper02-071.png  paper04-041.png  paper06-011.png  paper07-101.png\r\n",
      "paper02-072.png  paper04-042.png  paper06-012.png  paper07-102.png\r\n",
      "paper02-073.png  paper04-043.png  paper06-013.png  paper07-103.png\r\n",
      "paper02-074.png  paper04-044.png  paper06-014.png  paper07-104.png\r\n",
      "paper02-075.png  paper04-045.png  paper06-015.png  paper07-105.png\r\n",
      "paper02-076.png  paper04-046.png  paper06-016.png  paper07-106.png\r\n",
      "paper02-077.png  paper04-047.png  paper06-017.png  paper07-107.png\r\n",
      "paper02-078.png  paper04-048.png  paper06-018.png  paper07-108.png\r\n",
      "paper02-079.png  paper04-049.png  paper06-019.png  paper07-109.png\r\n",
      "paper02-080.png  paper04-050.png  paper06-020.png  paper07-110.png\r\n",
      "paper02-081.png  paper04-051.png  paper06-021.png  paper07-111.png\r\n",
      "paper02-082.png  paper04-052.png  paper06-022.png  paper07-112.png\r\n",
      "paper02-083.png  paper04-053.png  paper06-023.png  paper07-113.png\r\n",
      "paper02-084.png  paper04-054.png  paper06-024.png  paper07-114.png\r\n",
      "paper02-085.png  paper04-055.png  paper06-025.png  paper07-115.png\r\n",
      "paper02-086.png  paper04-056.png  paper06-026.png  paper07-116.png\r\n",
      "paper02-087.png  paper04-057.png  paper06-027.png  paper07-117.png\r\n",
      "paper02-088.png  paper04-058.png  paper06-028.png  paper07-118.png\r\n",
      "paper02-089.png  paper04-059.png  paper06-029.png  paper07-119.png\r\n"
     ]
    }
   ],
   "source": [
    "# 1) train이미지 가져오기(몇 개인지 확인)\n",
    "# 2) resize하기\n",
    "# 3) 가져와서 기존의 300개 train_set(x_train_norm)과 합치기\n",
    "\n",
    "~/aiffel/rock_scissor_paper/train_2/rps/"
   ]
  },
  {
   "cell_type": "code",
   "execution_count": 89,
   "id": "restricted-detail",
   "metadata": {},
   "outputs": [
    {
     "data": {
      "text/plain": [
       "(300, 300, 4)"
      ]
     },
     "execution_count": 89,
     "metadata": {},
     "output_type": "execute_result"
    }
   ],
   "source": [
    "# 원본 이미지 사이즈 확인\n",
    "train_2_img = Image.open(os.getenv(\"HOME\") + \"/aiffel/rock_scissor_paper/train_2/rps/paper/paper01-006.png\")\n",
    "np.array(train_2_img).shape\n"
   ]
  },
  {
   "cell_type": "code",
   "execution_count": 93,
   "id": "disturbed-carol",
   "metadata": {},
   "outputs": [
    {
     "name": "stdout",
     "output_type": "stream",
     "text": [
      "840  images to be resized.\n",
      "840  images resized.\n",
      "----- 보 완료 -------\n",
      "0  images to be resized.\n",
      "0  images resized.\n",
      "----- 가위 완료 -------\n",
      "840  images to be resized.\n",
      "840  images resized.\n",
      "----- 바위 완료 -------\n"
     ]
    }
   ],
   "source": [
    "# png에 맞게 resize_images()함수 바꾸기\n",
    "def resize_images(img_path):\n",
    "    images=glob.glob(img_path + \"/*.png\") # 이 부분 바꿈  \n",
    "    \n",
    "    print(len(images), \" images to be resized.\")\n",
    "\n",
    "    # 파일마다 모두 28x28 사이즈로 바꾸어 저장합니다.\n",
    "    target_size=(28,28)\n",
    "    for img in images:\n",
    "        old_img=Image.open(img)\n",
    "        old_img=old_img.convert('RGB')\n",
    "        new_img=old_img.resize(target_size,Image.ANTIALIAS)\n",
    "        new_img.save(img, \"JPEG\")\n",
    "    \n",
    "    print(len(images), \" images resized.\")\n",
    "\n",
    "\n",
    "# 이미지 불러와서 resize하기\n",
    "image_dir_path = os.getenv(\"HOME\") + \"/aiffel/rock_scissor_paper/train_2/rps/paper\"\n",
    "resize_images(image_dir_path)\n",
    "print(\"----- 보 완료 -------\")\n",
    "image_dir_path = os.getenv(\"HOME\") + \"/aiffel/rock_scissor_paper/train_2/rps/scissors\"\n",
    "resize_images(image_dir_path)\n",
    "print(\"----- 가위 완료 -------\")\n",
    "image_dir_path = os.getenv(\"HOME\") + \"/aiffel/rock_scissor_paper/train_2/rps/rock\"\n",
    "resize_images(image_dir_path)\n",
    "print(\"----- 바위 완료 -------\")"
   ]
  },
  {
   "cell_type": "code",
   "execution_count": 94,
   "id": "drawn-cabinet",
   "metadata": {},
   "outputs": [
    {
     "name": "stdout",
     "output_type": "stream",
     "text": [
      "840  images to be resized.\n",
      "840  images resized.\n",
      "----- 가위 완료 -------\n"
     ]
    }
   ],
   "source": [
    "# 오류 난 가위만 오류 바꿔서 다시 실행\n",
    "image_dir_path = os.getenv(\"HOME\") + \"/aiffel/rock_scissor_paper/train_2/rps/scissors\"\n",
    "resize_images(image_dir_path)\n",
    "print(\"----- 가위 완료 -------\")\n"
   ]
  },
  {
   "cell_type": "code",
   "execution_count": 95,
   "id": "governing-somerset",
   "metadata": {},
   "outputs": [
    {
     "name": "stdout",
     "output_type": "stream",
     "text": [
      "(28, 28, 3)\n"
     ]
    },
    {
     "data": {
      "image/png": "[encoded data removed]",
      "text/plain": [
       "<PIL.JpegImagePlugin.JpegImageFile image mode=RGB size=28x28 at 0x7F81E40EA290>"
      ]
     },
     "execution_count": 95,
     "metadata": {},
     "output_type": "execute_result"
    }
   ],
   "source": [
    "# 리사이즈 됐는지 이미지 확인\n",
    "train_resized = Image.open(os.getenv(\"HOME\") + \"/aiffel/rock_scissor_paper/train_2/rps/paper/paper01-006.png\")\n",
    "print(np.array(train_resized).shape)\n",
    "train_resized\n"
   ]
  },
  {
   "cell_type": "code",
   "execution_count": 98,
   "id": "written-bermuda",
   "metadata": {},
   "outputs": [
    {
     "name": "stdout",
     "output_type": "stream",
     "text": [
      "트레인 데이터(x_train_2)의 이미지 개수는 2520 입니다.\n",
      "x_train_2 모습은: (2520, 28, 28, 3)\n",
      "y_train_2 모습은: (2520,)\n"
     ]
    }
   ],
   "source": [
    "# resize된 train 데이터 load하기\n",
    "\n",
    "def train_2_load_data(img_path, number_of_data=2520):  # 가위바위보 이미지 개수 총합에 주의하세요.\n",
    "    # 가위 : 0, 바위 : 1, 보 : 2\n",
    "    img_size=28\n",
    "    color=3\n",
    "    #이미지 데이터와 라벨(가위 : 0, 바위 : 1, 보 : 2) 데이터를 담을 행렬(matrix) 영역을 생성합니다.\n",
    "    imgs=np.zeros(number_of_data*img_size*img_size*color,dtype=np.int32).reshape(number_of_data,img_size,img_size,color)\n",
    "    labels=np.zeros(number_of_data,dtype=np.int32)\n",
    "\n",
    "    idx=0\n",
    "    for file in glob.iglob(img_path+'/scissors/*.png'):\n",
    "        img = np.array(Image.open(file),dtype=np.int32)\n",
    "        imgs[idx,:,:,:]=img    # 데이터 영역에 이미지 행렬을 복사\n",
    "        labels[idx]=0   # 가위 : 0\n",
    "        idx=idx+1\n",
    "\n",
    "    for file in glob.iglob(img_path+'/rock/*.png'):\n",
    "        img = np.array(Image.open(file),dtype=np.int32)\n",
    "        imgs[idx,:,:,:]=img    # 데이터 영역에 이미지 행렬을 복사\n",
    "        labels[idx]=1   # 바위 : 1\n",
    "        idx=idx+1  \n",
    "    \n",
    "    for file in glob.iglob(img_path+'/paper/*.png'):\n",
    "        img = np.array(Image.open(file),dtype=np.int32)\n",
    "        imgs[idx,:,:,:]=img    # 데이터 영역에 이미지 행렬을 복사\n",
    "        labels[idx]=2   # 보 : 2\n",
    "        idx=idx+1\n",
    "        \n",
    "    print(\"트레인 데이터(x_train_2)의 이미지 개수는\", idx,\"입니다.\")\n",
    "    return imgs, labels\n",
    "\n",
    "train_2_path = os.getenv(\"HOME\") + \"/aiffel/rock_scissor_paper/train_2/rps\"\n",
    "x_train_2, y_train_2 = train_2_load_data(train_2_path)\n",
    "\n",
    "print(\"x_train_2 모습은:\", x_train_2.shape)\n",
    "print(\"y_train_2 모습은:\", y_train_2.shape)\n"
   ]
  },
  {
   "cell_type": "code",
   "execution_count": 100,
   "id": "unique-alarm",
   "metadata": {},
   "outputs": [
    {
     "data": {
      "text/plain": [
       "array([[[[0.96470588, 1.        , 0.98431373],\n",
       "         [0.96862745, 1.        , 0.98431373],\n",
       "         [0.97647059, 1.        , 0.98431373],\n",
       "         ...,\n",
       "         [0.98039216, 0.98431373, 1.        ],\n",
       "         [0.97647059, 0.98039216, 0.99607843],\n",
       "         [0.97647059, 0.98039216, 0.98823529]],\n",
       "\n",
       "        [[0.96862745, 1.        , 0.98431373],\n",
       "         [0.96862745, 1.        , 0.98431373],\n",
       "         [0.97647059, 1.        , 0.98431373],\n",
       "         ...,\n",
       "         [0.98039216, 0.98431373, 1.        ],\n",
       "         [0.98039216, 0.98431373, 1.        ],\n",
       "         [0.97647059, 0.98039216, 0.98823529]],\n",
       "\n",
       "        [[0.96862745, 1.        , 0.98431373],\n",
       "         [0.96862745, 1.        , 0.98431373],\n",
       "         [0.97647059, 1.        , 0.99215686],\n",
       "         ...,\n",
       "         [0.98431373, 0.98823529, 1.        ],\n",
       "         [0.98039216, 0.98431373, 1.        ],\n",
       "         [0.98039216, 0.98431373, 0.99215686]],\n",
       "\n",
       "        ...,\n",
       "\n",
       "        [[0.96470588, 0.99607843, 1.        ],\n",
       "         [0.97254902, 0.99215686, 1.        ],\n",
       "         [0.98431373, 0.98823529, 1.        ],\n",
       "         ...,\n",
       "         [0.96862745, 0.97647059, 0.97254902],\n",
       "         [0.96078431, 0.97647059, 0.97254902],\n",
       "         [0.96862745, 0.97647059, 0.97254902]],\n",
       "\n",
       "        [[0.97254902, 0.99607843, 0.99607843],\n",
       "         [0.97647059, 0.99215686, 0.99607843],\n",
       "         [0.98431373, 0.98823529, 1.        ],\n",
       "         ...,\n",
       "         [0.96862745, 0.97647059, 0.97254902],\n",
       "         [0.96078431, 0.97647059, 0.97254902],\n",
       "         [0.96862745, 0.97647059, 0.97254902]],\n",
       "\n",
       "        [[0.97647059, 0.99215686, 0.98823529],\n",
       "         [0.97647059, 0.99215686, 0.98823529],\n",
       "         [0.98823529, 0.98823529, 0.99607843],\n",
       "         ...,\n",
       "         [0.96862745, 0.97647059, 0.97254902],\n",
       "         [0.96078431, 0.97647059, 0.97254902],\n",
       "         [0.96862745, 0.97647059, 0.97254902]]],\n",
       "\n",
       "\n",
       "       [[[0.99215686, 0.99607843, 0.97647059],\n",
       "         [0.99215686, 0.99607843, 0.97647059],\n",
       "         [0.99215686, 0.99215686, 0.98431373],\n",
       "         ...,\n",
       "         [0.97254902, 0.96862745, 0.96078431],\n",
       "         [0.96078431, 0.95294118, 0.95686275],\n",
       "         [0.96078431, 0.94509804, 0.94901961]],\n",
       "\n",
       "        [[0.99215686, 0.99607843, 0.97647059],\n",
       "         [0.99215686, 0.99607843, 0.97647059],\n",
       "         [0.99215686, 0.99215686, 0.98431373],\n",
       "         ...,\n",
       "         [0.96862745, 0.96862745, 0.96078431],\n",
       "         [0.95686275, 0.94901961, 0.95294118],\n",
       "         [0.96078431, 0.94509804, 0.94901961]],\n",
       "\n",
       "        [[0.99215686, 0.99607843, 0.97647059],\n",
       "         [0.99215686, 0.99607843, 0.97647059],\n",
       "         [0.99215686, 0.99215686, 0.98431373],\n",
       "         ...,\n",
       "         [0.96470588, 0.96470588, 0.95686275],\n",
       "         [0.95294118, 0.94509804, 0.94901961],\n",
       "         [0.94509804, 0.9372549 , 0.94117647]],\n",
       "\n",
       "        ...,\n",
       "\n",
       "        [[0.99215686, 0.98431373, 0.98823529],\n",
       "         [0.99215686, 0.98431373, 0.98823529],\n",
       "         [0.98823529, 0.98823529, 0.98823529],\n",
       "         ...,\n",
       "         [0.97254902, 0.97254902, 0.97254902],\n",
       "         [0.97647059, 0.98431373, 0.98039216],\n",
       "         [0.97647059, 0.98039216, 0.98823529]],\n",
       "\n",
       "        [[0.99215686, 0.98431373, 0.99607843],\n",
       "         [0.99215686, 0.98431373, 0.99607843],\n",
       "         [0.98823529, 0.98823529, 0.99607843],\n",
       "         ...,\n",
       "         [0.97254902, 0.97254902, 0.97254902],\n",
       "         [0.97647059, 0.98431373, 0.98039216],\n",
       "         [0.96862745, 0.98431373, 0.98823529]],\n",
       "\n",
       "        [[0.99215686, 0.98431373, 0.99607843],\n",
       "         [0.98823529, 0.98823529, 0.99607843],\n",
       "         [0.98823529, 0.98823529, 0.99607843],\n",
       "         ...,\n",
       "         [0.97254902, 0.97254902, 0.97254902],\n",
       "         [0.97647059, 0.98431373, 0.98039216],\n",
       "         [0.96862745, 0.98431373, 0.98823529]]],\n",
       "\n",
       "\n",
       "       [[[0.99215686, 0.98823529, 1.        ],\n",
       "         [0.99215686, 0.98823529, 1.        ],\n",
       "         [0.99215686, 0.98823529, 1.        ],\n",
       "         ...,\n",
       "         [0.99607843, 0.98823529, 0.99215686],\n",
       "         [1.        , 0.98431373, 0.98823529],\n",
       "         [0.99607843, 0.98039216, 0.98431373]],\n",
       "\n",
       "        [[0.99215686, 0.98823529, 1.        ],\n",
       "         [0.99215686, 0.98823529, 1.        ],\n",
       "         [0.99215686, 0.98823529, 1.        ],\n",
       "         ...,\n",
       "         [0.99607843, 0.98823529, 0.99215686],\n",
       "         [1.        , 0.98431373, 0.98823529],\n",
       "         [1.        , 0.98431373, 0.98823529]],\n",
       "\n",
       "        [[0.99215686, 0.98823529, 1.        ],\n",
       "         [0.99215686, 0.98823529, 1.        ],\n",
       "         [0.99215686, 0.98823529, 1.        ],\n",
       "         ...,\n",
       "         [1.        , 0.99215686, 0.99607843],\n",
       "         [1.        , 0.98823529, 0.99215686],\n",
       "         [1.        , 0.98431373, 0.98823529]],\n",
       "\n",
       "        ...,\n",
       "\n",
       "        [[0.98431373, 0.98431373, 0.97647059],\n",
       "         [0.98431373, 0.98431373, 0.97647059],\n",
       "         [0.98431373, 0.98431373, 0.98431373],\n",
       "         ...,\n",
       "         [0.97254902, 0.98039216, 0.97647059],\n",
       "         [0.97254902, 0.97647059, 0.98431373],\n",
       "         [0.97647059, 0.97647059, 0.98431373]],\n",
       "\n",
       "        [[0.98431373, 0.98431373, 0.97647059],\n",
       "         [0.98431373, 0.98431373, 0.97647059],\n",
       "         [0.98431373, 0.98431373, 0.98431373],\n",
       "         ...,\n",
       "         [0.97254902, 0.98039216, 0.97647059],\n",
       "         [0.97254902, 0.97647059, 0.98431373],\n",
       "         [0.97647059, 0.97647059, 0.98431373]],\n",
       "\n",
       "        [[0.98431373, 0.98431373, 0.97647059],\n",
       "         [0.98431373, 0.98431373, 0.97647059],\n",
       "         [0.98431373, 0.98431373, 0.98431373],\n",
       "         ...,\n",
       "         [0.97254902, 0.98039216, 0.97647059],\n",
       "         [0.97254902, 0.97647059, 0.98431373],\n",
       "         [0.97647059, 0.97647059, 0.98431373]]],\n",
       "\n",
       "\n",
       "       ...,\n",
       "\n",
       "\n",
       "       [[[0.98823529, 1.        , 1.        ],\n",
       "         [0.96470588, 0.98039216, 0.98431373],\n",
       "         [0.99607843, 1.        , 1.        ],\n",
       "         ...,\n",
       "         [0.99607843, 1.        , 1.        ],\n",
       "         [0.99607843, 1.        , 1.        ],\n",
       "         [1.        , 1.        , 1.        ]],\n",
       "\n",
       "        [[0.95294118, 0.96862745, 0.97254902],\n",
       "         [0.98823529, 1.        , 1.        ],\n",
       "         [0.99607843, 1.        , 1.        ],\n",
       "         ...,\n",
       "         [0.99607843, 1.        , 1.        ],\n",
       "         [0.99607843, 1.        , 1.        ],\n",
       "         [1.        , 1.        , 1.        ]],\n",
       "\n",
       "        [[0.96862745, 0.98431373, 0.98823529],\n",
       "         [0.98823529, 1.        , 1.        ],\n",
       "         [0.98823529, 0.99607843, 0.99215686],\n",
       "         ...,\n",
       "         [0.99607843, 1.        , 1.        ],\n",
       "         [0.99607843, 1.        , 1.        ],\n",
       "         [1.        , 1.        , 1.        ]],\n",
       "\n",
       "        ...,\n",
       "\n",
       "        [[1.        , 0.99607843, 1.        ],\n",
       "         [1.        , 0.99607843, 1.        ],\n",
       "         [1.        , 1.        , 1.        ],\n",
       "         ...,\n",
       "         [0.99215686, 0.99607843, 1.        ],\n",
       "         [0.99215686, 0.99607843, 1.        ],\n",
       "         [0.99607843, 0.99607843, 0.99607843]],\n",
       "\n",
       "        [[1.        , 0.99607843, 1.        ],\n",
       "         [1.        , 0.99607843, 1.        ],\n",
       "         [1.        , 1.        , 1.        ],\n",
       "         ...,\n",
       "         [0.99215686, 0.99607843, 1.        ],\n",
       "         [0.99215686, 0.99607843, 1.        ],\n",
       "         [0.99607843, 0.99607843, 0.99607843]],\n",
       "\n",
       "        [[1.        , 0.99607843, 1.        ],\n",
       "         [1.        , 0.99607843, 1.        ],\n",
       "         [1.        , 1.        , 1.        ],\n",
       "         ...,\n",
       "         [0.99215686, 0.99607843, 1.        ],\n",
       "         [0.99215686, 0.99607843, 1.        ],\n",
       "         [0.99607843, 0.99607843, 0.99607843]]],\n",
       "\n",
       "\n",
       "       [[[0.99607843, 1.        , 1.        ],\n",
       "         [0.99607843, 0.99607843, 1.        ],\n",
       "         [0.97254902, 0.97254902, 0.98039216],\n",
       "         ...,\n",
       "         [1.        , 0.98431373, 1.        ],\n",
       "         [1.        , 0.98431373, 1.        ],\n",
       "         [1.        , 0.98823529, 1.        ]],\n",
       "\n",
       "        [[0.96862745, 0.96862745, 0.96862745],\n",
       "         [1.        , 1.        , 1.        ],\n",
       "         [1.        , 1.        , 1.        ],\n",
       "         ...,\n",
       "         [1.        , 0.98431373, 1.        ],\n",
       "         [1.        , 0.98431373, 1.        ],\n",
       "         [1.        , 0.98823529, 1.        ]],\n",
       "\n",
       "        [[0.98431373, 0.98431373, 0.98431373],\n",
       "         [1.        , 0.99607843, 1.        ],\n",
       "         [1.        , 0.99607843, 1.        ],\n",
       "         ...,\n",
       "         [1.        , 0.98431373, 1.        ],\n",
       "         [1.        , 0.98431373, 1.        ],\n",
       "         [1.        , 0.98823529, 1.        ]],\n",
       "\n",
       "        ...,\n",
       "\n",
       "        [[0.99607843, 1.        , 0.99215686],\n",
       "         [0.99607843, 1.        , 1.        ],\n",
       "         [0.99607843, 1.        , 1.        ],\n",
       "         ...,\n",
       "         [1.        , 0.99215686, 0.99607843],\n",
       "         [1.        , 0.98823529, 0.99607843],\n",
       "         [1.        , 0.98823529, 0.99607843]],\n",
       "\n",
       "        [[1.        , 1.        , 0.99215686],\n",
       "         [1.        , 1.        , 0.99215686],\n",
       "         [0.99607843, 1.        , 1.        ],\n",
       "         ...,\n",
       "         [1.        , 0.99215686, 0.99607843],\n",
       "         [1.        , 0.98823529, 0.99607843],\n",
       "         [1.        , 0.98823529, 0.99607843]],\n",
       "\n",
       "        [[1.        , 1.        , 0.99215686],\n",
       "         [1.        , 1.        , 0.99215686],\n",
       "         [1.        , 1.        , 1.        ],\n",
       "         ...,\n",
       "         [1.        , 0.99215686, 0.99607843],\n",
       "         [1.        , 0.98823529, 0.99607843],\n",
       "         [1.        , 0.98823529, 0.99607843]]],\n",
       "\n",
       "\n",
       "       [[[1.        , 0.98431373, 0.98431373],\n",
       "         [1.        , 0.98431373, 0.98431373],\n",
       "         [1.        , 0.98823529, 0.98431373],\n",
       "         ...,\n",
       "         [0.99215686, 0.98823529, 0.98039216],\n",
       "         [0.98823529, 0.98431373, 0.97647059],\n",
       "         [0.98823529, 0.98039216, 0.98431373]],\n",
       "\n",
       "        [[1.        , 0.98431373, 0.98431373],\n",
       "         [1.        , 0.98431373, 0.98431373],\n",
       "         [1.        , 0.98823529, 0.98431373],\n",
       "         ...,\n",
       "         [0.99215686, 0.98823529, 0.98039216],\n",
       "         [0.99215686, 0.98823529, 0.98039216],\n",
       "         [0.98823529, 0.98039216, 0.98431373]],\n",
       "\n",
       "        [[1.        , 0.98431373, 0.98431373],\n",
       "         [1.        , 0.98823529, 0.98431373],\n",
       "         [1.        , 0.98823529, 0.98431373],\n",
       "         ...,\n",
       "         [0.99607843, 0.99215686, 0.98431373],\n",
       "         [0.99215686, 0.98823529, 0.98039216],\n",
       "         [0.99215686, 0.98431373, 0.98823529]],\n",
       "\n",
       "        ...,\n",
       "\n",
       "        [[0.99215686, 0.97254902, 0.96078431],\n",
       "         [0.99607843, 0.98039216, 0.97647059],\n",
       "         [0.96862745, 0.96862745, 0.96862745],\n",
       "         ...,\n",
       "         [0.97647059, 0.97647059, 0.96862745],\n",
       "         [0.98039216, 0.97647059, 0.96862745],\n",
       "         [0.99215686, 0.97647059, 0.98039216]],\n",
       "\n",
       "        [[0.98823529, 0.96470588, 0.96470588],\n",
       "         [0.99215686, 0.97647059, 0.97254902],\n",
       "         [0.96078431, 0.96078431, 0.96078431],\n",
       "         ...,\n",
       "         [0.97647059, 0.98039216, 0.96078431],\n",
       "         [0.98039216, 0.97647059, 0.96862745],\n",
       "         [0.98431373, 0.97647059, 0.98039216]],\n",
       "\n",
       "        [[0.99215686, 0.96862745, 0.96862745],\n",
       "         [0.99215686, 0.97647059, 0.98039216],\n",
       "         [0.95686275, 0.94901961, 0.96078431],\n",
       "         ...,\n",
       "         [0.97647059, 0.98039216, 0.96078431],\n",
       "         [0.97647059, 0.97647059, 0.96862745],\n",
       "         [0.98431373, 0.98039216, 0.97254902]]]])"
      ]
     },
     "execution_count": 100,
     "metadata": {},
     "output_type": "execute_result"
    }
   ],
   "source": [
    "# normalize 해주기\n",
    "x_train_2_norm = x_train_2 / 255.0\n",
    "x_train_2_norm"
   ]
  },
  {
   "cell_type": "code",
   "execution_count": 102,
   "id": "productive-defeat",
   "metadata": {},
   "outputs": [
    {
     "name": "stdout",
     "output_type": "stream",
     "text": [
      "Before concatenate : 300\n",
      "After concatenate new_x_train: 2820\n",
      "After concatenate new_y_train: 2820\n"
     ]
    }
   ],
   "source": [
    "# 기존 x_train_norm 300개와 합쳐주기\n",
    "print(\"Before concatenate :\", len(x_train_norm))\n",
    "\n",
    "new_x_train = np.concatenate((x_train_norm, x_train_2_norm), axis=0)\n",
    "new_y_train = np.concatenate((y_train, y_train_2))\n",
    "\n",
    "print(\"After concatenate new_x_train:\", len(new_x_train))\n",
    "print(\"After concatenate new_y_train:\", len(new_y_train))\n"
   ]
  },
  {
   "cell_type": "code",
   "execution_count": 103,
   "id": "conscious-miami",
   "metadata": {},
   "outputs": [
    {
     "name": "stdout",
     "output_type": "stream",
     "text": [
      "Model: \"sequential_12\"\n",
      "_________________________________________________________________\n",
      "Layer (type)                 Output Shape              Param #   \n",
      "=================================================================\n",
      "conv2d_24 (Conv2D)           (None, 26, 26, 16)        448       \n",
      "_________________________________________________________________\n",
      "max_pooling2d_24 (MaxPooling (None, 13, 13, 16)        0         \n",
      "_________________________________________________________________\n",
      "conv2d_25 (Conv2D)           (None, 11, 11, 64)        9280      \n",
      "_________________________________________________________________\n",
      "max_pooling2d_25 (MaxPooling (None, 5, 5, 64)          0         \n",
      "_________________________________________________________________\n",
      "flatten_12 (Flatten)         (None, 1600)              0         \n",
      "_________________________________________________________________\n",
      "dense_24 (Dense)             (None, 32)                51232     \n",
      "_________________________________________________________________\n",
      "dense_25 (Dense)             (None, 3)                 99        \n",
      "=================================================================\n",
      "Total params: 61,059\n",
      "Trainable params: 61,059\n",
      "Non-trainable params: 0\n",
      "_________________________________________________________________\n",
      "Epoch 1/10\n",
      "89/89 [==============================] - 6s 59ms/step - loss: 0.9566 - accuracy: 0.5248\n",
      "Epoch 2/10\n",
      "89/89 [==============================] - 0s 3ms/step - loss: 0.2602 - accuracy: 0.9284\n",
      "Epoch 3/10\n",
      "89/89 [==============================] - 0s 3ms/step - loss: 0.0851 - accuracy: 0.9836\n",
      "Epoch 4/10\n",
      "89/89 [==============================] - 0s 3ms/step - loss: 0.0338 - accuracy: 0.9963\n",
      "Epoch 5/10\n",
      "89/89 [==============================] - 0s 3ms/step - loss: 0.0197 - accuracy: 0.9972\n",
      "Epoch 6/10\n",
      "89/89 [==============================] - 0s 3ms/step - loss: 0.0096 - accuracy: 0.9994\n",
      "Epoch 7/10\n",
      "89/89 [==============================] - 0s 3ms/step - loss: 0.0105 - accuracy: 0.9975\n",
      "Epoch 8/10\n",
      "89/89 [==============================] - 0s 3ms/step - loss: 0.0042 - accuracy: 1.0000\n",
      "Epoch 9/10\n",
      "89/89 [==============================] - 0s 3ms/step - loss: 0.0039 - accuracy: 1.0000\n",
      "Epoch 10/10\n",
      "89/89 [==============================] - 0s 3ms/step - loss: 0.0024 - accuracy: 1.0000\n",
      "10/10 - 0s - loss: 3.0823 - accuracy: 0.3800\n",
      "test_loss: 3.0822575092315674 \n",
      "test_accuracy: 0.3799999952316284\n"
     ]
    }
   ],
   "source": [
    "# 모델 다시 만들어서 학습 및 평가해보기\n",
    "# 하다 보니 생각났는데 이럴 필요는 없구나...\n",
    "\n",
    "model = keras.models.Sequential()\n",
    "model.add(keras.layers.Conv2D(16, (3,3), activation='relu', input_shape=(28,28,3)))\n",
    "model.add(keras.layers.MaxPool2D(2,2))\n",
    "model.add(keras.layers.Conv2D(64, (3,3), activation='relu')) # 아까 하이퍼파라미터에서 여기 2배 해서 성능 좋았기에 64로 함\n",
    "model.add(keras.layers.MaxPooling2D(2,2))\n",
    "model.add(keras.layers.Flatten())\n",
    "model.add(keras.layers.Dense(32, activation='relu'))\n",
    "model.add(keras.layers.Dense(3, activation='softmax'))\n",
    "\n",
    "model.summary()\n",
    "\n",
    "model.compile(optimizer='adam',\n",
    "             loss='sparse_categorical_crossentropy',\n",
    "             metrics=['accuracy'])\n",
    "\n",
    "model.fit(new_x_train, new_y_train, epochs=10)\n",
    "\n",
    "test_loss, test_accuracy = model.evaluate(x_test_norm, y_test, verbose=2)\n",
    "print(\"test_loss: {} \".format(test_loss))\n",
    "print(\"test_accuracy: {}\".format(test_accuracy))"
   ]
  },
  {
   "cell_type": "markdown",
   "id": "unusual-listing",
   "metadata": {},
   "source": [
    "### Accuracy 높이기 - 3) 트레인셋 늘렸으니 다시 모델 하이퍼파라미터도 변경해보기"
   ]
  },
  {
   "cell_type": "code",
   "execution_count": 104,
   "id": "toxic-brass",
   "metadata": {},
   "outputs": [
    {
     "name": "stdout",
     "output_type": "stream",
     "text": [
      "Model: \"sequential_13\"\n",
      "_________________________________________________________________\n",
      "Layer (type)                 Output Shape              Param #   \n",
      "=================================================================\n",
      "conv2d_26 (Conv2D)           (None, 26, 26, 16)        448       \n",
      "_________________________________________________________________\n",
      "max_pooling2d_26 (MaxPooling (None, 13, 13, 16)        0         \n",
      "_________________________________________________________________\n",
      "conv2d_27 (Conv2D)           (None, 11, 11, 64)        9280      \n",
      "_________________________________________________________________\n",
      "max_pooling2d_27 (MaxPooling (None, 5, 5, 64)          0         \n",
      "_________________________________________________________________\n",
      "flatten_13 (Flatten)         (None, 1600)              0         \n",
      "_________________________________________________________________\n",
      "dense_26 (Dense)             (None, 64)                102464    \n",
      "_________________________________________________________________\n",
      "dense_27 (Dense)             (None, 3)                 195       \n",
      "=================================================================\n",
      "Total params: 112,387\n",
      "Trainable params: 112,387\n",
      "Non-trainable params: 0\n",
      "_________________________________________________________________\n",
      "Epoch 1/30\n",
      "89/89 [==============================] - 1s 3ms/step - loss: 0.9566 - accuracy: 0.5264\n",
      "Epoch 2/30\n",
      "89/89 [==============================] - 0s 3ms/step - loss: 0.2701 - accuracy: 0.9144\n",
      "Epoch 3/30\n",
      "89/89 [==============================] - 0s 3ms/step - loss: 0.1098 - accuracy: 0.9728\n",
      "Epoch 4/30\n",
      "89/89 [==============================] - 0s 3ms/step - loss: 0.0591 - accuracy: 0.9864\n",
      "Epoch 5/30\n",
      "89/89 [==============================] - 0s 3ms/step - loss: 0.0251 - accuracy: 0.9958\n",
      "Epoch 6/30\n",
      "89/89 [==============================] - 0s 3ms/step - loss: 0.0127 - accuracy: 0.9970\n",
      "Epoch 7/30\n",
      "89/89 [==============================] - 0s 3ms/step - loss: 0.0061 - accuracy: 1.0000\n",
      "Epoch 8/30\n",
      "89/89 [==============================] - 0s 3ms/step - loss: 0.0042 - accuracy: 1.0000\n",
      "Epoch 9/30\n",
      "89/89 [==============================] - 0s 3ms/step - loss: 0.0024 - accuracy: 1.0000\n",
      "Epoch 10/30\n",
      "89/89 [==============================] - 0s 3ms/step - loss: 0.0016 - accuracy: 1.0000\n",
      "Epoch 11/30\n",
      "89/89 [==============================] - 0s 3ms/step - loss: 0.0012 - accuracy: 1.0000\n",
      "Epoch 12/30\n",
      "89/89 [==============================] - 0s 3ms/step - loss: 0.0010 - accuracy: 1.0000\n",
      "Epoch 13/30\n",
      "89/89 [==============================] - 0s 3ms/step - loss: 8.4841e-04 - accuracy: 1.0000\n",
      "Epoch 14/30\n",
      "89/89 [==============================] - 0s 3ms/step - loss: 6.1154e-04 - accuracy: 1.0000\n",
      "Epoch 15/30\n",
      "89/89 [==============================] - 0s 3ms/step - loss: 4.7525e-04 - accuracy: 1.0000\n",
      "Epoch 16/30\n",
      "89/89 [==============================] - 0s 3ms/step - loss: 3.8385e-04 - accuracy: 1.0000\n",
      "Epoch 17/30\n",
      "89/89 [==============================] - 0s 3ms/step - loss: 3.9782e-04 - accuracy: 1.0000\n",
      "Epoch 18/30\n",
      "89/89 [==============================] - 0s 3ms/step - loss: 2.9830e-04 - accuracy: 1.0000\n",
      "Epoch 19/30\n",
      "89/89 [==============================] - 0s 3ms/step - loss: 2.5472e-04 - accuracy: 1.0000\n",
      "Epoch 20/30\n",
      "89/89 [==============================] - 0s 3ms/step - loss: 2.2977e-04 - accuracy: 1.0000\n",
      "Epoch 21/30\n",
      "89/89 [==============================] - 0s 3ms/step - loss: 2.0641e-04 - accuracy: 1.0000\n",
      "Epoch 22/30\n",
      "89/89 [==============================] - 0s 3ms/step - loss: 1.6394e-04 - accuracy: 1.0000\n",
      "Epoch 23/30\n",
      "89/89 [==============================] - 0s 3ms/step - loss: 1.6325e-04 - accuracy: 1.0000\n",
      "Epoch 24/30\n",
      "89/89 [==============================] - 0s 3ms/step - loss: 1.2847e-04 - accuracy: 1.0000\n",
      "Epoch 25/30\n",
      "89/89 [==============================] - 0s 3ms/step - loss: 1.1094e-04 - accuracy: 1.0000\n",
      "Epoch 26/30\n",
      "89/89 [==============================] - 0s 3ms/step - loss: 1.1840e-04 - accuracy: 1.0000\n",
      "Epoch 27/30\n",
      "89/89 [==============================] - 0s 3ms/step - loss: 9.7607e-05 - accuracy: 1.0000\n",
      "Epoch 28/30\n",
      "89/89 [==============================] - 0s 3ms/step - loss: 9.2746e-05 - accuracy: 1.0000\n",
      "Epoch 29/30\n",
      "89/89 [==============================] - 0s 3ms/step - loss: 8.9640e-05 - accuracy: 1.0000\n",
      "Epoch 30/30\n",
      "89/89 [==============================] - 0s 3ms/step - loss: 8.1819e-05 - accuracy: 1.0000\n",
      "10/10 - 0s - loss: 6.2283 - accuracy: 0.2733\n",
      "test_loss: 6.228262424468994 \n",
      "test_accuracy: 0.273333340883255\n"
     ]
    }
   ],
   "source": [
    "# 모델 다시 만들어서 학습 및 평가해보기\n",
    "# 하다 보니 생각났는데 이럴 필요는 없구나...\n",
    "\n",
    "model = keras.models.Sequential()\n",
    "model.add(keras.layers.Conv2D(16, (3,3), activation='relu', input_shape=(28,28,3)))\n",
    "model.add(keras.layers.MaxPool2D(2,2))\n",
    "model.add(keras.layers.Conv2D(64, (3,3), activation='relu')) # 아까 하이퍼파라미터에서 여기 2배 해서 성능 좋았기에 64로 함\n",
    "model.add(keras.layers.MaxPooling2D(2,2))\n",
    "model.add(keras.layers.Flatten())\n",
    "model.add(keras.layers.Dense(64, activation='relu')) # 여기 32 -> 64로 바꿈\n",
    "model.add(keras.layers.Dense(3, activation='softmax'))\n",
    "\n",
    "model.summary()\n",
    "\n",
    "model.compile(optimizer='adam',\n",
    "             loss='sparse_categorical_crossentropy',\n",
    "             metrics=['accuracy'])\n",
    "\n",
    "model.fit(new_x_train, new_y_train, epochs=30) # 속도 빠르니까 여기도 10 -> 30으로 바꿈\n",
    "\n",
    "test_loss, test_accuracy = model.evaluate(x_test_norm, y_test, verbose=2)\n",
    "print(\"test_loss: {} \".format(test_loss))\n",
    "print(\"test_accuracy: {}\".format(test_accuracy))"
   ]
  },
  {
   "cell_type": "markdown",
   "id": "accessible-finder",
   "metadata": {},
   "source": [
    "### Accuracy 높이기 - 4) overfitting이 나니까 모델 하이퍼파라미터 다시 튜닝하기...\n",
    "- Epochs는 5 정도여도 되겠음..\n",
    "- Dense 다시 낮추기"
   ]
  },
  {
   "cell_type": "code",
   "execution_count": 106,
   "id": "social-macro",
   "metadata": {},
   "outputs": [
    {
     "name": "stdout",
     "output_type": "stream",
     "text": [
      "Model: \"sequential_15\"\n",
      "_________________________________________________________________\n",
      "Layer (type)                 Output Shape              Param #   \n",
      "=================================================================\n",
      "conv2d_30 (Conv2D)           (None, 26, 26, 16)        448       \n",
      "_________________________________________________________________\n",
      "max_pooling2d_30 (MaxPooling (None, 13, 13, 16)        0         \n",
      "_________________________________________________________________\n",
      "conv2d_31 (Conv2D)           (None, 11, 11, 64)        9280      \n",
      "_________________________________________________________________\n",
      "max_pooling2d_31 (MaxPooling (None, 5, 5, 64)          0         \n",
      "_________________________________________________________________\n",
      "flatten_15 (Flatten)         (None, 1600)              0         \n",
      "_________________________________________________________________\n",
      "dense_30 (Dense)             (None, 16)                25616     \n",
      "_________________________________________________________________\n",
      "dense_31 (Dense)             (None, 3)                 51        \n",
      "=================================================================\n",
      "Total params: 35,395\n",
      "Trainable params: 35,395\n",
      "Non-trainable params: 0\n",
      "_________________________________________________________________\n",
      "Epoch 1/5\n",
      "89/89 [==============================] - 1s 3ms/step - loss: 1.0675 - accuracy: 0.4346\n",
      "Epoch 2/5\n",
      "89/89 [==============================] - 0s 3ms/step - loss: 0.6747 - accuracy: 0.7601\n",
      "Epoch 3/5\n",
      "89/89 [==============================] - 0s 3ms/step - loss: 0.2683 - accuracy: 0.9128\n",
      "Epoch 4/5\n",
      "89/89 [==============================] - 0s 3ms/step - loss: 0.1706 - accuracy: 0.9505\n",
      "Epoch 5/5\n",
      "89/89 [==============================] - 0s 3ms/step - loss: 0.1101 - accuracy: 0.9753\n",
      "10/10 - 0s - loss: 1.3957 - accuracy: 0.5633\n",
      "test_loss: 1.3957165479660034 \n",
      "test_accuracy: 0.5633333325386047\n"
     ]
    }
   ],
   "source": [
    "\n",
    "model = keras.models.Sequential()\n",
    "model.add(keras.layers.Conv2D(16, (3,3), activation='relu', input_shape=(28,28,3)))\n",
    "model.add(keras.layers.MaxPool2D(2,2))\n",
    "model.add(keras.layers.Conv2D(64, (3,3), activation='relu')) # 아까 하이퍼파라미터에서 여기 2배 해서 성능 좋았기에 64로 함\n",
    "model.add(keras.layers.MaxPooling2D(2,2))\n",
    "model.add(keras.layers.Flatten())\n",
    "model.add(keras.layers.Dense(16, activation='relu')) # 여기 32 -> 16으로 바꿈\n",
    "model.add(keras.layers.Dense(3, activation='softmax'))\n",
    "\n",
    "model.summary()\n",
    "\n",
    "model.compile(optimizer='adam',\n",
    "             loss='sparse_categorical_crossentropy',\n",
    "             metrics=['accuracy'])\n",
    "\n",
    "model.fit(new_x_train, new_y_train, epochs=5) # overfitting 때문에 10 -> 5로 바꿈\n",
    "\n",
    "test_loss, test_accuracy = model.evaluate(x_test_norm, y_test, verbose=2)\n",
    "print(\"test_loss: {} \".format(test_loss))\n",
    "print(\"test_accuracy: {}\".format(test_accuracy))"
   ]
  },
  {
   "cell_type": "code",
   "execution_count": 112,
   "id": "dimensional-acrylic",
   "metadata": {},
   "outputs": [
    {
     "name": "stdout",
     "output_type": "stream",
     "text": [
      "Model: \"sequential_21\"\n",
      "_________________________________________________________________\n",
      "Layer (type)                 Output Shape              Param #   \n",
      "=================================================================\n",
      "conv2d_42 (Conv2D)           (None, 26, 26, 32)        896       \n",
      "_________________________________________________________________\n",
      "max_pooling2d_42 (MaxPooling (None, 13, 13, 32)        0         \n",
      "_________________________________________________________________\n",
      "conv2d_43 (Conv2D)           (None, 11, 11, 64)        18496     \n",
      "_________________________________________________________________\n",
      "max_pooling2d_43 (MaxPooling (None, 5, 5, 64)          0         \n",
      "_________________________________________________________________\n",
      "flatten_21 (Flatten)         (None, 1600)              0         \n",
      "_________________________________________________________________\n",
      "dense_42 (Dense)             (None, 16)                25616     \n",
      "_________________________________________________________________\n",
      "dense_43 (Dense)             (None, 3)                 51        \n",
      "=================================================================\n",
      "Total params: 45,059\n",
      "Trainable params: 45,059\n",
      "Non-trainable params: 0\n",
      "_________________________________________________________________\n",
      "Epoch 1/10\n",
      "89/89 [==============================] - 7s 73ms/step - loss: 1.0257 - accuracy: 0.4859\n",
      "Epoch 2/10\n",
      "89/89 [==============================] - 0s 3ms/step - loss: 0.3845 - accuracy: 0.8845\n",
      "Epoch 3/10\n",
      "89/89 [==============================] - 0s 3ms/step - loss: 0.1345 - accuracy: 0.9600\n",
      "Epoch 4/10\n",
      "89/89 [==============================] - 0s 3ms/step - loss: 0.0774 - accuracy: 0.9838\n",
      "Epoch 5/10\n",
      "89/89 [==============================] - 0s 3ms/step - loss: 0.0324 - accuracy: 0.9957\n",
      "Epoch 6/10\n",
      "89/89 [==============================] - 0s 3ms/step - loss: 0.0224 - accuracy: 0.9985\n",
      "Epoch 7/10\n",
      "89/89 [==============================] - 0s 3ms/step - loss: 0.0110 - accuracy: 0.9998\n",
      "Epoch 8/10\n",
      "89/89 [==============================] - 0s 3ms/step - loss: 0.0102 - accuracy: 0.9991\n",
      "Epoch 9/10\n",
      "89/89 [==============================] - 0s 3ms/step - loss: 0.0056 - accuracy: 1.0000\n",
      "Epoch 10/10\n",
      "89/89 [==============================] - 0s 3ms/step - loss: 0.0037 - accuracy: 1.0000\n",
      "10/10 - 0s - loss: 1.9018 - accuracy: 0.5200\n",
      "test_loss: 1.9017584323883057 \n",
      "test_accuracy: 0.5199999809265137\n"
     ]
    }
   ],
   "source": [
    "# 하이퍼파라미터들 튜닝\n",
    "\n",
    "model = keras.models.Sequential()\n",
    "model.add(keras.layers.Conv2D(32, (3,3), activation='relu', input_shape=(28,28,3)))\n",
    "model.add(keras.layers.MaxPool2D(2,2))\n",
    "model.add(keras.layers.Conv2D(64, (3,3), activation='relu')) # 32 -> 64로 변경\n",
    "model.add(keras.layers.MaxPooling2D(2,2))\n",
    "model.add(keras.layers.Flatten())\n",
    "model.add(keras.layers.Dense(16, activation='relu')) # 16 -> 12로 변경\n",
    "model.add(keras.layers.Dense(3, activation='softmax'))\n",
    "\n",
    "model.summary()\n",
    "\n",
    "model.compile(optimizer='adam',\n",
    "             loss='sparse_categorical_crossentropy',\n",
    "             metrics=['accuracy'])\n",
    "\n",
    "model.fit(new_x_train, new_y_train, epochs=10)\n",
    "\n",
    "test_loss, test_accuracy = model.evaluate(x_test_norm, y_test, verbose=2)\n",
    "print(\"test_loss: {} \".format(test_loss))\n",
    "print(\"test_accuracy: {}\".format(test_accuracy))"
   ]
  },
  {
   "cell_type": "markdown",
   "id": "occasional-ending",
   "metadata": {},
   "source": [
    "### Accuracy 높이기 - 5) 트레인 데이터에서 내 손 사진 빼기\n",
    "- 생각해보니까 그 300개가 성능을 낮추고 있나보다..."
   ]
  },
  {
   "cell_type": "code",
   "execution_count": 117,
   "id": "sixth-stevens",
   "metadata": {},
   "outputs": [
    {
     "name": "stdout",
     "output_type": "stream",
     "text": [
      "Model: \"sequential_26\"\n",
      "_________________________________________________________________\n",
      "Layer (type)                 Output Shape              Param #   \n",
      "=================================================================\n",
      "conv2d_52 (Conv2D)           (None, 26, 26, 16)        448       \n",
      "_________________________________________________________________\n",
      "max_pooling2d_52 (MaxPooling (None, 13, 13, 16)        0         \n",
      "_________________________________________________________________\n",
      "conv2d_53 (Conv2D)           (None, 11, 11, 64)        9280      \n",
      "_________________________________________________________________\n",
      "max_pooling2d_53 (MaxPooling (None, 5, 5, 64)          0         \n",
      "_________________________________________________________________\n",
      "flatten_26 (Flatten)         (None, 1600)              0         \n",
      "_________________________________________________________________\n",
      "dense_52 (Dense)             (None, 32)                51232     \n",
      "_________________________________________________________________\n",
      "dense_53 (Dense)             (None, 3)                 99        \n",
      "=================================================================\n",
      "Total params: 61,059\n",
      "Trainable params: 61,059\n",
      "Non-trainable params: 0\n",
      "_________________________________________________________________\n",
      "Epoch 1/5\n",
      "79/79 [==============================] - 1s 3ms/step - loss: 0.9155 - accuracy: 0.5703\n",
      "Epoch 2/5\n",
      "79/79 [==============================] - 0s 3ms/step - loss: 0.1977 - accuracy: 0.9579\n",
      "Epoch 3/5\n",
      "79/79 [==============================] - 0s 3ms/step - loss: 0.0639 - accuracy: 0.9900\n",
      "Epoch 4/5\n",
      "79/79 [==============================] - 0s 3ms/step - loss: 0.0334 - accuracy: 0.9920\n",
      "Epoch 5/5\n",
      "79/79 [==============================] - 0s 3ms/step - loss: 0.0120 - accuracy: 0.9991\n",
      "10/10 - 0s - loss: 2.4778 - accuracy: 0.3600\n",
      "test_loss: 2.4778428077697754 \n",
      "test_accuracy: 0.36000001430511475\n"
     ]
    }
   ],
   "source": [
    "# 인터넷에서 받은 양질의 사진만 트레인 데이터로 넣기\n",
    "\n",
    "model = keras.models.Sequential()\n",
    "model.add(keras.layers.Conv2D(16, (3,3), activation='relu', input_shape=(28,28,3)))\n",
    "model.add(keras.layers.MaxPool2D(2,2))\n",
    "model.add(keras.layers.Conv2D(64, (3,3), activation='relu'))\n",
    "model.add(keras.layers.MaxPooling2D(2,2))\n",
    "model.add(keras.layers.Flatten())\n",
    "model.add(keras.layers.Dense(16, activation='relu'))\n",
    "model.add(keras.layers.Dense(3, activation='softmax'))\n",
    "\n",
    "model.summary()\n",
    "\n",
    "model.compile(optimizer='adam',\n",
    "             loss='sparse_categorical_crossentropy',\n",
    "             metrics=['accuracy'])\n",
    "\n",
    "model.fit(x_train_2_norm, y_train_2, epochs=5)\n",
    "\n",
    "test_loss, test_accuracy = model.evaluate(x_test_norm, y_test, verbose=2)\n",
    "print(\"test_loss: {} \".format(test_loss))\n",
    "print(\"test_accuracy: {}\".format(test_accuracy))"
   ]
  },
  {
   "cell_type": "markdown",
   "id": "fifteen-future",
   "metadata": {},
   "source": [
    "### Accuracy 높이기 - 6) 일반적인 손 사진 더 가져오기\n",
    "- 내 손 사진 뺐다고 accuracy가 좋아지는 게 아니면 일반적인 사진을 더 가져와보자"
   ]
  },
  {
   "cell_type": "code",
   "execution_count": 118,
   "id": "convenient-wheat",
   "metadata": {},
   "outputs": [
    {
     "name": "stdout",
     "output_type": "stream",
     "text": [
      "699  images to be resized.\n",
      "699  images resized.\n",
      "가위 이미지 resize 완료!\n",
      "699  images to be resized.\n",
      "699  images resized.\n",
      "바위 이미지 resize 완료!\n",
      "699  images to be resized.\n",
      "699  images resized.\n",
      "보 이미지 resize 완료!\n"
     ]
    }
   ],
   "source": [
    "# 데이터 리사이즈하기\n",
    "\n",
    "def resize_images(img_path):\n",
    "\timages=glob.glob(img_path + \"/*.jpg\")  \n",
    "    \n",
    "\tprint(len(images), \" images to be resized.\")\n",
    "\n",
    "    # 파일마다 모두 28x28 사이즈로 바꾸어 저장합니다.\n",
    "\ttarget_size=(28,28)\n",
    "\tfor img in images:\n",
    "\t\told_img=Image.open(img)\n",
    "\t\tnew_img=old_img.resize(target_size,Image.ANTIALIAS)\n",
    "\t\tnew_img.save(img, \"JPEG\")\n",
    "    \n",
    "\tprint(len(images), \" images resized.\")\n",
    "\t\n",
    "# 가위 이미지\n",
    "image_dir_path = os.getenv(\"HOME\") + \"/aiffel/rock_scissor_paper/train_2/rps_train3/scissor\"\n",
    "resize_images(image_dir_path)\n",
    "print(\"가위 이미지 resize 완료!\")\n",
    "\n",
    "# 바위 이미지\n",
    "image_dir_path = os.getenv(\"HOME\") + \"/aiffel/rock_scissor_paper/train_2/rps_train3/rock\"\n",
    "resize_images(image_dir_path)\n",
    "print(\"바위 이미지 resize 완료!\")\n",
    "\n",
    "# 바위 이미지\n",
    "image_dir_path = os.getenv(\"HOME\") + \"/aiffel/rock_scissor_paper/train_2/rps_train3/paper\"\n",
    "resize_images(image_dir_path)\n",
    "print(\"보 이미지 resize 완료!\")"
   ]
  },
  {
   "cell_type": "code",
   "execution_count": 120,
   "id": "thermal-report",
   "metadata": {},
   "outputs": [
    {
     "name": "stdout",
     "output_type": "stream",
     "text": [
      "트레인 데이터(x_train_3)의 이미지 개수는 2097 입니다.\n",
      "x_train_2 모습은: (2097, 28, 28, 3)\n",
      "y_train_2 모습은: (2097,)\n"
     ]
    }
   ],
   "source": [
    "# resize된 train3 데이터 load하기\n",
    "\n",
    "def train_3_load_data(img_path, number_of_data=2097):  # 가위바위보 이미지 개수 총합에 주의하세요.\n",
    "    # 가위 : 0, 바위 : 1, 보 : 2\n",
    "    img_size=28\n",
    "    color=3\n",
    "    #이미지 데이터와 라벨(가위 : 0, 바위 : 1, 보 : 2) 데이터를 담을 행렬(matrix) 영역을 생성합니다.\n",
    "    imgs=np.zeros(number_of_data*img_size*img_size*color,dtype=np.int32).reshape(number_of_data,img_size,img_size,color)\n",
    "    labels=np.zeros(number_of_data,dtype=np.int32)\n",
    "\n",
    "    idx=0\n",
    "    for file in glob.iglob(img_path+'/scissor/*.jpg'):\n",
    "        img = np.array(Image.open(file),dtype=np.int32)\n",
    "        imgs[idx,:,:,:]=img    # 데이터 영역에 이미지 행렬을 복사\n",
    "        labels[idx]=0   # 가위 : 0\n",
    "        idx=idx+1\n",
    "\n",
    "    for file in glob.iglob(img_path+'/rock/*.jpg'):\n",
    "        img = np.array(Image.open(file),dtype=np.int32)\n",
    "        imgs[idx,:,:,:]=img    # 데이터 영역에 이미지 행렬을 복사\n",
    "        labels[idx]=1   # 바위 : 1\n",
    "        idx=idx+1  \n",
    "    \n",
    "    for file in glob.iglob(img_path+'/paper/*.jpg'):\n",
    "        img = np.array(Image.open(file),dtype=np.int32)\n",
    "        imgs[idx,:,:,:]=img    # 데이터 영역에 이미지 행렬을 복사\n",
    "        labels[idx]=2   # 보 : 2\n",
    "        idx=idx+1\n",
    "        \n",
    "    print(\"트레인 데이터(x_train_3)의 이미지 개수는\", idx,\"입니다.\")\n",
    "    return imgs, labels\n",
    "\n",
    "train_3_path = os.getenv(\"HOME\") + \"/aiffel/rock_scissor_paper/train_2/rps_train3\"\n",
    "x_train_3, y_train_3 = train_3_load_data(train_3_path)\n",
    "\n",
    "print(\"x_train_2 모습은:\", x_train_3.shape)\n",
    "print(\"y_train_2 모습은:\", y_train_3.shape)\n"
   ]
  },
  {
   "cell_type": "code",
   "execution_count": 123,
   "id": "facial-comparison",
   "metadata": {},
   "outputs": [],
   "source": [
    "# normalization\n",
    "\n",
    "x_train_3_norm = x_train_3 / 255.0"
   ]
  },
  {
   "cell_type": "code",
   "execution_count": 124,
   "id": "loving-correlation",
   "metadata": {},
   "outputs": [
    {
     "name": "stdout",
     "output_type": "stream",
     "text": [
      "Before concatenate : 2820\n",
      "After concatenate new_x_train: 4917\n",
      "After concatenate new_y_train: 4917\n"
     ]
    }
   ],
   "source": [
    "# 기존 데이터와 합쳐서 4917개 데이터 만들기\n",
    "print(\"Before concatenate :\", len(new_x_train))\n",
    "\n",
    "total_x_train = np.concatenate((new_x_train, x_train_3_norm), axis=0)\n",
    "total_y_train = np.concatenate((new_y_train, y_train_3))\n",
    "\n",
    "print(\"After concatenate new_x_train:\", len(total_x_train))\n",
    "print(\"After concatenate new_y_train:\", len(total_y_train))\n"
   ]
  },
  {
   "cell_type": "code",
   "execution_count": 125,
   "id": "documentary-postcard",
   "metadata": {},
   "outputs": [
    {
     "name": "stdout",
     "output_type": "stream",
     "text": [
      "Model: \"sequential_27\"\n",
      "_________________________________________________________________\n",
      "Layer (type)                 Output Shape              Param #   \n",
      "=================================================================\n",
      "conv2d_54 (Conv2D)           (None, 26, 26, 16)        448       \n",
      "_________________________________________________________________\n",
      "max_pooling2d_54 (MaxPooling (None, 13, 13, 16)        0         \n",
      "_________________________________________________________________\n",
      "conv2d_55 (Conv2D)           (None, 11, 11, 64)        9280      \n",
      "_________________________________________________________________\n",
      "max_pooling2d_55 (MaxPooling (None, 5, 5, 64)          0         \n",
      "_________________________________________________________________\n",
      "flatten_27 (Flatten)         (None, 1600)              0         \n",
      "_________________________________________________________________\n",
      "dense_54 (Dense)             (None, 16)                25616     \n",
      "_________________________________________________________________\n",
      "dense_55 (Dense)             (None, 3)                 51        \n",
      "=================================================================\n",
      "Total params: 35,395\n",
      "Trainable params: 35,395\n",
      "Non-trainable params: 0\n",
      "_________________________________________________________________\n",
      "Epoch 1/5\n",
      "154/154 [==============================] - 8s 48ms/step - loss: 1.0218 - accuracy: 0.4767\n",
      "Epoch 2/5\n",
      "154/154 [==============================] - 0s 3ms/step - loss: 0.4601 - accuracy: 0.8495\n",
      "Epoch 3/5\n",
      "154/154 [==============================] - 0s 3ms/step - loss: 0.2400 - accuracy: 0.9285\n",
      "Epoch 4/5\n",
      "154/154 [==============================] - 0s 3ms/step - loss: 0.1382 - accuracy: 0.9622\n",
      "Epoch 5/5\n",
      "154/154 [==============================] - 0s 3ms/step - loss: 0.0921 - accuracy: 0.9729\n",
      "10/10 - 0s - loss: 0.0355 - accuracy: 0.9900\n",
      "test_loss: 0.03551580384373665 \n",
      "test_accuracy: 0.9900000095367432\n"
     ]
    }
   ],
   "source": [
    "# 제일 성능 좋았던(accuracy 0.56 나왔던...) 모델 가져와서 학습 및 평가하기\n",
    "\n",
    "model = keras.models.Sequential()\n",
    "model.add(keras.layers.Conv2D(16, (3,3), activation='relu', input_shape=(28,28,3)))\n",
    "model.add(keras.layers.MaxPool2D(2,2))\n",
    "model.add(keras.layers.Conv2D(64, (3,3), activation='relu')) # 아까 하이퍼파라미터에서 여기 2배 해서 성능 좋았기에 64로 함\n",
    "model.add(keras.layers.MaxPooling2D(2,2))\n",
    "model.add(keras.layers.Flatten())\n",
    "model.add(keras.layers.Dense(16, activation='relu')) # 여기 32 -> 16으로 바꿈\n",
    "model.add(keras.layers.Dense(3, activation='softmax'))\n",
    "\n",
    "model.summary()\n",
    "\n",
    "model.compile(optimizer='adam',\n",
    "             loss='sparse_categorical_crossentropy',\n",
    "             metrics=['accuracy'])\n",
    "\n",
    "model.fit(total_x_train, total_y_train, epochs=5) # overfitting 때문에 10 -> 5로 바꿈\n",
    "\n",
    "test_loss, test_accuracy = model.evaluate(x_test_norm, y_test, verbose=2)\n",
    "print(\"test_loss: {} \".format(test_loss))\n",
    "print(\"test_accuracy: {}\".format(test_accuracy))"
   ]
  },
  {
   "cell_type": "markdown",
   "id": "vanilla-antigua",
   "metadata": {},
   "source": [
    "## 결론\n",
    "- test 데이터가 일반적인 배경의 손사진이니 train 데이터도 일반적인 배경의 손사진이 많이 들어간 게 좋다.\n",
    "- test 데이터에 대한 accuracy가 0.56 -> 0.99로 뛰었다."
   ]
  },
  {
   "cell_type": "code",
   "execution_count": null,
   "id": "virgin-mailman",
   "metadata": {},
   "outputs": [],
   "source": []
  }
 ],
 "metadata": {
  "kernelspec": {
   "display_name": "Python 3",
   "language": "python",
   "name": "python3"
  },
  "language_info": {
   "codemirror_mode": {
    "name": "ipython",
    "version": 3
   },
   "file_extension": ".py",
   "mimetype": "text/x-python",
   "name": "python",
   "nbconvert_exporter": "python",
   "pygments_lexer": "ipython3",
   "version": "3.7.9"
  }
 },
 "nbformat": 4,
 "nbformat_minor": 5
}
