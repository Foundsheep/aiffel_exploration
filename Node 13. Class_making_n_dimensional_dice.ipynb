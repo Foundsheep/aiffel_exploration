{
 "cells": [
  {
   "cell_type": "markdown",
   "id": "above-aruba",
   "metadata": {},
   "source": [
    "## 13-2. 객체 지향 프로그래밍 (1) 객체란?\n"
   ]
  },
  {
   "cell_type": "markdown",
   "id": "timely-giving",
   "metadata": {},
   "source": [
    "파이썬에 모든 것이 객체임을 강조하는 이유는 그렇지 않은 컴퓨터 언어들이 있기 때문입니다. 객체가 없는 언어부터 일부분만 객체인 언어까지 다양합니다. 모든 데이터 형태를 객체로 다룬다는 것은 언어의 특징일 뿐 장점이라고 하기는 어렵습니다."
   ]
  },
  {
   "cell_type": "markdown",
   "id": "adjustable-narrative",
   "metadata": {},
   "source": [
    "#### 2) 변수"
   ]
  },
  {
   "cell_type": "code",
   "execution_count": 1,
   "id": "planned-amateur",
   "metadata": {},
   "outputs": [
    {
     "data": {
      "text/plain": [
       "3"
      ]
     },
     "execution_count": 1,
     "metadata": {},
     "output_type": "execute_result"
    }
   ],
   "source": [
    "myvar = 3\n",
    "myvar"
   ]
  },
  {
   "cell_type": "code",
   "execution_count": 2,
   "id": "banned-database",
   "metadata": {},
   "outputs": [
    {
     "data": {
      "text/plain": [
       "'cat'"
      ]
     },
     "execution_count": 2,
     "metadata": {},
     "output_type": "execute_result"
    }
   ],
   "source": [
    "myword = 'cat'\n",
    "myword\n",
    "\n",
    "# 코드는 'cat'이 담긴 문자열 타입의 객체를 생성하고 myword라는 변수(객체)에 할당, 문자열 객체를 참조하게 합니다."
   ]
  },
  {
   "cell_type": "code",
   "execution_count": 9,
   "id": "ecological-bahamas",
   "metadata": {},
   "outputs": [
    {
     "data": {
      "text/plain": [
       "'CAT'"
      ]
     },
     "execution_count": 9,
     "metadata": {},
     "output_type": "execute_result"
    }
   ],
   "source": [
    "myword.upper()"
   ]
  },
  {
   "cell_type": "code",
   "execution_count": 10,
   "id": "planned-framing",
   "metadata": {},
   "outputs": [
    {
     "data": {
      "text/plain": [
       "'CAT'"
      ]
     },
     "execution_count": 10,
     "metadata": {},
     "output_type": "execute_result"
    }
   ],
   "source": [
    "'cat'.upper()"
   ]
  },
  {
   "cell_type": "code",
   "execution_count": 14,
   "id": "clinical-cable",
   "metadata": {},
   "outputs": [
    {
     "name": "stdout",
     "output_type": "stream",
     "text": [
      "140055382365616\n",
      "140055382365616\n",
      "140055266492016\n",
      "140055266732272\n"
     ]
    }
   ],
   "source": [
    "print(id(myword))\n",
    "print(id('cat'))\n",
    "print(id(myword.upper()))\n",
    "print(id('cat'.upper()))"
   ]
  },
  {
   "cell_type": "code",
   "execution_count": 15,
   "id": "identified-mortgage",
   "metadata": {},
   "outputs": [
    {
     "data": {
      "text/plain": [
       "4"
      ]
     },
     "execution_count": 15,
     "metadata": {},
     "output_type": "execute_result"
    }
   ],
   "source": [
    "var = 4\n",
    "var"
   ]
  },
  {
   "cell_type": "code",
   "execution_count": 16,
   "id": "hispanic-fusion",
   "metadata": {},
   "outputs": [
    {
     "name": "stdout",
     "output_type": "stream",
     "text": [
      "93858885677792 93858885677792\n"
     ]
    }
   ],
   "source": [
    "print(id(var), id(4)) #id 값은 pc마다 다릅니다."
   ]
  },
  {
   "cell_type": "markdown",
   "id": "brilliant-presence",
   "metadata": {},
   "source": [
    "#### 3) 얕은 복사, 깊은 복사\n"
   ]
  },
  {
   "cell_type": "code",
   "execution_count": 17,
   "id": "better-information",
   "metadata": {},
   "outputs": [
    {
     "data": {
      "text/plain": [
       "[1, 2, 3]"
      ]
     },
     "execution_count": 17,
     "metadata": {},
     "output_type": "execute_result"
    }
   ],
   "source": [
    "mylist = [1,2,3]\n",
    "var = mylist\n",
    "var"
   ]
  },
  {
   "cell_type": "code",
   "execution_count": 21,
   "id": "actual-reward",
   "metadata": {},
   "outputs": [
    {
     "name": "stdout",
     "output_type": "stream",
     "text": [
      "[1, 2, 3, 4]\n"
     ]
    }
   ],
   "source": [
    "mylist.append(4)\n",
    "print(mylist)"
   ]
  },
  {
   "cell_type": "code",
   "execution_count": 22,
   "id": "consecutive-refrigerator",
   "metadata": {},
   "outputs": [
    {
     "name": "stdout",
     "output_type": "stream",
     "text": [
      "[1, 2, 3, 4]\n"
     ]
    }
   ],
   "source": [
    "print(var)"
   ]
  },
  {
   "cell_type": "code",
   "execution_count": 23,
   "id": "supposed-certificate",
   "metadata": {},
   "outputs": [
    {
     "name": "stdout",
     "output_type": "stream",
     "text": [
      "mylist : 140055266667328 var : 140055266667328 [1,2,3] : 140055266664608\n"
     ]
    }
   ],
   "source": [
    "print('mylist :', id(mylist), 'var :', id(var), '[1,2,3] :', id([1,2,3]))"
   ]
  },
  {
   "cell_type": "markdown",
   "id": "sexual-swedish",
   "metadata": {},
   "source": [
    "#### 요약\n",
    "- 파이썬에서는 모든 것(부울, 정수, 실수, 데이터구조(list,tuple,dict,set...), 함수, 프로그램, 모듈)이 객체다.\n",
    "- 객체는 상태(state)를 나타내는 속성(attribute)과 동작(behavior)을 나타내는 메서드(method)가 있다.\n",
    "- 객체의 속성은 변수로 구현된다. 객체의 메서드는 함수로 구현된다."
   ]
  },
  {
   "cell_type": "markdown",
   "id": "natural-produce",
   "metadata": {},
   "source": [
    "## 13-4. 클래스 기본 문법 (1) 클래스 선언 및 인스턴스화\n"
   ]
  },
  {
   "cell_type": "markdown",
   "id": "turkish-jewel",
   "metadata": {},
   "source": [
    "#### 클래스 선언\n"
   ]
  },
  {
   "cell_type": "code",
   "execution_count": 24,
   "id": "cosmetic-instrument",
   "metadata": {},
   "outputs": [
    {
     "name": "stdout",
     "output_type": "stream",
     "text": [
      "93858905090800\n",
      "93858905090800\n",
      "140055266171472\n",
      "140055266171792\n",
      "<class 'type'>\n",
      "<class '__main__.Car'>\n"
     ]
    }
   ],
   "source": [
    "class Car:\n",
    "    pass\n",
    "\n",
    "class Car():\n",
    "    pass\n",
    "\n",
    "#id(Car)는 여러번 호출해도 같은 값이 얻어집니다. \n",
    "print(id(Car))\n",
    "print(id(Car))\n",
    "\n",
    "#id(Car())는 Car()가 호출될 때마다 다른 값이 얻어집니다. \n",
    "print(id(Car()))\n",
    "print(id(Car()))\n",
    "\n",
    "# 두 객체의 type을 살펴봅니다. \n",
    "print(type(Car))\n",
    "print(type(Car()))"
   ]
  },
  {
   "cell_type": "markdown",
   "id": "atmospheric-childhood",
   "metadata": {},
   "source": [
    "위 코드에서 보면, Car라는 클래스 자체도 객체이고, Car()를 호출할 때마다 새로운 Car 타입의 객체가 생성됩니다. 둘 다 id가 존재하기 때문입니다. 그러나, id(Car)의 값은 몇 번 호출되더라도 동일하지만 id(Car())는 호출될 때마다 다른 id 값을 가진다는 것도 알 수 있습니다.\n",
    "\n",
    "Car라는 클래스는 type 유형의 객체입니다. Car()가 호출될 때 Car 타입의 객체가 생성됩니다."
   ]
  },
  {
   "cell_type": "markdown",
   "id": "controlling-webmaster",
   "metadata": {},
   "source": [
    "#### 클래스 사용 - 객체 인스턴스화\n"
   ]
  },
  {
   "cell_type": "code",
   "execution_count": 25,
   "id": "foreign-cooling",
   "metadata": {},
   "outputs": [
    {
     "name": "stdout",
     "output_type": "stream",
     "text": [
      "140055266171344\n",
      "140055266171536\n"
     ]
    }
   ],
   "source": [
    "mycar = Car()\n",
    "mycar2 = Car()\n",
    "print(id(mycar))\n",
    "print(id(mycar2))"
   ]
  },
  {
   "cell_type": "markdown",
   "id": "joined-netherlands",
   "metadata": {},
   "source": [
    "## 13-5. 클래스 기본 문법 (2) 클래스 속성과 메서드\n"
   ]
  },
  {
   "cell_type": "code",
   "execution_count": 37,
   "id": "plain-injury",
   "metadata": {},
   "outputs": [],
   "source": [
    "class Car:\n",
    "    color = 'red'\n",
    "    category = 'sports car'\n",
    "\n",
    "    def drive(self):\n",
    "        print(\"I'm driving\")\n",
    "\n",
    "    def accel(self, speed_up, current_speed=10):\n",
    "        self.speed_up = speed_up\n",
    "        self.current_speed = current_speed + speed_up\n",
    "        print(\"speed up\", self.speed_up, \"driving at\", self.current_speed)"
   ]
  },
  {
   "cell_type": "code",
   "execution_count": 38,
   "id": "narrative-staff",
   "metadata": {},
   "outputs": [
    {
     "name": "stdout",
     "output_type": "stream",
     "text": [
      "I'm driving\n"
     ]
    }
   ],
   "source": [
    "Car().drive()"
   ]
  },
  {
   "cell_type": "markdown",
   "id": "equipped-cameroon",
   "metadata": {},
   "source": [
    "### 클래스의 속성과 메서드 사용\n"
   ]
  },
  {
   "cell_type": "markdown",
   "id": "outstanding-going",
   "metadata": {},
   "source": [
    "#### 속성"
   ]
  },
  {
   "cell_type": "code",
   "execution_count": 39,
   "id": "involved-country",
   "metadata": {},
   "outputs": [
    {
     "name": "stdout",
     "output_type": "stream",
     "text": [
      "red\n"
     ]
    }
   ],
   "source": [
    "mycar = Car()\n",
    "print(mycar.color)"
   ]
  },
  {
   "cell_type": "code",
   "execution_count": 40,
   "id": "outer-profession",
   "metadata": {},
   "outputs": [
    {
     "ename": "AttributeError",
     "evalue": "'Car' object has no attribute 'price'",
     "output_type": "error",
     "traceback": [
      "\u001b[0;31m---------------------------------------------------------------------------\u001b[0m",
      "\u001b[0;31mAttributeError\u001b[0m                            Traceback (most recent call last)",
      "\u001b[0;32m<ipython-input-40-2be59efb50dd>\u001b[0m in \u001b[0;36m<module>\u001b[0;34m\u001b[0m\n\u001b[0;32m----> 1\u001b[0;31m \u001b[0mmycar\u001b[0m\u001b[0;34m.\u001b[0m\u001b[0mprice\u001b[0m\u001b[0;34m\u001b[0m\u001b[0;34m\u001b[0m\u001b[0m\n\u001b[0m\u001b[1;32m      2\u001b[0m \u001b[0;31m# 없는 속성은 에러 발생\u001b[0m\u001b[0;34m\u001b[0m\u001b[0;34m\u001b[0m\u001b[0;34m\u001b[0m\u001b[0m\n",
      "\u001b[0;31mAttributeError\u001b[0m: 'Car' object has no attribute 'price'"
     ]
    }
   ],
   "source": [
    "mycar.price\n",
    "# 없는 속성은 에러 발생"
   ]
  },
  {
   "cell_type": "code",
   "execution_count": 41,
   "id": "agreed-substitute",
   "metadata": {},
   "outputs": [
    {
     "name": "stdout",
     "output_type": "stream",
     "text": [
      "I'm driving\n"
     ]
    }
   ],
   "source": [
    "mycar.drive()"
   ]
  },
  {
   "cell_type": "code",
   "execution_count": 43,
   "id": "decreased-month",
   "metadata": {},
   "outputs": [
    {
     "name": "stdout",
     "output_type": "stream",
     "text": [
      "speed up 5 driving at 15\n"
     ]
    }
   ],
   "source": [
    "mycar.accel(5)"
   ]
  },
  {
   "cell_type": "markdown",
   "id": "pressing-david",
   "metadata": {},
   "source": [
    "이건 무슨 일일까요? 우리가 작성한 mycar.drive() 코드는 인터프리터 내부에서는 Car.drive(mycar)로 동작합니다.\n",
    "self라는 단어는 클래스를 인스턴스화 한 인스턴스 객체를 가리킵니다.\n",
    "메서드를 호출할 때, 우리가 명시적으로 인자를 넣지는 않지만 파이썬 내부적으로는 (=파이썬 인터프리터에서는) 인자 한 개를 사용하고 있고, 그 인자는 파이썬 클래스에 의해 선언된 객체 자신(self)입니다."
   ]
  },
  {
   "cell_type": "code",
   "execution_count": 45,
   "id": "african-louisiana",
   "metadata": {},
   "outputs": [
    {
     "name": "stdout",
     "output_type": "stream",
     "text": [
      "I'm driving\n",
      "I'm driving\n"
     ]
    }
   ],
   "source": [
    "mycar.drive()\n",
    "Car.drive(mycar)\n",
    "\n",
    "#는 같은 동작임"
   ]
  },
  {
   "cell_type": "markdown",
   "id": "mobile-tuner",
   "metadata": {},
   "source": [
    "### 접두사 self.\n",
    "\n"
   ]
  },
  {
   "cell_type": "markdown",
   "id": "acoustic-receiver",
   "metadata": {},
   "source": [
    "객체 안에서 self를 사용하면 인스턴스 객체의 고유한 속성을 나타낼 수 있습니다. 클래스가 아닌 self, 즉 인스턴스화된 객체 자신의 속성이라는 뜻입니다.\n",
    "참고로 클래스의 메서드 내부에서 self. 접두사가 없이 일반 변수와 같게 선언된 변수는 메서드 내부에서만 사용되므로, self.를 사용해 참조할 수 없습니다.\n",
    "아래의 두 메서드를 비교해 보세요."
   ]
  },
  {
   "cell_type": "code",
   "execution_count": 57,
   "id": "animal-arizona",
   "metadata": {},
   "outputs": [],
   "source": [
    "class Test2:\n",
    "    def run1(self, a):\n",
    "        self.a = float(a) * 10\n",
    "        print(self.a)\n",
    "\n",
    "    def run2(self, b):\n",
    "        b = float(b) + 10\n",
    "        print(b)\n",
    "        print(self.b)\n",
    "        \n",
    "t = Test2()"
   ]
  },
  {
   "cell_type": "code",
   "execution_count": 58,
   "id": "guilty-operations",
   "metadata": {},
   "outputs": [
    {
     "name": "stdout",
     "output_type": "stream",
     "text": [
      "14.0\n"
     ]
    },
    {
     "ename": "AttributeError",
     "evalue": "'Test2' object has no attribute 'b'",
     "output_type": "error",
     "traceback": [
      "\u001b[0;31m---------------------------------------------------------------------------\u001b[0m",
      "\u001b[0;31mAttributeError\u001b[0m                            Traceback (most recent call last)",
      "\u001b[0;32m<ipython-input-58-65f73630c31a>\u001b[0m in \u001b[0;36m<module>\u001b[0;34m\u001b[0m\n\u001b[0;32m----> 1\u001b[0;31m \u001b[0mt\u001b[0m\u001b[0;34m.\u001b[0m\u001b[0mrun2\u001b[0m\u001b[0;34m(\u001b[0m\u001b[0;36m4\u001b[0m\u001b[0;34m)\u001b[0m\u001b[0;34m\u001b[0m\u001b[0;34m\u001b[0m\u001b[0m\n\u001b[0m",
      "\u001b[0;32m<ipython-input-57-e29e8885edfd>\u001b[0m in \u001b[0;36mrun2\u001b[0;34m(self, b)\u001b[0m\n\u001b[1;32m      7\u001b[0m         \u001b[0mb\u001b[0m \u001b[0;34m=\u001b[0m \u001b[0mfloat\u001b[0m\u001b[0;34m(\u001b[0m\u001b[0mb\u001b[0m\u001b[0;34m)\u001b[0m \u001b[0;34m+\u001b[0m \u001b[0;36m10\u001b[0m\u001b[0;34m\u001b[0m\u001b[0;34m\u001b[0m\u001b[0m\n\u001b[1;32m      8\u001b[0m         \u001b[0mprint\u001b[0m\u001b[0;34m(\u001b[0m\u001b[0mb\u001b[0m\u001b[0;34m)\u001b[0m\u001b[0;34m\u001b[0m\u001b[0;34m\u001b[0m\u001b[0m\n\u001b[0;32m----> 9\u001b[0;31m         \u001b[0mprint\u001b[0m\u001b[0;34m(\u001b[0m\u001b[0mself\u001b[0m\u001b[0;34m.\u001b[0m\u001b[0mb\u001b[0m\u001b[0;34m)\u001b[0m\u001b[0;34m\u001b[0m\u001b[0;34m\u001b[0m\u001b[0m\n\u001b[0m\u001b[1;32m     10\u001b[0m \u001b[0;34m\u001b[0m\u001b[0m\n\u001b[1;32m     11\u001b[0m \u001b[0mt\u001b[0m \u001b[0;34m=\u001b[0m \u001b[0mTest2\u001b[0m\u001b[0;34m(\u001b[0m\u001b[0;34m)\u001b[0m\u001b[0;34m\u001b[0m\u001b[0;34m\u001b[0m\u001b[0m\n",
      "\u001b[0;31mAttributeError\u001b[0m: 'Test2' object has no attribute 'b'"
     ]
    }
   ],
   "source": [
    "t.run2(4)"
   ]
  },
  {
   "cell_type": "markdown",
   "id": "absolute-sound",
   "metadata": {},
   "source": [
    "#### 요약\n",
    "- self는 자기 자신입니다.\n",
    "- 클래스에 의해 생성된 객체(인스턴스)를 가리킵니다.\n",
    "- 클래스의 메서드는 인자로 해당 인스턴스(self)를 받아야 합니다.\n",
    "- 메서드를 호출할 때는 self 인자를 전달하지 않습니다. self의 값은 인터프리터가 제공합니다.\n",
    "- 인스턴스 변수를 정의할 때에는 접두사 self.을 붙여줍니다."
   ]
  },
  {
   "cell_type": "markdown",
   "id": "educated-petite",
   "metadata": {},
   "source": [
    "## 13-6. 클래스 기본 문법 (3) 생성자\n"
   ]
  },
  {
   "cell_type": "markdown",
   "id": "black-stephen",
   "metadata": {},
   "source": [
    "#### 생성자 `__init__`\n"
   ]
  },
  {
   "cell_type": "code",
   "execution_count": 59,
   "id": "obvious-affiliate",
   "metadata": {},
   "outputs": [],
   "source": [
    "# 이것으로 __init__ 연습하기\n",
    "\n",
    "class Car:\n",
    "    color = 'red'\n",
    "    category = 'sports car'\n",
    "\n",
    "    def drive(self):\n",
    "        print(\"I'm driving\")\n",
    "\n",
    "    def accel(self, speed_up, current_speed=10):\n",
    "        self.speed_up = speed_up\n",
    "        self.current_speed = current_speed + self.speed_up\n",
    "        print(\"speed up\", self.speed_up, \"driving at\", self.current_speed)"
   ]
  },
  {
   "cell_type": "code",
   "execution_count": 60,
   "id": "broke-collector",
   "metadata": {},
   "outputs": [],
   "source": [
    "# 이것은 클래스의 인스턴스를 초기화하게끔 함\n",
    "\n",
    "class Car2:\n",
    "    def __init__(self, color, category):\n",
    "        self.color = color\n",
    "        self.category = category\n",
    "\n",
    "    def drive(self):\n",
    "        print(\"I'm driving\")\n",
    "\n",
    "    def accel(self, speed_up, current_speed=10):\n",
    "        self.speed_up = speed_up\n",
    "        self.current_speed = current_speed + self.speed_up\n",
    "        print(\"speed up\", self.speed_up, \"driving at\", self.current_speed)"
   ]
  },
  {
   "cell_type": "code",
   "execution_count": 61,
   "id": "worse-result",
   "metadata": {},
   "outputs": [],
   "source": [
    "#인스턴스 객체 선언\n",
    "car1 = Car()\n",
    "car2 = Car2('yellow', 'sedan')"
   ]
  },
  {
   "cell_type": "code",
   "execution_count": 62,
   "id": "successful-phrase",
   "metadata": {},
   "outputs": [
    {
     "name": "stdout",
     "output_type": "stream",
     "text": [
      "red\n",
      "yellow\n"
     ]
    }
   ],
   "source": [
    "print(car1.color)\n",
    "print(car2.color)"
   ]
  },
  {
   "cell_type": "code",
   "execution_count": 63,
   "id": "express-patio",
   "metadata": {},
   "outputs": [],
   "source": [
    "# 아래와 같이 default 값을 지정해줄 수도 있음\n",
    "\n",
    "class Car2:\n",
    "    def __init__(self, color='red', category='sprots car'):\n",
    "        self.color = color\n",
    "        self.category = category"
   ]
  },
  {
   "cell_type": "code",
   "execution_count": 64,
   "id": "ranging-gabriel",
   "metadata": {},
   "outputs": [
    {
     "data": {
      "text/plain": [
       "'red'"
      ]
     },
     "execution_count": 64,
     "metadata": {},
     "output_type": "execute_result"
    }
   ],
   "source": [
    "car3 = Car2()\n",
    "car3.color"
   ]
  },
  {
   "cell_type": "markdown",
   "id": "european-dynamics",
   "metadata": {},
   "source": [
    "#### 요약\n",
    "\n",
    "- `__init__`이라고 쓰고, \"던더(Double Under) 이닛\"이라고 발음합니다.\n",
    "- 다른 객체 지향 언어를 알고 있는 독자라면 생성자라는 말을 들으면 객체 인스턴스화와 초기화 2가지 작업을 생각할 수 있습니다.\n",
    "- 그러나 파이썬의 생성자는 초기화만 수행합니다. 그럼 객체 인스턴스화는 누가 할까요? 기억나시나요? 네, 바로 클래스 사용 시 변수 할당을 통해 이루어집니다.\n",
    "- 그리고 이 `__init__`처럼 앞뒤에 언더바(_)가 두 개씩 있는 메서드를 매직 메서드 라고 합니다."
   ]
  },
  {
   "cell_type": "markdown",
   "id": "owned-childhood",
   "metadata": {},
   "source": [
    "## 13-7. 클래스 기본 문법 (4) 클래스 변수와 인스턴스 변수\n"
   ]
  },
  {
   "cell_type": "markdown",
   "id": "documented-throat",
   "metadata": {},
   "source": [
    " 래스에서 변수를 선언하는 방법은 2가지가 있었습니다. 하나는 보통 변수와 동일하게 변수명을 쓰고 값을 할당하는 방법, 두 번째는 `__init__` 메서드 안에 `self.`와 함께 설정하는 방법입니다.\n",
    "\n",
    "아래 코드를 예로 들면 `Manufacture` 같은 변수가 있을 수 있고, `self.color` 와 같은 변수가 있을 수 있습니다."
   ]
  },
  {
   "cell_type": "code",
   "execution_count": 65,
   "id": "liberal-barcelona",
   "metadata": {},
   "outputs": [],
   "source": [
    "class Car:\n",
    "    Manufacture = 'India'\n",
    "    \n",
    "    def __init__(self, color, category='sedan'):\n",
    "        self.color = color\n",
    "        self.category = category"
   ]
  },
  {
   "cell_type": "markdown",
   "id": "processed-mainland",
   "metadata": {},
   "source": [
    "`Manufacture` 같은 변수를 클래스 변수라고 합니다. `self.color`와 같은 변수를 인스턴스 변수라고 합니다."
   ]
  },
  {
   "cell_type": "code",
   "execution_count": 66,
   "id": "short-howard",
   "metadata": {},
   "outputs": [
    {
     "name": "stdout",
     "output_type": "stream",
     "text": [
      "India red sports car\n",
      "India white sedan\n"
     ]
    }
   ],
   "source": [
    "car1 = Car('red','sports car')\n",
    "car2 = Car('white')\n",
    "print(car1.Manufacture, car1.color, car1.category)\n",
    "print(car2.Manufacture, car2.color, car2.category)"
   ]
  },
  {
   "cell_type": "markdown",
   "id": "jewish-alabama",
   "metadata": {},
   "source": [
    "#### 클래스 변수\n",
    "- 클래스에 바로 선언된 속성을 클래스 변수라고 하며 클래스에 의해 생성된 모든 객체에서 같은 값을 조회할 때 가능합니다."
   ]
  },
  {
   "cell_type": "markdown",
   "id": "tribal-ceremony",
   "metadata": {},
   "source": [
    "#### 인스턴스 변수\n",
    "\n",
    "- `__init__()` 안에서 self를 사용해 선언된 변수를 인스턴스 변수라고 합니다. 객체가 인스턴스화될 때마다 새로운 값이 할당되며 서로 다른 객체 간에는 값을 공유할 수 없습니다."
   ]
  },
  {
   "cell_type": "markdown",
   "id": "reverse-october",
   "metadata": {},
   "source": [
    "## 13-8. 클래스, 조금 더 알아보기 - 상속\n"
   ]
  },
  {
   "cell_type": "markdown",
   "id": "facial-center",
   "metadata": {},
   "source": [
    "#### 상속\n"
   ]
  },
  {
   "cell_type": "code",
   "execution_count": 67,
   "id": "southwest-charger",
   "metadata": {},
   "outputs": [],
   "source": [
    "class Car:\n",
    "    Manufacture = \"India\"\n",
    "\n",
    "    def __init__(self, color='red', category='sedan'):\n",
    "        self.color = color\n",
    "        self.category = category\n",
    "\n",
    "    def drive(self):\n",
    "        print(\"I'm driving\")\n",
    "\n",
    "    def accel(self, speed_up, current_speed=10):\n",
    "        self.speed_up = speed_up\n",
    "        self.current_speed = current_speed + self.speed_up\n",
    "        print(\"speed up\", self.speed_up, \"driving at\", self.current_speed)"
   ]
  },
  {
   "cell_type": "markdown",
   "id": "faced-victorian",
   "metadata": {},
   "source": [
    "여기에 `Car` 클래스의 기능은 유지한 채 `maker` 속성만 추가된 새로운 클래스 `NewCar`를 선언하고 싶다면, 클래스의 상속 기능을 이용하면 됩니다."
   ]
  },
  {
   "cell_type": "code",
   "execution_count": 68,
   "id": "verbal-chase",
   "metadata": {},
   "outputs": [
    {
     "name": "stdout",
     "output_type": "stream",
     "text": [
      "I'm driving\n",
      "speed up 10 driving at 20\n"
     ]
    }
   ],
   "source": [
    "class NewCar(Car):\n",
    "    pass\n",
    "\n",
    "car = NewCar()\n",
    "car.drive()\n",
    "car.accel(10)"
   ]
  },
  {
   "cell_type": "code",
   "execution_count": 69,
   "id": "capital-citizen",
   "metadata": {},
   "outputs": [
    {
     "data": {
      "text/plain": [
       "'Porsche'"
      ]
     },
     "execution_count": 69,
     "metadata": {},
     "output_type": "execute_result"
    }
   ],
   "source": [
    "class NewCar(Car):\n",
    "    maker = 'Porsche'\n",
    "\n",
    "car = NewCar()\n",
    "car.maker"
   ]
  },
  {
   "cell_type": "markdown",
   "id": "restricted-attack",
   "metadata": {},
   "source": [
    "#### 상속 사용하기\n",
    "\n",
    "클래스를 잘 상속하기 위해 필요한 3가지 사용법을 살펴보겠습니다.\n",
    "\n",
    "- 메서드 추가하기(add)\n",
    "- 메서드 재정의하기(override)\n",
    "- 부모 메서드 호출하기(`super()`)"
   ]
  },
  {
   "cell_type": "markdown",
   "id": "increasing-usage",
   "metadata": {},
   "source": [
    "#### 메서드 추가하기\n",
    "\n"
   ]
  },
  {
   "cell_type": "code",
   "execution_count": 70,
   "id": "centered-lightweight",
   "metadata": {},
   "outputs": [],
   "source": [
    "class NewCar(Car):\n",
    "    def fly(self):\n",
    "        print(\"I'm flying!! This is the new car!!\")"
   ]
  },
  {
   "cell_type": "markdown",
   "id": "amateur-metropolitan",
   "metadata": {},
   "source": [
    "#### 메서드 오버라이드\n",
    "\n"
   ]
  },
  {
   "cell_type": "code",
   "execution_count": 74,
   "id": "reverse-unemployment",
   "metadata": {},
   "outputs": [],
   "source": [
    "class NewCar(Car):\n",
    "    def fly(self):\n",
    "        print(\"I'm flying!! This is the new car!!\")\n",
    "\n",
    "    def drive(self):\n",
    "        print(\"I'm driving and can fly\")\n",
    "\n",
    "# 여기서 \n",
    "# fly는 추가\n",
    "# drive는 override"
   ]
  },
  {
   "cell_type": "markdown",
   "id": "virtual-flight",
   "metadata": {},
   "source": [
    "#### 부모 메서드 호출하기 super()\n",
    "\n",
    "근데 조금 이상하네요. 자식 클래스는 부모 클래스의 메서드를 그대로 이어받을 수 있었습니다. 그리고 기능을 추가하고 싶다면 메서드 오버라이드라는 기능을 사용하면 되는데요. 왜 굳이 또 메서드를 호출해야 할까요? super()는 어떤 경우에 필요할까요? 예제를 통해 super()를 어떻게 사용하면 좋을지 알아보겠습니다."
   ]
  },
  {
   "cell_type": "code",
   "execution_count": 75,
   "id": "lesbian-morris",
   "metadata": {},
   "outputs": [],
   "source": [
    "class NewCar(Car):\n",
    "    def __init__(self, color, category, maker):\n",
    "        super().__init__(color, category)\n",
    "        self.maker = maker\n",
    "\n",
    "    def fly(self):\n",
    "        print(\"I'm flying!! This is the new car!!\")\n",
    "\n",
    "    def accel(self, speed_up, level=1, current_speed=10):\n",
    "        self.boost[level] = {1 : 0, 2 : 30, 3 : 50}\n",
    "        self.speed_up = speed_up + self.boost[level]\n",
    "        self.current_speed = current_speed + self.speed_up\n",
    "        print(\"speed up\", self.speed_up, \"driving at\", self.current_speed)"
   ]
  },
  {
   "cell_type": "code",
   "execution_count": 76,
   "id": "clear-concentrate",
   "metadata": {},
   "outputs": [
    {
     "name": "stdout",
     "output_type": "stream",
     "text": [
      "2020Y sports car\n"
     ]
    }
   ],
   "source": [
    "# 이렇게 하면 color와 category는 부모 클래스의 것을 가져 옴. maker는 없던 것이니 추가된 것으로 보면 됨\n",
    "\n",
    "class Car:\n",
    "    Manufacture = \"India\"\n",
    "\n",
    "    def __init__(self, color='red', category='sedan'):\n",
    "        self.color = color \n",
    "        self.category = '2020Y '+ category\n",
    "\n",
    "\n",
    "class NewCar(Car):\n",
    "    def __init__(self, color, category, maker):\n",
    "        super().__init__(color, category)\n",
    "        self.maker = maker\n",
    "\n",
    "newcar = NewCar('red','sports car', 'Kia')\n",
    "print(newcar.category)"
   ]
  },
  {
   "cell_type": "markdown",
   "id": "eight-republican",
   "metadata": {},
   "source": [
    "## 13-9. n면체 주사위 만들기 (1) 기획\n"
   ]
  },
  {
   "cell_type": "markdown",
   "id": "brown-police",
   "metadata": {},
   "source": [
    "#### 기획\n",
    "\n",
    "나만의 n면체 주사위의 기능은 다음과 같습니다.\n",
    "\n",
    "#### 기능\n",
    "\n",
    "주사위의 면의 개수 n을 입력할 수 있다.\n",
    "주사위를 던지면 1~n 눈의 수 중에서 랜덤으로 값을 출력한다"
   ]
  },
  {
   "cell_type": "code",
   "execution_count": 87,
   "id": "ethical-vacation",
   "metadata": {},
   "outputs": [],
   "source": [
    "class FunnyDice:\n",
    "    def __init__(self, dim):\n",
    "        self.dim = dim\n",
    "    \n",
    "    def roll(self):\n",
    "        self.range = list(range(1, self.dim+1))\n",
    "        import random # 이 import 도 def 함수 안에 있어야 함\n",
    "        random_num = random.choice(self.range)\n",
    "        return random_num"
   ]
  },
  {
   "cell_type": "code",
   "execution_count": 88,
   "id": "exempt-crystal",
   "metadata": {},
   "outputs": [],
   "source": [
    "mydice = FunnyDice(6)"
   ]
  },
  {
   "cell_type": "code",
   "execution_count": 89,
   "id": "ranking-differential",
   "metadata": {},
   "outputs": [
    {
     "data": {
      "text/plain": [
       "1"
      ]
     },
     "execution_count": 89,
     "metadata": {},
     "output_type": "execute_result"
    }
   ],
   "source": [
    "mydice.roll()"
   ]
  },
  {
   "cell_type": "code",
   "execution_count": 96,
   "id": "stunning-stocks",
   "metadata": {},
   "outputs": [
    {
     "data": {
      "text/plain": [
       "3"
      ]
     },
     "execution_count": 96,
     "metadata": {},
     "output_type": "execute_result"
    }
   ],
   "source": [
    "mydice.roll()"
   ]
  },
  {
   "cell_type": "markdown",
   "id": "statutory-caribbean",
   "metadata": {},
   "source": [
    "## 13-10. n면체 주사위 만들기 (2) 주 프로그램 - main 함수\n",
    "\n",
    "#### `main()` 함수 손코딩"
   ]
  },
  {
   "cell_type": "code",
   "execution_count": 97,
   "id": "developing-cholesterol",
   "metadata": {},
   "outputs": [],
   "source": [
    "# 1. input으로 받기(함수로 설정 get_input())\n",
    "# 2. 주사위 객체 만들기\n",
    "# 3. 객체는 input을 인자로 받는다\n",
    "# 4. 던진다.\n",
    "# 5. 이 인자값은 __init__으로 인스턴스 생성시마다 초기화 되도록\n",
    "\n",
    "def main():\n",
    "    n = get_inputs()\n",
    "    mydice = FunnyDice(n)\n",
    "    mydice.throw()\n",
    "    print(\"행운의 숫자는? {}\".format(mydice.getval()))"
   ]
  },
  {
   "cell_type": "markdown",
   "id": "turkish-alarm",
   "metadata": {},
   "source": [
    "## 13-11. n면체 주사위 만들기 (3) FunnyDice 클래스\n"
   ]
  },
  {
   "cell_type": "code",
   "execution_count": 98,
   "id": "utility-secondary",
   "metadata": {},
   "outputs": [],
   "source": [
    "# 어떤 프로세스로 클래스 및 클래스의 메소드를 큰 그림에서 잡아가는지 보자\n",
    "\n",
    "class FunnyDice:\n",
    "    def __init__(self, n):\n",
    "            self.n = n\n",
    "    \n",
    "    def throw(self):\n",
    "        pass\n",
    "    \n",
    "    def getval(self):\n",
    "        pass\n",
    "\n",
    "    def setval(self, val):\n",
    "        pass"
   ]
  },
  {
   "cell_type": "markdown",
   "id": "excellent-hammer",
   "metadata": {},
   "source": [
    "#### 생성자 __init__ 구현\n",
    "\n"
   ]
  },
  {
   "cell_type": "code",
   "execution_count": 101,
   "id": "removable-mayor",
   "metadata": {},
   "outputs": [],
   "source": [
    "from random import randrange\n",
    "\n",
    "class FunnyDice:\n",
    "    def __init__(self, n=6):\n",
    "        self.n = int(n)\n",
    "        self.numbers = list(range(1, n+1))\n",
    "        self.index = randrange(0, self.n)\n",
    "        self.val = self.numbers[self.index]"
   ]
  },
  {
   "cell_type": "code",
   "execution_count": 100,
   "id": "split-superior",
   "metadata": {},
   "outputs": [],
   "source": [
    "from random import randrange\n",
    "\n",
    "class FunnyDice:\n",
    "    def __init__(self, n=6):\n",
    "        self.n = int(n)\n",
    "        self.numbers = list(range(1, n+1))\n",
    "        self.index = randrange(0, self.n)\n",
    "        self.val = self.numbers[self.index]\n",
    "        \n",
    "    def throw(self):\n",
    "        self.index = randrange(0, self.n)\n",
    "        self.val = self.number[self.index]\n",
    "    \n",
    "    def getval(self):\n",
    "        return self.val"
   ]
  },
  {
   "cell_type": "markdown",
   "id": "silent-denial",
   "metadata": {},
   "source": [
    "#### throw 와 getval 메서드"
   ]
  },
  {
   "cell_type": "code",
   "execution_count": null,
   "id": "protecting-spring",
   "metadata": {},
   "outputs": [],
   "source": [
    "from random import randrange\n",
    "\n",
    "class FunnyDice:\n",
    "    def throw(self):\n",
    "        self.index = randrange(0, self.n)\n",
    "        self.val = self.numbers[self.index]\n",
    "    \n",
    "    def getval(self):\n",
    "        return self.val"
   ]
  },
  {
   "cell_type": "markdown",
   "id": "inside-program",
   "metadata": {},
   "source": [
    "#### setval 메소드"
   ]
  },
  {
   "cell_type": "code",
   "execution_count": 111,
   "id": "labeled-hello",
   "metadata": {},
   "outputs": [],
   "source": [
    "from random import randrange\n",
    "\n",
    "class FunnyDice:    \n",
    "    def setval(self, val:int):\n",
    "        if val <= self.n:\n",
    "            self.val = val\n",
    "        else:\n",
    "            msg = \"주사위에 없는 숫자입니다. 주사위는 1 ~ {0}까지 있습니다. \".format(self.n)\n",
    "            raise ValueError(msg)"
   ]
  },
  {
   "cell_type": "code",
   "execution_count": 117,
   "id": "pending-johns",
   "metadata": {},
   "outputs": [
    {
     "ename": "Exception",
     "evalue": "Sorry, no numbers below zero",
     "output_type": "error",
     "traceback": [
      "\u001b[0;31m---------------------------------------------------------------------------\u001b[0m",
      "\u001b[0;31mException\u001b[0m                                 Traceback (most recent call last)",
      "\u001b[0;32m<ipython-input-117-85970376087b>\u001b[0m in \u001b[0;36m<module>\u001b[0;34m\u001b[0m\n\u001b[1;32m      4\u001b[0m \u001b[0;34m\u001b[0m\u001b[0m\n\u001b[1;32m      5\u001b[0m \u001b[0;32mif\u001b[0m \u001b[0mx\u001b[0m \u001b[0;34m<\u001b[0m \u001b[0;36m0\u001b[0m\u001b[0;34m:\u001b[0m\u001b[0;34m\u001b[0m\u001b[0;34m\u001b[0m\u001b[0m\n\u001b[0;32m----> 6\u001b[0;31m     \u001b[0;32mraise\u001b[0m \u001b[0mException\u001b[0m\u001b[0;34m(\u001b[0m\u001b[0;34m\"Sorry, no numbers below zero\"\u001b[0m\u001b[0;34m)\u001b[0m\u001b[0;34m\u001b[0m\u001b[0;34m\u001b[0m\u001b[0m\n\u001b[0m",
      "\u001b[0;31mException\u001b[0m: Sorry, no numbers below zero"
     ]
    }
   ],
   "source": [
    "# raise 예\n",
    "\n",
    "x = -1\n",
    "\n",
    "if x < 0:\n",
    "    raise Exception(\"Sorry, no numbers below zero\")"
   ]
  },
  {
   "cell_type": "markdown",
   "id": "sporting-colony",
   "metadata": {},
   "source": [
    "#### FunnyDice 클래스 전체 코드\n",
    "\n"
   ]
  },
  {
   "cell_type": "code",
   "execution_count": 126,
   "id": "structural-catalyst",
   "metadata": {},
   "outputs": [],
   "source": [
    "class FunnyDice:\n",
    "    def __init__(self, n=6):\n",
    "        self.n = int(n)\n",
    "        self.numbers = list(range(1, n+1))\n",
    "        self.index = randrange(0, self.n)\n",
    "        self.val = self.numbers[self.index]\n",
    "\n",
    "    def throw(self):\n",
    "        self.index = randrange(0, self.n)\n",
    "        self.val = self.numbers[self.index]\n",
    "\n",
    "    def getval(self):\n",
    "        return self.val\n",
    "\n",
    "    def setval(self, val):\n",
    "        if val <= self.n:\n",
    "            self.val = val\n",
    "        else:\n",
    "            msg = \"주사위에 없는 숫자입니다. 주사위는 1 ~ {0}까지 있습니다. \".format(self.n)\n",
    "            raise ValueError(msg)\n"
   ]
  },
  {
   "cell_type": "markdown",
   "id": "soviet-monitor",
   "metadata": {},
   "source": [
    "## 13-12. n면체 주사위 만들기 (4) FunnyDice 클래스 테스트, get_input 함수\n"
   ]
  },
  {
   "cell_type": "markdown",
   "id": "defined-world",
   "metadata": {},
   "source": [
    "#### get_inputs()함수 만들어 보기\n"
   ]
  },
  {
   "cell_type": "code",
   "execution_count": 127,
   "id": "possible-dryer",
   "metadata": {},
   "outputs": [],
   "source": [
    "def get_inputs():\n",
    "    n = int(input(\"주사위 면의 개수를 입력하세요: \"))\n",
    "    return n"
   ]
  },
  {
   "cell_type": "code",
   "execution_count": 129,
   "id": "substantial-tucson",
   "metadata": {},
   "outputs": [
    {
     "name": "stdout",
     "output_type": "stream",
     "text": [
      "주사위 면의 개수를 입력하세요: 30\n"
     ]
    },
    {
     "data": {
      "text/plain": [
       "30"
      ]
     },
     "execution_count": 129,
     "metadata": {},
     "output_type": "execute_result"
    }
   ],
   "source": [
    "dj_dice = FunnyDice(30)\n",
    "\n",
    "get_inputs()"
   ]
  },
  {
   "cell_type": "code",
   "execution_count": 130,
   "id": "turkish-acceptance",
   "metadata": {},
   "outputs": [],
   "source": [
    "class TestFunnyDice:\n",
    "    def __init__(self):\n",
    "        n = int(input(\"숫자를 입력해주세용\"))\n",
    "        self.n = n\n",
    "        self.numbers = list(range(1, n+1))\n",
    "        self.index = randrange(0, self.n)\n",
    "        self.val = self.numbers[self.index]\n",
    "\n",
    "    def throw(self):\n",
    "        self.index = randrange(0, self.n)\n",
    "        self.val = self.numbers[self.index]\n",
    "\n",
    "    def getval(self):\n",
    "        return self.val\n",
    "\n",
    "    def setval(self, val):\n",
    "        if val <= self.n:\n",
    "            self.val = val\n",
    "        else:\n",
    "            msg = \"주사위에 없는 숫자입니다. 주사위는 1 ~ {0}까지 있습니다. \".format(self.n)\n",
    "            raise ValueError(msg)\n"
   ]
  },
  {
   "cell_type": "code",
   "execution_count": 132,
   "id": "marked-castle",
   "metadata": {},
   "outputs": [
    {
     "name": "stdout",
     "output_type": "stream",
     "text": [
      "숫자를 입력해주세용40\n"
     ]
    }
   ],
   "source": [
    "test_dice = TestFunnyDice()"
   ]
  },
  {
   "cell_type": "code",
   "execution_count": 133,
   "id": "waiting-angel",
   "metadata": {},
   "outputs": [],
   "source": [
    "test_dice.throw()"
   ]
  },
  {
   "cell_type": "code",
   "execution_count": 136,
   "id": "actual-moses",
   "metadata": {},
   "outputs": [
    {
     "data": {
      "text/plain": [
       "35"
      ]
     },
     "execution_count": 136,
     "metadata": {},
     "output_type": "execute_result"
    }
   ],
   "source": [
    "test_dice.getval()"
   ]
  },
  {
   "cell_type": "markdown",
   "id": "intermediate-quest",
   "metadata": {},
   "source": [
    "## 13-13. n면체 주사위 만들기 (5) 완성 코드\n"
   ]
  },
  {
   "cell_type": "code",
   "execution_count": 137,
   "id": "human-religious",
   "metadata": {},
   "outputs": [
    {
     "name": "stdout",
     "output_type": "stream",
     "text": [
      "주사위 면의 개수를 입력하세요: 50\n",
      "행운의 숫자는? 25\n"
     ]
    }
   ],
   "source": [
    "# funnydice.py\n",
    "\n",
    "from random import randrange\n",
    "\n",
    "class FunnyDice:\n",
    "    def __init__(self, n=6):\n",
    "        self.n = n\n",
    "        self.options = list(range(1, n+1))\n",
    "        self.index = randrange(0, self.n)\n",
    "        self.val = self.options[self.index]\n",
    "    \n",
    "    def throw(self):\n",
    "        self.index = randrange(0, self.n)\n",
    "        self.val = self.options[self.index]\n",
    "    \n",
    "    def getval(self):\n",
    "        return self.val\n",
    "    \n",
    "    def setval(self, val):\n",
    "        if val <= self.n:\n",
    "            self.val = val\n",
    "        else:\n",
    "            msg = \"주사위에 없는 숫자입니다. 주사위는 1 ~ {0}까지 있습니다. \".format(self.n)\n",
    "            raise ValueError(msg)\n",
    "\n",
    "def get_inputs():\n",
    "    n = int(input(\"주사위 면의 개수를 입력하세요: \"))\n",
    "    return n\n",
    "\n",
    "def main():\n",
    "    n = get_inputs()\n",
    "    mydice = FunnyDice(n)\n",
    "    mydice.throw()\n",
    "    print(\"행운의 숫자는? {0}\".format(mydice.getval()))\n",
    "\n",
    "if __name__ == '__main__':\n",
    "    main()"
   ]
  }
 ],
 "metadata": {
  "kernelspec": {
   "display_name": "Python 3",
   "language": "python",
   "name": "python3"
  },
  "language_info": {
   "codemirror_mode": {
    "name": "ipython",
    "version": 3
   },
   "file_extension": ".py",
   "mimetype": "text/x-python",
   "name": "python",
   "nbconvert_exporter": "python",
   "pygments_lexer": "ipython3",
   "version": "3.7.9"
  }
 },
 "nbformat": 4,
 "nbformat_minor": 5
}
