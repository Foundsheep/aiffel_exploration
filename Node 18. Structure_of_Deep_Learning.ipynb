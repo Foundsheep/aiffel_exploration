{
 "cells": [
  {
   "cell_type": "markdown",
   "id": "demographic-disposition",
   "metadata": {},
   "source": [
    "## # 신경망 구성 (1) 개요"
   ]
  },
  {
   "cell_type": "markdown",
   "id": "arabic-inspiration",
   "metadata": {},
   "source": [
    "### 가장 흔한 예제인 MNIST 다시 보기\n",
    "> - 코드 몇 줄로 정확도 97%의 분류기를 만들 수 있다.  \n",
    "> - 또한 여기에는 이미지 분류에 특호된 Conv2D 레이어가 없고, 다층 퍼셉트론(Multi-Layer-Perceptron)으로만 이루어져 있다.  "
   ]
  },
  {
   "cell_type": "code",
   "execution_count": 1,
   "id": "isolated-injury",
   "metadata": {},
   "outputs": [
    {
     "name": "stdout",
     "output_type": "stream",
     "text": [
      "Model: \"sequential\"\n",
      "_________________________________________________________________\n",
      "Layer (type)                 Output Shape              Param #   \n",
      "=================================================================\n",
      "dense (Dense)                (None, 50)                39250     \n",
      "_________________________________________________________________\n",
      "dense_1 (Dense)              (None, 10)                510       \n",
      "=================================================================\n",
      "Total params: 39,760\n",
      "Trainable params: 39,760\n",
      "Non-trainable params: 0\n",
      "_________________________________________________________________\n",
      "Epoch 1/10\n",
      "1875/1875 [==============================] - 3s 1ms/step - loss: 0.8319 - accuracy: 0.8094\n",
      "Epoch 2/10\n",
      "1875/1875 [==============================] - 2s 1ms/step - loss: 0.2407 - accuracy: 0.9308\n",
      "Epoch 3/10\n",
      "1875/1875 [==============================] - 3s 1ms/step - loss: 0.1818 - accuracy: 0.9478\n",
      "Epoch 4/10\n",
      "1875/1875 [==============================] - 3s 1ms/step - loss: 0.1488 - accuracy: 0.9576\n",
      "Epoch 5/10\n",
      "1875/1875 [==============================] - 3s 1ms/step - loss: 0.1299 - accuracy: 0.9629\n",
      "Epoch 6/10\n",
      "1875/1875 [==============================] - 2s 1ms/step - loss: 0.1106 - accuracy: 0.9682\n",
      "Epoch 7/10\n",
      "1875/1875 [==============================] - 3s 1ms/step - loss: 0.1017 - accuracy: 0.9701\n",
      "Epoch 8/10\n",
      "1875/1875 [==============================] - 3s 1ms/step - loss: 0.0909 - accuracy: 0.9735\n",
      "Epoch 9/10\n",
      "1875/1875 [==============================] - 3s 1ms/step - loss: 0.0789 - accuracy: 0.9781\n",
      "Epoch 10/10\n",
      "1875/1875 [==============================] - 3s 1ms/step - loss: 0.0727 - accuracy: 0.9805\n",
      "313/313 - 0s - loss: 0.1040 - accuracy: 0.9700\n",
      "test_loss: 0.10400935262441635 \n",
      "test_accuracy: 0.9700000286102295\n"
     ]
    }
   ],
   "source": [
    "import tensorflow as tf\n",
    "from tensorflow import keras\n",
    "import numpy as np\n",
    "import matplotlib.pyplot as plt\n",
    "\n",
    "# MNIST 데이터를 로드. 다운로드하지 않았다면 다운로드까지 자동으로 진행됩니다. \n",
    "mnist = keras.datasets.mnist\n",
    "(x_train, y_train), (x_test, y_test) = mnist.load_data()   \n",
    "\n",
    "# 모델에 맞게 데이터 가공\n",
    "x_train_norm, x_test_norm = x_train / 255.0, x_test / 255.0\n",
    "x_train_reshaped = x_train_norm.reshape(-1, x_train_norm.shape[1]*x_train_norm.shape[2])\n",
    "x_test_reshaped = x_test_norm.reshape(-1, x_test_norm.shape[1]*x_test_norm.shape[2])\n",
    "\n",
    "# 딥러닝 모델 구성 - 2 Layer Perceptron\n",
    "model=keras.models.Sequential()\n",
    "model.add(keras.layers.Dense(50, activation='sigmoid', input_shape=(784,)))  # 입력층 d=784, 은닉층 레이어 H=50\n",
    "model.add(keras.layers.Dense(10, activation='softmax'))   # 출력층 레이어 K=10\n",
    "model.summary()\n",
    "\n",
    "# 모델 구성과 학습\n",
    "model.compile(optimizer='adam',\n",
    "             loss='sparse_categorical_crossentropy',\n",
    "             metrics=['accuracy'])\n",
    "model.fit(x_train_reshaped, y_train, epochs=10)\n",
    "\n",
    "# 모델 테스트 결과\n",
    "test_loss, test_accuracy = model.evaluate(x_test_reshaped,y_test, verbose=2)\n",
    "print(\"test_loss: {} \".format(test_loss))\n",
    "print(\"test_accuracy: {}\".format(test_accuracy))"
   ]
  },
  {
   "cell_type": "markdown",
   "id": "advised-conclusion",
   "metadata": {},
   "source": [
    "### Numpy로 MLP 기반 딥러닝 모델 만들어 보기"
   ]
  },
  {
   "cell_type": "code",
   "execution_count": 3,
   "id": "arranged-renewal",
   "metadata": {
    "scrolled": true
   },
   "outputs": [
    {
     "name": "stdout",
     "output_type": "stream",
     "text": [
      "(60000, 784)\n",
      "(5, 784)\n"
     ]
    }
   ],
   "source": [
    "# 입력층 데이터의 모양(shape)\n",
    "print(x_train_reshaped.shape)\n",
    "\n",
    "# 테스트를 위해 x_train_reshaped의 앞 5개의 데이터를 가져온다.\n",
    "X = x_train_reshaped[:5]\n",
    "print(X.shape)"
   ]
  },
  {
   "cell_type": "code",
   "execution_count": 4,
   "id": "marine-parcel",
   "metadata": {},
   "outputs": [
    {
     "name": "stdout",
     "output_type": "stream",
     "text": [
      "(784, 50)\n",
      "(50,)\n",
      "(5, 50)\n"
     ]
    }
   ],
   "source": [
    "weight_init_std = 0.1\n",
    "input_size = 784\n",
    "hidden_size=50\n",
    "\n",
    "# 인접 레이어간 관계를 나타내는 파라미터 W를 생성하고 random 초기화\n",
    "W1 = weight_init_std * np.random.randn(input_size, hidden_size)  \n",
    "# 바이어스 파라미터 b를 생성하고 Zero로 초기화\n",
    "b1 = np.zeros(hidden_size)\n",
    "\n",
    "a1 = np.dot(X, W1) + b1   # 은닉층 출력\n",
    "\n",
    "print(W1.shape)\n",
    "print(b1.shape)\n",
    "print(a1.shape)"
   ]
  },
  {
   "cell_type": "code",
   "execution_count": 9,
   "id": "unique-grade",
   "metadata": {},
   "outputs": [
    {
     "data": {
      "text/plain": [
       "array([ 6.34081808e-01,  9.99764838e-02,  1.59883946e-01, -9.38411416e-01,\n",
       "        6.19344797e-01, -6.30136947e-01,  2.32132003e-01,  4.28541523e-01,\n",
       "       -8.72904863e-02, -5.64708936e-01,  4.69065918e-01,  2.18260695e-01,\n",
       "       -6.77655913e-01, -2.75638857e-01, -1.38632387e+00,  1.34360561e-03,\n",
       "       -3.79925354e-01, -1.13151679e+00,  2.04966645e-01,  1.07083987e+00,\n",
       "        1.56769115e-01,  8.67232815e-02,  1.20294007e+00,  8.45160883e-01,\n",
       "        1.11978838e+00,  1.29101209e-01, -2.36026028e-01,  6.35916295e-01,\n",
       "       -1.65547260e+00, -2.70296599e+00, -5.19223850e-01,  2.01331761e+00,\n",
       "       -1.77342429e-01,  1.45411159e-01,  1.23637573e+00,  8.89331580e-01,\n",
       "       -9.60317711e-01, -6.05859102e-01, -1.99299936e+00, -1.74075996e+00,\n",
       "        8.29763153e-02,  3.23347154e-02,  6.76493426e-01, -4.71212577e-01,\n",
       "       -2.03138585e-01, -1.04579231e+00, -5.22504251e-03,  7.56942242e-01,\n",
       "        6.96339525e-02,  2.11337392e-01])"
      ]
     },
     "execution_count": 9,
     "metadata": {},
     "output_type": "execute_result"
    }
   ],
   "source": [
    "# 첫 번째 데이터의 은닉층 출력을 확인해 봅시다.  50dim의 벡터가 나오나요?\n",
    "a1[0]"
   ]
  },
  {
   "cell_type": "markdown",
   "id": "ultimate-sociology",
   "metadata": {},
   "source": [
    "## # 신경망 구성 (2) 활성화 함수와 손실 함수"
   ]
  },
  {
   "cell_type": "markdown",
   "id": "second-metabolism",
   "metadata": {},
   "source": [
    "> 위에서 은닉층으로 오는 input에 sigmoid 함수 쓰기"
   ]
  },
  {
   "cell_type": "markdown",
   "id": "statewide-drama",
   "metadata": {},
   "source": [
    "### # 활성화 함수"
   ]
  },
  {
   "cell_type": "code",
   "execution_count": 10,
   "id": "nutritional-president",
   "metadata": {},
   "outputs": [
    {
     "name": "stdout",
     "output_type": "stream",
     "text": [
      "[0.65341442 0.52497332 0.53988606 0.28122134 0.65006952 0.34747949\n",
      " 0.5577738  0.60552534 0.47819122 0.3624586  0.61516265 0.55434959\n",
      " 0.33678468 0.43152329 0.19999528 0.5003359  0.4061449  0.24388129\n",
      " 0.55106302 0.7447566  0.53911221 0.52166724 0.76904739 0.69955104\n",
      " 0.75394946 0.53223055 0.4412659  0.65382975 0.16037068 0.06279857\n",
      " 0.37303374 0.88218827 0.45578023 0.53628887 0.77493253 0.70875221\n",
      " 0.27681459 0.35300437 0.11993991 0.14921643 0.52073218 0.50808297\n",
      " 0.66295562 0.38432928 0.44938927 0.26003391 0.49869374 0.68068949\n",
      " 0.51740146 0.55263858]\n"
     ]
    }
   ],
   "source": [
    "# 위 수식의 sigmoid 함수를 구현해 봅니다.\n",
    "def sigmoid(x):\n",
    "    return 1 / (1 + np.exp(-x))  \n",
    "\n",
    "\n",
    "z1 = sigmoid(a1)\n",
    "print(z1[0])  # sigmoid의 출력은 모든 element가 0에서 1사이"
   ]
  },
  {
   "cell_type": "code",
   "execution_count": 11,
   "id": "expressed-remains",
   "metadata": {},
   "outputs": [
    {
     "name": "stdout",
     "output_type": "stream",
     "text": [
      "go~\n"
     ]
    }
   ],
   "source": [
    "# 그리고 Dense 레이어가 나오는데, 이것을 구현함\n",
    "# 단일 레이어 구현 함수\n",
    "def affine_layer_forward(X, W, b):\n",
    "    y = np.dot(X, W) + b\n",
    "    cache = (X, W, b)\n",
    "    return y, cache\n",
    "\n",
    "print('go~')"
   ]
  },
  {
   "cell_type": "code",
   "execution_count": 12,
   "id": "scientific-wonder",
   "metadata": {},
   "outputs": [
    {
     "name": "stdout",
     "output_type": "stream",
     "text": [
      "[-0.86076203 -0.25466564  0.0982923  -0.31694162  0.28814521 -0.15172322\n",
      "  0.28185494  0.24985275  0.58670591  0.04540416]\n"
     ]
    }
   ],
   "source": [
    "# 윗 함수 다시 구현\n",
    "# 입력 -> 은닉 -> 출력의 활성화 함수 전까지\n",
    "input_size = 784\n",
    "hidden_size = 50\n",
    "output_size = 10\n",
    "\n",
    "W1 = weight_init_std * np.random.randn(input_size, hidden_size)\n",
    "b1 = np.zeros(hidden_size)\n",
    "W2 = weight_init_std * np.random.randn(hidden_size, output_size)\n",
    "b2 = np.zeros(output_size)\n",
    "\n",
    "a1, cache1 = affine_layer_forward(X, W1, b1)\n",
    "z1 = sigmoid(a1)\n",
    "a2, cache2 = affine_layer_forward(z1, W2, b2)    # z1이 다시 두번째 레이어의 입력이 됩니다. \n",
    "\n",
    "print(a2[0])  # 최종 출력이 output_size만큼의 벡터가 되었습니다."
   ]
  },
  {
   "cell_type": "code",
   "execution_count": 13,
   "id": "detailed-castle",
   "metadata": {},
   "outputs": [
    {
     "data": {
      "text/plain": [
       "(50, 10)"
      ]
     },
     "execution_count": 13,
     "metadata": {},
     "output_type": "execute_result"
    }
   ],
   "source": [
    "W2.shape"
   ]
  },
  {
   "cell_type": "code",
   "execution_count": 14,
   "id": "literary-desperate",
   "metadata": {},
   "outputs": [],
   "source": [
    "# 출력 전에 활성화 함수로 softmax 줘보기\n",
    "def softmax(x):\n",
    "    if x.ndim == 2:\n",
    "        x = x.T\n",
    "        x = x - np.max(x, axis=0) # DJ 추가 # 여기서는 각 데이터마다 갖는 feature 값 중 최대를 빼는데 그럼 음수도 생김\n",
    "        y = np.exp(x) / np.sum(np.exp(x), axis=0) # DJ 추가 # 그러나 exp()에 음수들 어가도 되서 괜찮고\n",
    "                                                  # 여기서는 데이터를 구분하는 축에 따라 sum()한 값이 결국 '/' 할 때는 브로드캐스팅 됨\n",
    "        return y.T \n",
    "\n",
    "    x = x - np.max(x) # 오버플로 대책\n",
    "    return np.exp(x) / np.sum(np.exp(x))"
   ]
  },
  {
   "cell_type": "code",
   "execution_count": 15,
   "id": "appreciated-victory",
   "metadata": {},
   "outputs": [
    {
     "data": {
      "text/plain": [
       "array([0.03960368, 0.07260388, 0.10333501, 0.06822031, 0.12493945,\n",
       "       0.08047614, 0.12415601, 0.12024565, 0.16840805, 0.09801183])"
      ]
     },
     "execution_count": 15,
     "metadata": {},
     "output_type": "execute_result"
    }
   ],
   "source": [
    "y_hat = softmax(a2)\n",
    "y_hat[0]  # 10개의 숫자 중 하나일 확률이 되었습니다."
   ]
  },
  {
   "cell_type": "markdown",
   "id": "personalized-robinson",
   "metadata": {},
   "source": [
    "### # 손실함수 (Loss Functions)\n"
   ]
  },
  {
   "cell_type": "code",
   "execution_count": 16,
   "id": "usual-expression",
   "metadata": {},
   "outputs": [
    {
     "data": {
      "text/plain": [
       "array([[0., 0., 0., 0., 0., 1., 0., 0., 0., 0.],\n",
       "       [1., 0., 0., 0., 0., 0., 0., 0., 0., 0.],\n",
       "       [0., 0., 0., 0., 1., 0., 0., 0., 0., 0.],\n",
       "       [0., 1., 0., 0., 0., 0., 0., 0., 0., 0.],\n",
       "       [0., 0., 0., 0., 0., 0., 0., 0., 0., 1.]])"
      ]
     },
     "execution_count": 16,
     "metadata": {},
     "output_type": "execute_result"
    }
   ],
   "source": [
    "# 우선 정답이 맞는지 라벨을 통해 확인해보기\n",
    "# 정답 라벨을 One-hot 인코딩하는 함수\n",
    "def _change_one_hot_label(X, num_category):\n",
    "    T = np.zeros((X.size, num_category))\n",
    "    for idx, row in enumerate(T):\n",
    "        row[X[idx]] = 1 # DJ 추가 # 맨 처음 데이터수 x 카테고리 수 shape의 0행렬을 만든다.\n",
    "                        # 그리고 결국 정답 integer를 0행렬 각 row의 인덱스로 넣으면서 그 자리에 1을 할당하는 것\n",
    "    return T\n",
    "\n",
    "Y_digit = y_train[:5]\n",
    "t = _change_one_hot_label(Y_digit, 10)\n",
    "t     # 정답 라벨의 One-hot 인코딩"
   ]
  },
  {
   "cell_type": "markdown",
   "id": "unnecessary-enemy",
   "metadata": {},
   "source": [
    "--------------------------------------------------------------------------------------"
   ]
  },
  {
   "cell_type": "code",
   "execution_count": 17,
   "id": "committed-metro",
   "metadata": {
    "scrolled": true
   },
   "outputs": [
    {
     "data": {
      "text/plain": [
       "(5, 10)"
      ]
     },
     "execution_count": 17,
     "metadata": {},
     "output_type": "execute_result"
    }
   ],
   "source": [
    "t.shape"
   ]
  },
  {
   "cell_type": "code",
   "execution_count": 21,
   "id": "wound-buddy",
   "metadata": {},
   "outputs": [
    {
     "data": {
      "text/plain": [
       "(60000,)"
      ]
     },
     "execution_count": 21,
     "metadata": {},
     "output_type": "execute_result"
    }
   ],
   "source": [
    "y_train.shape"
   ]
  },
  {
   "cell_type": "code",
   "execution_count": 22,
   "id": "iraqi-quebec",
   "metadata": {},
   "outputs": [
    {
     "data": {
      "text/plain": [
       "(5,)"
      ]
     },
     "execution_count": 22,
     "metadata": {},
     "output_type": "execute_result"
    }
   ],
   "source": [
    "Y_digit.shape"
   ]
  },
  {
   "cell_type": "code",
   "execution_count": 23,
   "id": "pointed-mercury",
   "metadata": {},
   "outputs": [
    {
     "data": {
      "text/plain": [
       "5"
      ]
     },
     "execution_count": 23,
     "metadata": {},
     "output_type": "execute_result"
    }
   ],
   "source": [
    "Y_digit.size"
   ]
  },
  {
   "cell_type": "code",
   "execution_count": 26,
   "id": "moved-moses",
   "metadata": {},
   "outputs": [
    {
     "data": {
      "text/plain": [
       "array([[0., 0., 0., 0., 0., 0., 0., 0., 0., 0.],\n",
       "       [0., 0., 0., 0., 0., 0., 0., 0., 0., 0.],\n",
       "       [0., 0., 0., 0., 0., 0., 0., 0., 0., 0.],\n",
       "       [0., 0., 0., 0., 0., 0., 0., 0., 0., 0.],\n",
       "       [0., 0., 0., 0., 0., 0., 0., 0., 0., 0.]])"
      ]
     },
     "execution_count": 26,
     "metadata": {},
     "output_type": "execute_result"
    }
   ],
   "source": [
    "np.zeros((5, 10))"
   ]
  },
  {
   "cell_type": "code",
   "execution_count": 27,
   "id": "adjusted-graphic",
   "metadata": {},
   "outputs": [
    {
     "name": "stdout",
     "output_type": "stream",
     "text": [
      "0 [0. 0. 0. 0. 0. 0. 0. 0. 0. 0.]\n",
      "1 [0. 0. 0. 0. 0. 0. 0. 0. 0. 0.]\n",
      "2 [0. 0. 0. 0. 0. 0. 0. 0. 0. 0.]\n",
      "3 [0. 0. 0. 0. 0. 0. 0. 0. 0. 0.]\n",
      "4 [0. 0. 0. 0. 0. 0. 0. 0. 0. 0.]\n"
     ]
    }
   ],
   "source": [
    "count = 0\n",
    "for i, v in enumerate(np.zeros((5, 10))):\n",
    "    print(i, v)\n",
    "    count += 1\n",
    "    if count == 5:\n",
    "        break"
   ]
  },
  {
   "cell_type": "code",
   "execution_count": 29,
   "id": "august-maker",
   "metadata": {},
   "outputs": [
    {
     "data": {
      "text/plain": [
       "array([5, 0, 4, 1, 9], dtype=uint8)"
      ]
     },
     "execution_count": 29,
     "metadata": {},
     "output_type": "execute_result"
    }
   ],
   "source": [
    "Y_digit"
   ]
  },
  {
   "cell_type": "code",
   "execution_count": 30,
   "id": "retained-peter",
   "metadata": {},
   "outputs": [
    {
     "data": {
      "text/plain": [
       "5"
      ]
     },
     "execution_count": 30,
     "metadata": {},
     "output_type": "execute_result"
    }
   ],
   "source": [
    "Y_digit[0]"
   ]
  },
  {
   "cell_type": "markdown",
   "id": "regulated-custody",
   "metadata": {},
   "source": [
    "-------------------------------------------------------------------------"
   ]
  },
  {
   "cell_type": "markdown",
   "id": "registered-internship",
   "metadata": {},
   "source": [
    "#### continued.."
   ]
  },
  {
   "cell_type": "code",
   "execution_count": 31,
   "id": "angry-hacker",
   "metadata": {},
   "outputs": [
    {
     "name": "stdout",
     "output_type": "stream",
     "text": [
      "[0.03960368 0.07260388 0.10333501 0.06822031 0.12493945 0.08047614\n",
      " 0.12415601 0.12024565 0.16840805 0.09801183]\n",
      "[0. 0. 0. 0. 0. 1. 0. 0. 0. 0.]\n"
     ]
    }
   ],
   "source": [
    "# 실제 값과 확인\n",
    "print(y_hat[0])\n",
    "print(t[0])"
   ]
  },
  {
   "cell_type": "markdown",
   "id": "distinguished-probe",
   "metadata": {},
   "source": [
    "> 아직 확률이 정확하지 않음..."
   ]
  },
  {
   "cell_type": "code",
   "execution_count": 32,
   "id": "balanced-lover",
   "metadata": {},
   "outputs": [
    {
     "data": {
      "text/plain": [
       "2.593189765081021"
      ]
     },
     "execution_count": 32,
     "metadata": {},
     "output_type": "execute_result"
    }
   ],
   "source": [
    "# 손실 함수 넣기\n",
    "def cross_entropy_error(y, t):\n",
    "    if y.ndim == 1:\n",
    "        t = t.reshape(1, t.size)\n",
    "        y = y.reshape(1, y.size)\n",
    "        \n",
    "    # 훈련 데이터가 원-핫 벡터라면 정답 레이블의 인덱스로 반환\n",
    "    if t.size == y.size:\n",
    "        t = t.argmax(axis=1)\n",
    "             \n",
    "    batch_size = y.shape[0]\n",
    "    return -np.sum(np.log(y[np.arange(batch_size), t])) / batch_size\n",
    "                         # 이 바로 윗 부분이 잘 이해 안 갔는데, integer array indexing이다.\n",
    "                         # 전체 데이터 갯수에서 t, 즉 제일 확률이 높은 열 인덱스 값을 가져온다.\n",
    "                         # batch_size로 나눠주는 건 데이터마다의 손실함수 값을 주\n",
    "\n",
    "Loss = cross_entropy_error(y_hat, t)\n",
    "Loss"
   ]
  },
  {
   "cell_type": "markdown",
   "id": "stuck-china",
   "metadata": {},
   "source": [
    "-----------------------------------------------------------------------"
   ]
  },
  {
   "cell_type": "code",
   "execution_count": 37,
   "id": "prime-pepper",
   "metadata": {},
   "outputs": [
    {
     "data": {
      "text/plain": [
       "array([[0., 0., 0., 0., 0., 1., 0., 0., 0., 0.],\n",
       "       [1., 0., 0., 0., 0., 0., 0., 0., 0., 0.],\n",
       "       [0., 0., 0., 0., 1., 0., 0., 0., 0., 0.],\n",
       "       [0., 1., 0., 0., 0., 0., 0., 0., 0., 0.],\n",
       "       [0., 0., 0., 0., 0., 0., 0., 0., 0., 1.]])"
      ]
     },
     "execution_count": 37,
     "metadata": {},
     "output_type": "execute_result"
    }
   ],
   "source": [
    "t"
   ]
  },
  {
   "cell_type": "code",
   "execution_count": 41,
   "id": "going-tenant",
   "metadata": {},
   "outputs": [
    {
     "data": {
      "text/plain": [
       "array([5, 0, 4, 1, 9])"
      ]
     },
     "execution_count": 41,
     "metadata": {},
     "output_type": "execute_result"
    }
   ],
   "source": [
    "t.argmax(axis=1)"
   ]
  },
  {
   "cell_type": "code",
   "execution_count": 39,
   "id": "spare-dealing",
   "metadata": {
    "scrolled": true
   },
   "outputs": [
    {
     "data": {
      "text/plain": [
       "array([[0.03960368, 0.07260388, 0.10333501, 0.06822031, 0.12493945,\n",
       "        0.08047614, 0.12415601, 0.12024565, 0.16840805, 0.09801183],\n",
       "       [0.03903497, 0.05991991, 0.10358   , 0.08502322, 0.11789689,\n",
       "        0.08193655, 0.12466677, 0.14342779, 0.13848516, 0.10602875],\n",
       "       [0.04127167, 0.06946645, 0.08952505, 0.06370002, 0.11141347,\n",
       "        0.09038227, 0.12690006, 0.14521688, 0.14937674, 0.1127474 ],\n",
       "       [0.04435092, 0.06721695, 0.10522656, 0.07203785, 0.10506611,\n",
       "        0.07721062, 0.13533711, 0.14410762, 0.16149253, 0.08795374],\n",
       "       [0.04063413, 0.07758915, 0.09443401, 0.1038031 , 0.11279805,\n",
       "        0.07368765, 0.1274409 , 0.10829237, 0.16191237, 0.09940828]])"
      ]
     },
     "execution_count": 39,
     "metadata": {},
     "output_type": "execute_result"
    }
   ],
   "source": [
    "y_hat"
   ]
  },
  {
   "cell_type": "code",
   "execution_count": 42,
   "id": "naughty-prefix",
   "metadata": {},
   "outputs": [
    {
     "data": {
      "text/plain": [
       "(5, 10)"
      ]
     },
     "execution_count": 42,
     "metadata": {},
     "output_type": "execute_result"
    }
   ],
   "source": [
    "y_hat.shape"
   ]
  },
  {
   "cell_type": "code",
   "execution_count": 44,
   "id": "classified-discretion",
   "metadata": {},
   "outputs": [
    {
     "data": {
      "text/plain": [
       "array([0.08047614, 0.03903497, 0.11141347, 0.06721695, 0.09940828])"
      ]
     },
     "execution_count": 44,
     "metadata": {},
     "output_type": "execute_result"
    }
   ],
   "source": [
    "y_hat[np.arange(5), t.argmax(axis=1)]"
   ]
  },
  {
   "cell_type": "code",
   "execution_count": 47,
   "id": "french-affiliation",
   "metadata": {},
   "outputs": [
    {
     "data": {
      "text/plain": [
       "array([-2.51979453, -3.24329747, -2.19450707, -2.6998299 , -2.30851986])"
      ]
     },
     "execution_count": 47,
     "metadata": {},
     "output_type": "execute_result"
    }
   ],
   "source": [
    "np.log(y_hat[np.arange(5), t.argmax(axis=1)])"
   ]
  },
  {
   "cell_type": "code",
   "execution_count": 48,
   "id": "sought-piano",
   "metadata": {},
   "outputs": [
    {
     "data": {
      "text/plain": [
       "-12.965948825405105"
      ]
     },
     "execution_count": 48,
     "metadata": {},
     "output_type": "execute_result"
    }
   ],
   "source": [
    "np.sum(np.log(y_hat[np.arange(5), t.argmax(axis=1)]))"
   ]
  },
  {
   "cell_type": "code",
   "execution_count": 49,
   "id": "artistic-auction",
   "metadata": {},
   "outputs": [
    {
     "data": {
      "text/plain": [
       "2.593189765081021"
      ]
     },
     "execution_count": 49,
     "metadata": {},
     "output_type": "execute_result"
    }
   ],
   "source": [
    "-np.sum(np.log(y_hat[np.arange(5), t.argmax(axis=1)])) / 5"
   ]
  },
  {
   "cell_type": "markdown",
   "id": "interesting-tracy",
   "metadata": {},
   "source": [
    "-----------------------------------------------------------------------"
   ]
  },
  {
   "cell_type": "markdown",
   "id": "small-diabetes",
   "metadata": {},
   "source": [
    "### # Gradient Descent"
   ]
  },
  {
   "cell_type": "code",
   "execution_count": 50,
   "id": "documentary-kidney",
   "metadata": {},
   "outputs": [
    {
     "data": {
      "text/plain": [
       "array([[ 0.00792074,  0.01452078,  0.020667  ,  0.01364406,  0.02498789,\n",
       "        -0.18390477,  0.0248312 ,  0.02404913,  0.03368161,  0.01960237],\n",
       "       [-0.19219301,  0.01198398,  0.020716  ,  0.01700464,  0.02357938,\n",
       "         0.01638731,  0.02493335,  0.02868556,  0.02769703,  0.02120575],\n",
       "       [ 0.00825433,  0.01389329,  0.01790501,  0.01274   , -0.17771731,\n",
       "         0.01807645,  0.02538001,  0.02904338,  0.02987535,  0.02254948],\n",
       "       [ 0.00887018, -0.18655661,  0.02104531,  0.01440757,  0.02101322,\n",
       "         0.01544212,  0.02706742,  0.02882152,  0.03229851,  0.01759075],\n",
       "       [ 0.00812683,  0.01551783,  0.0188868 ,  0.02076062,  0.02255961,\n",
       "         0.01473753,  0.02548818,  0.02165847,  0.03238247, -0.18011834]])"
      ]
     },
     "execution_count": 50,
     "metadata": {},
     "output_type": "execute_result"
    }
   ],
   "source": [
    "# numpy로 Gradient Descent 구현하기\n",
    "batch_num = y_hat.shape[0]\n",
    "dy = (y_hat - t) / batch_num\n",
    "dy    # softmax값의 출력으로 Loss를 미분한 값\n",
    "\n",
    "# y 가 one-hot encoded vector이고 크로스엔트로피를 손실함수로 갖고 softmax 함수가 중간에 있을 때\n",
    "# 위와 같은 도함수가 나오는걸 증명한 링크\n",
    "# https://deepnotes.io/softmax-crossentropy"
   ]
  },
  {
   "cell_type": "markdown",
   "id": "initial-mechanics",
   "metadata": {},
   "source": [
    "> 여기서 dy란 $\\frac{\\partial Loss}{\\partial y}$  \n",
    "> dy를 구하면 다른 건 chain rule 로 구할 수 있다.  "
   ]
  },
  {
   "cell_type": "code",
   "execution_count": 56,
   "id": "floral-laundry",
   "metadata": {},
   "outputs": [
    {
     "data": {
      "text/plain": [
       "array([[-0.10296166, -0.09027263,  0.06792929,  0.05247001, -0.05379362,\n",
       "        -0.11764271,  0.08693793,  0.09027262,  0.10668978, -0.03962901],\n",
       "       [-0.06746099, -0.09837717,  0.04451733,  0.03482952,  0.00391231,\n",
       "        -0.06177022,  0.0567224 ,  0.05833033,  0.06949585, -0.04019938],\n",
       "       [-0.11949504, -0.06373423,  0.06266159,  0.04988737, -0.05499871,\n",
       "        -0.07425048,  0.08050852,  0.08360286,  0.09809712, -0.062279  ],\n",
       "       [-0.02845243, -0.05266473,  0.03484133,  0.02655173, -0.09043075,\n",
       "        -0.0272896 ,  0.0457762 ,  0.04850376,  0.0555439 , -0.01237941],\n",
       "       [-0.13283476, -0.07968699,  0.06097088,  0.04829713,  0.01258809,\n",
       "        -0.10372111,  0.07711427,  0.07934942,  0.09451258, -0.05658951],\n",
       "       [-0.0639509 , -0.03451187,  0.03481476,  0.02779659, -0.0269664 ,\n",
       "        -0.04468536,  0.04470012,  0.04622336,  0.05459993, -0.03802022],\n",
       "       [-0.0908246 , -0.09010187,  0.06059081,  0.04636508, -0.04638948,\n",
       "        -0.10762128,  0.07744818,  0.08064383,  0.09501103, -0.02512171],\n",
       "       [-0.05159322, -0.10882563,  0.05524877,  0.04279466, -0.0830277 ,\n",
       "        -0.04833691,  0.07189959,  0.0750531 ,  0.08758242, -0.04079506],\n",
       "       [-0.15328432, -0.13696945,  0.07138104,  0.05662873,  0.00850085,\n",
       "        -0.07509563,  0.09076417,  0.09401069,  0.11029169, -0.06622777],\n",
       "       [-0.09389793, -0.05723159,  0.05494466,  0.04324624, -0.08877288,\n",
       "        -0.04930825,  0.07122081,  0.07478959,  0.08636549, -0.04135612],\n",
       "       [-0.14051197, -0.03616202,  0.05365667,  0.04199668, -0.01720675,\n",
       "        -0.09730372,  0.06780692,  0.07085737,  0.08271952, -0.02585271],\n",
       "       [-0.08933368, -0.03207819,  0.04673965,  0.03912434, -0.04516597,\n",
       "        -0.02367479,  0.0606542 ,  0.06215484,  0.07369507, -0.09211547],\n",
       "       [-0.03955967, -0.07096325,  0.04745596,  0.03903865, -0.05380666,\n",
       "        -0.0285051 ,  0.06207278,  0.06308946,  0.07601079, -0.09483297],\n",
       "       [-0.12583054, -0.12489629,  0.06821276,  0.05419526,  0.01727077,\n",
       "        -0.09554165,  0.0866703 ,  0.08885867,  0.10614093, -0.0750802 ],\n",
       "       [-0.09991731,  0.00968892,  0.04875696,  0.04008739, -0.01844691,\n",
       "        -0.09996706,  0.06215047,  0.06292479,  0.07690683, -0.08218408],\n",
       "       [-0.10689448, -0.1230244 ,  0.06853724,  0.05451353, -0.06969417,\n",
       "        -0.03953729,  0.08874818,  0.0924045 ,  0.10753573, -0.07258885],\n",
       "       [-0.1050144 , -0.04775246,  0.04649953,  0.03828669, -0.00884714,\n",
       "        -0.04183746,  0.05951224,  0.06105165,  0.07240875, -0.07430739],\n",
       "       [-0.0213218 , -0.01982786,  0.03271908,  0.02720331, -0.04243797,\n",
       "        -0.03982155,  0.04280261,  0.04297045,  0.05297903, -0.07526532],\n",
       "       [-0.10575976, -0.05981328,  0.05190682,  0.03932923, -0.06103963,\n",
       "        -0.08303249,  0.06630725,  0.07026204,  0.08062397,  0.00121585],\n",
       "       [-0.10854977, -0.08483551,  0.05642899,  0.04575894, -0.07562258,\n",
       "        -0.00121414,  0.0734508 ,  0.07693824,  0.08823424, -0.07058921],\n",
       "       [-0.13013372, -0.04802339,  0.05904299,  0.04549382, -0.0578056 ,\n",
       "        -0.09946512,  0.07526486,  0.07922267,  0.09170724, -0.01530375],\n",
       "       [-0.06443832, -0.10532845,  0.04798378,  0.03797658, -0.07869723,\n",
       "         0.00350041,  0.0628075 ,  0.06610524,  0.07546412, -0.04537362],\n",
       "       [-0.04943377, -0.04147894,  0.03606141,  0.02957597, -0.04208277,\n",
       "        -0.02244528,  0.04695644,  0.04817768,  0.05723307, -0.06256382],\n",
       "       [-0.02999594, -0.12748593,  0.03317456,  0.02522903, -0.02921328,\n",
       "         0.00155849,  0.04312226,  0.04549047,  0.0518289 , -0.01370855],\n",
       "       [-0.01246592, -0.06073434,  0.03590054,  0.02592846, -0.09358093,\n",
       "        -0.06404863,  0.04683535,  0.04979   ,  0.05745879,  0.01491667],\n",
       "       [-0.09954176, -0.04697434,  0.05745608,  0.04548169, -0.04791786,\n",
       "        -0.09279251,  0.07365689,  0.0760943 ,  0.09034842, -0.05581092],\n",
       "       [-0.08487868, -0.03436001,  0.03409618,  0.02811079, -0.04112841,\n",
       "         0.00198234,  0.04421929,  0.04637333,  0.05292643, -0.04734128],\n",
       "       [-0.10535051, -0.06624618,  0.05872641,  0.04709717, -0.07718893,\n",
       "        -0.03947116,  0.07611287,  0.0793925 ,  0.09221216, -0.06528432],\n",
       "       [-0.12171873, -0.0568083 ,  0.05080586,  0.03837328, -0.08059934,\n",
       "        -0.0578184 ,  0.06511625,  0.07002312,  0.0783521 ,  0.01427418],\n",
       "       [-0.12914939, -0.07780289,  0.07246856,  0.05697755, -0.05852826,\n",
       "        -0.10767383,  0.09285741,  0.09637717,  0.11356204, -0.05908837],\n",
       "       [-0.10029082, -0.04973329,  0.06449849,  0.05130597, -0.07312701,\n",
       "        -0.09300548,  0.08315636,  0.0858941 ,  0.10192695, -0.07062526],\n",
       "       [-0.02192752, -0.07797054,  0.0390573 ,  0.02936571, -0.04328597,\n",
       "        -0.07423383,  0.05034315,  0.05213401,  0.06218684, -0.01566915],\n",
       "       [-0.14940034, -0.08368585,  0.08019003,  0.0636588 , -0.04715317,\n",
       "        -0.11782037,  0.10258848,  0.10599203,  0.12554448, -0.0799141 ],\n",
       "       [-0.05668896, -0.01733595,  0.03987947,  0.03374161,  0.00608155,\n",
       "        -0.06910169,  0.05111097,  0.05050935,  0.06359852, -0.10179487],\n",
       "       [-0.04465843, -0.0450737 ,  0.04030375,  0.03233323,  0.00367333,\n",
       "        -0.08934384,  0.05138122,  0.05148965,  0.06407963, -0.06418484],\n",
       "       [-0.1189925 , -0.05383857,  0.06375936,  0.04955409, -0.03600479,\n",
       "        -0.13031745,  0.08108586,  0.08398732,  0.09974698, -0.0389803 ],\n",
       "       [-0.10888708, -0.0649671 ,  0.04728159,  0.03849303, -0.0393679 ,\n",
       "        -0.01146906,  0.06101975,  0.06374531,  0.07337147, -0.05922   ],\n",
       "       [-0.07619046, -0.08613587,  0.05650359,  0.04316282, -0.05199993,\n",
       "        -0.09830781,  0.07241851,  0.07541956,  0.08886915, -0.02373956],\n",
       "       [-0.07208163, -0.07449077,  0.03798105,  0.02959389, -0.02338997,\n",
       "        -0.03402384,  0.0486767 ,  0.05101769,  0.05894792, -0.02223105],\n",
       "       [-0.06031553, -0.06033908,  0.05736992,  0.04389994, -0.08785932,\n",
       "        -0.10598343,  0.07407088,  0.07708008,  0.0911818 , -0.02910526],\n",
       "       [-0.02557755, -0.05504153,  0.04338805,  0.03423209, -0.10054771,\n",
       "        -0.03343294,  0.05716015,  0.05941867,  0.06979862, -0.04939784],\n",
       "       [-0.07818308, -0.03043601,  0.04002109,  0.03350274,  0.01129793,\n",
       "        -0.05624853,  0.05105725,  0.05124109,  0.06289843, -0.08515093],\n",
       "       [-0.02048465, -0.06360857,  0.03993697,  0.03135084, -0.06567938,\n",
       "        -0.04551289,  0.05219567,  0.05377837,  0.06411953, -0.04609589],\n",
       "       [-0.01685742, -0.09113981,  0.03335376,  0.02640498, -0.00086955,\n",
       "        -0.04070974,  0.04299243,  0.04344398,  0.05307177, -0.0496904 ],\n",
       "       [-0.0713341 , -0.07090408,  0.06530711,  0.05214153, -0.02695073,\n",
       "        -0.1267551 ,  0.08374909,  0.08474186,  0.10391944, -0.09391502],\n",
       "       [-0.05256116, -0.07617333,  0.04861594,  0.03892186, -0.03860148,\n",
       "        -0.05566488,  0.06289163,  0.06432518,  0.07719298, -0.06894673],\n",
       "       [-0.06724024, -0.07059332,  0.04589194,  0.03827077, -0.04932878,\n",
       "         0.00149153,  0.06000572,  0.06158401,  0.07261055, -0.09269219],\n",
       "       [-0.09841321, -0.05739978,  0.05880785,  0.04462222, -0.07035658,\n",
       "        -0.11450548,  0.07520808,  0.07894714,  0.09218012, -0.00909036],\n",
       "       [-0.03056667, -0.01335102,  0.03241063,  0.02443269, -0.0226279 ,\n",
       "        -0.1111672 ,  0.04110191,  0.04192263,  0.05171729, -0.01387236],\n",
       "       [-0.02360973, -0.0620584 ,  0.04600968,  0.03637669, -0.03685395,\n",
       "        -0.08808121,  0.05944205,  0.0600995 ,  0.07394604, -0.06527067]])"
      ]
     },
     "execution_count": 56,
     "metadata": {},
     "output_type": "execute_result"
    }
   ],
   "source": [
    "dW2 = np.dot(z1.T, dy)    \n",
    "dW2"
   ]
  },
  {
   "cell_type": "code",
   "execution_count": 57,
   "id": "alternate-portuguese",
   "metadata": {},
   "outputs": [],
   "source": [
    "dW2 = np.dot(z1.T, dy)\n",
    "db2 = np.sum(dy, axis=0)"
   ]
  },
  {
   "cell_type": "code",
   "execution_count": 58,
   "id": "together-booking",
   "metadata": {},
   "outputs": [],
   "source": [
    "# 중간에 sigmoid도 한 번 사용됐으니\n",
    "# 이에 대한 gradient도 구해야 함\n",
    "def sigmoid_grad(x):\n",
    "    return (1.0 - sigmoid(x)) * sigmoid(x)"
   ]
  },
  {
   "cell_type": "code",
   "execution_count": 59,
   "id": "resident-terrace",
   "metadata": {},
   "outputs": [],
   "source": [
    "dz1 = np.dot(dy, W2.T)\n",
    "da1 = sigmoid_grad(a1) * dz1\n",
    "dW1 = np.dot(X.T, da1)\n",
    "db1 = np.sum(dz1, axis=0)"
   ]
  },
  {
   "cell_type": "code",
   "execution_count": 60,
   "id": "continuing-premium",
   "metadata": {},
   "outputs": [],
   "source": [
    "# learning rate도 고려한\n",
    "# 파라미터 업데이트 함수\n",
    "\n",
    "learning_rate = 0.1\n",
    "\n",
    "def update_params(W1, b1, W2, b2, dW1, db1, dW2, db2, learning_rate):\n",
    "    W1 = W1 - learning_rate*dW1\n",
    "    b1 = b1 - learning_rate*db1\n",
    "    W2 = W2 - learning_rate*dW2\n",
    "    b2 = b2 - learning_rate*db2\n",
    "    return W1, b1, W2, b2"
   ]
  },
  {
   "cell_type": "markdown",
   "id": "dense-protection",
   "metadata": {},
   "source": [
    "### # Backpropagation"
   ]
  },
  {
   "cell_type": "code",
   "execution_count": 61,
   "id": "aggregate-property",
   "metadata": {},
   "outputs": [],
   "source": [
    "# 역전파를 통해 미분 계수 구하는 함수\n",
    "def affine_layer_backward(dy, cache):\n",
    "    X, W, b = cache\n",
    "    dX = np.dot(dy, W.T)\n",
    "    dW = np.dot(X.T, dy)\n",
    "    db = np.sum(dy, axis=0)\n",
    "    return dX, dW, db"
   ]
  },
  {
   "cell_type": "code",
   "execution_count": 66,
   "id": "premium-decade",
   "metadata": {},
   "outputs": [
    {
     "name": "stdout",
     "output_type": "stream",
     "text": [
      "[[0.07024955 0.09734939 0.09060088 0.12063172 0.11840632 0.0768448\n",
      "  0.10088194 0.07672158 0.12693046 0.12138337]\n",
      " [0.08362928 0.08721015 0.07151939 0.12208646 0.12634531 0.0868721\n",
      "  0.0960289  0.08992881 0.12125131 0.11512829]\n",
      " [0.08540055 0.0896849  0.06768838 0.09804973 0.13539394 0.08723975\n",
      "  0.11450589 0.07778957 0.11674581 0.12750148]\n",
      " [0.07959859 0.08521269 0.07833179 0.11815262 0.14388454 0.07651292\n",
      "  0.10215738 0.09280785 0.11506022 0.10828139]\n",
      " [0.08208761 0.08450531 0.07438452 0.10736445 0.15643022 0.06968551\n",
      "  0.09872937 0.09272951 0.10886535 0.12521816]]\n",
      "[[0. 0. 0. 0. 0. 1. 0. 0. 0. 0.]\n",
      " [1. 0. 0. 0. 0. 0. 0. 0. 0. 0.]\n",
      " [0. 0. 0. 0. 1. 0. 0. 0. 0. 0.]\n",
      " [0. 1. 0. 0. 0. 0. 0. 0. 0. 0.]\n",
      " [0. 0. 0. 0. 0. 0. 0. 0. 0. 1.]]\n",
      "Loss:  2.3174396970653164\n"
     ]
    }
   ],
   "source": [
    "# 이로서 순전파, 역전파를 통해\n",
    "# 파라미터가 업데이틑 과정을 아래의 코드로 구현함\n",
    "\n",
    "# 파라미터 초기화\n",
    "W1 = weight_init_std * np.random.randn(input_size, hidden_size)\n",
    "b1 = np.zeros(hidden_size)\n",
    "W2 = weight_init_std * np.random.randn(hidden_size, output_size)\n",
    "b2 = np.zeros(output_size)\n",
    "\n",
    "# Forward Propagation\n",
    "a1, cache1 = affine_layer_forward(X, W1, b1)\n",
    "z1 = sigmoid(a1)\n",
    "a2, cache2 = affine_layer_forward(z1, W2, b2)\n",
    "\n",
    "# 추론과 오차(Loss) 계산\n",
    "y_hat = softmax(a2)\n",
    "t = _change_one_hot_label(Y_digit, 10)   # 정답 One-hot 인코딩\n",
    "Loss = cross_entropy_error(y_hat, t)\n",
    "\n",
    "print(y_hat)\n",
    "print(t)\n",
    "print('Loss: ', Loss)\n",
    "        \n",
    "dy = (y_hat - t) / X.shape[0]\n",
    "dz1, dW2, db2 = affine_layer_backward(dy, cache2)\n",
    "da1 = sigmoid_grad(a1) * dz1\n",
    "dX, dW1, db1 = affine_layer_backward(da1, cache1)\n",
    "\n",
    "# 경사하강법을 통한 파라미터 업데이트    \n",
    "learning_rate = 0.1\n",
    "W1, b1, W2, b2 = update_params(W1, b1, W2, b2, dW1, db1, dW2, db2, learning_rate)"
   ]
  },
  {
   "cell_type": "markdown",
   "id": "wicked-sharp",
   "metadata": {},
   "source": [
    "> 실험해봤는데 위에서 initialising 하는 부분 빼고 코드를 반복해서 실행하면  \n",
    "> Loss가 줄어드는 것을 볼 수 있다."
   ]
  },
  {
   "cell_type": "markdown",
   "id": "respected-engineering",
   "metadata": {},
   "source": [
    "## # 모델 학습 step-by-step"
   ]
  },
  {
   "cell_type": "markdown",
   "id": "tough-superintendent",
   "metadata": {},
   "source": [
    "- 모델이 학습해가는 과정을 5번 반복해서 실제 loss가 줄어드는지 확인한다."
   ]
  },
  {
   "cell_type": "code",
   "execution_count": 67,
   "id": "linear-helmet",
   "metadata": {},
   "outputs": [],
   "source": [
    "W1 = weight_init_std * np.random.randn(input_size, hidden_size)\n",
    "b1 = np.zeros(hidden_size)\n",
    "W2 = weight_init_std * np.random.randn(hidden_size, output_size)\n",
    "b2 = np.zeros(output_size)\n",
    "\n",
    "def train_step(X, Y, W1, b1, W2, b2, learning_rate=0.1, verbose=False):\n",
    "    a1, cache1 = affine_layer_forward(X, W1, b1)\n",
    "    z1 = sigmoid(a1)\n",
    "    a2, cache2 = affine_layer_forward(z1, W2, b2)\n",
    "    y_hat = softmax(a2)\n",
    "    t = _change_one_hot_label(Y, 10)\n",
    "    Loss = cross_entropy_error(y_hat, t)\n",
    "\n",
    "    if verbose:\n",
    "        print('---------')\n",
    "        print(y_hat)\n",
    "        print(t)\n",
    "        print('Loss: ', Loss)\n",
    "        \n",
    "    dy = (y_hat - t) / X.shape[0]\n",
    "    dz1, dW2, db2 = affine_layer_backward(dy, cache2)\n",
    "    da1 = sigmoid_grad(a1) * dz1\n",
    "    dX, dW1, db1 = affine_layer_backward(da1, cache1)\n",
    "    \n",
    "    W1, b1, W2, b2 = update_params(W1, b1, W2, b2, dW1, db1, dW2, db2, learning_rate)\n",
    "    \n",
    "    return W1, b1, W2, b2, Loss"
   ]
  },
  {
   "cell_type": "code",
   "execution_count": 68,
   "id": "announced-tower",
   "metadata": {},
   "outputs": [
    {
     "name": "stdout",
     "output_type": "stream",
     "text": [
      "---------\n",
      "[[0.08527203 0.07994717 0.11869815 0.07021829 0.15548542 0.09905219\n",
      "  0.06070831 0.14202441 0.14137745 0.04721659]\n",
      " [0.0901562  0.07235708 0.13928587 0.08624665 0.12868083 0.09120542\n",
      "  0.06758216 0.13218067 0.14475491 0.04755021]\n",
      " [0.08385518 0.06449953 0.14237863 0.07363839 0.15245708 0.0974574\n",
      "  0.08162625 0.13433735 0.11189395 0.05785625]\n",
      " [0.07793474 0.06331486 0.10024005 0.08217073 0.1498699  0.11936635\n",
      "  0.05531203 0.15148173 0.15391335 0.04639626]\n",
      " [0.10217162 0.06915798 0.13440687 0.06378825 0.14859312 0.10664448\n",
      "  0.06909434 0.15190328 0.10998032 0.04425975]]\n",
      "[[0. 0. 0. 0. 0. 1. 0. 0. 0. 0.]\n",
      " [1. 0. 0. 0. 0. 0. 0. 0. 0. 0.]\n",
      " [0. 0. 0. 0. 1. 0. 0. 0. 0. 0.]\n",
      " [0. 1. 0. 0. 0. 0. 0. 0. 0. 0.]\n",
      " [0. 0. 0. 0. 0. 0. 0. 0. 0. 1.]]\n",
      "Loss:  2.4953013915468074\n",
      "---------\n",
      "[[0.10192466 0.09991016 0.09935188 0.06373496 0.16502791 0.12299631\n",
      "  0.05572437 0.11620344 0.11595397 0.05917235]\n",
      " [0.11338249 0.08918706 0.11850394 0.07939999 0.13934392 0.10799408\n",
      "  0.06251548 0.10978769 0.12056185 0.05932351]\n",
      " [0.09813393 0.07890455 0.11987277 0.0671912  0.17286889 0.11125072\n",
      "  0.07537729 0.11117024 0.09320766 0.07202275]\n",
      " [0.09280539 0.0833987  0.08359013 0.07444906 0.16219365 0.14217987\n",
      "  0.05098362 0.12409075 0.12694193 0.05936692]\n",
      " [0.11990912 0.08568279 0.11299809 0.05840735 0.16090466 0.12382122\n",
      "  0.06374133 0.12502488 0.0916751  0.05783546]]\n",
      "[[0. 0. 0. 0. 0. 1. 0. 0. 0. 0.]\n",
      " [1. 0. 0. 0. 0. 0. 0. 0. 0. 0.]\n",
      " [0. 0. 0. 0. 1. 0. 0. 0. 0. 0.]\n",
      " [0. 1. 0. 0. 0. 0. 0. 0. 0. 0.]\n",
      " [0. 0. 0. 0. 0. 0. 0. 0. 0. 1.]]\n",
      "Loss:  2.272417396030093\n",
      "---------\n",
      "[[0.11540866 0.11831523 0.08370511 0.05690083 0.16756365 0.14448556\n",
      "  0.0502267  0.09645883 0.09623822 0.0706972 ]\n",
      " [0.13524526 0.1043546  0.10137567 0.071904   0.14462648 0.12127905\n",
      "  0.05679532 0.09232022 0.10142771 0.07067169]\n",
      " [0.10957921 0.09215487 0.10165047 0.06050549 0.1885779  0.12106745\n",
      "  0.06857388 0.09328558 0.07850736 0.08609779]\n",
      " [0.10455926 0.10386113 0.07014499 0.06635068 0.16763849 0.16001294\n",
      "  0.04609795 0.1031142  0.10593503 0.07228533]\n",
      " [0.13391303 0.10096529 0.09592076 0.05276115 0.16743692 0.13671024\n",
      "  0.05792191 0.10463264 0.07746086 0.0722772 ]]\n",
      "[[0. 0. 0. 0. 0. 1. 0. 0. 0. 0.]\n",
      " [1. 0. 0. 0. 0. 0. 0. 0. 0. 0.]\n",
      " [0. 0. 0. 0. 1. 0. 0. 0. 0. 0.]\n",
      " [0. 1. 0. 0. 0. 0. 0. 0. 0. 0.]\n",
      " [0. 0. 0. 0. 0. 0. 0. 0. 0. 1.]]\n",
      "Loss:  2.099086458581829\n",
      "---------\n",
      "[[0.12582404 0.13455367 0.07121068 0.05050513 0.16596201 0.16334178\n",
      "  0.04494542 0.08120329 0.08091216 0.08154182]\n",
      " [0.15539555 0.11738075 0.08743527 0.06468751 0.14648136 0.13127271\n",
      "  0.05118965 0.07854941 0.08624645 0.08136134]\n",
      " [0.11829899 0.10383345 0.08701873 0.0542446  0.20119825 0.12738681\n",
      "  0.0620177  0.07932045 0.06689413 0.09978689]\n",
      " [0.11328975 0.1239429  0.05942728 0.05879559 0.16880138 0.17314038\n",
      "  0.04134442 0.08690955 0.08954956 0.08479919]\n",
      " [0.14443365 0.1145353  0.08236203 0.04745547 0.17045416 0.14578821\n",
      "  0.05234268 0.08892137 0.06634078 0.08736635]]\n",
      "[[0. 0. 0. 0. 0. 1. 0. 0. 0. 0.]\n",
      " [1. 0. 0. 0. 0. 0. 0. 0. 0. 0.]\n",
      " [0. 0. 0. 0. 1. 0. 0. 0. 0. 0.]\n",
      " [0. 1. 0. 0. 0. 0. 0. 0. 0. 0.]\n",
      " [0. 0. 0. 0. 0. 0. 0. 0. 0. 1.]]\n",
      "Loss:  1.9605471861334198\n",
      "---------\n",
      "[[0.13360201 0.14833185 0.06123404 0.044832   0.16224998 0.17988901\n",
      "  0.0401772  0.06927089 0.06889967 0.09151334]\n",
      " [0.17387642 0.12806223 0.07609902 0.05813155 0.14637437 0.1385291\n",
      "  0.04603567 0.06756972 0.0741091  0.09121283]\n",
      " [0.12464342 0.11371189 0.07523806 0.04864425 0.21208704 0.13092365\n",
      "  0.0560375  0.06827025 0.05763284 0.11281109]\n",
      " [0.11941384 0.14309481 0.05087822 0.05210394 0.16761421 0.18237385\n",
      "  0.03701163 0.07423904 0.07665977 0.09661068]\n",
      " [0.15199178 0.12613322 0.07152659 0.04270034 0.1715695  0.15180135\n",
      "  0.04727652 0.07660707 0.05752798 0.10286566]]\n",
      "[[0. 0. 0. 0. 0. 1. 0. 0. 0. 0.]\n",
      " [1. 0. 0. 0. 0. 0. 0. 0. 0. 0.]\n",
      " [0. 0. 0. 0. 1. 0. 0. 0. 0. 0.]\n",
      " [0. 1. 0. 0. 0. 0. 0. 0. 0. 0.]\n",
      " [0. 0. 0. 0. 0. 0. 0. 0. 0. 1.]]\n",
      "Loss:  1.846832705811823\n"
     ]
    }
   ],
   "source": [
    "X = x_train_reshaped[:5]\n",
    "Y = y_train[:5]\n",
    "\n",
    "# train_step을 다섯 번 반복 돌립니다.\n",
    "for i in range(5):\n",
    "    W1, b1, W2, b2, _ = train_step(X, Y, W1, b1, W2, b2, learning_rate=0.1, verbose=True)"
   ]
  },
  {
   "cell_type": "markdown",
   "id": "photographic-grove",
   "metadata": {},
   "source": [
    "## # 추론 과정 구현과 정확도(Accuracy) 계산"
   ]
  },
  {
   "cell_type": "code",
   "execution_count": 69,
   "id": "agricultural-official",
   "metadata": {},
   "outputs": [],
   "source": [
    "# 예측값 주는 함수 만들기\n",
    "def predict(W1, b1, W2, b2, X):\n",
    "    a1 = np.dot(X, W1) + b1\n",
    "    z1 = sigmoid(a1)\n",
    "    a2 = np.dot(z1, W2) + b2\n",
    "    y = softmax(a2)\n",
    "\n",
    "    return y"
   ]
  },
  {
   "cell_type": "code",
   "execution_count": 70,
   "id": "thermal-mississippi",
   "metadata": {},
   "outputs": [
    {
     "data": {
      "text/plain": [
       "array([0.1392747 , 0.15961685, 0.05322276, 0.03992553, 0.15764413,\n",
       "       0.19465683, 0.03599955, 0.05981824, 0.05938411, 0.1004573 ])"
      ]
     },
     "execution_count": 70,
     "metadata": {},
     "output_type": "execute_result"
    }
   ],
   "source": [
    "# X = x_train[:100] 에 대해 모델 추론을 시도합니다. \n",
    "X = x_train_reshaped[:100]\n",
    "Y = y_test[:100]\n",
    "result = predict(W1, b1, W2, b2, X)\n",
    "result[0]"
   ]
  },
  {
   "cell_type": "code",
   "execution_count": 72,
   "id": "industrial-patrick",
   "metadata": {},
   "outputs": [],
   "source": [
    "def accuracy(W1, b1, W2, b2, x, y):\n",
    "    y_hat = predict(W1, b1, W2, b2, x) # 예측된 카테고리별 확률값\n",
    "    y_hat = np.argmax(y_hat, axis=1)   # 그 확률값 중 제일 높은 걸 라벨 정수로 반환\n",
    "\n",
    "    accuracy = np.sum(y_hat == y) / float(x.shape[0])  # 맞은 갯수만큼 다 더하고 전체 갯수로 나눈다.\n",
    "    return accuracy"
   ]
  },
  {
   "cell_type": "code",
   "execution_count": 73,
   "id": "czech-teach",
   "metadata": {},
   "outputs": [
    {
     "name": "stdout",
     "output_type": "stream",
     "text": [
      "[0.1392747  0.15961685 0.05322276 0.03992553 0.15764413 0.19465683\n",
      " 0.03599955 0.05981824 0.05938411 0.1004573 ]\n",
      "[0. 0. 0. 0. 0. 0. 0. 1. 0. 0.]\n",
      "0.11\n"
     ]
    }
   ],
   "source": [
    "acc = accuracy(W1, b1, W2, b2, X, Y)\n",
    "\n",
    "t = _change_one_hot_label(Y, 10)\n",
    "print(result[0])\n",
    "print(t[0])\n",
    "print(acc)"
   ]
  },
  {
   "cell_type": "markdown",
   "id": "decreased-location",
   "metadata": {},
   "source": [
    "> 5번의 학습으로는 아직 11%의 정확도임"
   ]
  },
  {
   "cell_type": "markdown",
   "id": "invalid-france",
   "metadata": {},
   "source": [
    "## # 전체 학습 사이클 수행"
   ]
  },
  {
   "cell_type": "code",
   "execution_count": 74,
   "id": "dangerous-mapping",
   "metadata": {},
   "outputs": [],
   "source": [
    "# 파라미터 초기화 함수\n",
    "def init_params(input_size, hidden_size, output_size, weight_init_std=0.01):\n",
    "\n",
    "    W1 = weight_init_std * np.random.randn(input_size, hidden_size)\n",
    "    b1 = np.zeros(hidden_size)\n",
    "    W2 = weight_init_std * np.random.randn(hidden_size, output_size)\n",
    "    b2 = np.zeros(output_size)\n",
    "\n",
    "    print(W1.shape)\n",
    "    print(b1.shape)\n",
    "    print(W2.shape)\n",
    "    print(b2.shape)\n",
    "    \n",
    "    return W1, b1, W2, b2"
   ]
  },
  {
   "cell_type": "markdown",
   "id": "german-grace",
   "metadata": {},
   "source": [
    "> 아래의 코드는 GPU를 사용하는 게 아니어서 오래 걸림"
   ]
  },
  {
   "cell_type": "code",
   "execution_count": 75,
   "id": "apart-lincoln",
   "metadata": {},
   "outputs": [
    {
     "name": "stdout",
     "output_type": "stream",
     "text": [
      "(784, 50)\n",
      "(50,)\n",
      "(50, 10)\n",
      "(10,)\n",
      "Loss:  2.300419832301038\n",
      "train acc, test acc | 0.11236666666666667, 0.1135\n",
      "Loss:  0.8619931104840401\n",
      "train acc, test acc | 0.7841833333333333, 0.7902\n",
      "Loss:  0.6244740794365812\n",
      "train acc, test acc | 0.8769333333333333, 0.8831\n",
      "Loss:  0.3061103958236115\n",
      "train acc, test acc | 0.8997833333333334, 0.9024\n",
      "Loss:  0.45359572322850705\n",
      "train acc, test acc | 0.9072, 0.9115\n",
      "Loss:  0.29885723332490416\n",
      "train acc, test acc | 0.9141833333333333, 0.9179\n",
      "Loss:  0.1926438164189583\n",
      "train acc, test acc | 0.9186833333333333, 0.9215\n",
      "Loss:  0.25909351867185315\n",
      "train acc, test acc | 0.9240833333333334, 0.9254\n",
      "Loss:  0.18691661079180688\n",
      "train acc, test acc | 0.9274666666666667, 0.9289\n",
      "Loss:  0.3719530897305575\n",
      "train acc, test acc | 0.9304166666666667, 0.9333\n",
      "Loss:  0.24926630635498248\n",
      "train acc, test acc | 0.9335666666666667, 0.9361\n",
      "Loss:  0.09826880750504101\n",
      "train acc, test acc | 0.9357666666666666, 0.9385\n",
      "Loss:  0.16780735238824762\n",
      "train acc, test acc | 0.9386333333333333, 0.9399\n",
      "Loss:  0.1921597435118945\n",
      "train acc, test acc | 0.9414333333333333, 0.9418\n",
      "Loss:  0.23117205506069333\n",
      "train acc, test acc | 0.9428666666666666, 0.9431\n",
      "Loss:  0.19465231200612002\n",
      "train acc, test acc | 0.94435, 0.9451\n",
      "Loss:  0.11791843310535134\n",
      "train acc, test acc | 0.946, 0.9458\n",
      "Loss:  0.16635012137859678\n",
      "train acc, test acc | 0.9479, 0.9466\n",
      "Loss:  0.16041400065248168\n",
      "train acc, test acc | 0.9493666666666667, 0.9486\n",
      "Loss:  0.12981209315228115\n",
      "train acc, test acc | 0.9510666666666666, 0.9486\n",
      "Loss:  0.14233603452928867\n",
      "train acc, test acc | 0.9524, 0.9497\n",
      "Loss:  0.20134555629484369\n",
      "train acc, test acc | 0.9536666666666667, 0.9509\n",
      "Loss:  0.07475115439184316\n",
      "train acc, test acc | 0.9545333333333333, 0.9507\n",
      "Loss:  0.15362920184939716\n",
      "train acc, test acc | 0.9554166666666667, 0.9522\n",
      "Loss:  0.15253073366616285\n",
      "train acc, test acc | 0.9567666666666667, 0.9534\n",
      "Loss:  0.1489041374293235\n",
      "train acc, test acc | 0.9576, 0.9536\n",
      "Loss:  0.1678254018067146\n",
      "train acc, test acc | 0.9585333333333333, 0.9557\n",
      "Loss:  0.14960002002678296\n",
      "train acc, test acc | 0.9594666666666667, 0.9556\n",
      "Loss:  0.19424049366054494\n",
      "train acc, test acc | 0.9606166666666667, 0.9562\n",
      "Loss:  0.11761300620178904\n",
      "train acc, test acc | 0.9610833333333333, 0.9572\n",
      "Loss:  0.12674322012412623\n",
      "train acc, test acc | 0.9623166666666667, 0.9584\n",
      "Loss:  0.1221370984755436\n",
      "train acc, test acc | 0.9633833333333334, 0.9588\n",
      "Loss:  0.15001570487529053\n",
      "train acc, test acc | 0.9634833333333334, 0.96\n",
      "Loss:  0.07965706549486487\n",
      "train acc, test acc | 0.9648333333333333, 0.9591\n",
      "Loss:  0.1319565834677753\n",
      "train acc, test acc | 0.9653333333333334, 0.9604\n",
      "Loss:  0.08469388379125992\n",
      "train acc, test acc | 0.96625, 0.9608\n",
      "Loss:  0.0805242724541601\n",
      "train acc, test acc | 0.9668166666666667, 0.9607\n",
      "Loss:  0.05347784447033976\n",
      "train acc, test acc | 0.9673, 0.9618\n",
      "Loss:  0.13755881271876103\n",
      "train acc, test acc | 0.96795, 0.9617\n",
      "Loss:  0.10811288568726038\n",
      "train acc, test acc | 0.96875, 0.9624\n",
      "Loss:  0.0892448475969162\n",
      "train acc, test acc | 0.9691833333333333, 0.963\n",
      "Loss:  0.0871650786474774\n",
      "train acc, test acc | 0.9698166666666667, 0.9623\n",
      "Loss:  0.09574703655188369\n",
      "train acc, test acc | 0.9702166666666666, 0.9637\n",
      "Loss:  0.0371341734345556\n",
      "train acc, test acc | 0.9705166666666667, 0.9643\n",
      "Loss:  0.06956687047564496\n",
      "train acc, test acc | 0.9711333333333333, 0.9641\n",
      "Loss:  0.11813492486863711\n",
      "train acc, test acc | 0.9720166666666666, 0.9638\n",
      "Loss:  0.09421978370789748\n",
      "train acc, test acc | 0.9723666666666667, 0.9647\n",
      "Loss:  0.123650005477456\n",
      "train acc, test acc | 0.9722666666666666, 0.9651\n",
      "Loss:  0.1147853252971995\n",
      "train acc, test acc | 0.9728666666666667, 0.9654\n",
      "Loss:  0.0534365867976124\n",
      "train acc, test acc | 0.9736666666666667, 0.9663\n",
      "Loss:  0.11324355547738396\n",
      "train acc, test acc | 0.9738166666666667, 0.9658\n",
      "Loss:  0.0531433984378257\n",
      "train acc, test acc | 0.9741666666666666, 0.9662\n",
      "Loss:  0.04920036924391554\n",
      "train acc, test acc | 0.9743333333333334, 0.9663\n",
      "Loss:  0.11508560657603115\n",
      "train acc, test acc | 0.9748833333333333, 0.9664\n",
      "Loss:  0.07513958132083083\n",
      "train acc, test acc | 0.9751, 0.9669\n",
      "Loss:  0.08528343349642543\n",
      "train acc, test acc | 0.9754333333333334, 0.9667\n",
      "Loss:  0.06035031503296032\n",
      "train acc, test acc | 0.9757666666666667, 0.9677\n",
      "Loss:  0.09119735696039705\n",
      "train acc, test acc | 0.9762666666666666, 0.9673\n",
      "Loss:  0.09363563293958559\n",
      "train acc, test acc | 0.9765666666666667, 0.967\n",
      "Loss:  0.03747909908395414\n",
      "train acc, test acc | 0.9769833333333333, 0.9672\n",
      "Loss:  0.08600794952357389\n",
      "train acc, test acc | 0.9773833333333334, 0.9677\n",
      "Loss:  0.08806961101433075\n",
      "train acc, test acc | 0.9774166666666667, 0.9678\n",
      "Loss:  0.08732579410236968\n",
      "train acc, test acc | 0.9775, 0.9674\n",
      "Loss:  0.054864630410916\n",
      "train acc, test acc | 0.9780666666666666, 0.9685\n",
      "Loss:  0.09970040767700623\n",
      "train acc, test acc | 0.9785333333333334, 0.9684\n",
      "Loss:  0.032986201607950315\n",
      "train acc, test acc | 0.97865, 0.9683\n",
      "Loss:  0.05997809644129282\n",
      "train acc, test acc | 0.9789666666666667, 0.9686\n",
      "Loss:  0.12212853966595492\n",
      "train acc, test acc | 0.9793333333333333, 0.9689\n",
      "Loss:  0.1034619311771385\n",
      "train acc, test acc | 0.9796, 0.9685\n",
      "Loss:  0.04580230378154648\n",
      "train acc, test acc | 0.9797333333333333, 0.9686\n",
      "Loss:  0.11040412378197129\n",
      "train acc, test acc | 0.9801833333333333, 0.9688\n",
      "Loss:  0.06641321960107534\n",
      "train acc, test acc | 0.9803666666666667, 0.9697\n",
      "Loss:  0.06007452629692558\n",
      "train acc, test acc | 0.9803666666666667, 0.969\n",
      "Loss:  0.03560412867644171\n",
      "train acc, test acc | 0.9808833333333333, 0.9693\n",
      "Loss:  0.04905824858602251\n",
      "train acc, test acc | 0.9811666666666666, 0.9691\n",
      "Loss:  0.07845227166107008\n",
      "train acc, test acc | 0.9814, 0.9698\n",
      "Loss:  0.04335230636652512\n",
      "train acc, test acc | 0.9815, 0.9691\n",
      "Loss:  0.09712798549021566\n",
      "train acc, test acc | 0.98185, 0.9697\n",
      "Loss:  0.12573619976740014\n",
      "train acc, test acc | 0.9819666666666667, 0.9696\n",
      "Loss:  0.056976165272687646\n",
      "train acc, test acc | 0.98205, 0.9701\n",
      "Loss:  0.057008449499508417\n",
      "train acc, test acc | 0.982, 0.9694\n",
      "Loss:  0.049299652477064485\n",
      "train acc, test acc | 0.9822666666666666, 0.97\n",
      "Loss:  0.130862978189369\n",
      "train acc, test acc | 0.9827166666666667, 0.9709\n",
      "Loss:  0.04565811470663159\n",
      "train acc, test acc | 0.9831333333333333, 0.9705\n"
     ]
    }
   ],
   "source": [
    "# 하이퍼파라미터\n",
    "iters_num = 50000  # 반복 횟수를 적절히 설정한다.\n",
    "train_size = x_train.shape[0]\n",
    "batch_size = 100   # 미니배치 크기\n",
    "learning_rate = 0.1\n",
    "\n",
    "train_loss_list = []\n",
    "train_acc_list = []\n",
    "test_acc_list = []\n",
    "\n",
    "# 1에폭당 반복 수\n",
    "iter_per_epoch = max(train_size / batch_size, 1)\n",
    "\n",
    "W1, b1, W2, b2 = init_params(784, 50, 10)\n",
    "\n",
    "for i in range(iters_num):\n",
    "    # 미니배치 획득\n",
    "    batch_mask = np.random.choice(train_size, batch_size) # DJ 추가 # np.arange(60000) 중에서 100개 뽑아내기\n",
    "    x_batch = x_train_reshaped[batch_mask] # DJ - (60000, 784)에서 (100,784), 즉 데이터(행)가 뽑힘\n",
    "    y_batch = y_train[batch_mask] # DJ - 동일함\n",
    "    \n",
    "    W1, b1, W2, b2, Loss = train_step(x_batch, y_batch, W1, b1, W2, b2, learning_rate=0.1, verbose=False) # DJ - 1 iteration\n",
    "\n",
    "    # 학습 경과 기록\n",
    "    train_loss_list.append(Loss)\n",
    "    \n",
    "    # 1에폭당 정확도 계산\n",
    "    if i % iter_per_epoch == 0:  # DJ - 50000번 반복되는데, 600번마다 기록을 남김\n",
    "        print('Loss: ', Loss)\n",
    "        train_acc = accuracy(W1, b1, W2, b2, x_train_reshaped, y_train)\n",
    "        test_acc = accuracy(W1, b1, W2, b2, x_test_reshaped, y_test)\n",
    "        train_acc_list.append(train_acc)\n",
    "        test_acc_list.append(test_acc)\n",
    "        print(\"train acc, test acc | \" + str(train_acc) + \", \" + str(test_acc))"
   ]
  },
  {
   "cell_type": "markdown",
   "id": "animal-nevada",
   "metadata": {},
   "source": [
    "> 위의 과정을 요약하면,  \n",
    "> - 60000개의 데이터에서  \n",
    "> - 미니배치로 100개씩 랜덤으로 뽑는데(중복 허용)\n",
    "> - 50000번을 학습해볼 거임  \n",
    "> - 근데 600번째마다 기록을 남길 것이다.\n",
    "> - 즉 랜덤으로 뽑힌 100개의 데이터로 50000번 학습을 돌려볼 것이다."
   ]
  },
  {
   "cell_type": "code",
   "execution_count": 93,
   "id": "bronze-violin",
   "metadata": {},
   "outputs": [
    {
     "data": {
      "image/png": "[encoded data removed]",
      "text/plain": [
       "<Figure size 864x432 with 1 Axes>"
      ]
     },
     "metadata": {
      "needs_background": "light"
     },
     "output_type": "display_data"
    }
   ],
   "source": [
    "from matplotlib.pylab import rcParams\n",
    "rcParams['figure.figsize'] = 12, 6 \n",
    "\n",
    "# Accuracy 그래프 그리기\n",
    "markers = {'train': 'o', 'test': 's'}\n",
    "x = np.arange(len(train_acc_list))\n",
    "plt.plot(x, train_acc_list, label='train acc')\n",
    "plt.plot(x, test_acc_list, label='test acc', linestyle='--')\n",
    "plt.xlabel(\"epochs\")\n",
    "plt.ylabel(\"accuracy\")\n",
    "plt.ylim(0, 1.0)\n",
    "plt.legend(loc='lower right')\n",
    "plt.show()"
   ]
  },
  {
   "cell_type": "code",
   "execution_count": 94,
   "id": "accomplished-michigan",
   "metadata": {},
   "outputs": [
    {
     "data": {
      "image/png": "[encoded data removed]",
      "text/plain": [
       "<Figure size 864x432 with 1 Axes>"
      ]
     },
     "metadata": {
      "needs_background": "light"
     },
     "output_type": "display_data"
    }
   ],
   "source": [
    "# Loss 그래프 그리기\n",
    "x = np.arange(len(train_loss_list))\n",
    "plt.plot(x, train_loss_list, label='train acc')\n",
    "plt.xlabel(\"epochs\")\n",
    "plt.ylabel(\"Loss\")\n",
    "plt.ylim(0, 3.0)\n",
    "plt.legend(loc='best')\n",
    "plt.show()"
   ]
  },
  {
   "cell_type": "markdown",
   "id": "adult-crown",
   "metadata": {},
   "source": [
    "> loss는 50000번의 학습 내내 리스트에 추가했고,  \n",
    "> accuracy는 600번째마다만 해서  \n",
    "> x축 값이 loss 그래프와 accuracy 그래프가 다르다"
   ]
  }
 ],
 "metadata": {
  "kernelspec": {
   "display_name": "Python 3",
   "language": "python",
   "name": "python3"
  },
  "language_info": {
   "codemirror_mode": {
    "name": "ipython",
    "version": 3
   },
   "file_extension": ".py",
   "mimetype": "text/x-python",
   "name": "python",
   "nbconvert_exporter": "python",
   "pygments_lexer": "ipython3",
   "version": "3.7.9"
  }
 },
 "nbformat": 4,
 "nbformat_minor": 5
}
