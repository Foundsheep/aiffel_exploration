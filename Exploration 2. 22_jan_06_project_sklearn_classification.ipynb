{
 "cells": [
  {
   "cell_type": "markdown",
   "id": "plastic-screw",
   "metadata": {},
   "source": [
    "## 2-11. 프로젝트 (1) load_digits : 손글씨를 분류해 봅시다\n"
   ]
  },
  {
   "cell_type": "markdown",
   "id": "sitting-strain",
   "metadata": {},
   "source": [
    "#### (1) 필요한 모듈 import하기\n"
   ]
  },
  {
   "cell_type": "code",
   "execution_count": 1,
   "id": "abstract-delight",
   "metadata": {},
   "outputs": [],
   "source": [
    "from sklearn.datasets import load_digits\n",
    "from sklearn.model_selection import train_test_split\n",
    "from sklearn.metrics import classification_report"
   ]
  },
  {
   "cell_type": "markdown",
   "id": "recovered-couple",
   "metadata": {},
   "source": [
    "#### (2) 데이터 준비\n"
   ]
  },
  {
   "cell_type": "code",
   "execution_count": 2,
   "id": "extraordinary-spouse",
   "metadata": {},
   "outputs": [
    {
     "data": {
      "text/plain": [
       "{'data': array([[ 0.,  0.,  5., ...,  0.,  0.,  0.],\n",
       "        [ 0.,  0.,  0., ..., 10.,  0.,  0.],\n",
       "        [ 0.,  0.,  0., ..., 16.,  9.,  0.],\n",
       "        ...,\n",
       "        [ 0.,  0.,  1., ...,  6.,  0.,  0.],\n",
       "        [ 0.,  0.,  2., ..., 12.,  0.,  0.],\n",
       "        [ 0.,  0., 10., ..., 12.,  1.,  0.]]),\n",
       " 'target': array([0, 1, 2, ..., 8, 9, 8]),\n",
       " 'frame': None,\n",
       " 'feature_names': ['pixel_0_0',\n",
       "  'pixel_0_1',\n",
       "  'pixel_0_2',\n",
       "  'pixel_0_3',\n",
       "  'pixel_0_4',\n",
       "  'pixel_0_5',\n",
       "  'pixel_0_6',\n",
       "  'pixel_0_7',\n",
       "  'pixel_1_0',\n",
       "  'pixel_1_1',\n",
       "  'pixel_1_2',\n",
       "  'pixel_1_3',\n",
       "  'pixel_1_4',\n",
       "  'pixel_1_5',\n",
       "  'pixel_1_6',\n",
       "  'pixel_1_7',\n",
       "  'pixel_2_0',\n",
       "  'pixel_2_1',\n",
       "  'pixel_2_2',\n",
       "  'pixel_2_3',\n",
       "  'pixel_2_4',\n",
       "  'pixel_2_5',\n",
       "  'pixel_2_6',\n",
       "  'pixel_2_7',\n",
       "  'pixel_3_0',\n",
       "  'pixel_3_1',\n",
       "  'pixel_3_2',\n",
       "  'pixel_3_3',\n",
       "  'pixel_3_4',\n",
       "  'pixel_3_5',\n",
       "  'pixel_3_6',\n",
       "  'pixel_3_7',\n",
       "  'pixel_4_0',\n",
       "  'pixel_4_1',\n",
       "  'pixel_4_2',\n",
       "  'pixel_4_3',\n",
       "  'pixel_4_4',\n",
       "  'pixel_4_5',\n",
       "  'pixel_4_6',\n",
       "  'pixel_4_7',\n",
       "  'pixel_5_0',\n",
       "  'pixel_5_1',\n",
       "  'pixel_5_2',\n",
       "  'pixel_5_3',\n",
       "  'pixel_5_4',\n",
       "  'pixel_5_5',\n",
       "  'pixel_5_6',\n",
       "  'pixel_5_7',\n",
       "  'pixel_6_0',\n",
       "  'pixel_6_1',\n",
       "  'pixel_6_2',\n",
       "  'pixel_6_3',\n",
       "  'pixel_6_4',\n",
       "  'pixel_6_5',\n",
       "  'pixel_6_6',\n",
       "  'pixel_6_7',\n",
       "  'pixel_7_0',\n",
       "  'pixel_7_1',\n",
       "  'pixel_7_2',\n",
       "  'pixel_7_3',\n",
       "  'pixel_7_4',\n",
       "  'pixel_7_5',\n",
       "  'pixel_7_6',\n",
       "  'pixel_7_7'],\n",
       " 'target_names': array([0, 1, 2, 3, 4, 5, 6, 7, 8, 9]),\n",
       " 'images': array([[[ 0.,  0.,  5., ...,  1.,  0.,  0.],\n",
       "         [ 0.,  0., 13., ..., 15.,  5.,  0.],\n",
       "         [ 0.,  3., 15., ..., 11.,  8.,  0.],\n",
       "         ...,\n",
       "         [ 0.,  4., 11., ..., 12.,  7.,  0.],\n",
       "         [ 0.,  2., 14., ..., 12.,  0.,  0.],\n",
       "         [ 0.,  0.,  6., ...,  0.,  0.,  0.]],\n",
       " \n",
       "        [[ 0.,  0.,  0., ...,  5.,  0.,  0.],\n",
       "         [ 0.,  0.,  0., ...,  9.,  0.,  0.],\n",
       "         [ 0.,  0.,  3., ...,  6.,  0.,  0.],\n",
       "         ...,\n",
       "         [ 0.,  0.,  1., ...,  6.,  0.,  0.],\n",
       "         [ 0.,  0.,  1., ...,  6.,  0.,  0.],\n",
       "         [ 0.,  0.,  0., ..., 10.,  0.,  0.]],\n",
       " \n",
       "        [[ 0.,  0.,  0., ..., 12.,  0.,  0.],\n",
       "         [ 0.,  0.,  3., ..., 14.,  0.,  0.],\n",
       "         [ 0.,  0.,  8., ..., 16.,  0.,  0.],\n",
       "         ...,\n",
       "         [ 0.,  9., 16., ...,  0.,  0.,  0.],\n",
       "         [ 0.,  3., 13., ..., 11.,  5.,  0.],\n",
       "         [ 0.,  0.,  0., ..., 16.,  9.,  0.]],\n",
       " \n",
       "        ...,\n",
       " \n",
       "        [[ 0.,  0.,  1., ...,  1.,  0.,  0.],\n",
       "         [ 0.,  0., 13., ...,  2.,  1.,  0.],\n",
       "         [ 0.,  0., 16., ..., 16.,  5.,  0.],\n",
       "         ...,\n",
       "         [ 0.,  0., 16., ..., 15.,  0.,  0.],\n",
       "         [ 0.,  0., 15., ..., 16.,  0.,  0.],\n",
       "         [ 0.,  0.,  2., ...,  6.,  0.,  0.]],\n",
       " \n",
       "        [[ 0.,  0.,  2., ...,  0.,  0.,  0.],\n",
       "         [ 0.,  0., 14., ..., 15.,  1.,  0.],\n",
       "         [ 0.,  4., 16., ..., 16.,  7.,  0.],\n",
       "         ...,\n",
       "         [ 0.,  0.,  0., ..., 16.,  2.,  0.],\n",
       "         [ 0.,  0.,  4., ..., 16.,  2.,  0.],\n",
       "         [ 0.,  0.,  5., ..., 12.,  0.,  0.]],\n",
       " \n",
       "        [[ 0.,  0., 10., ...,  1.,  0.,  0.],\n",
       "         [ 0.,  2., 16., ...,  1.,  0.,  0.],\n",
       "         [ 0.,  0., 15., ..., 15.,  0.,  0.],\n",
       "         ...,\n",
       "         [ 0.,  4., 16., ..., 16.,  6.,  0.],\n",
       "         [ 0.,  8., 16., ..., 16.,  8.,  0.],\n",
       "         [ 0.,  1.,  8., ..., 12.,  1.,  0.]]]),\n",
       " 'DESCR': \".. _digits_dataset:\\n\\nOptical recognition of handwritten digits dataset\\n--------------------------------------------------\\n\\n**Data Set Characteristics:**\\n\\n    :Number of Instances: 5620\\n    :Number of Attributes: 64\\n    :Attribute Information: 8x8 image of integer pixels in the range 0..16.\\n    :Missing Attribute Values: None\\n    :Creator: E. Alpaydin (alpaydin '@' boun.edu.tr)\\n    :Date: July; 1998\\n\\nThis is a copy of the test set of the UCI ML hand-written digits datasets\\nhttps://archive.ics.uci.edu/ml/datasets/Optical+Recognition+of+Handwritten+Digits\\n\\nThe data set contains images of hand-written digits: 10 classes where\\neach class refers to a digit.\\n\\nPreprocessing programs made available by NIST were used to extract\\nnormalized bitmaps of handwritten digits from a preprinted form. From a\\ntotal of 43 people, 30 contributed to the training set and different 13\\nto the test set. 32x32 bitmaps are divided into nonoverlapping blocks of\\n4x4 and the number of on pixels are counted in each block. This generates\\nan input matrix of 8x8 where each element is an integer in the range\\n0..16. This reduces dimensionality and gives invariance to small\\ndistortions.\\n\\nFor info on NIST preprocessing routines, see M. D. Garris, J. L. Blue, G.\\nT. Candela, D. L. Dimmick, J. Geist, P. J. Grother, S. A. Janet, and C.\\nL. Wilson, NIST Form-Based Handprint Recognition System, NISTIR 5469,\\n1994.\\n\\n.. topic:: References\\n\\n  - C. Kaynak (1995) Methods of Combining Multiple Classifiers and Their\\n    Applications to Handwritten Digit Recognition, MSc Thesis, Institute of\\n    Graduate Studies in Science and Engineering, Bogazici University.\\n  - E. Alpaydin, C. Kaynak (1998) Cascading Classifiers, Kybernetika.\\n  - Ken Tang and Ponnuthurai N. Suganthan and Xi Yao and A. Kai Qin.\\n    Linear dimensionalityreduction using relevance weighted LDA. School of\\n    Electrical and Electronic Engineering Nanyang Technological University.\\n    2005.\\n  - Claudio Gentile. A New Approximate Maximal Margin Classification\\n    Algorithm. NIPS. 2000.\"}"
      ]
     },
     "execution_count": 2,
     "metadata": {},
     "output_type": "execute_result"
    }
   ],
   "source": [
    "digits = load_digits()\n",
    "digits"
   ]
  },
  {
   "cell_type": "code",
   "execution_count": 3,
   "id": "destroyed-tomorrow",
   "metadata": {},
   "outputs": [
    {
     "data": {
      "text/plain": [
       "['DESCR', 'data', 'feature_names', 'frame', 'images', 'target', 'target_names']"
      ]
     },
     "execution_count": 3,
     "metadata": {},
     "output_type": "execute_result"
    }
   ],
   "source": [
    "dir(digits)"
   ]
  },
  {
   "cell_type": "markdown",
   "id": "metropolitan-harmony",
   "metadata": {},
   "source": [
    "#### (3) 데이터 이해하기\n",
    "- Feature Data 지정하기\n",
    "- Label Data 지정하기\n",
    "- Target Names 출력해 보기\n",
    "- 데이터 Describe 해 보기"
   ]
  },
  {
   "cell_type": "code",
   "execution_count": 14,
   "id": "commercial-franklin",
   "metadata": {},
   "outputs": [
    {
     "data": {
      "text/plain": [
       "array([[ 0.,  0.,  5., ...,  0.,  0.,  0.],\n",
       "       [ 0.,  0.,  0., ..., 10.,  0.,  0.],\n",
       "       [ 0.,  0.,  0., ..., 16.,  9.,  0.],\n",
       "       ...,\n",
       "       [ 0.,  0.,  1., ...,  6.,  0.,  0.],\n",
       "       [ 0.,  0.,  2., ..., 12.,  0.,  0.],\n",
       "       [ 0.,  0., 10., ..., 12.,  1.,  0.]])"
      ]
     },
     "execution_count": 14,
     "metadata": {},
     "output_type": "execute_result"
    }
   ],
   "source": [
    "# 데이터만 따로 저장\n",
    "digits_data = digits.data\n",
    "digits_data"
   ]
  },
  {
   "cell_type": "code",
   "execution_count": 15,
   "id": "acknowledged-addiction",
   "metadata": {},
   "outputs": [
    {
     "data": {
      "text/plain": [
       "(1797, 64)"
      ]
     },
     "execution_count": 15,
     "metadata": {},
     "output_type": "execute_result"
    }
   ],
   "source": [
    "# 데이터 shape 확인\n",
    "digits_data.shape"
   ]
  },
  {
   "cell_type": "code",
   "execution_count": 16,
   "id": "partial-devon",
   "metadata": {},
   "outputs": [
    {
     "data": {
      "text/plain": [
       "['pixel_0_0',\n",
       " 'pixel_0_1',\n",
       " 'pixel_0_2',\n",
       " 'pixel_0_3',\n",
       " 'pixel_0_4',\n",
       " 'pixel_0_5',\n",
       " 'pixel_0_6',\n",
       " 'pixel_0_7',\n",
       " 'pixel_1_0',\n",
       " 'pixel_1_1',\n",
       " 'pixel_1_2',\n",
       " 'pixel_1_3',\n",
       " 'pixel_1_4',\n",
       " 'pixel_1_5',\n",
       " 'pixel_1_6',\n",
       " 'pixel_1_7',\n",
       " 'pixel_2_0',\n",
       " 'pixel_2_1',\n",
       " 'pixel_2_2',\n",
       " 'pixel_2_3',\n",
       " 'pixel_2_4',\n",
       " 'pixel_2_5',\n",
       " 'pixel_2_6',\n",
       " 'pixel_2_7',\n",
       " 'pixel_3_0',\n",
       " 'pixel_3_1',\n",
       " 'pixel_3_2',\n",
       " 'pixel_3_3',\n",
       " 'pixel_3_4',\n",
       " 'pixel_3_5',\n",
       " 'pixel_3_6',\n",
       " 'pixel_3_7',\n",
       " 'pixel_4_0',\n",
       " 'pixel_4_1',\n",
       " 'pixel_4_2',\n",
       " 'pixel_4_3',\n",
       " 'pixel_4_4',\n",
       " 'pixel_4_5',\n",
       " 'pixel_4_6',\n",
       " 'pixel_4_7',\n",
       " 'pixel_5_0',\n",
       " 'pixel_5_1',\n",
       " 'pixel_5_2',\n",
       " 'pixel_5_3',\n",
       " 'pixel_5_4',\n",
       " 'pixel_5_5',\n",
       " 'pixel_5_6',\n",
       " 'pixel_5_7',\n",
       " 'pixel_6_0',\n",
       " 'pixel_6_1',\n",
       " 'pixel_6_2',\n",
       " 'pixel_6_3',\n",
       " 'pixel_6_4',\n",
       " 'pixel_6_5',\n",
       " 'pixel_6_6',\n",
       " 'pixel_6_7',\n",
       " 'pixel_7_0',\n",
       " 'pixel_7_1',\n",
       " 'pixel_7_2',\n",
       " 'pixel_7_3',\n",
       " 'pixel_7_4',\n",
       " 'pixel_7_5',\n",
       " 'pixel_7_6',\n",
       " 'pixel_7_7']"
      ]
     },
     "execution_count": 16,
     "metadata": {},
     "output_type": "execute_result"
    }
   ],
   "source": [
    "# 데이터 feature 이름 확인\n",
    "digits.feature_names"
   ]
  },
  {
   "cell_type": "code",
   "execution_count": 18,
   "id": "small-boost",
   "metadata": {},
   "outputs": [
    {
     "data": {
      "text/plain": [
       "array([0, 1, 2, 3, 4, 5, 6, 7, 8, 9])"
      ]
     },
     "execution_count": 18,
     "metadata": {},
     "output_type": "execute_result"
    }
   ],
   "source": [
    "# 라벨의 텍스트적 라벨 확인\n",
    "digits.target_names"
   ]
  },
  {
   "cell_type": "code",
   "execution_count": 21,
   "id": "individual-inspection",
   "metadata": {},
   "outputs": [
    {
     "name": "stdout",
     "output_type": "stream",
     "text": [
      "(1797,)\n"
     ]
    }
   ],
   "source": [
    "# 라벨 따로 할당\n",
    "digits_label = digits.target\n",
    "\n",
    "# 라벨 shape 확인\n",
    "print(digits_label.shape)"
   ]
  },
  {
   "cell_type": "code",
   "execution_count": 24,
   "id": "needed-disclaimer",
   "metadata": {},
   "outputs": [],
   "source": [
    "# 데이터를 보면\n",
    "# 1) 0~9까지의 숫자를 담은 이미지 데이터이고\n",
    "# 2) 이 이미지들의 실제 값은 target에 1차원 벡터로 저장되어 있다.\n",
    "# 3) 데이터 개수는 1791개, 이들의 feature는 64개이다.\n",
    "# 4) 그러나 feature 64개는 8*8 이미지를 flatten하게 놓은 것으로서 다른 의미는 없다."
   ]
  },
  {
   "cell_type": "markdown",
   "id": "perfect-ocean",
   "metadata": {},
   "source": [
    "#### (4) train, test 데이터 분리\n"
   ]
  },
  {
   "cell_type": "code",
   "execution_count": 26,
   "id": "surgical-plenty",
   "metadata": {},
   "outputs": [
    {
     "name": "stdout",
     "output_type": "stream",
     "text": [
      "X_train 개수는 1437\n",
      "y_train 개수는 1437\n",
      "X_test 개수는 360\n",
      "y_test 개수는 360\n"
     ]
    }
   ],
   "source": [
    "# 데이터셋 분리\n",
    "X_train, X_test, y_train, y_test = train_test_split(digits_data,\n",
    "                                                   digits_label,\n",
    "                                                   test_size=0.2,\n",
    "                                                   random_state=13)\n",
    "\n",
    "print(f\"X_train 개수는 {len(X_train)}\")\n",
    "print(f\"y_train 개수는 {len(y_train)}\")\n",
    "print(f\"X_test 개수는 {len(X_test)}\")\n",
    "print(f\"y_test 개수는 {len(y_test)}\")"
   ]
  },
  {
   "cell_type": "markdown",
   "id": "anticipated-indian",
   "metadata": {},
   "source": [
    "#### (5) 다양한 모델로 학습시켜보기\n"
   ]
  },
  {
   "cell_type": "code",
   "execution_count": 47,
   "id": "considerable-superintendent",
   "metadata": {},
   "outputs": [
    {
     "name": "stdout",
     "output_type": "stream",
     "text": [
      "classifier\n"
     ]
    },
    {
     "data": {
      "text/plain": [
       "array([9, 1, 4, 3, 3, 1, 4, 9, 5, 8, 8, 0, 2, 5, 0, 4, 4, 6, 4, 1, 1, 9,\n",
       "       6, 4, 4, 9, 5, 4, 3, 1, 5, 0, 9, 5, 1, 0, 0, 1, 8, 0, 1, 8, 2, 1,\n",
       "       0, 1, 9, 9, 4, 4, 3, 6, 1, 8, 0, 1, 6, 5, 5, 2, 5, 9, 1, 1, 3, 5,\n",
       "       3, 3, 7, 6, 5, 6, 3, 1, 7, 6, 4, 1, 6, 8, 5, 5, 9, 6, 2, 5, 0, 8,\n",
       "       9, 6, 1, 3, 0, 7, 7, 5, 5, 8, 6, 8, 4, 7, 2, 5, 6, 3, 7, 5, 8, 5,\n",
       "       5, 4, 9, 3, 3, 2, 7, 8, 9, 8, 6, 7, 7, 7, 5, 3, 1, 2, 8, 3, 5, 9,\n",
       "       9, 5, 2, 7, 6, 8, 0, 3, 6, 0, 5, 3, 9, 3, 7, 5, 6, 3, 6, 3, 2, 9,\n",
       "       1, 0, 6, 7, 2, 3, 0, 0, 4, 9, 5, 4, 9, 3, 4, 1, 5, 9, 7, 0, 2, 3,\n",
       "       8, 4, 7, 2, 5, 5, 4, 8, 2, 2, 0, 4, 8, 4, 0, 5, 3, 2, 9, 1, 8, 8,\n",
       "       1, 4, 5, 6, 5, 0, 1, 3, 6, 5, 2, 3, 4, 7, 0, 6, 0, 8, 7, 2, 9, 6,\n",
       "       2, 7, 3, 3, 9, 9, 5, 6, 6, 1, 6, 8, 6, 1, 2, 8, 3, 5, 2, 4, 0, 0,\n",
       "       7, 2, 9, 8, 6, 1, 6, 9, 5, 0, 1, 6, 3, 2, 3, 9, 5, 3, 1, 2, 6, 9,\n",
       "       4, 4, 8, 3, 3, 4, 1, 2, 6, 8, 9, 1, 4, 9, 4, 6, 1, 1, 2, 9, 2, 0,\n",
       "       8, 0, 3, 5, 5, 5, 2, 9, 2, 5, 9, 2, 7, 0, 6, 6, 7, 5, 2, 6, 1, 4,\n",
       "       4, 6, 2, 1, 2, 9, 4, 4, 3, 6, 0, 9, 8, 6, 4, 8, 5, 2, 9, 5, 3, 2,\n",
       "       8, 3, 7, 1, 6, 1, 7, 4, 4, 3, 2, 6, 1, 6, 8, 7, 9, 1, 2, 4, 7, 8,\n",
       "       6, 9, 8, 0, 4, 1, 8, 7])"
      ]
     },
     "execution_count": 47,
     "metadata": {},
     "output_type": "execute_result"
    }
   ],
   "source": [
    "# Decision Tree 사용\n",
    "from sklearn.tree import DecisionTreeClassifier\n",
    "\n",
    "dt_model = DecisionTreeClassifier()\n",
    "print(dt_model._estimator_type)\n",
    "\n",
    "# 학습\n",
    "dt_model.fit(X_train, y_train)\n",
    "\n",
    "# 예측\n",
    "dt_y_pred = dt_model.predict(X_test)\n",
    "dt_y_pred"
   ]
  },
  {
   "cell_type": "code",
   "execution_count": 48,
   "id": "eligible-chorus",
   "metadata": {},
   "outputs": [
    {
     "name": "stdout",
     "output_type": "stream",
     "text": [
      "classifier\n"
     ]
    },
    {
     "data": {
      "text/plain": [
       "array([9, 1, 1, 3, 1, 3, 4, 9, 5, 8, 8, 0, 2, 5, 0, 4, 4, 6, 4, 1, 1, 1,\n",
       "       6, 4, 4, 9, 5, 4, 3, 1, 5, 0, 9, 5, 1, 0, 0, 3, 8, 0, 1, 8, 2, 1,\n",
       "       0, 1, 9, 9, 4, 4, 3, 6, 7, 8, 0, 1, 6, 5, 5, 2, 5, 9, 1, 1, 3, 5,\n",
       "       3, 9, 7, 6, 5, 2, 3, 1, 7, 6, 1, 1, 6, 8, 5, 9, 9, 6, 2, 5, 0, 8,\n",
       "       9, 6, 1, 3, 0, 7, 7, 5, 5, 8, 6, 2, 4, 7, 2, 5, 6, 3, 7, 5, 3, 5,\n",
       "       5, 4, 9, 3, 3, 2, 7, 8, 9, 7, 2, 4, 7, 4, 5, 3, 2, 2, 8, 3, 5, 9,\n",
       "       9, 5, 2, 7, 6, 8, 9, 3, 6, 0, 5, 3, 9, 3, 7, 5, 6, 2, 4, 3, 2, 9,\n",
       "       4, 0, 6, 7, 2, 3, 0, 0, 4, 9, 5, 4, 1, 9, 4, 1, 5, 5, 7, 0, 2, 3,\n",
       "       8, 4, 7, 2, 5, 5, 4, 8, 2, 2, 0, 4, 8, 4, 0, 5, 3, 2, 9, 6, 8, 8,\n",
       "       1, 4, 5, 6, 5, 0, 1, 3, 6, 5, 2, 8, 0, 7, 0, 6, 0, 8, 7, 2, 8, 6,\n",
       "       2, 7, 3, 3, 9, 9, 5, 6, 6, 9, 6, 0, 6, 4, 2, 7, 3, 5, 2, 4, 0, 0,\n",
       "       7, 2, 3, 8, 6, 1, 6, 9, 5, 0, 1, 6, 3, 2, 3, 9, 5, 4, 1, 1, 6, 9,\n",
       "       4, 4, 8, 3, 3, 4, 1, 2, 6, 6, 9, 1, 4, 9, 4, 6, 1, 1, 2, 9, 2, 0,\n",
       "       8, 0, 1, 5, 5, 5, 2, 9, 8, 5, 9, 2, 7, 0, 6, 6, 7, 6, 2, 6, 1, 4,\n",
       "       4, 6, 2, 1, 2, 9, 4, 4, 3, 6, 0, 9, 8, 6, 4, 8, 5, 1, 3, 5, 3, 2,\n",
       "       8, 3, 7, 1, 6, 1, 7, 4, 4, 3, 2, 6, 1, 6, 8, 7, 9, 1, 2, 5, 7, 8,\n",
       "       6, 9, 8, 0, 4, 1, 8, 5])"
      ]
     },
     "execution_count": 48,
     "metadata": {},
     "output_type": "execute_result"
    }
   ],
   "source": [
    "# Random Forest 사용\n",
    "from sklearn.ensemble import RandomForestClassifier\n",
    "\n",
    "rf_model = RandomForestClassifier()\n",
    "print(rf_model._estimator_type)\n",
    "\n",
    "# 학습\n",
    "rf_model.fit(X_train, y_train)\n",
    "\n",
    "# 예측\n",
    "rf_y_pred = rf_model.predict(X_test)\n",
    "rf_y_pred"
   ]
  },
  {
   "cell_type": "code",
   "execution_count": 49,
   "id": "amended-vehicle",
   "metadata": {},
   "outputs": [
    {
     "name": "stdout",
     "output_type": "stream",
     "text": [
      "classifier\n"
     ]
    },
    {
     "data": {
      "text/plain": [
       "array([9, 1, 1, 3, 1, 3, 4, 9, 5, 8, 8, 0, 2, 5, 0, 4, 4, 6, 4, 1, 1, 1,\n",
       "       6, 4, 4, 9, 5, 4, 3, 1, 5, 0, 1, 5, 1, 0, 0, 3, 8, 0, 1, 8, 2, 1,\n",
       "       0, 1, 9, 9, 4, 4, 3, 6, 7, 8, 0, 1, 6, 5, 5, 2, 5, 9, 1, 1, 3, 5,\n",
       "       3, 9, 7, 6, 5, 2, 3, 1, 7, 6, 1, 1, 6, 8, 5, 9, 9, 6, 2, 5, 0, 8,\n",
       "       9, 6, 1, 3, 0, 7, 7, 5, 5, 8, 6, 2, 4, 7, 2, 5, 6, 3, 7, 5, 3, 5,\n",
       "       5, 4, 9, 3, 3, 2, 7, 8, 9, 8, 2, 4, 7, 4, 5, 3, 2, 2, 8, 3, 5, 9,\n",
       "       9, 5, 2, 7, 6, 8, 9, 3, 6, 0, 5, 3, 9, 3, 7, 5, 6, 2, 4, 3, 2, 9,\n",
       "       4, 0, 6, 7, 2, 3, 0, 0, 4, 9, 5, 4, 1, 9, 4, 1, 5, 5, 7, 0, 2, 3,\n",
       "       8, 4, 7, 2, 5, 5, 4, 8, 2, 2, 0, 4, 8, 4, 0, 5, 3, 2, 9, 6, 8, 8,\n",
       "       1, 4, 5, 6, 5, 0, 1, 3, 6, 5, 2, 8, 0, 7, 0, 6, 0, 8, 7, 2, 2, 6,\n",
       "       2, 7, 3, 3, 9, 9, 5, 6, 6, 9, 6, 0, 6, 4, 2, 7, 3, 5, 2, 4, 0, 0,\n",
       "       7, 2, 3, 8, 6, 1, 6, 9, 5, 0, 1, 6, 3, 2, 3, 9, 5, 8, 1, 1, 6, 9,\n",
       "       4, 4, 8, 3, 3, 4, 1, 2, 6, 6, 9, 1, 4, 9, 4, 6, 1, 1, 2, 9, 2, 0,\n",
       "       8, 0, 1, 5, 5, 5, 2, 9, 8, 5, 9, 2, 7, 0, 6, 6, 7, 6, 2, 6, 1, 4,\n",
       "       4, 6, 2, 1, 2, 9, 4, 4, 3, 6, 0, 9, 8, 6, 4, 8, 5, 1, 3, 5, 3, 2,\n",
       "       8, 3, 7, 1, 6, 1, 7, 4, 4, 3, 2, 6, 1, 6, 8, 7, 9, 1, 2, 5, 7, 8,\n",
       "       6, 9, 8, 0, 4, 1, 8, 5])"
      ]
     },
     "execution_count": 49,
     "metadata": {},
     "output_type": "execute_result"
    }
   ],
   "source": [
    "# SVM 사용\n",
    "from sklearn import svm\n",
    "\n",
    "svm_model = svm.SVC()\n",
    "print(svm_model._estimator_type)\n",
    "\n",
    "# 학습\n",
    "svm_model.fit(X_train, y_train)\n",
    "\n",
    "# 예측\n",
    "svm_y_pred = svm_model.predict(X_test)\n",
    "svm_y_pred"
   ]
  },
  {
   "cell_type": "code",
   "execution_count": 50,
   "id": "relative-investing",
   "metadata": {},
   "outputs": [
    {
     "name": "stdout",
     "output_type": "stream",
     "text": [
      "classifier\n"
     ]
    },
    {
     "data": {
      "text/plain": [
       "array([9, 1, 4, 3, 1, 3, 4, 9, 5, 8, 8, 0, 2, 5, 0, 4, 4, 6, 4, 1, 1, 1,\n",
       "       6, 4, 4, 9, 5, 4, 5, 1, 5, 0, 9, 5, 1, 0, 0, 7, 8, 0, 1, 8, 2, 1,\n",
       "       0, 1, 9, 9, 4, 4, 3, 6, 7, 8, 0, 1, 6, 5, 5, 2, 5, 9, 1, 1, 3, 5,\n",
       "       3, 9, 7, 6, 5, 2, 3, 1, 7, 6, 1, 1, 6, 8, 5, 9, 9, 6, 2, 5, 0, 8,\n",
       "       9, 6, 1, 3, 0, 7, 7, 5, 5, 8, 6, 2, 4, 7, 2, 5, 6, 3, 7, 5, 3, 5,\n",
       "       5, 4, 9, 3, 3, 2, 7, 1, 9, 7, 2, 4, 7, 4, 5, 3, 2, 2, 1, 3, 5, 9,\n",
       "       9, 5, 2, 7, 6, 8, 9, 3, 6, 0, 5, 5, 9, 3, 7, 5, 6, 2, 4, 8, 2, 9,\n",
       "       4, 0, 6, 7, 2, 3, 0, 0, 4, 9, 5, 4, 1, 9, 4, 1, 5, 5, 7, 0, 2, 9,\n",
       "       8, 4, 7, 2, 5, 5, 4, 8, 2, 2, 0, 4, 8, 4, 0, 5, 3, 2, 9, 6, 8, 8,\n",
       "       1, 4, 5, 6, 5, 0, 1, 3, 6, 5, 2, 8, 0, 7, 0, 6, 0, 8, 7, 2, 8, 6,\n",
       "       2, 7, 3, 3, 9, 9, 5, 6, 6, 9, 6, 0, 6, 4, 2, 7, 3, 1, 2, 4, 0, 0,\n",
       "       7, 2, 3, 8, 6, 1, 6, 9, 5, 0, 1, 6, 3, 2, 3, 9, 5, 4, 1, 1, 6, 9,\n",
       "       4, 4, 8, 3, 3, 4, 1, 2, 6, 6, 9, 1, 4, 9, 4, 6, 1, 1, 2, 9, 2, 0,\n",
       "       8, 0, 1, 5, 5, 5, 2, 9, 8, 5, 9, 2, 7, 0, 6, 6, 7, 6, 2, 6, 1, 4,\n",
       "       4, 6, 2, 1, 2, 9, 4, 4, 3, 6, 0, 9, 8, 6, 4, 8, 5, 1, 3, 5, 3, 2,\n",
       "       8, 3, 7, 1, 6, 1, 7, 4, 4, 3, 2, 6, 1, 6, 8, 7, 9, 1, 2, 5, 7, 8,\n",
       "       6, 9, 8, 0, 4, 1, 8, 5])"
      ]
     },
     "execution_count": 50,
     "metadata": {},
     "output_type": "execute_result"
    }
   ],
   "source": [
    "# SGDClassifier 사용\n",
    "from sklearn.linear_model import SGDClassifier\n",
    "\n",
    "SGDC_model = SGDClassifier()\n",
    "print(SGDC_model._estimator_type)\n",
    "\n",
    "# 학습\n",
    "SGDC_model.fit(X_train, y_train)\n",
    "\n",
    "# 예측\n",
    "SGDC_y_pred = SGDC_model.predict(X_test)\n",
    "SGDC_y_pred"
   ]
  },
  {
   "cell_type": "code",
   "execution_count": 51,
   "id": "artistic-jungle",
   "metadata": {},
   "outputs": [
    {
     "name": "stdout",
     "output_type": "stream",
     "text": [
      "classifier\n"
     ]
    },
    {
     "name": "stderr",
     "output_type": "stream",
     "text": [
      "/opt/conda/lib/python3.7/site-packages/sklearn/linear_model/_logistic.py:762: ConvergenceWarning: lbfgs failed to converge (status=1):\n",
      "STOP: TOTAL NO. of ITERATIONS REACHED LIMIT.\n",
      "\n",
      "Increase the number of iterations (max_iter) or scale the data as shown in:\n",
      "    https://scikit-learn.org/stable/modules/preprocessing.html\n",
      "Please also refer to the documentation for alternative solver options:\n",
      "    https://scikit-learn.org/stable/modules/linear_model.html#logistic-regression\n",
      "  extra_warning_msg=_LOGISTIC_SOLVER_CONVERGENCE_MSG)\n"
     ]
    },
    {
     "data": {
      "text/plain": [
       "array([9, 1, 4, 3, 7, 3, 4, 9, 5, 8, 8, 0, 2, 5, 0, 4, 4, 6, 4, 1, 1, 1,\n",
       "       6, 4, 4, 9, 5, 4, 9, 1, 5, 0, 9, 5, 1, 0, 0, 3, 8, 0, 1, 8, 2, 1,\n",
       "       0, 1, 9, 9, 4, 4, 3, 6, 7, 8, 0, 1, 6, 5, 5, 2, 5, 9, 1, 1, 3, 5,\n",
       "       3, 9, 7, 6, 5, 2, 3, 1, 7, 6, 1, 1, 6, 9, 5, 9, 9, 6, 2, 3, 0, 8,\n",
       "       9, 6, 1, 3, 0, 9, 7, 5, 5, 8, 6, 2, 4, 7, 2, 5, 6, 3, 7, 5, 3, 5,\n",
       "       5, 4, 9, 3, 3, 2, 7, 8, 9, 8, 2, 4, 7, 4, 5, 3, 2, 2, 1, 3, 5, 9,\n",
       "       9, 5, 2, 7, 6, 8, 9, 3, 6, 0, 5, 3, 9, 3, 7, 5, 6, 2, 4, 3, 2, 9,\n",
       "       4, 0, 6, 7, 2, 3, 0, 0, 4, 9, 5, 4, 1, 9, 4, 9, 5, 5, 7, 0, 2, 9,\n",
       "       8, 4, 7, 2, 5, 5, 4, 8, 2, 1, 0, 4, 8, 4, 0, 5, 3, 2, 9, 6, 8, 8,\n",
       "       1, 4, 5, 6, 5, 0, 1, 3, 6, 5, 2, 8, 0, 7, 0, 6, 0, 8, 7, 2, 8, 6,\n",
       "       1, 7, 3, 3, 9, 9, 5, 6, 6, 5, 6, 0, 6, 4, 2, 7, 3, 5, 2, 4, 0, 0,\n",
       "       7, 2, 3, 8, 6, 1, 6, 9, 5, 0, 1, 6, 3, 2, 3, 9, 5, 4, 1, 1, 6, 9,\n",
       "       4, 4, 8, 3, 3, 4, 1, 2, 6, 1, 9, 1, 4, 9, 4, 6, 1, 1, 2, 9, 2, 0,\n",
       "       8, 0, 1, 5, 5, 5, 2, 9, 8, 5, 9, 2, 7, 0, 6, 6, 7, 6, 2, 6, 1, 4,\n",
       "       4, 6, 2, 1, 2, 9, 4, 4, 3, 6, 0, 9, 8, 6, 4, 8, 5, 1, 3, 5, 3, 2,\n",
       "       8, 3, 7, 1, 6, 1, 7, 4, 4, 3, 2, 6, 1, 6, 8, 7, 9, 1, 2, 5, 7, 8,\n",
       "       6, 9, 8, 0, 4, 1, 8, 5])"
      ]
     },
     "execution_count": 51,
     "metadata": {},
     "output_type": "execute_result"
    }
   ],
   "source": [
    "# Logistic Regression 사용\n",
    "from sklearn.linear_model import LogisticRegression\n",
    "\n",
    "lr_model = LogisticRegression()\n",
    "print(lr_model._estimator_type)\n",
    "\n",
    "# 학습\n",
    "lr_model.fit(X_train, y_train)\n",
    "\n",
    "# 예측\n",
    "lr_y_pred = lr_model.predict(X_test)\n",
    "lr_y_pred"
   ]
  },
  {
   "cell_type": "markdown",
   "id": "amber-conversion",
   "metadata": {},
   "source": [
    "#### (6) 모델을 평가해 보기\n",
    "- 평가지표 선택 및 이유 설명"
   ]
  },
  {
   "cell_type": "code",
   "execution_count": 41,
   "id": "descending-highlight",
   "metadata": {},
   "outputs": [
    {
     "name": "stdout",
     "output_type": "stream",
     "text": [
      "y_train\n",
      "(array([0, 1, 2, 3, 4, 5, 6, 7, 8, 9]), array([148, 145, 139, 146, 143, 137, 139, 153, 140, 147]))\n",
      "=======================\n",
      "y_test\n",
      "(array([0, 1, 2, 3, 4, 5, 6, 7, 8, 9]), array([30, 37, 38, 37, 38, 45, 42, 26, 34, 33]))\n"
     ]
    }
   ],
   "source": [
    "# 우선 데이터 불균형을 파악하기 위해 y_train, y_test 값을 봐보자면\n",
    "\n",
    "import numpy as np\n",
    "print('y_train')\n",
    "print(np.unique(y_train, return_counts=True))\n",
    "print(\"=======================\")\n",
    "print('y_test')\n",
    "print(np.unique(y_test, return_counts=True))\n",
    "\n",
    "# 골고루 섞여있음"
   ]
  },
  {
   "cell_type": "markdown",
   "id": "eleven-necklace",
   "metadata": {},
   "source": [
    "#### 결론\n",
    "- 선택한 평가지표 : accuracy\n",
    "- 이유 : 데이터가 골고루 되어 있기에 데이터 전체 갯수에 대한 예측률을 알려주는 accuracy도 모델의 성능을 잘 보여줄 수 있다고 생각"
   ]
  },
  {
   "cell_type": "code",
   "execution_count": 55,
   "id": "improving-meditation",
   "metadata": {},
   "outputs": [
    {
     "name": "stdout",
     "output_type": "stream",
     "text": [
      "Decision Tree\n",
      "Accuracy : 0.8722222222222222\n",
      "==================================================\n",
      "Random Forest\n",
      "Accuracy : 0.9777777777777777\n",
      "==================================================\n",
      "SVM\n",
      "Accuracy : 0.9833333333333333\n",
      "==================================================\n",
      "SGD Classifier\n",
      "Accuracy : 0.9527777777777777\n",
      "==================================================\n",
      "Logistic Regression\n",
      "Accuracy : 0.9472222222222222\n",
      "==================================================\n"
     ]
    }
   ],
   "source": [
    "# 모델별 평가하기\n",
    "from sklearn.metrics import accuracy_score\n",
    "\n",
    "print(\"Decision Tree\")\n",
    "print('Accuracy :', accuracy_score(y_test, dt_y_pred))\n",
    "print(\"==================================================\")\n",
    "print(\"Random Forest\")\n",
    "print('Accuracy :', accuracy_score(y_test, rf_y_pred))\n",
    "print(\"==================================================\")\n",
    "print(\"SVM\")\n",
    "print('Accuracy :', accuracy_score(y_test, svm_y_pred))\n",
    "print(\"==================================================\")\n",
    "print(\"SGD Classifier\")\n",
    "print('Accuracy :', accuracy_score(y_test, SGDC_y_pred))\n",
    "print(\"==================================================\")\n",
    "print(\"Logistic Regression\")\n",
    "print('Accuracy :', accuracy_score(y_test, lr_y_pred))\n",
    "print(\"==================================================\")"
   ]
  },
  {
   "cell_type": "markdown",
   "id": "blank-history",
   "metadata": {},
   "source": [
    "## 2-12. 프로젝트 (2) load_wine : 와인을 분류해 봅시다\n"
   ]
  },
  {
   "cell_type": "markdown",
   "id": "direct-rebecca",
   "metadata": {},
   "source": [
    "#### (1) 필요한 모듈 import하기\n"
   ]
  },
  {
   "cell_type": "code",
   "execution_count": 56,
   "id": "incident-botswana",
   "metadata": {},
   "outputs": [],
   "source": [
    "from sklearn.datasets import load_wine\n",
    "from sklearn.model_selection import train_test_split\n",
    "from sklearn.metrics import classification_report\n"
   ]
  },
  {
   "cell_type": "markdown",
   "id": "eastern-joyce",
   "metadata": {},
   "source": [
    "#### (2) 데이터 준비\n"
   ]
  },
  {
   "cell_type": "code",
   "execution_count": 57,
   "id": "responsible-gilbert",
   "metadata": {},
   "outputs": [
    {
     "data": {
      "text/plain": [
       "{'data': array([[1.423e+01, 1.710e+00, 2.430e+00, ..., 1.040e+00, 3.920e+00,\n",
       "         1.065e+03],\n",
       "        [1.320e+01, 1.780e+00, 2.140e+00, ..., 1.050e+00, 3.400e+00,\n",
       "         1.050e+03],\n",
       "        [1.316e+01, 2.360e+00, 2.670e+00, ..., 1.030e+00, 3.170e+00,\n",
       "         1.185e+03],\n",
       "        ...,\n",
       "        [1.327e+01, 4.280e+00, 2.260e+00, ..., 5.900e-01, 1.560e+00,\n",
       "         8.350e+02],\n",
       "        [1.317e+01, 2.590e+00, 2.370e+00, ..., 6.000e-01, 1.620e+00,\n",
       "         8.400e+02],\n",
       "        [1.413e+01, 4.100e+00, 2.740e+00, ..., 6.100e-01, 1.600e+00,\n",
       "         5.600e+02]]),\n",
       " 'target': array([0, 0, 0, 0, 0, 0, 0, 0, 0, 0, 0, 0, 0, 0, 0, 0, 0, 0, 0, 0, 0, 0,\n",
       "        0, 0, 0, 0, 0, 0, 0, 0, 0, 0, 0, 0, 0, 0, 0, 0, 0, 0, 0, 0, 0, 0,\n",
       "        0, 0, 0, 0, 0, 0, 0, 0, 0, 0, 0, 0, 0, 0, 0, 1, 1, 1, 1, 1, 1, 1,\n",
       "        1, 1, 1, 1, 1, 1, 1, 1, 1, 1, 1, 1, 1, 1, 1, 1, 1, 1, 1, 1, 1, 1,\n",
       "        1, 1, 1, 1, 1, 1, 1, 1, 1, 1, 1, 1, 1, 1, 1, 1, 1, 1, 1, 1, 1, 1,\n",
       "        1, 1, 1, 1, 1, 1, 1, 1, 1, 1, 1, 1, 1, 1, 1, 1, 1, 1, 1, 1, 2, 2,\n",
       "        2, 2, 2, 2, 2, 2, 2, 2, 2, 2, 2, 2, 2, 2, 2, 2, 2, 2, 2, 2, 2, 2,\n",
       "        2, 2, 2, 2, 2, 2, 2, 2, 2, 2, 2, 2, 2, 2, 2, 2, 2, 2, 2, 2, 2, 2,\n",
       "        2, 2]),\n",
       " 'frame': None,\n",
       " 'target_names': array(['class_0', 'class_1', 'class_2'], dtype='<U7'),\n",
       " 'DESCR': '.. _wine_dataset:\\n\\nWine recognition dataset\\n------------------------\\n\\n**Data Set Characteristics:**\\n\\n    :Number of Instances: 178 (50 in each of three classes)\\n    :Number of Attributes: 13 numeric, predictive attributes and the class\\n    :Attribute Information:\\n \\t\\t- Alcohol\\n \\t\\t- Malic acid\\n \\t\\t- Ash\\n\\t\\t- Alcalinity of ash  \\n \\t\\t- Magnesium\\n\\t\\t- Total phenols\\n \\t\\t- Flavanoids\\n \\t\\t- Nonflavanoid phenols\\n \\t\\t- Proanthocyanins\\n\\t\\t- Color intensity\\n \\t\\t- Hue\\n \\t\\t- OD280/OD315 of diluted wines\\n \\t\\t- Proline\\n\\n    - class:\\n            - class_0\\n            - class_1\\n            - class_2\\n\\t\\t\\n    :Summary Statistics:\\n    \\n    ============================= ==== ===== ======= =====\\n                                   Min   Max   Mean     SD\\n    ============================= ==== ===== ======= =====\\n    Alcohol:                      11.0  14.8    13.0   0.8\\n    Malic Acid:                   0.74  5.80    2.34  1.12\\n    Ash:                          1.36  3.23    2.36  0.27\\n    Alcalinity of Ash:            10.6  30.0    19.5   3.3\\n    Magnesium:                    70.0 162.0    99.7  14.3\\n    Total Phenols:                0.98  3.88    2.29  0.63\\n    Flavanoids:                   0.34  5.08    2.03  1.00\\n    Nonflavanoid Phenols:         0.13  0.66    0.36  0.12\\n    Proanthocyanins:              0.41  3.58    1.59  0.57\\n    Colour Intensity:              1.3  13.0     5.1   2.3\\n    Hue:                          0.48  1.71    0.96  0.23\\n    OD280/OD315 of diluted wines: 1.27  4.00    2.61  0.71\\n    Proline:                       278  1680     746   315\\n    ============================= ==== ===== ======= =====\\n\\n    :Missing Attribute Values: None\\n    :Class Distribution: class_0 (59), class_1 (71), class_2 (48)\\n    :Creator: R.A. Fisher\\n    :Donor: Michael Marshall (MARSHALL%PLU@io.arc.nasa.gov)\\n    :Date: July, 1988\\n\\nThis is a copy of UCI ML Wine recognition datasets.\\nhttps://archive.ics.uci.edu/ml/machine-learning-databases/wine/wine.data\\n\\nThe data is the results of a chemical analysis of wines grown in the same\\nregion in Italy by three different cultivators. There are thirteen different\\nmeasurements taken for different constituents found in the three types of\\nwine.\\n\\nOriginal Owners: \\n\\nForina, M. et al, PARVUS - \\nAn Extendible Package for Data Exploration, Classification and Correlation. \\nInstitute of Pharmaceutical and Food Analysis and Technologies,\\nVia Brigata Salerno, 16147 Genoa, Italy.\\n\\nCitation:\\n\\nLichman, M. (2013). UCI Machine Learning Repository\\n[https://archive.ics.uci.edu/ml]. Irvine, CA: University of California,\\nSchool of Information and Computer Science. \\n\\n.. topic:: References\\n\\n  (1) S. Aeberhard, D. Coomans and O. de Vel, \\n  Comparison of Classifiers in High Dimensional Settings, \\n  Tech. Rep. no. 92-02, (1992), Dept. of Computer Science and Dept. of  \\n  Mathematics and Statistics, James Cook University of North Queensland. \\n  (Also submitted to Technometrics). \\n\\n  The data was used with many others for comparing various \\n  classifiers. The classes are separable, though only RDA \\n  has achieved 100% correct classification. \\n  (RDA : 100%, QDA 99.4%, LDA 98.9%, 1NN 96.1% (z-transformed data)) \\n  (All results using the leave-one-out technique) \\n\\n  (2) S. Aeberhard, D. Coomans and O. de Vel, \\n  \"THE CLASSIFICATION PERFORMANCE OF RDA\" \\n  Tech. Rep. no. 92-01, (1992), Dept. of Computer Science and Dept. of \\n  Mathematics and Statistics, James Cook University of North Queensland. \\n  (Also submitted to Journal of Chemometrics).\\n',\n",
       " 'feature_names': ['alcohol',\n",
       "  'malic_acid',\n",
       "  'ash',\n",
       "  'alcalinity_of_ash',\n",
       "  'magnesium',\n",
       "  'total_phenols',\n",
       "  'flavanoids',\n",
       "  'nonflavanoid_phenols',\n",
       "  'proanthocyanins',\n",
       "  'color_intensity',\n",
       "  'hue',\n",
       "  'od280/od315_of_diluted_wines',\n",
       "  'proline']}"
      ]
     },
     "execution_count": 57,
     "metadata": {},
     "output_type": "execute_result"
    }
   ],
   "source": [
    "wine = load_wine()\n",
    "wine"
   ]
  },
  {
   "cell_type": "markdown",
   "id": "wrong-sitting",
   "metadata": {},
   "source": [
    "#### (3) 데이터 이해하기\n"
   ]
  },
  {
   "cell_type": "code",
   "execution_count": 58,
   "id": "wireless-assignment",
   "metadata": {},
   "outputs": [
    {
     "data": {
      "text/plain": [
       "dict_keys(['data', 'target', 'frame', 'target_names', 'DESCR', 'feature_names'])"
      ]
     },
     "execution_count": 58,
     "metadata": {},
     "output_type": "execute_result"
    }
   ],
   "source": [
    "wine.keys()"
   ]
  },
  {
   "cell_type": "code",
   "execution_count": 59,
   "id": "excellent-developer",
   "metadata": {},
   "outputs": [
    {
     "name": "stdout",
     "output_type": "stream",
     "text": [
      ".. _wine_dataset:\n",
      "\n",
      "Wine recognition dataset\n",
      "------------------------\n",
      "\n",
      "**Data Set Characteristics:**\n",
      "\n",
      "    :Number of Instances: 178 (50 in each of three classes)\n",
      "    :Number of Attributes: 13 numeric, predictive attributes and the class\n",
      "    :Attribute Information:\n",
      " \t\t- Alcohol\n",
      " \t\t- Malic acid\n",
      " \t\t- Ash\n",
      "\t\t- Alcalinity of ash  \n",
      " \t\t- Magnesium\n",
      "\t\t- Total phenols\n",
      " \t\t- Flavanoids\n",
      " \t\t- Nonflavanoid phenols\n",
      " \t\t- Proanthocyanins\n",
      "\t\t- Color intensity\n",
      " \t\t- Hue\n",
      " \t\t- OD280/OD315 of diluted wines\n",
      " \t\t- Proline\n",
      "\n",
      "    - class:\n",
      "            - class_0\n",
      "            - class_1\n",
      "            - class_2\n",
      "\t\t\n",
      "    :Summary Statistics:\n",
      "    \n",
      "    ============================= ==== ===== ======= =====\n",
      "                                   Min   Max   Mean     SD\n",
      "    ============================= ==== ===== ======= =====\n",
      "    Alcohol:                      11.0  14.8    13.0   0.8\n",
      "    Malic Acid:                   0.74  5.80    2.34  1.12\n",
      "    Ash:                          1.36  3.23    2.36  0.27\n",
      "    Alcalinity of Ash:            10.6  30.0    19.5   3.3\n",
      "    Magnesium:                    70.0 162.0    99.7  14.3\n",
      "    Total Phenols:                0.98  3.88    2.29  0.63\n",
      "    Flavanoids:                   0.34  5.08    2.03  1.00\n",
      "    Nonflavanoid Phenols:         0.13  0.66    0.36  0.12\n",
      "    Proanthocyanins:              0.41  3.58    1.59  0.57\n",
      "    Colour Intensity:              1.3  13.0     5.1   2.3\n",
      "    Hue:                          0.48  1.71    0.96  0.23\n",
      "    OD280/OD315 of diluted wines: 1.27  4.00    2.61  0.71\n",
      "    Proline:                       278  1680     746   315\n",
      "    ============================= ==== ===== ======= =====\n",
      "\n",
      "    :Missing Attribute Values: None\n",
      "    :Class Distribution: class_0 (59), class_1 (71), class_2 (48)\n",
      "    :Creator: R.A. Fisher\n",
      "    :Donor: Michael Marshall (MARSHALL%PLU@io.arc.nasa.gov)\n",
      "    :Date: July, 1988\n",
      "\n",
      "This is a copy of UCI ML Wine recognition datasets.\n",
      "https://archive.ics.uci.edu/ml/machine-learning-databases/wine/wine.data\n",
      "\n",
      "The data is the results of a chemical analysis of wines grown in the same\n",
      "region in Italy by three different cultivators. There are thirteen different\n",
      "measurements taken for different constituents found in the three types of\n",
      "wine.\n",
      "\n",
      "Original Owners: \n",
      "\n",
      "Forina, M. et al, PARVUS - \n",
      "An Extendible Package for Data Exploration, Classification and Correlation. \n",
      "Institute of Pharmaceutical and Food Analysis and Technologies,\n",
      "Via Brigata Salerno, 16147 Genoa, Italy.\n",
      "\n",
      "Citation:\n",
      "\n",
      "Lichman, M. (2013). UCI Machine Learning Repository\n",
      "[https://archive.ics.uci.edu/ml]. Irvine, CA: University of California,\n",
      "School of Information and Computer Science. \n",
      "\n",
      ".. topic:: References\n",
      "\n",
      "  (1) S. Aeberhard, D. Coomans and O. de Vel, \n",
      "  Comparison of Classifiers in High Dimensional Settings, \n",
      "  Tech. Rep. no. 92-02, (1992), Dept. of Computer Science and Dept. of  \n",
      "  Mathematics and Statistics, James Cook University of North Queensland. \n",
      "  (Also submitted to Technometrics). \n",
      "\n",
      "  The data was used with many others for comparing various \n",
      "  classifiers. The classes are separable, though only RDA \n",
      "  has achieved 100% correct classification. \n",
      "  (RDA : 100%, QDA 99.4%, LDA 98.9%, 1NN 96.1% (z-transformed data)) \n",
      "  (All results using the leave-one-out technique) \n",
      "\n",
      "  (2) S. Aeberhard, D. Coomans and O. de Vel, \n",
      "  \"THE CLASSIFICATION PERFORMANCE OF RDA\" \n",
      "  Tech. Rep. no. 92-01, (1992), Dept. of Computer Science and Dept. of \n",
      "  Mathematics and Statistics, James Cook University of North Queensland. \n",
      "  (Also submitted to Journal of Chemometrics).\n",
      "\n"
     ]
    }
   ],
   "source": [
    "print(wine.DESCR)"
   ]
  },
  {
   "cell_type": "code",
   "execution_count": 60,
   "id": "unusual-workplace",
   "metadata": {},
   "outputs": [],
   "source": [
    "# 데이터만 따로 저장\n",
    "wine_data = wine.data\n",
    "\n",
    "# 라벨만 따로 저장\n",
    "wine_label = wine.target"
   ]
  },
  {
   "cell_type": "code",
   "execution_count": 62,
   "id": "veterinary-rover",
   "metadata": {},
   "outputs": [
    {
     "data": {
      "text/plain": [
       "array(['class_0', 'class_1', 'class_2'], dtype='<U7')"
      ]
     },
     "execution_count": 62,
     "metadata": {},
     "output_type": "execute_result"
    }
   ],
   "source": [
    "wine.target_names"
   ]
  },
  {
   "cell_type": "code",
   "execution_count": 63,
   "id": "essential-faith",
   "metadata": {},
   "outputs": [
    {
     "data": {
      "text/plain": [
       "['alcohol',\n",
       " 'malic_acid',\n",
       " 'ash',\n",
       " 'alcalinity_of_ash',\n",
       " 'magnesium',\n",
       " 'total_phenols',\n",
       " 'flavanoids',\n",
       " 'nonflavanoid_phenols',\n",
       " 'proanthocyanins',\n",
       " 'color_intensity',\n",
       " 'hue',\n",
       " 'od280/od315_of_diluted_wines',\n",
       " 'proline']"
      ]
     },
     "execution_count": 63,
     "metadata": {},
     "output_type": "execute_result"
    }
   ],
   "source": [
    "wine.feature_names"
   ]
  },
  {
   "cell_type": "code",
   "execution_count": 92,
   "id": "visible-timer",
   "metadata": {},
   "outputs": [],
   "source": [
    "# 데이터를 보면\n",
    "# 1) wine 품종 3가지에 대한 데이터이고\n",
    "# 2) 이 데이터들의 실제 값은 target에 1차원 벡터로 저장되어 있다.\n",
    "# 3) 데이터 개수는 178개, 이들의 feature는 13개이다.\n",
    "# 4) feature는 모두 numeric이다.\n"
   ]
  },
  {
   "cell_type": "markdown",
   "id": "stone-amateur",
   "metadata": {},
   "source": [
    "#### (4) train, test 데이터 분리\n"
   ]
  },
  {
   "cell_type": "code",
   "execution_count": 65,
   "id": "macro-dimension",
   "metadata": {},
   "outputs": [
    {
     "name": "stdout",
     "output_type": "stream",
     "text": [
      "X_train 개수는 142\n",
      "y_train 개수는 142\n",
      "X_test 개수는 36\n",
      "y_test 개수는 36\n"
     ]
    }
   ],
   "source": [
    "# 데이터셋 분리\n",
    "X_train, X_test, y_train, y_test = train_test_split(wine_data,\n",
    "                                                   wine_label,\n",
    "                                                   test_size=0.2,\n",
    "                                                   random_state=13)\n",
    "\n",
    "print(f\"X_train 개수는 {len(X_train)}\")\n",
    "print(f\"y_train 개수는 {len(y_train)}\")\n",
    "print(f\"X_test 개수는 {len(X_test)}\")\n",
    "print(f\"y_test 개수는 {len(y_test)}\")"
   ]
  },
  {
   "cell_type": "markdown",
   "id": "developmental-lindsay",
   "metadata": {},
   "source": [
    "#### (5) 다양한 모델로 학습시켜보기\n"
   ]
  },
  {
   "cell_type": "code",
   "execution_count": 67,
   "id": "pressed-green",
   "metadata": {},
   "outputs": [
    {
     "name": "stdout",
     "output_type": "stream",
     "text": [
      "classifier\n"
     ]
    },
    {
     "data": {
      "text/plain": [
       "array([1, 0, 2, 1, 1, 1, 2, 0, 1, 1, 0, 0, 2, 1, 2, 0, 1, 0, 0, 0, 1, 1,\n",
       "       0, 0, 2, 1, 1, 1, 0, 2, 1, 1, 0, 1, 0, 0])"
      ]
     },
     "execution_count": 67,
     "metadata": {},
     "output_type": "execute_result"
    }
   ],
   "source": [
    "# Decision Tree 사용\n",
    "from sklearn.tree import DecisionTreeClassifier\n",
    "dt_model = DecisionTreeClassifier()\n",
    "print(dt_model._estimator_type)\n",
    "\n",
    "# 학습\n",
    "dt_model.fit(X_train, y_train)\n",
    "\n",
    "# 예측\n",
    "dt_y_pred = dt_model.predict(X_test)\n",
    "dt_y_pred"
   ]
  },
  {
   "cell_type": "code",
   "execution_count": 68,
   "id": "further-twenty",
   "metadata": {},
   "outputs": [
    {
     "name": "stdout",
     "output_type": "stream",
     "text": [
      "classifier\n"
     ]
    },
    {
     "data": {
      "text/plain": [
       "array([2, 0, 2, 1, 1, 1, 2, 0, 1, 1, 0, 0, 2, 1, 2, 1, 1, 0, 0, 1, 2, 1,\n",
       "       0, 0, 2, 1, 2, 1, 0, 2, 1, 1, 0, 1, 0, 0])"
      ]
     },
     "execution_count": 68,
     "metadata": {},
     "output_type": "execute_result"
    }
   ],
   "source": [
    "# Random Forest 사용\n",
    "from sklearn.ensemble import RandomForestClassifier\n",
    "\n",
    "rf_model = RandomForestClassifier()\n",
    "print(rf_model._estimator_type)\n",
    "\n",
    "# 학습\n",
    "rf_model.fit(X_train, y_train)\n",
    "\n",
    "# 예측\n",
    "rf_y_pred = rf_model.predict(X_test)\n",
    "rf_y_pred"
   ]
  },
  {
   "cell_type": "code",
   "execution_count": 69,
   "id": "conservative-smith",
   "metadata": {},
   "outputs": [
    {
     "name": "stdout",
     "output_type": "stream",
     "text": [
      "classifier\n"
     ]
    },
    {
     "data": {
      "text/plain": [
       "array([2, 0, 1, 1, 2, 1, 1, 0, 2, 1, 0, 0, 1, 1, 2, 2, 1, 0, 0, 2, 2, 1,\n",
       "       0, 0, 2, 1, 1, 1, 0, 2, 1, 1, 0, 1, 0, 0])"
      ]
     },
     "execution_count": 69,
     "metadata": {},
     "output_type": "execute_result"
    }
   ],
   "source": [
    "# SVM 사용\n",
    "from sklearn import svm\n",
    "\n",
    "svm_model = svm.SVC()\n",
    "print(svm_model._estimator_type)\n",
    "\n",
    "# 학습\n",
    "svm_model.fit(X_train, y_train)\n",
    "\n",
    "# 예측\n",
    "svm_y_pred = svm_model.predict(X_test)\n",
    "svm_y_pred"
   ]
  },
  {
   "cell_type": "code",
   "execution_count": 70,
   "id": "signed-sellers",
   "metadata": {},
   "outputs": [
    {
     "name": "stdout",
     "output_type": "stream",
     "text": [
      "classifier\n"
     ]
    },
    {
     "data": {
      "text/plain": [
       "array([0, 0, 1, 2, 0, 2, 2, 0, 0, 1, 0, 0, 2, 2, 0, 2, 1, 0, 0, 0, 2, 1,\n",
       "       0, 0, 0, 2, 1, 1, 0, 2, 1, 1, 0, 1, 0, 0])"
      ]
     },
     "execution_count": 70,
     "metadata": {},
     "output_type": "execute_result"
    }
   ],
   "source": [
    "# SGDClassifier 사용\n",
    "from sklearn.linear_model import SGDClassifier\n",
    "\n",
    "SGDC_model = SGDClassifier()\n",
    "print(SGDC_model._estimator_type)\n",
    "\n",
    "# 학습\n",
    "SGDC_model.fit(X_train, y_train)\n",
    "\n",
    "# 예측\n",
    "SGDC_y_pred = SGDC_model.predict(X_test)\n",
    "SGDC_y_pred"
   ]
  },
  {
   "cell_type": "code",
   "execution_count": 71,
   "id": "automated-distribution",
   "metadata": {},
   "outputs": [
    {
     "name": "stdout",
     "output_type": "stream",
     "text": [
      "classifier\n"
     ]
    },
    {
     "name": "stderr",
     "output_type": "stream",
     "text": [
      "/opt/conda/lib/python3.7/site-packages/sklearn/linear_model/_logistic.py:762: ConvergenceWarning: lbfgs failed to converge (status=1):\n",
      "STOP: TOTAL NO. of ITERATIONS REACHED LIMIT.\n",
      "\n",
      "Increase the number of iterations (max_iter) or scale the data as shown in:\n",
      "    https://scikit-learn.org/stable/modules/preprocessing.html\n",
      "Please also refer to the documentation for alternative solver options:\n",
      "    https://scikit-learn.org/stable/modules/linear_model.html#logistic-regression\n",
      "  extra_warning_msg=_LOGISTIC_SOLVER_CONVERGENCE_MSG)\n"
     ]
    },
    {
     "data": {
      "text/plain": [
       "array([2, 0, 2, 1, 1, 1, 2, 0, 1, 1, 0, 0, 2, 1, 2, 1, 1, 0, 0, 1, 1, 1,\n",
       "       0, 0, 2, 1, 2, 1, 0, 2, 1, 1, 0, 1, 0, 0])"
      ]
     },
     "execution_count": 71,
     "metadata": {},
     "output_type": "execute_result"
    }
   ],
   "source": [
    "# Logistic Regression 사용\n",
    "from sklearn.linear_model import LogisticRegression\n",
    "\n",
    "lr_model = LogisticRegression()\n",
    "print(lr_model._estimator_type)\n",
    "\n",
    "# 학습\n",
    "lr_model.fit(X_train, y_train)\n",
    "\n",
    "# 예측\n",
    "lr_y_pred = lr_model.predict(X_test)\n",
    "lr_y_pred"
   ]
  },
  {
   "cell_type": "markdown",
   "id": "numeric-event",
   "metadata": {},
   "source": [
    "#### (6) 모델을 평가해 보기"
   ]
  },
  {
   "cell_type": "code",
   "execution_count": 72,
   "id": "optimum-prison",
   "metadata": {
    "scrolled": true
   },
   "outputs": [
    {
     "name": "stdout",
     "output_type": "stream",
     "text": [
      "y_train\n",
      "(array([0, 1, 2]), array([47, 56, 39]))\n",
      "=======================\n",
      "y_test\n",
      "(array([0, 1, 2]), array([12, 15,  9]))\n"
     ]
    }
   ],
   "source": [
    "# 우선 데이터 불균형을 파악하기 위해 y_train, y_test 값을 봐보자면\n",
    "\n",
    "import numpy as np\n",
    "print('y_train')\n",
    "print(np.unique(y_train, return_counts=True))\n",
    "print(\"=======================\")\n",
    "print('y_test')\n",
    "print(np.unique(y_test, return_counts=True))\n",
    "\n",
    "# 골고루 섞여있음"
   ]
  },
  {
   "cell_type": "markdown",
   "id": "polar-syntax",
   "metadata": {},
   "source": [
    "#### 결론\n",
    "- 선택한 평가지표 : accuracy\n",
    "- 이유(1) : 데이터가 골고루 되어 있기에 데이터 전체 갯수에 대한 예측률을 알려주는 accuracy도 모델의 성능을 잘 보여줄 수 있다고 생각\n",
    "- 이유(2) : 그리고 와인 종류 예측이기에 precision, recall이 critical하게 영향을 주는 것 같지는 않다고 생각했다. "
   ]
  },
  {
   "cell_type": "code",
   "execution_count": 73,
   "id": "oriented-fetish",
   "metadata": {},
   "outputs": [
    {
     "name": "stdout",
     "output_type": "stream",
     "text": [
      "Decision Tree\n",
      "Accuracy : 0.8611111111111112\n",
      "==================================================\n",
      "Random Forest\n",
      "Accuracy : 1.0\n",
      "==================================================\n",
      "SVM\n",
      "Accuracy : 0.7777777777777778\n",
      "==================================================\n",
      "SGD Classifier\n",
      "Accuracy : 0.6388888888888888\n",
      "==================================================\n",
      "Logistic Regression\n",
      "Accuracy : 0.9722222222222222\n",
      "==================================================\n"
     ]
    }
   ],
   "source": [
    "# 모델별 평가하기\n",
    "from sklearn.metrics import accuracy_score\n",
    "\n",
    "print(\"Decision Tree\")\n",
    "print('Accuracy :', accuracy_score(y_test, dt_y_pred))\n",
    "print(\"==================================================\")\n",
    "print(\"Random Forest\")\n",
    "print('Accuracy :', accuracy_score(y_test, rf_y_pred))\n",
    "print(\"==================================================\")\n",
    "print(\"SVM\")\n",
    "print('Accuracy :', accuracy_score(y_test, svm_y_pred))\n",
    "print(\"==================================================\")\n",
    "print(\"SGD Classifier\")\n",
    "print('Accuracy :', accuracy_score(y_test, SGDC_y_pred))\n",
    "print(\"==================================================\")\n",
    "print(\"Logistic Regression\")\n",
    "print('Accuracy :', accuracy_score(y_test, lr_y_pred))\n",
    "print(\"==================================================\")"
   ]
  },
  {
   "cell_type": "markdown",
   "id": "increasing-extension",
   "metadata": {},
   "source": [
    "## 2-13. 프로젝트 (3) load_breast_cancer : 유방암 여부를 진단해 봅시다\n"
   ]
  },
  {
   "cell_type": "markdown",
   "id": "bright-white",
   "metadata": {},
   "source": [
    "#### (1) 필요한 모듈 import하기\n"
   ]
  },
  {
   "cell_type": "code",
   "execution_count": 75,
   "id": "equal-maldives",
   "metadata": {},
   "outputs": [],
   "source": [
    "from sklearn.datasets import load_breast_cancer\n",
    "from sklearn.model_selection import train_test_split\n",
    "from sklearn.metrics import classification_report"
   ]
  },
  {
   "cell_type": "markdown",
   "id": "advanced-significance",
   "metadata": {},
   "source": [
    "#### (2) 데이터 준비\n"
   ]
  },
  {
   "cell_type": "code",
   "execution_count": 79,
   "id": "typical-hawaiian",
   "metadata": {},
   "outputs": [],
   "source": [
    "breast_cancer = load_breast_cancer()\n"
   ]
  },
  {
   "cell_type": "code",
   "execution_count": 81,
   "id": "textile-clearance",
   "metadata": {},
   "outputs": [
    {
     "data": {
      "text/plain": [
       "dict_keys(['data', 'target', 'frame', 'target_names', 'DESCR', 'feature_names', 'filename'])"
      ]
     },
     "execution_count": 81,
     "metadata": {},
     "output_type": "execute_result"
    }
   ],
   "source": [
    "breast_cancer.keys()"
   ]
  },
  {
   "cell_type": "markdown",
   "id": "imperial-delhi",
   "metadata": {},
   "source": [
    "#### (3) 데이터 이해하기\n"
   ]
  },
  {
   "cell_type": "code",
   "execution_count": 82,
   "id": "active-campus",
   "metadata": {},
   "outputs": [],
   "source": [
    "# 데이터만 따로 저장\n",
    "bc_data = breast_cancer.data\n",
    "\n",
    "# 라벨만 따로 저장\n",
    "bc_label = breast_cancer.target"
   ]
  },
  {
   "cell_type": "code",
   "execution_count": 83,
   "id": "golden-angola",
   "metadata": {},
   "outputs": [
    {
     "data": {
      "text/plain": [
       "array(['mean radius', 'mean texture', 'mean perimeter', 'mean area',\n",
       "       'mean smoothness', 'mean compactness', 'mean concavity',\n",
       "       'mean concave points', 'mean symmetry', 'mean fractal dimension',\n",
       "       'radius error', 'texture error', 'perimeter error', 'area error',\n",
       "       'smoothness error', 'compactness error', 'concavity error',\n",
       "       'concave points error', 'symmetry error',\n",
       "       'fractal dimension error', 'worst radius', 'worst texture',\n",
       "       'worst perimeter', 'worst area', 'worst smoothness',\n",
       "       'worst compactness', 'worst concavity', 'worst concave points',\n",
       "       'worst symmetry', 'worst fractal dimension'], dtype='<U23')"
      ]
     },
     "execution_count": 83,
     "metadata": {},
     "output_type": "execute_result"
    }
   ],
   "source": [
    "breast_cancer.feature_names"
   ]
  },
  {
   "cell_type": "code",
   "execution_count": 84,
   "id": "sunset-watershed",
   "metadata": {},
   "outputs": [
    {
     "data": {
      "text/plain": [
       "(569, 30)"
      ]
     },
     "execution_count": 84,
     "metadata": {},
     "output_type": "execute_result"
    }
   ],
   "source": [
    "breast_cancer.data.shape"
   ]
  },
  {
   "cell_type": "code",
   "execution_count": 86,
   "id": "broke-liver",
   "metadata": {},
   "outputs": [
    {
     "data": {
      "text/plain": [
       "array(['malignant', 'benign'], dtype='<U9')"
      ]
     },
     "execution_count": 86,
     "metadata": {},
     "output_type": "execute_result"
    }
   ],
   "source": [
    "breast_cancer.target_names\n",
    "\n",
    "# malignant는 악성\n",
    "# benign은 양성(순함)"
   ]
  },
  {
   "cell_type": "code",
   "execution_count": 90,
   "id": "buried-montana",
   "metadata": {},
   "outputs": [
    {
     "data": {
      "text/plain": [
       "(array([0, 1]), array([212, 357]))"
      ]
     },
     "execution_count": 90,
     "metadata": {},
     "output_type": "execute_result"
    }
   ],
   "source": [
    "np.unique(bc_label, return_counts=True)"
   ]
  },
  {
   "cell_type": "code",
   "execution_count": 91,
   "id": "solar-margin",
   "metadata": {},
   "outputs": [
    {
     "name": "stdout",
     "output_type": "stream",
     "text": [
      ".. _breast_cancer_dataset:\n",
      "\n",
      "Breast cancer wisconsin (diagnostic) dataset\n",
      "--------------------------------------------\n",
      "\n",
      "**Data Set Characteristics:**\n",
      "\n",
      "    :Number of Instances: 569\n",
      "\n",
      "    :Number of Attributes: 30 numeric, predictive attributes and the class\n",
      "\n",
      "    :Attribute Information:\n",
      "        - radius (mean of distances from center to points on the perimeter)\n",
      "        - texture (standard deviation of gray-scale values)\n",
      "        - perimeter\n",
      "        - area\n",
      "        - smoothness (local variation in radius lengths)\n",
      "        - compactness (perimeter^2 / area - 1.0)\n",
      "        - concavity (severity of concave portions of the contour)\n",
      "        - concave points (number of concave portions of the contour)\n",
      "        - symmetry\n",
      "        - fractal dimension (\"coastline approximation\" - 1)\n",
      "\n",
      "        The mean, standard error, and \"worst\" or largest (mean of the three\n",
      "        worst/largest values) of these features were computed for each image,\n",
      "        resulting in 30 features.  For instance, field 0 is Mean Radius, field\n",
      "        10 is Radius SE, field 20 is Worst Radius.\n",
      "\n",
      "        - class:\n",
      "                - WDBC-Malignant\n",
      "                - WDBC-Benign\n",
      "\n",
      "    :Summary Statistics:\n",
      "\n",
      "    ===================================== ====== ======\n",
      "                                           Min    Max\n",
      "    ===================================== ====== ======\n",
      "    radius (mean):                        6.981  28.11\n",
      "    texture (mean):                       9.71   39.28\n",
      "    perimeter (mean):                     43.79  188.5\n",
      "    area (mean):                          143.5  2501.0\n",
      "    smoothness (mean):                    0.053  0.163\n",
      "    compactness (mean):                   0.019  0.345\n",
      "    concavity (mean):                     0.0    0.427\n",
      "    concave points (mean):                0.0    0.201\n",
      "    symmetry (mean):                      0.106  0.304\n",
      "    fractal dimension (mean):             0.05   0.097\n",
      "    radius (standard error):              0.112  2.873\n",
      "    texture (standard error):             0.36   4.885\n",
      "    perimeter (standard error):           0.757  21.98\n",
      "    area (standard error):                6.802  542.2\n",
      "    smoothness (standard error):          0.002  0.031\n",
      "    compactness (standard error):         0.002  0.135\n",
      "    concavity (standard error):           0.0    0.396\n",
      "    concave points (standard error):      0.0    0.053\n",
      "    symmetry (standard error):            0.008  0.079\n",
      "    fractal dimension (standard error):   0.001  0.03\n",
      "    radius (worst):                       7.93   36.04\n",
      "    texture (worst):                      12.02  49.54\n",
      "    perimeter (worst):                    50.41  251.2\n",
      "    area (worst):                         185.2  4254.0\n",
      "    smoothness (worst):                   0.071  0.223\n",
      "    compactness (worst):                  0.027  1.058\n",
      "    concavity (worst):                    0.0    1.252\n",
      "    concave points (worst):               0.0    0.291\n",
      "    symmetry (worst):                     0.156  0.664\n",
      "    fractal dimension (worst):            0.055  0.208\n",
      "    ===================================== ====== ======\n",
      "\n",
      "    :Missing Attribute Values: None\n",
      "\n",
      "    :Class Distribution: 212 - Malignant, 357 - Benign\n",
      "\n",
      "    :Creator:  Dr. William H. Wolberg, W. Nick Street, Olvi L. Mangasarian\n",
      "\n",
      "    :Donor: Nick Street\n",
      "\n",
      "    :Date: November, 1995\n",
      "\n",
      "This is a copy of UCI ML Breast Cancer Wisconsin (Diagnostic) datasets.\n",
      "https://goo.gl/U2Uwz2\n",
      "\n",
      "Features are computed from a digitized image of a fine needle\n",
      "aspirate (FNA) of a breast mass.  They describe\n",
      "characteristics of the cell nuclei present in the image.\n",
      "\n",
      "Separating plane described above was obtained using\n",
      "Multisurface Method-Tree (MSM-T) [K. P. Bennett, \"Decision Tree\n",
      "Construction Via Linear Programming.\" Proceedings of the 4th\n",
      "Midwest Artificial Intelligence and Cognitive Science Society,\n",
      "pp. 97-101, 1992], a classification method which uses linear\n",
      "programming to construct a decision tree.  Relevant features\n",
      "were selected using an exhaustive search in the space of 1-4\n",
      "features and 1-3 separating planes.\n",
      "\n",
      "The actual linear program used to obtain the separating plane\n",
      "in the 3-dimensional space is that described in:\n",
      "[K. P. Bennett and O. L. Mangasarian: \"Robust Linear\n",
      "Programming Discrimination of Two Linearly Inseparable Sets\",\n",
      "Optimization Methods and Software 1, 1992, 23-34].\n",
      "\n",
      "This database is also available through the UW CS ftp server:\n",
      "\n",
      "ftp ftp.cs.wisc.edu\n",
      "cd math-prog/cpo-dataset/machine-learn/WDBC/\n",
      "\n",
      ".. topic:: References\n",
      "\n",
      "   - W.N. Street, W.H. Wolberg and O.L. Mangasarian. Nuclear feature extraction \n",
      "     for breast tumor diagnosis. IS&T/SPIE 1993 International Symposium on \n",
      "     Electronic Imaging: Science and Technology, volume 1905, pages 861-870,\n",
      "     San Jose, CA, 1993.\n",
      "   - O.L. Mangasarian, W.N. Street and W.H. Wolberg. Breast cancer diagnosis and \n",
      "     prognosis via linear programming. Operations Research, 43(4), pages 570-577, \n",
      "     July-August 1995.\n",
      "   - W.H. Wolberg, W.N. Street, and O.L. Mangasarian. Machine learning techniques\n",
      "     to diagnose breast cancer from fine-needle aspirates. Cancer Letters 77 (1994) \n",
      "     163-171.\n"
     ]
    }
   ],
   "source": [
    "print(breast_cancer.DESCR)"
   ]
  },
  {
   "cell_type": "code",
   "execution_count": 93,
   "id": "incoming-mixture",
   "metadata": {},
   "outputs": [],
   "source": [
    "# 데이터를 보면\n",
    "# 1) breast cancer 의 양성, 악성 여부에 대한 데이터이고\n",
    "# 2) 이 데이터들의 양성/악성 여부 값은 target에 1차원 벡터(0과 1)로 저장되어 있다.\n",
    "# 3) 데이터 개수는 569개, 이들의 feature는 30개이다.\n",
    "# 4) feature는 모두 numeric이다.\n"
   ]
  },
  {
   "cell_type": "markdown",
   "id": "improved-verification",
   "metadata": {},
   "source": [
    "#### (4) train, test 데이터 분리\n"
   ]
  },
  {
   "cell_type": "code",
   "execution_count": 94,
   "id": "external-geology",
   "metadata": {},
   "outputs": [
    {
     "name": "stdout",
     "output_type": "stream",
     "text": [
      "X_train 개수는 455\n",
      "y_train 개수는 455\n",
      "X_test 개수는 114\n",
      "y_test 개수는 114\n"
     ]
    }
   ],
   "source": [
    "# 데이터셋 분리\n",
    "X_train, X_test, y_train, y_test = train_test_split(bc_data,\n",
    "                                                   bc_label,\n",
    "                                                   test_size=0.2,\n",
    "                                                   random_state=13)\n",
    "\n",
    "print(f\"X_train 개수는 {len(X_train)}\")\n",
    "print(f\"y_train 개수는 {len(y_train)}\")\n",
    "print(f\"X_test 개수는 {len(X_test)}\")\n",
    "print(f\"y_test 개수는 {len(y_test)}\")"
   ]
  },
  {
   "cell_type": "markdown",
   "id": "nearby-dominant",
   "metadata": {},
   "source": [
    "#### (5) 다양한 모델로 학습시켜보기\n"
   ]
  },
  {
   "cell_type": "code",
   "execution_count": 95,
   "id": "informative-demographic",
   "metadata": {},
   "outputs": [
    {
     "name": "stdout",
     "output_type": "stream",
     "text": [
      "classifier\n"
     ]
    },
    {
     "data": {
      "text/plain": [
       "array([1, 1, 1, 0, 1, 0, 1, 1, 1, 0, 0, 1, 1, 0, 0, 1, 1, 1, 1, 0, 1, 0,\n",
       "       0, 1, 1, 0, 1, 0, 1, 0, 0, 0, 1, 1, 0, 1, 1, 1, 1, 0, 1, 0, 1, 1,\n",
       "       1, 1, 1, 1, 0, 1, 0, 0, 0, 0, 1, 0, 1, 0, 0, 1, 1, 1, 1, 0, 1, 1,\n",
       "       1, 1, 1, 1, 0, 0, 1, 1, 0, 1, 0, 1, 1, 0, 0, 1, 1, 1, 1, 0, 0, 0,\n",
       "       1, 1, 1, 0, 1, 1, 1, 1, 1, 1, 0, 0, 0, 1, 1, 1, 1, 1, 1, 0, 0, 0,\n",
       "       1, 0, 0, 1])"
      ]
     },
     "execution_count": 95,
     "metadata": {},
     "output_type": "execute_result"
    }
   ],
   "source": [
    "# Decision Tree 사용\n",
    "from sklearn.tree import DecisionTreeClassifier\n",
    "dt_model = DecisionTreeClassifier()\n",
    "print(dt_model._estimator_type)\n",
    "\n",
    "# 학습\n",
    "dt_model.fit(X_train, y_train)\n",
    "\n",
    "# 예측\n",
    "dt_y_pred = dt_model.predict(X_test)\n",
    "dt_y_pred"
   ]
  },
  {
   "cell_type": "code",
   "execution_count": 96,
   "id": "gross-shell",
   "metadata": {},
   "outputs": [
    {
     "name": "stdout",
     "output_type": "stream",
     "text": [
      "classifier\n"
     ]
    },
    {
     "data": {
      "text/plain": [
       "array([0, 1, 1, 0, 1, 0, 1, 1, 1, 0, 1, 1, 1, 0, 0, 1, 1, 1, 1, 0, 1, 1,\n",
       "       0, 1, 1, 0, 1, 0, 1, 0, 0, 0, 1, 1, 0, 0, 1, 1, 0, 0, 1, 0, 1, 1,\n",
       "       1, 1, 1, 1, 0, 1, 0, 0, 0, 1, 1, 0, 1, 0, 0, 1, 1, 1, 1, 0, 1, 1,\n",
       "       1, 1, 1, 0, 0, 0, 1, 1, 0, 1, 0, 1, 1, 0, 1, 1, 1, 1, 1, 0, 0, 0,\n",
       "       1, 1, 1, 0, 1, 1, 1, 1, 1, 1, 0, 0, 1, 1, 1, 1, 1, 1, 1, 0, 0, 0,\n",
       "       1, 0, 0, 1])"
      ]
     },
     "execution_count": 96,
     "metadata": {},
     "output_type": "execute_result"
    }
   ],
   "source": [
    "# Random Forest 사용\n",
    "from sklearn.ensemble import RandomForestClassifier\n",
    "\n",
    "rf_model = RandomForestClassifier()\n",
    "print(rf_model._estimator_type)\n",
    "\n",
    "# 학습\n",
    "rf_model.fit(X_train, y_train)\n",
    "\n",
    "# 예측\n",
    "rf_y_pred = rf_model.predict(X_test)\n",
    "rf_y_pred"
   ]
  },
  {
   "cell_type": "code",
   "execution_count": 97,
   "id": "alive-adjustment",
   "metadata": {},
   "outputs": [
    {
     "name": "stdout",
     "output_type": "stream",
     "text": [
      "classifier\n"
     ]
    },
    {
     "data": {
      "text/plain": [
       "array([1, 1, 1, 1, 1, 1, 1, 1, 1, 1, 1, 1, 1, 0, 1, 1, 1, 1, 1, 0, 1, 1,\n",
       "       0, 1, 1, 1, 1, 0, 1, 0, 0, 0, 1, 1, 0, 1, 1, 1, 0, 0, 1, 0, 1, 1,\n",
       "       1, 1, 1, 1, 0, 1, 0, 0, 0, 1, 1, 0, 1, 0, 0, 1, 1, 1, 1, 0, 1, 1,\n",
       "       1, 1, 1, 1, 0, 0, 1, 1, 0, 1, 0, 1, 1, 0, 1, 1, 1, 1, 1, 0, 0, 1,\n",
       "       1, 1, 1, 0, 1, 1, 1, 1, 1, 1, 0, 0, 1, 1, 1, 1, 1, 1, 1, 1, 0, 0,\n",
       "       1, 0, 1, 1])"
      ]
     },
     "execution_count": 97,
     "metadata": {},
     "output_type": "execute_result"
    }
   ],
   "source": [
    "# SVM 사용\n",
    "from sklearn import svm\n",
    "\n",
    "svm_model = svm.SVC()\n",
    "print(svm_model._estimator_type)\n",
    "\n",
    "# 학습\n",
    "svm_model.fit(X_train, y_train)\n",
    "\n",
    "# 예측\n",
    "svm_y_pred = svm_model.predict(X_test)\n",
    "svm_y_pred"
   ]
  },
  {
   "cell_type": "code",
   "execution_count": 98,
   "id": "banner-march",
   "metadata": {},
   "outputs": [
    {
     "name": "stdout",
     "output_type": "stream",
     "text": [
      "classifier\n"
     ]
    },
    {
     "data": {
      "text/plain": [
       "array([1, 1, 1, 1, 1, 1, 1, 1, 1, 1, 1, 1, 1, 0, 1, 1, 1, 1, 1, 0, 1, 1,\n",
       "       1, 1, 1, 1, 1, 0, 1, 0, 1, 0, 1, 1, 0, 1, 1, 1, 1, 1, 1, 0, 1, 1,\n",
       "       1, 1, 1, 1, 1, 1, 0, 0, 0, 1, 1, 0, 1, 0, 0, 1, 1, 1, 1, 0, 1, 1,\n",
       "       1, 1, 1, 1, 0, 1, 1, 1, 0, 1, 0, 1, 1, 0, 1, 1, 1, 1, 1, 0, 0, 1,\n",
       "       1, 1, 1, 0, 1, 1, 1, 1, 1, 1, 1, 1, 1, 1, 1, 1, 1, 1, 1, 0, 0, 1,\n",
       "       1, 0, 1, 1])"
      ]
     },
     "execution_count": 98,
     "metadata": {},
     "output_type": "execute_result"
    }
   ],
   "source": [
    "# SGDClassifier 사용\n",
    "from sklearn.linear_model import SGDClassifier\n",
    "\n",
    "SGDC_model = SGDClassifier()\n",
    "print(SGDC_model._estimator_type)\n",
    "\n",
    "# 학습\n",
    "SGDC_model.fit(X_train, y_train)\n",
    "\n",
    "# 예측\n",
    "SGDC_y_pred = SGDC_model.predict(X_test)\n",
    "SGDC_y_pred"
   ]
  },
  {
   "cell_type": "code",
   "execution_count": 99,
   "id": "higher-corrections",
   "metadata": {},
   "outputs": [
    {
     "name": "stdout",
     "output_type": "stream",
     "text": [
      "classifier\n"
     ]
    },
    {
     "name": "stderr",
     "output_type": "stream",
     "text": [
      "/opt/conda/lib/python3.7/site-packages/sklearn/linear_model/_logistic.py:762: ConvergenceWarning: lbfgs failed to converge (status=1):\n",
      "STOP: TOTAL NO. of ITERATIONS REACHED LIMIT.\n",
      "\n",
      "Increase the number of iterations (max_iter) or scale the data as shown in:\n",
      "    https://scikit-learn.org/stable/modules/preprocessing.html\n",
      "Please also refer to the documentation for alternative solver options:\n",
      "    https://scikit-learn.org/stable/modules/linear_model.html#logistic-regression\n",
      "  extra_warning_msg=_LOGISTIC_SOLVER_CONVERGENCE_MSG)\n"
     ]
    },
    {
     "data": {
      "text/plain": [
       "array([1, 1, 1, 1, 1, 0, 1, 1, 1, 1, 1, 1, 1, 0, 0, 1, 1, 1, 1, 0, 1, 0,\n",
       "       1, 1, 1, 1, 1, 0, 1, 0, 1, 0, 1, 1, 0, 1, 1, 1, 1, 0, 1, 0, 1, 1,\n",
       "       1, 1, 1, 1, 1, 1, 0, 0, 0, 1, 1, 0, 1, 0, 0, 1, 1, 1, 1, 0, 1, 1,\n",
       "       1, 1, 1, 0, 0, 1, 1, 1, 0, 1, 0, 1, 1, 0, 1, 1, 1, 1, 1, 0, 0, 0,\n",
       "       1, 1, 1, 0, 1, 1, 1, 1, 1, 1, 0, 0, 1, 0, 1, 1, 1, 1, 1, 0, 0, 0,\n",
       "       1, 0, 0, 1])"
      ]
     },
     "execution_count": 99,
     "metadata": {},
     "output_type": "execute_result"
    }
   ],
   "source": [
    "# Logistic Regression 사용\n",
    "from sklearn.linear_model import LogisticRegression\n",
    "\n",
    "lr_model = LogisticRegression()\n",
    "print(lr_model._estimator_type)\n",
    "\n",
    "# 학습\n",
    "lr_model.fit(X_train, y_train)\n",
    "\n",
    "# 예측\n",
    "lr_y_pred = lr_model.predict(X_test)\n",
    "lr_y_pred"
   ]
  },
  {
   "cell_type": "markdown",
   "id": "silent-custom",
   "metadata": {},
   "source": [
    "#### (6) 모델을 평가해 보기\n"
   ]
  },
  {
   "cell_type": "code",
   "execution_count": 103,
   "id": "exact-nevada",
   "metadata": {},
   "outputs": [
    {
     "name": "stdout",
     "output_type": "stream",
     "text": [
      "y_train\n",
      "(array([0, 1]), array([176, 279]))\n",
      "=======================\n",
      "y_test\n",
      "(array([0, 1]), array([36, 78]))\n",
      "=======================\n",
      "y_train 악성 vs 양성 비율은 0.3868131868131868\n",
      "y_test 악성 vs 양성 비율은 0.3868131868131868\n"
     ]
    }
   ],
   "source": [
    "# 우선 데이터 불균형을 파악하기 위해 y_train, y_test 값을 봐보자면\n",
    "\n",
    "import numpy as np\n",
    "print('y_train')\n",
    "print(np.unique(y_train, return_counts=True))\n",
    "print(\"=======================\")\n",
    "print('y_test')\n",
    "print(np.unique(y_test, return_counts=True))\n",
    "print(\"=======================\")\n",
    "\n",
    "# 비율\n",
    "y_train_0 = np.unique(y_train, return_counts=True)[1][0]\n",
    "y_train_1 = np.unique(y_train, return_counts=True)[1][1]\n",
    "print(\"y_train 악성 vs 양성 비율은\", y_train_0 / (y_train_0 + y_train_1))\n",
    "y_test_0 = np.unique(y_train, return_counts=True)[1][0]\n",
    "y_test_1 = np.unique(y_train, return_counts=True)[1][1]\n",
    "print(\"y_test 악성 vs 양성 비율은\", y_train_0 / (y_test_0 + y_test_1))\n",
    "\n",
    "# 약 1:2 비율로 악성이 적지만 심한 불균형은 아닌 것으로 판단"
   ]
  },
  {
   "cell_type": "markdown",
   "id": "recognized-acrobat",
   "metadata": {},
   "source": [
    "#### 결론\n",
    "- 선택한 평가지표 : recall\n",
    "- 이유 : 암은 악성(positive)인 것을 놓치는 게(negative로 보는 게) 더 위험하므로 FN이 적어야 하고, 이래서 실제 악성 중 FN이 적은 모델을 판별하는 recall이 좋은 지표인 것 같다.\n"
   ]
  },
  {
   "cell_type": "code",
   "execution_count": 105,
   "id": "expected-scotland",
   "metadata": {},
   "outputs": [
    {
     "name": "stdout",
     "output_type": "stream",
     "text": [
      "Decision Tree\n",
      "              precision    recall  f1-score   support\n",
      "\n",
      "           0       0.75      0.92      0.83        36\n",
      "           1       0.96      0.86      0.91        78\n",
      "\n",
      "    accuracy                           0.88       114\n",
      "   macro avg       0.85      0.89      0.87       114\n",
      "weighted avg       0.89      0.88      0.88       114\n",
      "\n",
      "==================================================\n",
      "Random Forest\n",
      "              precision    recall  f1-score   support\n",
      "\n",
      "           0       0.81      0.97      0.89        36\n",
      "           1       0.99      0.90      0.94        78\n",
      "\n",
      "    accuracy                           0.92       114\n",
      "   macro avg       0.90      0.93      0.91       114\n",
      "weighted avg       0.93      0.92      0.92       114\n",
      "\n",
      "==================================================\n",
      "SVM\n",
      "              precision    recall  f1-score   support\n",
      "\n",
      "           0       0.84      0.75      0.79        36\n",
      "           1       0.89      0.94      0.91        78\n",
      "\n",
      "    accuracy                           0.88       114\n",
      "   macro avg       0.87      0.84      0.85       114\n",
      "weighted avg       0.88      0.88      0.88       114\n",
      "\n",
      "==================================================\n",
      "SGD Classifier\n",
      "              precision    recall  f1-score   support\n",
      "\n",
      "           0       1.00      0.67      0.80        36\n",
      "           1       0.87      1.00      0.93        78\n",
      "\n",
      "    accuracy                           0.89       114\n",
      "   macro avg       0.93      0.83      0.86       114\n",
      "weighted avg       0.91      0.89      0.89       114\n",
      "\n",
      "==================================================\n",
      "Logistic Regression\n",
      "              precision    recall  f1-score   support\n",
      "\n",
      "           0       0.89      0.86      0.87        36\n",
      "           1       0.94      0.95      0.94        78\n",
      "\n",
      "    accuracy                           0.92       114\n",
      "   macro avg       0.91      0.90      0.91       114\n",
      "weighted avg       0.92      0.92      0.92       114\n",
      "\n",
      "==================================================\n"
     ]
    }
   ],
   "source": [
    "# 모델별 평가하기\n",
    "\n",
    "print(\"Decision Tree\")\n",
    "print(classification_report(y_test, dt_y_pred))\n",
    "print(\"==================================================\")\n",
    "print(\"Random Forest\")\n",
    "print(classification_report(y_test, rf_y_pred))\n",
    "print(\"==================================================\")\n",
    "print(\"SVM\")\n",
    "print(classification_report(y_test, svm_y_pred))\n",
    "print(\"==================================================\")\n",
    "print(\"SGD Classifier\")\n",
    "print(classification_report(y_test, SGDC_y_pred))\n",
    "print(\"==================================================\")\n",
    "print(\"Logistic Regression\")\n",
    "print(classification_report(y_test, lr_y_pred))\n",
    "print(\"==================================================\")"
   ]
  },
  {
   "cell_type": "markdown",
   "id": "worse-johnston",
   "metadata": {},
   "source": [
    "#### 결론 2\n",
    "- malignant(0값)의 recall이 가장 좋은 Random Forest를 좋은 모델이라고 선택했다."
   ]
  },
  {
   "cell_type": "code",
   "execution_count": null,
   "id": "impaired-dining",
   "metadata": {},
   "outputs": [],
   "source": []
  }
 ],
 "metadata": {
  "kernelspec": {
   "display_name": "Python 3",
   "language": "python",
   "name": "python3"
  },
  "language_info": {
   "codemirror_mode": {
    "name": "ipython",
    "version": 3
   },
   "file_extension": ".py",
   "mimetype": "text/x-python",
   "name": "python",
   "nbconvert_exporter": "python",
   "pygments_lexer": "ipython3",
   "version": "3.7.9"
  }
 },
 "nbformat": 4,
 "nbformat_minor": 5
}
