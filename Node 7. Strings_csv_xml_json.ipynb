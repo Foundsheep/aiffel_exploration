{
 "cells": [
  {
   "cell_type": "markdown",
   "id": "electric-madonna",
   "metadata": {},
   "source": [
    "# 7-2. 텍스트 데이터를 문자열로 저장한다는 것 (1) 인코딩과 디코딩"
   ]
  },
  {
   "cell_type": "code",
   "execution_count": 153,
   "id": "happy-liechtenstein",
   "metadata": {},
   "outputs": [
    {
     "data": {
      "text/plain": [
       "97"
      ]
     },
     "execution_count": 153,
     "metadata": {},
     "output_type": "execute_result"
    }
   ],
   "source": [
    "ord('a')"
   ]
  },
  {
   "cell_type": "code",
   "execution_count": 154,
   "id": "prostate-horizontal",
   "metadata": {},
   "outputs": [
    {
     "data": {
      "text/plain": [
       "'a'"
      ]
     },
     "execution_count": 154,
     "metadata": {},
     "output_type": "execute_result"
    }
   ],
   "source": [
    "chr(97)"
   ]
  },
  {
   "cell_type": "code",
   "execution_count": 155,
   "id": "wanted-sigma",
   "metadata": {},
   "outputs": [
    {
     "data": {
      "text/plain": [
       "47928"
      ]
     },
     "execution_count": 155,
     "metadata": {},
     "output_type": "execute_result"
    }
   ],
   "source": [
    "ord('문')"
   ]
  },
  {
   "cell_type": "code",
   "execution_count": 156,
   "id": "macro-wyoming",
   "metadata": {},
   "outputs": [
    {
     "data": {
      "text/plain": [
       "'문'"
      ]
     },
     "execution_count": 156,
     "metadata": {},
     "output_type": "execute_result"
    }
   ],
   "source": [
    "chr(47928)"
   ]
  },
  {
   "cell_type": "code",
   "execution_count": 157,
   "id": "alone-commonwealth",
   "metadata": {},
   "outputs": [
    {
     "name": "stdout",
     "output_type": "stream",
     "text": [
      "97\n",
      "65\n",
      "a\n",
      "44032\n",
      "가\n"
     ]
    }
   ],
   "source": [
    "print(ord('a'))    \n",
    "print(ord('A'))\n",
    "print(chr(97))\n",
    "print(ord('가'))\n",
    "print(chr(0xAC00))   \n",
    "#- 0xAC00은 44032의 16진수 표현입니다."
   ]
  },
  {
   "cell_type": "markdown",
   "id": "stock-manual",
   "metadata": {},
   "source": [
    "#### 파이썬에서 모든 문자열은 유니코드로 표현된다!\n",
    "- 파이썬 2에서는 인코딩한 후에도 아스키(ascii) → 유니코드(unicode) 변환 등의 작업을 거쳐야 했던 반면에,\n",
    "- 파이썬 3부터는 문자열이 무조건 유니코드로 인코딩되므로 해당 텍스트가 인코딩되어 있는지 혹은 디코딩되어 있는지만 고려하면 된다는 것이 포인트입니다."
   ]
  },
  {
   "cell_type": "code",
   "execution_count": 158,
   "id": "eight-throat",
   "metadata": {},
   "outputs": [
    {
     "name": "stdout",
     "output_type": "stream",
     "text": [
      "<class 'bytes'> <class 'str'> <class 'str'>\n"
     ]
    }
   ],
   "source": [
    "#- 파이썬 3-#\n",
    "#- bytes와 string으로 구분됩니다.\n",
    "\n",
    "str1 = b'hello'\n",
    "str2 = 'hello'\n",
    "str3 = u'hello'\n",
    "print(type(str1), type(str2), type(str3))\n",
    "# 결과 : <class 'bytes'>,  <class 'str'>,  <class 'str'>"
   ]
  },
  {
   "cell_type": "code",
   "execution_count": 159,
   "id": "distributed-calculation",
   "metadata": {},
   "outputs": [
    {
     "data": {
      "text/plain": [
       "b'hello'"
      ]
     },
     "execution_count": 159,
     "metadata": {},
     "output_type": "execute_result"
    }
   ],
   "source": [
    "str1"
   ]
  },
  {
   "cell_type": "markdown",
   "id": "wrapped-involvement",
   "metadata": {},
   "source": [
    "## 7-3. 텍스트 데이터를 문자열로 저장한다는 것 (2) 문자열 다루기"
   ]
  },
  {
   "cell_type": "code",
   "execution_count": 160,
   "id": "artificial-rubber",
   "metadata": {},
   "outputs": [
    {
     "ename": "SyntaxError",
     "evalue": "invalid syntax (<ipython-input-160-53986f6c84ee>, line 1)",
     "output_type": "error",
     "traceback": [
      "\u001b[0;36m  File \u001b[0;32m\"<ipython-input-160-53986f6c84ee>\"\u001b[0;36m, line \u001b[0;32m1\u001b[0m\n\u001b[0;31m    s = 'I don't like Python!'\u001b[0m\n\u001b[0m               ^\u001b[0m\n\u001b[0;31mSyntaxError\u001b[0m\u001b[0;31m:\u001b[0m invalid syntax\n"
     ]
    }
   ],
   "source": [
    "s = 'I don't like Python!'"
   ]
  },
  {
   "cell_type": "code",
   "execution_count": null,
   "id": "resident-orleans",
   "metadata": {},
   "outputs": [],
   "source": [
    "s = 'I don\\'t like Python!'\n",
    "s"
   ]
  },
  {
   "cell_type": "code",
   "execution_count": null,
   "id": "heard-collector",
   "metadata": {},
   "outputs": [],
   "source": [
    "#- 줄 바꿈\n",
    "print(\"사회적\\n거리두기\")\n",
    "print('--------------------------')\n",
    "\n",
    "#- 탭(tab)\n",
    "print(\"사회적\\t거리두기\")\n",
    "print('--------------------------')\n",
    "\n",
    "#- 작은따옴표 포함\n",
    "print('오늘부터 \\'사회적 거리두기\\'')"
   ]
  },
  {
   "cell_type": "markdown",
   "id": "editorial-package",
   "metadata": {},
   "source": [
    "### 원시 문자열\n",
    "- r'str'으로 해주면 raw string으로 escape 문자도 다 보임"
   ]
  },
  {
   "cell_type": "code",
   "execution_count": null,
   "id": "pointed-protest",
   "metadata": {},
   "outputs": [],
   "source": [
    "#- 예제 코드2\n",
    "print('Please don\\'t touch it')\n",
    "print(r'Please don\\'t touch it')"
   ]
  },
  {
   "cell_type": "code",
   "execution_count": null,
   "id": "destroyed-ensemble",
   "metadata": {},
   "outputs": [],
   "source": [
    "print(r'Please \"dont erstmet \\n touch it')"
   ]
  },
  {
   "cell_type": "markdown",
   "id": "authentic-study",
   "metadata": {},
   "source": [
    "### startswith, endswith"
   ]
  },
  {
   "cell_type": "code",
   "execution_count": 238,
   "id": "changed-insulation",
   "metadata": {},
   "outputs": [
    {
     "data": {
      "text/plain": [
       "['OB94382', 'OB32308', 'OB83461', 'OB74830', 'OB82345']"
      ]
     },
     "execution_count": 238,
     "metadata": {},
     "output_type": "execute_result"
    }
   ],
   "source": [
    "EmployeeID = ['OB94382', 'OW34723', 'OB32308', 'OB83461', \n",
    "                                  'OB74830', 'OW37402', 'OW11235', 'OB82345'] \n",
    "Production_Employee = [P for P in EmployeeID if P.startswith('OB')]   # 'OB'로 시작하는 직원 ID를 다 찾아봅니다\n",
    "Production_Employee"
   ]
  },
  {
   "cell_type": "code",
   "execution_count": null,
   "id": "hispanic-skill",
   "metadata": {},
   "outputs": [],
   "source": [
    "'OB94382'.startswith('O')"
   ]
  },
  {
   "cell_type": "code",
   "execution_count": null,
   "id": "initial-graph",
   "metadata": {},
   "outputs": [],
   "source": [
    "ob_list = [ob for ob in EmployeeID if ob.startswith('OB')]\n",
    "ob_list"
   ]
  },
  {
   "cell_type": "code",
   "execution_count": null,
   "id": "trying-formula",
   "metadata": {},
   "outputs": [],
   "source": [
    "import os\n",
    "image_dir_path = os.getenv(\"HOME\") + \"/data/pictures\"   \n",
    "# 각자의 사진이 보관된 디렉토리를 골라 주세요. \n",
    "# 클라우드의 경우에는 사진이 이미 있으므로 코드를 실행시켜주세요. \n",
    "photo = os.listdir(image_dir_path )\n",
    "png = [png for png in photo if png.endswith('.png')]\n",
    "print(png)"
   ]
  },
  {
   "cell_type": "markdown",
   "id": "valid-smoke",
   "metadata": {},
   "source": [
    "### 공백문자 trimming"
   ]
  },
  {
   "cell_type": "markdown",
   "id": "anonymous-iraqi",
   "metadata": {},
   "source": [
    "- 공백문자 종류"
   ]
  },
  {
   "cell_type": "code",
   "execution_count": null,
   "id": "architectural-heater",
   "metadata": {},
   "outputs": [],
   "source": [
    "print(\"사회적 거리두기\") # space\n",
    "print('--------------------------') # tab\n",
    "print(\"사회적\\t거리두기\")\n",
    "print('--------------------------')\n",
    "print(\"사회적\\n거리두기\") # line feed\n",
    "print('--------------------------')\n",
    "print(\"사회적\\r거리두기\") # carriage return"
   ]
  },
  {
   "cell_type": "code",
   "execution_count": 237,
   "id": "controlling-class",
   "metadata": {},
   "outputs": [
    {
     "name": "stdout",
     "output_type": "stream",
     "text": [
      "여기는 안나옴 사실 중간이었어 \r",
      "사실뒤에있었어\n"
     ]
    }
   ],
   "source": [
    "print(\"여기는 안나옴 사실 중간이었어 \\r사실뒤에있었어\")"
   ]
  },
  {
   "cell_type": "code",
   "execution_count": 236,
   "id": "variable-september",
   "metadata": {},
   "outputs": [
    {
     "name": "stdout",
     "output_type": "stream",
     "text": [
      "여기는 안나옴 \n",
      "사실 중간이었어 \r",
      "사실뒤에있었어\n"
     ]
    }
   ],
   "source": [
    "print(\"여기는 안나옴 \\n사실 중간이었어 \\r사실뒤에있었어\")"
   ]
  },
  {
   "cell_type": "code",
   "execution_count": null,
   "id": "broad-demographic",
   "metadata": {},
   "outputs": [],
   "source": [
    "txt = \"      Strip white spaces.      \"\n",
    "print('[{}]'.format(txt))\n",
    "print('--------------------------')\n",
    "\n",
    "#- 양쪽 공백 제거 : strip()\n",
    "print('[{}]'.format(txt.strip()))\n",
    "print('--------------------------')\n",
    "\n",
    "#- 왼쪽 공백 제거 : lstrip()\n",
    "print('[{}]'.format(txt.lstrip()))\n",
    "print('--------------------------')\n",
    "\n",
    "#- 오른쪽 공백 제거 : rstrip()\n",
    "print('[{}]'.format(txt.rstrip()))"
   ]
  },
  {
   "cell_type": "markdown",
   "id": "crucial-duration",
   "metadata": {},
   "source": [
    "### 대소문자 관련\n"
   ]
  },
  {
   "cell_type": "code",
   "execution_count": null,
   "id": "perceived-plumbing",
   "metadata": {},
   "outputs": [],
   "source": [
    "#- 모든 문자를 대문자로 변환 : upper()\n",
    "txt = \"I fell into AIFFEL\"\n",
    "txt.upper()"
   ]
  },
  {
   "cell_type": "code",
   "execution_count": null,
   "id": "valuable-yesterday",
   "metadata": {},
   "outputs": [],
   "source": [
    "txt.lower()"
   ]
  },
  {
   "cell_type": "code",
   "execution_count": null,
   "id": "everyday-southeast",
   "metadata": {},
   "outputs": [],
   "source": [
    "txt.capitalize()"
   ]
  },
  {
   "cell_type": "markdown",
   "id": "reliable-northeast",
   "metadata": {},
   "source": [
    "### isX methods"
   ]
  },
  {
   "cell_type": "code",
   "execution_count": null,
   "id": "auburn-compact",
   "metadata": {},
   "outputs": [],
   "source": [
    "print(\"aiffel\".isupper()) # 모두 대문자면 True 반환\n",
    "print(\"aiffel\".islower()) # 모두 소문자면 True 반환\n",
    "print(\"PYTHON\".istitle()) # 문자열의 모든 첫 글자가 대문자면 True 반환\n",
    "print(\"python101\".isalpha()) # 모두 알파벳이면 True 반환\n",
    "print(\"python101\".isalnum()) # 모두 알파벳 혹은 숫자로만 쓰여져 있으면 True 반환\n",
    "print(\"101\".isdecimal()) # 모두 숫자면 True 반환"
   ]
  },
  {
   "cell_type": "code",
   "execution_count": null,
   "id": "round-refrigerator",
   "metadata": {},
   "outputs": [],
   "source": [
    "\"Python it's me\".istitle()"
   ]
  },
  {
   "cell_type": "markdown",
   "id": "engaged-brunei",
   "metadata": {},
   "source": [
    "### join()과 split()"
   ]
  },
  {
   "cell_type": "code",
   "execution_count": null,
   "id": "expensive-trailer",
   "metadata": {},
   "outputs": [],
   "source": [
    "#- join()\n",
    "stages = ['fundamentals', 'exploration', 'goingdeeper']\n",
    "\",\".join(stages)"
   ]
  },
  {
   "cell_type": "code",
   "execution_count": null,
   "id": "breeding-metabolism",
   "metadata": {},
   "outputs": [],
   "source": [
    "introduction = ['Hi','my','name','is','DJ.', 'Nice', 'to', 'meet', 'you']\n",
    "introduction"
   ]
  },
  {
   "cell_type": "code",
   "execution_count": null,
   "id": "requested-chase",
   "metadata": {},
   "outputs": [],
   "source": [
    "\" \".join(introduction)"
   ]
  },
  {
   "cell_type": "code",
   "execution_count": null,
   "id": "nutritional-workshop",
   "metadata": {},
   "outputs": [],
   "source": [
    "#- split()\n",
    "'fundamentals,exploration,goingdeeper'.split(',')"
   ]
  },
  {
   "cell_type": "code",
   "execution_count": null,
   "id": "lightweight-optics",
   "metadata": {},
   "outputs": [],
   "source": [
    "\" \".join(introduction).split()\n",
    "# split()은 리스트를 반환함"
   ]
  },
  {
   "cell_type": "markdown",
   "id": "random-tokyo",
   "metadata": {},
   "source": [
    "### replace()\n"
   ]
  },
  {
   "cell_type": "code",
   "execution_count": null,
   "id": "foster-grass",
   "metadata": {},
   "outputs": [],
   "source": [
    "sent = 'I can do it!'\n",
    "sent.replace('I', 'You')"
   ]
  },
  {
   "cell_type": "code",
   "execution_count": null,
   "id": "broke-fisher",
   "metadata": {},
   "outputs": [],
   "source": [
    "id(sent)"
   ]
  },
  {
   "cell_type": "code",
   "execution_count": null,
   "id": "baking-focus",
   "metadata": {},
   "outputs": [],
   "source": [
    "a = 10\n",
    "id(a)"
   ]
  },
  {
   "cell_type": "code",
   "execution_count": null,
   "id": "subsequent-sound",
   "metadata": {},
   "outputs": [],
   "source": [
    "a = 11\n",
    "id(a)"
   ]
  },
  {
   "cell_type": "code",
   "execution_count": null,
   "id": "floral-generation",
   "metadata": {},
   "outputs": [],
   "source": [
    "a = 10\n",
    "id(a)"
   ]
  },
  {
   "cell_type": "markdown",
   "id": "healthy-scratch",
   "metadata": {},
   "source": [
    "### 'I fell into AIFFEL' 전부 대문자로 바꾸면서 객체도 확인해보기"
   ]
  },
  {
   "cell_type": "code",
   "execution_count": null,
   "id": "electrical-sender",
   "metadata": {},
   "outputs": [],
   "source": [
    "sent = 'I fell into AIFEL'\n",
    "print(sent)\n",
    "print(id(sent))\n",
    "sent.upper()\n",
    "print(sent)\n",
    "print(id(sent))"
   ]
  },
  {
   "cell_type": "code",
   "execution_count": null,
   "id": "greenhouse-decision",
   "metadata": {},
   "outputs": [],
   "source": [
    "sent = 'I fell into AIFFEL'\n",
    "print(sent)\n",
    "print(id(sent))\n",
    "sent = sent.upper()\n",
    "print(sent)\n",
    "print(id(sent))"
   ]
  },
  {
   "cell_type": "code",
   "execution_count": null,
   "id": "awful-garbage",
   "metadata": {},
   "outputs": [],
   "source": [
    "id(sent)"
   ]
  },
  {
   "cell_type": "markdown",
   "id": "fossil-consideration",
   "metadata": {},
   "source": [
    "## 7-4. 텍스트 데이터를 문자열로 저장한다는 것 (3) 정규 표현식"
   ]
  },
  {
   "cell_type": "markdown",
   "id": "persistent-american",
   "metadata": {},
   "source": [
    "- 문자열 vs 정규표현식"
   ]
  },
  {
   "cell_type": "code",
   "execution_count": 161,
   "id": "verified-wallpaper",
   "metadata": {},
   "outputs": [
    {
     "name": "stdout",
     "output_type": "stream",
     "text": [
      "You can do it!\n",
      "139673680134832\n",
      "139673680137264\n",
      "139673680194096\n"
     ]
    }
   ],
   "source": [
    "sent = 'I can do it!'\n",
    "rep = sent.replace(\"I\", \"You\")\n",
    "print(rep)\n",
    "\n",
    "print(id(sent))\n",
    "print(id('I can do it!'))\n",
    "print(id(rep))"
   ]
  },
  {
   "cell_type": "markdown",
   "id": "durable-oxygen",
   "metadata": {},
   "source": [
    "- 정규표현식 이용하기"
   ]
  },
  {
   "cell_type": "code",
   "execution_count": 162,
   "id": "placed-sierra",
   "metadata": {},
   "outputs": [
    {
     "data": {
      "text/plain": [
       "'You can do it!'"
      ]
     },
     "execution_count": 162,
     "metadata": {},
     "output_type": "execute_result"
    }
   ],
   "source": [
    "import re\n",
    "sent = 'I can do it!'\n",
    "pattern = re.sub('I', 'You', sent)\n",
    "pattern"
   ]
  },
  {
   "cell_type": "markdown",
   "id": "homeless-operator",
   "metadata": {},
   "source": [
    "### 정규표현식 시작하기"
   ]
  },
  {
   "cell_type": "code",
   "execution_count": 163,
   "id": "configured-operator",
   "metadata": {},
   "outputs": [
    {
     "data": {
      "text/plain": [
       "['the', 'the', 'the']"
      ]
     },
     "execution_count": 163,
     "metadata": {},
     "output_type": "execute_result"
    }
   ],
   "source": [
    "# import re\n",
    "import re\n",
    "\n",
    "# compile() : 패턴 찾기\n",
    "\n",
    "#1단계 :  \"the\"라는 패턴을 컴파일한 후 패턴 객체를 리턴합니다. \n",
    "pattern = re.compile(\"the\")    \n",
    "\n",
    "# 2단계 : 컴파일된 패턴 객체를 활용하여 다른 텍스트에서 검색을 수행합니다.\n",
    "pattern.findall('of the people, for the people, by the people')"
   ]
  },
  {
   "cell_type": "code",
   "execution_count": 164,
   "id": "collectible-incidence",
   "metadata": {},
   "outputs": [
    {
     "data": {
      "text/plain": [
       "['the', 'the', 'the']"
      ]
     },
     "execution_count": 164,
     "metadata": {},
     "output_type": "execute_result"
    }
   ],
   "source": [
    "# 명시적으로 compile() 호출 안 하고 해도 됨\n",
    "re.findall('the', 'of the people, for the people, by the people')"
   ]
  },
  {
   "cell_type": "code",
   "execution_count": 165,
   "id": "authorized-training",
   "metadata": {},
   "outputs": [
    {
     "data": {
      "text/plain": [
       "re.compile(r'the', re.UNICODE)"
      ]
     },
     "execution_count": 165,
     "metadata": {},
     "output_type": "execute_result"
    }
   ],
   "source": [
    "pattern"
   ]
  },
  {
   "cell_type": "markdown",
   "id": "bored-negative",
   "metadata": {},
   "source": [
    "### 메소드"
   ]
  },
  {
   "cell_type": "code",
   "execution_count": 166,
   "id": "celtic-parks",
   "metadata": {},
   "outputs": [
    {
     "name": "stdout",
     "output_type": "stream",
     "text": [
      "<re.Match object; span=(0, 2), match='My'>\n",
      "My\n"
     ]
    }
   ],
   "source": [
    "src = \"My name is...\"\n",
    "regex = re.match(\"My\", src)\n",
    "print(regex)\n",
    "if regex:\n",
    "    print(regex.group())\n",
    "else:\n",
    "    print(\"No!\")"
   ]
  },
  {
   "cell_type": "code",
   "execution_count": 167,
   "id": "south-helicopter",
   "metadata": {},
   "outputs": [],
   "source": [
    "text = \"Hello, I'm DJ and my email is moondeokjong@gmail.com\"\n",
    "regex = re.match(\"DJ\", text)"
   ]
  },
  {
   "cell_type": "code",
   "execution_count": 168,
   "id": "typical-perfume",
   "metadata": {},
   "outputs": [
    {
     "data": {
      "text/plain": [
       "<re.Match object; span=(0, 17), match='The rain in Spain'>"
      ]
     },
     "execution_count": 168,
     "metadata": {},
     "output_type": "execute_result"
    }
   ],
   "source": [
    "import re\n",
    "\n",
    "\n",
    "txt = \"The rain in Spain\"\n",
    "x = re.search(\"^The.*Spain$\", txt) # Search the string to see if it starts with \"The\" and ends with \"Spain\"\n",
    "x"
   ]
  },
  {
   "cell_type": "code",
   "execution_count": 169,
   "id": "incident-revolution",
   "metadata": {},
   "outputs": [
    {
     "data": {
      "text/plain": [
       "<re.Match object; span=(0, 3), match='The'>"
      ]
     },
     "execution_count": 169,
     "metadata": {},
     "output_type": "execute_result"
    }
   ],
   "source": [
    "new_re = re.match('The', txt)\n",
    "new_re"
   ]
  },
  {
   "cell_type": "code",
   "execution_count": 170,
   "id": "biblical-chicken",
   "metadata": {},
   "outputs": [
    {
     "data": {
      "text/plain": [
       "'The'"
      ]
     },
     "execution_count": 170,
     "metadata": {},
     "output_type": "execute_result"
    }
   ],
   "source": [
    "new_re.group()"
   ]
  },
  {
   "cell_type": "code",
   "execution_count": 171,
   "id": "about-niger",
   "metadata": {},
   "outputs": [
    {
     "data": {
      "text/plain": [
       "'The rain in Spain'"
      ]
     },
     "execution_count": 171,
     "metadata": {},
     "output_type": "execute_result"
    }
   ],
   "source": [
    "x.group()"
   ]
  },
  {
   "cell_type": "code",
   "execution_count": 172,
   "id": "ruled-graduate",
   "metadata": {},
   "outputs": [
    {
     "data": {
      "text/plain": [
       "\"Hello, I'm DJ and my email is moondeokjong@gmail.com\""
      ]
     },
     "execution_count": 172,
     "metadata": {},
     "output_type": "execute_result"
    }
   ],
   "source": [
    "text"
   ]
  },
  {
   "cell_type": "code",
   "execution_count": 173,
   "id": "patient-title",
   "metadata": {},
   "outputs": [
    {
     "data": {
      "text/plain": [
       "['Hello,', \"I'm\", 'DJ', 'and', 'my', 'email', 'is', 'moondeokjong@gmail.com']"
      ]
     },
     "execution_count": 173,
     "metadata": {},
     "output_type": "execute_result"
    }
   ],
   "source": [
    "re.split(' ', text)"
   ]
  },
  {
   "cell_type": "markdown",
   "id": "industrial-eleven",
   "metadata": {},
   "source": [
    "### 패턴 : 특수문자, 메타 문자\n",
    "- 예제"
   ]
  },
  {
   "cell_type": "code",
   "execution_count": 174,
   "id": "gross-variance",
   "metadata": {},
   "outputs": [
    {
     "data": {
      "text/plain": [
       "['1993', '1995', '2019', '2000', '2002', '2013', '2015', '2017']"
      ]
     },
     "execution_count": 174,
     "metadata": {},
     "output_type": "execute_result"
    }
   ],
   "source": [
    "#- 연도(숫자)\n",
    "text = \"\"\"\n",
    "The first season of America Premiere League  was played in 1993. \n",
    "The second season was played in 1995 in South Africa. \n",
    "Last season was played in 2019 and won by Chennai Super Kings (CSK).\n",
    "CSK won the title in 2000 and 2002 as well.\n",
    "Mumbai Indians (MI) has also won the title 3 times in 2013, 2015 and 2017.\n",
    "\"\"\"\n",
    "pattern = re.compile(\"[1-2]\\d\\d\\d\")\n",
    "pattern.findall(text)"
   ]
  },
  {
   "cell_type": "code",
   "execution_count": 175,
   "id": "bizarre-start",
   "metadata": {},
   "outputs": [
    {
     "name": "stdout",
     "output_type": "stream",
     "text": [
      "010-111-1111\n",
      "------\n"
     ]
    }
   ],
   "source": [
    "#- 전화번호(숫자, 기호)\n",
    "phonenumber = re.compile(r'\\d\\d\\d-\\d\\d\\d-\\d\\d\\d\\d')\n",
    "phone = phonenumber.search('This is my phone number 010-111-1111')\n",
    "if phone:\n",
    "    print(phone.group())\n",
    "print('------')\n",
    "phone = phonenumber.match ('This is my phone number 010-111-1111')\n",
    "if phone:\n",
    "    print(phone.group())"
   ]
  },
  {
   "cell_type": "code",
   "execution_count": 176,
   "id": "wound-andrew",
   "metadata": {},
   "outputs": [
    {
     "data": {
      "text/plain": [
       "NoneType"
      ]
     },
     "execution_count": 176,
     "metadata": {},
     "output_type": "execute_result"
    }
   ],
   "source": [
    "type(phone)"
   ]
  },
  {
   "cell_type": "markdown",
   "id": "angry-demonstration",
   "metadata": {},
   "source": [
    "#### '\\d{3}-\\d{3}-\\d{4}' 로 번호 표현하기"
   ]
  },
  {
   "cell_type": "code",
   "execution_count": 177,
   "id": "complimentary-assets",
   "metadata": {},
   "outputs": [
    {
     "name": "stdout",
     "output_type": "stream",
     "text": [
      "010-111-1111\n",
      "------\n"
     ]
    }
   ],
   "source": [
    "#- 전화번호(숫자, 기호)\n",
    "phonenumber = re.compile(r'\\d{3}-\\d{3}-\\d{4}')\n",
    "phone = phonenumber.search('This is my phone number 010-111-1111')\n",
    "if phone:\n",
    "  print(phone.group())\n",
    "print('------')\n",
    "phone = phonenumber.match ('This is my phone number 010-111-1111')\n",
    "if phone:\n",
    "  print(phone.group())"
   ]
  },
  {
   "cell_type": "markdown",
   "id": "partial-gateway",
   "metadata": {},
   "source": [
    "####  '(\\d{3}-){2}\\d{4}' 로 번호 표현하기"
   ]
  },
  {
   "cell_type": "code",
   "execution_count": 178,
   "id": "optical-banana",
   "metadata": {},
   "outputs": [
    {
     "name": "stdout",
     "output_type": "stream",
     "text": [
      "010-111-1111\n",
      "------\n"
     ]
    }
   ],
   "source": [
    "#- 전화번호(숫자, 기호)\n",
    "phonenumber = re.compile(r'(\\d{3}-){2}\\d{4}')\n",
    "phone = phonenumber.search('This is my phone number 010-111-1111')\n",
    "if phone:\n",
    "  print(phone.group())\n",
    "print('------')\n",
    "phone = phonenumber.match ('This is my phone number 010-111-1111')\n",
    "if phone:\n",
    "  print(phone.group())"
   ]
  },
  {
   "cell_type": "code",
   "execution_count": 179,
   "id": "faced-fluid",
   "metadata": {},
   "outputs": [
    {
     "name": "stdout",
     "output_type": "stream",
     "text": [
      "010-8846-1153\n"
     ]
    }
   ],
   "source": [
    "number = re.compile(r'\\d{3}(-\\d{4}){2}')\n",
    "li = number.search(\"my number is 010-8846-1153\")\n",
    "if li:\n",
    "    print(li.group())"
   ]
  },
  {
   "cell_type": "code",
   "execution_count": 180,
   "id": "third-cannon",
   "metadata": {},
   "outputs": [
    {
     "data": {
      "text/plain": [
       "['doingharu@aiffel.com', 'tomorrow@aiffel.com']"
      ]
     },
     "execution_count": 180,
     "metadata": {},
     "output_type": "execute_result"
    }
   ],
   "source": [
    "#- 이메일(알파벳, 숫자, 기호)\n",
    "text = \"My e-mail adress is doingharu@aiffel.com, and tomorrow@aiffel.com\"\n",
    "pattern = re.compile(\"[0-9a-zA-Z]+@[0-9a-z]+\\.[0-9a-z]+\")\n",
    "pattern.findall(text)"
   ]
  },
  {
   "cell_type": "code",
   "execution_count": 181,
   "id": "timely-orbit",
   "metadata": {},
   "outputs": [
    {
     "data": {
      "text/plain": [
       "re.Pattern"
      ]
     },
     "execution_count": 181,
     "metadata": {},
     "output_type": "execute_result"
    }
   ],
   "source": [
    "type(pattern)"
   ]
  },
  {
   "cell_type": "code",
   "execution_count": 182,
   "id": "narrow-asthma",
   "metadata": {},
   "outputs": [
    {
     "data": {
      "text/plain": [
       "re.Match"
      ]
     },
     "execution_count": 182,
     "metadata": {},
     "output_type": "execute_result"
    }
   ],
   "source": [
    "type(li)"
   ]
  },
  {
   "cell_type": "markdown",
   "id": "moderate-track",
   "metadata": {},
   "source": [
    "## 7-5. 파일과 디렉터리 (1) 파일"
   ]
  },
  {
   "cell_type": "markdown",
   "id": "ruled-norfolk",
   "metadata": {},
   "source": [
    "### 파일 - write"
   ]
  },
  {
   "cell_type": "code",
   "execution_count": 183,
   "id": "urban-breast",
   "metadata": {},
   "outputs": [
    {
     "name": "stdout",
     "output_type": "stream",
     "text": [
      "완료!\n"
     ]
    }
   ],
   "source": [
    "f = open(\"hello.txt\",\"w\") \n",
    "#- open(파일명, 파일모드)\n",
    "#- 파일을 열고 파일 객체를 반환합니다. \n",
    "for i in range(10):\n",
    "    f.write(\"안녕\")\n",
    "    #- write() 메서드로 '안녕'을 10번 씁니다.\n",
    "f.close()\n",
    "#- 작업이 끝나면 close() 메서드로 닫아줍니다. *필수!\n",
    "\n",
    "print(\"완료!\")"
   ]
  },
  {
   "cell_type": "markdown",
   "id": "artificial-cause",
   "metadata": {},
   "source": [
    "### 파일 - read"
   ]
  },
  {
   "cell_type": "code",
   "execution_count": 184,
   "id": "blond-marriage",
   "metadata": {},
   "outputs": [
    {
     "name": "stdout",
     "output_type": "stream",
     "text": [
      "안녕안녕안녕안녕안녕안녕안녕안녕안녕안녕\n"
     ]
    }
   ],
   "source": [
    "with open(\"hello.txt\", \"r\") as f:\n",
    "    print(f.read())"
   ]
  },
  {
   "cell_type": "markdown",
   "id": "insured-terminal",
   "metadata": {},
   "source": [
    "## 예제\n",
    "- f.read() : 읽기\n",
    "- f.readline() : 한 줄씩 읽기\n",
    "- f.readlines() : 모든 줄을 읽어서 리스트로 반환\n",
    "- f.write(str) : 쓰기, 문자열을\n",
    "- f.writelines(str) : 한 줄씩 쓰기, 문자열을\n",
    "- f.close() : 닫기\n",
    "- f.seek(offset) : offset을 찾아 커서를 옮긴다. 파일의 처음 커서 위치는 0\n",
    "- f.tell() : 커서 위치 옮기기"
   ]
  },
  {
   "cell_type": "code",
   "execution_count": 185,
   "id": "ordered-greenhouse",
   "metadata": {},
   "outputs": [],
   "source": [
    "quotes = [\"\\n안녕하세요.\\n\", \"반갑습니다.\\n\", \"오랫만입니다.\\n\"]\n",
    "\n",
    "with open(\"hello.txt\", \"a\") as f:              # 위에서 만든 파일에 이어서 씁니다. \n",
    "    f.writelines(quotes)"
   ]
  },
  {
   "cell_type": "code",
   "execution_count": 186,
   "id": "alien-apparel",
   "metadata": {},
   "outputs": [
    {
     "name": "stdout",
     "output_type": "stream",
     "text": [
      "위치 : 115\n",
      "['안녕안녕안녕안녕안녕안녕안녕안녕안녕안녕\\n', '안녕하세요.\\n', '반갑습니다.\\n', '오랫만입니다.\\n']\n",
      "----------------------------------------------------\n",
      "위치 : 10\n"
     ]
    }
   ],
   "source": [
    "with open('hello.txt', 'r') as f:\n",
    "    hello = f.readlines()\n",
    "    print(f'위치 : {f.tell()}')\n",
    "    print(hello)\n",
    "    print(\"----------------------------------------------------\")\n",
    "    f.seek(10)\n",
    "    print(f'위치 : {f.tell()}')"
   ]
  },
  {
   "cell_type": "code",
   "execution_count": 187,
   "id": "according-armstrong",
   "metadata": {},
   "outputs": [
    {
     "data": {
      "text/plain": [
       "['안녕안녕안녕안녕안녕안녕안녕안녕안녕안녕\\n', '안녕하세요.\\n', '반갑습니다.\\n', '오랫만입니다.\\n']"
      ]
     },
     "execution_count": 187,
     "metadata": {},
     "output_type": "execute_result"
    }
   ],
   "source": [
    "hello"
   ]
  },
  {
   "cell_type": "code",
   "execution_count": 188,
   "id": "loving-corner",
   "metadata": {},
   "outputs": [],
   "source": [
    "f = open('workfile.txt', 'w')"
   ]
  },
  {
   "cell_type": "code",
   "execution_count": 189,
   "id": "australian-pasta",
   "metadata": {},
   "outputs": [
    {
     "data": {
      "text/plain": [
       "16"
      ]
     },
     "execution_count": 189,
     "metadata": {},
     "output_type": "execute_result"
    }
   ],
   "source": [
    "f.write('0123456789abcdef')"
   ]
  },
  {
   "cell_type": "code",
   "execution_count": 190,
   "id": "oriented-logic",
   "metadata": {},
   "outputs": [
    {
     "data": {
      "text/plain": [
       "5"
      ]
     },
     "execution_count": 190,
     "metadata": {},
     "output_type": "execute_result"
    }
   ],
   "source": [
    "f.seek(5)"
   ]
  },
  {
   "cell_type": "code",
   "execution_count": 191,
   "id": "dental-kitty",
   "metadata": {},
   "outputs": [
    {
     "data": {
      "text/plain": [
       "10"
      ]
     },
     "execution_count": 191,
     "metadata": {},
     "output_type": "execute_result"
    }
   ],
   "source": [
    "f.seek(a)"
   ]
  },
  {
   "cell_type": "code",
   "execution_count": 192,
   "id": "union-relations",
   "metadata": {},
   "outputs": [],
   "source": [
    "f.close()"
   ]
  },
  {
   "cell_type": "code",
   "execution_count": null,
   "id": "proved-explanation",
   "metadata": {},
   "outputs": [],
   "source": []
  },
  {
   "cell_type": "markdown",
   "id": "welsh-ozone",
   "metadata": {},
   "source": [
    "## 7-7. 파일과 디렉터리 (3) 모듈과 패키지\n"
   ]
  },
  {
   "cell_type": "markdown",
   "id": "verified-committee",
   "metadata": {},
   "source": [
    "디렉토리 관련 표준 라이브러리\n",
    "- sys\n",
    "- os\n",
    "- glob"
   ]
  },
  {
   "cell_type": "code",
   "execution_count": 193,
   "id": "southern-design",
   "metadata": {},
   "outputs": [
    {
     "data": {
      "text/plain": [
       "'/opt/conda/bin/python'"
      ]
     },
     "execution_count": 193,
     "metadata": {},
     "output_type": "execute_result"
    }
   ],
   "source": [
    "#- 현재 실행되고 있는 파이썬 실행 파일의 디렉터리를 반환합니다.\n",
    "import sys\n",
    "sys.executable"
   ]
  },
  {
   "cell_type": "code",
   "execution_count": 194,
   "id": "champion-corps",
   "metadata": {},
   "outputs": [
    {
     "data": {
      "text/plain": [
       "['/aiffel/aiffel/python_basics',\n",
       " '/aiffel/storage/package',\n",
       " '/opt/conda/lib/python37.zip',\n",
       " '/opt/conda/lib/python3.7',\n",
       " '/opt/conda/lib/python3.7/lib-dynload',\n",
       " '',\n",
       " '/opt/conda/lib/python3.7/site-packages',\n",
       " '/opt/conda/lib/python3.7/site-packages/IPython/extensions',\n",
       " '/aiffel/.ipython']"
      ]
     },
     "execution_count": 194,
     "metadata": {},
     "output_type": "execute_result"
    }
   ],
   "source": [
    "#- 임포트할 때 불러 오는 모듈들이 위치한 경로입니다.\n",
    "sys.path"
   ]
  },
  {
   "cell_type": "code",
   "execution_count": 195,
   "id": "aging-victory",
   "metadata": {},
   "outputs": [
    {
     "data": {
      "text/plain": [
       "'/aiffel/aiffel/python_basics'"
      ]
     },
     "execution_count": 195,
     "metadata": {},
     "output_type": "execute_result"
    }
   ],
   "source": [
    "os.getcwd()"
   ]
  },
  {
   "cell_type": "code",
   "execution_count": 198,
   "id": "seeing-johnston",
   "metadata": {},
   "outputs": [],
   "source": [
    "os.mkdir('test')"
   ]
  },
  {
   "cell_type": "code",
   "execution_count": 199,
   "id": "complete-baseball",
   "metadata": {},
   "outputs": [],
   "source": [
    "os.rmdir('test')"
   ]
  },
  {
   "cell_type": "code",
   "execution_count": 200,
   "id": "unusual-subcommittee",
   "metadata": {},
   "outputs": [
    {
     "data": {
      "text/plain": [
       "['Node 7. Strings.ipynb',\n",
       " 'workfile.txt',\n",
       " '.ipynb_checkpoints',\n",
       " 'Node_6_python_basics.ipynb',\n",
       " 'hello.txt']"
      ]
     },
     "execution_count": 200,
     "metadata": {},
     "output_type": "execute_result"
    }
   ],
   "source": [
    "os.listdir(os.getcwd())"
   ]
  },
  {
   "cell_type": "code",
   "execution_count": 201,
   "id": "synthetic-tobago",
   "metadata": {},
   "outputs": [
    {
     "data": {
      "text/plain": [
       "'/aiffel/aiffel/python_basics'"
      ]
     },
     "execution_count": 201,
     "metadata": {},
     "output_type": "execute_result"
    }
   ],
   "source": [
    "os.getcwd()"
   ]
  },
  {
   "cell_type": "code",
   "execution_count": 204,
   "id": "renewable-movie",
   "metadata": {},
   "outputs": [
    {
     "data": {
      "text/plain": [
       "True"
      ]
     },
     "execution_count": 204,
     "metadata": {},
     "output_type": "execute_result"
    }
   ],
   "source": [
    "os.path.exists('hello.txt')"
   ]
  },
  {
   "cell_type": "code",
   "execution_count": 205,
   "id": "sealed-nation",
   "metadata": {},
   "outputs": [
    {
     "data": {
      "text/plain": [
       "True"
      ]
     },
     "execution_count": 205,
     "metadata": {},
     "output_type": "execute_result"
    }
   ],
   "source": [
    "os.path.isfile('hello.txt')"
   ]
  },
  {
   "cell_type": "code",
   "execution_count": 207,
   "id": "stuck-batch",
   "metadata": {},
   "outputs": [
    {
     "data": {
      "text/plain": [
       "False"
      ]
     },
     "execution_count": 207,
     "metadata": {},
     "output_type": "execute_result"
    }
   ],
   "source": [
    "os.path.isdir('hello.txt')"
   ]
  },
  {
   "cell_type": "code",
   "execution_count": 208,
   "id": "collectible-draft",
   "metadata": {},
   "outputs": [
    {
     "data": {
      "text/plain": [
       "False"
      ]
     },
     "execution_count": 208,
     "metadata": {},
     "output_type": "execute_result"
    }
   ],
   "source": [
    "os.path.isdir('python_basics')"
   ]
  },
  {
   "cell_type": "code",
   "execution_count": 209,
   "id": "hearing-trading",
   "metadata": {},
   "outputs": [],
   "source": [
    "os.chdir('/aiffel')"
   ]
  },
  {
   "cell_type": "code",
   "execution_count": 211,
   "id": "unlimited-marker",
   "metadata": {},
   "outputs": [
    {
     "data": {
      "text/plain": [
       "'/aiffel'"
      ]
     },
     "execution_count": 211,
     "metadata": {},
     "output_type": "execute_result"
    }
   ],
   "source": [
    "os.getcwd()"
   ]
  },
  {
   "cell_type": "code",
   "execution_count": 212,
   "id": "lesser-indonesia",
   "metadata": {},
   "outputs": [
    {
     "data": {
      "text/plain": [
       "False"
      ]
     },
     "execution_count": 212,
     "metadata": {},
     "output_type": "execute_result"
    }
   ],
   "source": [
    "os.path.isdir('python_basics')"
   ]
  },
  {
   "cell_type": "code",
   "execution_count": 213,
   "id": "adjustable-horse",
   "metadata": {},
   "outputs": [
    {
     "data": {
      "text/plain": [
       "['aiffel',\n",
       " 'hello.txt',\n",
       " '.local',\n",
       " '.ipython',\n",
       " 'data',\n",
       " '.cache',\n",
       " '.conda',\n",
       " '.wget-hsts',\n",
       " '.jupyter']"
      ]
     },
     "execution_count": 213,
     "metadata": {},
     "output_type": "execute_result"
    }
   ],
   "source": [
    "os.listdir()"
   ]
  },
  {
   "cell_type": "code",
   "execution_count": 219,
   "id": "demanding-diagnosis",
   "metadata": {},
   "outputs": [
    {
     "ename": "FileNotFoundError",
     "evalue": "[Errno 2] No such file or directory: '/python_basics'",
     "output_type": "error",
     "traceback": [
      "\u001b[0;31m---------------------------------------------------------------------------\u001b[0m",
      "\u001b[0;31mFileNotFoundError\u001b[0m                         Traceback (most recent call last)",
      "\u001b[0;32m<ipython-input-219-a539f9a95500>\u001b[0m in \u001b[0;36m<module>\u001b[0;34m\u001b[0m\n\u001b[0;32m----> 1\u001b[0;31m \u001b[0mos\u001b[0m\u001b[0;34m.\u001b[0m\u001b[0mchdir\u001b[0m\u001b[0;34m(\u001b[0m\u001b[0;34m'/python_basics'\u001b[0m\u001b[0;34m)\u001b[0m\u001b[0;34m\u001b[0m\u001b[0;34m\u001b[0m\u001b[0m\n\u001b[0m",
      "\u001b[0;31mFileNotFoundError\u001b[0m: [Errno 2] No such file or directory: '/python_basics'"
     ]
    }
   ],
   "source": [
    "os.chdir('/python_basics')"
   ]
  },
  {
   "cell_type": "code",
   "execution_count": 220,
   "id": "imperial-punishment",
   "metadata": {},
   "outputs": [
    {
     "data": {
      "text/plain": [
       "'/aiffel/aiffel/python_basics'"
      ]
     },
     "execution_count": 220,
     "metadata": {},
     "output_type": "execute_result"
    }
   ],
   "source": [
    "os.getcwd()"
   ]
  },
  {
   "cell_type": "markdown",
   "id": "resistant-handbook",
   "metadata": {},
   "source": [
    "## 7-8. 여러가지 파일 포맷 다루기 (1) CSV 파일\n"
   ]
  },
  {
   "cell_type": "code",
   "execution_count": 221,
   "id": "distributed-convert",
   "metadata": {},
   "outputs": [
    {
     "name": "stdout",
     "output_type": "stream",
     "text": [
      "슝~\n"
     ]
    }
   ],
   "source": [
    "billboardchart = {\n",
    "  \t\t\t\t 1 : [\"Tho Box\",\"Roddy Ricch\",\"2019-12-19\"],\n",
    "                 2 : [\"Don't Start Now\", \"Dua Lipa\", \"2019-11-01\"],\n",
    "                 3 : [\"Life Is Good\", \"Future Featuring Drake\", \"2020-02-10\"],\n",
    "                 4 : [\"Blinding\", \"The Weeknd\", \"2019-11-29\"],\n",
    "                 5 : [\"Circles\", \"Post Malone\",\"2019-08-30\"]}\n",
    "\n",
    "with open(\"billboardchart.csv\",\"w\") as f:\n",
    "    for i in billboardchart.values():\n",
    "        data = \",\".join(i)\n",
    "        f.write(data+\"\\n\")\n",
    "\n",
    "print(\"슝~\")"
   ]
  },
  {
   "cell_type": "code",
   "execution_count": 227,
   "id": "suburban-sherman",
   "metadata": {},
   "outputs": [
    {
     "data": {
      "text/plain": [
       "'Circles,Post Malone,2019-08-30'"
      ]
     },
     "execution_count": 227,
     "metadata": {},
     "output_type": "execute_result"
    }
   ],
   "source": [
    "data"
   ]
  },
  {
   "cell_type": "code",
   "execution_count": 223,
   "id": "orange-institute",
   "metadata": {},
   "outputs": [
    {
     "name": "stdout",
     "output_type": "stream",
     "text": [
      "슝~\n"
     ]
    }
   ],
   "source": [
    "import csv\n",
    "\n",
    "header = [\"title\", \"singer\", \"released date\"]\n",
    "\n",
    "with open(\"billboardchart.csv\",\"r\") as inputfile:\n",
    "    with open(\"billboardchart_out.csv\",\"w\", newline='\\n') as outputfile:\n",
    "        fi = csv.reader(inputfile, delimiter=',')\n",
    "        fo = csv.writer(outputfile, delimiter=',')\n",
    "        fo.writerow(header)\n",
    "        for row in fi:\n",
    "            fo.writerow(row)\n",
    "\n",
    "print(\"슝~\")"
   ]
  },
  {
   "cell_type": "code",
   "execution_count": 224,
   "id": "maritime-monster",
   "metadata": {},
   "outputs": [
    {
     "data": {
      "text/plain": [
       "True"
      ]
     },
     "execution_count": 224,
     "metadata": {},
     "output_type": "execute_result"
    }
   ],
   "source": [
    "os.path.isfile('billboardchart.csv')"
   ]
  },
  {
   "cell_type": "code",
   "execution_count": 225,
   "id": "recorded-planet",
   "metadata": {},
   "outputs": [
    {
     "data": {
      "text/html": [
       "<div>\n",
       "<style scoped>\n",
       "    .dataframe tbody tr th:only-of-type {\n",
       "        vertical-align: middle;\n",
       "    }\n",
       "\n",
       "    .dataframe tbody tr th {\n",
       "        vertical-align: top;\n",
       "    }\n",
       "\n",
       "    .dataframe thead th {\n",
       "        text-align: right;\n",
       "    }\n",
       "</style>\n",
       "<table border=\"1\" class=\"dataframe\">\n",
       "  <thead>\n",
       "    <tr style=\"text-align: right;\">\n",
       "      <th></th>\n",
       "      <th>Tho Box</th>\n",
       "      <th>Roddy Ricch</th>\n",
       "      <th>2019-12-19</th>\n",
       "    </tr>\n",
       "  </thead>\n",
       "  <tbody>\n",
       "    <tr>\n",
       "      <th>0</th>\n",
       "      <td>Don't Start Now</td>\n",
       "      <td>Dua Lipa</td>\n",
       "      <td>2019-11-01</td>\n",
       "    </tr>\n",
       "    <tr>\n",
       "      <th>1</th>\n",
       "      <td>Life Is Good</td>\n",
       "      <td>Future Featuring Drake</td>\n",
       "      <td>2020-02-10</td>\n",
       "    </tr>\n",
       "    <tr>\n",
       "      <th>2</th>\n",
       "      <td>Blinding</td>\n",
       "      <td>The Weeknd</td>\n",
       "      <td>2019-11-29</td>\n",
       "    </tr>\n",
       "    <tr>\n",
       "      <th>3</th>\n",
       "      <td>Circles</td>\n",
       "      <td>Post Malone</td>\n",
       "      <td>2019-08-30</td>\n",
       "    </tr>\n",
       "  </tbody>\n",
       "</table>\n",
       "</div>"
      ],
      "text/plain": [
       "           Tho Box             Roddy Ricch  2019-12-19\n",
       "0  Don't Start Now                Dua Lipa  2019-11-01\n",
       "1     Life Is Good  Future Featuring Drake  2020-02-10\n",
       "2         Blinding              The Weeknd  2019-11-29\n",
       "3          Circles             Post Malone  2019-08-30"
      ]
     },
     "execution_count": 225,
     "metadata": {},
     "output_type": "execute_result"
    }
   ],
   "source": [
    "import pandas as pd\n",
    "\n",
    "df = pd.read_csv('billboardchart.csv')\n",
    "df"
   ]
  },
  {
   "cell_type": "markdown",
   "id": "neural-kinase",
   "metadata": {},
   "source": [
    "### CSV와 Pandas"
   ]
  },
  {
   "cell_type": "code",
   "execution_count": 228,
   "id": "broad-consequence",
   "metadata": {},
   "outputs": [
    {
     "name": "stdout",
     "output_type": "stream",
     "text": [
      "슝~\n"
     ]
    }
   ],
   "source": [
    "#- 1. 데이터를 준비합니다.\n",
    "fields = [\"title\", \"singer\", \"released date\"]\n",
    "rows = [ [\"Tho Box\",\"Roddy Ricch\",\"2019-12-19\"],\n",
    "               [\"Don't Start Now\", \"Dua Lipa\", \"2019-11-01\"],\n",
    "               [\"Life Is Good\", \"Future Featuring Drake\", \"2020-02-10\"],\n",
    "               [\"Blinding\", \"The Weeknd\", \"2019-11-29\"],\n",
    "               [\"Circles\", \"Post Malone\",\"2019-08-30\"]]\n",
    "\n",
    "print(\"슝~\")"
   ]
  },
  {
   "cell_type": "code",
   "execution_count": 229,
   "id": "regulation-liverpool",
   "metadata": {},
   "outputs": [
    {
     "name": "stdout",
     "output_type": "stream",
     "text": [
      "슝~\n"
     ]
    }
   ],
   "source": [
    "#- 2. 판다스를 이용해 데이터를 csv 파일로 저장합니다.\n",
    "import pandas as pd\n",
    "\n",
    "df=pd.DataFrame(rows, columns=fields)\n",
    "df.to_csv('pandas.csv',index=False)\n",
    "\n",
    "print(\"슝~\")"
   ]
  },
  {
   "cell_type": "code",
   "execution_count": 230,
   "id": "special-catalog",
   "metadata": {},
   "outputs": [
    {
     "name": "stdout",
     "output_type": "stream",
     "text": [
      "완료\n"
     ]
    }
   ],
   "source": [
    "#- 3. 동일한 내용을 csv.writer를 이용해 수행해 봅니다.\n",
    "import csv \n",
    "\n",
    "filename = \"test.csv\"\n",
    "with open(filename, 'w+', newline='\\n') as csv_file: \n",
    "    csv_writer = csv.writer(csv_file) \n",
    "    csv_writer.writerow(fields) \n",
    "    csv_writer.writerows(rows)\n",
    "\n",
    "print(\"완료\")\n",
    "\n",
    "#- test.csv 파일을 직접 열어서 눈으로 살펴 보세요. -#"
   ]
  },
  {
   "cell_type": "code",
   "execution_count": 234,
   "id": "related-publicity",
   "metadata": {},
   "outputs": [
    {
     "name": "stdout",
     "output_type": "stream",
     "text": [
      "title,singer,released date\n",
      "Tho Box,Roddy Ricch,2019-12-19\n",
      "Don't Start Now,Dua Lipa,2019-11-01\n",
      "Life Is Good,Future Featuring Drake,2020-02-10\n",
      "Blinding,The Weeknd,2019-11-29\n",
      "Circles,Post Malone,2019-08-30\n",
      "\n"
     ]
    }
   ],
   "source": [
    "with open('test.csv', 'r') as f:\n",
    "    print(f.read())"
   ]
  },
  {
   "cell_type": "code",
   "execution_count": 235,
   "id": "noble-consensus",
   "metadata": {},
   "outputs": [
    {
     "data": {
      "text/html": [
       "<div>\n",
       "<style scoped>\n",
       "    .dataframe tbody tr th:only-of-type {\n",
       "        vertical-align: middle;\n",
       "    }\n",
       "\n",
       "    .dataframe tbody tr th {\n",
       "        vertical-align: top;\n",
       "    }\n",
       "\n",
       "    .dataframe thead th {\n",
       "        text-align: right;\n",
       "    }\n",
       "</style>\n",
       "<table border=\"1\" class=\"dataframe\">\n",
       "  <thead>\n",
       "    <tr style=\"text-align: right;\">\n",
       "      <th></th>\n",
       "      <th>title</th>\n",
       "      <th>singer</th>\n",
       "      <th>released date</th>\n",
       "    </tr>\n",
       "  </thead>\n",
       "  <tbody>\n",
       "    <tr>\n",
       "      <th>0</th>\n",
       "      <td>Tho Box</td>\n",
       "      <td>Roddy Ricch</td>\n",
       "      <td>2019-12-19</td>\n",
       "    </tr>\n",
       "    <tr>\n",
       "      <th>1</th>\n",
       "      <td>Don't Start Now</td>\n",
       "      <td>Dua Lipa</td>\n",
       "      <td>2019-11-01</td>\n",
       "    </tr>\n",
       "    <tr>\n",
       "      <th>2</th>\n",
       "      <td>Life Is Good</td>\n",
       "      <td>Future Featuring Drake</td>\n",
       "      <td>2020-02-10</td>\n",
       "    </tr>\n",
       "    <tr>\n",
       "      <th>3</th>\n",
       "      <td>Blinding</td>\n",
       "      <td>The Weeknd</td>\n",
       "      <td>2019-11-29</td>\n",
       "    </tr>\n",
       "    <tr>\n",
       "      <th>4</th>\n",
       "      <td>Circles</td>\n",
       "      <td>Post Malone</td>\n",
       "      <td>2019-08-30</td>\n",
       "    </tr>\n",
       "  </tbody>\n",
       "</table>\n",
       "</div>"
      ],
      "text/plain": [
       "             title                  singer released date\n",
       "0          Tho Box             Roddy Ricch    2019-12-19\n",
       "1  Don't Start Now                Dua Lipa    2019-11-01\n",
       "2     Life Is Good  Future Featuring Drake    2020-02-10\n",
       "3         Blinding              The Weeknd    2019-11-29\n",
       "4          Circles             Post Malone    2019-08-30"
      ]
     },
     "execution_count": 235,
     "metadata": {},
     "output_type": "execute_result"
    }
   ],
   "source": [
    "df = pd.read_csv('pandas.csv')\n",
    "df.head()"
   ]
  },
  {
   "cell_type": "markdown",
   "id": "advised-consensus",
   "metadata": {},
   "source": [
    "## 7-9. 여러가지 파일 포맷 다루기 (2) XML 파일\n"
   ]
  },
  {
   "cell_type": "code",
   "execution_count": 4,
   "id": "confused-silicon",
   "metadata": {},
   "outputs": [
    {
     "name": "stdout",
     "output_type": "stream",
     "text": [
      "<Person><name>이펠</name><age>28</age><place>강남</place></Person>\n"
     ]
    }
   ],
   "source": [
    "import xml.etree.ElementTree as ET\n",
    "\n",
    "person = ET.Element(\"Person\")\n",
    "name = ET.Element(\"name\")\n",
    "name.text = \"이펠\"\n",
    "person.append(name)\n",
    "\n",
    "age = ET.Element(\"age\")\n",
    "age.text = \"28\"\n",
    "person.append(age)\n",
    "\n",
    "ET.SubElement(person, 'place').text = '강남'\n",
    "\n",
    "ET.dump(person)"
   ]
  },
  {
   "cell_type": "code",
   "execution_count": 5,
   "id": "enhanced-viewer",
   "metadata": {},
   "outputs": [
    {
     "name": "stdout",
     "output_type": "stream",
     "text": [
      "<Person id=\"0x0001\"><firstname>이펠</firstname><age>28</age><place>강남</place></Person>\n"
     ]
    }
   ],
   "source": [
    "# person tag에 attribute 넣기\n",
    "person.attrib[\"id\"] = \"0x0001\"\n",
    "\n",
    "# name tag 이름 바꾸기\n",
    "name.tag = \"firstname\"\n",
    "ET.dump(person)"
   ]
  },
  {
   "cell_type": "code",
   "execution_count": 6,
   "id": "former-cheese",
   "metadata": {},
   "outputs": [
    {
     "name": "stdout",
     "output_type": "stream",
     "text": [
      "<Person id=\"0x0001\"><firstname>이펠</firstname><lastname date=\"2020-03-20\">아</lastname><age>28</age><place>강남</place></Person>\n"
     ]
    }
   ],
   "source": [
    "# lastname tag 생성, 속성 date도 넣고\n",
    "lastname = ET.Element('lastname', date='2020-03-20')\n",
    "\n",
    "# lastname에 text 넣기\n",
    "lastname.text = '아'\n",
    "\n",
    "# lastname tag를 person 안에 1번 인덱스(firstname 뒤에 넣기)\n",
    "person.insert(1,lastname)\n",
    "ET.dump(person)"
   ]
  },
  {
   "cell_type": "code",
   "execution_count": 7,
   "id": "published-flush",
   "metadata": {},
   "outputs": [],
   "source": [
    "# tag 지워보기(리스트와 비슷함)\n",
    "person.remove(age)"
   ]
  },
  {
   "cell_type": "code",
   "execution_count": 10,
   "id": "ceramic-handy",
   "metadata": {},
   "outputs": [
    {
     "data": {
      "text/plain": [
       "<Element 'Person' at 0x7ff75c145710>"
      ]
     },
     "execution_count": 10,
     "metadata": {},
     "output_type": "execute_result"
    }
   ],
   "source": [
    "person"
   ]
  },
  {
   "cell_type": "code",
   "execution_count": 11,
   "id": "intimate-armenia",
   "metadata": {},
   "outputs": [
    {
     "name": "stdout",
     "output_type": "stream",
     "text": [
      "<Person id=\"0x0001\"><firstname>이펠</firstname><lastname date=\"2020-03-20\">아</lastname><place>강남</place></Person>\n"
     ]
    }
   ],
   "source": [
    "ET.dump(person) # debugging해서 보여줌"
   ]
  },
  {
   "cell_type": "code",
   "execution_count": 12,
   "id": "korean-remainder",
   "metadata": {},
   "outputs": [],
   "source": [
    "# XML 파일로 저장해보기\n",
    "\n",
    "ET.ElementTree(person).write('person.xml')"
   ]
  },
  {
   "cell_type": "code",
   "execution_count": 13,
   "id": "nutritional-ottawa",
   "metadata": {},
   "outputs": [
    {
     "name": "stdout",
     "output_type": "stream",
     "text": [
      " billboardchart.csv\t\t\t  'Node 7. Strings_csv_xml_json.ipynb'\r\n",
      " billboardchart_out.csv\t\t\t   pandas.csv\r\n",
      " flipped_211229_dic_list_set_tuple.ipynb   person.xml\r\n",
      " hello.txt\t\t\t\t   test.csv\r\n",
      " Node_6_python_basics.ipynb\t\t   workfile.txt\r\n"
     ]
    }
   ],
   "source": [
    "# 확인\n",
    "\n",
    "!ls"
   ]
  },
  {
   "cell_type": "markdown",
   "id": "mexican-farming",
   "metadata": {},
   "source": [
    "## XML 파싱하기"
   ]
  },
  {
   "cell_type": "code",
   "execution_count": null,
   "id": "bottom-tongue",
   "metadata": {},
   "outputs": [],
   "source": []
  },
  {
   "cell_type": "code",
   "execution_count": null,
   "id": "attached-apache",
   "metadata": {},
   "outputs": [],
   "source": []
  },
  {
   "cell_type": "markdown",
   "id": "caring-transport",
   "metadata": {},
   "source": [
    "# 7-10. 여러가지 파일 포맷 다루기 (3) JSON 파일\n"
   ]
  },
  {
   "cell_type": "markdown",
   "id": "russian-implement",
   "metadata": {},
   "source": [
    "#### JSON 파싱\n",
    "- 파이썬 딕셔너리는 json 파일로 저장할 수 있음"
   ]
  },
  {
   "cell_type": "markdown",
   "id": "consolidated-agent",
   "metadata": {},
   "source": [
    "##### (1) JSON 파일 저장\n"
   ]
  },
  {
   "cell_type": "code",
   "execution_count": 18,
   "id": "trying-graphic",
   "metadata": {},
   "outputs": [
    {
     "name": "stdout",
     "output_type": "stream",
     "text": [
      "슝~\n"
     ]
    }
   ],
   "source": [
    "import json\n",
    "\n",
    "person = {\n",
    "      \"first name\" : \"Yuna\",\n",
    "      \"last name\" : \"Jung\",\n",
    "      \"age\" : 33,\n",
    "      \"nationality\" : \"South Korea\",\n",
    "      \"education\" : [{\"degree\":\"B.S degree\", \"university\":\"Daehan university\", \"major\": \"mechanical engineering\", \"graduated year\":2010}]\n",
    "       } \n",
    "\n",
    "with open(\"person.json\", \"w\") as f:\n",
    "    json.dump(person , f) # 파이썬 객체를 json 객체로 디스크에 넣기 : json.dump(파이썬 객체, 파일 이름)\n",
    "\n",
    "print(\"슝~\")"
   ]
  },
  {
   "cell_type": "code",
   "execution_count": 20,
   "id": "expanded-static",
   "metadata": {},
   "outputs": [
    {
     "name": "stdout",
     "output_type": "stream",
     "text": [
      "{'first name': 'Yuna', 'last name': 'Jung', 'age': 33, 'nationality': 'South Korea', 'education': [{'degree': 'B.S degree', 'university': 'Daehan university', 'major': 'mechanical engineering', 'graduated year': 2010}]}\n"
     ]
    }
   ],
   "source": [
    "import json\n",
    "\n",
    "with open('person.json', 'r') as f_j:\n",
    "    content = json.load(f_j)\n",
    "    print(content)"
   ]
  },
  {
   "cell_type": "markdown",
   "id": "sorted-fiction",
   "metadata": {},
   "source": [
    "##### (2) JSON 파일 읽기\n"
   ]
  },
  {
   "cell_type": "code",
   "execution_count": 15,
   "id": "military-powell",
   "metadata": {},
   "outputs": [
    {
     "name": "stdout",
     "output_type": "stream",
     "text": [
      "Yuna\n",
      "[{'degree': 'B.S degree', 'university': 'Daehan university', 'major': 'mechanical engineering', 'graduated year': 2010}]\n"
     ]
    }
   ],
   "source": [
    "import json\n",
    "\n",
    "with open(\"person.json\", \"r\", encoding=\"utf-8\") as f:\n",
    "    contents = json.load(f)\n",
    "    print(contents[\"first name\"])\n",
    "    print(contents[\"education\"])"
   ]
  },
  {
   "cell_type": "code",
   "execution_count": null,
   "id": "juvenile-ability",
   "metadata": {},
   "outputs": [],
   "source": [
    "json.load()"
   ]
  }
 ],
 "metadata": {
  "kernelspec": {
   "display_name": "Python 3",
   "language": "python",
   "name": "python3"
  },
  "language_info": {
   "codemirror_mode": {
    "name": "ipython",
    "version": 3
   },
   "file_extension": ".py",
   "mimetype": "text/x-python",
   "name": "python",
   "nbconvert_exporter": "python",
   "pygments_lexer": "ipython3",
   "version": "3.7.9"
  }
 },
 "nbformat": 4,
 "nbformat_minor": 5
}
