{
 "cells": [
  {
   "cell_type": "markdown",
   "id": "increasing-internet",
   "metadata": {
    "id": "psychological-haiti"
   },
   "source": [
    "# 8-13. 프로젝트: 뉴스기사 요약해보기"
   ]
  },
  {
   "cell_type": "markdown",
   "id": "editorial-mother",
   "metadata": {
    "id": "existing-original"
   },
   "source": [
    "### Step 1. 데이터 수집하기\n",
    "\n",
    "- https://github.com/sunnysai12345/News_Summary\n",
    "- 윗 링크에서 제공되는 뉴스 기사 텍스트 사용"
   ]
  },
  {
   "cell_type": "code",
   "execution_count": 1,
   "id": "pediatric-calgary",
   "metadata": {
    "colab": {
     "base_uri": "https://localhost:8080/"
    },
    "id": "determined-vision",
    "outputId": "8cab8351-3fea-4732-c330-06c96d48fca7"
   },
   "outputs": [
    {
     "name": "stdout",
     "output_type": "stream",
     "text": [
      "[nltk_data] Downloading package stopwords to /root/nltk_data...\n",
      "[nltk_data]   Unzipping corpora/stopwords.zip.\n",
      "INFO:tensorflow:Deallocate tpu buffers before initializing tpu system.\n"
     ]
    },
    {
     "name": "stderr",
     "output_type": "stream",
     "text": [
      "INFO:tensorflow:Deallocate tpu buffers before initializing tpu system.\n"
     ]
    },
    {
     "name": "stdout",
     "output_type": "stream",
     "text": [
      "INFO:tensorflow:Initializing the TPU system: grpc://10.88.101.194:8470\n"
     ]
    },
    {
     "name": "stderr",
     "output_type": "stream",
     "text": [
      "INFO:tensorflow:Initializing the TPU system: grpc://10.88.101.194:8470\n"
     ]
    },
    {
     "name": "stdout",
     "output_type": "stream",
     "text": [
      "INFO:tensorflow:Finished initializing TPU system.\n"
     ]
    },
    {
     "name": "stderr",
     "output_type": "stream",
     "text": [
      "INFO:tensorflow:Finished initializing TPU system.\n"
     ]
    },
    {
     "name": "stdout",
     "output_type": "stream",
     "text": [
      "INFO:tensorflow:Found TPU system:\n"
     ]
    },
    {
     "name": "stderr",
     "output_type": "stream",
     "text": [
      "INFO:tensorflow:Found TPU system:\n"
     ]
    },
    {
     "name": "stdout",
     "output_type": "stream",
     "text": [
      "INFO:tensorflow:*** Num TPU Cores: 8\n"
     ]
    },
    {
     "name": "stderr",
     "output_type": "stream",
     "text": [
      "INFO:tensorflow:*** Num TPU Cores: 8\n"
     ]
    },
    {
     "name": "stdout",
     "output_type": "stream",
     "text": [
      "INFO:tensorflow:*** Num TPU Workers: 1\n"
     ]
    },
    {
     "name": "stderr",
     "output_type": "stream",
     "text": [
      "INFO:tensorflow:*** Num TPU Workers: 1\n"
     ]
    },
    {
     "name": "stdout",
     "output_type": "stream",
     "text": [
      "INFO:tensorflow:*** Num TPU Cores Per Worker: 8\n"
     ]
    },
    {
     "name": "stderr",
     "output_type": "stream",
     "text": [
      "INFO:tensorflow:*** Num TPU Cores Per Worker: 8\n"
     ]
    },
    {
     "name": "stdout",
     "output_type": "stream",
     "text": [
      "INFO:tensorflow:*** Available Device: _DeviceAttributes(/job:localhost/replica:0/task:0/device:CPU:0, CPU, 0, 0)\n"
     ]
    },
    {
     "name": "stderr",
     "output_type": "stream",
     "text": [
      "INFO:tensorflow:*** Available Device: _DeviceAttributes(/job:localhost/replica:0/task:0/device:CPU:0, CPU, 0, 0)\n"
     ]
    },
    {
     "name": "stdout",
     "output_type": "stream",
     "text": [
      "INFO:tensorflow:*** Available Device: _DeviceAttributes(/job:worker/replica:0/task:0/device:CPU:0, CPU, 0, 0)\n"
     ]
    },
    {
     "name": "stderr",
     "output_type": "stream",
     "text": [
      "INFO:tensorflow:*** Available Device: _DeviceAttributes(/job:worker/replica:0/task:0/device:CPU:0, CPU, 0, 0)\n"
     ]
    },
    {
     "name": "stdout",
     "output_type": "stream",
     "text": [
      "INFO:tensorflow:*** Available Device: _DeviceAttributes(/job:worker/replica:0/task:0/device:TPU:0, TPU, 0, 0)\n"
     ]
    },
    {
     "name": "stderr",
     "output_type": "stream",
     "text": [
      "INFO:tensorflow:*** Available Device: _DeviceAttributes(/job:worker/replica:0/task:0/device:TPU:0, TPU, 0, 0)\n"
     ]
    },
    {
     "name": "stdout",
     "output_type": "stream",
     "text": [
      "INFO:tensorflow:*** Available Device: _DeviceAttributes(/job:worker/replica:0/task:0/device:TPU:1, TPU, 0, 0)\n"
     ]
    },
    {
     "name": "stderr",
     "output_type": "stream",
     "text": [
      "INFO:tensorflow:*** Available Device: _DeviceAttributes(/job:worker/replica:0/task:0/device:TPU:1, TPU, 0, 0)\n"
     ]
    },
    {
     "name": "stdout",
     "output_type": "stream",
     "text": [
      "INFO:tensorflow:*** Available Device: _DeviceAttributes(/job:worker/replica:0/task:0/device:TPU:2, TPU, 0, 0)\n"
     ]
    },
    {
     "name": "stderr",
     "output_type": "stream",
     "text": [
      "INFO:tensorflow:*** Available Device: _DeviceAttributes(/job:worker/replica:0/task:0/device:TPU:2, TPU, 0, 0)\n"
     ]
    },
    {
     "name": "stdout",
     "output_type": "stream",
     "text": [
      "INFO:tensorflow:*** Available Device: _DeviceAttributes(/job:worker/replica:0/task:0/device:TPU:3, TPU, 0, 0)\n"
     ]
    },
    {
     "name": "stderr",
     "output_type": "stream",
     "text": [
      "INFO:tensorflow:*** Available Device: _DeviceAttributes(/job:worker/replica:0/task:0/device:TPU:3, TPU, 0, 0)\n"
     ]
    },
    {
     "name": "stdout",
     "output_type": "stream",
     "text": [
      "INFO:tensorflow:*** Available Device: _DeviceAttributes(/job:worker/replica:0/task:0/device:TPU:4, TPU, 0, 0)\n"
     ]
    },
    {
     "name": "stderr",
     "output_type": "stream",
     "text": [
      "INFO:tensorflow:*** Available Device: _DeviceAttributes(/job:worker/replica:0/task:0/device:TPU:4, TPU, 0, 0)\n"
     ]
    },
    {
     "name": "stdout",
     "output_type": "stream",
     "text": [
      "INFO:tensorflow:*** Available Device: _DeviceAttributes(/job:worker/replica:0/task:0/device:TPU:5, TPU, 0, 0)\n"
     ]
    },
    {
     "name": "stderr",
     "output_type": "stream",
     "text": [
      "INFO:tensorflow:*** Available Device: _DeviceAttributes(/job:worker/replica:0/task:0/device:TPU:5, TPU, 0, 0)\n"
     ]
    },
    {
     "name": "stdout",
     "output_type": "stream",
     "text": [
      "INFO:tensorflow:*** Available Device: _DeviceAttributes(/job:worker/replica:0/task:0/device:TPU:6, TPU, 0, 0)\n"
     ]
    },
    {
     "name": "stderr",
     "output_type": "stream",
     "text": [
      "INFO:tensorflow:*** Available Device: _DeviceAttributes(/job:worker/replica:0/task:0/device:TPU:6, TPU, 0, 0)\n"
     ]
    },
    {
     "name": "stdout",
     "output_type": "stream",
     "text": [
      "INFO:tensorflow:*** Available Device: _DeviceAttributes(/job:worker/replica:0/task:0/device:TPU:7, TPU, 0, 0)\n"
     ]
    },
    {
     "name": "stderr",
     "output_type": "stream",
     "text": [
      "INFO:tensorflow:*** Available Device: _DeviceAttributes(/job:worker/replica:0/task:0/device:TPU:7, TPU, 0, 0)\n"
     ]
    },
    {
     "name": "stdout",
     "output_type": "stream",
     "text": [
      "INFO:tensorflow:*** Available Device: _DeviceAttributes(/job:worker/replica:0/task:0/device:TPU_SYSTEM:0, TPU_SYSTEM, 0, 0)\n"
     ]
    },
    {
     "name": "stderr",
     "output_type": "stream",
     "text": [
      "INFO:tensorflow:*** Available Device: _DeviceAttributes(/job:worker/replica:0/task:0/device:TPU_SYSTEM:0, TPU_SYSTEM, 0, 0)\n"
     ]
    },
    {
     "name": "stdout",
     "output_type": "stream",
     "text": [
      "INFO:tensorflow:*** Available Device: _DeviceAttributes(/job:worker/replica:0/task:0/device:XLA_CPU:0, XLA_CPU, 0, 0)\n"
     ]
    },
    {
     "name": "stderr",
     "output_type": "stream",
     "text": [
      "INFO:tensorflow:*** Available Device: _DeviceAttributes(/job:worker/replica:0/task:0/device:XLA_CPU:0, XLA_CPU, 0, 0)\n"
     ]
    },
    {
     "name": "stdout",
     "output_type": "stream",
     "text": [
      "=3\n"
     ]
    }
   ],
   "source": [
    "# 필요한 패키지 불러오기\n",
    "import nltk\n",
    "nltk.download('stopwords')\n",
    "\n",
    "import numpy as np\n",
    "import pandas as pd\n",
    "import os\n",
    "import re\n",
    "import matplotlib.pyplot as plt\n",
    "from nltk.corpus import stopwords\n",
    "from bs4 import BeautifulSoup \n",
    "from tensorflow.keras.preprocessing.text import Tokenizer \n",
    "from tensorflow.keras.preprocessing.sequence import pad_sequences\n",
    "import urllib.request\n",
    "import warnings\n",
    "warnings.filterwarnings(\"ignore\", category=UserWarning, module='bs4')\n",
    "\n",
    "# colab TPU 사용을 위한 코드\n",
    "import tensorflow as tf\n",
    "resolver=tf.distribute.cluster_resolver.TPUClusterResolver(tpu='grpc://' + os.environ['COLAB_TPU_ADDR'])\n",
    "tf.config.experimental_connect_to_cluster(resolver)\n",
    "tf.tpu.experimental.initialize_tpu_system(resolver)\n",
    "strategy = tf.distribute.TPUStrategy(resolver)\n",
    "\n",
    "print('=3')"
   ]
  },
  {
   "cell_type": "code",
   "execution_count": 2,
   "id": "cathedral-galaxy",
   "metadata": {
    "id": "forced-yesterday"
   },
   "outputs": [],
   "source": [
    "# 데이터 가져오기\n",
    "urllib.request.urlretrieve(\"https://raw.githubusercontent.com/sunnysai12345/News_Summary/master/news_summary_more.csv\", filename=\"news_summary_more.csv\")\n",
    "data = pd.read_csv('news_summary_more.csv', encoding='iso-8859-1')"
   ]
  },
  {
   "cell_type": "code",
   "execution_count": 3,
   "id": "alien-optimum",
   "metadata": {
    "colab": {
     "base_uri": "https://localhost:8080/",
     "height": 363
    },
    "id": "korean-server",
    "outputId": "f65a8aed-f163-481d-9237-2594db7476b1",
    "scrolled": true
   },
   "outputs": [
    {
     "data": {
      "text/html": [
       "\n",
       "  <div id=\"df-39432e6b-f9cc-4587-884b-54686fb3d375\">\n",
       "    <div class=\"colab-df-container\">\n",
       "      <div>\n",
       "<style scoped>\n",
       "    .dataframe tbody tr th:only-of-type {\n",
       "        vertical-align: middle;\n",
       "    }\n",
       "\n",
       "    .dataframe tbody tr th {\n",
       "        vertical-align: top;\n",
       "    }\n",
       "\n",
       "    .dataframe thead th {\n",
       "        text-align: right;\n",
       "    }\n",
       "</style>\n",
       "<table border=\"1\" class=\"dataframe\">\n",
       "  <thead>\n",
       "    <tr style=\"text-align: right;\">\n",
       "      <th></th>\n",
       "      <th>headlines</th>\n",
       "      <th>text</th>\n",
       "    </tr>\n",
       "  </thead>\n",
       "  <tbody>\n",
       "    <tr>\n",
       "      <th>26287</th>\n",
       "      <td>You remind me of dad: Priyanka to her brother ...</td>\n",
       "      <td>Priyanka Chopra took to Instagram to wish her ...</td>\n",
       "    </tr>\n",
       "    <tr>\n",
       "      <th>40130</th>\n",
       "      <td>US vetoes UN resolution giving 'protection' to...</td>\n",
       "      <td>The US on Friday vetoed a Kuwait-drafted UN Se...</td>\n",
       "    </tr>\n",
       "    <tr>\n",
       "      <th>78225</th>\n",
       "      <td>Delhi man beaten to death for not paying back ...</td>\n",
       "      <td>A 20-year-old man was allegedly beaten to deat...</td>\n",
       "    </tr>\n",
       "    <tr>\n",
       "      <th>73032</th>\n",
       "      <td>Investor files class action suit against Dr. R...</td>\n",
       "      <td>Pharmaceutical company Dr. Reddy's Laboratorie...</td>\n",
       "    </tr>\n",
       "    <tr>\n",
       "      <th>68083</th>\n",
       "      <td>Muslim group manages Durga Puja committee in B...</td>\n",
       "      <td>The Kirodimal Gajanand Durga Puja Committee in...</td>\n",
       "    </tr>\n",
       "    <tr>\n",
       "      <th>49316</th>\n",
       "      <td>The nation is obsessed with Big B: Pad Man dir...</td>\n",
       "      <td>Filmmaker R Balki, while talking about Amitabh...</td>\n",
       "    </tr>\n",
       "    <tr>\n",
       "      <th>23379</th>\n",
       "      <td>Aussie media mocks Kohli over dismissals in En...</td>\n",
       "      <td>An Australian channel took a dig at India capt...</td>\n",
       "    </tr>\n",
       "    <tr>\n",
       "      <th>87553</th>\n",
       "      <td>Millionaire and hot yoga guru Bikram gets arre...</td>\n",
       "      <td>A US court has issued an arrest warrant for Bi...</td>\n",
       "    </tr>\n",
       "    <tr>\n",
       "      <th>26611</th>\n",
       "      <td>US woman on oxygen dies after power shut over ...</td>\n",
       "      <td>A 68-year-old US woman who was reliant on an o...</td>\n",
       "    </tr>\n",
       "    <tr>\n",
       "      <th>77827</th>\n",
       "      <td>Huma Qureshi turns showstopper for Rina Dhaka'...</td>\n",
       "      <td>Actress Huma Qureshi turned showstopper for de...</td>\n",
       "    </tr>\n",
       "  </tbody>\n",
       "</table>\n",
       "</div>\n",
       "      <button class=\"colab-df-convert\" onclick=\"convertToInteractive('df-39432e6b-f9cc-4587-884b-54686fb3d375')\"\n",
       "              title=\"Convert this dataframe to an interactive table.\"\n",
       "              style=\"display:none;\">\n",
       "        \n",
       "  <svg xmlns=\"http://www.w3.org/2000/svg\" height=\"24px\"viewBox=\"0 0 24 24\"\n",
       "       width=\"24px\">\n",
       "    <path d=\"M0 0h24v24H0V0z\" fill=\"none\"/>\n",
       "    <path d=\"M18.56 5.44l.94 2.06.94-2.06 2.06-.94-2.06-.94-.94-2.06-.94 2.06-2.06.94zm-11 1L8.5 8.5l.94-2.06 2.06-.94-2.06-.94L8.5 2.5l-.94 2.06-2.06.94zm10 10l.94 2.06.94-2.06 2.06-.94-2.06-.94-.94-2.06-.94 2.06-2.06.94z\"/><path d=\"M17.41 7.96l-1.37-1.37c-.4-.4-.92-.59-1.43-.59-.52 0-1.04.2-1.43.59L10.3 9.45l-7.72 7.72c-.78.78-.78 2.05 0 2.83L4 21.41c.39.39.9.59 1.41.59.51 0 1.02-.2 1.41-.59l7.78-7.78 2.81-2.81c.8-.78.8-2.07 0-2.86zM5.41 20L4 18.59l7.72-7.72 1.47 1.35L5.41 20z\"/>\n",
       "  </svg>\n",
       "      </button>\n",
       "      \n",
       "  <style>\n",
       "    .colab-df-container {\n",
       "      display:flex;\n",
       "      flex-wrap:wrap;\n",
       "      gap: 12px;\n",
       "    }\n",
       "\n",
       "    .colab-df-convert {\n",
       "      background-color: #E8F0FE;\n",
       "      border: none;\n",
       "      border-radius: 50%;\n",
       "      cursor: pointer;\n",
       "      display: none;\n",
       "      fill: #1967D2;\n",
       "      height: 32px;\n",
       "      padding: 0 0 0 0;\n",
       "      width: 32px;\n",
       "    }\n",
       "\n",
       "    .colab-df-convert:hover {\n",
       "      background-color: #E2EBFA;\n",
       "      box-shadow: 0px 1px 2px rgba(60, 64, 67, 0.3), 0px 1px 3px 1px rgba(60, 64, 67, 0.15);\n",
       "      fill: #174EA6;\n",
       "    }\n",
       "\n",
       "    [theme=dark] .colab-df-convert {\n",
       "      background-color: #3B4455;\n",
       "      fill: #D2E3FC;\n",
       "    }\n",
       "\n",
       "    [theme=dark] .colab-df-convert:hover {\n",
       "      background-color: #434B5C;\n",
       "      box-shadow: 0px 1px 3px 1px rgba(0, 0, 0, 0.15);\n",
       "      filter: drop-shadow(0px 1px 2px rgba(0, 0, 0, 0.3));\n",
       "      fill: #FFFFFF;\n",
       "    }\n",
       "  </style>\n",
       "\n",
       "      <script>\n",
       "        const buttonEl =\n",
       "          document.querySelector('#df-39432e6b-f9cc-4587-884b-54686fb3d375 button.colab-df-convert');\n",
       "        buttonEl.style.display =\n",
       "          google.colab.kernel.accessAllowed ? 'block' : 'none';\n",
       "\n",
       "        async function convertToInteractive(key) {\n",
       "          const element = document.querySelector('#df-39432e6b-f9cc-4587-884b-54686fb3d375');\n",
       "          const dataTable =\n",
       "            await google.colab.kernel.invokeFunction('convertToInteractive',\n",
       "                                                     [key], {});\n",
       "          if (!dataTable) return;\n",
       "\n",
       "          const docLinkHtml = 'Like what you see? Visit the ' +\n",
       "            '<a target=\"_blank\" href=https://colab.research.google.com/notebooks/data_table.ipynb>data table notebook</a>'\n",
       "            + ' to learn more about interactive tables.';\n",
       "          element.innerHTML = '';\n",
       "          dataTable['output_type'] = 'display_data';\n",
       "          await google.colab.output.renderOutput(dataTable, element);\n",
       "          const docLink = document.createElement('div');\n",
       "          docLink.innerHTML = docLinkHtml;\n",
       "          element.appendChild(docLink);\n",
       "        }\n",
       "      </script>\n",
       "    </div>\n",
       "  </div>\n",
       "  "
      ],
      "text/plain": [
       "                                               headlines                                               text\n",
       "26287  You remind me of dad: Priyanka to her brother ...  Priyanka Chopra took to Instagram to wish her ...\n",
       "40130  US vetoes UN resolution giving 'protection' to...  The US on Friday vetoed a Kuwait-drafted UN Se...\n",
       "78225  Delhi man beaten to death for not paying back ...  A 20-year-old man was allegedly beaten to deat...\n",
       "73032  Investor files class action suit against Dr. R...  Pharmaceutical company Dr. Reddy's Laboratorie...\n",
       "68083  Muslim group manages Durga Puja committee in B...  The Kirodimal Gajanand Durga Puja Committee in...\n",
       "49316  The nation is obsessed with Big B: Pad Man dir...  Filmmaker R Balki, while talking about Amitabh...\n",
       "23379  Aussie media mocks Kohli over dismissals in En...  An Australian channel took a dig at India capt...\n",
       "87553  Millionaire and hot yoga guru Bikram gets arre...  A US court has issued an arrest warrant for Bi...\n",
       "26611  US woman on oxygen dies after power shut over ...  A 68-year-old US woman who was reliant on an o...\n",
       "77827  Huma Qureshi turns showstopper for Rina Dhaka'...  Actress Huma Qureshi turned showstopper for de..."
      ]
     },
     "execution_count": 3,
     "metadata": {},
     "output_type": "execute_result"
    }
   ],
   "source": [
    "data.sample(10)"
   ]
  },
  {
   "cell_type": "code",
   "execution_count": 4,
   "id": "demanding-wealth",
   "metadata": {
    "colab": {
     "base_uri": "https://localhost:8080/"
    },
    "id": "wooden-render",
    "outputId": "1f6e2e70-e19e-441a-bdf0-c32e565dbc10"
   },
   "outputs": [
    {
     "data": {
      "text/plain": [
       "(98401, 2)"
      ]
     },
     "execution_count": 4,
     "metadata": {},
     "output_type": "execute_result"
    }
   ],
   "source": [
    "data.shape"
   ]
  },
  {
   "cell_type": "code",
   "execution_count": 5,
   "id": "specified-procurement",
   "metadata": {
    "colab": {
     "base_uri": "https://localhost:8080/",
     "height": 106
    },
    "id": "other-garden",
    "outputId": "ae9a5096-dc7b-4a32-80e2-2b806715afab"
   },
   "outputs": [
    {
     "name": "stdout",
     "output_type": "stream",
     "text": [
      "60\n"
     ]
    },
    {
     "data": {
      "application/vnd.google.colaboratory.intrinsic+json": {
       "type": "string"
      },
      "text/plain": [
       "\"Saurav Kant, an alumnus of upGrad and IIIT-B's PG Program in Machine learning and Artificial Intelligence, was a Sr Systems Engineer at Infosys with almost 5 years of work experience. The program and upGrad's 360-degree career support helped him transition to a Data Scientist at Tech Mahindra with 90% salary hike. upGrad's Online Power Learning has powered 3 lakh+ careers.\""
      ]
     },
     "execution_count": 5,
     "metadata": {},
     "output_type": "execute_result"
    }
   ],
   "source": [
    "# text 한 개 확인해보기\n",
    "print(len(data['text'][0].split())) # 대략적 문장 길이 확인\n",
    "data['text'][0]"
   ]
  },
  {
   "cell_type": "code",
   "execution_count": 6,
   "id": "signed-siemens",
   "metadata": {
    "colab": {
     "base_uri": "https://localhost:8080/",
     "height": 53
    },
    "id": "historic-edwards",
    "outputId": "994c2d7c-3149-4d87-ce9d-eb6f92f1062c"
   },
   "outputs": [
    {
     "name": "stdout",
     "output_type": "stream",
     "text": [
      "13\n"
     ]
    },
    {
     "data": {
      "application/vnd.google.colaboratory.intrinsic+json": {
       "type": "string"
      },
      "text/plain": [
       "'upGrad learner switches to career in ML & Al with 90% salary hike'"
      ]
     },
     "execution_count": 6,
     "metadata": {},
     "output_type": "execute_result"
    }
   ],
   "source": [
    "# headlines 한 개 확인해보기\n",
    "print(len(data['headlines'][0].split()))\n",
    "data['headlines'][0]"
   ]
  },
  {
   "cell_type": "markdown",
   "id": "imperial-tenant",
   "metadata": {
    "id": "greek-aspect"
   },
   "source": [
    "### Step 2. 데이터 전처리하기 (추상적 요약)\n",
    "\n",
    "- 실습시 사용한 전처리 외에 추가적으로 더 필요한지 생각해보기\n",
    "- 만약 불용어를 제거한다면, headlines에도 불용어 제거가 좋을지도 고민해보기"
   ]
  },
  {
   "cell_type": "markdown",
   "id": "differential-preview",
   "metadata": {
    "id": "mighty-stopping"
   },
   "source": [
    "#### # 중복값 제거"
   ]
  },
  {
   "cell_type": "code",
   "execution_count": 7,
   "id": "occupational-finding",
   "metadata": {
    "colab": {
     "base_uri": "https://localhost:8080/"
    },
    "id": "tired-trainer",
    "outputId": "2cebd6b4-6f81-4ee8-c24f-27e32359cfc8"
   },
   "outputs": [
    {
     "data": {
      "text/plain": [
       "98401"
      ]
     },
     "execution_count": 7,
     "metadata": {},
     "output_type": "execute_result"
    }
   ],
   "source": [
    "# 확인용으로 원래 데이터 갯수 저장\n",
    "original_len = len(data)\n",
    "original_len"
   ]
  },
  {
   "cell_type": "code",
   "execution_count": 8,
   "id": "capital-chrome",
   "metadata": {
    "colab": {
     "base_uri": "https://localhost:8080/"
    },
    "id": "downtown-zambia",
    "outputId": "53da65fd-a015-4dac-d447-42c3ed2a5306"
   },
   "outputs": [
    {
     "data": {
      "text/plain": [
       "22"
      ]
     },
     "execution_count": 8,
     "metadata": {},
     "output_type": "execute_result"
    }
   ],
   "source": [
    "data.duplicated().sum()"
   ]
  },
  {
   "cell_type": "code",
   "execution_count": 9,
   "id": "collective-horizon",
   "metadata": {
    "colab": {
     "base_uri": "https://localhost:8080/"
    },
    "id": "amber-rotation",
    "outputId": "7305d8bd-0c9c-4074-aeec-54a5dfb9ca18"
   },
   "outputs": [
    {
     "name": "stdout",
     "output_type": "stream",
     "text": [
      "headlines 유니크: 98280\n",
      "text 유니크: 98360\n"
     ]
    }
   ],
   "source": [
    "print('headlines 유니크:', data['headlines'].nunique())\n",
    "print('text 유니크:', data['text'].nunique())"
   ]
  },
  {
   "cell_type": "markdown",
   "id": "cosmetic-marathon",
   "metadata": {
    "id": "sapphire-dayton"
   },
   "source": [
    "> 컬럼별로 중복 여부가 다를 수 있으니 `data.duplicated().sum()`와 같이 하면 갯수 착오가 일어날 수 있다."
   ]
  },
  {
   "cell_type": "code",
   "execution_count": 10,
   "id": "fifty-undergraduate",
   "metadata": {
    "colab": {
     "base_uri": "https://localhost:8080/"
    },
    "id": "parental-broadcast",
    "outputId": "22152d6b-b451-452a-997b-7e19315059e5"
   },
   "outputs": [
    {
     "name": "stdout",
     "output_type": "stream",
     "text": [
      "98360\n"
     ]
    }
   ],
   "source": [
    "# headlines 중복은 실제 의미있는 데이터일 수도 있으니 text의 중복만 삭제\n",
    "data = data.drop_duplicates(subset='text')\n",
    "print(len(data))"
   ]
  },
  {
   "cell_type": "markdown",
   "id": "binding-firmware",
   "metadata": {
    "id": "bizarre-tennessee"
   },
   "source": [
    "#### # Null 값 제거"
   ]
  },
  {
   "cell_type": "code",
   "execution_count": 11,
   "id": "western-excerpt",
   "metadata": {
    "colab": {
     "base_uri": "https://localhost:8080/"
    },
    "id": "portuguese-queens",
    "outputId": "adfcb831-f4bc-472a-d8f3-edb900f6eaf2"
   },
   "outputs": [
    {
     "data": {
      "text/plain": [
       "headlines    0\n",
       "text         0\n",
       "dtype: int64"
      ]
     },
     "execution_count": 11,
     "metadata": {},
     "output_type": "execute_result"
    }
   ],
   "source": [
    "# Null값 확인\n",
    "data.isnull().sum()"
   ]
  },
  {
   "cell_type": "markdown",
   "id": "friendly-platform",
   "metadata": {
    "id": "tender-england"
   },
   "source": [
    "> 현 시점에서 문장들의 길이 분포를 확인해보려 한다."
   ]
  },
  {
   "cell_type": "code",
   "execution_count": 12,
   "id": "preliminary-purchase",
   "metadata": {
    "colab": {
     "base_uri": "https://localhost:8080/",
     "height": 959
    },
    "id": "based-filling",
    "outputId": "da9e9b92-d133-4402-d948-10b5edf42d09"
   },
   "outputs": [
    {
     "name": "stdout",
     "output_type": "stream",
     "text": [
      "텍스트의 최소 길이 : 1\n",
      "텍스트의 최대 길이 : 91\n",
      "텍스트의 평균 길이 : 58.23813542090281\n",
      "요약의 최소 길이 : 1\n",
      "요약의 최대 길이 : 18\n",
      "요약의 평균 길이 : 9.553660024400163\n"
     ]
    },
    {
     "data": {
      "image/png": "[encoded data removed]",
      "text/plain": [
       "<Figure size 432x288 with 2 Axes>"
      ]
     },
     "metadata": {
      "needs_background": "light"
     },
     "output_type": "display_data"
    },
    {
     "data": {
      "image/png": "[encoded data removed]",
      "text/plain": [
       "<Figure size 432x288 with 1 Axes>"
      ]
     },
     "metadata": {
      "needs_background": "light"
     },
     "output_type": "display_data"
    },
    {
     "data": {
      "image/png": "[encoded data removed]",
      "text/plain": [
       "<Figure size 432x288 with 1 Axes>"
      ]
     },
     "metadata": {
      "needs_background": "light"
     },
     "output_type": "display_data"
    }
   ],
   "source": [
    "# 길이 분포 출력\n",
    "text_len = [len(s.split()) for s in data['text']]\n",
    "headlines_len = [len(s.split()) for s in data['headlines']]\n",
    "\n",
    "print('텍스트의 최소 길이 : {}'.format(np.min(text_len)))\n",
    "print('텍스트의 최대 길이 : {}'.format(np.max(text_len)))\n",
    "print('텍스트의 평균 길이 : {}'.format(np.mean(text_len)))\n",
    "print('요약의 최소 길이 : {}'.format(np.min(headlines_len)))\n",
    "print('요약의 최대 길이 : {}'.format(np.max(headlines_len)))\n",
    "print('요약의 평균 길이 : {}'.format(np.mean(headlines_len)))\n",
    "\n",
    "plt.subplot(1,2,1)\n",
    "plt.boxplot(text_len)\n",
    "plt.title('text')\n",
    "plt.subplot(1,2,2)\n",
    "plt.boxplot(headlines_len)\n",
    "plt.title('headlines')\n",
    "plt.tight_layout()\n",
    "plt.show()\n",
    "\n",
    "plt.title('text')\n",
    "plt.hist(text_len, bins = 20)\n",
    "plt.xlabel('length of samples')\n",
    "plt.ylabel('number of samples')\n",
    "plt.show()\n",
    "\n",
    "plt.title('headlines')\n",
    "plt.hist(headlines_len, bins = 20)\n",
    "plt.xlabel('length of samples')\n",
    "plt.ylabel('number of samples')\n",
    "plt.show()"
   ]
  },
  {
   "cell_type": "markdown",
   "id": "leading-major",
   "metadata": {
    "id": "canadian-oregon"
   },
   "source": [
    "#### # 텍스트 정규화( normalisation)"
   ]
  },
  {
   "cell_type": "code",
   "execution_count": 13,
   "id": "timely-vancouver",
   "metadata": {
    "colab": {
     "base_uri": "https://localhost:8080/"
    },
    "id": "visible-vitamin",
    "outputId": "14318a20-2890-4c07-f9f3-9f2a9b46f3e2"
   },
   "outputs": [
    {
     "name": "stdout",
     "output_type": "stream",
     "text": [
      "정규화 사전의 수:  120\n"
     ]
    }
   ],
   "source": [
    "# 정규화 사전 딕셔너리 형태로 할당\n",
    "contractions = {\"ain't\": \"is not\", \"aren't\": \"are not\",\"can't\": \"cannot\", \"'cause\": \"because\", \"could've\": \"could have\", \"couldn't\": \"could not\",\n",
    "                           \"didn't\": \"did not\",  \"doesn't\": \"does not\", \"don't\": \"do not\", \"hadn't\": \"had not\", \"hasn't\": \"has not\", \"haven't\": \"have not\",\n",
    "                           \"he'd\": \"he would\",\"he'll\": \"he will\", \"he's\": \"he is\", \"how'd\": \"how did\", \"how'd'y\": \"how do you\", \"how'll\": \"how will\", \"how's\": \"how is\",\n",
    "                           \"I'd\": \"I would\", \"I'd've\": \"I would have\", \"I'll\": \"I will\", \"I'll've\": \"I will have\",\"I'm\": \"I am\", \"I've\": \"I have\", \"i'd\": \"i would\",\n",
    "                           \"i'd've\": \"i would have\", \"i'll\": \"i will\",  \"i'll've\": \"i will have\",\"i'm\": \"i am\", \"i've\": \"i have\", \"isn't\": \"is not\", \"it'd\": \"it would\",\n",
    "                           \"it'd've\": \"it would have\", \"it'll\": \"it will\", \"it'll've\": \"it will have\",\"it's\": \"it is\", \"let's\": \"let us\", \"ma'am\": \"madam\",\n",
    "                           \"mayn't\": \"may not\", \"might've\": \"might have\",\"mightn't\": \"might not\",\"mightn't've\": \"might not have\", \"must've\": \"must have\",\n",
    "                           \"mustn't\": \"must not\", \"mustn't've\": \"must not have\", \"needn't\": \"need not\", \"needn't've\": \"need not have\",\"o'clock\": \"of the clock\",\n",
    "                           \"oughtn't\": \"ought not\", \"oughtn't've\": \"ought not have\", \"shan't\": \"shall not\", \"sha'n't\": \"shall not\", \"shan't've\": \"shall not have\",\n",
    "                           \"she'd\": \"she would\", \"she'd've\": \"she would have\", \"she'll\": \"she will\", \"she'll've\": \"she will have\", \"she's\": \"she is\",\n",
    "                           \"should've\": \"should have\", \"shouldn't\": \"should not\", \"shouldn't've\": \"should not have\", \"so've\": \"so have\",\"so's\": \"so as\",\n",
    "                           \"this's\": \"this is\",\"that'd\": \"that would\", \"that'd've\": \"that would have\", \"that's\": \"that is\", \"there'd\": \"there would\",\n",
    "                           \"there'd've\": \"there would have\", \"there's\": \"there is\", \"here's\": \"here is\",\"they'd\": \"they would\", \"they'd've\": \"they would have\",\n",
    "                           \"they'll\": \"they will\", \"they'll've\": \"they will have\", \"they're\": \"they are\", \"they've\": \"they have\", \"to've\": \"to have\",\n",
    "                           \"wasn't\": \"was not\", \"we'd\": \"we would\", \"we'd've\": \"we would have\", \"we'll\": \"we will\", \"we'll've\": \"we will have\", \"we're\": \"we are\",\n",
    "                           \"we've\": \"we have\", \"weren't\": \"were not\", \"what'll\": \"what will\", \"what'll've\": \"what will have\", \"what're\": \"what are\",\n",
    "                           \"what's\": \"what is\", \"what've\": \"what have\", \"when's\": \"when is\", \"when've\": \"when have\", \"where'd\": \"where did\", \"where's\": \"where is\",\n",
    "                           \"where've\": \"where have\", \"who'll\": \"who will\", \"who'll've\": \"who will have\", \"who's\": \"who is\", \"who've\": \"who have\",\n",
    "                           \"why's\": \"why is\", \"why've\": \"why have\", \"will've\": \"will have\", \"won't\": \"will not\", \"won't've\": \"will not have\",\n",
    "                           \"would've\": \"would have\", \"wouldn't\": \"would not\", \"wouldn't've\": \"would not have\", \"y'all\": \"you all\",\n",
    "                           \"y'all'd\": \"you all would\",\"y'all'd've\": \"you all would have\",\"y'all're\": \"you all are\",\"y'all've\": \"you all have\",\n",
    "                           \"you'd\": \"you would\", \"you'd've\": \"you would have\", \"you'll\": \"you will\", \"you'll've\": \"you will have\",\n",
    "                           \"you're\": \"you are\", \"you've\": \"you have\"}\n",
    "\n",
    "print(\"정규화 사전의 수: \", len(contractions))"
   ]
  },
  {
   "cell_type": "markdown",
   "id": "pressing-regard",
   "metadata": {
    "id": "tested-paint"
   },
   "source": [
    "> 뒤에 가서 regex 처리와 함께 할 예정"
   ]
  },
  {
   "cell_type": "markdown",
   "id": "still-player",
   "metadata": {
    "id": "consecutive-producer"
   },
   "source": [
    "#### # 불용어 제거"
   ]
  },
  {
   "cell_type": "code",
   "execution_count": 14,
   "id": "unknown-tribute",
   "metadata": {
    "colab": {
     "base_uri": "https://localhost:8080/"
    },
    "id": "exceptional-parks",
    "outputId": "dd029e4e-348a-4e89-d7b4-7bb8a59b495c"
   },
   "outputs": [
    {
     "name": "stdout",
     "output_type": "stream",
     "text": [
      "불용어 개수 : 179\n",
      "['i', 'me', 'my', 'myself', 'we', 'our', 'ours', 'ourselves', 'you', \"you're\", \"you've\", \"you'll\", \"you'd\", 'your', 'yours', 'yourself', 'yourselves', 'he', 'him', 'his', 'himself', 'she', \"she's\", 'her', 'hers', 'herself', 'it', \"it's\", 'its', 'itself', 'they', 'them', 'their', 'theirs', 'themselves', 'what', 'which', 'who', 'whom', 'this', 'that', \"that'll\", 'these', 'those', 'am', 'is', 'are', 'was', 'were', 'be', 'been', 'being', 'have', 'has', 'had', 'having', 'do', 'does', 'did', 'doing', 'a', 'an', 'the', 'and', 'but', 'if', 'or', 'because', 'as', 'until', 'while', 'of', 'at', 'by', 'for', 'with', 'about', 'against', 'between', 'into', 'through', 'during', 'before', 'after', 'above', 'below', 'to', 'from', 'up', 'down', 'in', 'out', 'on', 'off', 'over', 'under', 'again', 'further', 'then', 'once', 'here', 'there', 'when', 'where', 'why', 'how', 'all', 'any', 'both', 'each', 'few', 'more', 'most', 'other', 'some', 'such', 'no', 'nor', 'not', 'only', 'own', 'same', 'so', 'than', 'too', 'very', 's', 't', 'can', 'will', 'just', 'don', \"don't\", 'should', \"should've\", 'now', 'd', 'll', 'm', 'o', 're', 've', 'y', 'ain', 'aren', \"aren't\", 'couldn', \"couldn't\", 'didn', \"didn't\", 'doesn', \"doesn't\", 'hadn', \"hadn't\", 'hasn', \"hasn't\", 'haven', \"haven't\", 'isn', \"isn't\", 'ma', 'mightn', \"mightn't\", 'mustn', \"mustn't\", 'needn', \"needn't\", 'shan', \"shan't\", 'shouldn', \"shouldn't\", 'wasn', \"wasn't\", 'weren', \"weren't\", 'won', \"won't\", 'wouldn', \"wouldn't\"]\n"
     ]
    }
   ],
   "source": [
    "print('불용어 개수 :', len(stopwords.words('english') ))\n",
    "print(stopwords.words('english'))"
   ]
  },
  {
   "cell_type": "markdown",
   "id": "understood-beaver",
   "metadata": {
    "id": "posted-vienna"
   },
   "source": [
    "> - 'out', 'off'등 동사와 짝을 이루어 문맥상 의미를 잘 살려주는 단어는 불용어에서 빼보면 좋을 것 같다.  \n",
    "> - 그리고 데이터에 있는 문장 자체가 비교적 짧은 것 같아 불용어를 많이 제외하면 의미 해석에 어려움이 생기는 문장도 생길 것 같아서 'why', 'most', 'only' 등 불용어 개수를 많이 줄여보기로 했다. "
   ]
  },
  {
   "cell_type": "code",
   "execution_count": 15,
   "id": "peaceful-northeast",
   "metadata": {
    "colab": {
     "base_uri": "https://localhost:8080/"
    },
    "id": "sonic-sierra",
    "outputId": "00ad5c21-d1fd-41b9-d251-78e769e07b07"
   },
   "outputs": [
    {
     "name": "stdout",
     "output_type": "stream",
     "text": [
      "새로운 불용어 개수 : 161\n",
      "['of', 'few', 'we', \"weren't\", 'what', \"needn't\", \"mightn't\", 'an', 'should', 'now', 'weren', 'isn', 'can', 'its', \"wouldn't\", 'from', 'myself', 'each', 'doing', 'once', \"it's\", 'll', 'own', 'up', \"haven't\", \"mustn't\", 'our', \"you'd\", 'her', 'yourself', 'mustn', 'there', \"couldn't\", 'wouldn', 'but', 'did', 'him', 'd', 'wasn', 'you', 'couldn', 'shouldn', \"hasn't\", 'this', 'over', 'ma', 'theirs', 'o', 'am', 'won', 'm', 'don', \"isn't\", 'himself', 'below', \"hadn't\", \"don't\", \"you'll\", 'needn', 'your', 'or', 'hadn', 'will', 'ours', \"shouldn't\", 'than', 'both', 'these', 'yourselves', 'any', 'being', 'a', 'other', 'no', 'his', 'between', 'because', 'hers', \"should've\", \"you're\", 'that', 'too', 'above', 'while', 'had', 'whom', 'herself', 'on', 'haven', 'does', \"won't\", 'having', 'nor', 'just', 'as', 've', 'itself', 'mightn', 'be', 'further', 'ain', 'doesn', 'to', 'into', 'about', 'through', 'with', 'not', 'by', 'under', 'then', 'who', 'down', 'hasn', 'themselves', 'those', 'very', 'didn', 'which', 'i', 'do', 'until', \"didn't\", 'shan', \"wasn't\", 'during', 'again', 'are', 'at', 'here', 'ourselves', 'so', 's', 'same', 'yours', \"that'll\", \"she's\", 'some', 'y', 'aren', 'them', \"aren't\", 'was', 're', 'and', 'the', 'my', 't', 'if', 'me', 'has', 'such', 'they', 'their', \"doesn't\", 'he', 'it', \"shan't\", \"you've\", 'were', 'she']\n"
     ]
    }
   ],
   "source": [
    "# 코드는 stackoverflow를 참조하였다.\n",
    "\n",
    "# 원래 불용어\n",
    "original_stopwords = stopwords.words('english')\n",
    "\n",
    "# 불용어에서 제외할 목록\n",
    "not_stopwords = {'before', 'after', 'out', 'in', 'off', 'why', 'how', 'most', 'only', 'more', 'all', 'is', 'been', 'have', 'for', 'against', 'where', 'when'} \n",
    "\n",
    "# 새로운 불용어\n",
    "new_stopwords = list(set([word for word in original_stopwords if word not in not_stopwords]))\n",
    "\n",
    "print('새로운 불용어 개수 :', len(new_stopwords))\n",
    "print(new_stopwords)"
   ]
  },
  {
   "cell_type": "markdown",
   "id": "threatened-valuable",
   "metadata": {
    "id": "mexican-cameroon"
   },
   "source": [
    "#### # 특수문자 처리 함수 정의"
   ]
  },
  {
   "cell_type": "code",
   "execution_count": 16,
   "id": "invisible-absorption",
   "metadata": {
    "colab": {
     "base_uri": "https://localhost:8080/"
    },
    "id": "psychological-biodiversity",
    "outputId": "16fa8dfb-e4b5-4242-db55-21ce112049ec"
   },
   "outputs": [
    {
     "name": "stdout",
     "output_type": "stream",
     "text": [
      "=3\n"
     ]
    }
   ],
   "source": [
    "# 데이터 전처리 함수\n",
    "def preprocess_sentence(sentence, remove_stopwords=True):\n",
    "    sentence = sentence.lower() # 텍스트 소문자화\n",
    "    sentence = BeautifulSoup(sentence, \"lxml\").text # <br />, <a href = ...> 등의 html 태그 제거\n",
    "    sentence = re.sub(r'\\([^)]*\\)', '', sentence) # 괄호로 닫힌 문자열 (...) 제거 Ex) my husband (and myself!) for => my husband for\n",
    "    sentence = re.sub('\"','', sentence) # 쌍따옴표 \" 제거\n",
    "    sentence = ' '.join([contractions[t] if t in contractions else t for t in sentence.split(\" \")]) # 약어 정규화\n",
    "    sentence = re.sub(r\"'s\\b\",\"\", sentence) # 소유격 제거. Ex) roland's -> roland\n",
    "    sentence = re.sub(\"[^a-zA-Z]\", \" \", sentence) # 영어 외 문자(숫자, 특수문자 등) 공백으로 변환\n",
    "    sentence = re.sub('[m]{2,}', 'mm', sentence) # m이 3개 이상이면 2개로 변경. Ex) ummmmmmm yeah -> umm yeah\n",
    "    \n",
    "    # 불용어 제거 (Text)\n",
    "    if remove_stopwords:\n",
    "        tokens = ' '.join(word for word in sentence.split() if not word in new_stopwords if len(word) > 1)\n",
    "    # 불용어 미제거 (Summary)\n",
    "    else:\n",
    "        tokens = ' '.join(word for word in sentence.split() if len(word) > 1)\n",
    "    return tokens\n",
    "print('=3')"
   ]
  },
  {
   "cell_type": "code",
   "execution_count": 17,
   "id": "generous-floating",
   "metadata": {
    "colab": {
     "base_uri": "https://localhost:8080/"
    },
    "id": "cross-chemical",
    "outputId": "6a1117b1-9f45-42d4-a849-06e36321191d"
   },
   "outputs": [
    {
     "name": "stdout",
     "output_type": "stream",
     "text": [
      "Before :\n",
      "Saurav Kant, an alumnus of upGrad and IIIT-B's PG Program in Machine learning and Artificial Intelligence, was a Sr Systems Engineer at Infosys with almost 5 years of work experience. The program and upGrad's 360-degree career support helped him transition to a Data Scientist at Tech Mahindra with 90% salary hike. upGrad's Online Power Learning has powered 3 lakh+ careers.\n",
      "===================================================================================\n",
      "After :\n",
      "saurav kant alumnus upgrad iiit pg program in machine learning artificial intelligence sr systems engineer infosys almost years work experience program upgrad degree career support helped transition data scientist tech mahindra salary hike upgrad online power learning powered lakh careers\n"
     ]
    }
   ],
   "source": [
    "# sample data로 확인해보기\n",
    "\n",
    "print('Before :')\n",
    "print(data['text'][0])\n",
    "print('===================================================================================')\n",
    "print('After :')\n",
    "print(preprocess_sentence(data['text'][0]))"
   ]
  },
  {
   "cell_type": "markdown",
   "id": "strategic-record",
   "metadata": {
    "id": "preliminary-winner"
   },
   "source": [
    "> 전문적인 단어가 들어가면 의미를 더해주는 각종 조사와 대문자 같은 게 사라지니까 해석에 난감해지는 것 같다..."
   ]
  },
  {
   "cell_type": "markdown",
   "id": "compound-proposition",
   "metadata": {
    "id": "quality-fantasy"
   },
   "source": [
    "#### # 전처리 함수 실행"
   ]
  },
  {
   "cell_type": "code",
   "execution_count": 18,
   "id": "advanced-lincoln",
   "metadata": {
    "colab": {
     "base_uri": "https://localhost:8080/"
    },
    "id": "elementary-matthew",
    "outputId": "6f0471ea-bfec-4e17-97f4-09fbc4670acc"
   },
   "outputs": [
    {
     "name": "stdout",
     "output_type": "stream",
     "text": [
      "Text 전처리 후 결과:  ['saurav kant alumnus upgrad iiit pg program in machine learning artificial intelligence sr systems engineer infosys almost years work experience program upgrad degree career support helped transition data scientist tech mahindra salary hike upgrad online power learning powered lakh careers', 'kunal shah credit card bill payment platform cred gave users chance win free food swiggy for one year pranav kaushik delhi techie bagged reward after spending cred coins users get one cred coin per rupee bill paid used avail rewards brands like ixigo bookmyshow ubereats cult fit more', 'new zealand defeated india wickets in fourth odi hamilton thursday win first match five match odi series india lost international match rohit sharma captaincy after consecutive victories dating back march match witnessed india getting all out for seventh lowest total in odi cricket history']\n"
     ]
    }
   ],
   "source": [
    "# 전체 텍스트에 실행\n",
    "clean_text = []\n",
    "for s in data['text']:\n",
    "    clean_text.append(preprocess_sentence(s))\n",
    "\n",
    "# 전처리 후 출력\n",
    "print(\"Text 전처리 후 결과: \", clean_text[:3])"
   ]
  },
  {
   "cell_type": "code",
   "execution_count": 19,
   "id": "passive-contact",
   "metadata": {
    "colab": {
     "base_uri": "https://localhost:8080/"
    },
    "id": "aggregate-services",
    "outputId": "1b7165bb-7456-4f07-89e7-d31f85447309"
   },
   "outputs": [
    {
     "name": "stdout",
     "output_type": "stream",
     "text": [
      "['upgrad learner switches to career in ml al with salary hike', 'delhi techie wins free food from swiggy for one year on cred', 'new zealand end rohit sharma led india match winning streak']\n"
     ]
    }
   ],
   "source": [
    "# headlines에는 불용어 제거 미적용\n",
    "clean_headlines = []\n",
    "for s in data['headlines']:\n",
    "    clean_headlines.append(preprocess_sentence(s, remove_stopwords=False))\n",
    "\n",
    "print(clean_headlines[:3])"
   ]
  },
  {
   "cell_type": "code",
   "execution_count": 20,
   "id": "common-excitement",
   "metadata": {
    "colab": {
     "base_uri": "https://localhost:8080/"
    },
    "id": "remarkable-field",
    "outputId": "44ba780d-f5e0-4c2a-f80c-9570e2d3688b"
   },
   "outputs": [
    {
     "data": {
      "text/plain": [
       "headlines    0\n",
       "text         0\n",
       "dtype: int64"
      ]
     },
     "execution_count": 20,
     "metadata": {},
     "output_type": "execute_result"
    }
   ],
   "source": [
    "# null 값으로 변한 거 있는지 확인\n",
    "\n",
    "data.isnull().sum()"
   ]
  },
  {
   "cell_type": "code",
   "execution_count": 21,
   "id": "earned-theology",
   "metadata": {
    "id": "welsh-philippines"
   },
   "outputs": [],
   "source": [
    "# 전처리된 데이터 할당\n",
    "data['text'] = clean_text\n",
    "data['headlines'] = clean_headlines"
   ]
  },
  {
   "cell_type": "markdown",
   "id": "architectural-mystery",
   "metadata": {
    "id": "stopped-processing"
   },
   "source": [
    "#### # train, test 데이터 나누기"
   ]
  },
  {
   "cell_type": "code",
   "execution_count": 22,
   "id": "another-master",
   "metadata": {
    "colab": {
     "base_uri": "https://localhost:8080/",
     "height": 1000
    },
    "id": "sophisticated-laptop",
    "outputId": "6b3991da-eca9-40d1-a16d-41133e096d41"
   },
   "outputs": [
    {
     "name": "stdout",
     "output_type": "stream",
     "text": [
      "text min  : 1\n",
      "text max  : 60\n",
      "text mean : 38.78533956893046\n",
      "text count : 98360\n",
      "text 95% len : 45.0\n",
      "==================================================================\n",
      "headlines min  : 1\n",
      "headlines max  : 16\n",
      "headlines mean : 9.299532330215534\n",
      "headlines count : 98360\n",
      "headlines 95% len : 12.0\n",
      "==================================================================\n"
     ]
    },
    {
     "data": {
      "image/png": "[encoded data removed]",
      "text/plain": [
       "<Figure size 432x288 with 2 Axes>"
      ]
     },
     "metadata": {
      "needs_background": "light"
     },
     "output_type": "display_data"
    },
    {
     "data": {
      "image/png": "[encoded data removed]",
      "text/plain": [
       "<Figure size 432x288 with 1 Axes>"
      ]
     },
     "metadata": {
      "needs_background": "light"
     },
     "output_type": "display_data"
    },
    {
     "data": {
      "image/png": "[encoded data removed]",
      "text/plain": [
       "<Figure size 432x288 with 1 Axes>"
      ]
     },
     "metadata": {
      "needs_background": "light"
     },
     "output_type": "display_data"
    }
   ],
   "source": [
    "# 현 시점 길이 분포 출력\n",
    "\n",
    "import seaborn as sns\n",
    "\n",
    "text_each_len = [len(sentence.split()) for sentence in data['text']]\n",
    "headlines_each_len = [len(sentence.split()) for sentence in data['headlines']]\n",
    "text_qt = np.percentile(text_each_len, 95)\n",
    "headlines_qt = np.percentile(headlines_each_len, 95)\n",
    "\n",
    "\n",
    "print(f'text min  : {np.min(text_each_len)}')\n",
    "print(f'text max  : {np.max(text_each_len)}')\n",
    "print(f'text mean : {np.mean(text_each_len)}')\n",
    "print(f'text count : {len(text_each_len)}')\n",
    "print(f'text 95% len : {text_qt}')\n",
    "print('==================================================================')\n",
    "print(f'headlines min  : {np.min(headlines_each_len)}')\n",
    "print(f'headlines max  : {np.max(headlines_each_len)}')\n",
    "print(f'headlines mean : {np.mean(headlines_each_len)}')\n",
    "print(f'headlines count : {len(headlines_each_len)}')\n",
    "print(f'headlines 95% len : {headlines_qt}')\n",
    "print('==================================================================')\n",
    "\n",
    "      \n",
    "plt.subplot(1, 2, 1)\n",
    "plt.boxplot(text_each_len)\n",
    "plt.title('text lengths')\n",
    "plt.subplot(1, 2, 2)\n",
    "plt.boxplot(headlines_each_len)\n",
    "plt.title('headlines lengths')\n",
    "plt.tight_layout()\n",
    "plt.show()\n",
    "\n",
    "\n",
    "sns.histplot(text_each_len)\n",
    "plt.title('text distribution')\n",
    "plt.show()\n",
    "\n",
    "sns.histplot(headlines_each_len)\n",
    "plt.title('headlines distribution')\n",
    "plt.show()"
   ]
  },
  {
   "cell_type": "code",
   "execution_count": 23,
   "id": "micro-planning",
   "metadata": {
    "colab": {
     "base_uri": "https://localhost:8080/"
    },
    "id": "banned-introduction",
    "outputId": "a78e6027-37f9-427b-e840-1628652525da",
    "scrolled": true
   },
   "outputs": [
    {
     "name": "stdout",
     "output_type": "stream",
     "text": [
      "45 12\n"
     ]
    }
   ],
   "source": [
    "# 위 데이터를 토대로 전체 데이터의 95%를 커버할 수 있는 max_len을 각각 적용\n",
    "text_max_len = int(text_qt)\n",
    "headlines_max_len = int(headlines_qt)\n",
    "\n",
    "print(text_max_len, headlines_max_len)"
   ]
  },
  {
   "cell_type": "code",
   "execution_count": 24,
   "id": "another-destination",
   "metadata": {
    "colab": {
     "base_uri": "https://localhost:8080/"
    },
    "id": "liked-movie",
    "outputId": "c1d06d19-2a3f-4d5f-fdaa-2c11d613b0b1"
   },
   "outputs": [
    {
     "name": "stdout",
     "output_type": "stream",
     "text": [
      "Before text_mask : 98360\n",
      "After text_mask : 94521\n",
      "Before headlines_mask : 94521\n",
      "After headlines_mask : 93397\n"
     ]
    }
   ],
   "source": [
    "# 컬럼마다 max_len에 맞춰서 넘는 건 제외시키기\n",
    "# 1) text 컬럼부터 제외\n",
    "text_mask = data['text'].apply(lambda sentence: len(sentence.split()) <= text_max_len)\n",
    "print(f'Before text_mask : {len(data)}')\n",
    "data = data[text_mask]\n",
    "print(f'After text_mask : {len(data)}')\n",
    "\n",
    "# 2) headlines 컬럼 제외\n",
    "headlines_mask = data['headlines'].apply(lambda sentence: len(sentence.split()) <= headlines_max_len)\n",
    "print(f'Before headlines_mask : {len(data)}')\n",
    "data = data[headlines_mask]\n",
    "print(f'After headlines_mask : {len(data)}')\n"
   ]
  },
  {
   "cell_type": "markdown",
   "id": "coupled-physics",
   "metadata": {
    "id": "immune-device"
   },
   "source": [
    "> 이 부분에서 max_len을 각각 컬럼마다 정해주고 또 그에 맞지 않는 데이터는 잘라냈었는데, 이 이유에 대해 문득 의문이 들었었다. 근데 결국 나중에 모델에 넣어주기 위해 일괄적인 길이를 갖게 해야 하는데 해당 길이를 정의해주는 부분이라고 생각하면 될 것 같다."
   ]
  },
  {
   "cell_type": "markdown",
   "id": "pointed-windsor",
   "metadata": {
    "id": "transsexual-culture"
   },
   "source": [
    "#### # `sostoken`, `eostoken` 넣은 컬럼 만들기"
   ]
  },
  {
   "cell_type": "code",
   "execution_count": 25,
   "id": "victorian-cincinnati",
   "metadata": {
    "colab": {
     "base_uri": "https://localhost:8080/",
     "height": 206
    },
    "id": "different-nickname",
    "outputId": "33ee65ed-2764-4991-a799-22f807781d0a"
   },
   "outputs": [
    {
     "data": {
      "text/html": [
       "\n",
       "  <div id=\"df-b58b7597-32f1-421e-81ff-f0e57bacc9e6\">\n",
       "    <div class=\"colab-df-container\">\n",
       "      <div>\n",
       "<style scoped>\n",
       "    .dataframe tbody tr th:only-of-type {\n",
       "        vertical-align: middle;\n",
       "    }\n",
       "\n",
       "    .dataframe tbody tr th {\n",
       "        vertical-align: top;\n",
       "    }\n",
       "\n",
       "    .dataframe thead th {\n",
       "        text-align: right;\n",
       "    }\n",
       "</style>\n",
       "<table border=\"1\" class=\"dataframe\">\n",
       "  <thead>\n",
       "    <tr style=\"text-align: right;\">\n",
       "      <th></th>\n",
       "      <th>headlines</th>\n",
       "      <th>text</th>\n",
       "    </tr>\n",
       "  </thead>\n",
       "  <tbody>\n",
       "    <tr>\n",
       "      <th>0</th>\n",
       "      <td>upgrad learner switches to career in ml al wit...</td>\n",
       "      <td>saurav kant alumnus upgrad iiit pg program in ...</td>\n",
       "    </tr>\n",
       "    <tr>\n",
       "      <th>2</th>\n",
       "      <td>new zealand end rohit sharma led india match w...</td>\n",
       "      <td>new zealand defeated india wickets in fourth o...</td>\n",
       "    </tr>\n",
       "    <tr>\n",
       "      <th>3</th>\n",
       "      <td>aegon life iterm insurance plan helps customer...</td>\n",
       "      <td>aegon life iterm insurance plan customers enjo...</td>\n",
       "    </tr>\n",
       "    <tr>\n",
       "      <th>5</th>\n",
       "      <td>rahat fateh ali khan denies getting notice for...</td>\n",
       "      <td>pakistani singer rahat fateh ali khan denied r...</td>\n",
       "    </tr>\n",
       "    <tr>\n",
       "      <th>6</th>\n",
       "      <td>india get all out for their lowest odi total i...</td>\n",
       "      <td>india recorded lowest odi total in new zealand...</td>\n",
       "    </tr>\n",
       "  </tbody>\n",
       "</table>\n",
       "</div>\n",
       "      <button class=\"colab-df-convert\" onclick=\"convertToInteractive('df-b58b7597-32f1-421e-81ff-f0e57bacc9e6')\"\n",
       "              title=\"Convert this dataframe to an interactive table.\"\n",
       "              style=\"display:none;\">\n",
       "        \n",
       "  <svg xmlns=\"http://www.w3.org/2000/svg\" height=\"24px\"viewBox=\"0 0 24 24\"\n",
       "       width=\"24px\">\n",
       "    <path d=\"M0 0h24v24H0V0z\" fill=\"none\"/>\n",
       "    <path d=\"M18.56 5.44l.94 2.06.94-2.06 2.06-.94-2.06-.94-.94-2.06-.94 2.06-2.06.94zm-11 1L8.5 8.5l.94-2.06 2.06-.94-2.06-.94L8.5 2.5l-.94 2.06-2.06.94zm10 10l.94 2.06.94-2.06 2.06-.94-2.06-.94-.94-2.06-.94 2.06-2.06.94z\"/><path d=\"M17.41 7.96l-1.37-1.37c-.4-.4-.92-.59-1.43-.59-.52 0-1.04.2-1.43.59L10.3 9.45l-7.72 7.72c-.78.78-.78 2.05 0 2.83L4 21.41c.39.39.9.59 1.41.59.51 0 1.02-.2 1.41-.59l7.78-7.78 2.81-2.81c.8-.78.8-2.07 0-2.86zM5.41 20L4 18.59l7.72-7.72 1.47 1.35L5.41 20z\"/>\n",
       "  </svg>\n",
       "      </button>\n",
       "      \n",
       "  <style>\n",
       "    .colab-df-container {\n",
       "      display:flex;\n",
       "      flex-wrap:wrap;\n",
       "      gap: 12px;\n",
       "    }\n",
       "\n",
       "    .colab-df-convert {\n",
       "      background-color: #E8F0FE;\n",
       "      border: none;\n",
       "      border-radius: 50%;\n",
       "      cursor: pointer;\n",
       "      display: none;\n",
       "      fill: #1967D2;\n",
       "      height: 32px;\n",
       "      padding: 0 0 0 0;\n",
       "      width: 32px;\n",
       "    }\n",
       "\n",
       "    .colab-df-convert:hover {\n",
       "      background-color: #E2EBFA;\n",
       "      box-shadow: 0px 1px 2px rgba(60, 64, 67, 0.3), 0px 1px 3px 1px rgba(60, 64, 67, 0.15);\n",
       "      fill: #174EA6;\n",
       "    }\n",
       "\n",
       "    [theme=dark] .colab-df-convert {\n",
       "      background-color: #3B4455;\n",
       "      fill: #D2E3FC;\n",
       "    }\n",
       "\n",
       "    [theme=dark] .colab-df-convert:hover {\n",
       "      background-color: #434B5C;\n",
       "      box-shadow: 0px 1px 3px 1px rgba(0, 0, 0, 0.15);\n",
       "      filter: drop-shadow(0px 1px 2px rgba(0, 0, 0, 0.3));\n",
       "      fill: #FFFFFF;\n",
       "    }\n",
       "  </style>\n",
       "\n",
       "      <script>\n",
       "        const buttonEl =\n",
       "          document.querySelector('#df-b58b7597-32f1-421e-81ff-f0e57bacc9e6 button.colab-df-convert');\n",
       "        buttonEl.style.display =\n",
       "          google.colab.kernel.accessAllowed ? 'block' : 'none';\n",
       "\n",
       "        async function convertToInteractive(key) {\n",
       "          const element = document.querySelector('#df-b58b7597-32f1-421e-81ff-f0e57bacc9e6');\n",
       "          const dataTable =\n",
       "            await google.colab.kernel.invokeFunction('convertToInteractive',\n",
       "                                                     [key], {});\n",
       "          if (!dataTable) return;\n",
       "\n",
       "          const docLinkHtml = 'Like what you see? Visit the ' +\n",
       "            '<a target=\"_blank\" href=https://colab.research.google.com/notebooks/data_table.ipynb>data table notebook</a>'\n",
       "            + ' to learn more about interactive tables.';\n",
       "          element.innerHTML = '';\n",
       "          dataTable['output_type'] = 'display_data';\n",
       "          await google.colab.output.renderOutput(dataTable, element);\n",
       "          const docLink = document.createElement('div');\n",
       "          docLink.innerHTML = docLinkHtml;\n",
       "          element.appendChild(docLink);\n",
       "        }\n",
       "      </script>\n",
       "    </div>\n",
       "  </div>\n",
       "  "
      ],
      "text/plain": [
       "                                           headlines                                               text\n",
       "0  upgrad learner switches to career in ml al wit...  saurav kant alumnus upgrad iiit pg program in ...\n",
       "2  new zealand end rohit sharma led india match w...  new zealand defeated india wickets in fourth o...\n",
       "3  aegon life iterm insurance plan helps customer...  aegon life iterm insurance plan customers enjo...\n",
       "5  rahat fateh ali khan denies getting notice for...  pakistani singer rahat fateh ali khan denied r...\n",
       "6  india get all out for their lowest odi total i...  india recorded lowest odi total in new zealand..."
      ]
     },
     "execution_count": 25,
     "metadata": {},
     "output_type": "execute_result"
    }
   ],
   "source": [
    "data.head()"
   ]
  },
  {
   "cell_type": "code",
   "execution_count": 26,
   "id": "annual-overview",
   "metadata": {
    "colab": {
     "base_uri": "https://localhost:8080/",
     "height": 472
    },
    "id": "revised-acting",
    "outputId": "44f0892d-354d-465d-beed-7a16271207ed"
   },
   "outputs": [
    {
     "name": "stderr",
     "output_type": "stream",
     "text": [
      "/usr/local/lib/python3.7/dist-packages/ipykernel_launcher.py:2: SettingWithCopyWarning: \n",
      "A value is trying to be set on a copy of a slice from a DataFrame.\n",
      "Try using .loc[row_indexer,col_indexer] = value instead\n",
      "\n",
      "See the caveats in the documentation: https://pandas.pydata.org/pandas-docs/stable/user_guide/indexing.html#returning-a-view-versus-a-copy\n",
      "  \n",
      "/usr/local/lib/python3.7/dist-packages/ipykernel_launcher.py:3: SettingWithCopyWarning: \n",
      "A value is trying to be set on a copy of a slice from a DataFrame.\n",
      "Try using .loc[row_indexer,col_indexer] = value instead\n",
      "\n",
      "See the caveats in the documentation: https://pandas.pydata.org/pandas-docs/stable/user_guide/indexing.html#returning-a-view-versus-a-copy\n",
      "  This is separate from the ipykernel package so we can avoid doing imports until\n"
     ]
    },
    {
     "data": {
      "text/html": [
       "\n",
       "  <div id=\"df-e6bb4f04-edc1-4df4-a84b-74b6d4a999fa\">\n",
       "    <div class=\"colab-df-container\">\n",
       "      <div>\n",
       "<style scoped>\n",
       "    .dataframe tbody tr th:only-of-type {\n",
       "        vertical-align: middle;\n",
       "    }\n",
       "\n",
       "    .dataframe tbody tr th {\n",
       "        vertical-align: top;\n",
       "    }\n",
       "\n",
       "    .dataframe thead th {\n",
       "        text-align: right;\n",
       "    }\n",
       "</style>\n",
       "<table border=\"1\" class=\"dataframe\">\n",
       "  <thead>\n",
       "    <tr style=\"text-align: right;\">\n",
       "      <th></th>\n",
       "      <th>headlines</th>\n",
       "      <th>text</th>\n",
       "      <th>sos_added</th>\n",
       "      <th>end_added</th>\n",
       "    </tr>\n",
       "  </thead>\n",
       "  <tbody>\n",
       "    <tr>\n",
       "      <th>0</th>\n",
       "      <td>upgrad learner switches to career in ml al wit...</td>\n",
       "      <td>saurav kant alumnus upgrad iiit pg program in ...</td>\n",
       "      <td>sostoken upgrad learner switches to career in ...</td>\n",
       "      <td>upgrad learner switches to career in ml al wit...</td>\n",
       "    </tr>\n",
       "    <tr>\n",
       "      <th>2</th>\n",
       "      <td>new zealand end rohit sharma led india match w...</td>\n",
       "      <td>new zealand defeated india wickets in fourth o...</td>\n",
       "      <td>sostoken new zealand end rohit sharma led indi...</td>\n",
       "      <td>new zealand end rohit sharma led india match w...</td>\n",
       "    </tr>\n",
       "    <tr>\n",
       "      <th>3</th>\n",
       "      <td>aegon life iterm insurance plan helps customer...</td>\n",
       "      <td>aegon life iterm insurance plan customers enjo...</td>\n",
       "      <td>sostoken aegon life iterm insurance plan helps...</td>\n",
       "      <td>aegon life iterm insurance plan helps customer...</td>\n",
       "    </tr>\n",
       "  </tbody>\n",
       "</table>\n",
       "</div>\n",
       "      <button class=\"colab-df-convert\" onclick=\"convertToInteractive('df-e6bb4f04-edc1-4df4-a84b-74b6d4a999fa')\"\n",
       "              title=\"Convert this dataframe to an interactive table.\"\n",
       "              style=\"display:none;\">\n",
       "        \n",
       "  <svg xmlns=\"http://www.w3.org/2000/svg\" height=\"24px\"viewBox=\"0 0 24 24\"\n",
       "       width=\"24px\">\n",
       "    <path d=\"M0 0h24v24H0V0z\" fill=\"none\"/>\n",
       "    <path d=\"M18.56 5.44l.94 2.06.94-2.06 2.06-.94-2.06-.94-.94-2.06-.94 2.06-2.06.94zm-11 1L8.5 8.5l.94-2.06 2.06-.94-2.06-.94L8.5 2.5l-.94 2.06-2.06.94zm10 10l.94 2.06.94-2.06 2.06-.94-2.06-.94-.94-2.06-.94 2.06-2.06.94z\"/><path d=\"M17.41 7.96l-1.37-1.37c-.4-.4-.92-.59-1.43-.59-.52 0-1.04.2-1.43.59L10.3 9.45l-7.72 7.72c-.78.78-.78 2.05 0 2.83L4 21.41c.39.39.9.59 1.41.59.51 0 1.02-.2 1.41-.59l7.78-7.78 2.81-2.81c.8-.78.8-2.07 0-2.86zM5.41 20L4 18.59l7.72-7.72 1.47 1.35L5.41 20z\"/>\n",
       "  </svg>\n",
       "      </button>\n",
       "      \n",
       "  <style>\n",
       "    .colab-df-container {\n",
       "      display:flex;\n",
       "      flex-wrap:wrap;\n",
       "      gap: 12px;\n",
       "    }\n",
       "\n",
       "    .colab-df-convert {\n",
       "      background-color: #E8F0FE;\n",
       "      border: none;\n",
       "      border-radius: 50%;\n",
       "      cursor: pointer;\n",
       "      display: none;\n",
       "      fill: #1967D2;\n",
       "      height: 32px;\n",
       "      padding: 0 0 0 0;\n",
       "      width: 32px;\n",
       "    }\n",
       "\n",
       "    .colab-df-convert:hover {\n",
       "      background-color: #E2EBFA;\n",
       "      box-shadow: 0px 1px 2px rgba(60, 64, 67, 0.3), 0px 1px 3px 1px rgba(60, 64, 67, 0.15);\n",
       "      fill: #174EA6;\n",
       "    }\n",
       "\n",
       "    [theme=dark] .colab-df-convert {\n",
       "      background-color: #3B4455;\n",
       "      fill: #D2E3FC;\n",
       "    }\n",
       "\n",
       "    [theme=dark] .colab-df-convert:hover {\n",
       "      background-color: #434B5C;\n",
       "      box-shadow: 0px 1px 3px 1px rgba(0, 0, 0, 0.15);\n",
       "      filter: drop-shadow(0px 1px 2px rgba(0, 0, 0, 0.3));\n",
       "      fill: #FFFFFF;\n",
       "    }\n",
       "  </style>\n",
       "\n",
       "      <script>\n",
       "        const buttonEl =\n",
       "          document.querySelector('#df-e6bb4f04-edc1-4df4-a84b-74b6d4a999fa button.colab-df-convert');\n",
       "        buttonEl.style.display =\n",
       "          google.colab.kernel.accessAllowed ? 'block' : 'none';\n",
       "\n",
       "        async function convertToInteractive(key) {\n",
       "          const element = document.querySelector('#df-e6bb4f04-edc1-4df4-a84b-74b6d4a999fa');\n",
       "          const dataTable =\n",
       "            await google.colab.kernel.invokeFunction('convertToInteractive',\n",
       "                                                     [key], {});\n",
       "          if (!dataTable) return;\n",
       "\n",
       "          const docLinkHtml = 'Like what you see? Visit the ' +\n",
       "            '<a target=\"_blank\" href=https://colab.research.google.com/notebooks/data_table.ipynb>data table notebook</a>'\n",
       "            + ' to learn more about interactive tables.';\n",
       "          element.innerHTML = '';\n",
       "          dataTable['output_type'] = 'display_data';\n",
       "          await google.colab.output.renderOutput(dataTable, element);\n",
       "          const docLink = document.createElement('div');\n",
       "          docLink.innerHTML = docLinkHtml;\n",
       "          element.appendChild(docLink);\n",
       "        }\n",
       "      </script>\n",
       "    </div>\n",
       "  </div>\n",
       "  "
      ],
      "text/plain": [
       "                                           headlines  ...                                          end_added\n",
       "0  upgrad learner switches to career in ml al wit...  ...  upgrad learner switches to career in ml al wit...\n",
       "2  new zealand end rohit sharma led india match w...  ...  new zealand end rohit sharma led india match w...\n",
       "3  aegon life iterm insurance plan helps customer...  ...  aegon life iterm insurance plan helps customer...\n",
       "\n",
       "[3 rows x 4 columns]"
      ]
     },
     "execution_count": 26,
     "metadata": {},
     "output_type": "execute_result"
    }
   ],
   "source": [
    "# 각각 컬럼 만들기\n",
    "data['sos_added'] = data['headlines'].apply(lambda sentence: 'sostoken ' + sentence)\n",
    "data['end_added'] = data['headlines'].apply(lambda sentence: sentence + ' eostoken')\n",
    "\n",
    "data.head(3)"
   ]
  },
  {
   "cell_type": "code",
   "execution_count": 27,
   "id": "cross-merit",
   "metadata": {
    "colab": {
     "base_uri": "https://localhost:8080/",
     "height": 35
    },
    "id": "twelve-centre",
    "outputId": "f7b1538e-01b5-4671-d601-385b79989f96"
   },
   "outputs": [
    {
     "data": {
      "application/vnd.google.colaboratory.intrinsic+json": {
       "type": "string"
      },
      "text/plain": [
       "'upgrad learner switches to career in ml al with salary hike eostoken'"
      ]
     },
     "execution_count": 27,
     "metadata": {},
     "output_type": "execute_result"
    }
   ],
   "source": [
    "# end_added 잘 안보여서 확인\n",
    "data['end_added'][0]"
   ]
  },
  {
   "cell_type": "code",
   "execution_count": 28,
   "id": "seven-madagascar",
   "metadata": {
    "colab": {
     "base_uri": "https://localhost:8080/"
    },
    "id": "backed-replacement",
    "outputId": "3fd4c21e-fc54-4105-ddd0-5641e1cf2260"
   },
   "outputs": [
    {
     "name": "stdout",
     "output_type": "stream",
     "text": [
      "encoder_input len  : 93397\n",
      "decoder_input len  : 93397\n",
      "decoder_target len : 93397\n"
     ]
    }
   ],
   "source": [
    "# Numpy array로 만들기\n",
    "encoder_input = np.array(data['text'])\n",
    "decoder_input = np.array(data['sos_added'])\n",
    "decoder_target = np.array(data['end_added'])\n",
    "\n",
    "print(f'encoder_input len  : {len(encoder_input)}')\n",
    "print(f'decoder_input len  : {len(decoder_input)}')\n",
    "print(f'decoder_target len : {len(decoder_target)}')"
   ]
  },
  {
   "cell_type": "markdown",
   "id": "economic-surveillance",
   "metadata": {
    "id": "accurate-macintosh"
   },
   "source": [
    "#### # 3개의 어레이를 각각 train, test용으로 나누기(총 6개로 만들기)"
   ]
  },
  {
   "cell_type": "markdown",
   "id": "municipal-reason",
   "metadata": {
    "id": "moderate-improvement"
   },
   "source": [
    "> train_test_split을 쓰려 했으나 나눠야 하는 어레이가 3개여서 LMS 실습처럼 manual하게 나누는 방법을 따른다."
   ]
  },
  {
   "cell_type": "code",
   "execution_count": 29,
   "id": "ahead-observation",
   "metadata": {
    "colab": {
     "base_uri": "https://localhost:8080/"
    },
    "id": "elegant-heath",
    "outputId": "5492904f-58db-4b6a-bcd1-fb6552110612"
   },
   "outputs": [
    {
     "data": {
      "text/plain": [
       "array([81061, 50030, 65852, ..., 47396,   696, 38475])"
      ]
     },
     "execution_count": 29,
     "metadata": {},
     "output_type": "execute_result"
    }
   ],
   "source": [
    "# 섞을 indices 생성\n",
    "array_for_shuffle = np.arange(len(encoder_input))\n",
    "np.random.shuffle(array_for_shuffle)\n",
    "\n",
    "shuffled_indices = array_for_shuffle\n",
    "shuffled_indices"
   ]
  },
  {
   "cell_type": "code",
   "execution_count": 30,
   "id": "flexible-leisure",
   "metadata": {
    "colab": {
     "base_uri": "https://localhost:8080/"
    },
    "id": "alive-sensitivity",
    "outputId": "7aa2bb15-1b0b-4019-fa47-8f6178035513"
   },
   "outputs": [
    {
     "name": "stdout",
     "output_type": "stream",
     "text": [
      "(74718,)\n",
      "(18679,)\n"
     ]
    }
   ],
   "source": [
    "# shuffled_indices를 넣어서 섞어주기\n",
    "encoder_input = encoder_input[shuffled_indices]\n",
    "decoder_input = decoder_input[shuffled_indices]\n",
    "decoder_target = decoder_target[shuffled_indices]\n",
    "\n",
    "# 8:2 정도로 나눠주기\n",
    "train_len = round(len(encoder_input) * 0.8)\n",
    "\n",
    "# <--------------- 추후 추출적 요약(Extractive Summarization)을 위한 변수 한 개 생성\n",
    "es_input = encoder_input[:train_len].copy()\n",
    "# <------------------------------------------------------------------------\n",
    "\n",
    "# 데이터 나누기\n",
    "encoder_input_train = encoder_input[:train_len]\n",
    "decoder_input_train = decoder_input[:train_len]\n",
    "decoder_target_train = decoder_target[:train_len]\n",
    "\n",
    "encoder_input_test = encoder_input[train_len:]\n",
    "decoder_input_test = decoder_input[train_len:]\n",
    "decoder_target_test = decoder_target[train_len:]\n",
    "\n",
    "print(encoder_input_train.shape)\n",
    "print(encoder_input_test.shape)"
   ]
  },
  {
   "cell_type": "markdown",
   "id": "happy-graph",
   "metadata": {
    "id": "killing-damage"
   },
   "source": [
    "#### # encoder_input_train, decoder_input_train 각각 토큰화해서 빈도수를 토대로 각각 단어 갯수 줄여주기"
   ]
  },
  {
   "cell_type": "code",
   "execution_count": 31,
   "id": "renewable-bottle",
   "metadata": {
    "colab": {
     "base_uri": "https://localhost:8080/"
    },
    "id": "increased-baghdad",
    "outputId": "b44e131e-be79-43b2-b40b-b1180ca22303"
   },
   "outputs": [
    {
     "name": "stdout",
     "output_type": "stream",
     "text": [
      "('in', 1)\n",
      "('for', 2)\n",
      "('said', 3)\n",
      "('is', 4)\n",
      "('after', 5)\n"
     ]
    }
   ],
   "source": [
    "# encoder_input_train 토큰화\n",
    "en_tokenizer = Tokenizer()\n",
    "en_tokenizer.fit_on_texts(encoder_input_train)\n",
    "\n",
    "# 토큰화 잘 됐는지 5개만 확인\n",
    "i = 0 \n",
    "for k, v in en_tokenizer.word_index.items():\n",
    "    print((k, v))\n",
    "    i += 1\n",
    "    if i == 5:\n",
    "        break"
   ]
  },
  {
   "cell_type": "code",
   "execution_count": 32,
   "id": "dependent-assist",
   "metadata": {
    "colab": {
     "base_uri": "https://localhost:8080/"
    },
    "id": "vital-executive",
    "outputId": "2e4ab5c9-799b-4c14-e498-3e5eab1ee22e"
   },
   "outputs": [
    {
     "name": "stdout",
     "output_type": "stream",
     "text": [
      "단어 집합(vocabulary)의 크기 : 67612\n",
      "등장 빈도가 11번 이하인 희귀 단어의 수: 51435\n",
      "단어 집합에서 희귀 단어를 제외시킬 경우의 단어 집합의 크기 16177\n",
      "단어 집합에서 희귀 단어의 비율: 76.07377388629237\n",
      "전체 등장 빈도에서 희귀 단어 등장 빈도 비율: 4.885376583504237\n"
     ]
    }
   ],
   "source": [
    "# encoder_input_train의 단어 사전 내 빈도수 확인\n",
    "# 여러번 확인을 통해 단어 개수 측면에서는 약 25%만 살리면서 전체 데이터의 빈도는 95% 정도만 살리는 threshold를 12로 결정\u001f\n",
    "threshold = 12\n",
    "total_cnt = len(en_tokenizer.word_index)\n",
    "rare_cnt = 0\n",
    "total_freq = 0\n",
    "rare_freq = 0\n",
    "\n",
    "# 단어와 빈도수의 쌍(pair)을 key와 value로 받는다.\n",
    "for key, value in en_tokenizer.word_counts.items():\n",
    "    total_freq = total_freq + value\n",
    "\n",
    "    # 단어의 등장 빈도수가 threshold보다 작으면\n",
    "    if(value < threshold):\n",
    "        rare_cnt = rare_cnt + 1\n",
    "        rare_freq = rare_freq + value\n",
    "\n",
    "print('단어 집합(vocabulary)의 크기 :', total_cnt)\n",
    "print('등장 빈도가 %s번 이하인 희귀 단어의 수: %s'%(threshold - 1, rare_cnt))\n",
    "print('단어 집합에서 희귀 단어를 제외시킬 경우의 단어 집합의 크기 %s'%(total_cnt - rare_cnt))\n",
    "print(\"단어 집합에서 희귀 단어의 비율:\", (rare_cnt / total_cnt)*100)\n",
    "print(\"전체 등장 빈도에서 희귀 단어 등장 빈도 비율:\", (rare_freq / total_freq)*100)"
   ]
  },
  {
   "cell_type": "markdown",
   "id": "wanted-princess",
   "metadata": {
    "id": "veterinary-boundary"
   },
   "source": [
    "> encoder vocab은 약 16000개로 결정"
   ]
  },
  {
   "cell_type": "code",
   "execution_count": 33,
   "id": "advance-contractor",
   "metadata": {
    "colab": {
     "base_uri": "https://localhost:8080/"
    },
    "id": "transparent-hospital",
    "outputId": "b8ecc559-0f4d-4019-ecc8-ef6163675eb2",
    "scrolled": true
   },
   "outputs": [
    {
     "data": {
      "text/plain": [
       "[(97640, 'in'),\n",
       " (41577, 'for'),\n",
       " (41062, 'said'),\n",
       " (34998, 'is'),\n",
       " (21309, 'after')]"
      ]
     },
     "execution_count": 33,
     "metadata": {},
     "output_type": "execute_result"
    }
   ],
   "source": [
    "enc_vocab = 16000\n",
    "enc_tokenizer = Tokenizer(num_words=enc_vocab)\n",
    "enc_tokenizer.fit_on_texts(encoder_input_train)\n",
    "\n",
    "# 빈도수 상위 5개 확인\n",
    "sorted([(v, k) for k, v in enc_tokenizer.word_counts.items()], reverse=True)[:5]"
   ]
  },
  {
   "cell_type": "code",
   "execution_count": 34,
   "id": "competent-planner",
   "metadata": {
    "colab": {
     "base_uri": "https://localhost:8080/"
    },
    "id": "intensive-excerpt",
    "outputId": "8065afb1-83ab-45dd-8d0c-98a5cfff5c52"
   },
   "outputs": [
    {
     "name": "stdout",
     "output_type": "stream",
     "text": [
      "[[570, 85, 6389, 5844, 395, 77, 6318, 4577, 15542, 13401, 3514, 705, 8379, 223, 88, 1982, 8834, 4, 3404, 2, 33, 715, 4, 2226, 694, 8235, 9363, 1236, 35, 178, 223, 104, 2462, 149, 2080, 8379, 1828, 3514, 13401], [1002, 390, 1513, 2, 470, 38, 1810, 204, 1412, 995, 507, 1272, 164, 121, 484, 141, 102, 143, 39, 30, 6, 10, 1080, 1145, 3026, 204, 3, 954, 204, 1024, 2964, 1864, 1653, 1045, 910, 1162, 536, 1811, 1425], [219, 15, 259, 5, 5661, 8998, 2764, 1, 1279, 235, 99, 13, 95, 3, 881, 686, 4827, 745, 3576, 970, 3465, 1109, 1370, 1275, 2764, 4787, 2, 834, 539, 12, 50, 974, 14921, 12950]]\n"
     ]
    }
   ],
   "source": [
    "# 텍스트 시퀀스를 정수 시퀀스로 변환\n",
    "encoder_input_train = enc_tokenizer.texts_to_sequences(encoder_input_train) \n",
    "encoder_input_test = enc_tokenizer.texts_to_sequences(encoder_input_test)\n",
    "\n",
    "# 잘 진행되었는지 샘플 출력\n",
    "print(encoder_input_train[:3])"
   ]
  },
  {
   "cell_type": "markdown",
   "id": "elect-clone",
   "metadata": {
    "id": "considerable-enclosure"
   },
   "source": [
    "##### # decoder_input도 토큰화 진행"
   ]
  },
  {
   "cell_type": "code",
   "execution_count": 35,
   "id": "developmental-leader",
   "metadata": {
    "colab": {
     "base_uri": "https://localhost:8080/"
    },
    "id": "dangerous-developer",
    "outputId": "10beae81-2f97-4359-c541-f10a17e3cfa6"
   },
   "outputs": [
    {
     "name": "stdout",
     "output_type": "stream",
     "text": [
      "('sostoken', 1)\n",
      "('eostoken', 2)\n",
      "('to', 3)\n",
      "('in', 4)\n",
      "('for', 5)\n"
     ]
    }
   ],
   "source": [
    "# decoder_input_train 토큰화\n",
    "de_tokenizer = Tokenizer()\n",
    "de_tokenizer.fit_on_texts(decoder_input_train)\n",
    "\n",
    "# 'eostoken'추가를 위한 decoder_target_train 토큰화\n",
    "de_tokenizer.fit_on_texts(decoder_target_train)\n",
    "\n",
    "# 토큰화 잘 됐는지 5개만 확인\n",
    "i = 0 \n",
    "for k, v in de_tokenizer.word_index.items():\n",
    "    print((k, v))\n",
    "    i += 1\n",
    "    if i == 5:\n",
    "        break"
   ]
  },
  {
   "cell_type": "code",
   "execution_count": 36,
   "id": "subtle-friend",
   "metadata": {
    "colab": {
     "base_uri": "https://localhost:8080/"
    },
    "id": "subjective-accused",
    "outputId": "94026cd5-f1ca-46e4-d533-bccd7a780be9",
    "scrolled": true
   },
   "outputs": [
    {
     "name": "stdout",
     "output_type": "stream",
     "text": [
      "단어 집합(vocabulary)의 크기 : 29553\n",
      "등장 빈도가 6번 이하인 희귀 단어의 수: 16751\n",
      "단어 집합에서 희귀 단어를 제외시킬 경우의 단어 집합의 크기 12802\n",
      "단어 집합에서 희귀 단어의 비율: 56.681216796941094\n",
      "전체 등장 빈도에서 희귀 단어 등장 빈도 비율: 3.300905447179636\n"
     ]
    }
   ],
   "source": [
    "# decoder_input_train의 단어 사전 내 빈도수 확인\n",
    "# 여러번 확인을 통해 단어 개수 측면에서는 약 25%만 살리면서 전체 데이터의 빈도는 95% 정도만 살리는 threshold를 7로 결정\n",
    "threshold = 7\n",
    "total_cnt = len(de_tokenizer.word_index)\n",
    "rare_cnt = 0\n",
    "total_freq = 0\n",
    "rare_freq = 0\n",
    "\n",
    "# 단어와 빈도수의 쌍(pair)을 key와 value로 받는다.\n",
    "for key, value in de_tokenizer.word_counts.items():\n",
    "    total_freq = total_freq + value\n",
    "\n",
    "    # 단어의 등장 빈도수가 threshold보다 작으면\n",
    "    if(value < threshold):\n",
    "        rare_cnt = rare_cnt + 1\n",
    "        rare_freq = rare_freq + value\n",
    "\n",
    "print('단어 집합(vocabulary)의 크기 :', total_cnt)\n",
    "print('등장 빈도가 %s번 이하인 희귀 단어의 수: %s'%(threshold - 1, rare_cnt))\n",
    "print('단어 집합에서 희귀 단어를 제외시킬 경우의 단어 집합의 크기 %s'%(total_cnt - rare_cnt))\n",
    "print(\"단어 집합에서 희귀 단어의 비율:\", (rare_cnt / total_cnt)*100)\n",
    "print(\"전체 등장 빈도에서 희귀 단어 등장 빈도 비율:\", (rare_freq / total_freq)*100)"
   ]
  },
  {
   "cell_type": "markdown",
   "id": "apparent-college",
   "metadata": {
    "id": "annoying-madison"
   },
   "source": [
    "> decoder vocab은 9000으로 결정"
   ]
  },
  {
   "cell_type": "code",
   "execution_count": 37,
   "id": "phantom-worse",
   "metadata": {
    "colab": {
     "base_uri": "https://localhost:8080/"
    },
    "id": "jewish-quebec",
    "outputId": "fbbd7ad0-b78e-4dae-fef5-d3c127df6a88"
   },
   "outputs": [
    {
     "data": {
      "text/plain": [
       "[(74718, 'sostoken'),\n",
       " (74718, 'eostoken'),\n",
       " (47088, 'to'),\n",
       " (39802, 'in'),\n",
       " (23278, 'for')]"
      ]
     },
     "execution_count": 37,
     "metadata": {},
     "output_type": "execute_result"
    }
   ],
   "source": [
    "dec_vocab = 9000\n",
    "dec_tokenizer = Tokenizer(num_words=dec_vocab)\n",
    "dec_tokenizer.fit_on_texts(decoder_input_train)\n",
    "dec_tokenizer.fit_on_texts(decoder_target_train) # 'eostoken' 추가\n",
    "\n",
    "# 빈도수 상위 5개 확인\n",
    "sorted([(v, k) for k, v in dec_tokenizer.word_counts.items()], reverse=True)[:5]"
   ]
  },
  {
   "cell_type": "code",
   "execution_count": 38,
   "id": "nasty-paradise",
   "metadata": {
    "colab": {
     "base_uri": "https://localhost:8080/"
    },
    "id": "baking-draft",
    "outputId": "52f6772b-8b2d-41a2-e0f0-a791455f2545"
   },
   "outputs": [
    {
     "name": "stdout",
     "output_type": "stream",
     "text": [
      "[[1, 157, 149, 4242, 3, 3269, 6656, 5224, 5474, 486], [1, 283, 6, 97, 4543, 679, 556, 3, 680, 154], [1, 122, 11, 7031, 101, 2080, 4, 595]]\n",
      "====================================================================\n",
      "[[1, 129, 827, 266, 81, 403, 4712, 5], [1, 18, 1037, 7, 107, 788, 2114, 17, 737], [1, 4130, 5, 151, 11, 49, 1623, 31, 452, 5, 2428, 8367]]\n"
     ]
    }
   ],
   "source": [
    "# 텍스트 시퀀스를 정수 시퀀스로 변환\n",
    "decoder_input_train = dec_tokenizer.texts_to_sequences(decoder_input_train)\n",
    "decoder_input_test = dec_tokenizer.texts_to_sequences(decoder_input_test)\n",
    "\n",
    "# 잘 진행되었는지 샘플 출력\n",
    "print(decoder_input_train[:3])\n",
    "print('====================================================================')\n",
    "print(decoder_input_test[:3])"
   ]
  },
  {
   "cell_type": "markdown",
   "id": "impressed-bidder",
   "metadata": {
    "id": "aggregate-surgery"
   },
   "source": [
    "##### # decoder_target도 decoder_input 토큰을 통해 정수화 진행"
   ]
  },
  {
   "cell_type": "code",
   "execution_count": 39,
   "id": "multiple-people",
   "metadata": {
    "colab": {
     "base_uri": "https://localhost:8080/"
    },
    "id": "indian-jacob",
    "outputId": "6d5192a3-573f-46e4-a305-2adb63ccbd37",
    "scrolled": true
   },
   "outputs": [
    {
     "name": "stdout",
     "output_type": "stream",
     "text": [
      "[[157, 149, 4242, 3, 3269, 6656, 5224, 5474, 486, 2], [283, 6, 97, 4543, 679, 556, 3, 680, 154, 2], [122, 11, 7031, 101, 2080, 4, 595, 2]]\n",
      "====================================================================\n",
      "[[129, 827, 266, 81, 403, 4712, 5, 2], [18, 1037, 7, 107, 788, 2114, 17, 737, 2], [4130, 5, 151, 11, 49, 1623, 31, 452, 5, 2428, 8367, 2]]\n"
     ]
    }
   ],
   "source": [
    "decoder_target_train = dec_tokenizer.texts_to_sequences(decoder_target_train)\n",
    "decoder_target_test = dec_tokenizer.texts_to_sequences(decoder_target_test)\n",
    "\n",
    "# 잘 진행되었는지 샘플 출력\n",
    "print(decoder_target_train[:3])\n",
    "print('====================================================================')\n",
    "print(decoder_target_test[:3])"
   ]
  },
  {
   "cell_type": "markdown",
   "id": "maritime-cancellation",
   "metadata": {
    "id": "incorrect-buffer"
   },
   "source": [
    "#### # 토큰화 후 빈도수가 낮은 단어를 단어 사전 내에서 제외하고 정수 인코딩 했을 때 제외된 단어만 갖고 있는 데이터가 있는지 확인"
   ]
  },
  {
   "cell_type": "code",
   "execution_count": 40,
   "id": "bulgarian-catalyst",
   "metadata": {
    "colab": {
     "base_uri": "https://localhost:8080/"
    },
    "id": "periodic-oregon",
    "outputId": "7c1e8159-edef-41ff-a88a-d5f588b99487"
   },
   "outputs": [
    {
     "name": "stdout",
     "output_type": "stream",
     "text": [
      "삭제할 훈련 데이터의 개수 : 0\n",
      "삭제할 테스트 데이터의 개수 : 0\n",
      "훈련 데이터의 개수 : 74718\n",
      "훈련 레이블의 개수 : 74718\n",
      "테스트 데이터의 개수 : 18679\n",
      "테스트 레이블의 개수 : 18679\n"
     ]
    }
   ],
   "source": [
    "drop_train = [index for index, sentence in enumerate(decoder_input_train) if len(sentence) == 1]\n",
    "drop_test = [index for index, sentence in enumerate(decoder_input_test) if len(sentence) == 1]\n",
    "\n",
    "print('삭제할 훈련 데이터의 개수 :', len(drop_train))\n",
    "print('삭제할 테스트 데이터의 개수 :', len(drop_test))\n",
    "\n",
    "encoder_input_train = [sentence for index, sentence in enumerate(encoder_input_train) if index not in drop_train]\n",
    "decoder_input_train = [sentence for index, sentence in enumerate(decoder_input_train) if index not in drop_train]\n",
    "decoder_target_train = [sentence for index, sentence in enumerate(decoder_target_train) if index not in drop_train]\n",
    "\n",
    "encoder_input_test = [sentence for index, sentence in enumerate(encoder_input_test) if index not in drop_test]\n",
    "decoder_input_test = [sentence for index, sentence in enumerate(decoder_input_test) if index not in drop_test]\n",
    "decoder_target_test = [sentence for index, sentence in enumerate(decoder_target_test) if index not in drop_test]\n",
    "\n",
    "print('훈련 데이터의 개수 :', len(encoder_input_train))\n",
    "print('훈련 레이블의 개수 :', len(decoder_input_train))\n",
    "print('테스트 데이터의 개수 :', len(encoder_input_test))\n",
    "print('테스트 레이블의 개수 :', len(decoder_input_test))"
   ]
  },
  {
   "cell_type": "markdown",
   "id": "little-crown",
   "metadata": {
    "id": "right-exception"
   },
   "source": [
    "#### # 패딩"
   ]
  },
  {
   "cell_type": "code",
   "execution_count": 41,
   "id": "forbidden-context",
   "metadata": {
    "id": "australian-glossary"
   },
   "outputs": [],
   "source": [
    "# 'post'패딩으로 하는 이유가 있는 것 같다.\n",
    "# 내가 파악한 게 맞다면, 맨 밑 쪽 회고에서 풀어낼 예정이다.\n",
    "encoder_input_train = pad_sequences(encoder_input_train, maxlen=text_max_len, padding='post')\n",
    "encoder_input_test = pad_sequences(encoder_input_test, maxlen=text_max_len, padding='post')\n",
    "decoder_input_train = pad_sequences(decoder_input_train, maxlen=headlines_max_len, padding='post')\n",
    "decoder_input_test = pad_sequences(decoder_input_test, maxlen=headlines_max_len, padding='post')\n",
    "decoder_target_train = pad_sequences(decoder_target_train, maxlen=headlines_max_len, padding='post')\n",
    "decoder_target_test = pad_sequences(decoder_target_test, maxlen=headlines_max_len, padding='post')"
   ]
  },
  {
   "cell_type": "code",
   "execution_count": 42,
   "id": "legal-traffic",
   "metadata": {
    "colab": {
     "base_uri": "https://localhost:8080/"
    },
    "id": "neutral-cancellation",
    "outputId": "14fa8b87-a07d-4e0e-c690-688ac34b0e1d",
    "scrolled": true
   },
   "outputs": [
    {
     "data": {
      "text/plain": [
       "array([1002,  390, 1513,    2,  470,   38, 1810,  204, 1412,  995,  507,\n",
       "       1272,  164,  121,  484,  141,  102,  143,   39,   30,    6,   10,\n",
       "       1080, 1145, 3026,  204,    3,  954,  204, 1024, 2964, 1864, 1653,\n",
       "       1045,  910, 1162,  536, 1811, 1425,    0,    0,    0,    0,    0,\n",
       "          0], dtype=int32)"
      ]
     },
     "execution_count": 42,
     "metadata": {},
     "output_type": "execute_result"
    }
   ],
   "source": [
    "# 패딩 확인\n",
    "encoder_input_train[1]"
   ]
  },
  {
   "cell_type": "code",
   "execution_count": 43,
   "id": "better-journey",
   "metadata": {
    "colab": {
     "base_uri": "https://localhost:8080/"
    },
    "id": "norwegian-norway",
    "outputId": "a5a145bf-f005-4224-aeb2-06a60b6248cf"
   },
   "outputs": [
    {
     "data": {
      "text/plain": [
       "array([ 157,  149, 4242,    3, 3269, 6656, 5224, 5474,  486,    2,    0,\n",
       "          0], dtype=int32)"
      ]
     },
     "execution_count": 43,
     "metadata": {},
     "output_type": "execute_result"
    }
   ],
   "source": [
    "# 패딩 확인\n",
    "decoder_target_train[0]"
   ]
  },
  {
   "cell_type": "code",
   "execution_count": 44,
   "id": "coral-portrait",
   "metadata": {
    "colab": {
     "base_uri": "https://localhost:8080/"
    },
    "id": "structural-thousand",
    "outputId": "38be20c7-9d5c-4f4a-c6ef-eca0d183b8cb"
   },
   "outputs": [
    {
     "name": "stdout",
     "output_type": "stream",
     "text": [
      "(74718, 45)\n",
      "(18679, 45)\n"
     ]
    }
   ],
   "source": [
    "print(encoder_input_train.shape)\n",
    "print(encoder_input_test.shape)"
   ]
  },
  {
   "cell_type": "code",
   "execution_count": 45,
   "id": "racial-jungle",
   "metadata": {
    "colab": {
     "base_uri": "https://localhost:8080/"
    },
    "id": "parallel-formation",
    "outputId": "f93fcbb9-9ca7-4cba-bd04-36f3af047be7"
   },
   "outputs": [
    {
     "name": "stdout",
     "output_type": "stream",
     "text": [
      "(74718, 12)\n",
      "(18679, 12)\n"
     ]
    }
   ],
   "source": [
    "print(decoder_input_train.shape)\n",
    "print(decoder_input_test.shape)"
   ]
  },
  {
   "cell_type": "markdown",
   "id": "physical-invention",
   "metadata": {
    "id": "empirical-template"
   },
   "source": [
    "### Step 3. 어텐션 메커니즘 사용하기 (추상적 요약)"
   ]
  },
  {
   "cell_type": "markdown",
   "id": "meaning-garage",
   "metadata": {
    "id": "buried-nature"
   },
   "source": [
    "#### Encoder 설계"
   ]
  },
  {
   "cell_type": "code",
   "execution_count": 46,
   "id": "architectural-canadian",
   "metadata": {
    "colab": {
     "base_uri": "https://localhost:8080/"
    },
    "id": "pacific-import",
    "outputId": "83f009e4-5179-412d-9324-675dd81cad93"
   },
   "outputs": [
    {
     "name": "stdout",
     "output_type": "stream",
     "text": [
      "Model: \"model\"\n",
      "__________________________________________________________________________________________________\n",
      " Layer (type)                   Output Shape         Param #     Connected to                     \n",
      "==================================================================================================\n",
      " input_1 (InputLayer)           [(None, 45)]         0           []                               \n",
      "                                                                                                  \n",
      " embedding (Embedding)          (None, 45, 128)      2048000     ['input_1[0][0]']                \n",
      "                                                                                                  \n",
      " lstm (LSTM)                    [(None, 45, 256),    394240      ['embedding[0][0]']              \n",
      "                                 (None, 256),                                                     \n",
      "                                 (None, 256)]                                                     \n",
      "                                                                                                  \n",
      " input_2 (InputLayer)           [(None, None)]       0           []                               \n",
      "                                                                                                  \n",
      " lstm_1 (LSTM)                  [(None, 45, 256),    525312      ['lstm[0][0]']                   \n",
      "                                 (None, 256),                                                     \n",
      "                                 (None, 256)]                                                     \n",
      "                                                                                                  \n",
      " embedding_1 (Embedding)        (None, None, 128)    1152000     ['input_2[0][0]']                \n",
      "                                                                                                  \n",
      " lstm_2 (LSTM)                  [(None, 45, 256),    525312      ['lstm_1[0][0]']                 \n",
      "                                 (None, 256),                                                     \n",
      "                                 (None, 256)]                                                     \n",
      "                                                                                                  \n",
      " lstm_3 (LSTM)                  [(None, None, 256),  394240      ['embedding_1[0][0]',            \n",
      "                                 (None, 256),                     'lstm_2[0][1]',                 \n",
      "                                 (None, 256)]                     'lstm_2[0][2]']                 \n",
      "                                                                                                  \n",
      " attention_layer (AdditiveAtten  (None, None, 256)   256         ['lstm_3[0][0]',                 \n",
      " tion)                                                            'lstm_2[0][0]']                 \n",
      "                                                                                                  \n",
      " concat_layer (Concatenate)     (None, None, 512)    0           ['lstm_3[0][0]',                 \n",
      "                                                                  'attention_layer[0][0]']        \n",
      "                                                                                                  \n",
      " dense (Dense)                  (None, None, 9000)   4617000     ['concat_layer[0][0]']           \n",
      "                                                                                                  \n",
      "==================================================================================================\n",
      "Total params: 9,656,360\n",
      "Trainable params: 9,656,360\n",
      "Non-trainable params: 0\n",
      "__________________________________________________________________________________________________\n"
     ]
    }
   ],
   "source": [
    "from tensorflow.keras.layers import Input, LSTM, Embedding, Dense, Concatenate, TimeDistributed\n",
    "from tensorflow.keras.models import Model\n",
    "from tensorflow.keras.callbacks import EarlyStopping, ModelCheckpoint\n",
    "\n",
    "with strategy.scope():\n",
    "    #============================================ 인코더 설계\n",
    "    embedding_dim = 128\n",
    "    hidden_size = 256\n",
    "\n",
    "    # 인코더 Input\n",
    "    encoder_inputs = Input(shape=(text_max_len,))\n",
    "\n",
    "    # 인코더의 임베딩 층\n",
    "    enc_emb = Embedding(enc_vocab, embedding_dim)(encoder_inputs)\n",
    "\n",
    "    # 인코더의 LSTM 1\n",
    "    encoder_lstm1 = LSTM(hidden_size, return_sequences=True, return_state=True ,dropout = 0.4, recurrent_dropout = 0.4)\n",
    "    encoder_output1, state_h1, state_c1 = encoder_lstm1(enc_emb)\n",
    "\n",
    "    # 인코더의 LSTM 2\n",
    "    encoder_lstm2 = LSTM(hidden_size, return_sequences=True, return_state=True, dropout=0.4, recurrent_dropout=0.4)\n",
    "    encoder_output2, state_h2, state_c2 = encoder_lstm2(encoder_output1)\n",
    "\n",
    "    # 인코더의 LSTM 3\n",
    "    encoder_lstm3 = LSTM(hidden_size, return_state=True, return_sequences=True, dropout=0.4, recurrent_dropout=0.4)\n",
    "    encoder_outputs, state_h, state_c= encoder_lstm3(encoder_output2)\n",
    "\n",
    "    #============================================ 디코더 설계\n",
    "    decoder_inputs = Input(shape=(None,))\n",
    "\n",
    "    # 디코더의 임베딩 층\n",
    "    dec_emb_layer = Embedding(dec_vocab, embedding_dim)\n",
    "    dec_emb = dec_emb_layer(decoder_inputs)\n",
    "\n",
    "    # 디코더의 LSTM\n",
    "    decoder_lstm = LSTM(hidden_size, return_sequences=True, return_state=True, dropout=0.4, recurrent_dropout=0.2)\n",
    "    decoder_outputs, _, _ = decoder_lstm(dec_emb, initial_state=[state_h, state_c])\n",
    "\n",
    "    # 어텐션 층(어텐션 함수)\n",
    "    from tensorflow.keras.layers import AdditiveAttention\n",
    "    attn_layer = AdditiveAttention(name='attention_layer')\n",
    "\n",
    "    # 인코더와 디코더의 모든 time step의 hidden state를 어텐션 층에 전달하고 결과를 리턴\n",
    "    attn_out = attn_layer([decoder_outputs, encoder_outputs])\n",
    "\n",
    "    # 어텐션의 결과와 디코더의 hidden state들을 연결\n",
    "    decoder_concat_input = Concatenate(axis=-1, name='concat_layer')([decoder_outputs, attn_out])\n",
    "\n",
    "    # 디코더의 출력층\n",
    "    decoder_softmax_layer = Dense(dec_vocab, activation='softmax')\n",
    "    decoder_softmax_outputs = decoder_softmax_layer(decoder_concat_input)\n",
    "\n",
    "    #============================================ 모델 정의\n",
    "    model = Model([encoder_inputs, decoder_inputs], decoder_softmax_outputs)\n",
    "\n",
    "model.summary()"
   ]
  },
  {
   "cell_type": "markdown",
   "id": "closing-wyoming",
   "metadata": {
    "id": "vanilla-technical"
   },
   "source": [
    "#### # 컴파일 및 훈련"
   ]
  },
  {
   "cell_type": "markdown",
   "id": "cooperative-potential",
   "metadata": {
    "id": "minute-experience"
   },
   "source": [
    "> 훈련이 너무 길어지고 EarlyStopping이 적용되지 않아서 에포크를 15로 낮췄다."
   ]
  },
  {
   "cell_type": "code",
   "execution_count": 47,
   "id": "solid-topic",
   "metadata": {
    "colab": {
     "base_uri": "https://localhost:8080/"
    },
    "id": "mental-baseline",
    "outputId": "48b678cf-3423-4304-e38e-c3785fa2d5de",
    "scrolled": true
   },
   "outputs": [
    {
     "name": "stdout",
     "output_type": "stream",
     "text": [
      "Epoch 1/50\n",
      "WARNING:tensorflow:From /usr/local/lib/python3.7/dist-packages/keras/engine/training.py:2970: StrategyBase.unwrap (from tensorflow.python.distribute.distribute_lib) is deprecated and will be removed in a future version.\n",
      "Instructions for updating:\n",
      "use `experimental_local_results` instead.\n"
     ]
    },
    {
     "name": "stderr",
     "output_type": "stream",
     "text": [
      "WARNING:tensorflow:From /usr/local/lib/python3.7/dist-packages/keras/engine/training.py:2970: StrategyBase.unwrap (from tensorflow.python.distribute.distribute_lib) is deprecated and will be removed in a future version.\n",
      "Instructions for updating:\n",
      "use `experimental_local_results` instead.\n"
     ]
    },
    {
     "name": "stdout",
     "output_type": "stream",
     "text": [
      "292/292 [==============================] - 59s 122ms/step - loss: 5.5653 - val_loss: 5.1629\n",
      "Epoch 2/50\n",
      "292/292 [==============================] - 18s 62ms/step - loss: 5.0216 - val_loss: 4.7800\n",
      "Epoch 3/50\n",
      "292/292 [==============================] - 18s 62ms/step - loss: 4.6611 - val_loss: 4.4899\n",
      "Epoch 4/50\n",
      "292/292 [==============================] - 19s 64ms/step - loss: 4.3846 - val_loss: 4.3027\n",
      "Epoch 5/50\n",
      "292/292 [==============================] - 18s 63ms/step - loss: 4.1842 - val_loss: 4.1784\n",
      "Epoch 6/50\n",
      "292/292 [==============================] - 18s 62ms/step - loss: 4.0232 - val_loss: 4.0655\n",
      "Epoch 7/50\n",
      "292/292 [==============================] - 18s 62ms/step - loss: 3.8828 - val_loss: 3.9816\n",
      "Epoch 8/50\n",
      "292/292 [==============================] - 18s 62ms/step - loss: 3.7599 - val_loss: 3.9064\n",
      "Epoch 9/50\n",
      "292/292 [==============================] - 18s 63ms/step - loss: 3.6475 - val_loss: 3.8404\n",
      "Epoch 10/50\n",
      "292/292 [==============================] - 18s 63ms/step - loss: 3.5499 - val_loss: 3.7954\n",
      "Epoch 11/50\n",
      "292/292 [==============================] - 18s 63ms/step - loss: 3.4596 - val_loss: 3.7505\n",
      "Epoch 12/50\n",
      "292/292 [==============================] - 18s 63ms/step - loss: 3.3813 - val_loss: 3.7165\n",
      "Epoch 13/50\n",
      "292/292 [==============================] - 18s 63ms/step - loss: 3.3080 - val_loss: 3.6893\n",
      "Epoch 14/50\n",
      "292/292 [==============================] - 18s 63ms/step - loss: 3.2391 - val_loss: 3.6590\n",
      "Epoch 15/50\n",
      "292/292 [==============================] - 18s 63ms/step - loss: 3.1734 - val_loss: 3.6405\n",
      "Epoch 16/50\n",
      "292/292 [==============================] - 18s 63ms/step - loss: 3.1165 - val_loss: 3.6234\n",
      "Epoch 17/50\n",
      "292/292 [==============================] - 18s 63ms/step - loss: 3.0667 - val_loss: 3.6102\n",
      "Epoch 18/50\n",
      "292/292 [==============================] - 18s 63ms/step - loss: 3.0168 - val_loss: 3.5970\n",
      "Epoch 19/50\n",
      "292/292 [==============================] - 18s 63ms/step - loss: 2.9699 - val_loss: 3.5936\n",
      "Epoch 20/50\n",
      "292/292 [==============================] - 18s 63ms/step - loss: 2.9251 - val_loss: 3.5799\n",
      "Epoch 21/50\n",
      "292/292 [==============================] - 18s 63ms/step - loss: 2.8878 - val_loss: 3.5679\n",
      "Epoch 22/50\n",
      "292/292 [==============================] - 18s 63ms/step - loss: 2.8497 - val_loss: 3.5634\n",
      "Epoch 23/50\n",
      "292/292 [==============================] - 18s 63ms/step - loss: 2.8151 - val_loss: 3.5658\n",
      "Epoch 24/50\n",
      "292/292 [==============================] - 18s 62ms/step - loss: 2.7799 - val_loss: 3.5543\n",
      "Epoch 25/50\n",
      "292/292 [==============================] - 18s 63ms/step - loss: 2.7478 - val_loss: 3.5564\n",
      "Epoch 26/50\n",
      "292/292 [==============================] - 18s 63ms/step - loss: 2.7145 - val_loss: 3.5488\n",
      "Epoch 27/50\n",
      "292/292 [==============================] - 18s 63ms/step - loss: 2.6849 - val_loss: 3.5484\n",
      "Epoch 28/50\n",
      "292/292 [==============================] - 18s 62ms/step - loss: 2.6568 - val_loss: 3.5451\n",
      "Epoch 29/50\n",
      "292/292 [==============================] - 18s 63ms/step - loss: 2.6301 - val_loss: 3.5437\n",
      "Epoch 30/50\n",
      "292/292 [==============================] - 18s 62ms/step - loss: 2.6011 - val_loss: 3.5390\n",
      "Epoch 31/50\n",
      "292/292 [==============================] - 18s 62ms/step - loss: 2.5739 - val_loss: 3.5412\n",
      "Epoch 32/50\n",
      "292/292 [==============================] - 18s 63ms/step - loss: 2.5509 - val_loss: 3.5466\n",
      "Epoch 00032: early stopping\n"
     ]
    }
   ],
   "source": [
    "with strategy.scope():\n",
    "    model.compile(optimizer='rmsprop', loss='sparse_categorical_crossentropy')\n",
    "    es = EarlyStopping(monitor='val_loss', patience=2, verbose=1)\n",
    "    history = model.fit(x=[encoder_input_train, decoder_input_train], y=decoder_target_train, \\\n",
    "              validation_data=([encoder_input_test, decoder_input_test], decoder_target_test), \\\n",
    "              batch_size=256, callbacks=[es], epochs=50)"
   ]
  },
  {
   "cell_type": "code",
   "execution_count": 48,
   "id": "opening-religious",
   "metadata": {
    "colab": {
     "base_uri": "https://localhost:8080/",
     "height": 265
    },
    "id": "catholic-terminology",
    "outputId": "64725f83-2c21-444f-eb04-7d33db50ab4b"
   },
   "outputs": [
    {
     "data": {
      "image/png": "[encoded data removed]",
      "text/plain": [
       "<Figure size 432x288 with 1 Axes>"
      ]
     },
     "metadata": {
      "needs_background": "light"
     },
     "output_type": "display_data"
    }
   ],
   "source": [
    "plt.plot(history.history['loss'], label='train')\n",
    "plt.plot(history.history['val_loss'], label='test')\n",
    "plt.legend()\n",
    "plt.show()"
   ]
  },
  {
   "cell_type": "markdown",
   "id": "appropriate-corruption",
   "metadata": {
    "id": "expired-memorabilia"
   },
   "source": [
    "> - 그런데 왜 accuracy를 metrics로 넣지 않는 것일까?  \n",
    "> - 혹시 text summarisation의 경우 accuracy로 훈련을 판단할 수 없는 걸까?  \n",
    "\n",
    "> - 확인해 보니 text summarization도 accuracy 측정이 가능한 것 같다.  \n",
    "> - (https://towardsdatascience.com/the-ultimate-performance-metric-in-nlp-111df6c64460) 링크에서 보면 ROGUE라는 지표 세트로 text summarization은 accuracy 측정이 가능하단다."
   ]
  },
  {
   "cell_type": "markdown",
   "id": "united-yellow",
   "metadata": {
    "id": "least-speed"
   },
   "source": [
    "### Step 4. 실제 결과와 요약문 비교하기 (추상적 요약)"
   ]
  },
  {
   "cell_type": "markdown",
   "id": "speaking-government",
   "metadata": {
    "id": "hungarian-paradise"
   },
   "source": [
    "#### # 단어 집합에서 정수 <-> 단어 변환 준비"
   ]
  },
  {
   "cell_type": "markdown",
   "id": "caroline-franklin",
   "metadata": {
    "id": "fatal-serve"
   },
   "source": [
    "> 실제 output을 정수 <-> 단어로 바꿔서 표현할 수 있게 준비한다."
   ]
  },
  {
   "cell_type": "code",
   "execution_count": 49,
   "id": "naked-leadership",
   "metadata": {
    "colab": {
     "base_uri": "https://localhost:8080/"
    },
    "id": "suited-closer",
    "outputId": "0394905f-f86e-4e82-e704-8769bd88a7f5"
   },
   "outputs": [
    {
     "name": "stdout",
     "output_type": "stream",
     "text": [
      "=3\n"
     ]
    }
   ],
   "source": [
    "enc_index_to_word = enc_tokenizer.index_word # 원문 단어 집합에서 정수 -> 단어를 얻음\n",
    "dec_word_to_index = dec_tokenizer.word_index # 요약 단어 집합에서 단어 -> 정수를 얻음\n",
    "dec_index_to_word = dec_tokenizer.index_word # 요약 단어 집합에서 정수 -> 단어를 얻음\n",
    "\n",
    "print('=3')"
   ]
  },
  {
   "cell_type": "code",
   "execution_count": 50,
   "id": "international-detection",
   "metadata": {
    "colab": {
     "base_uri": "https://localhost:8080/"
    },
    "id": "lined-fleet",
    "outputId": "2b2d22ce-bf68-48cd-f452-74e9a6566b05"
   },
   "outputs": [
    {
     "name": "stdout",
     "output_type": "stream",
     "text": [
      "<class 'dict'>\n",
      "1:in\n",
      "2:for\n",
      "3:said\n",
      "4:is\n",
      "5:after\n"
     ]
    }
   ],
   "source": [
    "# type 확인 및 예시로 5개만 확인하기\n",
    "print(type(enc_index_to_word))\n",
    "\n",
    "i = 0\n",
    "for k, v in enc_index_to_word.items():\n",
    "    print(f'{k}:{v}')\n",
    "    i += 1\n",
    "    if i == 5:\n",
    "        break"
   ]
  },
  {
   "cell_type": "code",
   "execution_count": 51,
   "id": "corrected-dragon",
   "metadata": {
    "colab": {
     "base_uri": "https://localhost:8080/"
    },
    "id": "abstract-cliff",
    "outputId": "d3d6598a-3b9b-4c0b-d502-3e4380d450fb"
   },
   "outputs": [
    {
     "name": "stdout",
     "output_type": "stream",
     "text": [
      "<class 'dict'>\n",
      "sostoken:1\n",
      "eostoken:2\n",
      "to:3\n",
      "in:4\n",
      "for:5\n"
     ]
    }
   ],
   "source": [
    "# type 확인 및 예시로 5개만 확인하기\n",
    "print(type(dec_word_to_index))\n",
    "\n",
    "i = 0\n",
    "for k, v in dec_word_to_index.items():\n",
    "    print(f'{k}:{v}')\n",
    "    i += 1\n",
    "    if i == 5:\n",
    "        break"
   ]
  },
  {
   "cell_type": "markdown",
   "id": "complete-shepherd",
   "metadata": {
    "id": "superior-equality"
   },
   "source": [
    "#### # inference 모델 설계"
   ]
  },
  {
   "cell_type": "code",
   "execution_count": 52,
   "id": "mediterranean-directory",
   "metadata": {
    "colab": {
     "base_uri": "https://localhost:8080/"
    },
    "id": "ambient-religious",
    "outputId": "9fed3f68-15bf-4a15-acc5-c0553c03d822"
   },
   "outputs": [
    {
     "name": "stdout",
     "output_type": "stream",
     "text": [
      "=3\n"
     ]
    }
   ],
   "source": [
    "with strategy.scope():\n",
    "    # 인코더 설계\n",
    "    encoder_model = Model(inputs=encoder_inputs, outputs=[encoder_outputs, state_h, state_c])\n",
    "\n",
    "    # 이전 시점의 상태들을 저장하는 텐서\n",
    "    decoder_state_input_h = Input(shape=(hidden_size,))\n",
    "    decoder_state_input_c = Input(shape=(hidden_size,))\n",
    "\n",
    "    dec_emb2 = dec_emb_layer(decoder_inputs)\n",
    "\n",
    "    # 문장의 다음 단어를 예측하기 위해서 초기 상태(initial_state)를 이전 시점의 상태로 사용. 이는 뒤의 함수 decode_sequence()에 구현\n",
    "    # 훈련 과정에서와 달리 LSTM의 리턴하는 은닉 상태와 셀 상태인 state_h와 state_c를 버리지 않음.\n",
    "    decoder_outputs2, state_h2, state_c2 = decoder_lstm(dec_emb2, initial_state=[decoder_state_input_h, decoder_state_input_c])\n",
    "\n",
    "    # 어텐션 함수\n",
    "    decoder_hidden_state_input = Input(shape=(text_max_len, hidden_size))\n",
    "    attn_out_inf = attn_layer([decoder_outputs2, decoder_hidden_state_input])\n",
    "    decoder_inf_concat = Concatenate(axis=-1, name='concat')([decoder_outputs2, attn_out_inf])\n",
    "\n",
    "    # 디코더의 출력층\n",
    "    decoder_outputs2 = decoder_softmax_layer(decoder_inf_concat) \n",
    "\n",
    "    # 최종 디코더 모델\n",
    "    decoder_model = Model(\n",
    "        [decoder_inputs] + [decoder_hidden_state_input,decoder_state_input_h, decoder_state_input_c],\n",
    "        [decoder_outputs2] + [state_h2, state_c2])\n",
    "\n",
    "print('=3')"
   ]
  },
  {
   "cell_type": "markdown",
   "id": "composite-mattress",
   "metadata": {
    "id": "monthly-vulnerability"
   },
   "source": [
    "#### # 단어 생성 함수 정의"
   ]
  },
  {
   "cell_type": "code",
   "execution_count": 53,
   "id": "quantitative-damage",
   "metadata": {
    "colab": {
     "base_uri": "https://localhost:8080/"
    },
    "id": "blocked-rwanda",
    "outputId": "32f53700-3e41-4d77-87b1-b26e9ba0d221"
   },
   "outputs": [
    {
     "name": "stdout",
     "output_type": "stream",
     "text": [
      "=3\n"
     ]
    }
   ],
   "source": [
    "def decode_sequence(input_seq):\n",
    "    # 입력으로부터 인코더의 상태를 얻음\n",
    "    e_out, e_h, e_c = encoder_model.predict(input_seq)\n",
    "\n",
    "     # <SOS>에 해당하는 토큰 생성\n",
    "    target_seq = np.zeros((1,1))\n",
    "    target_seq[0, 0] = dec_word_to_index['sostoken']\n",
    "\n",
    "    stop_condition = False\n",
    "    decoded_sentence = ''\n",
    "    while not stop_condition: # stop_condition이 True가 될 때까지 루프 반복\n",
    "\n",
    "        output_tokens, h, c = decoder_model.predict([target_seq] + [e_out, e_h, e_c])\n",
    "        sampled_token_index = np.argmax(output_tokens[0, -1, :])\n",
    "        sampled_token = dec_index_to_word[sampled_token_index]\n",
    "\n",
    "        if (sampled_token!='eostoken'):\n",
    "            decoded_sentence += ' '+sampled_token\n",
    "\n",
    "        #  <eos>에 도달하거나 최대 길이를 넘으면 중단.\n",
    "        if (sampled_token == 'eostoken'  or len(decoded_sentence.split()) >= (headlines_max_len-1)):\n",
    "            stop_condition = True\n",
    "\n",
    "        # 길이가 1인 타겟 시퀀스를 업데이트\n",
    "        target_seq = np.zeros((1,1))\n",
    "        target_seq[0, 0] = sampled_token_index\n",
    "\n",
    "        # 상태를 업데이트 합니다.\n",
    "        e_h, e_c = h, c\n",
    "\n",
    "    return decoded_sentence\n",
    "print('=3')"
   ]
  },
  {
   "cell_type": "code",
   "execution_count": 54,
   "id": "statistical-start",
   "metadata": {
    "colab": {
     "base_uri": "https://localhost:8080/"
    },
    "id": "general-hungarian",
    "outputId": "8c28425e-029e-4c99-861d-3a2a736204ba"
   },
   "outputs": [
    {
     "name": "stdout",
     "output_type": "stream",
     "text": [
      "=3\n"
     ]
    }
   ],
   "source": [
    "# 원문의 정수 시퀀스를 텍스트 시퀀스로 변환\n",
    "def seq2text(input_seq):\n",
    "    temp=''\n",
    "    for i in input_seq:\n",
    "        if (i!=0):\n",
    "            temp = temp + enc_index_to_word[i]+' '\n",
    "    return temp\n",
    "\n",
    "# 요약문의 정수 시퀀스를 텍스트 시퀀스로 변환\n",
    "def seq2summary(input_seq):\n",
    "    temp=''\n",
    "    for i in input_seq:\n",
    "        if ((i!=0 and i!=dec_word_to_index['sostoken']) and i!=dec_word_to_index['eostoken']):\n",
    "            temp = temp + dec_index_to_word[i] + ' '\n",
    "    return temp\n",
    "\n",
    "print('=3')"
   ]
  },
  {
   "cell_type": "code",
   "execution_count": 55,
   "id": "earned-register",
   "metadata": {
    "colab": {
     "base_uri": "https://localhost:8080/"
    },
    "id": "strong-jaguar",
    "outputId": "17097f60-2856-42ab-eaea-7ffe34d7b72f"
   },
   "outputs": [
    {
     "name": "stdout",
     "output_type": "stream",
     "text": [
      "원문 : mumbai indians dismissed for joint lowest ipl total sunrisers hyderabad registered run victory in ipl tuesday srh successfully defended runs is second lowest total ever defended in ipl only third match in year history tournament in all wickets fell \n",
      "실제 요약 : mi register their joint lowest ipl total in loss against srh \n",
      "예측 요약 :  mi beat mi by runs to register highest ipl loss\n",
      "\n",
      "\n",
      "원문 : government wednesday introduced bill in lok sabha allow voluntary use aadhaar for services like opening bank accounts obtaining new sim cards bill also gives minors option opt out aadhaar scheme upon turning years provides for penalties crore for violating provisions aadhaar act \n",
      "실제 요약 : govt bill to allow voluntary use of aadhaar for \n",
      "예측 요약 :  aadhaar mandatory for aadhaar mandatory for aadhaar\n",
      "\n",
      "\n",
      "원문 : audi tuesday unveiled first ever completely electric suv starting price in united states car go kmph in seconds top speed kmph audi is looking bring first all electric car india in fourth quarter \n",
      "실제 요약 : audi unveils its st all electric suv set to launch in india \n",
      "예측 요약 :  unveils its first suv car with km km\n",
      "\n",
      "\n",
      "원문 : paris banned all sexist discriminatory ads billboards ban proposed department for equality women men fight against discrimination includes image deemed defame nationality religion sex age paris is preventing images for certain categories citizens officials said \n",
      "실제 요약 : paris bans sexist discriminatory ads on \n",
      "예측 요약 :  ban on magazine bans year ban on burqa ban\n",
      "\n",
      "\n",
      "원문 : condemning abortions terminate likely produce disabled ill children pope francis saturday said practice is similar nazi attempts create pure race eliminating adding world nazis said children accepted come god sends \n",
      "실제 요약 : abortion to avoid birth defects similar to nazi crimes pope \n",
      "예측 요약 :  pope urges human to use pope to help\n",
      "\n",
      "\n",
      "원문 : income tax department released list people exempted linking aadhaar card pan for have aadhaar aadhaar enrolment id list includes all non residential indians citizens foreign nations individuals aged years more residents assam meghalaya jammu kashmir \n",
      "실제 요약 : govt issues list of people exempted from aadhaar pan linking \n",
      "예측 요약 :  aadhaar number of aadhaar card linked to be linked to\n",
      "\n",
      "\n",
      "원문 : woman in china hit three luxury cars including bmw audi trying exit parking lot woman struggling reverse white sedan when against blue when tried reverse car hit parked audi car followed bmw \n",
      "실제 요약 : woman hits bmw audi cars while trying to exit parking \n",
      "예측 요약 :  woman runs off car after flying car to stop\n",
      "\n",
      "\n",
      "원문 : american man claimed left trapped inside home after delivery man left package underneath door handle leaving handle lawrence said maintenance managers building managed rescue later informed delivery company tweeted emergency would have been \n",
      "실제 요약 : us man gets trapped in home as package blocks door handle \n",
      "예측 요약 :  man finds pet car in front of him in mumbai\n",
      "\n",
      "\n",
      "원문 : singapore currently plan regulate cryptocurrencies bitcoin central bank chief ravi menon said said country already requires cryptocurrency exchange operators comply requirements combat money laundering terrorism financing added bank focus is determine risks would require regulatory response \n",
      "실제 요약 : singapore will not regulate cryptocurrencies central bank \n",
      "예측 요약 :  crypto will be used to be used to sell crypto uk\n",
      "\n",
      "\n",
      "원문 : ex india captain sunil gavaskar commentating in fourth australia india test trolled australian commentator kerry dubbed racist for insulting indians bowler whose name only pronounce said gavaskar when australia came bowl third test said why name kid cheteshwar jadeja \n",
      "실제 요약 : gavaskar trolls says only he can \n",
      "예측 요약 :  gavaskar trolls gavaskar on gavaskar gavaskar\n",
      "\n",
      "\n",
      "원문 : us based ride hailing startup uber burned billion since founded nine years ago according bloomberg net revenue billion uber billion cash in hand investors reportedly contributed billion startup company burned huge amount in initial stages per data \n",
      "실제 요약 : uber burned through about billion in years report \n",
      "예측 요약 :  uber rival lyft to add bn in revenue quarter\n",
      "\n",
      "\n",
      "원문 : family army jawan giri in haryana area reportedly been abducted liquor mafia for allegedly opposing liquor vendor in village giri is currently posted jammu border said soldiers serving nation is responsible for safety family members administration needs answer \n",
      "실제 요약 : jawan family abducted by liquor mafia in haryana \n",
      "예측 요약 :  army jawan martyred in encounter in srinagar\n",
      "\n",
      "\n",
      "원문 : dera sacha sauda chief gurmeet ram rahim thursday said have always respected law despite suffering present in court appealed followers maintain peace saying complete faith in god comes day before court verdict in rape case against \n",
      "실제 요약 : will be in court despite ram rahim before verdict \n",
      "예측 요약 :  will not be spared if ram rahim has no place dera\n",
      "\n",
      "\n",
      "원문 : speaking government plans bring regulations for social media information broadcasting minister smriti irani said government working become troll monitor social media is helpful cannot ignore capacity fake news cannot ignore technology engineered added \n",
      "실제 요약 : government working to become troll monitor smriti irani \n",
      "예측 요약 :  govt asks media to irani posts how to social media\n",
      "\n",
      "\n",
      "원문 : salary allowances received punjab mlas displayed official website information immovable properties all mlas mps state also put government website ruling congress party promised allowances received mlas would updated every month official website \n",
      "실제 요약 : salary of punjab mlas to be made public \n",
      "예측 요약 :  delhi ministers to pay crore for ministers\n",
      "\n",
      "\n",
      "원문 : swiss world number one roger federer for second year in row decided skip clay court season including french open time grand slam champion one french open name is set lose world number one ranking rafael nadal after exiting in second round miami masters \n",
      "실제 요약 : world no federer to skip clay court tour and french open \n",
      "예측 요약 :  federer nadal to face tennis open on st grand slam\n",
      "\n",
      "\n",
      "원문 : pub in england cancelled charity race scheduled take place saturday after icy weather made slow compete pub said cold snap led medical problem racing is called notably temperatures across most europe normal for time year \n",
      "실제 요약 : race cancelled as cold makes too slow \n",
      "예측 요약 :  models wear cruise to be sold for sale at home\n",
      "\n",
      "\n",
      "원문 : in bid eradicate cattle disease new zealand kill lakh cows next two years pm jacinda ardern said new zealand spend million largest mass animal slaughter in country history around cows have already been killed since disease first detected last year \n",
      "실제 요약 : new zealand to kill lakh cows to end disease \n",
      "예측 요약 :  new zealand pm to open cow attack on human rights\n",
      "\n",
      "\n",
      "원문 : protesting against us president donald trump policy separating migrant children parents church in indiana placed statues baby jesus mary joseph in cage church authorities said family refugees seeking asylum after jesus birth notably trump signed order last month roll back policy \n",
      "실제 요약 : us church baby jesus to protest immigration policy \n",
      "예측 요약 :  trump slams church over child killing children\n",
      "\n",
      "\n",
      "원문 : aam aadmi party chief arvind kejriwal monday urged supporters donate least month party ahead lok sabha elections is for first time in history party is government cash rich run funds depend money corrupt millionaires kejriwal said \n",
      "실제 요약 : aap is donate so we can contest polls kejriwal \n",
      "예측 요약 :  aap to contest polls from aap office in polls\n",
      "\n",
      "\n"
     ]
    }
   ],
   "source": [
    "# 20개 확인\n",
    "for i in range(50, 70):\n",
    "    print(\"원문 :\", seq2text(encoder_input_test[i]))\n",
    "    print(\"실제 요약 :\", seq2summary(decoder_input_test[i]))\n",
    "    print(\"예측 요약 :\", decode_sequence(encoder_input_test[i].reshape(1, text_max_len)))\n",
    "    print(\"\\n\")"
   ]
  },
  {
   "cell_type": "markdown",
   "id": "animal-runner",
   "metadata": {
    "id": "center-rachel"
   },
   "source": [
    "#### feedback\n",
    "> - 'aadhaar mandatory for aadhaar mandatory for aadhaar'... 한 단어의 반복이 많다.\n",
    "> - 'man finds pet car in front of him in mumbai`... 말도 안되는 문맥으로 원문에 없던 요약을 만들어냈는데, 기가 막히게 말이 되는 추출이다..\n",
    "\n",
    "> - 솔직히 20개를 직접 확인해보니 단어는 비슷하게 뽑는 것 같은데, 잘 맞는 요약인지 모르겠다.\n",
    "> - 그리고 원문과 상관 없는데 정말 말이 되는 요약을 만들어 낸 게 몇 개 눈에 띈다."
   ]
  },
  {
   "cell_type": "markdown",
   "id": "agricultural-charge",
   "metadata": {
    "id": "brief-terrain"
   },
   "source": [
    "### Step 5. Summa을 이용해서 추출적 요약해보기"
   ]
  },
  {
   "cell_type": "code",
   "execution_count": 56,
   "id": "hindu-trace",
   "metadata": {
    "colab": {
     "base_uri": "https://localhost:8080/"
    },
    "id": "isolated-blanket",
    "outputId": "be2f880a-c753-42d7-ed12-ff6b89d61611"
   },
   "outputs": [
    {
     "name": "stdout",
     "output_type": "stream",
     "text": [
      "Collecting summa\n",
      "  Downloading summa-1.2.0.tar.gz (54 kB)\n",
      "\u001b[K     |████████████████████████████████| 54 kB 2.0 MB/s \n",
      "\u001b[?25hRequirement already satisfied: scipy>=0.19 in /usr/local/lib/python3.7/dist-packages (from summa) (1.4.1)\n",
      "Requirement already satisfied: numpy>=1.13.3 in /usr/local/lib/python3.7/dist-packages (from scipy>=0.19->summa) (1.19.5)\n",
      "Building wheels for collected packages: summa\n",
      "  Building wheel for summa (setup.py) ... \u001b[?25l\u001b[?25hdone\n",
      "  Created wheel for summa: filename=summa-1.2.0-py3-none-any.whl size=54412 sha256=9b90f77cf3db84a4135dabf69f23ce87e7569f5db0523bd518f1647c9fea94d2\n",
      "  Stored in directory: /root/.cache/pip/wheels/29/64/ac/7b443477588d365ef37ada30d456bdf5f07dc5be9f6324cb6e\n",
      "Successfully built summa\n",
      "Installing collected packages: summa\n",
      "Successfully installed summa-1.2.0\n"
     ]
    }
   ],
   "source": [
    "!pip install summa\n",
    "from summa.summarizer import summarize"
   ]
  },
  {
   "cell_type": "code",
   "execution_count": 57,
   "id": "dying-present",
   "metadata": {
    "colab": {
     "base_uri": "https://localhost:8080/"
    },
    "id": "consistent-crack",
    "outputId": "8d710415-4033-4f9e-f4f8-14cadc131cb4"
   },
   "outputs": [
    {
     "name": "stdout",
     "output_type": "stream",
     "text": [
      "원문 : mumbai indians dismissed for joint lowest ipl total sunrisers hyderabad registered run victory in ipl tuesday srh successfully defended runs is second lowest total ever defended in ipl only third match in year history tournament in all wickets fell \n",
      "실제 요약 : mi register their joint lowest ipl total in loss against srh \n",
      "예측 요약 : \n",
      "\n",
      "\n",
      "원문 : government wednesday introduced bill in lok sabha allow voluntary use aadhaar for services like opening bank accounts obtaining new sim cards bill also gives minors option opt out aadhaar scheme upon turning years provides for penalties crore for violating provisions aadhaar act \n",
      "실제 요약 : govt bill to allow voluntary use of aadhaar for \n",
      "예측 요약 : \n",
      "\n",
      "\n",
      "원문 : audi tuesday unveiled first ever completely electric suv starting price in united states car go kmph in seconds top speed kmph audi is looking bring first all electric car india in fourth quarter \n",
      "실제 요약 : audi unveils its st all electric suv set to launch in india \n",
      "예측 요약 : \n",
      "\n",
      "\n",
      "원문 : paris banned all sexist discriminatory ads billboards ban proposed department for equality women men fight against discrimination includes image deemed defame nationality religion sex age paris is preventing images for certain categories citizens officials said \n",
      "실제 요약 : paris bans sexist discriminatory ads on \n",
      "예측 요약 : \n",
      "\n",
      "\n",
      "원문 : condemning abortions terminate likely produce disabled ill children pope francis saturday said practice is similar nazi attempts create pure race eliminating adding world nazis said children accepted come god sends \n",
      "실제 요약 : abortion to avoid birth defects similar to nazi crimes pope \n",
      "예측 요약 : \n",
      "\n",
      "\n"
     ]
    }
   ],
   "source": [
    "# 5개만 실험으로 진행\n",
    "for i in range(50, 55):\n",
    "    print(\"원문 :\", seq2text(encoder_input_test[i]))\n",
    "    print(\"실제 요약 :\", seq2summary(decoder_input_test[i]))\n",
    "    print(\"예측 요약 :\", summarize(seq2text(encoder_input_test[i])))\n",
    "    print('\\n')"
   ]
  },
  {
   "cell_type": "markdown",
   "id": "automated-taste",
   "metadata": {
    "id": "ignored-toner"
   },
   "source": [
    "> 훈련 때 쓴 encoder_input 텍스트는 무슨 이유에서인지 추출적 요약이 나오질 않아서 다른 식으로 되는지 해보자"
   ]
  },
  {
   "cell_type": "code",
   "execution_count": 58,
   "id": "excessive-peter",
   "metadata": {
    "colab": {
     "base_uri": "https://localhost:8080/"
    },
    "id": "substantial-interaction",
    "outputId": "89354eb4-0d38-484f-91a1-655e00958fb9"
   },
   "outputs": [
    {
     "name": "stdout",
     "output_type": "stream",
     "text": [
      "원문 : mumbai indians dismissed for joint lowest ipl total sunrisers hyderabad registered run victory in ipl tuesday srh successfully defended runs is second lowest total ever defended in ipl only third match in year history tournament in all wickets fell \n",
      "실제 요약 : mi register their joint lowest ipl total in loss against srh \n",
      "예측 요약 : \n",
      "\n",
      "\n",
      "원문 : government wednesday introduced bill in lok sabha allow voluntary use aadhaar for services like opening bank accounts obtaining new sim cards bill also gives minors option opt out aadhaar scheme upon turning years provides for penalties crore for violating provisions aadhaar act \n",
      "실제 요약 : govt bill to allow voluntary use of aadhaar for \n",
      "예측 요약 : \n",
      "\n",
      "\n",
      "원문 : audi tuesday unveiled first ever completely electric suv starting price in united states car go kmph in seconds top speed kmph audi is looking bring first all electric car india in fourth quarter \n",
      "실제 요약 : audi unveils its st all electric suv set to launch in india \n",
      "예측 요약 : \n",
      "\n",
      "\n",
      "원문 : paris banned all sexist discriminatory ads billboards ban proposed department for equality women men fight against discrimination includes image deemed defame nationality religion sex age paris is preventing images for certain categories citizens officials said \n",
      "실제 요약 : paris bans sexist discriminatory ads on \n",
      "예측 요약 : \n",
      "\n",
      "\n",
      "원문 : condemning abortions terminate likely produce disabled ill children pope francis saturday said practice is similar nazi attempts create pure race eliminating adding world nazis said children accepted come god sends \n",
      "실제 요약 : abortion to avoid birth defects similar to nazi crimes pope \n",
      "예측 요약 : \n",
      "\n",
      "\n"
     ]
    }
   ],
   "source": [
    "# 5개만 실험으로 진행\n",
    "for i in range(50, 55):\n",
    "    print(\"원문 :\", seq2text(encoder_input_test[i]))\n",
    "    print(\"실제 요약 :\", seq2summary(decoder_input_test[i]))\n",
    "    print(\"예측 요약 :\", summarize(es_input[i], ratio=0.5))\n",
    "    print('\\n')"
   ]
  },
  {
   "cell_type": "markdown",
   "id": "immediate-chrome",
   "metadata": {
    "id": "collect-southeast"
   },
   "source": [
    "> #### feedback\n",
    "> - 어떤 식으로 해도 `summa.summarize()`로서 추출적 요약이 진행되지 않아서 이만 마무리한다."
   ]
  },
  {
   "cell_type": "markdown",
   "id": "developmental-reality",
   "metadata": {
    "id": "north-tuning"
   },
   "source": [
    "## 회고\n",
    "\n",
    "#### Point 1) 불용어 포함한 데이터의 효과\n",
    "- 영어 뉴스 텍스트는 특성상 전문적인 용어, 즉 대문자로 시작하는 고유명사나 명칭 등이 많은데, 대문자 -> 소문자, 그리고 `'`삭제 등으로 인해 의미 해석이 난감해지는 것 같았다.\n",
    "- 그리고 실제 텍스트는 어찌 됐든 모든 불용어를 포함해서 의미를 만들어내지 않던가...\n",
    "- 불용어를 제외하지 않은 버전으로 모델에 넣어보는 것도 궁금하다.\n",
    "\n",
    "#### Point 2) 한 눈에 보이지 않는 NLP 데이터\n",
    "- NLP의 경우 텍스트 전처리가 많은 것 같은데, 이 때마다 잘 처리됐는지 확인하는 습관이 좋은 듯하다.\n",
    "- 특히, NLP의 경우 이런 저런 특이한 케이스가 많은데 워낙 데이터 수가 많다 보니 일일이 확인하기 힘든 것 같다.\n",
    "- 그래서 NLP 데이터 전처리 후에는 항상 `print()`해보고, 이를 통해 때때로 생기는 empty cell이나 코드 작성 잘못으로 엉뚱한 곳에 처리된 전처리를 방지하는 습관을 길러야겠다.\n",
    "\n",
    "#### Point 3) optimizer 사용\n",
    "- 실습 때 rmsprop을 사용해서 val_loss 가 줄어들지 않는 걸 보고 `adam`으로 해봤다.\n",
    "- 돌려놓고 보고 loss들이 소수점 0.0001대까지 계속 떨어지며 epochs 50을 끝까지 채우고 있었다...\n",
    "- EarlyStopping 콜백을 쓰면 무조건 빨리 끝나겠다 싶었는데, 그게 아니었다.\n",
    "- 이를 통해 EarlyStopping이 발휘되는 조건을 알게 되었다.\n",
    "\n",
    "#### Point 4) 모델의 이해\n",
    "- 사실 아직도 RNN, LSTM, Attention 메커니즘이 잘 이해되지 않는다.\n",
    "- 모델에 대한 공부가 필요함을 느끼고, 더불어 전체적인 공부량이 늘어나는 만큼 나의 진로 방향성을 뾰족하게 해서 더 집중하는 게 필요하겠다는 생각도 든다.\n",
    "\n",
    "#### Point 5) val_loss가 loss보다 더 낮게 시작하는 이유\n",
    "- 몇 번을 모델을 돌려봐도 항상 val_loss가 더 낮다.\n",
    "- 이유가 뭘까...?\n",
    "- 데이터 숫자가 가장 눈에 띄는 점인데, 데이터 수가 적으면 초기에는 무조건 어떤 가중치여도 더 잘 fit하다고 보면 되는 걸까?\n",
    "- 이렇게 난해한 해석이 필요하거나 더 많은 실험이 필요한 경우에는 교육생, 퍼실 등등 많은 사람의 피드백과 의견 나눔이 있으면 공부에 더 좋을 것 같다.\n",
    "\n",
    "#### Point 6) `요약 : sostoken sostoken sostoken...`의 이유\n",
    "- 이 부분에서 굉장히 헤매면서 이번 프로젝트에서 굉장히 많은 점을 발견했다.\n",
    "- 일단 내가 제일 먼저 겪었던 문제는 요약 문장 출력 시 나오는 알 수 없는 패턴이었다.\n",
    "  - `sostoken man man man man man...`\n",
    "  - 혹은 `sostoken appel appel appel appel...`\n",
    "  - 이런 패턴이 한 번 나오면 모든 문장의 요약에서 계속 나왔는데, 아무리 찾아도 모델 설계, decode 함수에는 문제가 없었다.\n",
    "  - 그래서 나는 처음 코드부터 차근차근 보기로 했다.(실습 시 코드와 비교하면서 봤다.)\n",
    "  - 그래서 찾아낸 이유는 바로 `padding='pre'`와 `padding='post'`의 차이...\n",
    "  - 실습시는 `'post'`였고, 나는 어디서 주워들은 걸 토대로 여기서는 `'pre'`로 데이터를 전처리했었다.\n",
    "  - 그런데 생각해보니 이로 인해 input 문장들의 제일 처음 단어는 sostoken이 아니라 패딩이 되어버렸었다...\n",
    "  - 그리고 이 때문에 sostoken이 요약 시 튀어나왔고, 그 이후에 한 단어가 나온 이유는... 아직 잘 모르겠다.\n",
    "- 그리고 해결된 줄 알았던 나의 요약 출력은 `sostoken sostoken sostoken...` 출력으로 인해 다시 한 번 난관에 부딪혔다.\n",
    "  - 근데 이 이유는 사실 단순했다.\n",
    "  - 내가 모르고 어느 순간 손코딩을 하면서 decoder_target 변수에 실제 들어갈 `eostoken`으로 끝나는 문장이 아니라 `sostoken`으로 시작하는 문장을 넣어버린 것이다.\n",
    "  - 이렇다 보니 훈련 시 `sostoken ....`으로 하는 것을 정답으로 훈련됐고,\n",
    "  - 당연히 이로 인해 decode 함수의 코드에 따라 내 요약 문장은 `sostoken`의 무한 출력으로 변해버린 것이다.(`sostoken`이 확률이 제일 높게 나오니까...)\n",
    "  - 여튼 이런 실수들을 통해 코드가 어떤 일을 하는지 깊숙하게 이해할 수 있었던 것 같다.\n",
    "\n",
    "#### Point 7) summa 패키지 사용\n",
    "- 음... 추출적 요약으로서 summa는 요약 문장을 반환할 때가 있고 안 할 때가 있다.\n",
    "- 일단 나의 추측은,\n",
    "- 1) 전부 다 소문자일 경우\n",
    "- 2) 혹은 길이가 짧을 경우\n",
    "- 이럴 때는 나오지 않았던 것 같다.\n",
    "- 그리고 `words`라는 파라미터가 있는데 그게 진짜 영단어 기준으로 몇 개를 반환하는지 모르겠다.(왜냐하면 str은 알파벳 1개를 len() 1개로 나타내니까)\n",
    "- 여튼 그런데 summa 패키지와 관련해서 제일 놀랍고 당혹스러웠던 것은 이 패키지에 대해 제대로된 documentation이 없다는 것이다...\n",
    "- 사실 이렇게 `각 파라미터마다 의미하는 게 뭔지`, `어떤 걸 기준으로 텍스트가 반환되고 안 되는지`를 알기 힘든 이런 패키지는 실습 및 과제 때 사용되지 않는 게 좋을 것 같다.(이외에 다른 extractive summarization 패키지를 쓰려 했으나 여러 어려움이 있어서 시도를 중단했다.)"
   ]
  }
 ],
 "metadata": {
  "accelerator": "TPU",
  "colab": {
   "collapsed_sections": [],
   "name": "[E_08]Project_Text_Summarisation(colab)_2.ipynb",
   "provenance": []
  },
  "kernelspec": {
   "display_name": "Python 3",
   "language": "python",
   "name": "python3"
  },
  "language_info": {
   "codemirror_mode": {
    "name": "ipython",
    "version": 3
   },
   "file_extension": ".py",
   "mimetype": "text/x-python",
   "name": "python",
   "nbconvert_exporter": "python",
   "pygments_lexer": "ipython3",
   "version": "3.7.9"
  }
 },
 "nbformat": 4,
 "nbformat_minor": 5
}
