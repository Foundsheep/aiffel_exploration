{
 "cells": [
  {
   "cell_type": "markdown",
   "id": "awful-bumper",
   "metadata": {},
   "source": [
    "## 12-4. Hello Scikit-learn\n"
   ]
  },
  {
   "cell_type": "code",
   "execution_count": 1,
   "id": "middle-mattress",
   "metadata": {},
   "outputs": [
    {
     "name": "stdout",
     "output_type": "stream",
     "text": [
      "0.23.0\n"
     ]
    }
   ],
   "source": [
    "import sklearn\n",
    "print(sklearn.__version__)"
   ]
  },
  {
   "cell_type": "markdown",
   "id": "dressed-collect",
   "metadata": {},
   "source": [
    "## 12-6. 사이킷런의 주요 모듈 (2) 회귀 모델 실습\n"
   ]
  },
  {
   "cell_type": "code",
   "execution_count": 2,
   "id": "single-feeding",
   "metadata": {},
   "outputs": [
    {
     "data": {
      "text/plain": [
       "<matplotlib.collections.PathCollection at 0x7f9a8ed03690>"
      ]
     },
     "execution_count": 2,
     "metadata": {},
     "output_type": "execute_result"
    },
    {
     "data": {
      "image/png": "[encoded data removed]",
      "text/plain": [
       "<Figure size 432x288 with 1 Axes>"
      ]
     },
     "metadata": {
      "needs_background": "light"
     },
     "output_type": "display_data"
    }
   ],
   "source": [
    "# 회귀 모델을 통해 실습\n",
    "\n",
    "import numpy as np\n",
    "import matplotlib.pyplot as plt\n",
    "r = np.random.RandomState(10)\n",
    "x = 10 * r.rand(100)\n",
    "y = 2 * x - 3 * r.rand(100)\n",
    "plt.scatter(x,y)"
   ]
  },
  {
   "cell_type": "code",
   "execution_count": 3,
   "id": "demographic-initial",
   "metadata": {},
   "outputs": [
    {
     "name": "stdout",
     "output_type": "stream",
     "text": [
      "(100,)\n",
      "(100,)\n"
     ]
    }
   ],
   "source": [
    "# 입력 데이터 및 정답 데이터 확인\n",
    "print(x.shape)\n",
    "print(y.shape)"
   ]
  },
  {
   "cell_type": "code",
   "execution_count": 4,
   "id": "regional-colors",
   "metadata": {},
   "outputs": [
    {
     "data": {
      "text/plain": [
       "RandomState(MT19937) at 0x7F9A868E5160"
      ]
     },
     "execution_count": 4,
     "metadata": {},
     "output_type": "execute_result"
    }
   ],
   "source": [
    "test = np.random.RandomState(3)\n",
    "test"
   ]
  },
  {
   "cell_type": "code",
   "execution_count": 6,
   "id": "several-float",
   "metadata": {},
   "outputs": [
    {
     "name": "stdout",
     "output_type": "stream",
     "text": [
      "============================================================\n",
      "A: [0.5507979025745755, 0.7081478226181048, 0.2909047389129443, 0.510827605197663]\n",
      "B: [0.5507979025745755, 0.7081478226181048, 0.2909047389129443, 0.510827605197663]\n",
      "============================================================\n"
     ]
    }
   ],
   "source": [
    "import numpy as np\n",
    "\"\"\"\n",
    "np.random.seed(SEED) 로 random을 생성하게 될 경우, \n",
    "\"\"\"\n",
    "def random_int_gen_with_global_seed(size=10, seed=0):\n",
    "    np.random.seed(seed)\n",
    "    return np.random.random(size=size)\n",
    "\n",
    "np.random.seed(3)\n",
    "# seed를 3으로 세팅하고, random number를 2개 뽑습니다.\n",
    "A = list(np.random.random(size=4))\n",
    "\n",
    "# random_int_gen_with_global_seed 내에서\n",
    "# 같은 seed를 세팅하고, random number를 2개 뽑고.\n",
    "# 함수 밖에서, seed를 세팅하지 않고, 2개를 더 뽑아서 합칩니다.\n",
    "# 즉, 함수 안에서 반을, 함수 밖에서 반을 뽑는 것이죠.\n",
    "B = list(random_int_gen_with_global_seed(2, seed=3))\n",
    "B+= list(np.random.random(size=2))\n",
    "\n",
    "# 그리고, A, B를 비교해보면 완전히 같은 것을 알 수 있습니다. \n",
    "# 즉, 함수 내에서 np.random.seed() 를 실행하여 seed를 새롭게 설정하면, \n",
    "# 함수 밖에서도 seed가 다시 세팅된다는 것이죠.\n",
    "print(\"==\"*30)\n",
    "print(f\"A: {A}\")\n",
    "print(f\"B: {B}\")\n",
    "assert A==B\n",
    "print(\"==\" * 30)"
   ]
  },
  {
   "cell_type": "code",
   "execution_count": 12,
   "id": "dynamic-australian",
   "metadata": {},
   "outputs": [
    {
     "name": "stdout",
     "output_type": "stream",
     "text": [
      "============================================================\n",
      "global seed num: [0.5507979  0.70814782 0.29090474 0.51082761 0.89294695 0.89629309]\n",
      "local  seed num: [0.96702984 0.54723225 0.97268436 0.71481599 0.69772882 0.2160895 ]\n",
      "============================================================\n"
     ]
    }
   ],
   "source": [
    "import numpy as np\n",
    "\"\"\"\n",
    "np.random.seed(SEED) 로 random을 생성하게 될 경우, \n",
    "\"\"\"\n",
    "def random_int_gen_with_local_seed(size=10, seed=0):\n",
    "    # 내부에 같은 seed를 지정해준 random generator object를 만들고\n",
    "    # 이 객체의 method를 통해 난수를 생성한다.\n",
    "    # 이렇게 할 경우, 전체 seed에 영향을 미치지 않으므로 효과적으로 random number를 뽑을 수있다.\n",
    "    Rand = np.random.RandomState(seed=seed)\n",
    "    return Rand.random(size=size)\n",
    "\n",
    "# global seed를 3으로 설정하고\n",
    "# 4개의 수를 뽑습니다.\n",
    "np.random.seed(3)\n",
    "global_seed3_num1234 = np.random.random(size=4)\n",
    "\n",
    "# 함수내에서 사용하는 local seed도 seed를 동일하게 설정하고, 6개의 수를 뽑습니다.\n",
    "local_seed3_num123456 = random_int_gen_with_local_seed(6, seed=4)\n",
    "\n",
    "# global seed에서 수를 2개 더 뽑습니다.\n",
    "global_seed3_num56 = np.random.random(size=2)\n",
    "\n",
    "global_seed3_num123456 = list(global_seed3_num1234) + list(global_seed3_num56)\n",
    "global_seed3_num123456 = np.array(global_seed3_num123456)\n",
    "\n",
    "# 결과를 보면, global seed에서 4개, 2개를 뽑아서 합친 값과 \n",
    "# local seed에서 6개를 뽑아낸 값이 같은 것을 알 수 있습니다. \n",
    "# 즉, local에서의 seed 변화가, 외부에 영향을 끼치지 않은 것이죠.\n",
    "print(\"==\"*30)\n",
    "print(f\"global seed num: {global_seed3_num123456}\")\n",
    "print(f\"local  seed num: {local_seed3_num123456}\")\n",
    "print(\"==\"*30)"
   ]
  },
  {
   "cell_type": "code",
   "execution_count": 18,
   "id": "operating-reducing",
   "metadata": {},
   "outputs": [
    {
     "name": "stdout",
     "output_type": "stream",
     "text": [
      "============================================================\n",
      "global seed num: [0.5507979  0.70814782 0.29090474 0.51082761 0.89294695 0.89629309]\n",
      "local  seed num: [0.96702984 0.54723225 0.97268436 0.71481599 0.69772882 0.2160895 ]\n",
      "another with global: [0.12558531 0.20724288 0.0514672  0.44080984 0.02987621 0.45683322]\n",
      "another with global: [0.64914405 0.27848728 0.6762549  0.59086282 0.02398188 0.55885409]\n",
      "============================================================\n"
     ]
    }
   ],
   "source": [
    "import numpy as np\n",
    "\"\"\"\n",
    "np.random.seed(SEED) 로 random을 생성하게 될 경우, \n",
    "\"\"\"\n",
    "def random_int_gen_with_local_seed(size=10, seed=0):\n",
    "    # 내부에 같은 seed를 지정해준 random generator object를 만들고\n",
    "    # 이 객체의 method를 통해 난수를 생성한다.\n",
    "    # 이렇게 할 경우, 전체 seed에 영향을 미치지 않으므로 효과적으로 random number를 뽑을 수있다.\n",
    "    Rand = np.random.RandomState(seed=seed)\n",
    "    return Rand.random(size=size)\n",
    "\n",
    "# global seed를 3으로 설정하고\n",
    "# 4개의 수를 뽑습니다.\n",
    "np.random.seed(3)\n",
    "global_seed3_num1234 = np.random.random(size=4)\n",
    "\n",
    "# 함수내에서 사용하는 local seed도 seed를 동일하게 설정하고, 6개의 수를 뽑습니다.\n",
    "local_seed3_num123456 = random_int_gen_with_local_seed(6, seed=4)\n",
    "\n",
    "# global seed에서 수를 2개 더 뽑습니다.\n",
    "global_seed3_num56 = np.random.random(size=2)\n",
    "\n",
    "global_seed3_num123456 = list(global_seed3_num1234) + list(global_seed3_num56)\n",
    "global_seed3_num123456 = np.array(global_seed3_num123456)\n",
    "\n",
    "another_num = np.random.random(6)\n",
    "another_num_2 = np.random.random(6)\n",
    "\n",
    "\n",
    "# 결과를 보면, global seed에서 4개, 2개를 뽑아서 합친 값과 \n",
    "# local seed에서 6개를 뽑아낸 값이 같은 것을 알 수 있습니다. \n",
    "# 즉, local에서의 seed 변화가, 외부에 영향을 끼치지 않은 것이죠.\n",
    "print(\"==\"*30)\n",
    "print(f\"global seed num: {global_seed3_num123456}\")\n",
    "print(f\"local  seed num: {local_seed3_num123456}\")\n",
    "print(f\"another with global: {another_num}\")\n",
    "print(f\"another with global: {another_num_2}\")\n",
    "\n",
    "print(\"==\"*30)"
   ]
  },
  {
   "cell_type": "code",
   "execution_count": 23,
   "id": "decimal-collectible",
   "metadata": {},
   "outputs": [
    {
     "data": {
      "text/plain": [
       "LinearRegression()"
      ]
     },
     "execution_count": 23,
     "metadata": {},
     "output_type": "execute_result"
    }
   ],
   "source": [
    "# 모델 만들기\n",
    "\n",
    "from sklearn.linear_model import LinearRegression\n",
    "model = LinearRegression()\n",
    "model"
   ]
  },
  {
   "cell_type": "code",
   "execution_count": 24,
   "id": "artificial-wrist",
   "metadata": {},
   "outputs": [
    {
     "ename": "ValueError",
     "evalue": "Expected 2D array, got 1D array instead:\narray=[7.71320643 0.20751949 6.33648235 7.48803883 4.98507012 2.24796646\n 1.98062865 7.60530712 1.69110837 0.88339814 6.85359818 9.53393346\n 0.03948266 5.12192263 8.12620962 6.12526067 7.21755317 2.91876068\n 9.17774123 7.14575783 5.42544368 1.42170048 3.7334076  6.74133615\n 4.41833174 4.34013993 6.17766978 5.13138243 6.50397182 6.01038953\n 8.05223197 5.21647152 9.08648881 3.19236089 0.90459349 3.00700057\n 1.13984362 8.28681326 0.46896319 6.26287148 5.47586156 8.19286996\n 1.9894754  8.56850302 3.51652639 7.54647692 2.95961707 8.8393648\n 3.25511638 1.65015898 3.92529244 0.93460375 8.21105658 1.5115202\n 3.84114449 9.44260712 9.87625475 4.56304547 8.26122844 2.51374134\n 5.97371648 9.0283176  5.34557949 5.90201363 0.39281767 3.57181759\n 0.7961309  3.05459918 3.30719312 7.73830296 0.39959209 4.29492178\n 3.14926872 6.36491143 3.4634715  0.43097356 8.79915175 7.63240587\n 8.78096643 4.17509144 6.05577564 5.13466627 5.97836648 2.62215661\n 3.00871309 0.25399782 3.03062561 2.42075875 5.57578189 5.6550702\n 4.75132247 2.92797976 0.64251061 9.78819146 3.39707844 4.95048631\n 9.77080726 4.40773825 3.18272805 5.19796986].\nReshape your data either using array.reshape(-1, 1) if your data has a single feature or array.reshape(1, -1) if it contains a single sample.",
     "output_type": "error",
     "traceback": [
      "\u001b[0;31m---------------------------------------------------------------------------\u001b[0m",
      "\u001b[0;31mValueError\u001b[0m                                Traceback (most recent call last)",
      "\u001b[0;32m<ipython-input-24-65b198098d37>\u001b[0m in \u001b[0;36m<module>\u001b[0;34m\u001b[0m\n\u001b[1;32m      1\u001b[0m \u001b[0;31m# ! 에러 발생\u001b[0m\u001b[0;34m\u001b[0m\u001b[0;34m\u001b[0m\u001b[0;34m\u001b[0m\u001b[0m\n\u001b[0;32m----> 2\u001b[0;31m \u001b[0mmodel\u001b[0m\u001b[0;34m.\u001b[0m\u001b[0mfit\u001b[0m\u001b[0;34m(\u001b[0m\u001b[0mx\u001b[0m\u001b[0;34m,\u001b[0m \u001b[0my\u001b[0m\u001b[0;34m)\u001b[0m\u001b[0;34m\u001b[0m\u001b[0;34m\u001b[0m\u001b[0m\n\u001b[0m",
      "\u001b[0;32m/opt/conda/lib/python3.7/site-packages/sklearn/linear_model/_base.py\u001b[0m in \u001b[0;36mfit\u001b[0;34m(self, X, y, sample_weight)\u001b[0m\n\u001b[1;32m    504\u001b[0m         \u001b[0mn_jobs_\u001b[0m \u001b[0;34m=\u001b[0m \u001b[0mself\u001b[0m\u001b[0;34m.\u001b[0m\u001b[0mn_jobs\u001b[0m\u001b[0;34m\u001b[0m\u001b[0;34m\u001b[0m\u001b[0m\n\u001b[1;32m    505\u001b[0m         X, y = self._validate_data(X, y, accept_sparse=['csr', 'csc', 'coo'],\n\u001b[0;32m--> 506\u001b[0;31m                                    y_numeric=True, multi_output=True)\n\u001b[0m\u001b[1;32m    507\u001b[0m \u001b[0;34m\u001b[0m\u001b[0m\n\u001b[1;32m    508\u001b[0m         \u001b[0;32mif\u001b[0m \u001b[0msample_weight\u001b[0m \u001b[0;32mis\u001b[0m \u001b[0;32mnot\u001b[0m \u001b[0;32mNone\u001b[0m\u001b[0;34m:\u001b[0m\u001b[0;34m\u001b[0m\u001b[0;34m\u001b[0m\u001b[0m\n",
      "\u001b[0;32m/opt/conda/lib/python3.7/site-packages/sklearn/base.py\u001b[0m in \u001b[0;36m_validate_data\u001b[0;34m(self, X, y, reset, validate_separately, **check_params)\u001b[0m\n\u001b[1;32m    430\u001b[0m                 \u001b[0my\u001b[0m \u001b[0;34m=\u001b[0m \u001b[0mcheck_array\u001b[0m\u001b[0;34m(\u001b[0m\u001b[0my\u001b[0m\u001b[0;34m,\u001b[0m \u001b[0;34m**\u001b[0m\u001b[0mcheck_y_params\u001b[0m\u001b[0;34m)\u001b[0m\u001b[0;34m\u001b[0m\u001b[0;34m\u001b[0m\u001b[0m\n\u001b[1;32m    431\u001b[0m             \u001b[0;32melse\u001b[0m\u001b[0;34m:\u001b[0m\u001b[0;34m\u001b[0m\u001b[0;34m\u001b[0m\u001b[0m\n\u001b[0;32m--> 432\u001b[0;31m                 \u001b[0mX\u001b[0m\u001b[0;34m,\u001b[0m \u001b[0my\u001b[0m \u001b[0;34m=\u001b[0m \u001b[0mcheck_X_y\u001b[0m\u001b[0;34m(\u001b[0m\u001b[0mX\u001b[0m\u001b[0;34m,\u001b[0m \u001b[0my\u001b[0m\u001b[0;34m,\u001b[0m \u001b[0;34m**\u001b[0m\u001b[0mcheck_params\u001b[0m\u001b[0;34m)\u001b[0m\u001b[0;34m\u001b[0m\u001b[0;34m\u001b[0m\u001b[0m\n\u001b[0m\u001b[1;32m    433\u001b[0m             \u001b[0mout\u001b[0m \u001b[0;34m=\u001b[0m \u001b[0mX\u001b[0m\u001b[0;34m,\u001b[0m \u001b[0my\u001b[0m\u001b[0;34m\u001b[0m\u001b[0;34m\u001b[0m\u001b[0m\n\u001b[1;32m    434\u001b[0m \u001b[0;34m\u001b[0m\u001b[0m\n",
      "\u001b[0;32m/opt/conda/lib/python3.7/site-packages/sklearn/utils/validation.py\u001b[0m in \u001b[0;36minner_f\u001b[0;34m(*args, **kwargs)\u001b[0m\n\u001b[1;32m     71\u001b[0m                           FutureWarning)\n\u001b[1;32m     72\u001b[0m         \u001b[0mkwargs\u001b[0m\u001b[0;34m.\u001b[0m\u001b[0mupdate\u001b[0m\u001b[0;34m(\u001b[0m\u001b[0;34m{\u001b[0m\u001b[0mk\u001b[0m\u001b[0;34m:\u001b[0m \u001b[0marg\u001b[0m \u001b[0;32mfor\u001b[0m \u001b[0mk\u001b[0m\u001b[0;34m,\u001b[0m \u001b[0marg\u001b[0m \u001b[0;32min\u001b[0m \u001b[0mzip\u001b[0m\u001b[0;34m(\u001b[0m\u001b[0msig\u001b[0m\u001b[0;34m.\u001b[0m\u001b[0mparameters\u001b[0m\u001b[0;34m,\u001b[0m \u001b[0margs\u001b[0m\u001b[0;34m)\u001b[0m\u001b[0;34m}\u001b[0m\u001b[0;34m)\u001b[0m\u001b[0;34m\u001b[0m\u001b[0;34m\u001b[0m\u001b[0m\n\u001b[0;32m---> 73\u001b[0;31m         \u001b[0;32mreturn\u001b[0m \u001b[0mf\u001b[0m\u001b[0;34m(\u001b[0m\u001b[0;34m**\u001b[0m\u001b[0mkwargs\u001b[0m\u001b[0;34m)\u001b[0m\u001b[0;34m\u001b[0m\u001b[0;34m\u001b[0m\u001b[0m\n\u001b[0m\u001b[1;32m     74\u001b[0m     \u001b[0;32mreturn\u001b[0m \u001b[0minner_f\u001b[0m\u001b[0;34m\u001b[0m\u001b[0;34m\u001b[0m\u001b[0m\n\u001b[1;32m     75\u001b[0m \u001b[0;34m\u001b[0m\u001b[0m\n",
      "\u001b[0;32m/opt/conda/lib/python3.7/site-packages/sklearn/utils/validation.py\u001b[0m in \u001b[0;36mcheck_X_y\u001b[0;34m(X, y, accept_sparse, accept_large_sparse, dtype, order, copy, force_all_finite, ensure_2d, allow_nd, multi_output, ensure_min_samples, ensure_min_features, y_numeric, estimator)\u001b[0m\n\u001b[1;32m    801\u001b[0m                     \u001b[0mensure_min_samples\u001b[0m\u001b[0;34m=\u001b[0m\u001b[0mensure_min_samples\u001b[0m\u001b[0;34m,\u001b[0m\u001b[0;34m\u001b[0m\u001b[0;34m\u001b[0m\u001b[0m\n\u001b[1;32m    802\u001b[0m                     \u001b[0mensure_min_features\u001b[0m\u001b[0;34m=\u001b[0m\u001b[0mensure_min_features\u001b[0m\u001b[0;34m,\u001b[0m\u001b[0;34m\u001b[0m\u001b[0;34m\u001b[0m\u001b[0m\n\u001b[0;32m--> 803\u001b[0;31m                     estimator=estimator)\n\u001b[0m\u001b[1;32m    804\u001b[0m     \u001b[0;32mif\u001b[0m \u001b[0mmulti_output\u001b[0m\u001b[0;34m:\u001b[0m\u001b[0;34m\u001b[0m\u001b[0;34m\u001b[0m\u001b[0m\n\u001b[1;32m    805\u001b[0m         y = check_array(y, accept_sparse='csr', force_all_finite=True,\n",
      "\u001b[0;32m/opt/conda/lib/python3.7/site-packages/sklearn/utils/validation.py\u001b[0m in \u001b[0;36minner_f\u001b[0;34m(*args, **kwargs)\u001b[0m\n\u001b[1;32m     71\u001b[0m                           FutureWarning)\n\u001b[1;32m     72\u001b[0m         \u001b[0mkwargs\u001b[0m\u001b[0;34m.\u001b[0m\u001b[0mupdate\u001b[0m\u001b[0;34m(\u001b[0m\u001b[0;34m{\u001b[0m\u001b[0mk\u001b[0m\u001b[0;34m:\u001b[0m \u001b[0marg\u001b[0m \u001b[0;32mfor\u001b[0m \u001b[0mk\u001b[0m\u001b[0;34m,\u001b[0m \u001b[0marg\u001b[0m \u001b[0;32min\u001b[0m \u001b[0mzip\u001b[0m\u001b[0;34m(\u001b[0m\u001b[0msig\u001b[0m\u001b[0;34m.\u001b[0m\u001b[0mparameters\u001b[0m\u001b[0;34m,\u001b[0m \u001b[0margs\u001b[0m\u001b[0;34m)\u001b[0m\u001b[0;34m}\u001b[0m\u001b[0;34m)\u001b[0m\u001b[0;34m\u001b[0m\u001b[0;34m\u001b[0m\u001b[0m\n\u001b[0;32m---> 73\u001b[0;31m         \u001b[0;32mreturn\u001b[0m \u001b[0mf\u001b[0m\u001b[0;34m(\u001b[0m\u001b[0;34m**\u001b[0m\u001b[0mkwargs\u001b[0m\u001b[0;34m)\u001b[0m\u001b[0;34m\u001b[0m\u001b[0;34m\u001b[0m\u001b[0m\n\u001b[0m\u001b[1;32m     74\u001b[0m     \u001b[0;32mreturn\u001b[0m \u001b[0minner_f\u001b[0m\u001b[0;34m\u001b[0m\u001b[0;34m\u001b[0m\u001b[0m\n\u001b[1;32m     75\u001b[0m \u001b[0;34m\u001b[0m\u001b[0m\n",
      "\u001b[0;32m/opt/conda/lib/python3.7/site-packages/sklearn/utils/validation.py\u001b[0m in \u001b[0;36mcheck_array\u001b[0;34m(array, accept_sparse, accept_large_sparse, dtype, order, copy, force_all_finite, ensure_2d, allow_nd, ensure_min_samples, ensure_min_features, estimator)\u001b[0m\n\u001b[1;32m    622\u001b[0m                     \u001b[0;34m\"Reshape your data either using array.reshape(-1, 1) if \"\u001b[0m\u001b[0;34m\u001b[0m\u001b[0;34m\u001b[0m\u001b[0m\n\u001b[1;32m    623\u001b[0m                     \u001b[0;34m\"your data has a single feature or array.reshape(1, -1) \"\u001b[0m\u001b[0;34m\u001b[0m\u001b[0;34m\u001b[0m\u001b[0m\n\u001b[0;32m--> 624\u001b[0;31m                     \"if it contains a single sample.\".format(array))\n\u001b[0m\u001b[1;32m    625\u001b[0m \u001b[0;34m\u001b[0m\u001b[0m\n\u001b[1;32m    626\u001b[0m         \u001b[0;31m# in the future np.flexible dtypes will be handled like object dtypes\u001b[0m\u001b[0;34m\u001b[0m\u001b[0;34m\u001b[0m\u001b[0;34m\u001b[0m\u001b[0m\n",
      "\u001b[0;31mValueError\u001b[0m: Expected 2D array, got 1D array instead:\narray=[7.71320643 0.20751949 6.33648235 7.48803883 4.98507012 2.24796646\n 1.98062865 7.60530712 1.69110837 0.88339814 6.85359818 9.53393346\n 0.03948266 5.12192263 8.12620962 6.12526067 7.21755317 2.91876068\n 9.17774123 7.14575783 5.42544368 1.42170048 3.7334076  6.74133615\n 4.41833174 4.34013993 6.17766978 5.13138243 6.50397182 6.01038953\n 8.05223197 5.21647152 9.08648881 3.19236089 0.90459349 3.00700057\n 1.13984362 8.28681326 0.46896319 6.26287148 5.47586156 8.19286996\n 1.9894754  8.56850302 3.51652639 7.54647692 2.95961707 8.8393648\n 3.25511638 1.65015898 3.92529244 0.93460375 8.21105658 1.5115202\n 3.84114449 9.44260712 9.87625475 4.56304547 8.26122844 2.51374134\n 5.97371648 9.0283176  5.34557949 5.90201363 0.39281767 3.57181759\n 0.7961309  3.05459918 3.30719312 7.73830296 0.39959209 4.29492178\n 3.14926872 6.36491143 3.4634715  0.43097356 8.79915175 7.63240587\n 8.78096643 4.17509144 6.05577564 5.13466627 5.97836648 2.62215661\n 3.00871309 0.25399782 3.03062561 2.42075875 5.57578189 5.6550702\n 4.75132247 2.92797976 0.64251061 9.78819146 3.39707844 4.95048631\n 9.77080726 4.40773825 3.18272805 5.19796986].\nReshape your data either using array.reshape(-1, 1) if your data has a single feature or array.reshape(1, -1) if it contains a single sample."
     ]
    }
   ],
   "source": [
    "# ! 에러 발생\n",
    "model.fit(x, y)"
   ]
  },
  {
   "cell_type": "code",
   "execution_count": 25,
   "id": "recorded-contamination",
   "metadata": {},
   "outputs": [],
   "source": [
    "X = x.reshape(100,1)"
   ]
  },
  {
   "cell_type": "code",
   "execution_count": 26,
   "id": "polyphonic-memorabilia",
   "metadata": {},
   "outputs": [
    {
     "data": {
      "text/plain": [
       "LinearRegression()"
      ]
     },
     "execution_count": 26,
     "metadata": {},
     "output_type": "execute_result"
    }
   ],
   "source": [
    "model.fit(X, y)"
   ]
  },
  {
   "cell_type": "code",
   "execution_count": 27,
   "id": "cloudy-frequency",
   "metadata": {},
   "outputs": [
    {
     "data": {
      "text/plain": [
       "array([-3.5035171 , -3.25845808, -3.01339905, -2.76834003, -2.52328101,\n",
       "       -2.27822198, -2.03316296, -1.78810393, -1.54304491, -1.29798588,\n",
       "       -1.05292686, -0.80786783, -0.56280881, -0.31774978, -0.07269076,\n",
       "        0.17236826,  0.41742729,  0.66248631,  0.90754534,  1.15260436,\n",
       "        1.39766339,  1.64272241,  1.88778144,  2.13284046,  2.37789949,\n",
       "        2.62295851,  2.86801754,  3.11307656,  3.35813558,  3.60319461,\n",
       "        3.84825363,  4.09331266,  4.33837168,  4.58343071,  4.82848973,\n",
       "        5.07354876,  5.31860778,  5.56366681,  5.80872583,  6.05378485,\n",
       "        6.29884388,  6.5439029 ,  6.78896193,  7.03402095,  7.27907998,\n",
       "        7.524139  ,  7.76919803,  8.01425705,  8.25931608,  8.5043751 ,\n",
       "        8.74943413,  8.99449315,  9.23955217,  9.4846112 ,  9.72967022,\n",
       "        9.97472925, 10.21978827, 10.4648473 , 10.70990632, 10.95496535,\n",
       "       11.20002437, 11.4450834 , 11.69014242, 11.93520144, 12.18026047,\n",
       "       12.42531949, 12.67037852, 12.91543754, 13.16049657, 13.40555559,\n",
       "       13.65061462, 13.89567364, 14.14073267, 14.38579169, 14.63085072,\n",
       "       14.87590974, 15.12096876, 15.36602779, 15.61108681, 15.85614584,\n",
       "       16.10120486, 16.34626389, 16.59132291, 16.83638194, 17.08144096,\n",
       "       17.32649999, 17.57155901, 17.81661803, 18.06167706, 18.30673608,\n",
       "       18.55179511, 18.79685413, 19.04191316, 19.28697218, 19.53203121,\n",
       "       19.77709023, 20.02214926, 20.26720828, 20.51226731, 20.75732633])"
      ]
     },
     "execution_count": 27,
     "metadata": {},
     "output_type": "execute_result"
    }
   ],
   "source": [
    "x_new = np.linspace(-1, 11, 100)\n",
    "X_new = x_new.reshape(100, 1)\n",
    "y_new = model.predict(X_new)\n",
    "y_new"
   ]
  },
  {
   "cell_type": "code",
   "execution_count": 38,
   "id": "bright-shark",
   "metadata": {},
   "outputs": [
    {
     "data": {
      "text/plain": [
       "9.299028215052264"
      ]
     },
     "execution_count": 38,
     "metadata": {},
     "output_type": "execute_result"
    }
   ],
   "source": [
    "# DJ's version RMSE\n",
    "np.sqrt(((y - y_new)**2).sum()/len(y))"
   ]
  },
  {
   "cell_type": "code",
   "execution_count": 39,
   "id": "median-reduction",
   "metadata": {},
   "outputs": [
    {
     "name": "stdout",
     "output_type": "stream",
     "text": [
      "9.299028215052264\n"
     ]
    }
   ],
   "source": [
    "# 예측값 RMSE로 평가해보기\n",
    "\n",
    "from sklearn.metrics import mean_squared_error\n",
    "\n",
    "error = np.sqrt(mean_squared_error(y,y_new))\n",
    "print(error)"
   ]
  },
  {
   "cell_type": "code",
   "execution_count": 40,
   "id": "opened-difficulty",
   "metadata": {},
   "outputs": [
    {
     "data": {
      "text/plain": [
       "<matplotlib.legend.Legend at 0x7f9a83601910>"
      ]
     },
     "execution_count": 40,
     "metadata": {},
     "output_type": "execute_result"
    },
    {
     "data": {
      "image/png": "[encoded data removed]",
      "text/plain": [
       "<Figure size 432x288 with 1 Axes>"
      ]
     },
     "metadata": {
      "needs_background": "light"
     },
     "output_type": "display_data"
    }
   ],
   "source": [
    "# 데이터 지표로 확인하기\n",
    "plt.scatter(x, y, label='input data')\n",
    "plt.plot(X_new, y_new, color='red', label='regression line')\n",
    "plt.legend()"
   ]
  },
  {
   "cell_type": "markdown",
   "id": "assumed-craps",
   "metadata": {},
   "source": [
    "## 12-7. 사이킷런의 주요 모듈 (3) datasets 모듈\n"
   ]
  },
  {
   "cell_type": "markdown",
   "id": "excessive-identifier",
   "metadata": {},
   "source": [
    "### datasets.load_wine() 뜯어보기\n"
   ]
  },
  {
   "cell_type": "code",
   "execution_count": 41,
   "id": "resistant-enough",
   "metadata": {},
   "outputs": [
    {
     "data": {
      "text/plain": [
       "sklearn.utils.Bunch"
      ]
     },
     "execution_count": 41,
     "metadata": {},
     "output_type": "execute_result"
    }
   ],
   "source": [
    "from sklearn.datasets import load_wine\n",
    "data = load_wine()\n",
    "type(data)"
   ]
  },
  {
   "cell_type": "code",
   "execution_count": 43,
   "id": "judicial-humanitarian",
   "metadata": {},
   "outputs": [
    {
     "name": "stdout",
     "output_type": "stream",
     "text": [
      "{'data': array([[1.423e+01, 1.710e+00, 2.430e+00, ..., 1.040e+00, 3.920e+00,\n",
      "        1.065e+03],\n",
      "       [1.320e+01, 1.780e+00, 2.140e+00, ..., 1.050e+00, 3.400e+00,\n",
      "        1.050e+03],\n",
      "       [1.316e+01, 2.360e+00, 2.670e+00, ..., 1.030e+00, 3.170e+00,\n",
      "        1.185e+03],\n",
      "       ...,\n",
      "       [1.327e+01, 4.280e+00, 2.260e+00, ..., 5.900e-01, 1.560e+00,\n",
      "        8.350e+02],\n",
      "       [1.317e+01, 2.590e+00, 2.370e+00, ..., 6.000e-01, 1.620e+00,\n",
      "        8.400e+02],\n",
      "       [1.413e+01, 4.100e+00, 2.740e+00, ..., 6.100e-01, 1.600e+00,\n",
      "        5.600e+02]]), 'target': array([0, 0, 0, 0, 0, 0, 0, 0, 0, 0, 0, 0, 0, 0, 0, 0, 0, 0, 0, 0, 0, 0,\n",
      "       0, 0, 0, 0, 0, 0, 0, 0, 0, 0, 0, 0, 0, 0, 0, 0, 0, 0, 0, 0, 0, 0,\n",
      "       0, 0, 0, 0, 0, 0, 0, 0, 0, 0, 0, 0, 0, 0, 0, 1, 1, 1, 1, 1, 1, 1,\n",
      "       1, 1, 1, 1, 1, 1, 1, 1, 1, 1, 1, 1, 1, 1, 1, 1, 1, 1, 1, 1, 1, 1,\n",
      "       1, 1, 1, 1, 1, 1, 1, 1, 1, 1, 1, 1, 1, 1, 1, 1, 1, 1, 1, 1, 1, 1,\n",
      "       1, 1, 1, 1, 1, 1, 1, 1, 1, 1, 1, 1, 1, 1, 1, 1, 1, 1, 1, 1, 2, 2,\n",
      "       2, 2, 2, 2, 2, 2, 2, 2, 2, 2, 2, 2, 2, 2, 2, 2, 2, 2, 2, 2, 2, 2,\n",
      "       2, 2, 2, 2, 2, 2, 2, 2, 2, 2, 2, 2, 2, 2, 2, 2, 2, 2, 2, 2, 2, 2,\n",
      "       2, 2]), 'frame': None, 'target_names': array(['class_0', 'class_1', 'class_2'], dtype='<U7'), 'DESCR': '.. _wine_dataset:\\n\\nWine recognition dataset\\n------------------------\\n\\n**Data Set Characteristics:**\\n\\n    :Number of Instances: 178 (50 in each of three classes)\\n    :Number of Attributes: 13 numeric, predictive attributes and the class\\n    :Attribute Information:\\n \\t\\t- Alcohol\\n \\t\\t- Malic acid\\n \\t\\t- Ash\\n\\t\\t- Alcalinity of ash  \\n \\t\\t- Magnesium\\n\\t\\t- Total phenols\\n \\t\\t- Flavanoids\\n \\t\\t- Nonflavanoid phenols\\n \\t\\t- Proanthocyanins\\n\\t\\t- Color intensity\\n \\t\\t- Hue\\n \\t\\t- OD280/OD315 of diluted wines\\n \\t\\t- Proline\\n\\n    - class:\\n            - class_0\\n            - class_1\\n            - class_2\\n\\t\\t\\n    :Summary Statistics:\\n    \\n    ============================= ==== ===== ======= =====\\n                                   Min   Max   Mean     SD\\n    ============================= ==== ===== ======= =====\\n    Alcohol:                      11.0  14.8    13.0   0.8\\n    Malic Acid:                   0.74  5.80    2.34  1.12\\n    Ash:                          1.36  3.23    2.36  0.27\\n    Alcalinity of Ash:            10.6  30.0    19.5   3.3\\n    Magnesium:                    70.0 162.0    99.7  14.3\\n    Total Phenols:                0.98  3.88    2.29  0.63\\n    Flavanoids:                   0.34  5.08    2.03  1.00\\n    Nonflavanoid Phenols:         0.13  0.66    0.36  0.12\\n    Proanthocyanins:              0.41  3.58    1.59  0.57\\n    Colour Intensity:              1.3  13.0     5.1   2.3\\n    Hue:                          0.48  1.71    0.96  0.23\\n    OD280/OD315 of diluted wines: 1.27  4.00    2.61  0.71\\n    Proline:                       278  1680     746   315\\n    ============================= ==== ===== ======= =====\\n\\n    :Missing Attribute Values: None\\n    :Class Distribution: class_0 (59), class_1 (71), class_2 (48)\\n    :Creator: R.A. Fisher\\n    :Donor: Michael Marshall (MARSHALL%PLU@io.arc.nasa.gov)\\n    :Date: July, 1988\\n\\nThis is a copy of UCI ML Wine recognition datasets.\\nhttps://archive.ics.uci.edu/ml/machine-learning-databases/wine/wine.data\\n\\nThe data is the results of a chemical analysis of wines grown in the same\\nregion in Italy by three different cultivators. There are thirteen different\\nmeasurements taken for different constituents found in the three types of\\nwine.\\n\\nOriginal Owners: \\n\\nForina, M. et al, PARVUS - \\nAn Extendible Package for Data Exploration, Classification and Correlation. \\nInstitute of Pharmaceutical and Food Analysis and Technologies,\\nVia Brigata Salerno, 16147 Genoa, Italy.\\n\\nCitation:\\n\\nLichman, M. (2013). UCI Machine Learning Repository\\n[https://archive.ics.uci.edu/ml]. Irvine, CA: University of California,\\nSchool of Information and Computer Science. \\n\\n.. topic:: References\\n\\n  (1) S. Aeberhard, D. Coomans and O. de Vel, \\n  Comparison of Classifiers in High Dimensional Settings, \\n  Tech. Rep. no. 92-02, (1992), Dept. of Computer Science and Dept. of  \\n  Mathematics and Statistics, James Cook University of North Queensland. \\n  (Also submitted to Technometrics). \\n\\n  The data was used with many others for comparing various \\n  classifiers. The classes are separable, though only RDA \\n  has achieved 100% correct classification. \\n  (RDA : 100%, QDA 99.4%, LDA 98.9%, 1NN 96.1% (z-transformed data)) \\n  (All results using the leave-one-out technique) \\n\\n  (2) S. Aeberhard, D. Coomans and O. de Vel, \\n  \"THE CLASSIFICATION PERFORMANCE OF RDA\" \\n  Tech. Rep. no. 92-01, (1992), Dept. of Computer Science and Dept. of \\n  Mathematics and Statistics, James Cook University of North Queensland. \\n  (Also submitted to Journal of Chemometrics).\\n', 'feature_names': ['alcohol', 'malic_acid', 'ash', 'alcalinity_of_ash', 'magnesium', 'total_phenols', 'flavanoids', 'nonflavanoid_phenols', 'proanthocyanins', 'color_intensity', 'hue', 'od280/od315_of_diluted_wines', 'proline']}\n"
     ]
    }
   ],
   "source": [
    "print(data)"
   ]
  },
  {
   "cell_type": "code",
   "execution_count": 44,
   "id": "smoking-workplace",
   "metadata": {},
   "outputs": [
    {
     "data": {
      "text/plain": [
       "dict_keys(['data', 'target', 'frame', 'target_names', 'DESCR', 'feature_names'])"
      ]
     },
     "execution_count": 44,
     "metadata": {},
     "output_type": "execute_result"
    }
   ],
   "source": [
    "data.keys()"
   ]
  },
  {
   "cell_type": "markdown",
   "id": "celtic-doctor",
   "metadata": {},
   "source": [
    "#### 1. data\n",
    "\n"
   ]
  },
  {
   "cell_type": "code",
   "execution_count": 45,
   "id": "cooked-credit",
   "metadata": {},
   "outputs": [
    {
     "data": {
      "text/plain": [
       "array([[1.423e+01, 1.710e+00, 2.430e+00, ..., 1.040e+00, 3.920e+00,\n",
       "        1.065e+03],\n",
       "       [1.320e+01, 1.780e+00, 2.140e+00, ..., 1.050e+00, 3.400e+00,\n",
       "        1.050e+03],\n",
       "       [1.316e+01, 2.360e+00, 2.670e+00, ..., 1.030e+00, 3.170e+00,\n",
       "        1.185e+03],\n",
       "       ...,\n",
       "       [1.327e+01, 4.280e+00, 2.260e+00, ..., 5.900e-01, 1.560e+00,\n",
       "        8.350e+02],\n",
       "       [1.317e+01, 2.590e+00, 2.370e+00, ..., 6.000e-01, 1.620e+00,\n",
       "        8.400e+02],\n",
       "       [1.413e+01, 4.100e+00, 2.740e+00, ..., 6.100e-01, 1.600e+00,\n",
       "        5.600e+02]])"
      ]
     },
     "execution_count": 45,
     "metadata": {},
     "output_type": "execute_result"
    }
   ],
   "source": [
    "data.data"
   ]
  },
  {
   "cell_type": "code",
   "execution_count": 46,
   "id": "orange-monkey",
   "metadata": {},
   "outputs": [
    {
     "data": {
      "text/plain": [
       "(178, 13)"
      ]
     },
     "execution_count": 46,
     "metadata": {},
     "output_type": "execute_result"
    }
   ],
   "source": [
    "data.data.shape"
   ]
  },
  {
   "cell_type": "code",
   "execution_count": 47,
   "id": "found-heather",
   "metadata": {},
   "outputs": [
    {
     "data": {
      "text/plain": [
       "(178, 13)"
      ]
     },
     "execution_count": 47,
     "metadata": {},
     "output_type": "execute_result"
    }
   ],
   "source": [
    "data.data.shape"
   ]
  },
  {
   "cell_type": "markdown",
   "id": "floppy-correspondence",
   "metadata": {},
   "source": [
    "#### 2. target\n",
    "\n"
   ]
  },
  {
   "cell_type": "code",
   "execution_count": 48,
   "id": "mental-detector",
   "metadata": {},
   "outputs": [
    {
     "data": {
      "text/plain": [
       "array([0, 0, 0, 0, 0, 0, 0, 0, 0, 0, 0, 0, 0, 0, 0, 0, 0, 0, 0, 0, 0, 0,\n",
       "       0, 0, 0, 0, 0, 0, 0, 0, 0, 0, 0, 0, 0, 0, 0, 0, 0, 0, 0, 0, 0, 0,\n",
       "       0, 0, 0, 0, 0, 0, 0, 0, 0, 0, 0, 0, 0, 0, 0, 1, 1, 1, 1, 1, 1, 1,\n",
       "       1, 1, 1, 1, 1, 1, 1, 1, 1, 1, 1, 1, 1, 1, 1, 1, 1, 1, 1, 1, 1, 1,\n",
       "       1, 1, 1, 1, 1, 1, 1, 1, 1, 1, 1, 1, 1, 1, 1, 1, 1, 1, 1, 1, 1, 1,\n",
       "       1, 1, 1, 1, 1, 1, 1, 1, 1, 1, 1, 1, 1, 1, 1, 1, 1, 1, 1, 1, 2, 2,\n",
       "       2, 2, 2, 2, 2, 2, 2, 2, 2, 2, 2, 2, 2, 2, 2, 2, 2, 2, 2, 2, 2, 2,\n",
       "       2, 2, 2, 2, 2, 2, 2, 2, 2, 2, 2, 2, 2, 2, 2, 2, 2, 2, 2, 2, 2, 2,\n",
       "       2, 2])"
      ]
     },
     "execution_count": 48,
     "metadata": {},
     "output_type": "execute_result"
    }
   ],
   "source": [
    "data.target"
   ]
  },
  {
   "cell_type": "code",
   "execution_count": 49,
   "id": "healthy-leisure",
   "metadata": {},
   "outputs": [
    {
     "data": {
      "text/plain": [
       "(178,)"
      ]
     },
     "execution_count": 49,
     "metadata": {},
     "output_type": "execute_result"
    }
   ],
   "source": [
    "data.target.shape"
   ]
  },
  {
   "cell_type": "markdown",
   "id": "personal-charity",
   "metadata": {},
   "source": [
    "#### 3. feature_names\n",
    "\n"
   ]
  },
  {
   "cell_type": "code",
   "execution_count": 50,
   "id": "scientific-spending",
   "metadata": {},
   "outputs": [
    {
     "data": {
      "text/plain": [
       "['alcohol',\n",
       " 'malic_acid',\n",
       " 'ash',\n",
       " 'alcalinity_of_ash',\n",
       " 'magnesium',\n",
       " 'total_phenols',\n",
       " 'flavanoids',\n",
       " 'nonflavanoid_phenols',\n",
       " 'proanthocyanins',\n",
       " 'color_intensity',\n",
       " 'hue',\n",
       " 'od280/od315_of_diluted_wines',\n",
       " 'proline']"
      ]
     },
     "execution_count": 50,
     "metadata": {},
     "output_type": "execute_result"
    }
   ],
   "source": [
    "data.feature_names"
   ]
  },
  {
   "cell_type": "code",
   "execution_count": 51,
   "id": "british-candle",
   "metadata": {},
   "outputs": [
    {
     "data": {
      "text/plain": [
       "13"
      ]
     },
     "execution_count": 51,
     "metadata": {},
     "output_type": "execute_result"
    }
   ],
   "source": [
    "len(data.feature_names)"
   ]
  },
  {
   "cell_type": "markdown",
   "id": "regular-lyric",
   "metadata": {},
   "source": [
    "#### 4. target_names\n",
    "\n"
   ]
  },
  {
   "cell_type": "code",
   "execution_count": 52,
   "id": "surprising-matrix",
   "metadata": {},
   "outputs": [
    {
     "data": {
      "text/plain": [
       "array(['class_0', 'class_1', 'class_2'], dtype='<U7')"
      ]
     },
     "execution_count": 52,
     "metadata": {},
     "output_type": "execute_result"
    }
   ],
   "source": [
    "data.target_names"
   ]
  },
  {
   "cell_type": "markdown",
   "id": "obvious-labor",
   "metadata": {},
   "source": [
    "#### 5. DESCR\n",
    "\n"
   ]
  },
  {
   "cell_type": "code",
   "execution_count": 53,
   "id": "brave-aircraft",
   "metadata": {},
   "outputs": [
    {
     "name": "stdout",
     "output_type": "stream",
     "text": [
      ".. _wine_dataset:\n",
      "\n",
      "Wine recognition dataset\n",
      "------------------------\n",
      "\n",
      "**Data Set Characteristics:**\n",
      "\n",
      "    :Number of Instances: 178 (50 in each of three classes)\n",
      "    :Number of Attributes: 13 numeric, predictive attributes and the class\n",
      "    :Attribute Information:\n",
      " \t\t- Alcohol\n",
      " \t\t- Malic acid\n",
      " \t\t- Ash\n",
      "\t\t- Alcalinity of ash  \n",
      " \t\t- Magnesium\n",
      "\t\t- Total phenols\n",
      " \t\t- Flavanoids\n",
      " \t\t- Nonflavanoid phenols\n",
      " \t\t- Proanthocyanins\n",
      "\t\t- Color intensity\n",
      " \t\t- Hue\n",
      " \t\t- OD280/OD315 of diluted wines\n",
      " \t\t- Proline\n",
      "\n",
      "    - class:\n",
      "            - class_0\n",
      "            - class_1\n",
      "            - class_2\n",
      "\t\t\n",
      "    :Summary Statistics:\n",
      "    \n",
      "    ============================= ==== ===== ======= =====\n",
      "                                   Min   Max   Mean     SD\n",
      "    ============================= ==== ===== ======= =====\n",
      "    Alcohol:                      11.0  14.8    13.0   0.8\n",
      "    Malic Acid:                   0.74  5.80    2.34  1.12\n",
      "    Ash:                          1.36  3.23    2.36  0.27\n",
      "    Alcalinity of Ash:            10.6  30.0    19.5   3.3\n",
      "    Magnesium:                    70.0 162.0    99.7  14.3\n",
      "    Total Phenols:                0.98  3.88    2.29  0.63\n",
      "    Flavanoids:                   0.34  5.08    2.03  1.00\n",
      "    Nonflavanoid Phenols:         0.13  0.66    0.36  0.12\n",
      "    Proanthocyanins:              0.41  3.58    1.59  0.57\n",
      "    Colour Intensity:              1.3  13.0     5.1   2.3\n",
      "    Hue:                          0.48  1.71    0.96  0.23\n",
      "    OD280/OD315 of diluted wines: 1.27  4.00    2.61  0.71\n",
      "    Proline:                       278  1680     746   315\n",
      "    ============================= ==== ===== ======= =====\n",
      "\n",
      "    :Missing Attribute Values: None\n",
      "    :Class Distribution: class_0 (59), class_1 (71), class_2 (48)\n",
      "    :Creator: R.A. Fisher\n",
      "    :Donor: Michael Marshall (MARSHALL%PLU@io.arc.nasa.gov)\n",
      "    :Date: July, 1988\n",
      "\n",
      "This is a copy of UCI ML Wine recognition datasets.\n",
      "https://archive.ics.uci.edu/ml/machine-learning-databases/wine/wine.data\n",
      "\n",
      "The data is the results of a chemical analysis of wines grown in the same\n",
      "region in Italy by three different cultivators. There are thirteen different\n",
      "measurements taken for different constituents found in the three types of\n",
      "wine.\n",
      "\n",
      "Original Owners: \n",
      "\n",
      "Forina, M. et al, PARVUS - \n",
      "An Extendible Package for Data Exploration, Classification and Correlation. \n",
      "Institute of Pharmaceutical and Food Analysis and Technologies,\n",
      "Via Brigata Salerno, 16147 Genoa, Italy.\n",
      "\n",
      "Citation:\n",
      "\n",
      "Lichman, M. (2013). UCI Machine Learning Repository\n",
      "[https://archive.ics.uci.edu/ml]. Irvine, CA: University of California,\n",
      "School of Information and Computer Science. \n",
      "\n",
      ".. topic:: References\n",
      "\n",
      "  (1) S. Aeberhard, D. Coomans and O. de Vel, \n",
      "  Comparison of Classifiers in High Dimensional Settings, \n",
      "  Tech. Rep. no. 92-02, (1992), Dept. of Computer Science and Dept. of  \n",
      "  Mathematics and Statistics, James Cook University of North Queensland. \n",
      "  (Also submitted to Technometrics). \n",
      "\n",
      "  The data was used with many others for comparing various \n",
      "  classifiers. The classes are separable, though only RDA \n",
      "  has achieved 100% correct classification. \n",
      "  (RDA : 100%, QDA 99.4%, LDA 98.9%, 1NN 96.1% (z-transformed data)) \n",
      "  (All results using the leave-one-out technique) \n",
      "\n",
      "  (2) S. Aeberhard, D. Coomans and O. de Vel, \n",
      "  \"THE CLASSIFICATION PERFORMANCE OF RDA\" \n",
      "  Tech. Rep. no. 92-01, (1992), Dept. of Computer Science and Dept. of \n",
      "  Mathematics and Statistics, James Cook University of North Queensland. \n",
      "  (Also submitted to Journal of Chemometrics).\n",
      "\n"
     ]
    }
   ],
   "source": [
    "print(data.DESCR)"
   ]
  },
  {
   "cell_type": "markdown",
   "id": "biological-estate",
   "metadata": {},
   "source": [
    "## 12-8. 사이킷런의 주요 모듈 (4) 사이킷런 데이터셋을 이용한 분류 문제 실습\n"
   ]
  },
  {
   "cell_type": "code",
   "execution_count": 55,
   "id": "close-peeing",
   "metadata": {},
   "outputs": [
    {
     "data": {
      "text/html": [
       "<div>\n",
       "<style scoped>\n",
       "    .dataframe tbody tr th:only-of-type {\n",
       "        vertical-align: middle;\n",
       "    }\n",
       "\n",
       "    .dataframe tbody tr th {\n",
       "        vertical-align: top;\n",
       "    }\n",
       "\n",
       "    .dataframe thead th {\n",
       "        text-align: right;\n",
       "    }\n",
       "</style>\n",
       "<table border=\"1\" class=\"dataframe\">\n",
       "  <thead>\n",
       "    <tr style=\"text-align: right;\">\n",
       "      <th></th>\n",
       "      <th>alcohol</th>\n",
       "      <th>malic_acid</th>\n",
       "      <th>ash</th>\n",
       "      <th>alcalinity_of_ash</th>\n",
       "      <th>magnesium</th>\n",
       "      <th>total_phenols</th>\n",
       "      <th>flavanoids</th>\n",
       "      <th>nonflavanoid_phenols</th>\n",
       "      <th>proanthocyanins</th>\n",
       "      <th>color_intensity</th>\n",
       "      <th>hue</th>\n",
       "      <th>od280/od315_of_diluted_wines</th>\n",
       "      <th>proline</th>\n",
       "    </tr>\n",
       "  </thead>\n",
       "  <tbody>\n",
       "    <tr>\n",
       "      <th>0</th>\n",
       "      <td>14.23</td>\n",
       "      <td>1.71</td>\n",
       "      <td>2.43</td>\n",
       "      <td>15.6</td>\n",
       "      <td>127.0</td>\n",
       "      <td>2.80</td>\n",
       "      <td>3.06</td>\n",
       "      <td>0.28</td>\n",
       "      <td>2.29</td>\n",
       "      <td>5.64</td>\n",
       "      <td>1.04</td>\n",
       "      <td>3.92</td>\n",
       "      <td>1065.0</td>\n",
       "    </tr>\n",
       "    <tr>\n",
       "      <th>1</th>\n",
       "      <td>13.20</td>\n",
       "      <td>1.78</td>\n",
       "      <td>2.14</td>\n",
       "      <td>11.2</td>\n",
       "      <td>100.0</td>\n",
       "      <td>2.65</td>\n",
       "      <td>2.76</td>\n",
       "      <td>0.26</td>\n",
       "      <td>1.28</td>\n",
       "      <td>4.38</td>\n",
       "      <td>1.05</td>\n",
       "      <td>3.40</td>\n",
       "      <td>1050.0</td>\n",
       "    </tr>\n",
       "    <tr>\n",
       "      <th>2</th>\n",
       "      <td>13.16</td>\n",
       "      <td>2.36</td>\n",
       "      <td>2.67</td>\n",
       "      <td>18.6</td>\n",
       "      <td>101.0</td>\n",
       "      <td>2.80</td>\n",
       "      <td>3.24</td>\n",
       "      <td>0.30</td>\n",
       "      <td>2.81</td>\n",
       "      <td>5.68</td>\n",
       "      <td>1.03</td>\n",
       "      <td>3.17</td>\n",
       "      <td>1185.0</td>\n",
       "    </tr>\n",
       "    <tr>\n",
       "      <th>3</th>\n",
       "      <td>14.37</td>\n",
       "      <td>1.95</td>\n",
       "      <td>2.50</td>\n",
       "      <td>16.8</td>\n",
       "      <td>113.0</td>\n",
       "      <td>3.85</td>\n",
       "      <td>3.49</td>\n",
       "      <td>0.24</td>\n",
       "      <td>2.18</td>\n",
       "      <td>7.80</td>\n",
       "      <td>0.86</td>\n",
       "      <td>3.45</td>\n",
       "      <td>1480.0</td>\n",
       "    </tr>\n",
       "    <tr>\n",
       "      <th>4</th>\n",
       "      <td>13.24</td>\n",
       "      <td>2.59</td>\n",
       "      <td>2.87</td>\n",
       "      <td>21.0</td>\n",
       "      <td>118.0</td>\n",
       "      <td>2.80</td>\n",
       "      <td>2.69</td>\n",
       "      <td>0.39</td>\n",
       "      <td>1.82</td>\n",
       "      <td>4.32</td>\n",
       "      <td>1.04</td>\n",
       "      <td>2.93</td>\n",
       "      <td>735.0</td>\n",
       "    </tr>\n",
       "    <tr>\n",
       "      <th>...</th>\n",
       "      <td>...</td>\n",
       "      <td>...</td>\n",
       "      <td>...</td>\n",
       "      <td>...</td>\n",
       "      <td>...</td>\n",
       "      <td>...</td>\n",
       "      <td>...</td>\n",
       "      <td>...</td>\n",
       "      <td>...</td>\n",
       "      <td>...</td>\n",
       "      <td>...</td>\n",
       "      <td>...</td>\n",
       "      <td>...</td>\n",
       "    </tr>\n",
       "    <tr>\n",
       "      <th>173</th>\n",
       "      <td>13.71</td>\n",
       "      <td>5.65</td>\n",
       "      <td>2.45</td>\n",
       "      <td>20.5</td>\n",
       "      <td>95.0</td>\n",
       "      <td>1.68</td>\n",
       "      <td>0.61</td>\n",
       "      <td>0.52</td>\n",
       "      <td>1.06</td>\n",
       "      <td>7.70</td>\n",
       "      <td>0.64</td>\n",
       "      <td>1.74</td>\n",
       "      <td>740.0</td>\n",
       "    </tr>\n",
       "    <tr>\n",
       "      <th>174</th>\n",
       "      <td>13.40</td>\n",
       "      <td>3.91</td>\n",
       "      <td>2.48</td>\n",
       "      <td>23.0</td>\n",
       "      <td>102.0</td>\n",
       "      <td>1.80</td>\n",
       "      <td>0.75</td>\n",
       "      <td>0.43</td>\n",
       "      <td>1.41</td>\n",
       "      <td>7.30</td>\n",
       "      <td>0.70</td>\n",
       "      <td>1.56</td>\n",
       "      <td>750.0</td>\n",
       "    </tr>\n",
       "    <tr>\n",
       "      <th>175</th>\n",
       "      <td>13.27</td>\n",
       "      <td>4.28</td>\n",
       "      <td>2.26</td>\n",
       "      <td>20.0</td>\n",
       "      <td>120.0</td>\n",
       "      <td>1.59</td>\n",
       "      <td>0.69</td>\n",
       "      <td>0.43</td>\n",
       "      <td>1.35</td>\n",
       "      <td>10.20</td>\n",
       "      <td>0.59</td>\n",
       "      <td>1.56</td>\n",
       "      <td>835.0</td>\n",
       "    </tr>\n",
       "    <tr>\n",
       "      <th>176</th>\n",
       "      <td>13.17</td>\n",
       "      <td>2.59</td>\n",
       "      <td>2.37</td>\n",
       "      <td>20.0</td>\n",
       "      <td>120.0</td>\n",
       "      <td>1.65</td>\n",
       "      <td>0.68</td>\n",
       "      <td>0.53</td>\n",
       "      <td>1.46</td>\n",
       "      <td>9.30</td>\n",
       "      <td>0.60</td>\n",
       "      <td>1.62</td>\n",
       "      <td>840.0</td>\n",
       "    </tr>\n",
       "    <tr>\n",
       "      <th>177</th>\n",
       "      <td>14.13</td>\n",
       "      <td>4.10</td>\n",
       "      <td>2.74</td>\n",
       "      <td>24.5</td>\n",
       "      <td>96.0</td>\n",
       "      <td>2.05</td>\n",
       "      <td>0.76</td>\n",
       "      <td>0.56</td>\n",
       "      <td>1.35</td>\n",
       "      <td>9.20</td>\n",
       "      <td>0.61</td>\n",
       "      <td>1.60</td>\n",
       "      <td>560.0</td>\n",
       "    </tr>\n",
       "  </tbody>\n",
       "</table>\n",
       "<p>178 rows × 13 columns</p>\n",
       "</div>"
      ],
      "text/plain": [
       "     alcohol  malic_acid   ash  alcalinity_of_ash  magnesium  total_phenols  \\\n",
       "0      14.23        1.71  2.43               15.6      127.0           2.80   \n",
       "1      13.20        1.78  2.14               11.2      100.0           2.65   \n",
       "2      13.16        2.36  2.67               18.6      101.0           2.80   \n",
       "3      14.37        1.95  2.50               16.8      113.0           3.85   \n",
       "4      13.24        2.59  2.87               21.0      118.0           2.80   \n",
       "..       ...         ...   ...                ...        ...            ...   \n",
       "173    13.71        5.65  2.45               20.5       95.0           1.68   \n",
       "174    13.40        3.91  2.48               23.0      102.0           1.80   \n",
       "175    13.27        4.28  2.26               20.0      120.0           1.59   \n",
       "176    13.17        2.59  2.37               20.0      120.0           1.65   \n",
       "177    14.13        4.10  2.74               24.5       96.0           2.05   \n",
       "\n",
       "     flavanoids  nonflavanoid_phenols  proanthocyanins  color_intensity   hue  \\\n",
       "0          3.06                  0.28             2.29             5.64  1.04   \n",
       "1          2.76                  0.26             1.28             4.38  1.05   \n",
       "2          3.24                  0.30             2.81             5.68  1.03   \n",
       "3          3.49                  0.24             2.18             7.80  0.86   \n",
       "4          2.69                  0.39             1.82             4.32  1.04   \n",
       "..          ...                   ...              ...              ...   ...   \n",
       "173        0.61                  0.52             1.06             7.70  0.64   \n",
       "174        0.75                  0.43             1.41             7.30  0.70   \n",
       "175        0.69                  0.43             1.35            10.20  0.59   \n",
       "176        0.68                  0.53             1.46             9.30  0.60   \n",
       "177        0.76                  0.56             1.35             9.20  0.61   \n",
       "\n",
       "     od280/od315_of_diluted_wines  proline  \n",
       "0                            3.92   1065.0  \n",
       "1                            3.40   1050.0  \n",
       "2                            3.17   1185.0  \n",
       "3                            3.45   1480.0  \n",
       "4                            2.93    735.0  \n",
       "..                            ...      ...  \n",
       "173                          1.74    740.0  \n",
       "174                          1.56    750.0  \n",
       "175                          1.56    835.0  \n",
       "176                          1.62    840.0  \n",
       "177                          1.60    560.0  \n",
       "\n",
       "[178 rows x 13 columns]"
      ]
     },
     "execution_count": 55,
     "metadata": {},
     "output_type": "execute_result"
    }
   ],
   "source": [
    "import pandas as pd\n",
    "\n",
    "pd.DataFrame(data=data.data, columns=data.feature_names)"
   ]
  },
  {
   "cell_type": "markdown",
   "id": "continuing-lebanon",
   "metadata": {},
   "source": [
    "#### 머신러닝"
   ]
  },
  {
   "cell_type": "code",
   "execution_count": 56,
   "id": "unsigned-timer",
   "metadata": {},
   "outputs": [],
   "source": [
    "X = data.data\n",
    "y = data.target"
   ]
  },
  {
   "cell_type": "code",
   "execution_count": 57,
   "id": "medium-logan",
   "metadata": {},
   "outputs": [],
   "source": [
    "from sklearn.ensemble import RandomForestClassifier\n",
    "model = RandomForestClassifier()"
   ]
  },
  {
   "cell_type": "code",
   "execution_count": 58,
   "id": "refined-romantic",
   "metadata": {},
   "outputs": [
    {
     "data": {
      "text/plain": [
       "RandomForestClassifier()"
      ]
     },
     "execution_count": 58,
     "metadata": {},
     "output_type": "execute_result"
    }
   ],
   "source": [
    "model.fit(X,y)"
   ]
  },
  {
   "cell_type": "code",
   "execution_count": 59,
   "id": "fantastic-transaction",
   "metadata": {},
   "outputs": [],
   "source": [
    "y_pred = model.predict(X)"
   ]
  },
  {
   "cell_type": "code",
   "execution_count": 60,
   "id": "acoustic-particular",
   "metadata": {},
   "outputs": [
    {
     "name": "stdout",
     "output_type": "stream",
     "text": [
      "              precision    recall  f1-score   support\n",
      "\n",
      "           0       1.00      1.00      1.00        59\n",
      "           1       1.00      1.00      1.00        71\n",
      "           2       1.00      1.00      1.00        48\n",
      "\n",
      "    accuracy                           1.00       178\n",
      "   macro avg       1.00      1.00      1.00       178\n",
      "weighted avg       1.00      1.00      1.00       178\n",
      "\n",
      "accuracy =  1.0\n"
     ]
    }
   ],
   "source": [
    "from sklearn.metrics import accuracy_score\n",
    "from sklearn.metrics import classification_report\n",
    "\n",
    "#타겟 벡터 즉 라벨인 변수명 y와 예측값 y_pred을 각각 인자로 넣습니다. \n",
    "print(classification_report(y, y_pred))\n",
    "#정확도를 출력합니다. \n",
    "print(\"accuracy = \", accuracy_score(y, y_pred))"
   ]
  },
  {
   "cell_type": "markdown",
   "id": "thorough-maldives",
   "metadata": {},
   "source": [
    "## 12-9. 사이킷런의 주요 모듈 (5) Estimator\n"
   ]
  },
  {
   "cell_type": "markdown",
   "id": "german-nylon",
   "metadata": {},
   "source": [
    "## 12-10. 훈련 데이터와 테스트 데이터 분리하기\n"
   ]
  },
  {
   "cell_type": "markdown",
   "id": "angry-negative",
   "metadata": {},
   "source": [
    "#### 훈련 데이터와 테스트 데이터 직접 분리하기\n"
   ]
  },
  {
   "cell_type": "code",
   "execution_count": 61,
   "id": "framed-denmark",
   "metadata": {},
   "outputs": [
    {
     "name": "stdout",
     "output_type": "stream",
     "text": [
      "(178, 13)\n",
      "(178,)\n"
     ]
    }
   ],
   "source": [
    "from sklearn.datasets import load_wine\n",
    "data = load_wine()\n",
    "print(data.data.shape)\n",
    "print(data.target.shape)"
   ]
  },
  {
   "cell_type": "code",
   "execution_count": 71,
   "id": "prospective-indonesia",
   "metadata": {},
   "outputs": [
    {
     "name": "stdout",
     "output_type": "stream",
     "text": [
      "X_m_train shape: (142, 13)\n",
      "X_m_test shape: (36, 13)\n",
      "y_m_train shape: (142,)\n",
      "y_m_test shape: (36,)\n"
     ]
    }
   ],
   "source": [
    "# DJ's version\n",
    "train_len = round(len(data.data) * 0.8)\n",
    "test_len = len(data.data) - round(len(data.data) * 0.8)\n",
    "\n",
    "X_m_train = data.data[:train_len]\n",
    "X_m_test = data.data[-test_len:]\n",
    "\n",
    "y_m_train = data.target[:train_len]\n",
    "y_m_test = data.target[-test_len:]\n",
    "\n",
    "print(\"X_m_train shape:\", X_m_train.shape)\n",
    "print(\"X_m_test shape:\", X_m_test.shape)\n",
    "print(\"y_m_train shape:\", y_m_train.shape)\n",
    "print(\"y_m_test shape:\", y_m_test.shape)"
   ]
  },
  {
   "cell_type": "code",
   "execution_count": 72,
   "id": "universal-platinum",
   "metadata": {},
   "outputs": [
    {
     "name": "stdout",
     "output_type": "stream",
     "text": [
      "(142, 13) (36, 13)\n"
     ]
    }
   ],
   "source": [
    "X_train = data.data[:142]\n",
    "X_test = data.data[142:]\n",
    "print(X_train.shape, X_test.shape)"
   ]
  },
  {
   "cell_type": "code",
   "execution_count": 73,
   "id": "attempted-tracker",
   "metadata": {},
   "outputs": [
    {
     "name": "stdout",
     "output_type": "stream",
     "text": [
      "(142,) (36,)\n"
     ]
    }
   ],
   "source": [
    "y_train = data.target[:142]\n",
    "y_test = data.target[142:]\n",
    "print(y_train.shape, y_test.shape)"
   ]
  },
  {
   "cell_type": "code",
   "execution_count": 74,
   "id": "imperial-postcard",
   "metadata": {},
   "outputs": [
    {
     "data": {
      "text/plain": [
       "RandomForestClassifier()"
      ]
     },
     "execution_count": 74,
     "metadata": {},
     "output_type": "execute_result"
    }
   ],
   "source": [
    "from sklearn.ensemble import RandomForestClassifier\n",
    "model = RandomForestClassifier()\n",
    "model.fit(X_train, y_train)"
   ]
  },
  {
   "cell_type": "code",
   "execution_count": 75,
   "id": "lonely-middle",
   "metadata": {},
   "outputs": [],
   "source": [
    "y_pred = model.predict(X_test)"
   ]
  },
  {
   "cell_type": "code",
   "execution_count": 77,
   "id": "broke-chester",
   "metadata": {},
   "outputs": [
    {
     "name": "stdout",
     "output_type": "stream",
     "text": [
      "정답률= 0.9722222222222222\n"
     ]
    }
   ],
   "source": [
    "from sklearn.metrics import accuracy_score\n",
    "\n",
    "print(\"정답률=\", accuracy_score(y_test, y_pred))"
   ]
  },
  {
   "cell_type": "markdown",
   "id": "descending-blake",
   "metadata": {},
   "source": [
    "#### train_test_split() 사용해서 분리하기\n"
   ]
  },
  {
   "cell_type": "code",
   "execution_count": 83,
   "id": "perfect-walker",
   "metadata": {},
   "outputs": [],
   "source": [
    "from sklearn.model_selection import train_test_split\n",
    "\n",
    "result = train_test_split(X, y, test_size=0.2, random_state=42)"
   ]
  },
  {
   "cell_type": "code",
   "execution_count": 79,
   "id": "posted-building",
   "metadata": {},
   "outputs": [
    {
     "data": {
      "text/plain": [
       "[array([[1.434e+01, 1.680e+00, 2.700e+00, ..., 5.700e-01, 1.960e+00,\n",
       "         6.600e+02],\n",
       "        [1.253e+01, 5.510e+00, 2.640e+00, ..., 8.200e-01, 1.690e+00,\n",
       "         5.150e+02],\n",
       "        [1.237e+01, 1.070e+00, 2.100e+00, ..., 1.040e+00, 2.770e+00,\n",
       "         6.600e+02],\n",
       "        ...,\n",
       "        [1.438e+01, 1.870e+00, 2.380e+00, ..., 1.200e+00, 3.000e+00,\n",
       "         1.547e+03],\n",
       "        [1.269e+01, 1.530e+00, 2.260e+00, ..., 9.600e-01, 2.060e+00,\n",
       "         4.950e+02],\n",
       "        [1.234e+01, 2.450e+00, 2.460e+00, ..., 8.000e-01, 3.380e+00,\n",
       "         4.380e+02]]),\n",
       " array([[1.364000e+01, 3.100000e+00, 2.560000e+00, 1.520000e+01,\n",
       "         1.160000e+02, 2.700000e+00, 3.030000e+00, 1.700000e-01,\n",
       "         1.660000e+00, 5.100000e+00, 9.600000e-01, 3.360000e+00,\n",
       "         8.450000e+02],\n",
       "        [1.421000e+01, 4.040000e+00, 2.440000e+00, 1.890000e+01,\n",
       "         1.110000e+02, 2.850000e+00, 2.650000e+00, 3.000000e-01,\n",
       "         1.250000e+00, 5.240000e+00, 8.700000e-01, 3.330000e+00,\n",
       "         1.080000e+03],\n",
       "        [1.293000e+01, 2.810000e+00, 2.700000e+00, 2.100000e+01,\n",
       "         9.600000e+01, 1.540000e+00, 5.000000e-01, 5.300000e-01,\n",
       "         7.500000e-01, 4.600000e+00, 7.700000e-01, 2.310000e+00,\n",
       "         6.000000e+02],\n",
       "        [1.373000e+01, 1.500000e+00, 2.700000e+00, 2.250000e+01,\n",
       "         1.010000e+02, 3.000000e+00, 3.250000e+00, 2.900000e-01,\n",
       "         2.380000e+00, 5.700000e+00, 1.190000e+00, 2.710000e+00,\n",
       "         1.285000e+03],\n",
       "        [1.237000e+01, 1.170000e+00, 1.920000e+00, 1.960000e+01,\n",
       "         7.800000e+01, 2.110000e+00, 2.000000e+00, 2.700000e-01,\n",
       "         1.040000e+00, 4.680000e+00, 1.120000e+00, 3.480000e+00,\n",
       "         5.100000e+02],\n",
       "        [1.430000e+01, 1.920000e+00, 2.720000e+00, 2.000000e+01,\n",
       "         1.200000e+02, 2.800000e+00, 3.140000e+00, 3.300000e-01,\n",
       "         1.970000e+00, 6.200000e+00, 1.070000e+00, 2.650000e+00,\n",
       "         1.280000e+03],\n",
       "        [1.200000e+01, 3.430000e+00, 2.000000e+00, 1.900000e+01,\n",
       "         8.700000e+01, 2.000000e+00, 1.640000e+00, 3.700000e-01,\n",
       "         1.870000e+00, 1.280000e+00, 9.300000e-01, 3.050000e+00,\n",
       "         5.640000e+02],\n",
       "        [1.340000e+01, 3.910000e+00, 2.480000e+00, 2.300000e+01,\n",
       "         1.020000e+02, 1.800000e+00, 7.500000e-01, 4.300000e-01,\n",
       "         1.410000e+00, 7.300000e+00, 7.000000e-01, 1.560000e+00,\n",
       "         7.500000e+02],\n",
       "        [1.161000e+01, 1.350000e+00, 2.700000e+00, 2.000000e+01,\n",
       "         9.400000e+01, 2.740000e+00, 2.920000e+00, 2.900000e-01,\n",
       "         2.490000e+00, 2.650000e+00, 9.600000e-01, 3.260000e+00,\n",
       "         6.800000e+02],\n",
       "        [1.336000e+01, 2.560000e+00, 2.350000e+00, 2.000000e+01,\n",
       "         8.900000e+01, 1.400000e+00, 5.000000e-01, 3.700000e-01,\n",
       "         6.400000e-01, 5.600000e+00, 7.000000e-01, 2.470000e+00,\n",
       "         7.800000e+02],\n",
       "        [1.350000e+01, 1.810000e+00, 2.610000e+00, 2.000000e+01,\n",
       "         9.600000e+01, 2.530000e+00, 2.610000e+00, 2.800000e-01,\n",
       "         1.660000e+00, 3.520000e+00, 1.120000e+00, 3.820000e+00,\n",
       "         8.450000e+02],\n",
       "        [1.350000e+01, 3.120000e+00, 2.620000e+00, 2.400000e+01,\n",
       "         1.230000e+02, 1.400000e+00, 1.570000e+00, 2.200000e-01,\n",
       "         1.250000e+00, 8.600000e+00, 5.900000e-01, 1.300000e+00,\n",
       "         5.000000e+02],\n",
       "        [1.341000e+01, 3.840000e+00, 2.120000e+00, 1.880000e+01,\n",
       "         9.000000e+01, 2.450000e+00, 2.680000e+00, 2.700000e-01,\n",
       "         1.480000e+00, 4.280000e+00, 9.100000e-01, 3.000000e+00,\n",
       "         1.035000e+03],\n",
       "        [1.277000e+01, 3.430000e+00, 1.980000e+00, 1.600000e+01,\n",
       "         8.000000e+01, 1.630000e+00, 1.250000e+00, 4.300000e-01,\n",
       "         8.300000e-01, 3.400000e+00, 7.000000e-01, 2.120000e+00,\n",
       "         3.720000e+02],\n",
       "        [1.363000e+01, 1.810000e+00, 2.700000e+00, 1.720000e+01,\n",
       "         1.120000e+02, 2.850000e+00, 2.910000e+00, 3.000000e-01,\n",
       "         1.460000e+00, 7.300000e+00, 1.280000e+00, 2.880000e+00,\n",
       "         1.310000e+03],\n",
       "        [1.252000e+01, 2.430000e+00, 2.170000e+00, 2.100000e+01,\n",
       "         8.800000e+01, 2.550000e+00, 2.270000e+00, 2.600000e-01,\n",
       "         1.220000e+00, 2.000000e+00, 9.000000e-01, 2.780000e+00,\n",
       "         3.250000e+02],\n",
       "        [1.141000e+01, 7.400000e-01, 2.500000e+00, 2.100000e+01,\n",
       "         8.800000e+01, 2.480000e+00, 2.010000e+00, 4.200000e-01,\n",
       "         1.440000e+00, 3.080000e+00, 1.100000e+00, 2.310000e+00,\n",
       "         4.340000e+02],\n",
       "        [1.208000e+01, 1.130000e+00, 2.510000e+00, 2.400000e+01,\n",
       "         7.800000e+01, 2.000000e+00, 1.580000e+00, 4.000000e-01,\n",
       "         1.400000e+00, 2.200000e+00, 1.310000e+00, 2.720000e+00,\n",
       "         6.300000e+02],\n",
       "        [1.386000e+01, 1.350000e+00, 2.270000e+00, 1.600000e+01,\n",
       "         9.800000e+01, 2.980000e+00, 3.150000e+00, 2.200000e-01,\n",
       "         1.850000e+00, 7.220000e+00, 1.010000e+00, 3.550000e+00,\n",
       "         1.045000e+03],\n",
       "        [1.208000e+01, 1.390000e+00, 2.500000e+00, 2.250000e+01,\n",
       "         8.400000e+01, 2.560000e+00, 2.290000e+00, 4.300000e-01,\n",
       "         1.040000e+00, 2.900000e+00, 9.300000e-01, 3.190000e+00,\n",
       "         3.850000e+02],\n",
       "        [1.419000e+01, 1.590000e+00, 2.480000e+00, 1.650000e+01,\n",
       "         1.080000e+02, 3.300000e+00, 3.930000e+00, 3.200000e-01,\n",
       "         1.860000e+00, 8.700000e+00, 1.230000e+00, 2.820000e+00,\n",
       "         1.680000e+03],\n",
       "        [1.311000e+01, 1.010000e+00, 1.700000e+00, 1.500000e+01,\n",
       "         7.800000e+01, 2.980000e+00, 3.180000e+00, 2.600000e-01,\n",
       "         2.280000e+00, 5.300000e+00, 1.120000e+00, 3.180000e+00,\n",
       "         5.020000e+02],\n",
       "        [1.233000e+01, 1.100000e+00, 2.280000e+00, 1.600000e+01,\n",
       "         1.010000e+02, 2.050000e+00, 1.090000e+00, 6.300000e-01,\n",
       "         4.100000e-01, 3.270000e+00, 1.250000e+00, 1.670000e+00,\n",
       "         6.800000e+02],\n",
       "        [1.340000e+01, 4.600000e+00, 2.860000e+00, 2.500000e+01,\n",
       "         1.120000e+02, 1.980000e+00, 9.600000e-01, 2.700000e-01,\n",
       "         1.110000e+00, 8.500000e+00, 6.700000e-01, 1.920000e+00,\n",
       "         6.300000e+02],\n",
       "        [1.277000e+01, 2.390000e+00, 2.280000e+00, 1.950000e+01,\n",
       "         8.600000e+01, 1.390000e+00, 5.100000e-01, 4.800000e-01,\n",
       "         6.400000e-01, 9.899999e+00, 5.700000e-01, 1.630000e+00,\n",
       "         4.700000e+02],\n",
       "        [1.378000e+01, 2.760000e+00, 2.300000e+00, 2.200000e+01,\n",
       "         9.000000e+01, 1.350000e+00, 6.800000e-01, 4.100000e-01,\n",
       "         1.030000e+00, 9.580000e+00, 7.000000e-01, 1.680000e+00,\n",
       "         6.150000e+02],\n",
       "        [1.242000e+01, 1.610000e+00, 2.190000e+00, 2.250000e+01,\n",
       "         1.080000e+02, 2.000000e+00, 2.090000e+00, 3.400000e-01,\n",
       "         1.610000e+00, 2.060000e+00, 1.060000e+00, 2.960000e+00,\n",
       "         3.450000e+02],\n",
       "        [1.237000e+01, 1.210000e+00, 2.560000e+00, 1.810000e+01,\n",
       "         9.800000e+01, 2.420000e+00, 2.650000e+00, 3.700000e-01,\n",
       "         2.080000e+00, 4.600000e+00, 1.190000e+00, 2.300000e+00,\n",
       "         6.780000e+02],\n",
       "        [1.208000e+01, 1.830000e+00, 2.320000e+00, 1.850000e+01,\n",
       "         8.100000e+01, 1.600000e+00, 1.500000e+00, 5.200000e-01,\n",
       "         1.640000e+00, 2.400000e+00, 1.080000e+00, 2.270000e+00,\n",
       "         4.800000e+02],\n",
       "        [1.356000e+01, 1.730000e+00, 2.460000e+00, 2.050000e+01,\n",
       "         1.160000e+02, 2.960000e+00, 2.780000e+00, 2.000000e-01,\n",
       "         2.450000e+00, 6.250000e+00, 9.800000e-01, 3.030000e+00,\n",
       "         1.120000e+03],\n",
       "        [1.402000e+01, 1.680000e+00, 2.210000e+00, 1.600000e+01,\n",
       "         9.600000e+01, 2.650000e+00, 2.330000e+00, 2.600000e-01,\n",
       "         1.980000e+00, 4.700000e+00, 1.040000e+00, 3.590000e+00,\n",
       "         1.035000e+03],\n",
       "        [1.237000e+01, 1.630000e+00, 2.300000e+00, 2.450000e+01,\n",
       "         8.800000e+01, 2.220000e+00, 2.450000e+00, 4.000000e-01,\n",
       "         1.900000e+00, 2.120000e+00, 8.900000e-01, 2.780000e+00,\n",
       "         3.420000e+02],\n",
       "        [1.316000e+01, 3.570000e+00, 2.150000e+00, 2.100000e+01,\n",
       "         1.020000e+02, 1.500000e+00, 5.500000e-01, 4.300000e-01,\n",
       "         1.300000e+00, 4.000000e+00, 6.000000e-01, 1.680000e+00,\n",
       "         8.300000e+02],\n",
       "        [1.358000e+01, 1.660000e+00, 2.360000e+00, 1.910000e+01,\n",
       "         1.060000e+02, 2.860000e+00, 3.190000e+00, 2.200000e-01,\n",
       "         1.950000e+00, 6.900000e+00, 1.090000e+00, 2.880000e+00,\n",
       "         1.515000e+03],\n",
       "        [1.375000e+01, 1.730000e+00, 2.410000e+00, 1.600000e+01,\n",
       "         8.900000e+01, 2.600000e+00, 2.760000e+00, 2.900000e-01,\n",
       "         1.810000e+00, 5.600000e+00, 1.150000e+00, 2.900000e+00,\n",
       "         1.320000e+03],\n",
       "        [1.388000e+01, 1.890000e+00, 2.590000e+00, 1.500000e+01,\n",
       "         1.010000e+02, 3.250000e+00, 3.560000e+00, 1.700000e-01,\n",
       "         1.700000e+00, 5.430000e+00, 8.800000e-01, 3.560000e+00,\n",
       "         1.095000e+03]]),\n",
       " array([2, 2, 1, 2, 0, 1, 1, 1, 2, 0, 1, 1, 2, 0, 1, 0, 0, 2, 2, 1, 1, 0,\n",
       "        1, 0, 2, 1, 1, 2, 0, 0, 0, 2, 0, 0, 1, 2, 1, 0, 2, 1, 0, 2, 1, 1,\n",
       "        0, 1, 0, 0, 1, 0, 0, 2, 1, 1, 1, 0, 1, 1, 1, 2, 2, 0, 1, 2, 2, 1,\n",
       "        1, 0, 1, 2, 2, 1, 2, 1, 1, 1, 0, 0, 2, 0, 2, 0, 0, 1, 1, 0, 0, 0,\n",
       "        1, 0, 1, 2, 1, 1, 1, 2, 2, 1, 0, 0, 1, 2, 2, 0, 1, 2, 2, 2, 2, 1,\n",
       "        0, 1, 0, 2, 0, 0, 1, 0, 0, 2, 1, 0, 2, 2, 0, 0, 2, 2, 2, 1, 1, 1,\n",
       "        1, 1, 1, 2, 0, 1, 1, 0, 1, 1]),\n",
       " array([0, 0, 2, 0, 1, 0, 1, 2, 1, 2, 0, 2, 0, 1, 0, 1, 1, 1, 0, 1, 0, 1,\n",
       "        1, 2, 2, 2, 1, 1, 1, 0, 0, 1, 2, 0, 0, 0])]"
      ]
     },
     "execution_count": 79,
     "metadata": {},
     "output_type": "execute_result"
    }
   ],
   "source": [
    "result"
   ]
  },
  {
   "cell_type": "code",
   "execution_count": 80,
   "id": "technical-pontiac",
   "metadata": {},
   "outputs": [],
   "source": [
    "result_1 = train_test_split(X, y, test_size=0.2, random_state=42)"
   ]
  },
  {
   "cell_type": "code",
   "execution_count": 82,
   "id": "departmental-brighton",
   "metadata": {},
   "outputs": [
    {
     "data": {
      "text/plain": [
       "array([[ True,  True,  True, ...,  True,  True,  True],\n",
       "       [ True,  True,  True, ...,  True,  True,  True],\n",
       "       [ True,  True,  True, ...,  True,  True,  True],\n",
       "       ...,\n",
       "       [ True,  True,  True, ...,  True,  True,  True],\n",
       "       [ True,  True,  True, ...,  True,  True,  True],\n",
       "       [ True,  True,  True, ...,  True,  True,  True]])"
      ]
     },
     "execution_count": 82,
     "metadata": {},
     "output_type": "execute_result"
    }
   ],
   "source": [
    "result[0] == result_1[0]"
   ]
  },
  {
   "cell_type": "code",
   "execution_count": 85,
   "id": "religious-fields",
   "metadata": {},
   "outputs": [
    {
     "name": "stdout",
     "output_type": "stream",
     "text": [
      "<class 'list'>\n",
      "4\n"
     ]
    }
   ],
   "source": [
    "print(type(result))\n",
    "print(len(result))"
   ]
  },
  {
   "cell_type": "code",
   "execution_count": 86,
   "id": "increased-lobby",
   "metadata": {},
   "outputs": [],
   "source": [
    "X_train, X_test, y_train, y_test = train_test_split(X, y, test_size=0.2, random_state=42)"
   ]
  },
  {
   "cell_type": "code",
   "execution_count": 87,
   "id": "pleased-grace",
   "metadata": {},
   "outputs": [
    {
     "name": "stdout",
     "output_type": "stream",
     "text": [
      "              precision    recall  f1-score   support\n",
      "\n",
      "           0       1.00      1.00      1.00        11\n",
      "           1       1.00      1.00      1.00        14\n",
      "           2       1.00      1.00      1.00        11\n",
      "\n",
      "    accuracy                           1.00        36\n",
      "   macro avg       1.00      1.00      1.00        36\n",
      "weighted avg       1.00      1.00      1.00        36\n",
      "\n"
     ]
    }
   ],
   "source": [
    "# 데이터셋 로드하기\n",
    "# [[your code]\n",
    "from sklearn.datasets import load_wine\n",
    "wine = load_wine()\n",
    "X = wine.data\n",
    "y = wine.target\n",
    "# 훈련용 데이터셋 나누기\n",
    "# [[your code]\n",
    "X_train, X_test, y_train, y_test = train_test_split(X,\n",
    "                                                    y,\n",
    "                                                    test_size=0.2,\n",
    "                                                    random_state=77)\n",
    "# 훈련하기\n",
    "# [[your code]\n",
    "from sklearn.ensemble import RandomForestClassifier\n",
    "\n",
    "rf_model = RandomForestClassifier()\n",
    "rf_model.fit(X_train, y_train)\n",
    "# 예측하기\n",
    "# [[your code]\n",
    "y_pred = rf_model.predict(X_test)\n",
    "\n",
    "# 정답률 출력하기\n",
    "# [[your code]\n",
    "from sklearn.metrics import classification_report\n",
    "\n",
    "print(classification_report(y_test, y_pred))"
   ]
  },
  {
   "cell_type": "markdown",
   "id": "hairy-turner",
   "metadata": {},
   "source": [
    "## 12-11. 마무리\n"
   ]
  },
  {
   "cell_type": "code",
   "execution_count": null,
   "id": "grateful-hands",
   "metadata": {},
   "outputs": [],
   "source": []
  }
 ],
 "metadata": {
  "kernelspec": {
   "display_name": "Python 3",
   "language": "python",
   "name": "python3"
  },
  "language_info": {
   "codemirror_mode": {
    "name": "ipython",
    "version": 3
   },
   "file_extension": ".py",
   "mimetype": "text/x-python",
   "name": "python",
   "nbconvert_exporter": "python",
   "pygments_lexer": "ipython3",
   "version": "3.7.9"
  }
 },
 "nbformat": 4,
 "nbformat_minor": 5
}
