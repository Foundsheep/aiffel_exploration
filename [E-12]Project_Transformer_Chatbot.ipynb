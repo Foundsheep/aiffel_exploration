{
 "cells": [
  {
   "cell_type": "markdown",
   "id": "exotic-lodge",
   "metadata": {},
   "source": [
    "#  프로젝트: 한국어 데이터로 챗봇 만들기\n",
    "\n",
    "#### 배경\n",
    "- transformer 챗봇 모델을 만들어서 영어 데이터로 학습 후 예측 문장을 만들어봤다.\n",
    "- 다른 언어인 한국어로 transformer 챗봇 모델을 만들어보자."
   ]
  },
  {
   "cell_type": "markdown",
   "id": "local-technique",
   "metadata": {},
   "source": [
    "## Step 1. 데이터 수집하기"
   ]
  },
  {
   "cell_type": "code",
   "execution_count": 1,
   "id": "harmful-savings",
   "metadata": {},
   "outputs": [
    {
     "name": "stdout",
     "output_type": "stream",
     "text": [
      "슝=3\n"
     ]
    }
   ],
   "source": [
    "import tensorflow as tf\n",
    "import os\n",
    "import re\n",
    "import numpy as np\n",
    "import pandas as pd\n",
    "import matplotlib.pyplot as plt\n",
    "print(\"슝=3\")"
   ]
  },
  {
   "cell_type": "code",
   "execution_count": 2,
   "id": "dietary-whole",
   "metadata": {},
   "outputs": [
    {
     "data": {
      "text/html": [
       "<div>\n",
       "<style scoped>\n",
       "    .dataframe tbody tr th:only-of-type {\n",
       "        vertical-align: middle;\n",
       "    }\n",
       "\n",
       "    .dataframe tbody tr th {\n",
       "        vertical-align: top;\n",
       "    }\n",
       "\n",
       "    .dataframe thead th {\n",
       "        text-align: right;\n",
       "    }\n",
       "</style>\n",
       "<table border=\"1\" class=\"dataframe\">\n",
       "  <thead>\n",
       "    <tr style=\"text-align: right;\">\n",
       "      <th></th>\n",
       "      <th>Q</th>\n",
       "      <th>A</th>\n",
       "      <th>label</th>\n",
       "    </tr>\n",
       "  </thead>\n",
       "  <tbody>\n",
       "    <tr>\n",
       "      <th>0</th>\n",
       "      <td>12시 땡!</td>\n",
       "      <td>하루가 또 가네요.</td>\n",
       "      <td>0</td>\n",
       "    </tr>\n",
       "    <tr>\n",
       "      <th>1</th>\n",
       "      <td>1지망 학교 떨어졌어</td>\n",
       "      <td>위로해 드립니다.</td>\n",
       "      <td>0</td>\n",
       "    </tr>\n",
       "    <tr>\n",
       "      <th>2</th>\n",
       "      <td>3박4일 놀러가고 싶다</td>\n",
       "      <td>여행은 언제나 좋죠.</td>\n",
       "      <td>0</td>\n",
       "    </tr>\n",
       "    <tr>\n",
       "      <th>3</th>\n",
       "      <td>3박4일 정도 놀러가고 싶다</td>\n",
       "      <td>여행은 언제나 좋죠.</td>\n",
       "      <td>0</td>\n",
       "    </tr>\n",
       "    <tr>\n",
       "      <th>4</th>\n",
       "      <td>PPL 심하네</td>\n",
       "      <td>눈살이 찌푸려지죠.</td>\n",
       "      <td>0</td>\n",
       "    </tr>\n",
       "  </tbody>\n",
       "</table>\n",
       "</div>"
      ],
      "text/plain": [
       "                 Q            A  label\n",
       "0           12시 땡!   하루가 또 가네요.      0\n",
       "1      1지망 학교 떨어졌어    위로해 드립니다.      0\n",
       "2     3박4일 놀러가고 싶다  여행은 언제나 좋죠.      0\n",
       "3  3박4일 정도 놀러가고 싶다  여행은 언제나 좋죠.      0\n",
       "4          PPL 심하네   눈살이 찌푸려지죠.      0"
      ]
     },
     "execution_count": 2,
     "metadata": {},
     "output_type": "execute_result"
    }
   ],
   "source": [
    "# 데이터 가져오기\n",
    "path = os.getenv(\"HOME\") + '/aiffel/transformer_chatbot/data/ChatbotData .csv'\n",
    "df = pd.read_csv(path)\n",
    "df.head()"
   ]
  },
  {
   "cell_type": "code",
   "execution_count": 3,
   "id": "crucial-organization",
   "metadata": {},
   "outputs": [
    {
     "data": {
      "text/plain": [
       "0    5290\n",
       "1    3570\n",
       "2    2963\n",
       "Name: label, dtype: int64"
      ]
     },
     "execution_count": 3,
     "metadata": {},
     "output_type": "execute_result"
    }
   ],
   "source": [
    "# label은 무엇을 뜻하는 것일까?\n",
    "df['label'].value_counts()"
   ]
  },
  {
   "cell_type": "code",
   "execution_count": 4,
   "id": "running-notion",
   "metadata": {},
   "outputs": [
    {
     "data": {
      "text/html": [
       "<div>\n",
       "<style scoped>\n",
       "    .dataframe tbody tr th:only-of-type {\n",
       "        vertical-align: middle;\n",
       "    }\n",
       "\n",
       "    .dataframe tbody tr th {\n",
       "        vertical-align: top;\n",
       "    }\n",
       "\n",
       "    .dataframe thead th {\n",
       "        text-align: right;\n",
       "    }\n",
       "</style>\n",
       "<table border=\"1\" class=\"dataframe\">\n",
       "  <thead>\n",
       "    <tr style=\"text-align: right;\">\n",
       "      <th></th>\n",
       "      <th>Q</th>\n",
       "      <th>A</th>\n",
       "      <th>label</th>\n",
       "    </tr>\n",
       "  </thead>\n",
       "  <tbody>\n",
       "    <tr>\n",
       "      <th>0</th>\n",
       "      <td>12시 땡!</td>\n",
       "      <td>하루가 또 가네요.</td>\n",
       "      <td>0</td>\n",
       "    </tr>\n",
       "    <tr>\n",
       "      <th>1</th>\n",
       "      <td>1지망 학교 떨어졌어</td>\n",
       "      <td>위로해 드립니다.</td>\n",
       "      <td>0</td>\n",
       "    </tr>\n",
       "    <tr>\n",
       "      <th>2</th>\n",
       "      <td>3박4일 놀러가고 싶다</td>\n",
       "      <td>여행은 언제나 좋죠.</td>\n",
       "      <td>0</td>\n",
       "    </tr>\n",
       "    <tr>\n",
       "      <th>3</th>\n",
       "      <td>3박4일 정도 놀러가고 싶다</td>\n",
       "      <td>여행은 언제나 좋죠.</td>\n",
       "      <td>0</td>\n",
       "    </tr>\n",
       "    <tr>\n",
       "      <th>4</th>\n",
       "      <td>PPL 심하네</td>\n",
       "      <td>눈살이 찌푸려지죠.</td>\n",
       "      <td>0</td>\n",
       "    </tr>\n",
       "    <tr>\n",
       "      <th>5</th>\n",
       "      <td>SD카드 망가졌어</td>\n",
       "      <td>다시 새로 사는 게 마음 편해요.</td>\n",
       "      <td>0</td>\n",
       "    </tr>\n",
       "    <tr>\n",
       "      <th>6</th>\n",
       "      <td>SD카드 안돼</td>\n",
       "      <td>다시 새로 사는 게 마음 편해요.</td>\n",
       "      <td>0</td>\n",
       "    </tr>\n",
       "  </tbody>\n",
       "</table>\n",
       "</div>"
      ],
      "text/plain": [
       "                 Q                   A  label\n",
       "0           12시 땡!          하루가 또 가네요.      0\n",
       "1      1지망 학교 떨어졌어           위로해 드립니다.      0\n",
       "2     3박4일 놀러가고 싶다         여행은 언제나 좋죠.      0\n",
       "3  3박4일 정도 놀러가고 싶다         여행은 언제나 좋죠.      0\n",
       "4          PPL 심하네          눈살이 찌푸려지죠.      0\n",
       "5        SD카드 망가졌어  다시 새로 사는 게 마음 편해요.      0\n",
       "6          SD카드 안돼  다시 새로 사는 게 마음 편해요.      0"
      ]
     },
     "metadata": {},
     "output_type": "display_data"
    },
    {
     "data": {
      "text/html": [
       "<div>\n",
       "<style scoped>\n",
       "    .dataframe tbody tr th:only-of-type {\n",
       "        vertical-align: middle;\n",
       "    }\n",
       "\n",
       "    .dataframe tbody tr th {\n",
       "        vertical-align: top;\n",
       "    }\n",
       "\n",
       "    .dataframe thead th {\n",
       "        text-align: right;\n",
       "    }\n",
       "</style>\n",
       "<table border=\"1\" class=\"dataframe\">\n",
       "  <thead>\n",
       "    <tr style=\"text-align: right;\">\n",
       "      <th></th>\n",
       "      <th>Q</th>\n",
       "      <th>A</th>\n",
       "      <th>label</th>\n",
       "    </tr>\n",
       "  </thead>\n",
       "  <tbody>\n",
       "    <tr>\n",
       "      <th>5290</th>\n",
       "      <td>1000일 만난 여자친구와 이별</td>\n",
       "      <td>더 오래 만날 사람 만날 거예요.</td>\n",
       "      <td>1</td>\n",
       "    </tr>\n",
       "    <tr>\n",
       "      <th>5291</th>\n",
       "      <td>10년 연애. 헤어졌습니다.</td>\n",
       "      <td>더 공허함이 크시겠네요.</td>\n",
       "      <td>1</td>\n",
       "    </tr>\n",
       "    <tr>\n",
       "      <th>5292</th>\n",
       "      <td>10년 연애사 되돌아보니 다 부질없네</td>\n",
       "      <td>더 좋은 사람 만나실 거예요.</td>\n",
       "      <td>1</td>\n",
       "    </tr>\n",
       "    <tr>\n",
       "      <th>5293</th>\n",
       "      <td>10년 연예의끝</td>\n",
       "      <td>더 마음이 허하겠어요.</td>\n",
       "      <td>1</td>\n",
       "    </tr>\n",
       "    <tr>\n",
       "      <th>5294</th>\n",
       "      <td>10년만나다 헤어지네</td>\n",
       "      <td>충분히 슬퍼하고 충분히 아파하다가 이겨내세요.</td>\n",
       "      <td>1</td>\n",
       "    </tr>\n",
       "    <tr>\n",
       "      <th>5295</th>\n",
       "      <td>10년이라는 시간이 참 무색하다 싶네</td>\n",
       "      <td>함께 걸은 길을 혼자 돌아가고 계시겠네요.</td>\n",
       "      <td>1</td>\n",
       "    </tr>\n",
       "    <tr>\n",
       "      <th>5296</th>\n",
       "      <td>10월의 마지막밤 . 더 보고싶네 그사람</td>\n",
       "      <td>이별은 보고 싶은 마음을 참는 과정이죠.</td>\n",
       "      <td>1</td>\n",
       "    </tr>\n",
       "  </tbody>\n",
       "</table>\n",
       "</div>"
      ],
      "text/plain": [
       "                           Q                          A  label\n",
       "5290       1000일 만난 여자친구와 이별         더 오래 만날 사람 만날 거예요.      1\n",
       "5291         10년 연애. 헤어졌습니다.              더 공허함이 크시겠네요.      1\n",
       "5292    10년 연애사 되돌아보니 다 부질없네           더 좋은 사람 만나실 거예요.      1\n",
       "5293                10년 연예의끝               더 마음이 허하겠어요.      1\n",
       "5294             10년만나다 헤어지네  충분히 슬퍼하고 충분히 아파하다가 이겨내세요.      1\n",
       "5295    10년이라는 시간이 참 무색하다 싶네    함께 걸은 길을 혼자 돌아가고 계시겠네요.      1\n",
       "5296  10월의 마지막밤 . 더 보고싶네 그사람     이별은 보고 싶은 마음을 참는 과정이죠.      1"
      ]
     },
     "metadata": {},
     "output_type": "display_data"
    },
    {
     "data": {
      "text/html": [
       "<div>\n",
       "<style scoped>\n",
       "    .dataframe tbody tr th:only-of-type {\n",
       "        vertical-align: middle;\n",
       "    }\n",
       "\n",
       "    .dataframe tbody tr th {\n",
       "        vertical-align: top;\n",
       "    }\n",
       "\n",
       "    .dataframe thead th {\n",
       "        text-align: right;\n",
       "    }\n",
       "</style>\n",
       "<table border=\"1\" class=\"dataframe\">\n",
       "  <thead>\n",
       "    <tr style=\"text-align: right;\">\n",
       "      <th></th>\n",
       "      <th>Q</th>\n",
       "      <th>A</th>\n",
       "      <th>label</th>\n",
       "    </tr>\n",
       "  </thead>\n",
       "  <tbody>\n",
       "    <tr>\n",
       "      <th>8860</th>\n",
       "      <td>짝사랑만큼 고통스러운 건 없겠지.</td>\n",
       "      <td>짝사랑 만큼 감정소모가 큰 건 없을 거예요.</td>\n",
       "      <td>2</td>\n",
       "    </tr>\n",
       "    <tr>\n",
       "      <th>8861</th>\n",
       "      <td>1년 넘게 만났는데 지금도 불타올라</td>\n",
       "      <td>정열적인 사랑을 하고 있나봐요.</td>\n",
       "      <td>2</td>\n",
       "    </tr>\n",
       "    <tr>\n",
       "      <th>8862</th>\n",
       "      <td>1년 동거 중인데 계속 좋아</td>\n",
       "      <td>서로 깊게 알게되면서 더 좋아졌나봅니다.</td>\n",
       "      <td>2</td>\n",
       "    </tr>\n",
       "    <tr>\n",
       "      <th>8863</th>\n",
       "      <td>1년 동거하고 결혼했어</td>\n",
       "      <td>축하합니다!</td>\n",
       "      <td>2</td>\n",
       "    </tr>\n",
       "    <tr>\n",
       "      <th>8864</th>\n",
       "      <td>1년 만났는데도 그 사람에 대해 잘 모르겠어</td>\n",
       "      <td>더 만나보세요.</td>\n",
       "      <td>2</td>\n",
       "    </tr>\n",
       "    <tr>\n",
       "      <th>8865</th>\n",
       "      <td>1년반 만났는데 결혼하자고 해도 될까?</td>\n",
       "      <td>기다리고 있을지도 몰라요.</td>\n",
       "      <td>2</td>\n",
       "    </tr>\n",
       "    <tr>\n",
       "      <th>8866</th>\n",
       "      <td>1년째 동거중이야</td>\n",
       "      <td>서로 알아가는 단계인가봐요.</td>\n",
       "      <td>2</td>\n",
       "    </tr>\n",
       "  </tbody>\n",
       "</table>\n",
       "</div>"
      ],
      "text/plain": [
       "                             Q                         A  label\n",
       "8860        짝사랑만큼 고통스러운 건 없겠지.  짝사랑 만큼 감정소모가 큰 건 없을 거예요.      2\n",
       "8861       1년 넘게 만났는데 지금도 불타올라         정열적인 사랑을 하고 있나봐요.      2\n",
       "8862           1년 동거 중인데 계속 좋아    서로 깊게 알게되면서 더 좋아졌나봅니다.      2\n",
       "8863              1년 동거하고 결혼했어                    축하합니다!      2\n",
       "8864  1년 만났는데도 그 사람에 대해 잘 모르겠어                  더 만나보세요.      2\n",
       "8865     1년반 만났는데 결혼하자고 해도 될까?            기다리고 있을지도 몰라요.      2\n",
       "8866                 1년째 동거중이야           서로 알아가는 단계인가봐요.      2"
      ]
     },
     "metadata": {},
     "output_type": "display_data"
    }
   ],
   "source": [
    "# label의 예를 보자\n",
    "from IPython.display import display\n",
    "\n",
    "display(df[df['label'] == 0][:7])\n",
    "display(df[df['label'] == 1][:7])\n",
    "display(df[df['label'] == 2][:7])"
   ]
  },
  {
   "cell_type": "code",
   "execution_count": 5,
   "id": "resident-banner",
   "metadata": {},
   "outputs": [
    {
     "data": {
      "text/plain": [
       "Q        0\n",
       "A        0\n",
       "label    0\n",
       "dtype: int64"
      ]
     },
     "execution_count": 5,
     "metadata": {},
     "output_type": "execute_result"
    }
   ],
   "source": [
    "# 결측치 확인\n",
    "df.isnull().sum()"
   ]
  },
  {
   "cell_type": "code",
   "execution_count": 6,
   "id": "tutorial-confirmation",
   "metadata": {},
   "outputs": [
    {
     "name": "stdout",
     "output_type": "stream",
     "text": [
      "<class 'pandas.core.frame.DataFrame'>\n",
      "RangeIndex: 11823 entries, 0 to 11822\n",
      "Data columns (total 3 columns):\n",
      " #   Column  Non-Null Count  Dtype \n",
      "---  ------  --------------  ----- \n",
      " 0   Q       11823 non-null  object\n",
      " 1   A       11823 non-null  object\n",
      " 2   label   11823 non-null  int64 \n",
      "dtypes: int64(1), object(2)\n",
      "memory usage: 277.2+ KB\n"
     ]
    }
   ],
   "source": [
    "# 데이터 전반적 개요 확인\n",
    "df.info()"
   ]
  },
  {
   "cell_type": "markdown",
   "id": "necessary-albuquerque",
   "metadata": {},
   "source": [
    "> #### note:\n",
    "> - `label` 컬럼은 답변에 대한 카테고리로서 아래와 같다고 한다.(그런데 완전 fit한 것 같지는 않다.)\n",
    ">   - 0 : 일상다반사\n",
    ">   - 1 : 이별(부정)\n",
    ">   - 2 : 사랑(긍정)\n",
    "> - 데이터는 '사랑보다 아름다운 실연'이라는 다음 카페의 이야기를 참고하여 만든 인공 데이터라고 한다.\n",
    "> - 그렇기에 주로 사랑, 그리고 그에 관한 위로에 관한 답변이 주를 이루는 것 같은데,\n",
    "> - 하나 눈여겨 볼 점은 데이터가 **shuffle된 것 같지 않다.**(그러나 `tf.data.Dataset` 자료형으로 하고 shuffle을 하면 될 것 같다.)"
   ]
  },
  {
   "cell_type": "markdown",
   "id": "palestinian-management",
   "metadata": {},
   "source": [
    "## Step 2. 데이터 전처리하기\n",
    "- punctuation은 띄어쓰기를 더해주고\n",
    "- 한국어에 맞게 전처리되어야 할 부분은 없는지 고민해보자"
   ]
  },
  {
   "cell_type": "code",
   "execution_count": 7,
   "id": "raised-expense",
   "metadata": {},
   "outputs": [
    {
     "name": "stdout",
     "output_type": "stream",
     "text": [
      "q_lengths min : 1\n",
      "q_lengths max : 15\n",
      "q_lengths mean : 3.587414361837097\n",
      "=============================\n",
      "a_lengths min : 1\n",
      "a_lengths max : 21\n",
      "a_lengths mean : 3.6936479742874058\n"
     ]
    },
    {
     "data": {
      "image/png": "[encoded data removed]",
      "text/plain": [
       "<Figure size 1008x864 with 4 Axes>"
      ]
     },
     "metadata": {
      "needs_background": "light"
     },
     "output_type": "display_data"
    }
   ],
   "source": [
    "# 질문과 답변의 길이 확인\n",
    "q_lengths = [len(sentence.split()) for sentence in df['Q']]\n",
    "a_lengths = [len(sentence.split()) for sentence in df['A']]\n",
    "\n",
    "print(f'q_lengths min : {min(q_lengths)}')\n",
    "print(f'q_lengths max : {max(q_lengths)}')\n",
    "print(f'q_lengths mean : {np.mean(q_lengths)}')\n",
    "print('=============================')\n",
    "print(f'a_lengths min : {min(a_lengths)}')\n",
    "print(f'a_lengths max : {max(a_lengths)}')\n",
    "print(f'a_lengths mean : {np.mean(a_lengths)}')\n",
    "\n",
    "# 그래프로 분포 확인\n",
    "plt.figure(figsize=(14, 12))\n",
    "plt.subplot(2, 2, 1)\n",
    "plt.hist(q_lengths, bins=15)\n",
    "plt.subplot(2, 2, 2)\n",
    "plt.hist(a_lengths, bins=21)\n",
    "plt.subplot(2, 2, 3)\n",
    "plt.boxplot(q_lengths)\n",
    "plt.subplot(2, 2, 4)\n",
    "plt.boxplot(a_lengths)\n",
    "\n",
    "plt.show()"
   ]
  },
  {
   "cell_type": "code",
   "execution_count": 8,
   "id": "contained-label",
   "metadata": {},
   "outputs": [
    {
     "data": {
      "text/html": [
       "<div>\n",
       "<style scoped>\n",
       "    .dataframe tbody tr th:only-of-type {\n",
       "        vertical-align: middle;\n",
       "    }\n",
       "\n",
       "    .dataframe tbody tr th {\n",
       "        vertical-align: top;\n",
       "    }\n",
       "\n",
       "    .dataframe thead th {\n",
       "        text-align: right;\n",
       "    }\n",
       "</style>\n",
       "<table border=\"1\" class=\"dataframe\">\n",
       "  <thead>\n",
       "    <tr style=\"text-align: right;\">\n",
       "      <th></th>\n",
       "      <th>Q</th>\n",
       "      <th>A</th>\n",
       "      <th>label</th>\n",
       "    </tr>\n",
       "  </thead>\n",
       "  <tbody>\n",
       "    <tr>\n",
       "      <th>89</th>\n",
       "      <td>개당황</td>\n",
       "      <td>다음부터는 더 많이 아세요.</td>\n",
       "      <td>0</td>\n",
       "    </tr>\n",
       "    <tr>\n",
       "      <th>93</th>\n",
       "      <td>개졸려</td>\n",
       "      <td>낮잠을 잠깐 자도 괜찮아요.</td>\n",
       "      <td>0</td>\n",
       "    </tr>\n",
       "    <tr>\n",
       "      <th>94</th>\n",
       "      <td>개좋아</td>\n",
       "      <td>저도 좋아해주세요.</td>\n",
       "      <td>0</td>\n",
       "    </tr>\n",
       "    <tr>\n",
       "      <th>118</th>\n",
       "      <td>건방져</td>\n",
       "      <td>기분이 나쁘셨나봐요.</td>\n",
       "      <td>0</td>\n",
       "    </tr>\n",
       "    <tr>\n",
       "      <th>123</th>\n",
       "      <td>겁난다</td>\n",
       "      <td>용기 내보세요.</td>\n",
       "      <td>0</td>\n",
       "    </tr>\n",
       "  </tbody>\n",
       "</table>\n",
       "</div>"
      ],
      "text/plain": [
       "       Q                A  label\n",
       "89   개당황  다음부터는 더 많이 아세요.      0\n",
       "93   개졸려  낮잠을 잠깐 자도 괜찮아요.      0\n",
       "94   개좋아       저도 좋아해주세요.      0\n",
       "118  건방져      기분이 나쁘셨나봐요.      0\n",
       "123  겁난다         용기 내보세요.      0"
      ]
     },
     "metadata": {},
     "output_type": "display_data"
    },
    {
     "data": {
      "text/html": [
       "<div>\n",
       "<style scoped>\n",
       "    .dataframe tbody tr th:only-of-type {\n",
       "        vertical-align: middle;\n",
       "    }\n",
       "\n",
       "    .dataframe tbody tr th {\n",
       "        vertical-align: top;\n",
       "    }\n",
       "\n",
       "    .dataframe thead th {\n",
       "        text-align: right;\n",
       "    }\n",
       "</style>\n",
       "<table border=\"1\" class=\"dataframe\">\n",
       "  <thead>\n",
       "    <tr style=\"text-align: right;\">\n",
       "      <th></th>\n",
       "      <th>Q</th>\n",
       "      <th>A</th>\n",
       "      <th>label</th>\n",
       "    </tr>\n",
       "  </thead>\n",
       "  <tbody>\n",
       "    <tr>\n",
       "      <th>2017</th>\n",
       "      <td>배에서 꾸룩꾸룩 소리 남</td>\n",
       "      <td>꼬르륵</td>\n",
       "      <td>0</td>\n",
       "    </tr>\n",
       "    <tr>\n",
       "      <th>2018</th>\n",
       "      <td>배에서 소리 남</td>\n",
       "      <td>꼬르륵</td>\n",
       "      <td>0</td>\n",
       "    </tr>\n",
       "    <tr>\n",
       "      <th>2366</th>\n",
       "      <td>새로운 마음으로</td>\n",
       "      <td>시작!</td>\n",
       "      <td>0</td>\n",
       "    </tr>\n",
       "    <tr>\n",
       "      <th>2367</th>\n",
       "      <td>새로운 마음으로 시작</td>\n",
       "      <td>시작!</td>\n",
       "      <td>0</td>\n",
       "    </tr>\n",
       "    <tr>\n",
       "      <th>3652</th>\n",
       "      <td>이 세상에서 누가 제일 예뻐</td>\n",
       "      <td>저요!</td>\n",
       "      <td>0</td>\n",
       "    </tr>\n",
       "  </tbody>\n",
       "</table>\n",
       "</div>"
      ],
      "text/plain": [
       "                    Q    A  label\n",
       "2017    배에서 꾸룩꾸룩 소리 남  꼬르륵      0\n",
       "2018         배에서 소리 남  꼬르륵      0\n",
       "2366         새로운 마음으로  시작!      0\n",
       "2367      새로운 마음으로 시작  시작!      0\n",
       "3652  이 세상에서 누가 제일 예뻐  저요!      0"
      ]
     },
     "metadata": {},
     "output_type": "display_data"
    }
   ],
   "source": [
    "# 평균 길이(3개)를 갖는 문장들을 살짝 살펴보자\n",
    "display(df[df['Q'].apply(lambda x : len(x)) == 3][:5])\n",
    "display(df[df['A'].apply(lambda x : len(x)) == 3][:5])"
   ]
  },
  {
   "cell_type": "markdown",
   "id": "enhanced-organ",
   "metadata": {},
   "source": [
    "> #### note:\n",
    "> - 원본 데이터의 전체 문장 쌍의 갯수는 11823개이고,\n",
    "> - Q와 A 둘 다 약 3개 정도의 평균 문장 내 단어 개수를 보여준다.(굉장히 짧은 것들이 많다...)\n",
    "> - 그리고 **중복된 답변**이 많은 것 같다.\n",
    "> ##### 데이터도 살짝 적고 학습될 문장 자체도 살짝 적은 것 같다.(뭔가 있어도 최대한 데이터를 살리는 쪽으로 가야겠다.)"
   ]
  },
  {
   "cell_type": "markdown",
   "id": "accurate-pride",
   "metadata": {},
   "source": [
    "#### # punctuation 전처리"
   ]
  },
  {
   "cell_type": "code",
   "execution_count": 9,
   "id": "described-possession",
   "metadata": {},
   "outputs": [
    {
     "name": "stdout",
     "output_type": "stream",
     "text": [
      "========================== \n",
      " Q 문장\n",
      ", 개수 : 39\n",
      "' 개수 : 2\n",
      ". 개수 : 2148\n",
      "? 개수 : 1705\n",
      "! 개수 : 88\n",
      "\" 개수 : 0\n",
      "# 개수 : 0\n",
      "% 개수 : 2\n",
      ") 개수 : 0\n",
      "\n",
      "========================== \n",
      " A 문장\n",
      ", 개수 : 36\n",
      "' 개수 : 2\n",
      ". 개수 : 11400\n",
      "? 개수 : 94\n",
      "! 개수 : 223\n",
      "\" 개수 : 0\n",
      "# 개수 : 0\n",
      "% 개수 : 0\n",
      ") 개수 : 0\n"
     ]
    }
   ],
   "source": [
    "# punctuation이 별로 없는 것 같은데 있는지 확인해보자.\n",
    "punctuations = [\",\", \"'\", \".\", \"?\", \"!\", '\"', \"#\", \"%\", \")\"]\n",
    "\n",
    "print('========================== \\n Q 문장')\n",
    "for punc in punctuations:\n",
    "    print(f\"{punc} 개수 : {df['Q'].apply(lambda x: punc in x).sum()}\")\n",
    "\n",
    "print('')\n",
    "print('========================== \\n A 문장')\n",
    "for punc in punctuations:\n",
    "    print(f\"{punc} 개수 : {df['A'].apply(lambda x: punc in x).sum()}\")\n"
   ]
  },
  {
   "cell_type": "code",
   "execution_count": 10,
   "id": "favorite-tuner",
   "metadata": {},
   "outputs": [
    {
     "data": {
      "text/html": [
       "<div>\n",
       "<style scoped>\n",
       "    .dataframe tbody tr th:only-of-type {\n",
       "        vertical-align: middle;\n",
       "    }\n",
       "\n",
       "    .dataframe tbody tr th {\n",
       "        vertical-align: top;\n",
       "    }\n",
       "\n",
       "    .dataframe thead th {\n",
       "        text-align: right;\n",
       "    }\n",
       "</style>\n",
       "<table border=\"1\" class=\"dataframe\">\n",
       "  <thead>\n",
       "    <tr style=\"text-align: right;\">\n",
       "      <th></th>\n",
       "      <th>Q</th>\n",
       "      <th>A</th>\n",
       "      <th>label</th>\n",
       "    </tr>\n",
       "  </thead>\n",
       "  <tbody>\n",
       "    <tr>\n",
       "      <th>7318</th>\n",
       "      <td>윤종신 '좋니' 노래 가사가 엄청 와닿네</td>\n",
       "      <td>노래 가사가 공감이 많이 되네요.</td>\n",
       "      <td>1</td>\n",
       "    </tr>\n",
       "    <tr>\n",
       "      <th>9827</th>\n",
       "      <td>사귀는 사이인데 '야'라고 해. 기분 나쁜데 어떡해?</td>\n",
       "      <td>그건 좀 아닌 거 같다고 바로 말하세요.</td>\n",
       "      <td>2</td>\n",
       "    </tr>\n",
       "  </tbody>\n",
       "</table>\n",
       "</div>"
      ],
      "text/plain": [
       "                                  Q                       A  label\n",
       "7318         윤종신 '좋니' 노래 가사가 엄청 와닿네      노래 가사가 공감이 많이 되네요.      1\n",
       "9827  사귀는 사이인데 '야'라고 해. 기분 나쁜데 어떡해?  그건 좀 아닌 거 같다고 바로 말하세요.      2"
      ]
     },
     "metadata": {},
     "output_type": "display_data"
    },
    {
     "data": {
      "text/html": [
       "<div>\n",
       "<style scoped>\n",
       "    .dataframe tbody tr th:only-of-type {\n",
       "        vertical-align: middle;\n",
       "    }\n",
       "\n",
       "    .dataframe tbody tr th {\n",
       "        vertical-align: top;\n",
       "    }\n",
       "\n",
       "    .dataframe thead th {\n",
       "        text-align: right;\n",
       "    }\n",
       "</style>\n",
       "<table border=\"1\" class=\"dataframe\">\n",
       "  <thead>\n",
       "    <tr style=\"text-align: right;\">\n",
       "      <th></th>\n",
       "      <th>Q</th>\n",
       "      <th>A</th>\n",
       "      <th>label</th>\n",
       "    </tr>\n",
       "  </thead>\n",
       "  <tbody>\n",
       "    <tr>\n",
       "      <th>2059</th>\n",
       "      <td>베터리 15%야</td>\n",
       "      <td>미리 충전하세요.</td>\n",
       "      <td>0</td>\n",
       "    </tr>\n",
       "    <tr>\n",
       "      <th>2060</th>\n",
       "      <td>베터리 겨우 15%야</td>\n",
       "      <td>미리 충전하세요.</td>\n",
       "      <td>0</td>\n",
       "    </tr>\n",
       "  </tbody>\n",
       "</table>\n",
       "</div>"
      ],
      "text/plain": [
       "                Q          A  label\n",
       "2059     베터리 15%야  미리 충전하세요.      0\n",
       "2060  베터리 겨우 15%야  미리 충전하세요.      0"
      ]
     },
     "metadata": {},
     "output_type": "display_data"
    }
   ],
   "source": [
    "# '는 왜 있는 걸까?\n",
    "display(df[df['Q'].apply(lambda x: \"'\" in x)])\n",
    "\n",
    "# %는 왜 있는 걸까?\n",
    "display(df[df['Q'].apply(lambda x: \"%\" in x)])"
   ]
  },
  {
   "cell_type": "code",
   "execution_count": 11,
   "id": "median-arabic",
   "metadata": {},
   "outputs": [],
   "source": [
    "# '와 %도 .과 마찬가지로 그냥 띄어쓰기를 해서 한 단어로만 인식하지 않게 해주면 되겠다.\n",
    "# 전처리 함수\n",
    "def preprocess_sentence(sentence):\n",
    "    sentence = re.sub(r\"([?.!,'%])\", r\" \\1 \", sentence) # punctuation과 단어 사이에 띄어쓰기를 넣어준다.\n",
    "    sentence = sentence.strip() # 뒤에 공백 없도록 해준다.\n",
    "    return sentence"
   ]
  },
  {
   "cell_type": "code",
   "execution_count": 12,
   "id": "numerical-schema",
   "metadata": {
    "scrolled": true
   },
   "outputs": [
    {
     "data": {
      "text/html": [
       "<div>\n",
       "<style scoped>\n",
       "    .dataframe tbody tr th:only-of-type {\n",
       "        vertical-align: middle;\n",
       "    }\n",
       "\n",
       "    .dataframe tbody tr th {\n",
       "        vertical-align: top;\n",
       "    }\n",
       "\n",
       "    .dataframe thead th {\n",
       "        text-align: right;\n",
       "    }\n",
       "</style>\n",
       "<table border=\"1\" class=\"dataframe\">\n",
       "  <thead>\n",
       "    <tr style=\"text-align: right;\">\n",
       "      <th></th>\n",
       "      <th>Q</th>\n",
       "      <th>A</th>\n",
       "      <th>label</th>\n",
       "      <th>pr_Q</th>\n",
       "      <th>pr_A</th>\n",
       "    </tr>\n",
       "  </thead>\n",
       "  <tbody>\n",
       "    <tr>\n",
       "      <th>0</th>\n",
       "      <td>12시 땡!</td>\n",
       "      <td>하루가 또 가네요.</td>\n",
       "      <td>0</td>\n",
       "      <td>12시 땡 !</td>\n",
       "      <td>하루가 또 가네요 .</td>\n",
       "    </tr>\n",
       "    <tr>\n",
       "      <th>1</th>\n",
       "      <td>1지망 학교 떨어졌어</td>\n",
       "      <td>위로해 드립니다.</td>\n",
       "      <td>0</td>\n",
       "      <td>1지망 학교 떨어졌어</td>\n",
       "      <td>위로해 드립니다 .</td>\n",
       "    </tr>\n",
       "    <tr>\n",
       "      <th>2</th>\n",
       "      <td>3박4일 놀러가고 싶다</td>\n",
       "      <td>여행은 언제나 좋죠.</td>\n",
       "      <td>0</td>\n",
       "      <td>3박4일 놀러가고 싶다</td>\n",
       "      <td>여행은 언제나 좋죠 .</td>\n",
       "    </tr>\n",
       "    <tr>\n",
       "      <th>3</th>\n",
       "      <td>3박4일 정도 놀러가고 싶다</td>\n",
       "      <td>여행은 언제나 좋죠.</td>\n",
       "      <td>0</td>\n",
       "      <td>3박4일 정도 놀러가고 싶다</td>\n",
       "      <td>여행은 언제나 좋죠 .</td>\n",
       "    </tr>\n",
       "    <tr>\n",
       "      <th>4</th>\n",
       "      <td>PPL 심하네</td>\n",
       "      <td>눈살이 찌푸려지죠.</td>\n",
       "      <td>0</td>\n",
       "      <td>PPL 심하네</td>\n",
       "      <td>눈살이 찌푸려지죠 .</td>\n",
       "    </tr>\n",
       "  </tbody>\n",
       "</table>\n",
       "</div>"
      ],
      "text/plain": [
       "                 Q            A  label             pr_Q          pr_A\n",
       "0           12시 땡!   하루가 또 가네요.      0          12시 땡 !   하루가 또 가네요 .\n",
       "1      1지망 학교 떨어졌어    위로해 드립니다.      0      1지망 학교 떨어졌어    위로해 드립니다 .\n",
       "2     3박4일 놀러가고 싶다  여행은 언제나 좋죠.      0     3박4일 놀러가고 싶다  여행은 언제나 좋죠 .\n",
       "3  3박4일 정도 놀러가고 싶다  여행은 언제나 좋죠.      0  3박4일 정도 놀러가고 싶다  여행은 언제나 좋죠 .\n",
       "4          PPL 심하네   눈살이 찌푸려지죠.      0          PPL 심하네   눈살이 찌푸려지죠 ."
      ]
     },
     "execution_count": 12,
     "metadata": {},
     "output_type": "execute_result"
    }
   ],
   "source": [
    "# 새로운 컬럼으로 전처리되 값을 추가해준다.\n",
    "df['pr_Q'] = df['Q'].apply(lambda x: preprocess_sentence(x))\n",
    "df['pr_A'] = df['A'].apply(lambda x: preprocess_sentence(x))\n",
    "\n",
    "df.head()"
   ]
  },
  {
   "cell_type": "markdown",
   "id": "published-ceiling",
   "metadata": {},
   "source": [
    "## Step 3. SubwordTextEncoder 사용하기"
   ]
  },
  {
   "cell_type": "code",
   "execution_count": 13,
   "id": "satisfactory-spouse",
   "metadata": {},
   "outputs": [
    {
     "name": "stdout",
     "output_type": "stream",
     "text": [
      "['12시 땡 !', '1지망 학교 떨어졌어', '3박4일 놀러가고 싶다', '3박4일 정도 놀러가고 싶다', 'PPL 심하네']\n",
      "========================\n",
      "['하루가 또 가네요 .', '위로해 드립니다 .', '여행은 언제나 좋죠 .', '여행은 언제나 좋죠 .', '눈살이 찌푸려지죠 .']\n"
     ]
    }
   ],
   "source": [
    "# tokenize할 때 Q, A 동시에 넣어줘야 하는데\n",
    "# 동시에 넣기 쉽게 리스트화 해주기\n",
    "q_list = list(df['pr_Q'])\n",
    "a_list = list(df['pr_A'])\n",
    "\n",
    "print(q_list[:5])\n",
    "print('========================')\n",
    "print(a_list[:5])"
   ]
  },
  {
   "cell_type": "markdown",
   "id": "human-domestic",
   "metadata": {},
   "source": [
    "#### # 토큰화 진행"
   ]
  },
  {
   "cell_type": "markdown",
   "id": "cardiovascular-champagne",
   "metadata": {},
   "source": [
    "> #### note:\n",
    "> - 개인적으로 여태까지 진행했던 NLP 프로젝트 경험상 학습 시간에 비해 제대로 된 문장이 출력된 적이 별로 없었는데, `vocabulary`나 `임베딩 벡터`가 애초에 좋아야겠다라는 생각을 많이 했었다.\n",
    "> - 이번에는 토큰화하는 단어사전의 target_vocab_size 파라미터로 약 16000개로 넣어볼 예정이다(실습 때는 약 8000개)"
   ]
  },
  {
   "cell_type": "code",
   "execution_count": 14,
   "id": "sufficient-medium",
   "metadata": {},
   "outputs": [],
   "source": [
    "import tensorflow_datasets as tfds\n",
    "\n",
    "tokenizer = tfds.deprecated.text.SubwordTextEncoder.build_from_corpus(q_list + a_list, target_vocab_size=2**14)"
   ]
  },
  {
   "cell_type": "code",
   "execution_count": 15,
   "id": "stone-remainder",
   "metadata": {
    "scrolled": true
   },
   "outputs": [
    {
     "name": "stdout",
     "output_type": "stream",
     "text": [
      "토큰화된 마지막 단어 번호 : 21862\n",
      "START_TOKEN의 번호 : [21863]\n",
      "END_TOKEN의 번호   : [21864]\n"
     ]
    }
   ],
   "source": [
    "# 시작 토큰과 종료 토큰에 고유한 정수 부여.\n",
    "START_TOKEN, END_TOKEN = [tokenizer.vocab_size], [tokenizer.vocab_size + 1]\n",
    "\n",
    "print(f'토큰화된 마지막 단어 번호 : {tokenizer.vocab_size-1}')\n",
    "print(f'START_TOKEN의 번호 : {START_TOKEN}')\n",
    "print(f'END_TOKEN의 번호   : {END_TOKEN}')"
   ]
  },
  {
   "cell_type": "code",
   "execution_count": 16,
   "id": "lucky-breath",
   "metadata": {},
   "outputs": [
    {
     "name": "stdout",
     "output_type": "stream",
     "text": [
      "21865\n",
      "26\n"
     ]
    }
   ],
   "source": [
    "# 시작 토큰과 종료 토큰을 고려하여 +2를 하여 단어장의 크기 산정\n",
    "VOCAB_SIZE = tokenizer.vocab_size + 2\n",
    "\n",
    "# 문장의 최대 길이를 정하다.\n",
    "# 데이터가 굉장히 적다.\n",
    "# 그래서 다 살리는 것이 낫다.\n",
    "# 그래서 그냥 65으로 정했다.\n",
    "# 전처리된 후의 max 문장 길이를 뽑아보자.\n",
    "q_lengths_after = [len(sentence.split()) for sentence in df['pr_Q']]\n",
    "a_lengths_after = [len(sentence.split()) for sentence in df['pr_A']]\n",
    "\n",
    "# 둘 중에 가장 긴 것으로 정한다.\n",
    "MAXLEN = max(max(q_lengths_after), max(a_lengths_after))\n",
    "\n",
    "# 그리고 START_TOKEN과 ENDTOKEN이 들어갈 것이니 2를 더해준다.\n",
    "MAXLEN = MAXLEN +2\n",
    "print(VOCAB_SIZE)\n",
    "print(MAXLEN)"
   ]
  },
  {
   "cell_type": "markdown",
   "id": "inner-technique",
   "metadata": {},
   "source": [
    "#### # 정수 인코딩 & 패딩하기"
   ]
  },
  {
   "cell_type": "code",
   "execution_count": 17,
   "id": "liked-immune",
   "metadata": {
    "scrolled": false
   },
   "outputs": [
    {
     "name": "stdout",
     "output_type": "stream",
     "text": [
      "원문 : 1지망 학교 떨어졌어\n",
      "인코딩 : [21540, 580, 1066]\n",
      "디코딩 : 1지망 학교 떨어졌어\n"
     ]
    }
   ],
   "source": [
    "# 현재 tokenizer에는 질문, 답변의 단어들이 정수로 토큰화되어 있다.\n",
    "# 정수 인코딩 잘 되는지 확인\n",
    "print('원문 :', q_list[1])\n",
    "print('인코딩 :', tokenizer.encode(q_list[1]))\n",
    "print('디코딩 :', tokenizer.decode(tokenizer.encode(q_list[1])))"
   ]
  },
  {
   "cell_type": "code",
   "execution_count": 18,
   "id": "contemporary-oxford",
   "metadata": {},
   "outputs": [],
   "source": [
    "# 정수 인코딩, 최대 길이를 초과하는 샘플 제거, 패딩하는 함수 정의\n",
    "def tokenize_and_filter(inputs_1, inputs_2):\n",
    "    tokenized_inputs_1, tokenized_inputs_2 = [], []\n",
    "  \n",
    "    for (sentence1, sentence2) in zip(inputs_1, inputs_2):\n",
    "        # 정수 인코딩 과정에서 시작 토큰과 종료 토큰을 추가\n",
    "        # 인코딩 결과가 리스트임\n",
    "        # START_TOKEN, END_TOKEN도 리스트인 상태여서 '+'로 붙일 수 있음\n",
    "        sentence1 = START_TOKEN + tokenizer.encode(sentence1) + END_TOKEN\n",
    "        sentence2 = START_TOKEN + tokenizer.encode(sentence2) + END_TOKEN\n",
    "\n",
    "        # 최대 길이 이하인 경우에만 데이터셋으로 허용\n",
    "        if len(sentence1) <= MAXLEN and len(sentence2) <= MAXLEN:\n",
    "            tokenized_inputs_1.append(sentence1)\n",
    "            tokenized_inputs_2.append(sentence2)\n",
    "  \n",
    "    # 최대 길이에 맞춰 모든 데이터셋을 패딩\n",
    "    tokenized_inputs_1 = tf.keras.preprocessing.sequence.pad_sequences(\n",
    "        tokenized_inputs_1, maxlen=MAXLEN, padding='post')\n",
    "    tokenized_inputs_2 = tf.keras.preprocessing.sequence.pad_sequences(\n",
    "        tokenized_inputs_2, maxlen=MAXLEN, padding='post')\n",
    "  \n",
    "    return tokenized_inputs_1, tokenized_inputs_2"
   ]
  },
  {
   "cell_type": "markdown",
   "id": "spanish-moldova",
   "metadata": {},
   "source": [
    "> - MAXLEN에 맞춰서 제외된 데이터가 있을 테니 `tokenize_and_filter()` 진행 후 데이터 개수 재확인"
   ]
  },
  {
   "cell_type": "code",
   "execution_count": 19,
   "id": "later-hypothesis",
   "metadata": {
    "scrolled": true
   },
   "outputs": [
    {
     "name": "stdout",
     "output_type": "stream",
     "text": [
      "단어장의 크기 : 21865\n",
      "필터링 전의 데이터 개수: 11823\n",
      "필터링 후의 질문 샘플 개수: 11823\n",
      "필터링 후의 답변 샘플 개수: 11823\n"
     ]
    }
   ],
   "source": [
    "questions, answers = tokenize_and_filter(q_list, a_list)\n",
    "\n",
    "print('단어장의 크기 :',(VOCAB_SIZE))\n",
    "print('필터링 전의 데이터 개수: {}'.format(len(df)))\n",
    "print('필터링 후의 질문 샘플 개수: {}'.format(len(questions)))\n",
    "print('필터링 후의 답변 샘플 개수: {}'.format(len(answers)))"
   ]
  },
  {
   "cell_type": "code",
   "execution_count": 20,
   "id": "lucky-mortality",
   "metadata": {},
   "outputs": [
    {
     "name": "stdout",
     "output_type": "stream",
     "text": [
      "[21863 21576 18404    24 21864     0     0     0     0     0     0     0\n",
      "     0     0     0     0     0     0     0     0     0     0     0     0\n",
      "     0     0]\n",
      "[21863  2038    44  3869     1 21864     0     0     0     0     0     0\n",
      "     0     0     0     0     0     0     0     0     0     0     0     0\n",
      "     0     0]\n"
     ]
    }
   ],
   "source": [
    "# 패딩됐는지 확인해보기\n",
    "print(questions[0])\n",
    "print(answers[0])"
   ]
  },
  {
   "cell_type": "markdown",
   "id": "changing-tiffany",
   "metadata": {},
   "source": [
    "#### # 데이터셋화( + 교사 강요를 위한 전처리)"
   ]
  },
  {
   "cell_type": "code",
   "execution_count": 21,
   "id": "isolated-canadian",
   "metadata": {},
   "outputs": [
    {
     "name": "stdout",
     "output_type": "stream",
     "text": [
      "슝=3\n"
     ]
    }
   ],
   "source": [
    "BATCH_SIZE = 64\n",
    "BUFFER_SIZE = len(questions)\n",
    "\n",
    "# 디코더는 이전의 target을 다음의 input으로 사용합니다.\n",
    "# 이에 따라 outputs에서는 START_TOKEN을 제거하겠습니다.\n",
    "dataset = tf.data.Dataset.from_tensor_slices((\n",
    "    {\n",
    "        'inputs': questions,\n",
    "        'dec_inputs': answers[:, :-1]\n",
    "    },\n",
    "    {\n",
    "        'outputs': answers[:, 1:]\n",
    "    },\n",
    "))\n",
    "\n",
    "dataset = dataset.cache()\n",
    "dataset = dataset.shuffle(BUFFER_SIZE)\n",
    "dataset = dataset.batch(BATCH_SIZE)\n",
    "dataset = dataset.prefetch(tf.data.experimental.AUTOTUNE)\n",
    "print(\"슝=3\")"
   ]
  },
  {
   "cell_type": "code",
   "execution_count": 22,
   "id": "caroline-lexington",
   "metadata": {},
   "outputs": [
    {
     "name": "stdout",
     "output_type": "stream",
     "text": [
      "<PrefetchDataset shapes: ({inputs: (None, 26), dec_inputs: (None, 25)}, {outputs: (None, 25)}), types: ({inputs: tf.int32, dec_inputs: tf.int32}, {outputs: tf.int32})>\n"
     ]
    }
   ],
   "source": [
    "print(dataset)"
   ]
  },
  {
   "cell_type": "markdown",
   "id": "applied-healing",
   "metadata": {},
   "source": [
    "> #### note:\n",
    "> - 각각의 shape을 통해 데이터가 잘 묶인 것을 확인할 수 있다."
   ]
  },
  {
   "cell_type": "markdown",
   "id": "going-church",
   "metadata": {},
   "source": [
    "## Step 4. 모델 구성하기"
   ]
  },
  {
   "cell_type": "markdown",
   "id": "rotary-hormone",
   "metadata": {},
   "source": [
    "#### # 모델 구현에 필요한  함수 정의\n",
    "- scaled_dot_product_attention\n",
    "- padding_mask\n",
    "- look_ahead_mask"
   ]
  },
  {
   "cell_type": "code",
   "execution_count": 23,
   "id": "demographic-hacker",
   "metadata": {},
   "outputs": [
    {
     "name": "stdout",
     "output_type": "stream",
     "text": [
      "슝=3\n"
     ]
    }
   ],
   "source": [
    "# 스케일드 닷 프로덕트 어텐션 함수\n",
    "def scaled_dot_product_attention(query, key, value, mask):\n",
    "    # 어텐션 가중치는 Q와 K의 닷 프로덕트\n",
    "    matmul_qk = tf.matmul(query, key, transpose_b=True) #Q와 K가 모양이 같으니까 transpose_b를 통해 K 행렬을 전치시킴\n",
    "\n",
    "    # 가중치를 정규화\n",
    "    depth = tf.cast(tf.shape(key)[-1], tf.float32)\n",
    "    logits = matmul_qk / tf.math.sqrt(depth)\n",
    "\n",
    "    # 패딩에 마스크 추가\n",
    "    if mask is not None:\n",
    "        logits += (mask * -1e9)\n",
    "\n",
    "    # softmax적용\n",
    "    attention_weights = tf.nn.softmax(logits, axis=-1)\n",
    "\n",
    "    # 최종 어텐션은 가중치와 V의 닷 프로덕트\n",
    "    output = tf.matmul(attention_weights, value)\n",
    "    return output\n",
    "\n",
    "print(\"슝=3\")"
   ]
  },
  {
   "cell_type": "code",
   "execution_count": 24,
   "id": "informal-throat",
   "metadata": {},
   "outputs": [
    {
     "name": "stdout",
     "output_type": "stream",
     "text": [
      "슝=3\n"
     ]
    }
   ],
   "source": [
    "# 패딩 마스킹을 구현한 함수\n",
    "def create_padding_mask(x):\n",
    "    mask = tf.cast(tf.math.equal(x, 0), tf.float32)\n",
    "    # (batch_size, 1, 1, sequence length)\n",
    "    return mask[:, tf.newaxis, tf.newaxis, :]\n",
    "print(\"슝=3\")"
   ]
  },
  {
   "cell_type": "code",
   "execution_count": 25,
   "id": "utility-flashing",
   "metadata": {},
   "outputs": [
    {
     "name": "stdout",
     "output_type": "stream",
     "text": [
      "tf.Tensor(\n",
      "[[[[0. 0. 1. 0. 1.]]]\n",
      "\n",
      "\n",
      " [[[1. 1. 1. 0. 0.]]]], shape=(2, 1, 1, 5), dtype=float32)\n"
     ]
    }
   ],
   "source": [
    "# 실험해보기\n",
    "print(create_padding_mask(tf.constant([[1, 2, 0, 3, 0], [0, 0, 0, 4, 5]])))"
   ]
  },
  {
   "cell_type": "markdown",
   "id": "super-bulgarian",
   "metadata": {},
   "source": [
    "> #### note:\n",
    "> - 위와 같이 **0**으로 패딩된 곳은 1로 바뀌고, 아닌 **일반** 정수는 0으로 바뀌는, 즉 마스킹 해야할 부분을 1로 만들어주는 함수인 듯하다."
   ]
  },
  {
   "cell_type": "code",
   "execution_count": 26,
   "id": "dominant-mystery",
   "metadata": {},
   "outputs": [
    {
     "name": "stdout",
     "output_type": "stream",
     "text": [
      "슝=3\n"
     ]
    }
   ],
   "source": [
    "# 룩 어헤드 마스크 구현하기\n",
    "def create_look_ahead_mask(x):\n",
    "    seq_len = tf.shape(x)[1]\n",
    "    look_ahead_mask = 1 - tf.linalg.band_part(tf.ones((seq_len, seq_len)), -1, 0)\n",
    "    padding_mask = create_padding_mask(x)\n",
    "    return tf.maximum(look_ahead_mask, padding_mask)\n",
    "print(\"슝=3\")"
   ]
  },
  {
   "cell_type": "markdown",
   "id": "driven-rendering",
   "metadata": {},
   "source": [
    "> - 이게 어떤 일을 하는지 확인해보자!"
   ]
  },
  {
   "cell_type": "code",
   "execution_count": 27,
   "id": "banner-triangle",
   "metadata": {},
   "outputs": [
    {
     "data": {
      "text/plain": [
       "<tf.Tensor: shape=(4, 4), dtype=int32, numpy=\n",
       "array([[ 0,  1,  2,  3],\n",
       "       [-1,  0,  1,  2],\n",
       "       [-2, -1,  0,  1],\n",
       "       [-3, -2, -1,  0]], dtype=int32)>"
      ]
     },
     "execution_count": 27,
     "metadata": {},
     "output_type": "execute_result"
    }
   ],
   "source": [
    "# 실험\n",
    "test_tf = tf.constant([[ 0,  1,  2, 3],\n",
    " [-1,  0,  1, 2],\n",
    " [-2, -1,  0, 1],\n",
    " [-3, -2, -1, 0]],)\n",
    "\n",
    "test_tf"
   ]
  },
  {
   "cell_type": "code",
   "execution_count": 28,
   "id": "duplicate-soviet",
   "metadata": {},
   "outputs": [
    {
     "data": {
      "text/plain": [
       "<tf.Tensor: shape=(4, 4), dtype=int32, numpy=\n",
       "array([[ 0,  0,  0,  0],\n",
       "       [-1,  0,  0,  0],\n",
       "       [-2, -1,  0,  0],\n",
       "       [-3, -2, -1,  0]], dtype=int32)>"
      ]
     },
     "execution_count": 28,
     "metadata": {},
     "output_type": "execute_result"
    }
   ],
   "source": [
    "# 실험\n",
    "tf.linalg.band_part(test_tf, -1, 0)"
   ]
  },
  {
   "cell_type": "code",
   "execution_count": 29,
   "id": "important-framing",
   "metadata": {},
   "outputs": [
    {
     "data": {
      "text/plain": [
       "<tf.Tensor: shape=(4, 4), dtype=int32, numpy=\n",
       "array([[1, 1, 1, 1],\n",
       "       [2, 1, 1, 1],\n",
       "       [3, 2, 1, 1],\n",
       "       [4, 3, 2, 1]], dtype=int32)>"
      ]
     },
     "execution_count": 29,
     "metadata": {},
     "output_type": "execute_result"
    }
   ],
   "source": [
    "# 실험\n",
    "1 - tf.linalg.band_part(test_tf, -1, 0)"
   ]
  },
  {
   "cell_type": "code",
   "execution_count": 30,
   "id": "asian-layer",
   "metadata": {},
   "outputs": [
    {
     "data": {
      "text/plain": [
       "<tf.Tensor: shape=(4, 4), dtype=int32, numpy=\n",
       "array([[0, 1, 2, 3],\n",
       "       [0, 0, 1, 2],\n",
       "       [0, 0, 0, 1],\n",
       "       [0, 0, 0, 0]], dtype=int32)>"
      ]
     },
     "execution_count": 30,
     "metadata": {},
     "output_type": "execute_result"
    }
   ],
   "source": [
    "# 실험\n",
    "tf.linalg.band_part(test_tf, 0, -3)"
   ]
  },
  {
   "cell_type": "markdown",
   "id": "regulation-drive",
   "metadata": {},
   "source": [
    "> #### note:\n",
    "> - `tf.linalg.band_part()` 함수를 이해할 수 있는 쉬운 설명을 못 찾아서 정확히 이해는 안되지만,\n",
    "> - `num_lower`(두번째 인자)와 `num_upper`(세번째 인자) 사이의 값이 아닌 것들은 0으로 만들어 버린단다.\n",
    "> - 근데 이게 약간 upper right corner 쪽만 그렇게 하려는 것 같다.\n",
    "> - 그래서 이 경우엔 문장 내 아직 보면 안되는 단어들을 일단 0으로 만들어주고,\n",
    "> - 나머지 수는 음수로 만들어준다.\n",
    "> - 그리고 0으로 된 것들(패딩 포함)은 다시 1로 바꾸는 과정을 해서 결국에 **내가 보고 싶은 건 음수, 가려야 하는 건 1**로 만들어서\n",
    "> - 그 1인 것들이 마스킹 되게끔 하는 것 같다."
   ]
  },
  {
   "cell_type": "markdown",
   "id": "searching-square",
   "metadata": {},
   "source": [
    "#### # 모델 구현에 필요한 레이어(subclassing) 및 모델 생성 함수 만들기\n",
    "- Positional Encoding\n",
    "- Multi-Head Attention\n",
    "- 인코더 레이어 연결 함수\n",
    "- 인코더 층 쌓기 함수\n",
    "- 디코더 레이어 연결 함수\n",
    "- 디코더 층 쌓기 함수\n",
    "- ##### 하나로 합친 트랜스포머 모델 생성 함수"
   ]
  },
  {
   "cell_type": "code",
   "execution_count": 31,
   "id": "interior-phrase",
   "metadata": {},
   "outputs": [
    {
     "name": "stdout",
     "output_type": "stream",
     "text": [
      "슝=3\n"
     ]
    }
   ],
   "source": [
    "# 포지셔널 인코딩 레이어\n",
    "class PositionalEncoding(tf.keras.layers.Layer):\n",
    "\n",
    "    def __init__(self, position, d_model):\n",
    "        super(PositionalEncoding, self).__init__()\n",
    "        self.pos_encoding = self.positional_encoding(position, d_model)\n",
    "\n",
    "    def get_angles(self, position, i, d_model):\n",
    "        angles = 1 / tf.pow(10000, (2 * (i // 2)) / tf.cast(d_model, tf.float32))\n",
    "        return position * angles\n",
    "\n",
    "    def positional_encoding(self, position, d_model):\n",
    "        # 각도 배열 생성\n",
    "        angle_rads = self.get_angles(\n",
    "            position=tf.range(position, dtype=tf.float32)[:, tf.newaxis],\n",
    "            i=tf.range(d_model, dtype=tf.float32)[tf.newaxis, :],\n",
    "            d_model=d_model)\n",
    "\n",
    "        # 배열의 짝수 인덱스에는 sin 함수 적용\n",
    "        sines = tf.math.sin(angle_rads[:, 0::2])\n",
    "        # 배열의 홀수 인덱스에는 cosine 함수 적용\n",
    "        cosines = tf.math.cos(angle_rads[:, 1::2])\n",
    "\n",
    "        # sin과 cosine이 교차되도록 재배열\n",
    "        pos_encoding = tf.stack([sines, cosines], axis=0)\n",
    "        pos_encoding = tf.transpose(pos_encoding,[1, 2, 0]) \n",
    "        pos_encoding = tf.reshape(pos_encoding, [position, d_model])\n",
    "\n",
    "        pos_encoding = pos_encoding[tf.newaxis, ...]\n",
    "        return tf.cast(pos_encoding, tf.float32)\n",
    "\n",
    "    def call(self, inputs):\n",
    "        return inputs + self.pos_encoding[:, :tf.shape(inputs)[1], :]\n",
    "\n",
    "print(\"슝=3\")"
   ]
  },
  {
   "cell_type": "code",
   "execution_count": 32,
   "id": "premier-black",
   "metadata": {},
   "outputs": [
    {
     "name": "stdout",
     "output_type": "stream",
     "text": [
      "슝=3\n"
     ]
    }
   ],
   "source": [
    "class MultiHeadAttention(tf.keras.layers.Layer):\n",
    "\n",
    "    def __init__(self, d_model, num_heads, name=\"multi_head_attention\"):\n",
    "        super(MultiHeadAttention, self).__init__(name=name)\n",
    "        self.num_heads = num_heads\n",
    "        self.d_model = d_model\n",
    "    \n",
    "        assert d_model % self.num_heads == 0\n",
    "    \n",
    "        self.depth = d_model // self.num_heads\n",
    "\n",
    "        self.query_dense = tf.keras.layers.Dense(units=d_model)\n",
    "        self.key_dense = tf.keras.layers.Dense(units=d_model)\n",
    "        self.value_dense = tf.keras.layers.Dense(units=d_model)\n",
    "\n",
    "        self.dense = tf.keras.layers.Dense(units=d_model)\n",
    "\n",
    "    def split_heads(self, inputs, batch_size):\n",
    "        inputs = tf.reshape(\n",
    "            inputs, shape=(batch_size, -1, self.num_heads, self.depth))\n",
    "        return tf.transpose(inputs, perm=[0, 2, 1, 3])\n",
    "\n",
    "    def call(self, inputs):\n",
    "        query, key, value, mask = inputs['query'], inputs['key'], inputs[\n",
    "            'value'], inputs['mask']\n",
    "        batch_size = tf.shape(query)[0]\n",
    "\n",
    "        # Q, K, V에 각각 Dense를 적용합니다\n",
    "        query = self.query_dense(query)\n",
    "        key = self.key_dense(key)\n",
    "        value = self.value_dense(value)\n",
    "\n",
    "        # 병렬 연산을 위한 머리를 여러 개 만듭니다\n",
    "        query = self.split_heads(query, batch_size)\n",
    "        key = self.split_heads(key, batch_size)\n",
    "        value = self.split_heads(value, batch_size)\n",
    "\n",
    "        # 스케일드 닷 프로덕트 어텐션 함수\n",
    "        scaled_attention = scaled_dot_product_attention(query, key, value, mask)\n",
    "\n",
    "        scaled_attention = tf.transpose(scaled_attention, perm=[0, 2, 1, 3])\n",
    "\n",
    "        # 어텐션 연산 후에 각 결과를 다시 연결(concatenate)합니다\n",
    "        concat_attention = tf.reshape(scaled_attention,\n",
    "                                  (batch_size, -1, self.d_model))\n",
    "\n",
    "        # 최종 결과에도 Dense를 한 번 더 적용합니다\n",
    "        outputs = self.dense(concat_attention)\n",
    "\n",
    "        return outputs\n",
    "print(\"슝=3\")"
   ]
  },
  {
   "cell_type": "code",
   "execution_count": 33,
   "id": "greater-alexander",
   "metadata": {},
   "outputs": [
    {
     "name": "stdout",
     "output_type": "stream",
     "text": [
      "슝=3\n"
     ]
    }
   ],
   "source": [
    "# 인코더 하나의 레이어를 함수로 구현.\n",
    "# 이 하나의 레이어 안에는 두 개의 서브 레이어가 존재합니다.\n",
    "def encoder_layer(units, d_model, num_heads, dropout, name=\"encoder_layer\"):\n",
    "    inputs = tf.keras.Input(shape=(None, d_model), name=\"inputs\")\n",
    "\n",
    "    # 패딩 마스크 사용\n",
    "    padding_mask = tf.keras.Input(shape=(1, 1, None), name=\"padding_mask\")\n",
    "\n",
    "    # 첫 번째 서브 레이어 : 멀티 헤드 어텐션 수행 (셀프 어텐션)\n",
    "    attention = MultiHeadAttention(\n",
    "        d_model, num_heads, name=\"attention\")({\n",
    "            'query': inputs,\n",
    "            'key': inputs,\n",
    "            'value': inputs,\n",
    "           'mask': padding_mask\n",
    "        })\n",
    "    \n",
    "    # 어텐션의 결과는 Dropout과 Layer Normalization이라는 훈련을 돕는 테크닉을 수행\n",
    "    attention = tf.keras.layers.Dropout(rate=dropout)(attention)\n",
    "    attention = tf.keras.layers.LayerNormalization(\n",
    "        epsilon=1e-6)(inputs + attention)\n",
    "\n",
    "    # 두 번째 서브 레이어 : 2개의 완전연결층\n",
    "    outputs = tf.keras.layers.Dense(units=units, activation='relu')(attention)\n",
    "    outputs = tf.keras.layers.Dense(units=d_model)(outputs)\n",
    "\n",
    "    # 완전연결층의 결과는 Dropout과 LayerNormalization이라는 훈련을 돕는 테크닉을 수행\n",
    "    outputs = tf.keras.layers.Dropout(rate=dropout)(outputs)\n",
    "    outputs = tf.keras.layers.LayerNormalization(\n",
    "        epsilon=1e-6)(attention + outputs)\n",
    "\n",
    "    return tf.keras.Model(\n",
    "        inputs=[inputs, padding_mask], outputs=outputs, name=name)\n",
    "print(\"슝=3\")"
   ]
  },
  {
   "cell_type": "code",
   "execution_count": 34,
   "id": "given-lounge",
   "metadata": {},
   "outputs": [
    {
     "name": "stdout",
     "output_type": "stream",
     "text": [
      "슝=3\n"
     ]
    }
   ],
   "source": [
    "def encoder(vocab_size,\n",
    "            num_layers,\n",
    "            units,\n",
    "            d_model,\n",
    "            num_heads,\n",
    "            dropout,\n",
    "            name=\"encoder\"):\n",
    "    inputs = tf.keras.Input(shape=(None,), name=\"inputs\")\n",
    "\n",
    "    # 패딩 마스크 사용\n",
    "    padding_mask = tf.keras.Input(shape=(1, 1, None), name=\"padding_mask\")\n",
    "\n",
    "    # 임베딩 레이어\n",
    "    embeddings = tf.keras.layers.Embedding(vocab_size, d_model)(inputs)\n",
    "    embeddings *= tf.math.sqrt(tf.cast(d_model, tf.float32))\n",
    "\n",
    "    # 포지셔널 인코딩\n",
    "    embeddings = PositionalEncoding(vocab_size, d_model)(embeddings)\n",
    "\n",
    "    outputs = tf.keras.layers.Dropout(rate=dropout)(embeddings)\n",
    "\n",
    "    # num_layers만큼 쌓아올린 인코더의 층.\n",
    "    for i in range(num_layers):\n",
    "        outputs = encoder_layer(\n",
    "            units=units,\n",
    "            d_model=d_model,\n",
    "            num_heads=num_heads,\n",
    "            dropout=dropout,\n",
    "            name=\"encoder_layer_{}\".format(i),\n",
    "        )([outputs, padding_mask])\n",
    "\n",
    "    return tf.keras.Model(\n",
    "          inputs=[inputs, padding_mask], outputs=outputs, name=name)\n",
    "print(\"슝=3\")"
   ]
  },
  {
   "cell_type": "code",
   "execution_count": 35,
   "id": "governmental-petroleum",
   "metadata": {},
   "outputs": [
    {
     "name": "stdout",
     "output_type": "stream",
     "text": [
      "슝=3\n"
     ]
    }
   ],
   "source": [
    "# 디코더 하나의 레이어를 함수로 구현.\n",
    "# 이 하나의 레이어 안에는 세 개의 서브 레이어가 존재합니다.\n",
    "def decoder_layer(units, d_model, num_heads, dropout, name=\"decoder_layer\"):\n",
    "    inputs = tf.keras.Input(shape=(None, d_model), name=\"inputs\")\n",
    "    enc_outputs = tf.keras.Input(shape=(None, d_model), name=\"encoder_outputs\")\n",
    "    look_ahead_mask = tf.keras.Input(\n",
    "        shape=(1, None, None), name=\"look_ahead_mask\")\n",
    "    padding_mask = tf.keras.Input(shape=(1, 1, None), name='padding_mask')\n",
    "\n",
    "    # 첫 번째 서브 레이어 : 멀티 헤드 어텐션 수행 (셀프 어텐션)\n",
    "    attention1 = MultiHeadAttention(\n",
    "        d_model, num_heads, name=\"attention_1\")(inputs={\n",
    "            'query': inputs,\n",
    "            'key': inputs,\n",
    "            'value': inputs,\n",
    "            'mask': look_ahead_mask\n",
    "        })\n",
    "\n",
    "    # 멀티 헤드 어텐션의 결과는 LayerNormalization이라는 훈련을 돕는 테크닉을 수행\n",
    "    attention1 = tf.keras.layers.LayerNormalization(\n",
    "        epsilon=1e-6)(attention1 + inputs)\n",
    "\n",
    "    # 두 번째 서브 레이어 : 마스크드 멀티 헤드 어텐션 수행 (인코더-디코더 어텐션)\n",
    "    attention2 = MultiHeadAttention(\n",
    "        d_model, num_heads, name=\"attention_2\")(inputs={\n",
    "            'query': attention1,\n",
    "            'key': enc_outputs,\n",
    "            'value': enc_outputs,\n",
    "            'mask': padding_mask\n",
    "        })\n",
    "\n",
    "    # 마스크드 멀티 헤드 어텐션의 결과는\n",
    "    # Dropout과 LayerNormalization이라는 훈련을 돕는 테크닉을 수행\n",
    "    attention2 = tf.keras.layers.Dropout(rate=dropout)(attention2)\n",
    "    attention2 = tf.keras.layers.LayerNormalization(\n",
    "        epsilon=1e-6)(attention2 + attention1)\n",
    "\n",
    "    # 세 번째 서브 레이어 : 2개의 완전연결층\n",
    "    outputs = tf.keras.layers.Dense(units=units, activation='relu')(attention2)\n",
    "    outputs = tf.keras.layers.Dense(units=d_model)(outputs)\n",
    "\n",
    "    # 완전연결층의 결과는 Dropout과 LayerNormalization 수행\n",
    "    outputs = tf.keras.layers.Dropout(rate=dropout)(outputs)\n",
    "    outputs = tf.keras.layers.LayerNormalization(\n",
    "        epsilon=1e-6)(outputs + attention2)\n",
    "\n",
    "    return tf.keras.Model(\n",
    "        inputs=[inputs, enc_outputs, look_ahead_mask, padding_mask],\n",
    "        outputs=outputs,\n",
    "        name=name)\n",
    "print(\"슝=3\")"
   ]
  },
  {
   "cell_type": "code",
   "execution_count": 36,
   "id": "theoretical-address",
   "metadata": {},
   "outputs": [
    {
     "name": "stdout",
     "output_type": "stream",
     "text": [
      "슝=3\n"
     ]
    }
   ],
   "source": [
    "def decoder(vocab_size,\n",
    "            num_layers,\n",
    "            units,\n",
    "            d_model,\n",
    "            num_heads,\n",
    "            dropout,\n",
    "            name='decoder'):\n",
    "    inputs = tf.keras.Input(shape=(None,), name='inputs')\n",
    "    enc_outputs = tf.keras.Input(shape=(None, d_model), name='encoder_outputs')\n",
    "    look_ahead_mask = tf.keras.Input(\n",
    "        shape=(1, None, None), name='look_ahead_mask')\n",
    "\n",
    "    # 패딩 마스크\n",
    "    padding_mask = tf.keras.Input(shape=(1, 1, None), name='padding_mask')\n",
    "  \n",
    "    # 임베딩 레이어\n",
    "    embeddings = tf.keras.layers.Embedding(vocab_size, d_model)(inputs)\n",
    "    embeddings *= tf.math.sqrt(tf.cast(d_model, tf.float32))\n",
    "\n",
    "    # 포지셔널 인코딩\n",
    "    embeddings = PositionalEncoding(vocab_size, d_model)(embeddings)\n",
    "\n",
    "    # Dropout이라는 훈련을 돕는 테크닉을 수행\n",
    "    outputs = tf.keras.layers.Dropout(rate=dropout)(embeddings)\n",
    "\n",
    "    for i in range(num_layers):\n",
    "        outputs = decoder_layer(\n",
    "            units=units,\n",
    "            d_model=d_model,\n",
    "            num_heads=num_heads,\n",
    "            dropout=dropout,\n",
    "            name='decoder_layer_{}'.format(i),\n",
    "        )(inputs=[outputs, enc_outputs, look_ahead_mask, padding_mask])\n",
    "\n",
    "    return tf.keras.Model(\n",
    "        inputs=[inputs, enc_outputs, look_ahead_mask, padding_mask],\n",
    "        outputs=outputs,\n",
    "        name=name)\n",
    "print(\"슝=3\")"
   ]
  },
  {
   "cell_type": "code",
   "execution_count": 37,
   "id": "aware-batch",
   "metadata": {},
   "outputs": [
    {
     "name": "stdout",
     "output_type": "stream",
     "text": [
      "슝=3\n"
     ]
    }
   ],
   "source": [
    "def transformer(vocab_size,\n",
    "                num_layers,\n",
    "                units,\n",
    "                d_model,\n",
    "                num_heads,\n",
    "                dropout,\n",
    "                name=\"transformer\"):\n",
    "    inputs = tf.keras.Input(shape=(None,), name=\"inputs\")\n",
    "    dec_inputs = tf.keras.Input(shape=(None,), name=\"dec_inputs\")\n",
    "\n",
    "    # 인코더에서 패딩을 위한 마스크\n",
    "    enc_padding_mask = tf.keras.layers.Lambda(\n",
    "        create_padding_mask, output_shape=(1, 1, None),\n",
    "        name='enc_padding_mask')(inputs)\n",
    "\n",
    "    # 디코더에서 미래의 토큰을 마스크 하기 위해서 사용합니다.\n",
    "    # 내부적으로 패딩 마스크도 포함되어져 있습니다.\n",
    "    look_ahead_mask = tf.keras.layers.Lambda(\n",
    "        create_look_ahead_mask,\n",
    "        output_shape=(1, None, None),\n",
    "        name='look_ahead_mask')(dec_inputs)\n",
    "\n",
    "    # 두 번째 어텐션 블록에서 인코더의 벡터들을 마스킹\n",
    "    # 디코더에서 패딩을 위한 마스크\n",
    "    dec_padding_mask = tf.keras.layers.Lambda(\n",
    "        create_padding_mask, output_shape=(1, 1, None),\n",
    "        name='dec_padding_mask')(inputs)\n",
    "\n",
    "    # 인코더\n",
    "    enc_outputs = encoder(\n",
    "        vocab_size=vocab_size,\n",
    "        num_layers=num_layers,\n",
    "        units=units,\n",
    "        d_model=d_model,\n",
    "        num_heads=num_heads,\n",
    "        dropout=dropout,\n",
    "    )(inputs=[inputs, enc_padding_mask])\n",
    "\n",
    "    # 디코더\n",
    "    dec_outputs = decoder(\n",
    "        vocab_size=vocab_size,\n",
    "        num_layers=num_layers,\n",
    "        units=units,\n",
    "        d_model=d_model,\n",
    "        num_heads=num_heads,\n",
    "        dropout=dropout,\n",
    "    )(inputs=[dec_inputs, enc_outputs, look_ahead_mask, dec_padding_mask])\n",
    "\n",
    "    # 완전연결층\n",
    "    outputs = tf.keras.layers.Dense(units=vocab_size, name=\"outputs\")(dec_outputs)\n",
    "\n",
    "    return tf.keras.Model(inputs=[inputs, dec_inputs], outputs=outputs, name=name)\n",
    "print(\"슝=3\")"
   ]
  },
  {
   "cell_type": "markdown",
   "id": "affecting-clock",
   "metadata": {},
   "source": [
    "#### # 모델 생성 및 컴파일"
   ]
  },
  {
   "cell_type": "code",
   "execution_count": 38,
   "id": "blind-exclusion",
   "metadata": {},
   "outputs": [
    {
     "name": "stdout",
     "output_type": "stream",
     "text": [
      "Model: \"transformer\"\n",
      "__________________________________________________________________________________________________\n",
      "Layer (type)                    Output Shape         Param #     Connected to                     \n",
      "==================================================================================================\n",
      "inputs (InputLayer)             [(None, None)]       0                                            \n",
      "__________________________________________________________________________________________________\n",
      "dec_inputs (InputLayer)         [(None, None)]       0                                            \n",
      "__________________________________________________________________________________________________\n",
      "enc_padding_mask (Lambda)       (None, 1, 1, None)   0           inputs[0][0]                     \n",
      "__________________________________________________________________________________________________\n",
      "encoder (Functional)            (None, None, 512)    14350848    inputs[0][0]                     \n",
      "                                                                 enc_padding_mask[0][0]           \n",
      "__________________________________________________________________________________________________\n",
      "look_ahead_mask (Lambda)        (None, 1, None, None 0           dec_inputs[0][0]                 \n",
      "__________________________________________________________________________________________________\n",
      "dec_padding_mask (Lambda)       (None, 1, 1, None)   0           inputs[0][0]                     \n",
      "__________________________________________________________________________________________________\n",
      "decoder (Functional)            (None, None, 512)    16454144    dec_inputs[0][0]                 \n",
      "                                                                 encoder[0][0]                    \n",
      "                                                                 look_ahead_mask[0][0]            \n",
      "                                                                 dec_padding_mask[0][0]           \n",
      "__________________________________________________________________________________________________\n",
      "outputs (Dense)                 (None, None, 21865)  11216745    decoder[0][0]                    \n",
      "==================================================================================================\n",
      "Total params: 42,021,737\n",
      "Trainable params: 42,021,737\n",
      "Non-trainable params: 0\n",
      "__________________________________________________________________________________________________\n"
     ]
    }
   ],
   "source": [
    "tf.keras.backend.clear_session()\n",
    "\n",
    "# 하이퍼파라미터\n",
    "NUM_LAYERS = 2 # 인코더와 디코더의 층의 개수\n",
    "D_MODEL = 512 # 인코더와 디코더 내부의 입, 출력의 고정 차원\n",
    "NUM_HEADS = 8 # 멀티 헤드 어텐션에서의 헤드 수 \n",
    "UNITS = 512 # 피드 포워드 신경망의 은닉층의 크기\n",
    "DROPOUT = 0.1 # 드롭아웃의 비율\n",
    "\n",
    "model = transformer(\n",
    "    vocab_size=VOCAB_SIZE,\n",
    "    num_layers=NUM_LAYERS,\n",
    "    units=UNITS,\n",
    "    d_model=D_MODEL,\n",
    "    num_heads=NUM_HEADS,\n",
    "    dropout=DROPOUT)\n",
    "\n",
    "model.summary()"
   ]
  },
  {
   "cell_type": "code",
   "execution_count": 39,
   "id": "endless-cassette",
   "metadata": {},
   "outputs": [
    {
     "name": "stdout",
     "output_type": "stream",
     "text": [
      "슝=3\n"
     ]
    }
   ],
   "source": [
    "def loss_function(y_true, y_pred):\n",
    "    y_true = tf.reshape(y_true, shape=(-1, MAXLEN - 1)) \n",
    "    # 여기 MAXLEN -1을 해주는 이유는 결과 값에서 START_TOKEN 없는 거로 훈련 돼서 나오니까\n",
    "  \n",
    "    loss = tf.keras.losses.SparseCategoricalCrossentropy(\n",
    "        from_logits=True, reduction='none')(y_true, y_pred)\n",
    "\n",
    "    mask = tf.cast(tf.not_equal(y_true, 0), tf.float32)\n",
    "    loss = tf.multiply(loss, mask)\n",
    "\n",
    "    return tf.reduce_mean(loss)\n",
    "print(\"슝=3\")"
   ]
  },
  {
   "cell_type": "code",
   "execution_count": 40,
   "id": "conceptual-premium",
   "metadata": {},
   "outputs": [
    {
     "name": "stdout",
     "output_type": "stream",
     "text": [
      "슝=3\n"
     ]
    }
   ],
   "source": [
    "class CustomSchedule(tf.keras.optimizers.schedules.LearningRateSchedule):\n",
    "\n",
    "    def __init__(self, d_model, warmup_steps=4000):\n",
    "        super(CustomSchedule, self).__init__()\n",
    "\n",
    "        self.d_model = d_model\n",
    "        self.d_model = tf.cast(self.d_model, tf.float32)\n",
    "\n",
    "        self.warmup_steps = warmup_steps\n",
    "\n",
    "    def __call__(self, step):\n",
    "        arg1 = tf.math.rsqrt(step)\n",
    "        arg2 = step * (self.warmup_steps**-1.5)\n",
    "\n",
    "        return tf.math.rsqrt(self.d_model) * tf.math.minimum(arg1, arg2)\n",
    "print(\"슝=3\")"
   ]
  },
  {
   "cell_type": "code",
   "execution_count": 41,
   "id": "heavy-continent",
   "metadata": {},
   "outputs": [
    {
     "data": {
      "text/plain": [
       "Text(0.5, 0, 'Train Step')"
      ]
     },
     "execution_count": 41,
     "metadata": {},
     "output_type": "execute_result"
    },
    {
     "data": {
      "image/png": "[encoded data removed]",
      "text/plain": [
       "<Figure size 432x288 with 1 Axes>"
      ]
     },
     "metadata": {
      "needs_background": "light"
     },
     "output_type": "display_data"
    }
   ],
   "source": [
    "# 시각화해보기\n",
    "sample_learning_rate = CustomSchedule(d_model=256)\n",
    "\n",
    "plt.plot(sample_learning_rate(tf.range(200000, dtype=tf.float32)))\n",
    "plt.ylabel(\"Learning Rate\")\n",
    "plt.xlabel(\"Train Step\")"
   ]
  },
  {
   "cell_type": "code",
   "execution_count": 42,
   "id": "female-relationship",
   "metadata": {},
   "outputs": [
    {
     "name": "stdout",
     "output_type": "stream",
     "text": [
      "슝=3\n"
     ]
    }
   ],
   "source": [
    "learning_rate = CustomSchedule(D_MODEL)\n",
    "\n",
    "optimizer = tf.keras.optimizers.Adam(\n",
    "      learning_rate, beta_1=0.9, beta_2=0.98, epsilon=1e-9)\n",
    "\n",
    "def accuracy(y_true, y_pred):\n",
    "    y_true = tf.reshape(y_true, shape=(-1, MAXLEN - 1))\n",
    "    return tf.keras.metrics.sparse_categorical_accuracy(y_true, y_pred)\n",
    "\n",
    "model.compile(optimizer=optimizer, loss=loss_function, metrics=[accuracy])\n",
    "print(\"슝=3\")"
   ]
  },
  {
   "cell_type": "code",
   "execution_count": 43,
   "id": "identical-venice",
   "metadata": {
    "scrolled": true
   },
   "outputs": [
    {
     "name": "stdout",
     "output_type": "stream",
     "text": [
      "Epoch 1/40\n",
      "185/185 [==============================] - 51s 235ms/step - loss: 2.1678 - accuracy: 0.0285\n",
      "Epoch 2/40\n",
      "185/185 [==============================] - 43s 233ms/step - loss: 1.5722 - accuracy: 0.0771\n",
      "Epoch 3/40\n",
      "185/185 [==============================] - 43s 233ms/step - loss: 1.2707 - accuracy: 0.0781\n",
      "Epoch 4/40\n",
      "185/185 [==============================] - 43s 234ms/step - loss: 1.1603 - accuracy: 0.0830\n",
      "Epoch 5/40\n",
      "185/185 [==============================] - 43s 232ms/step - loss: 1.0812 - accuracy: 0.0872\n",
      "Epoch 6/40\n",
      "185/185 [==============================] - 43s 232ms/step - loss: 0.9858 - accuracy: 0.0934\n",
      "Epoch 7/40\n",
      "185/185 [==============================] - 43s 231ms/step - loss: 0.8840 - accuracy: 0.1035\n",
      "Epoch 8/40\n",
      "185/185 [==============================] - 43s 234ms/step - loss: 0.7691 - accuracy: 0.1187\n",
      "Epoch 9/40\n",
      "185/185 [==============================] - 43s 235ms/step - loss: 0.6300 - accuracy: 0.1346\n",
      "Epoch 10/40\n",
      "185/185 [==============================] - 43s 232ms/step - loss: 0.5021 - accuracy: 0.1523\n",
      "Epoch 11/40\n",
      "185/185 [==============================] - 43s 233ms/step - loss: 0.3779 - accuracy: 0.1707\n",
      "Epoch 12/40\n",
      "185/185 [==============================] - 43s 233ms/step - loss: 0.2634 - accuracy: 0.1862\n",
      "Epoch 13/40\n",
      "185/185 [==============================] - 43s 231ms/step - loss: 0.1750 - accuracy: 0.2023\n",
      "Epoch 14/40\n",
      "185/185 [==============================] - 43s 233ms/step - loss: 0.1103 - accuracy: 0.2122\n",
      "Epoch 15/40\n",
      "185/185 [==============================] - 43s 233ms/step - loss: 0.0674 - accuracy: 0.2201\n",
      "Epoch 16/40\n",
      "185/185 [==============================] - 44s 235ms/step - loss: 0.0457 - accuracy: 0.2227\n",
      "Epoch 17/40\n",
      "185/185 [==============================] - 43s 235ms/step - loss: 0.0347 - accuracy: 0.2233\n",
      "Epoch 18/40\n",
      "185/185 [==============================] - 43s 232ms/step - loss: 0.0303 - accuracy: 0.2229\n",
      "Epoch 19/40\n",
      "185/185 [==============================] - 43s 233ms/step - loss: 0.0278 - accuracy: 0.2233\n",
      "Epoch 20/40\n",
      "185/185 [==============================] - 43s 233ms/step - loss: 0.0281 - accuracy: 0.2228\n",
      "Epoch 21/40\n",
      "185/185 [==============================] - 43s 233ms/step - loss: 0.0267 - accuracy: 0.2242\n",
      "Epoch 22/40\n",
      "185/185 [==============================] - 43s 233ms/step - loss: 0.0250 - accuracy: 0.2235\n",
      "Epoch 23/40\n",
      "185/185 [==============================] - 43s 233ms/step - loss: 0.0246 - accuracy: 0.2235\n",
      "Epoch 24/40\n",
      "185/185 [==============================] - 43s 235ms/step - loss: 0.0226 - accuracy: 0.2239\n",
      "Epoch 25/40\n",
      "185/185 [==============================] - 43s 232ms/step - loss: 0.0198 - accuracy: 0.2244\n",
      "Epoch 26/40\n",
      "185/185 [==============================] - 43s 234ms/step - loss: 0.0176 - accuracy: 0.2254\n",
      "Epoch 27/40\n",
      "185/185 [==============================] - 43s 233ms/step - loss: 0.0160 - accuracy: 0.2250\n",
      "Epoch 28/40\n",
      "185/185 [==============================] - 44s 235ms/step - loss: 0.0144 - accuracy: 0.2257\n",
      "Epoch 29/40\n",
      "185/185 [==============================] - 43s 235ms/step - loss: 0.0136 - accuracy: 0.2243\n",
      "Epoch 30/40\n",
      "185/185 [==============================] - 43s 234ms/step - loss: 0.0117 - accuracy: 0.2257\n",
      "Epoch 31/40\n",
      "185/185 [==============================] - 43s 234ms/step - loss: 0.0123 - accuracy: 0.2265\n",
      "Epoch 32/40\n",
      "185/185 [==============================] - 43s 234ms/step - loss: 0.0105 - accuracy: 0.2258\n",
      "Epoch 33/40\n",
      "185/185 [==============================] - 43s 234ms/step - loss: 0.0105 - accuracy: 0.2267\n",
      "Epoch 34/40\n",
      "185/185 [==============================] - 43s 233ms/step - loss: 0.0085 - accuracy: 0.2276\n",
      "Epoch 35/40\n",
      "185/185 [==============================] - 43s 233ms/step - loss: 0.0099 - accuracy: 0.2272\n",
      "Epoch 36/40\n",
      "185/185 [==============================] - 44s 235ms/step - loss: 0.0082 - accuracy: 0.2267\n",
      "Epoch 37/40\n",
      "185/185 [==============================] - 43s 233ms/step - loss: 0.0077 - accuracy: 0.2279\n",
      "Epoch 38/40\n",
      "185/185 [==============================] - 43s 231ms/step - loss: 0.0080 - accuracy: 0.2276\n",
      "Epoch 39/40\n",
      "185/185 [==============================] - 43s 232ms/step - loss: 0.0068 - accuracy: 0.2283\n",
      "Epoch 40/40\n",
      "185/185 [==============================] - 43s 233ms/step - loss: 0.0071 - accuracy: 0.2285\n"
     ]
    }
   ],
   "source": [
    "EPOCHS = 40\n",
    "history = model.fit(dataset, epochs=EPOCHS, verbose=1)"
   ]
  },
  {
   "cell_type": "code",
   "execution_count": 44,
   "id": "burning-shakespeare",
   "metadata": {},
   "outputs": [
    {
     "data": {
      "image/png": "[encoded data removed]",
      "text/plain": [
       "<Figure size 432x288 with 2 Axes>"
      ]
     },
     "metadata": {
      "needs_background": "light"
     },
     "output_type": "display_data"
    }
   ],
   "source": [
    "train_loss = history.history['loss']\n",
    "train_accuracy = history.history['accuracy']\n",
    "\n",
    "plt.figure()\n",
    "plt.subplot(1, 2, 1)\n",
    "plt.plot(train_loss, label='train loss')\n",
    "plt.title('loss')\n",
    "plt.xlabel('epochs')\n",
    "\n",
    "plt.subplot(1, 2, 2)\n",
    "plt.plot(train_accuracy, label='train accuracy')\n",
    "plt.title('accuracy')\n",
    "plt.xlabel('epochs')\n",
    "\n",
    "plt.show()"
   ]
  },
  {
   "cell_type": "markdown",
   "id": "offensive-interaction",
   "metadata": {},
   "source": [
    "#### Step 5. 모델 평가하기"
   ]
  },
  {
   "cell_type": "code",
   "execution_count": 45,
   "id": "sound-theme",
   "metadata": {},
   "outputs": [
    {
     "name": "stdout",
     "output_type": "stream",
     "text": [
      "슝=3\n"
     ]
    }
   ],
   "source": [
    "# 위의 과정을 모두 담은 decoder_inference() 함수 선언\n",
    "def decoder_inference(sentence):\n",
    "    sentence = preprocess_sentence(sentence)\n",
    "\n",
    "    # 입력된 문장을 정수 인코딩 후, 시작 토큰과 종료 토큰을 앞뒤로 추가.\n",
    "    # ex) Where have you been? → [[8331   86   30    5 1059    7 8332]]\n",
    "    sentence = tf.expand_dims(\n",
    "        START_TOKEN + tokenizer.encode(sentence) + END_TOKEN, axis=0)\n",
    "\n",
    "    # 디코더의 현재까지의 예측한 출력 시퀀스가 지속적으로 저장되는 변수.\n",
    "    # 처음에는 예측한 내용이 없음으로 시작 토큰만 별도 저장. ex) 8331\n",
    "    output_sequence = tf.expand_dims(START_TOKEN, 0)\n",
    "\n",
    "    # 디코더의 인퍼런스 단계\n",
    "    for i in range(MAXLEN):\n",
    "        # 디코더는 최대 MAX_LENGTH의 길이만큼 다음 단어 예측을 반복합니다.\n",
    "        predictions = model(inputs=[sentence, output_sequence], training=False)\n",
    "        predictions = predictions[:, -1:, :]\n",
    "\n",
    "        # 현재 예측한 단어의 정수\n",
    "        predicted_id = tf.cast(tf.argmax(predictions, axis=-1), tf.int32)\n",
    "\n",
    "        # 만약 현재 예측한 단어가 종료 토큰이라면 for문을 종료\n",
    "        if tf.equal(predicted_id, END_TOKEN[0]):\n",
    "            break\n",
    "\n",
    "        # 예측한 단어들은 지속적으로 output_sequence에 추가됩니다.\n",
    "        # 이 output_sequence는 다시 디코더의 입력이 됩니다.\n",
    "        output_sequence = tf.concat([output_sequence, predicted_id], axis=-1)\n",
    "\n",
    "    return tf.squeeze(output_sequence, axis=0)\n",
    "print(\"슝=3\")"
   ]
  },
  {
   "cell_type": "code",
   "execution_count": 46,
   "id": "mathematical-utility",
   "metadata": {},
   "outputs": [
    {
     "name": "stdout",
     "output_type": "stream",
     "text": [
      "슝=3\n"
     ]
    }
   ],
   "source": [
    "def sentence_generation(sentence):\n",
    "    # 입력 문장에 대해서 디코더를 동작 시켜 예측된 정수 시퀀스를 리턴받습니다.\n",
    "    prediction = decoder_inference(sentence)\n",
    "\n",
    "    # 정수 시퀀스를 다시 텍스트 시퀀스로 변환합니다.\n",
    "    predicted_sentence = tokenizer.decode(\n",
    "          [i for i in prediction if i < tokenizer.vocab_size])\n",
    "\n",
    "    print('입력 : {}'.format(sentence))\n",
    "    print('출력 : {}'.format(predicted_sentence))\n",
    "\n",
    "    return predicted_sentence\n",
    "print(\"슝=3\")"
   ]
  },
  {
   "cell_type": "code",
   "execution_count": 47,
   "id": "average-edmonton",
   "metadata": {},
   "outputs": [
    {
     "name": "stdout",
     "output_type": "stream",
     "text": [
      "입력 : 오늘은 좀 힘든 날이었어\n",
      "출력 : 공부 도와달라고 해보세요 .\n"
     ]
    },
    {
     "data": {
      "text/plain": [
       "'공부 도와달라고 해보세요 .'"
      ]
     },
     "execution_count": 47,
     "metadata": {},
     "output_type": "execute_result"
    }
   ],
   "source": [
    "sentence_generation('오늘은 좀 힘든 날이었어')"
   ]
  },
  {
   "cell_type": "code",
   "execution_count": 48,
   "id": "different-program",
   "metadata": {},
   "outputs": [
    {
     "name": "stdout",
     "output_type": "stream",
     "text": [
      "입력 : 어디 놀러가볼까?\n",
      "출력 : 달라지는게 없다면 지금이 좋을지도 몰라요 .\n"
     ]
    },
    {
     "data": {
      "text/plain": [
       "'달라지는게 없다면 지금이 좋을지도 몰라요 .'"
      ]
     },
     "execution_count": 48,
     "metadata": {},
     "output_type": "execute_result"
    }
   ],
   "source": [
    "sentence_generation('어디 놀러가볼까?')"
   ]
  },
  {
   "cell_type": "code",
   "execution_count": 49,
   "id": "motivated-marble",
   "metadata": {},
   "outputs": [
    {
     "name": "stdout",
     "output_type": "stream",
     "text": [
      "입력 : 사랑한다 말해줘!\n",
      "출력 : 마음의 정리가 끝났길 바랍니다 .\n"
     ]
    },
    {
     "data": {
      "text/plain": [
       "'마음의 정리가 끝났길 바랍니다 .'"
      ]
     },
     "execution_count": 49,
     "metadata": {},
     "output_type": "execute_result"
    }
   ],
   "source": [
    "sentence_generation('사랑한다 말해줘!')"
   ]
  },
  {
   "cell_type": "code",
   "execution_count": 50,
   "id": "senior-hours",
   "metadata": {},
   "outputs": [
    {
     "name": "stdout",
     "output_type": "stream",
     "text": [
      "입력 : 카페 갈까?\n",
      "출력 : 카페 데이트 좋죠 .\n"
     ]
    },
    {
     "data": {
      "text/plain": [
       "'카페 데이트 좋죠 .'"
      ]
     },
     "execution_count": 50,
     "metadata": {},
     "output_type": "execute_result"
    }
   ],
   "source": [
    "sentence_generation('카페 갈까?')"
   ]
  },
  {
   "cell_type": "code",
   "execution_count": 51,
   "id": "basic-system",
   "metadata": {},
   "outputs": [
    {
     "name": "stdout",
     "output_type": "stream",
     "text": [
      "입력 : $%**\n",
      "출력 : 사랑의 빠르게 흘러 가죠 .\n"
     ]
    },
    {
     "data": {
      "text/plain": [
       "'사랑의 빠르게 흘러 가죠 .'"
      ]
     },
     "execution_count": 51,
     "metadata": {},
     "output_type": "execute_result"
    }
   ],
   "source": [
    "sentence_generation('$%**')"
   ]
  },
  {
   "cell_type": "code",
   "execution_count": 52,
   "id": "atlantic-liverpool",
   "metadata": {},
   "outputs": [
    {
     "name": "stdout",
     "output_type": "stream",
     "text": [
      "입력 : 어디 카페가 좋아?\n",
      "출력 : 연락 안되면 걱정된다고 꼭 중간중간 연락 달라고 해보세요 .\n"
     ]
    },
    {
     "data": {
      "text/plain": [
       "'연락 안되면 걱정된다고 꼭 중간중간 연락 달라고 해보세요 .'"
      ]
     },
     "execution_count": 52,
     "metadata": {},
     "output_type": "execute_result"
    }
   ],
   "source": [
    "sentence_generation('어디 카페가 좋아?')"
   ]
  },
  {
   "cell_type": "code",
   "execution_count": 53,
   "id": "anonymous-collar",
   "metadata": {},
   "outputs": [
    {
     "name": "stdout",
     "output_type": "stream",
     "text": [
      "입력 : 12시 땡!\n",
      "출력 : 하루가 또 가네요 .\n"
     ]
    },
    {
     "data": {
      "text/plain": [
       "'하루가 또 가네요 .'"
      ]
     },
     "execution_count": 53,
     "metadata": {},
     "output_type": "execute_result"
    }
   ],
   "source": [
    "sentence_generation('12시 땡!')"
   ]
  },
  {
   "cell_type": "markdown",
   "id": "italian-crash",
   "metadata": {},
   "source": [
    "#### 결론 : 약간은 미숙한 응답들이 많다."
   ]
  },
  {
   "cell_type": "markdown",
   "id": "unknown-central",
   "metadata": {},
   "source": [
    "## 회고\n",
    "#### Point 1) 한국어 전처리 및 예측\n",
    "- 영어 전처리만 보다가 한국어 전처리하려니까 많은 부분이 다르다.\n",
    "- 일단 사용하는 punctuation이 살짝 다르고(한국말에서는 소유격을 잘 안 쓴다)\n",
    "- 그리고 대문자도 없다는 점이 어쩌면 더 단순한 것 같으면서도 뭔가 빼먹은 듯한 느낌을 준다...\n",
    "- 실습 시 영어 문장 대답은 별 기대를 안했는데 한국어는 좋은 예측이 나오길 많이 기대했다.(그래서 `d_model`도 512로 올렸다.)\n",
    "- 그리고 결과를 봤는데 정말 간단한 문장 혹은 훈련 데이터와 정확히 맞아떨어지는 것들만 그럭저럭 괜찮은 답변이 온 것 같다.\n",
    "  - 입력 : `카페 갈까?` 출력 : `카페 데이트 좋죠 .`\n",
    "- 설명 보니까 BERT도 1달 동안 훈련시킨 거라고 하니까 어쩌면 현재 학습하는 수준에서는 이 정도 성과가 기대할 수 있는 수준인 것 같다.\n",
    "\n",
    "#### Point 2) `len(string)`, `len(list)`는 다르다...\n",
    "- 한 문장 내 '단어'의 갯수를 확인하는 게 우리는 중요하다.\n",
    "- 왜냐하면 그것에 따라 패딩할 때 `MAX_LENGTH`를 지정해주는 것이니..\n",
    "- 그런데 아래와 같이 코드 하니 밑의 그래프와 같은 결과가 나왔다.\n",
    "```python\n",
    "q_lengths = [len(sentence) for sentence in df['Q']]\n",
    "a_lengths = [len(sentence) for sentence in df['A']]\n",
    "```\n",
    "![](https://images.velog.io/images/moondeokjong/post/de6a608a-51be-4560-8133-b70b15f6c4a1/Screenshot%202022-02-17%20at%203.52.42%20PM.png)\n",
    "- 그리고 이것이 문제되는 줄도 모르고 패딩하다가 전처리가 잘됐는지 확인하는 '습관'을 실행하던 중 알게됐다.\n",
    "- 내가 당시 정한 `MAX_LENGTH`(65) 덕분에 아무 데이터도 제외되지 않았음을...(물론 나중엔 데이터가 적어서 일부러 다 포함하려 하긴 했지만...)\n",
    "- 그리고 다시 확인해 보니 맥시멈으로서 76개의 len을 가졌다던 그 문장은 실은 아래의 문장이었다.\n",
    "```python\n",
    "10808    연애는 문제가 있으면 문제를 해결 하기 위해 함께 노력하고 그 속에서 더욱 단단해지...\n",
    "Name: A, dtype: object\n",
    "```\n",
    "- 시각화가 아닌 텍스트로 이루어지는 프로그래밍에서는 내가 실행한 것과 그것의 결과를 확인하는 습관이 참 중요한 것 같다...\n",
    "\n",
    "#### Point 3) 갈수록 어려워지는 LMS 노드...\n",
    "- 저번주 언젠가를 기점으로 한번에 이해하기 어려운 개념과 코드들이 많이 등장하고 있다.\n",
    "- 그런데 해커톤 같은 건 실제 적용스럽게 하려면 더 어려울 텐데...\n",
    "- 이럴 때일수록 건강한 정신이 더 중요해지는 것 같다.\n",
    "- 욕심 부리지 말고 내 페이스에 맞게 오래오래 행복하게 공부하려던 초심을 잃지 말자"
   ]
  }
 ],
 "metadata": {
  "kernelspec": {
   "display_name": "Python 3",
   "language": "python",
   "name": "python3"
  },
  "language_info": {
   "codemirror_mode": {
    "name": "ipython",
    "version": 3
   },
   "file_extension": ".py",
   "mimetype": "text/x-python",
   "name": "python",
   "nbconvert_exporter": "python",
   "pygments_lexer": "ipython3",
   "version": "3.7.9"
  }
 },
 "nbformat": 4,
 "nbformat_minor": 5
}
